{
 "cells": [
  {
   "cell_type": "code",
   "execution_count": 10,
   "metadata": {},
   "outputs": [],
   "source": [
    "# Convert part 1 into dataframe seperatly since it has header information\n",
    "cr19_part_1_df <- read.table(\"raw_data_csvs/cr19_part1.csv\", sep = \",\", header = TRUE, fill=TRUE)"
   ]
  },
  {
   "cell_type": "code",
   "execution_count": 3,
   "metadata": {},
   "outputs": [],
   "source": [
    "# Store header from 1st csv for later\n",
    "cr19_header <- colnames(cr19_part_1_df)"
   ]
  },
  {
   "cell_type": "code",
   "execution_count": 4,
   "metadata": {},
   "outputs": [],
   "source": [
    "# Create vector of file paths for csv parts 2 through 6 which have no header\n",
    "csv_files_without_headers <- c(\"raw_data_csvs/cr19_part5.csv\", \n",
    "                               \"raw_data_csvs/cr19_part3.csv\", \n",
    "                               \"raw_data_csvs/cr19_part4.csv\",\n",
    "                               \"raw_data_csvs/cr19_part5.csv\", \n",
    "                               \"raw_data_csvs/cr19_part6.csv\")"
   ]
  },
  {
   "cell_type": "code",
   "execution_count": 5,
   "metadata": {},
   "outputs": [],
   "source": [
    "# Merge csvs 2 through 6\n",
    "# Source: https://stackoverflow.com/a/40349019/6328256\n",
    "cr19_part_2_to_6_df <- do.call(rbind, \n",
    "                               lapply(csv_files_without_headers, \n",
    "                                      read.csv, header = FALSE, \n",
    "                                      stringsAsFactors = FALSE)\n",
    "                              )"
   ]
  },
  {
   "cell_type": "code",
   "execution_count": 6,
   "metadata": {},
   "outputs": [],
   "source": [
    "# Added header to cr19_part_2_to_6_df\n",
    "# Source: https://stackoverflow.com/a/14022113/6328256\n",
    "colnames(cr19_part_2_to_6_df) <- cr19_header"
   ]
  },
  {
   "cell_type": "code",
   "execution_count": 7,
   "metadata": {},
   "outputs": [
    {
     "data": {
      "text/html": [
       "<table>\n",
       "<caption>A data.frame: 203013 × 144</caption>\n",
       "<thead>\n",
       "\t<tr><th scope=col>FISCALYR</th><th scope=col>CIRCUIT</th><th scope=col>DISTRICT</th><th scope=col>OFFICE</th><th scope=col>DOCKET</th><th scope=col>DEFNO</th><th scope=col>CTDEF</th><th scope=col>NAME</th><th scope=col>REOPSEQ</th><th scope=col>TYPEREG</th><th scope=col>⋯</th><th scope=col>CTTRTRN</th><th scope=col>CTTR</th><th scope=col>CTTRWOR</th><th scope=col>CTTRR</th><th scope=col>CTPN</th><th scope=col>CTPNWOF</th><th scope=col>SOURCE</th><th scope=col>VER</th><th scope=col>LOADDATE</th><th scope=col>TAPEYEAR</th></tr>\n",
       "\t<tr><th scope=col>&lt;int&gt;</th><th scope=col>&lt;int&gt;</th><th scope=col>&lt;chr&gt;</th><th scope=col>&lt;chr&gt;</th><th scope=col>&lt;int&gt;</th><th scope=col>&lt;int&gt;</th><th scope=col>&lt;int&gt;</th><th scope=col>&lt;lgl&gt;</th><th scope=col>&lt;int&gt;</th><th scope=col>&lt;fct&gt;</th><th scope=col>⋯</th><th scope=col>&lt;int&gt;</th><th scope=col>&lt;int&gt;</th><th scope=col>&lt;int&gt;</th><th scope=col>&lt;int&gt;</th><th scope=col>&lt;int&gt;</th><th scope=col>&lt;int&gt;</th><th scope=col>&lt;fct&gt;</th><th scope=col>&lt;int&gt;</th><th scope=col>&lt;fct&gt;</th><th scope=col>&lt;int&gt;</th></tr>\n",
       "</thead>\n",
       "<tbody>\n",
       "\t<tr><td>2019</td><td>0</td><td>90</td><td>1</td><td>     6</td><td> 2</td><td>-8</td><td>NA</td><td>0</td><td>CR</td><td>⋯</td><td>0</td><td>0</td><td>0</td><td>0</td><td>1</td><td>0</td><td>MASTER</td><td>0</td><td>2012-03-21</td><td>2099</td></tr>\n",
       "\t<tr><td>2019</td><td>0</td><td>90</td><td>1</td><td>    27</td><td> 2</td><td>-8</td><td>NA</td><td>0</td><td>CR</td><td>⋯</td><td>0</td><td>0</td><td>0</td><td>0</td><td>1</td><td>1</td><td>MASTER</td><td>0</td><td>2012-03-21</td><td>2099</td></tr>\n",
       "\t<tr><td>2019</td><td>0</td><td>90</td><td>1</td><td>    55</td><td> 2</td><td>-8</td><td>NA</td><td>0</td><td>CR</td><td>⋯</td><td>0</td><td>0</td><td>0</td><td>0</td><td>1</td><td>0</td><td>MASTER</td><td>0</td><td>2012-03-21</td><td>2099</td></tr>\n",
       "\t<tr><td>2019</td><td>0</td><td>90</td><td>1</td><td>    58</td><td> 1</td><td> 1</td><td>NA</td><td>0</td><td>CR</td><td>⋯</td><td>0</td><td>0</td><td>0</td><td>0</td><td>1</td><td>1</td><td>MASTER</td><td>0</td><td>2012-03-21</td><td>2099</td></tr>\n",
       "\t<tr><td>2019</td><td>0</td><td>90</td><td>1</td><td>    69</td><td> 1</td><td>-8</td><td>NA</td><td>0</td><td>CR</td><td>⋯</td><td>0</td><td>0</td><td>0</td><td>0</td><td>1</td><td>0</td><td>MASTER</td><td>0</td><td>2012-03-21</td><td>2099</td></tr>\n",
       "\t<tr><td>2019</td><td>0</td><td>90</td><td>1</td><td>    79</td><td> 1</td><td>-8</td><td>NA</td><td>0</td><td>CR</td><td>⋯</td><td>0</td><td>0</td><td>0</td><td>0</td><td>1</td><td>1</td><td>MASTER</td><td>0</td><td>2012-03-21</td><td>2099</td></tr>\n",
       "\t<tr><td>2019</td><td>0</td><td>90</td><td>1</td><td>    79</td><td> 2</td><td>-8</td><td>NA</td><td>0</td><td>CR</td><td>⋯</td><td>0</td><td>0</td><td>0</td><td>0</td><td>1</td><td>1</td><td>MASTER</td><td>0</td><td>2012-03-21</td><td>2099</td></tr>\n",
       "\t<tr><td>2019</td><td>0</td><td>90</td><td>1</td><td>    89</td><td> 1</td><td>-8</td><td>NA</td><td>0</td><td>CR</td><td>⋯</td><td>0</td><td>0</td><td>0</td><td>0</td><td>1</td><td>0</td><td>MASTER</td><td>0</td><td>2012-03-21</td><td>2099</td></tr>\n",
       "\t<tr><td>2019</td><td>0</td><td>90</td><td>1</td><td>    97</td><td> 1</td><td>-8</td><td>NA</td><td>0</td><td>CR</td><td>⋯</td><td>0</td><td>0</td><td>0</td><td>0</td><td>1</td><td>0</td><td>MASTER</td><td>0</td><td>2012-03-21</td><td>2099</td></tr>\n",
       "\t<tr><td>2019</td><td>0</td><td>90</td><td>1</td><td>   112</td><td> 1</td><td>-8</td><td>NA</td><td>0</td><td>CR</td><td>⋯</td><td>0</td><td>0</td><td>0</td><td>0</td><td>1</td><td>1</td><td>MASTER</td><td>0</td><td>2012-03-21</td><td>2099</td></tr>\n",
       "\t<tr><td>2019</td><td>0</td><td>90</td><td>1</td><td>   112</td><td> 2</td><td>-8</td><td>NA</td><td>0</td><td>CR</td><td>⋯</td><td>0</td><td>0</td><td>0</td><td>0</td><td>1</td><td>1</td><td>MASTER</td><td>0</td><td>2012-03-21</td><td>2099</td></tr>\n",
       "\t<tr><td>2019</td><td>0</td><td>90</td><td>1</td><td>   112</td><td> 3</td><td> 1</td><td>NA</td><td>0</td><td>CR</td><td>⋯</td><td>0</td><td>0</td><td>0</td><td>0</td><td>1</td><td>1</td><td>MASTER</td><td>0</td><td>2012-03-21</td><td>2099</td></tr>\n",
       "\t<tr><td>2019</td><td>0</td><td>90</td><td>1</td><td>   122</td><td> 1</td><td>-8</td><td>NA</td><td>0</td><td>CR</td><td>⋯</td><td>0</td><td>0</td><td>0</td><td>0</td><td>1</td><td>0</td><td>MASTER</td><td>0</td><td>2012-03-21</td><td>2099</td></tr>\n",
       "\t<tr><td>2019</td><td>0</td><td>90</td><td>1</td><td>   122</td><td> 2</td><td>-8</td><td>NA</td><td>0</td><td>CR</td><td>⋯</td><td>0</td><td>0</td><td>0</td><td>0</td><td>1</td><td>0</td><td>MASTER</td><td>0</td><td>2012-03-21</td><td>2099</td></tr>\n",
       "\t<tr><td>2019</td><td>0</td><td>90</td><td>1</td><td>   149</td><td> 1</td><td>-8</td><td>NA</td><td>0</td><td>CR</td><td>⋯</td><td>0</td><td>0</td><td>0</td><td>0</td><td>1</td><td>1</td><td>MASTER</td><td>0</td><td>2012-03-21</td><td>2099</td></tr>\n",
       "\t<tr><td>2019</td><td>0</td><td>90</td><td>1</td><td>   152</td><td> 1</td><td>-8</td><td>NA</td><td>0</td><td>CR</td><td>⋯</td><td>0</td><td>0</td><td>0</td><td>0</td><td>1</td><td>1</td><td>MASTER</td><td>0</td><td>2012-03-21</td><td>2099</td></tr>\n",
       "\t<tr><td>2019</td><td>0</td><td>90</td><td>1</td><td>   157</td><td>13</td><td>13</td><td>NA</td><td>0</td><td>CR</td><td>⋯</td><td>0</td><td>0</td><td>0</td><td>0</td><td>1</td><td>1</td><td>MASTER</td><td>0</td><td>2012-03-21</td><td>2099</td></tr>\n",
       "\t<tr><td>2019</td><td>0</td><td>90</td><td>1</td><td>   188</td><td> 1</td><td>-8</td><td>NA</td><td>0</td><td>CR</td><td>⋯</td><td>0</td><td>0</td><td>0</td><td>0</td><td>1</td><td>0</td><td>MASTER</td><td>0</td><td>2012-03-21</td><td>2099</td></tr>\n",
       "\t<tr><td>2019</td><td>0</td><td>90</td><td>1</td><td>   189</td><td> 3</td><td>-8</td><td>NA</td><td>0</td><td>CR</td><td>⋯</td><td>0</td><td>0</td><td>0</td><td>0</td><td>1</td><td>0</td><td>MASTER</td><td>0</td><td>2012-03-21</td><td>2099</td></tr>\n",
       "\t<tr><td>2019</td><td>0</td><td>90</td><td>1</td><td>   189</td><td> 5</td><td>-8</td><td>NA</td><td>0</td><td>CR</td><td>⋯</td><td>0</td><td>0</td><td>0</td><td>0</td><td>1</td><td>1</td><td>MASTER</td><td>0</td><td>2012-03-21</td><td>2099</td></tr>\n",
       "\t<tr><td>2019</td><td>0</td><td>90</td><td>1</td><td>   189</td><td> 6</td><td>-8</td><td>NA</td><td>0</td><td>CR</td><td>⋯</td><td>0</td><td>0</td><td>0</td><td>0</td><td>1</td><td>1</td><td>MASTER</td><td>0</td><td>2012-03-21</td><td>2099</td></tr>\n",
       "\t<tr><td>2019</td><td>0</td><td>90</td><td>1</td><td>   209</td><td> 1</td><td>-8</td><td>NA</td><td>0</td><td>CR</td><td>⋯</td><td>0</td><td>0</td><td>0</td><td>0</td><td>1</td><td>1</td><td>MASTER</td><td>0</td><td>2012-03-21</td><td>2099</td></tr>\n",
       "\t<tr><td>2019</td><td>0</td><td>90</td><td>1</td><td>   245</td><td> 1</td><td> 1</td><td>NA</td><td>1</td><td>CR</td><td>⋯</td><td>0</td><td>0</td><td>0</td><td>0</td><td>1</td><td>1</td><td>MASTER</td><td>0</td><td>2012-03-21</td><td>2099</td></tr>\n",
       "\t<tr><td>2019</td><td>0</td><td>90</td><td>1</td><td>   375</td><td> 2</td><td> 2</td><td>NA</td><td>0</td><td>CR</td><td>⋯</td><td>0</td><td>0</td><td>0</td><td>0</td><td>1</td><td>1</td><td>MASTER</td><td>0</td><td>2012-03-21</td><td>2099</td></tr>\n",
       "\t<tr><td>2019</td><td>0</td><td>90</td><td>1</td><td>   375</td><td> 3</td><td> 3</td><td>NA</td><td>0</td><td>CR</td><td>⋯</td><td>0</td><td>0</td><td>0</td><td>0</td><td>1</td><td>1</td><td>MASTER</td><td>0</td><td>2012-03-21</td><td>2099</td></tr>\n",
       "\t<tr><td>2019</td><td>0</td><td>90</td><td>1</td><td>   425</td><td> 5</td><td>-8</td><td>NA</td><td>0</td><td>CR</td><td>⋯</td><td>0</td><td>0</td><td>0</td><td>0</td><td>1</td><td>0</td><td>MASTER</td><td>0</td><td>2012-03-21</td><td>2099</td></tr>\n",
       "\t<tr><td>2019</td><td>0</td><td>90</td><td>1</td><td>   429</td><td> 1</td><td>-8</td><td>NA</td><td>0</td><td>CR</td><td>⋯</td><td>0</td><td>0</td><td>0</td><td>0</td><td>1</td><td>1</td><td>MASTER</td><td>0</td><td>2012-03-21</td><td>2099</td></tr>\n",
       "\t<tr><td>2019</td><td>0</td><td>90</td><td>1</td><td>  9999</td><td> 1</td><td>-8</td><td>NA</td><td>0</td><td>CR</td><td>⋯</td><td>0</td><td>0</td><td>0</td><td>0</td><td>1</td><td>0</td><td>MASTER</td><td>0</td><td>2012-03-21</td><td>2099</td></tr>\n",
       "\t<tr><td>2019</td><td>0</td><td>90</td><td>1</td><td>100011</td><td> 1</td><td>-8</td><td>NA</td><td>0</td><td>CR</td><td>⋯</td><td>0</td><td>0</td><td>0</td><td>0</td><td>1</td><td>1</td><td>MASTER</td><td>0</td><td>2012-03-21</td><td>2099</td></tr>\n",
       "\t<tr><td>2019</td><td>0</td><td>90</td><td>1</td><td>100012</td><td> 1</td><td>-8</td><td>NA</td><td>0</td><td>CR</td><td>⋯</td><td>0</td><td>0</td><td>0</td><td>0</td><td>1</td><td>1</td><td>MASTER</td><td>0</td><td>2012-03-21</td><td>2099</td></tr>\n",
       "\t<tr><td>⋮</td><td>⋮</td><td>⋮</td><td>⋮</td><td>⋮</td><td>⋮</td><td>⋮</td><td>⋮</td><td>⋮</td><td>⋮</td><td>⋱</td><td>⋮</td><td>⋮</td><td>⋮</td><td>⋮</td><td>⋮</td><td>⋮</td><td>⋮</td><td>⋮</td><td>⋮</td><td>⋮</td></tr>\n",
       "\t<tr><td>2019</td><td>11</td><td>3J</td><td>6</td><td>1800014</td><td> 3</td><td> 3</td><td>NA</td><td>0</td><td>CR</td><td>⋯</td><td>1</td><td>1</td><td>1</td><td>0</td><td>0</td><td>0</td><td>CMECF </td><td>1</td><td>2019-07-09</td><td>2019</td></tr>\n",
       "\t<tr><td>2019</td><td>11</td><td>3J</td><td>6</td><td>1800014</td><td> 4</td><td> 4</td><td>NA</td><td>0</td><td>CR</td><td>⋯</td><td>1</td><td>1</td><td>1</td><td>0</td><td>0</td><td>0</td><td>CMECF </td><td>1</td><td>2019-06-07</td><td>2019</td></tr>\n",
       "\t<tr><td>2019</td><td>11</td><td>3J</td><td>6</td><td>1800014</td><td> 5</td><td> 5</td><td>NA</td><td>0</td><td>CR</td><td>⋯</td><td>1</td><td>1</td><td>1</td><td>0</td><td>0</td><td>0</td><td>CMECF </td><td>1</td><td>2019-07-09</td><td>2019</td></tr>\n",
       "\t<tr><td>2019</td><td>11</td><td>3J</td><td>6</td><td>1800014</td><td> 6</td><td> 6</td><td>NA</td><td>0</td><td>CR</td><td>⋯</td><td>1</td><td>1</td><td>1</td><td>0</td><td>0</td><td>0</td><td>CMECF </td><td>1</td><td>2019-05-13</td><td>2019</td></tr>\n",
       "\t<tr><td>2019</td><td>11</td><td>3J</td><td>6</td><td>1800014</td><td> 7</td><td> 7</td><td>NA</td><td>0</td><td>CR</td><td>⋯</td><td>1</td><td>1</td><td>1</td><td>0</td><td>0</td><td>0</td><td>CMECF </td><td>1</td><td>2019-07-09</td><td>2019</td></tr>\n",
       "\t<tr><td>2019</td><td>11</td><td>3J</td><td>6</td><td>1800014</td><td> 8</td><td> 8</td><td>NA</td><td>0</td><td>CR</td><td>⋯</td><td>1</td><td>1</td><td>1</td><td>0</td><td>0</td><td>0</td><td>CMECF </td><td>1</td><td>2019-04-11</td><td>2019</td></tr>\n",
       "\t<tr><td>2019</td><td>11</td><td>3J</td><td>6</td><td>1800014</td><td> 9</td><td> 9</td><td>NA</td><td>0</td><td>CR</td><td>⋯</td><td>1</td><td>1</td><td>1</td><td>0</td><td>0</td><td>0</td><td>CMECF </td><td>1</td><td>2019-04-11</td><td>2019</td></tr>\n",
       "\t<tr><td>2019</td><td>11</td><td>3J</td><td>6</td><td>1800014</td><td>10</td><td>10</td><td>NA</td><td>0</td><td>CR</td><td>⋯</td><td>0</td><td>0</td><td>0</td><td>0</td><td>1</td><td>1</td><td>CMECF </td><td>0</td><td>2018-10-11</td><td>2099</td></tr>\n",
       "\t<tr><td>2019</td><td>11</td><td>3J</td><td>6</td><td>1800014</td><td>11</td><td>11</td><td>NA</td><td>0</td><td>CR</td><td>⋯</td><td>1</td><td>1</td><td>1</td><td>0</td><td>0</td><td>0</td><td>CMECF </td><td>2</td><td>2019-01-08</td><td>2019</td></tr>\n",
       "\t<tr><td>2019</td><td>11</td><td>3J</td><td>6</td><td>1800014</td><td>12</td><td>12</td><td>NA</td><td>0</td><td>CR</td><td>⋯</td><td>1</td><td>1</td><td>1</td><td>0</td><td>0</td><td>0</td><td>CMECF </td><td>1</td><td>2019-07-09</td><td>2019</td></tr>\n",
       "\t<tr><td>2019</td><td>11</td><td>3J</td><td>6</td><td>1800014</td><td>13</td><td>13</td><td>NA</td><td>0</td><td>CR</td><td>⋯</td><td>1</td><td>1</td><td>1</td><td>0</td><td>0</td><td>0</td><td>CMECF </td><td>1</td><td>2019-04-11</td><td>2019</td></tr>\n",
       "\t<tr><td>2019</td><td>11</td><td>3J</td><td>6</td><td>1800014</td><td>14</td><td>14</td><td>NA</td><td>0</td><td>CR</td><td>⋯</td><td>1</td><td>1</td><td>1</td><td>0</td><td>0</td><td>0</td><td>CMECF </td><td>2</td><td>2019-04-11</td><td>2019</td></tr>\n",
       "\t<tr><td>2019</td><td>11</td><td>3J</td><td>6</td><td>1800014</td><td>15</td><td>15</td><td>NA</td><td>0</td><td>CR</td><td>⋯</td><td>1</td><td>1</td><td>1</td><td>0</td><td>0</td><td>0</td><td>CMECF </td><td>1</td><td>2019-07-09</td><td>2019</td></tr>\n",
       "\t<tr><td>2019</td><td>11</td><td>3J</td><td>6</td><td>1800014</td><td>16</td><td>16</td><td>NA</td><td>0</td><td>CR</td><td>⋯</td><td>1</td><td>1</td><td>1</td><td>0</td><td>0</td><td>0</td><td>CMECF </td><td>2</td><td>2019-07-09</td><td>2019</td></tr>\n",
       "\t<tr><td>2019</td><td>11</td><td>3J</td><td>6</td><td>1800014</td><td>17</td><td>17</td><td>NA</td><td>0</td><td>CR</td><td>⋯</td><td>1</td><td>1</td><td>1</td><td>0</td><td>0</td><td>0</td><td>CMECF </td><td>1</td><td>2019-06-07</td><td>2019</td></tr>\n",
       "\t<tr><td>2019</td><td>11</td><td>3J</td><td>6</td><td>1800014</td><td>18</td><td>18</td><td>NA</td><td>0</td><td>CR</td><td>⋯</td><td>1</td><td>1</td><td>1</td><td>0</td><td>0</td><td>0</td><td>CMECF </td><td>1</td><td>2019-05-13</td><td>2019</td></tr>\n",
       "\t<tr><td>2019</td><td>11</td><td>3J</td><td>6</td><td>1800014</td><td>19</td><td>19</td><td>NA</td><td>0</td><td>CR</td><td>⋯</td><td>1</td><td>1</td><td>1</td><td>0</td><td>0</td><td>0</td><td>CMECF </td><td>1</td><td>2019-03-05</td><td>2019</td></tr>\n",
       "\t<tr><td>2019</td><td>11</td><td>3J</td><td>6</td><td>1800014</td><td>20</td><td>20</td><td>NA</td><td>0</td><td>CR</td><td>⋯</td><td>1</td><td>1</td><td>1</td><td>0</td><td>0</td><td>0</td><td>CMECF </td><td>1</td><td>2019-06-07</td><td>2019</td></tr>\n",
       "\t<tr><td>2019</td><td>11</td><td>3J</td><td>6</td><td>1800015</td><td> 1</td><td> 1</td><td>NA</td><td>0</td><td>CR</td><td>⋯</td><td>1</td><td>1</td><td>1</td><td>0</td><td>0</td><td>0</td><td>CMECF </td><td>1</td><td>2019-05-13</td><td>2019</td></tr>\n",
       "\t<tr><td>2019</td><td>11</td><td>3J</td><td>6</td><td>1800016</td><td> 1</td><td> 1</td><td>NA</td><td>0</td><td>CR</td><td>⋯</td><td>0</td><td>0</td><td>0</td><td>0</td><td>1</td><td>1</td><td>CMECF </td><td>0</td><td>2018-12-17</td><td>2099</td></tr>\n",
       "\t<tr><td>2019</td><td>11</td><td>3J</td><td>6</td><td>1800017</td><td> 1</td><td> 1</td><td>NA</td><td>0</td><td>CR</td><td>⋯</td><td>1</td><td>1</td><td>1</td><td>0</td><td>0</td><td>0</td><td>CMECF </td><td>1</td><td>2019-02-07</td><td>2019</td></tr>\n",
       "\t<tr><td>2019</td><td>11</td><td>3J</td><td>6</td><td>1800018</td><td> 1</td><td> 1</td><td>NA</td><td>0</td><td>CR</td><td>⋯</td><td>1</td><td>1</td><td>1</td><td>0</td><td>0</td><td>0</td><td>CMECF </td><td>1</td><td>2019-03-05</td><td>2019</td></tr>\n",
       "\t<tr><td>2019</td><td>11</td><td>3J</td><td>6</td><td>1800019</td><td> 1</td><td> 1</td><td>NA</td><td>0</td><td>CR</td><td>⋯</td><td>0</td><td>0</td><td>0</td><td>0</td><td>1</td><td>1</td><td>CMECF </td><td>1</td><td>2019-05-13</td><td>2099</td></tr>\n",
       "\t<tr><td>2019</td><td>11</td><td>3J</td><td>6</td><td>1900001</td><td> 1</td><td> 1</td><td>NA</td><td>0</td><td>CR</td><td>⋯</td><td>0</td><td>0</td><td>0</td><td>0</td><td>1</td><td>1</td><td>CMECF </td><td>0</td><td>2019-02-07</td><td>2099</td></tr>\n",
       "\t<tr><td>2019</td><td>11</td><td>3J</td><td>6</td><td>1900003</td><td> 1</td><td> 1</td><td>NA</td><td>0</td><td>CR</td><td>⋯</td><td>0</td><td>0</td><td>0</td><td>0</td><td>1</td><td>1</td><td>CMECF </td><td>0</td><td>2019-04-11</td><td>2099</td></tr>\n",
       "\t<tr><td>2019</td><td>11</td><td>3J</td><td>6</td><td>1900004</td><td> 1</td><td> 1</td><td>NA</td><td>0</td><td>CR</td><td>⋯</td><td>0</td><td>0</td><td>0</td><td>0</td><td>1</td><td>1</td><td>CMECF </td><td>0</td><td>2019-05-13</td><td>2099</td></tr>\n",
       "\t<tr><td>2019</td><td>11</td><td>3J</td><td>6</td><td>1900005</td><td> 1</td><td> 1</td><td>NA</td><td>0</td><td>CR</td><td>⋯</td><td>0</td><td>0</td><td>0</td><td>0</td><td>1</td><td>1</td><td>CMECF </td><td>0</td><td>2019-07-09</td><td>2099</td></tr>\n",
       "\t<tr><td>2019</td><td>11</td><td>3J</td><td>6</td><td>1900006</td><td> 1</td><td> 1</td><td>NA</td><td>0</td><td>CR</td><td>⋯</td><td>0</td><td>0</td><td>0</td><td>0</td><td>1</td><td>1</td><td>CMECF </td><td>0</td><td>2019-07-09</td><td>2099</td></tr>\n",
       "\t<tr><td>2019</td><td>11</td><td>3J</td><td>6</td><td>8900009</td><td> 1</td><td> 1</td><td>NA</td><td>0</td><td>CR</td><td>⋯</td><td>0</td><td>0</td><td>0</td><td>0</td><td>1</td><td>1</td><td>CMECF </td><td>0</td><td>2012-10-02</td><td>2099</td></tr>\n",
       "\t<tr><td>2019</td><td>11</td><td>3J</td><td>6</td><td>9900010</td><td> 2</td><td>-8</td><td>NA</td><td>0</td><td>CR</td><td>⋯</td><td>0</td><td>0</td><td>0</td><td>0</td><td>1</td><td>1</td><td>MASTER</td><td>0</td><td>2012-03-21</td><td>2099</td></tr>\n",
       "</tbody>\n",
       "</table>\n"
      ],
      "text/latex": [
       "A data.frame: 203013 × 144\n",
       "\\begin{tabular}{r|llllllllllllllllllllllllllllllllllllllllllllllllllllllllllllllllllllllllllllllllllllllllllllllllllllllllllllllllllllllllllllllllllllllllllllllll}\n",
       " FISCALYR & CIRCUIT & DISTRICT & OFFICE & DOCKET & DEFNO & CTDEF & NAME & REOPSEQ & TYPEREG & TYPETRN & TYPEMAG & DEFLGKY & CASLGKY & MAGDOCK & MAGDEF & STATUSCD & FUGSTAT & FGSTRTDATE & FGENDDATE & FILEDATE & PROCDATE & PROCCD & APPDATE & APPCD & FJUDGE & FCOUNSEL & FTITLE1 & FOFFLVL1 & FOFFCD1 & D2FOFFCD1 & FSEV1 & FTITLE2 & FOFFLVL2 & FOFFCD2 & D2FOFFCD2 & FSEV2 & FTITLE3 & FOFFLVL3 & FOFFCD3 & D2FOFFCD3 & FSEV3 & FTITLE4 & FOFFLVL4 & FOFFCD4 & D2FOFFCD4 & FSEV4 & FTITLE5 & FOFFLVL5 & FOFFCD5 & D2FOFFCD5 & FSEV5 & COUNTY & TRANDIST & TRANOFF & TRANDOCK & TRANDEF & UPDATE & DISPDATE & SENTDATE & TERMDATE & INT1 & INT2 & INT3 & TERMOFF & TJUDGE & TCOUNSEL & TTITLE1 & TOFFLVL1 & TOFFCD1 & D2TOFFCD1 & TSEV1 & DISP1 & PRISTIM1 & PRISCD1 & PROBMON1 & PROBCD1 & SUPVREL1 & FINEAMT1 & TTITLE2 & TOFFLVL2 & TOFFCD2 & D2TOFFCD2 & TSEV2 & DISP2 & PRISTIM2 & PRISCD2 & PROBMON2 & PROBCD2 & SUPVREL2 & FINEAMT2 & TTITLE3 & TOFFLVL3 & TOFFCD3 & D2TOFFCD3 & TSEV3 & DISP3 & PRISTIM3 & PRISCD3 & PROBMON3 & PROBCD3 & SUPVREL3 & FINEAMT3 & TTITLE4 & TOFFLVL4 & TOFFCD4 & D2TOFFCD4 & TSEV4 & DISP4 & PRISTIM4 & PRISCD4 & PROBMON4 & PROBCD4 & SUPVREL4 & FINEAMT4 & TTITLE5 & TOFFLVL5 & TOFFCD5 & D2TOFFCD5 & TSEV5 & DISP5 & PRISTIM5 & PRISCD5 & PROBMON5 & PROBCD5 & SUPVREL5 & FINEAMT5 & PRISTOT & PROBTOT & FINETOT & CTFILTRN & CTFIL & CTFILWOR & CTFILR & CTTRTRN & CTTR & CTTRWOR & CTTRR & CTPN & CTPNWOF & SOURCE & VER & LOADDATE & TAPEYEAR\\\\\n",
       " <int> & <int> & <chr> & <chr> & <int> & <int> & <int> & <lgl> & <int> & <fct> & <fct> & <fct> & <fct> & <fct> & <fct> & <int> & <fct> & <fct> & <fct> & <fct> & <fct> & <fct> & <int> & <fct> & <fct> & <lgl> & <int> & <fct> & <int> & <int> & <int> & <fct> & <fct> & <int> & <int> & <int> & <fct> & <fct> & <int> & <int> & <int> & <fct> & <fct> & <int> & <int> & <int> & <fct> & <fct> & <int> & <int> & <int> & <fct> & <int> & <chr> & <int> & <int> & <int> & <fct> & <fct> & <fct> & <fct> & <int> & <int> & <int> & <chr> & <lgl> & <int> & <fct> & <int> & <int> & <int> & <fct> & <int> & <int> & <fct> & <int> & <fct> & <int> & <int> & <fct> & <int> & <int> & <int> & <fct> & <int> & <int> & <fct> & <int> & <fct> & <int> & <int> & <fct> & <int> & <int> & <int> & <fct> & <int> & <int> & <fct> & <int> & <fct> & <int> & <int> & <fct> & <int> & <int> & <int> & <fct> & <int> & <int> & <fct> & <int> & <fct> & <int> & <int> & <fct> & <int> & <int> & <int> & <fct> & <int> & <int> & <fct> & <int> & <fct> & <int> & <int> & <int> & <int> & <int> & <int> & <int> & <int> & <int> & <int> & <int> & <int> & <int> & <int> & <int> & <fct> & <int> & <fct> & <int>\\\\\n",
       "\\hline\n",
       "\t 2019 & 0 & 90 & 1 &      6 &  2 & -8 & NA & 0 & CR & -8 & -8 & 009010000006CR0020 & 009010000006CR0 & -8      & -8 & E & Z & 1900-01-01 & 1900-01-01 & 2000-01-06 & 2000-01-06 & 1 & 1900-01-01 & -8 & NA & 0 & 21:846=MD.F  & 4 & 6501 & 6501 & 839 & 21:841B=ND.F &  4 & 6701 & 6701 & 839 & -8           & -8 &   -8 &   -8 & -8  & -8             & -8 &   -8 &   -8 & -8  & -8           & -8 &   -8 &   -8 & -8  & 11001 & -8 & -8 & -8 & -8 & 2003-10-06 & 1900-01-01 & 1900-01-01 & 1900-01-01 & 0 & 0 & 0 & -8 & NA & -8 & -8 & -8 & -8 & -8 & -8 & -8 & 0 & -8 & 0 & -8 & 0 & 0 & -8 & -8 & -8 & -8 & -8 & -8 & 0 & -8 & 0 & -8 & 0 & 0 & -8 & -8 & -8 & -8 & -8 & -8 & 0 & -8 & 0 & -8 & 0 & 0 & -8 & -8 & -8 & -8 & -8 & -8 & 0 & -8 & 0 & -8 & 0 & 0 & -8 & -8 & -8 & -8 & -8 & -8 & 0 & -8 & 0 & -8 & 0 & 0 & 0 & 0 & 0 & 0 & 0 & 0 & 0 & 0 & 0 & 0 & 0 & 1 & 0 & MASTER & 0 & 2012-03-21 & 2099\\\\\n",
       "\t 2019 & 0 & 90 & 1 &     27 &  2 & -8 & NA & 0 & CR & -8 & MJ & 009010000027CR0020 & 009010000027CR0 & 0000008 &  2 & E & N & 1900-01-01 & 1900-01-01 & 2000-01-27 & 2000-01-27 & 1 & 2000-01-03 & D  & NA & 1 & 18:922G.F    & 4 & 7830 & 7820 & 409 & 18:922G.F    &  4 & 7830 & 7820 & 409 & -8           & -8 &   -8 &   -8 & -8  & -8             & -8 &   -8 &   -8 & -8  & -8           & -8 &   -8 &   -8 & -8  & 11001 & -8 & -8 & -8 & -8 & 2004-10-12 & 1900-01-01 & 1900-01-01 & 1900-01-01 & 0 & 0 & 0 & -8 & NA & -8 & -8 & -8 & -8 & -8 & -8 & -8 & 0 & -8 & 0 & -8 & 0 & 0 & -8 & -8 & -8 & -8 & -8 & -8 & 0 & -8 & 0 & -8 & 0 & 0 & -8 & -8 & -8 & -8 & -8 & -8 & 0 & -8 & 0 & -8 & 0 & 0 & -8 & -8 & -8 & -8 & -8 & -8 & 0 & -8 & 0 & -8 & 0 & 0 & -8 & -8 & -8 & -8 & -8 & -8 & 0 & -8 & 0 & -8 & 0 & 0 & 0 & 0 & 0 & 0 & 0 & 0 & 0 & 0 & 0 & 0 & 0 & 1 & 1 & MASTER & 0 & 2012-03-21 & 2099\\\\\n",
       "\t 2019 & 0 & 90 & 1 &     55 &  2 & -8 & NA & 0 & CR & -8 & -8 & 009010000055CR0020 & 009010000055CR0 & -8      & -8 & E & Z & 2004-06-29 & 1900-01-01 & 2000-02-17 & 2000-02-17 & 1 & 2000-03-06 & 1  & NA & 0 & 21:846=ND.F  & 4 & 6701 & 6701 & 839 & -8           & -8 &   -8 &   -8 & -8  & -8           & -8 &   -8 &   -8 & -8  & -8             & -8 &   -8 &   -8 & -8  & -8           & -8 &   -8 &   -8 & -8  & 11001 & -8 & -8 & -8 & -8 & 2005-09-14 & 1900-01-01 & 1900-01-01 & 1900-01-01 & 0 & 0 & 0 & -8 & NA & -8 & -8 & -8 & -8 & -8 & -8 & -8 & 0 & -8 & 0 & -8 & 0 & 0 & -8 & -8 & -8 & -8 & -8 & -8 & 0 & -8 & 0 & -8 & 0 & 0 & -8 & -8 & -8 & -8 & -8 & -8 & 0 & -8 & 0 & -8 & 0 & 0 & -8 & -8 & -8 & -8 & -8 & -8 & 0 & -8 & 0 & -8 & 0 & 0 & -8 & -8 & -8 & -8 & -8 & -8 & 0 & -8 & 0 & -8 & 0 & 0 & 0 & 0 & 0 & 0 & 0 & 0 & 0 & 0 & 0 & 0 & 0 & 1 & 0 & MASTER & 0 & 2012-03-21 & 2099\\\\\n",
       "\t 2019 & 0 & 90 & 1 &     58 &  1 &  1 & NA & 0 & CR & -8 & MJ & 009010000058CR0010 & 009010000058CR0 & 0000044 &  1 & E & N & 1900-01-01 & 1900-01-01 & 2000-02-22 & 2000-02-22 & 1 & 2000-01-20 & D  & NA & 6 & 18:924C.F    & 4 & 7830 & 7831 & 820 & 21:841B=ND.F &  4 & 6701 & 6701 & 839 & 18:922G.F    &  4 & 7830 & 7820 & 409 & 21:841B=NP.F   &  4 & 6704 & 6701 & 839 & 21:841B=NP.F &  4 & 6704 & 6701 & 839 & 11001 & -8 & -8 & -8 & -8 & 2009-01-14 & 1900-01-01 & 1900-01-01 & 1900-01-01 & 0 & 0 & 0 & -8 & NA & -8 & -8 & -8 & -8 & -8 & -8 & -8 & 0 & -8 & 0 & -8 & 0 & 0 & -8 & -8 & -8 & -8 & -8 & -8 & 0 & -8 & 0 & -8 & 0 & 0 & -8 & -8 & -8 & -8 & -8 & -8 & 0 & -8 & 0 & -8 & 0 & 0 & -8 & -8 & -8 & -8 & -8 & -8 & 0 & -8 & 0 & -8 & 0 & 0 & -8 & -8 & -8 & -8 & -8 & -8 & 0 & -8 & 0 & -8 & 0 & 0 & 0 & 0 & 0 & 0 & 0 & 0 & 0 & 0 & 0 & 0 & 0 & 1 & 1 & MASTER & 0 & 2012-03-21 & 2099\\\\\n",
       "\t 2019 & 0 & 90 & 1 &     69 &  1 & -8 & NA & 0 & CR & -8 & -8 & 009010000069CR0010 & 009010000069CR0 & -8      & -8 & E & Z & 1900-01-01 & 1900-01-01 & 2000-02-25 & 2000-02-25 & 1 & 1900-01-01 & -8 & NA & 0 & 18:201A.F    & 4 & 7100 & 7100 & 416 & 18:201A.F    &  4 & 7100 & 7100 & 416 & -8           & -8 &   -8 &   -8 & -8  & -8             & -8 &   -8 &   -8 & -8  & -8           & -8 &   -8 &   -8 & -8  & 11001 & -8 & -8 & -8 & -8 & 2003-10-06 & 1900-01-01 & 1900-01-01 & 1900-01-01 & 0 & 0 & 0 & -8 & NA & -8 & -8 & -8 & -8 & -8 & -8 & -8 & 0 & -8 & 0 & -8 & 0 & 0 & -8 & -8 & -8 & -8 & -8 & -8 & 0 & -8 & 0 & -8 & 0 & 0 & -8 & -8 & -8 & -8 & -8 & -8 & 0 & -8 & 0 & -8 & 0 & 0 & -8 & -8 & -8 & -8 & -8 & -8 & 0 & -8 & 0 & -8 & 0 & 0 & -8 & -8 & -8 & -8 & -8 & -8 & 0 & -8 & 0 & -8 & 0 & 0 & 0 & 0 & 0 & 0 & 0 & 0 & 0 & 0 & 0 & 0 & 0 & 1 & 0 & MASTER & 0 & 2012-03-21 & 2099\\\\\n",
       "\t 2019 & 0 & 90 & 1 &     79 &  1 & -8 & NA & 0 & CR & -8 & -8 & 009010000079CR0010 & 009010000079CR0 & -8      & -8 & E & N & 1900-01-01 & 1900-01-01 & 2000-03-02 & 2000-03-02 & 1 & 1900-01-01 & -8 & NA & 0 & 21:841B=ND.F & 4 & 6701 & 6701 & 839 & 18:922N.F    &  4 & 7830 & 7800 & 205 & -8           & -8 &   -8 &   -8 & -8  & -8             & -8 &   -8 &   -8 & -8  & -8           & -8 &   -8 &   -8 & -8  & 11001 & -8 & -8 & -8 & -8 & 2000-04-10 & 1900-01-01 & 1900-01-01 & 1900-01-01 & 0 & 0 & 0 & -8 & NA & -8 & -8 & -8 & -8 & -8 & -8 & -8 & 0 & -8 & 0 & -8 & 0 & 0 & -8 & -8 & -8 & -8 & -8 & -8 & 0 & -8 & 0 & -8 & 0 & 0 & -8 & -8 & -8 & -8 & -8 & -8 & 0 & -8 & 0 & -8 & 0 & 0 & -8 & -8 & -8 & -8 & -8 & -8 & 0 & -8 & 0 & -8 & 0 & 0 & -8 & -8 & -8 & -8 & -8 & -8 & 0 & -8 & 0 & -8 & 0 & 0 & 0 & 0 & 0 & 0 & 0 & 0 & 0 & 0 & 0 & 0 & 0 & 1 & 1 & MASTER & 0 & 2012-03-21 & 2099\\\\\n",
       "\t 2019 & 0 & 90 & 1 &     79 &  2 & -8 & NA & 0 & CR & -8 & -8 & 009010000079CR0020 & 009010000079CR0 & -8      & -8 & E & N & 1900-01-01 & 1900-01-01 & 2000-03-02 & 2000-03-02 & 1 & 1900-01-01 & -8 & NA & 0 & 21:841B=ND.F & 4 & 6701 & 6701 & 839 & -8           & -8 &   -8 &   -8 & -8  & -8           & -8 &   -8 &   -8 & -8  & -8             & -8 &   -8 &   -8 & -8  & -8           & -8 &   -8 &   -8 & -8  & 11001 & -8 & -8 & -8 & -8 & 2000-04-10 & 1900-01-01 & 1900-01-01 & 1900-01-01 & 0 & 0 & 0 & -8 & NA & -8 & -8 & -8 & -8 & -8 & -8 & -8 & 0 & -8 & 0 & -8 & 0 & 0 & -8 & -8 & -8 & -8 & -8 & -8 & 0 & -8 & 0 & -8 & 0 & 0 & -8 & -8 & -8 & -8 & -8 & -8 & 0 & -8 & 0 & -8 & 0 & 0 & -8 & -8 & -8 & -8 & -8 & -8 & 0 & -8 & 0 & -8 & 0 & 0 & -8 & -8 & -8 & -8 & -8 & -8 & 0 & -8 & 0 & -8 & 0 & 0 & 0 & 0 & 0 & 0 & 0 & 0 & 0 & 0 & 0 & 0 & 0 & 1 & 1 & MASTER & 0 & 2012-03-21 & 2099\\\\\n",
       "\t 2019 & 0 & 90 & 1 &     89 &  1 & -8 & NA & 0 & CR & -8 & -8 & 009010000089CR0010 & 009010000089CR0 & -8      & -8 & E & Z & 1900-01-01 & 1900-01-01 & 2000-03-07 & 2000-03-07 & 1 & 1900-01-01 & -8 & NA & 6 & 18:13-9999.F & 4 & 9999 & 9999 & 806 & 18:13-9999.F &  4 & 9999 & 9999 & 806 & 18:13-9999.F &  4 & 9999 & 9999 & 806 & 18:13-9999.F   &  4 & 9999 & 9999 & 806 & -8           & -8 &   -8 &   -8 & -8  & 11001 & -8 & -8 & -8 & -8 & 2006-11-11 & 1900-01-01 & 1900-01-01 & 1900-01-01 & 0 & 0 & 0 & -8 & NA & -8 & -8 & -8 & -8 & -8 & -8 & -8 & 0 & -8 & 0 & -8 & 0 & 0 & -8 & -8 & -8 & -8 & -8 & -8 & 0 & -8 & 0 & -8 & 0 & 0 & -8 & -8 & -8 & -8 & -8 & -8 & 0 & -8 & 0 & -8 & 0 & 0 & -8 & -8 & -8 & -8 & -8 & -8 & 0 & -8 & 0 & -8 & 0 & 0 & -8 & -8 & -8 & -8 & -8 & -8 & 0 & -8 & 0 & -8 & 0 & 0 & 0 & 0 & 0 & 0 & 0 & 0 & 0 & 0 & 0 & 0 & 0 & 1 & 0 & MASTER & 0 & 2012-03-21 & 2099\\\\\n",
       "\t 2019 & 0 & 90 & 1 &     97 &  1 & -8 & NA & 0 & CR & -8 & MJ & 009010000097CR0010 & 009010000097CR0 & 0000094 &  1 & E & Z & 1900-01-01 & 1900-01-01 & 2000-03-09 & 2000-03-09 & 1 & 2000-02-22 & D  & NA & 6 & 18:924C.F    & 4 & 7830 & 7831 & 820 & 18:922G.F    &  4 & 7830 & 7820 & 409 & 21:841B=NP.F &  4 & 6704 & 6701 & 839 & -8             & -8 &   -8 &   -8 & -8  & -8           & -8 &   -8 &   -8 & -8  & 11001 & -8 & -8 & -8 & -8 & 2003-10-06 & 1900-01-01 & 1900-01-01 & 1900-01-01 & 0 & 0 & 0 & -8 & NA & -8 & -8 & -8 & -8 & -8 & -8 & -8 & 0 & -8 & 0 & -8 & 0 & 0 & -8 & -8 & -8 & -8 & -8 & -8 & 0 & -8 & 0 & -8 & 0 & 0 & -8 & -8 & -8 & -8 & -8 & -8 & 0 & -8 & 0 & -8 & 0 & 0 & -8 & -8 & -8 & -8 & -8 & -8 & 0 & -8 & 0 & -8 & 0 & 0 & -8 & -8 & -8 & -8 & -8 & -8 & 0 & -8 & 0 & -8 & 0 & 0 & 0 & 0 & 0 & 0 & 0 & 0 & 0 & 0 & 0 & 0 & 0 & 1 & 0 & MASTER & 0 & 2012-03-21 & 2099\\\\\n",
       "\t 2019 & 0 & 90 & 1 &    112 &  1 & -8 & NA & 0 & CR & -8 & MJ & 009010000112CR0010 & 009010000112CR0 & 0000097 &  2 & E & N & 1900-01-01 & 1900-01-01 & 2000-03-24 & 2000-03-24 & 1 & 1900-01-01 & -8 & NA & 0 & 21:846=ND.F  & 4 & 6701 & 6701 & 839 & 21:841B=ND.F &  4 & 6701 & 6701 & 839 & 21:841B=ND.F &  4 & 6701 & 6701 & 839 & 21:841B=ND.F   &  4 & 6701 & 6701 & 839 & 21:841B=ND.F &  4 & 6701 & 6701 & 839 & 11001 & -8 & -8 & -8 & -8 & 2000-04-10 & 1900-01-01 & 1900-01-01 & 1900-01-01 & 0 & 0 & 0 & -8 & NA & -8 & -8 & -8 & -8 & -8 & -8 & -8 & 0 & -8 & 0 & -8 & 0 & 0 & -8 & -8 & -8 & -8 & -8 & -8 & 0 & -8 & 0 & -8 & 0 & 0 & -8 & -8 & -8 & -8 & -8 & -8 & 0 & -8 & 0 & -8 & 0 & 0 & -8 & -8 & -8 & -8 & -8 & -8 & 0 & -8 & 0 & -8 & 0 & 0 & -8 & -8 & -8 & -8 & -8 & -8 & 0 & -8 & 0 & -8 & 0 & 0 & 0 & 0 & 0 & 0 & 0 & 0 & 0 & 0 & 0 & 0 & 0 & 1 & 1 & MASTER & 0 & 2012-03-21 & 2099\\\\\n",
       "\t 2019 & 0 & 90 & 1 &    112 &  2 & -8 & NA & 0 & CR & -8 & MJ & 009010000112CR0020 & 009010000112CR0 & 0000097 &  3 & E & N & 1900-01-01 & 1900-01-01 & 2000-03-24 & 2000-03-24 & 1 & 1900-01-01 & -8 & NA & 0 & 21:846=ND.F  & 4 & 6701 & 6701 & 839 & -8           & -8 &   -8 &   -8 & -8  & -8           & -8 &   -8 &   -8 & -8  & -8             & -8 &   -8 &   -8 & -8  & -8           & -8 &   -8 &   -8 & -8  & 11001 & -8 & -8 & -8 & -8 & 2000-04-10 & 1900-01-01 & 1900-01-01 & 1900-01-01 & 0 & 0 & 0 & -8 & NA & -8 & -8 & -8 & -8 & -8 & -8 & -8 & 0 & -8 & 0 & -8 & 0 & 0 & -8 & -8 & -8 & -8 & -8 & -8 & 0 & -8 & 0 & -8 & 0 & 0 & -8 & -8 & -8 & -8 & -8 & -8 & 0 & -8 & 0 & -8 & 0 & 0 & -8 & -8 & -8 & -8 & -8 & -8 & 0 & -8 & 0 & -8 & 0 & 0 & -8 & -8 & -8 & -8 & -8 & -8 & 0 & -8 & 0 & -8 & 0 & 0 & 0 & 0 & 0 & 0 & 0 & 0 & 0 & 0 & 0 & 0 & 0 & 1 & 1 & MASTER & 0 & 2012-03-21 & 2099\\\\\n",
       "\t 2019 & 0 & 90 & 1 &    112 &  3 &  1 & NA & 0 & CR & -8 & -8 & 009010000112CR0030 & 009010000112CR0 & -8      & -8 & E & N & 1900-01-01 & 1900-01-01 & 2000-03-24 & 2000-03-24 & 1 & 2000-06-30 & 1  & NA & 0 & 21:846=ND.F  & 4 & 6701 & 6701 & 839 & 21:846=ND.F  &  4 & 6701 & 6701 & 839 & 21:841A=ND.F &  4 & 6701 & 6701 & 839 & 21:841A=ND.F   &  4 & 6701 & 6701 & 839 & 21:841B=ND.F &  4 & 6701 & 6701 & 839 & 11001 & -8 & -8 & -8 & -8 & 2008-12-18 & 1900-01-01 & 1900-01-01 & 1900-01-01 & 0 & 0 & 0 & -8 & NA & -8 & -8 & -8 & -8 & -8 & -8 & -8 & 0 & -8 & 0 & -8 & 0 & 0 & -8 & -8 & -8 & -8 & -8 & -8 & 0 & -8 & 0 & -8 & 0 & 0 & -8 & -8 & -8 & -8 & -8 & -8 & 0 & -8 & 0 & -8 & 0 & 0 & -8 & -8 & -8 & -8 & -8 & -8 & 0 & -8 & 0 & -8 & 0 & 0 & -8 & -8 & -8 & -8 & -8 & -8 & 0 & -8 & 0 & -8 & 0 & 0 & 0 & 0 & 0 & 0 & 0 & 0 & 0 & 0 & 0 & 0 & 0 & 1 & 1 & MASTER & 0 & 2012-03-21 & 2099\\\\\n",
       "\t 2019 & 0 & 90 & 1 &    122 &  1 & -8 & NA & 0 & CR & -8 & -8 & 009010000122CR0010 & 009010000122CR0 & -8      & -8 & E & Z & 1900-01-01 & 1900-01-01 & 2000-04-05 & 2000-04-05 & 1 & 1900-01-01 & -8 & NA & 0 & 18:401.P     & 1 & 9921 & 9921 & B33 & -8           & -8 &   -8 &   -8 & -8  & -8           & -8 &   -8 &   -8 & -8  & -8             & -8 &   -8 &   -8 & -8  & -8           & -8 &   -8 &   -8 & -8  & 11001 & -8 & -8 & -8 & -8 & 2003-10-06 & 1900-01-01 & 1900-01-01 & 1900-01-01 & 0 & 0 & 0 & -8 & NA & -8 & -8 & -8 & -8 & -8 & -8 & -8 & 0 & -8 & 0 & -8 & 0 & 0 & -8 & -8 & -8 & -8 & -8 & -8 & 0 & -8 & 0 & -8 & 0 & 0 & -8 & -8 & -8 & -8 & -8 & -8 & 0 & -8 & 0 & -8 & 0 & 0 & -8 & -8 & -8 & -8 & -8 & -8 & 0 & -8 & 0 & -8 & 0 & 0 & -8 & -8 & -8 & -8 & -8 & -8 & 0 & -8 & 0 & -8 & 0 & 0 & 0 & 0 & 0 & 0 & 0 & 0 & 0 & 0 & 0 & 0 & 0 & 1 & 0 & MASTER & 0 & 2012-03-21 & 2099\\\\\n",
       "\t 2019 & 0 & 90 & 1 &    122 &  2 & -8 & NA & 0 & CR & -8 & -8 & 009010000122CR0020 & 009010000122CR0 & -8      & -8 & E & Z & 1900-01-01 & 1900-01-01 & 2000-04-05 & 2000-04-05 & 1 & 1900-01-01 & -8 & NA & 2 & 18:401.P     & 1 & 9921 & 9921 & B33 & -8           & -8 &   -8 &   -8 & -8  & -8           & -8 &   -8 &   -8 & -8  & -8             & -8 &   -8 &   -8 & -8  & -8           & -8 &   -8 &   -8 & -8  & 11001 & -8 & -8 & -8 & -8 & 2003-10-06 & 1900-01-01 & 1900-01-01 & 1900-01-01 & 0 & 0 & 0 & -8 & NA & -8 & -8 & -8 & -8 & -8 & -8 & -8 & 0 & -8 & 0 & -8 & 0 & 0 & -8 & -8 & -8 & -8 & -8 & -8 & 0 & -8 & 0 & -8 & 0 & 0 & -8 & -8 & -8 & -8 & -8 & -8 & 0 & -8 & 0 & -8 & 0 & 0 & -8 & -8 & -8 & -8 & -8 & -8 & 0 & -8 & 0 & -8 & 0 & 0 & -8 & -8 & -8 & -8 & -8 & -8 & 0 & -8 & 0 & -8 & 0 & 0 & 0 & 0 & 0 & 0 & 0 & 0 & 0 & 0 & 0 & 0 & 0 & 1 & 0 & MASTER & 0 & 2012-03-21 & 2099\\\\\n",
       "\t 2019 & 0 & 90 & 1 &    149 &  1 & -8 & NA & 0 & CR & -8 & MJ & 009010000149CR0010 & 009010000149CR0 & 9900409 &  1 & E & N & 1999-07-22 & 2000-03-22 & 2000-05-01 & 2000-05-15 & 3 & 2000-04-04 & A  & NA & 6 & 18:1028A.F   & 4 & 4991 & 8201 & 217 & -8           & -8 &   -8 &   -8 & -8  & -8           & -8 &   -8 &   -8 & -8  & -8             & -8 &   -8 &   -8 & -8  & -8           & -8 &   -8 &   -8 & -8  & 11001 & -8 & -8 & -8 & -8 & 2004-10-12 & 1900-01-01 & 1900-01-01 & 1900-01-01 & 0 & 0 & 0 & -8 & NA & -8 & -8 & -8 & -8 & -8 & -8 & -8 & 0 & -8 & 0 & -8 & 0 & 0 & -8 & -8 & -8 & -8 & -8 & -8 & 0 & -8 & 0 & -8 & 0 & 0 & -8 & -8 & -8 & -8 & -8 & -8 & 0 & -8 & 0 & -8 & 0 & 0 & -8 & -8 & -8 & -8 & -8 & -8 & 0 & -8 & 0 & -8 & 0 & 0 & -8 & -8 & -8 & -8 & -8 & -8 & 0 & -8 & 0 & -8 & 0 & 0 & 0 & 0 & 0 & 0 & 0 & 0 & 0 & 0 & 0 & 0 & 0 & 1 & 1 & MASTER & 0 & 2012-03-21 & 2099\\\\\n",
       "\t 2019 & 0 & 90 & 1 &    152 &  1 & -8 & NA & 0 & CR & -8 & -8 & 009010000152CR0010 & 009010000152CR0 & -8      & -8 & E & N & 1900-01-01 & 1900-01-01 & 2000-05-03 & 2000-05-04 & 3 & 2000-05-04 & 1  & NA & 2 & 18:1542.F    & 4 & 4980 & 4980 & 214 & -8           & -8 &   -8 &   -8 & -8  & -8           & -8 &   -8 &   -8 & -8  & -8             & -8 &   -8 &   -8 & -8  & -8           & -8 &   -8 &   -8 & -8  & 11001 & -8 & -8 & -8 & -8 & 2004-10-12 & 1900-01-01 & 1900-01-01 & 1900-01-01 & 0 & 0 & 0 & -8 & NA & -8 & -8 & -8 & -8 & -8 & -8 & -8 & 0 & -8 & 0 & -8 & 0 & 0 & -8 & -8 & -8 & -8 & -8 & -8 & 0 & -8 & 0 & -8 & 0 & 0 & -8 & -8 & -8 & -8 & -8 & -8 & 0 & -8 & 0 & -8 & 0 & 0 & -8 & -8 & -8 & -8 & -8 & -8 & 0 & -8 & 0 & -8 & 0 & 0 & -8 & -8 & -8 & -8 & -8 & -8 & 0 & -8 & 0 & -8 & 0 & 0 & 0 & 0 & 0 & 0 & 0 & 0 & 0 & 0 & 0 & 0 & 0 & 1 & 1 & MASTER & 0 & 2012-03-21 & 2099\\\\\n",
       "\t 2019 & 0 & 90 & 1 &    157 & 13 & 13 & NA & 0 & CR & -8 & -8 & 009010000157CR0130 & 009010000157CR0 & -8      & -8 & E & N & 1900-01-01 & 1900-01-01 & 2000-05-05 & 2000-11-17 & 1 & 2003-02-06 & 1  & NA & 0 & 22D:2401.F   & 4 &  100 &  100 & 930 & 21:846=CD.F  &  4 & 6801 & 6801 & 839 & 21:846=ND.F  &  4 & 6701 & 6701 & 839 & 18:1959-7471.F &  4 & 7471 & 1700 & 837 & 18:924C.F    &  4 & 7830 & 7831 & 820 & 11001 & -8 & -8 & -8 & -8 & 2009-01-14 & 1900-01-01 & 1900-01-01 & 1900-01-01 & 0 & 0 & 0 & -8 & NA & -8 & -8 & -8 & -8 & -8 & -8 & -8 & 0 & -8 & 0 & -8 & 0 & 0 & -8 & -8 & -8 & -8 & -8 & -8 & 0 & -8 & 0 & -8 & 0 & 0 & -8 & -8 & -8 & -8 & -8 & -8 & 0 & -8 & 0 & -8 & 0 & 0 & -8 & -8 & -8 & -8 & -8 & -8 & 0 & -8 & 0 & -8 & 0 & 0 & -8 & -8 & -8 & -8 & -8 & -8 & 0 & -8 & 0 & -8 & 0 & 0 & 0 & 0 & 0 & 0 & 0 & 0 & 0 & 0 & 0 & 0 & 0 & 1 & 1 & MASTER & 0 & 2012-03-21 & 2099\\\\\n",
       "\t 2019 & 0 & 90 & 1 &    188 &  1 & -8 & NA & 0 & CR & -8 & MJ & 009010000188CR0010 & 009010000188CR0 & 9900136 &  1 & E & Z & 1900-01-01 & 1900-01-01 & 2000-06-08 & 2000-06-08 & 1 & 1900-01-01 & -8 & NA & 0 & 21:846=ND.F  & 4 & 6701 & 6701 & 839 & 21:841B=ND.F &  4 & 6701 & 6701 & 839 & 21:841A=ND.F &  4 & 6701 & 6701 & 839 & 21:841A=ND.F   &  4 & 6701 & 6701 & 839 & -8           & -8 &   -8 &   -8 & -8  & 11001 & -8 & -8 & -8 & -8 & 2003-10-06 & 1900-01-01 & 1900-01-01 & 1900-01-01 & 0 & 0 & 0 & -8 & NA & -8 & -8 & -8 & -8 & -8 & -8 & -8 & 0 & -8 & 0 & -8 & 0 & 0 & -8 & -8 & -8 & -8 & -8 & -8 & 0 & -8 & 0 & -8 & 0 & 0 & -8 & -8 & -8 & -8 & -8 & -8 & 0 & -8 & 0 & -8 & 0 & 0 & -8 & -8 & -8 & -8 & -8 & -8 & 0 & -8 & 0 & -8 & 0 & 0 & -8 & -8 & -8 & -8 & -8 & -8 & 0 & -8 & 0 & -8 & 0 & 0 & 0 & 0 & 0 & 0 & 0 & 0 & 0 & 0 & 0 & 0 & 0 & 1 & 0 & MASTER & 0 & 2012-03-21 & 2099\\\\\n",
       "\t 2019 & 0 & 90 & 1 &    189 &  3 & -8 & NA & 0 & CR & -8 & -8 & 009010000189CR0030 & 009010000189CR0 & -8      & -8 & E & Z & 1900-01-01 & 1900-01-01 & 2000-06-08 & 2000-07-11 & 1 & 1900-01-01 & -8 & NA & 0 & 21:952=NI.F  & 4 & 6702 & 6702 & 939 & 21:963=NP.F  &  4 & 6704 & 6701 & 839 & -8           & -8 &   -8 &   -8 & -8  & -8             & -8 &   -8 &   -8 & -8  & -8           & -8 &   -8 &   -8 & -8  & 11001 & -8 & -8 & -8 & -8 & 2003-10-06 & 1900-01-01 & 1900-01-01 & 1900-01-01 & 0 & 0 & 0 & -8 & NA & -8 & -8 & -8 & -8 & -8 & -8 & -8 & 0 & -8 & 0 & -8 & 0 & 0 & -8 & -8 & -8 & -8 & -8 & -8 & 0 & -8 & 0 & -8 & 0 & 0 & -8 & -8 & -8 & -8 & -8 & -8 & 0 & -8 & 0 & -8 & 0 & 0 & -8 & -8 & -8 & -8 & -8 & -8 & 0 & -8 & 0 & -8 & 0 & 0 & -8 & -8 & -8 & -8 & -8 & -8 & 0 & -8 & 0 & -8 & 0 & 0 & 0 & 0 & 0 & 0 & 0 & 0 & 0 & 0 & 0 & 0 & 0 & 1 & 0 & MASTER & 0 & 2012-03-21 & 2099\\\\\n",
       "\t 2019 & 0 & 90 & 1 &    189 &  5 & -8 & NA & 0 & CR & -8 & -8 & 009010000189CR0050 & 009010000189CR0 & -8      & -8 & E & N & 1900-01-01 & 1900-01-01 & 2000-06-08 & 2000-07-11 & 1 & 1900-01-01 & -8 & NA & 0 & 21:963=NP.F  & 4 & 6704 & 6701 & 839 & -8           & -8 &   -8 &   -8 & -8  & -8           & -8 &   -8 &   -8 & -8  & -8             & -8 &   -8 &   -8 & -8  & -8           & -8 &   -8 &   -8 & -8  & 11001 & -8 & -8 & -8 & -8 & 2000-08-09 & 1900-01-01 & 1900-01-01 & 1900-01-01 & 0 & 0 & 0 & -8 & NA & -8 & -8 & -8 & -8 & -8 & -8 & -8 & 0 & -8 & 0 & -8 & 0 & 0 & -8 & -8 & -8 & -8 & -8 & -8 & 0 & -8 & 0 & -8 & 0 & 0 & -8 & -8 & -8 & -8 & -8 & -8 & 0 & -8 & 0 & -8 & 0 & 0 & -8 & -8 & -8 & -8 & -8 & -8 & 0 & -8 & 0 & -8 & 0 & 0 & -8 & -8 & -8 & -8 & -8 & -8 & 0 & -8 & 0 & -8 & 0 & 0 & 0 & 0 & 0 & 0 & 0 & 0 & 0 & 0 & 0 & 0 & 0 & 1 & 1 & MASTER & 0 & 2012-03-21 & 2099\\\\\n",
       "\t 2019 & 0 & 90 & 1 &    189 &  6 & -8 & NA & 0 & CR & -8 & -8 & 009010000189CR0060 & 009010000189CR0 & -8      & -8 & E & N & 1900-01-01 & 1900-01-01 & 2000-06-08 & 2000-07-11 & 1 & 1900-01-01 & -8 & NA & 0 & 21:963=NP.F  & 4 & 6704 & 6701 & 839 & -8           & -8 &   -8 &   -8 & -8  & -8           & -8 &   -8 &   -8 & -8  & -8             & -8 &   -8 &   -8 & -8  & -8           & -8 &   -8 &   -8 & -8  & 11001 & -8 & -8 & -8 & -8 & 2000-08-09 & 1900-01-01 & 1900-01-01 & 1900-01-01 & 0 & 0 & 0 & -8 & NA & -8 & -8 & -8 & -8 & -8 & -8 & -8 & 0 & -8 & 0 & -8 & 0 & 0 & -8 & -8 & -8 & -8 & -8 & -8 & 0 & -8 & 0 & -8 & 0 & 0 & -8 & -8 & -8 & -8 & -8 & -8 & 0 & -8 & 0 & -8 & 0 & 0 & -8 & -8 & -8 & -8 & -8 & -8 & 0 & -8 & 0 & -8 & 0 & 0 & -8 & -8 & -8 & -8 & -8 & -8 & 0 & -8 & 0 & -8 & 0 & 0 & 0 & 0 & 0 & 0 & 0 & 0 & 0 & 0 & 0 & 0 & 0 & 1 & 1 & MASTER & 0 & 2012-03-21 & 2099\\\\\n",
       "\t 2019 & 0 & 90 & 1 &    209 &  1 & -8 & NA & 0 & CR & -8 & -8 & 009010000209CR0010 & 009010000209CR0 & -8      & -8 & E & N & 1900-01-01 & 2000-06-29 & 2000-06-22 & 2000-06-22 & 1 & 2000-06-29 & A  & NA & 0 & 21:846=ND.F  & 4 & 6701 & 6701 & 839 & 21:841B=ND.F &  4 & 6701 & 6701 & 839 & 21:841B=ND.F &  4 & 6701 & 6701 & 839 & 21:841B=ND.F   &  4 & 6701 & 6701 & 839 & 21:841B=ND.F &  4 & 6701 & 6701 & 839 & 11001 & -8 & -8 & -8 & -8 & 2006-09-26 & 1900-01-01 & 1900-01-01 & 1900-01-01 & 0 & 0 & 0 & -8 & NA & -8 & -8 & -8 & -8 & -8 & -8 & -8 & 0 & -8 & 0 & -8 & 0 & 0 & -8 & -8 & -8 & -8 & -8 & -8 & 0 & -8 & 0 & -8 & 0 & 0 & -8 & -8 & -8 & -8 & -8 & -8 & 0 & -8 & 0 & -8 & 0 & 0 & -8 & -8 & -8 & -8 & -8 & -8 & 0 & -8 & 0 & -8 & 0 & 0 & -8 & -8 & -8 & -8 & -8 & -8 & 0 & -8 & 0 & -8 & 0 & 0 & 0 & 0 & 0 & 0 & 0 & 0 & 0 & 0 & 0 & 0 & 0 & 1 & 1 & MASTER & 0 & 2012-03-21 & 2099\\\\\n",
       "\t 2019 & 0 & 90 & 1 &    245 &  1 &  1 & NA & 1 & CR & -8 & MJ & 009010000245CR0011 & 009010000245CR1 & 0000355 &  1 & E & N & 2003-08-01 & 2003-10-21 & 2006-04-11 & 2006-04-11 & 6 & 2000-06-28 & A  & NA & 1 & 18:1344A.F   & 4 & 4601 & 4601 & 215 & 18:1344A.F   &  4 & 4601 & 4601 & 215 & -8           & -8 &   -8 &   -8 & -8  & -8             & -8 &   -8 &   -8 & -8  & -8           & -8 &   -8 &   -8 & -8  & 11001 & -8 & -8 & -8 & -8 & 2006-05-15 & 1900-01-01 & 1900-01-01 & 1900-01-01 & 0 & 0 & 0 & -8 & NA & -8 & -8 & -8 & -8 & -8 & -8 & -8 & 0 & -8 & 0 & -8 & 0 & 0 & -8 & -8 & -8 & -8 & -8 & -8 & 0 & -8 & 0 & -8 & 0 & 0 & -8 & -8 & -8 & -8 & -8 & -8 & 0 & -8 & 0 & -8 & 0 & 0 & -8 & -8 & -8 & -8 & -8 & -8 & 0 & -8 & 0 & -8 & 0 & 0 & -8 & -8 & -8 & -8 & -8 & -8 & 0 & -8 & 0 & -8 & 0 & 0 & 0 & 0 & 0 & 0 & 0 & 0 & 0 & 0 & 0 & 0 & 0 & 1 & 1 & MASTER & 0 & 2012-03-21 & 2099\\\\\n",
       "\t 2019 & 0 & 90 & 1 &    375 &  2 &  2 & NA & 0 & CR & -8 & -8 & 009010000375CR0020 & 009010000375CR0 & -8      & -8 & E & N & 1900-01-01 & 1900-01-01 & 2000-11-08 & 2000-11-08 & 1 & 1900-01-01 & -8 & NA & 0 & 18:1203.F    & 4 & 7611 & 7611 & 830 & 18:1203.F    &  4 & 7611 & 7611 & 830 & 18:1203.F    &  4 & 7611 & 7611 & 830 & 18:924C.F      &  4 & 7830 & 7831 & 820 & 18:924O.F    &  4 & 7830 & 7830 & 519 & 11001 & -8 & -8 & -8 & -8 & 2009-06-16 & 1900-01-01 & 1900-01-01 & 1900-01-01 & 0 & 0 & 0 & -8 & NA & -8 & -8 & -8 & -8 & -8 & -8 & -8 & 0 & -8 & 0 & -8 & 0 & 0 & -8 & -8 & -8 & -8 & -8 & -8 & 0 & -8 & 0 & -8 & 0 & 0 & -8 & -8 & -8 & -8 & -8 & -8 & 0 & -8 & 0 & -8 & 0 & 0 & -8 & -8 & -8 & -8 & -8 & -8 & 0 & -8 & 0 & -8 & 0 & 0 & -8 & -8 & -8 & -8 & -8 & -8 & 0 & -8 & 0 & -8 & 0 & 0 & 0 & 0 & 0 & 0 & 0 & 0 & 0 & 0 & 0 & 0 & 0 & 1 & 1 & MASTER & 0 & 2012-03-21 & 2099\\\\\n",
       "\t 2019 & 0 & 90 & 1 &    375 &  3 &  3 & NA & 0 & CR & -8 & -8 & 009010000375CR0030 & 009010000375CR0 & -8      & -8 & E & N & 1900-01-01 & 1900-01-01 & 2000-11-08 & 2000-11-08 & 1 & 1900-01-01 & -8 & NA & 0 & 18:1203.F    & 4 & 7611 & 7611 & 830 & 18:1203.F    &  4 & 7611 & 7611 & 830 & 18:1203.F    &  4 & 7611 & 7611 & 830 & 18:924C.F      &  4 & 7830 & 7831 & 820 & 18:924O.F    &  4 & 7830 & 7830 & 519 & 11001 & -8 & -8 & -8 & -8 & 2009-06-16 & 1900-01-01 & 1900-01-01 & 1900-01-01 & 0 & 0 & 0 & -8 & NA & -8 & -8 & -8 & -8 & -8 & -8 & -8 & 0 & -8 & 0 & -8 & 0 & 0 & -8 & -8 & -8 & -8 & -8 & -8 & 0 & -8 & 0 & -8 & 0 & 0 & -8 & -8 & -8 & -8 & -8 & -8 & 0 & -8 & 0 & -8 & 0 & 0 & -8 & -8 & -8 & -8 & -8 & -8 & 0 & -8 & 0 & -8 & 0 & 0 & -8 & -8 & -8 & -8 & -8 & -8 & 0 & -8 & 0 & -8 & 0 & 0 & 0 & 0 & 0 & 0 & 0 & 0 & 0 & 0 & 0 & 0 & 0 & 1 & 1 & MASTER & 0 & 2012-03-21 & 2099\\\\\n",
       "\t 2019 & 0 & 90 & 1 &    425 &  5 & -8 & NA & 0 & CR & -8 & -8 & 009010000425CR0050 & 009010000425CR0 & -8      & -8 & E & Z & 1900-01-01 & 1900-01-01 & 2000-12-15 & 2000-12-15 & 1 & 1900-01-01 & -8 & NA & 0 & 21:846=ND.F  & 4 & 6701 & 6701 & 839 & -8           & -8 &   -8 &   -8 & -8  & -8           & -8 &   -8 &   -8 & -8  & -8             & -8 &   -8 &   -8 & -8  & -8           & -8 &   -8 &   -8 & -8  & 11001 & -8 & -8 & -8 & -8 & 2006-11-11 & 1900-01-01 & 1900-01-01 & 1900-01-01 & 0 & 0 & 0 & -8 & NA & -8 & -8 & -8 & -8 & -8 & -8 & -8 & 0 & -8 & 0 & -8 & 0 & 0 & -8 & -8 & -8 & -8 & -8 & -8 & 0 & -8 & 0 & -8 & 0 & 0 & -8 & -8 & -8 & -8 & -8 & -8 & 0 & -8 & 0 & -8 & 0 & 0 & -8 & -8 & -8 & -8 & -8 & -8 & 0 & -8 & 0 & -8 & 0 & 0 & -8 & -8 & -8 & -8 & -8 & -8 & 0 & -8 & 0 & -8 & 0 & 0 & 0 & 0 & 0 & 0 & 0 & 0 & 0 & 0 & 0 & 0 & 0 & 1 & 0 & MASTER & 0 & 2012-03-21 & 2099\\\\\n",
       "\t 2019 & 0 & 90 & 1 &    429 &  1 & -8 & NA & 0 & CR & -8 & MJ & 009010000429CR0010 & 009010000429CR0 & 0000716 &  1 & E & N & 1900-01-01 & 1900-01-01 & 2000-12-15 & 2000-12-21 & 1 & 2000-11-27 & 1  & NA & 6 & 18:922E.F    & 4 & 7830 & 7830 & 205 & -8           & -8 &   -8 &   -8 & -8  & -8           & -8 &   -8 &   -8 & -8  & -8             & -8 &   -8 &   -8 & -8  & -8           & -8 &   -8 &   -8 & -8  & 11001 & -8 & -8 & -8 & -8 & 2004-10-12 & 1900-01-01 & 1900-01-01 & 1900-01-01 & 0 & 0 & 0 & -8 & NA & -8 & -8 & -8 & -8 & -8 & -8 & -8 & 0 & -8 & 0 & -8 & 0 & 0 & -8 & -8 & -8 & -8 & -8 & -8 & 0 & -8 & 0 & -8 & 0 & 0 & -8 & -8 & -8 & -8 & -8 & -8 & 0 & -8 & 0 & -8 & 0 & 0 & -8 & -8 & -8 & -8 & -8 & -8 & 0 & -8 & 0 & -8 & 0 & 0 & -8 & -8 & -8 & -8 & -8 & -8 & 0 & -8 & 0 & -8 & 0 & 0 & 0 & 0 & 0 & 0 & 0 & 0 & 0 & 0 & 0 & 0 & 0 & 1 & 1 & MASTER & 0 & 2012-03-21 & 2099\\\\\n",
       "\t 2019 & 0 & 90 & 1 &   9999 &  1 & -8 & NA & 0 & CR & -8 & -8 & 009010009999CR0010 & 009010009999CR0 & -8      & -8 & E & Z & 1900-01-01 & 1900-01-01 & 2000-03-21 & 1999-04-03 & 1 & 1900-01-01 & -8 & NA & 0 & 21:860A=ND.F & 4 & 6701 & 6701 & 909 & 21:860A=ND.F &  4 & 6701 & 6701 & 909 & 21:860A=ND.F &  4 & 6701 & 6701 & 909 & 21:846=ND.F    &  4 & 6701 & 6701 & 839 & 21:845=CD.F  &  4 & 6801 & 6801 & 739 & 11001 & -8 & -8 & -8 & -8 & 2001-09-18 & 1900-01-01 & 1900-01-01 & 1900-01-01 & 0 & 0 & 0 & -8 & NA & -8 & -8 & -8 & -8 & -8 & -8 & -8 & 0 & -8 & 0 & -8 & 0 & 0 & -8 & -8 & -8 & -8 & -8 & -8 & 0 & -8 & 0 & -8 & 0 & 0 & -8 & -8 & -8 & -8 & -8 & -8 & 0 & -8 & 0 & -8 & 0 & 0 & -8 & -8 & -8 & -8 & -8 & -8 & 0 & -8 & 0 & -8 & 0 & 0 & -8 & -8 & -8 & -8 & -8 & -8 & 0 & -8 & 0 & -8 & 0 & 0 & 0 & 0 & 0 & 0 & 0 & 0 & 0 & 0 & 0 & 0 & 0 & 1 & 0 & MASTER & 0 & 2012-03-21 & 2099\\\\\n",
       "\t 2019 & 0 & 90 & 1 & 100011 &  1 & -8 & NA & 0 & CR & -8 & -8 & 009010100011CR0010 & 009010100011CR0 & -8      & -8 & E & N & 1900-01-01 & 1900-01-01 & 2001-01-16 & 2001-01-16 & 1 & 1900-01-01 & -8 & NA & 0 & 21:841B=ND.F & 4 & 6701 & 6701 & 839 & 21:841B=ND.F &  4 & 6701 & 6701 & 839 & 21:841B=ND.F &  4 & 6701 & 6701 & 839 & 21:841B=ND.F   &  4 & 6701 & 6701 & 839 & -8           & -8 &   -8 &   -8 & -8  & 11001 & -8 & -8 & -8 & -8 & 2001-02-12 & 1900-01-01 & 1900-01-01 & 1900-01-01 & 0 & 0 & 0 & -8 & NA & -8 & -8 & -8 & -8 & -8 & -8 & -8 & 0 & -8 & 0 & -8 & 0 & 0 & -8 & -8 & -8 & -8 & -8 & -8 & 0 & -8 & 0 & -8 & 0 & 0 & -8 & -8 & -8 & -8 & -8 & -8 & 0 & -8 & 0 & -8 & 0 & 0 & -8 & -8 & -8 & -8 & -8 & -8 & 0 & -8 & 0 & -8 & 0 & 0 & -8 & -8 & -8 & -8 & -8 & -8 & 0 & -8 & 0 & -8 & 0 & 0 & 0 & 0 & 0 & 0 & 0 & 0 & 0 & 0 & 0 & 0 & 0 & 1 & 1 & MASTER & 0 & 2012-03-21 & 2099\\\\\n",
       "\t 2019 & 0 & 90 & 1 & 100012 &  1 & -8 & NA & 0 & CR & -8 & -8 & 009010100012CR0010 & 009010100012CR0 & -8      & -8 & E & N & 1900-01-01 & 1900-01-01 & 2001-01-16 & 2001-01-16 & 1 & 1900-01-01 & -8 & NA & 0 & 21:841B=ND.F & 4 & 6701 & 6701 & 839 & -8           & -8 &   -8 &   -8 & -8  & -8           & -8 &   -8 &   -8 & -8  & -8             & -8 &   -8 &   -8 & -8  & -8           & -8 &   -8 &   -8 & -8  & 11001 & -8 & -8 & -8 & -8 & 2001-02-12 & 1900-01-01 & 1900-01-01 & 1900-01-01 & 0 & 0 & 0 & -8 & NA & -8 & -8 & -8 & -8 & -8 & -8 & -8 & 0 & -8 & 0 & -8 & 0 & 0 & -8 & -8 & -8 & -8 & -8 & -8 & 0 & -8 & 0 & -8 & 0 & 0 & -8 & -8 & -8 & -8 & -8 & -8 & 0 & -8 & 0 & -8 & 0 & 0 & -8 & -8 & -8 & -8 & -8 & -8 & 0 & -8 & 0 & -8 & 0 & 0 & -8 & -8 & -8 & -8 & -8 & -8 & 0 & -8 & 0 & -8 & 0 & 0 & 0 & 0 & 0 & 0 & 0 & 0 & 0 & 0 & 0 & 0 & 0 & 1 & 1 & MASTER & 0 & 2012-03-21 & 2099\\\\\n",
       "\t ⋮ & ⋮ & ⋮ & ⋮ & ⋮ & ⋮ & ⋮ & ⋮ & ⋮ & ⋮ & ⋮ & ⋮ & ⋮ & ⋮ & ⋮ & ⋮ & ⋮ & ⋮ & ⋮ & ⋮ & ⋮ & ⋮ & ⋮ & ⋮ & ⋮ & ⋮ & ⋮ & ⋮ & ⋮ & ⋮ & ⋮ & ⋮ & ⋮ & ⋮ & ⋮ & ⋮ & ⋮ & ⋮ & ⋮ & ⋮ & ⋮ & ⋮ & ⋮ & ⋮ & ⋮ & ⋮ & ⋮ & ⋮ & ⋮ & ⋮ & ⋮ & ⋮ & ⋮ & ⋮ & ⋮ & ⋮ & ⋮ & ⋮ & ⋮ & ⋮ & ⋮ & ⋮ & ⋮ & ⋮ & ⋮ & ⋮ & ⋮ & ⋮ & ⋮ & ⋮ & ⋮ & ⋮ & ⋮ & ⋮ & ⋮ & ⋮ & ⋮ & ⋮ & ⋮ & ⋮ & ⋮ & ⋮ & ⋮ & ⋮ & ⋮ & ⋮ & ⋮ & ⋮ & ⋮ & ⋮ & ⋮ & ⋮ & ⋮ & ⋮ & ⋮ & ⋮ & ⋮ & ⋮ & ⋮ & ⋮ & ⋮ & ⋮ & ⋮ & ⋮ & ⋮ & ⋮ & ⋮ & ⋮ & ⋮ & ⋮ & ⋮ & ⋮ & ⋮ & ⋮ & ⋮ & ⋮ & ⋮ & ⋮ & ⋮ & ⋮ & ⋮ & ⋮ & ⋮ & ⋮ & ⋮ & ⋮ & ⋮ & ⋮ & ⋮ & ⋮ & ⋮ & ⋮ & ⋮ & ⋮ & ⋮ & ⋮ & ⋮ & ⋮ & ⋮ & ⋮ & ⋮ & ⋮ & ⋮ & ⋮\\\\\n",
       "\t 2019 & 11 & 3J & 6 & 1800014 &  3 &  3 & NA & 0 & CR & -8 & -8 & 113J61800014CR0030 & 113J61800014CR0 & -8 & -8 & J & N & 1900-01-01 & 1900-01-01 & 2018-09-10 & 2018-09-10 & 1 & 2018-09-26 & 1  & NA & 0 & 21:846=CD.F & 4 & 6801 & 6801 & 839 & 18:924C.F    &  4 & 7830 & 7831 & 820 & 21:841A=CD.F &  4 & 6801 & 6801 & 839 & 21:841A=MD.F &  4 & 6501 & 6501 & 239 & 18:922G.F &  4 & 7830 & 7820 & 409 & 13031 & -8 & -8 & -8 & -8 & 1900-01-01 & 2019-01-14 & 2019-06-12 & 2019-06-12 &  0 & 130 & 149 & 6  & NA &  1 & 21:846=CD.F  &  4 & 6801 & 6801 & 839 &  4 & 204 & M001 &  0 & -8 & 48 & 1500 & 18:924C.F    &  4 & 7830 & 7831 & 820 &  1 &  0 & -8   &  0 & -8 &  0 &    0 & 21:841A=MD.F &  4 & 6501 & 6501 & 239 &  1 &  0 & -8 &  0 & -8 &  0 &  0 & 21:841A=CD.F &  4 & 6801 & 6801 & 839 &  1 &  0 & -8 &  0 & -8 &  0 &  0 & 18:922G.F &  4 & 7830 & 7820 & 409 &  1 &  0 & -8 &  0 & -8 &  0 &  0 & 204 & -8 & 1500 & 1 & 1 & 1 & 0 & 1 & 1 & 1 & 0 & 0 & 0 & CMECF  & 1 & 2019-07-09 & 2019\\\\\n",
       "\t 2019 & 11 & 3J & 6 & 1800014 &  4 &  4 & NA & 0 & CR & -8 & -8 & 113J61800014CR0040 & 113J61800014CR0 & -8 & -8 & J & N & 1900-01-01 & 1900-01-01 & 2018-09-10 & 2018-09-10 & 1 & 2018-09-12 & 1  & NA & 0 & 21:846=CD.F & 4 & 6801 & 6801 & 839 & 21:841A=CD.F &  4 & 6801 & 6801 & 839 & -8           & -8 &   -8 &   -8 & -8  & -8           & -8 &   -8 &   -8 & -8  & -8        & -8 &   -8 &   -8 & -8  & 13031 & -8 & -8 & -8 & -8 & 1900-01-01 & 2019-01-14 & 2019-05-06 & 2019-05-06 &  0 & 100 & 112 & 6  & NA &  1 & 21:846=CD.F  &  4 & 6801 & 6801 & 839 &  4 & 125 & M001 &  0 & -8 & 36 & 1500 & 21:841A=CD.F &  4 & 6801 & 6801 & 839 &  1 &  0 & -8   &  0 & -8 &  0 &    0 & -8           & -8 &   -8 &   -8 & -8  & -8 & -8 & -8 & -8 & -8 & -8 & -8 & -8           & -8 &   -8 &   -8 & -8  & -8 & -8 & -8 & -8 & -8 & -8 & -8 & -8        & -8 &   -8 &   -8 & -8  & -8 & -8 & -8 & -8 & -8 & -8 & -8 & 125 & -8 & 1500 & 1 & 1 & 1 & 0 & 1 & 1 & 1 & 0 & 0 & 0 & CMECF  & 1 & 2019-06-07 & 2019\\\\\n",
       "\t 2019 & 11 & 3J & 6 & 1800014 &  5 &  5 & NA & 0 & CR & -8 & -8 & 113J61800014CR0050 & 113J61800014CR0 & -8 & -8 & J & N & 1900-01-01 & 1900-01-01 & 2018-09-10 & 2018-09-10 & 1 & 2018-09-26 & 1  & NA & 0 & 21:846=CD.F & 4 & 6801 & 6801 & 839 & 21:841A=CD.F &  4 & 6801 & 6801 & 839 & 21:843A=CD.F &  4 & 6801 & 6801 & 338 & -8           & -8 &   -8 &   -8 & -8  & -8        & -8 &   -8 &   -8 & -8  & 13031 & -8 & -8 & -8 & -8 & 1900-01-01 & 2018-12-21 & 2019-06-12 & 2019-06-12 &  0 &   0 & 173 & 6  & NA &  1 & 21:846=CD.F  &  4 & 6801 & 6801 & 839 &  4 &  96 & M001 &  0 & -8 & 60 & 1000 & 21:841A=CD.F &  4 & 6801 & 6801 & 839 &  1 &  0 & -8   &  0 & -8 &  0 &    0 & 21:843A=CD.F &  4 & 6801 & 6801 & 338 &  1 &  0 & -8 &  0 & -8 &  0 &  0 & -8           & -8 &   -8 &   -8 & -8  & -8 & -8 & -8 & -8 & -8 & -8 & -8 & -8        & -8 &   -8 &   -8 & -8  & -8 & -8 & -8 & -8 & -8 & -8 & -8 &  96 & -8 & 1000 & 1 & 1 & 1 & 0 & 1 & 1 & 1 & 0 & 0 & 0 & CMECF  & 1 & 2019-07-09 & 2019\\\\\n",
       "\t 2019 & 11 & 3J & 6 & 1800014 &  6 &  6 & NA & 0 & CR & -8 & -8 & 113J61800014CR0060 & 113J61800014CR0 & -8 & -8 & J & N & 1900-01-01 & 1900-01-01 & 2018-09-10 & 2018-09-10 & 1 & 2018-09-26 & 1  & NA & 0 & 21:846=CD.F & 4 & 6801 & 6801 & 839 & 21:841A=CD.F &  4 & 6801 & 6801 & 839 & 21:841A=CD.F &  4 & 6801 & 6801 & 839 & -8           & -8 &   -8 &   -8 & -8  & -8        & -8 &   -8 &   -8 & -8  & 13031 & -8 & -8 & -8 & -8 & 1900-01-01 & 2019-01-14 & 2019-04-19 & 2019-04-19 &  0 & 220 & 950 & 6  & NA &  2 & 21:846=CD.F  &  4 & 6801 & 6801 & 839 &  4 &  90 & M001 &  0 & -8 & 36 & 1500 & 21:841A=CD.F &  4 & 6801 & 6801 & 839 &  1 &  0 & -8   &  0 & -8 &  0 &    0 & 21:841A=CD.F &  4 & 6801 & 6801 & 839 &  1 &  0 & -8 &  0 & -8 &  0 &  0 & -8           & -8 &   -8 &   -8 & -8  & -8 & -8 & -8 & -8 & -8 & -8 & -8 & -8        & -8 &   -8 &   -8 & -8  & -8 & -8 & -8 & -8 & -8 & -8 & -8 &  90 & -8 & 1500 & 1 & 1 & 1 & 0 & 1 & 1 & 1 & 0 & 0 & 0 & CMECF  & 1 & 2019-05-13 & 2019\\\\\n",
       "\t 2019 & 11 & 3J & 6 & 1800014 &  7 &  7 & NA & 0 & CR & -8 & -8 & 113J61800014CR0070 & 113J61800014CR0 & -8 & -8 & J & N & 1900-01-01 & 1900-01-01 & 2018-09-10 & 2018-09-10 & 1 & 2018-09-12 & 1  & NA & 0 & 21:846=CD.F & 4 & 6801 & 6801 & 839 & 21:841A=CD.F &  4 & 6801 & 6801 & 839 & -8           & -8 &   -8 &   -8 & -8  & -8           & -8 &   -8 &   -8 & -8  & -8        & -8 &   -8 &   -8 & -8  & 13031 & -8 & -8 & -8 & -8 & 1900-01-01 & 2018-12-04 & 2019-06-12 & 2019-06-12 &  0 & 900 & 190 & 6  & NA &  2 & 21:846=CD.F  &  4 & 6801 & 6801 & 839 &  4 &  48 & M001 &  0 & -8 & 36 & 1500 & 21:841A=CD.F &  4 & 6801 & 6801 & 839 &  1 &  0 & -8   &  0 & -8 &  0 &    0 & -8           & -8 &   -8 &   -8 & -8  & -8 & -8 & -8 & -8 & -8 & -8 & -8 & -8           & -8 &   -8 &   -8 & -8  & -8 & -8 & -8 & -8 & -8 & -8 & -8 & -8        & -8 &   -8 &   -8 & -8  & -8 & -8 & -8 & -8 & -8 & -8 & -8 &  48 & -8 & 1500 & 1 & 1 & 1 & 0 & 1 & 1 & 1 & 0 & 0 & 0 & CMECF  & 1 & 2019-07-09 & 2019\\\\\n",
       "\t 2019 & 11 & 3J & 6 & 1800014 &  8 &  8 & NA & 0 & CR & -8 & -8 & 113J61800014CR0080 & 113J61800014CR0 & -8 & -8 & J & N & 1900-01-01 & 1900-01-01 & 2018-09-10 & 2018-09-10 & 1 & 2018-09-26 & 1  & NA & 0 & 21:846=CD.F & 4 & 6801 & 6801 & 839 & 21:841A=CD.F &  4 & 6801 & 6801 & 839 & -8           & -8 &   -8 &   -8 & -8  & -8           & -8 &   -8 &   -8 & -8  & -8        & -8 &   -8 &   -8 & -8  & 13031 & -8 & -8 & -8 & -8 & 1900-01-01 & 2018-12-05 & 2019-03-27 & 2019-03-27 &  0 & 700 & 112 & 6  & NA &  1 & 21:841A=CD.F &  4 & 6801 & 6801 & 839 &  4 &  24 & M001 &  0 & -8 & 48 & 1500 & 21:846=CD.F  &  4 & 6801 & 6801 & 839 &  1 &  0 & -8   &  0 & -8 &  0 &    0 & -8           & -8 &   -8 &   -8 & -8  & -8 & -8 & -8 & -8 & -8 & -8 & -8 & -8           & -8 &   -8 &   -8 & -8  & -8 & -8 & -8 & -8 & -8 & -8 & -8 & -8        & -8 &   -8 &   -8 & -8  & -8 & -8 & -8 & -8 & -8 & -8 & -8 &  24 & -8 & 1500 & 1 & 1 & 1 & 0 & 1 & 1 & 1 & 0 & 0 & 0 & CMECF  & 1 & 2019-04-11 & 2019\\\\\n",
       "\t 2019 & 11 & 3J & 6 & 1800014 &  9 &  9 & NA & 0 & CR & -8 & -8 & 113J61800014CR0090 & 113J61800014CR0 & -8 & -8 & J & N & 1900-01-01 & 1900-01-01 & 2018-09-10 & 2018-09-10 & 1 & 2018-09-26 & 1  & NA & 0 & 21:846=CD.F & 4 & 6801 & 6801 & 839 & 21:841A=CD.F &  4 & 6801 & 6801 & 839 & -8           & -8 &   -8 &   -8 & -8  & -8           & -8 &   -8 &   -8 & -8  & -8        & -8 &   -8 &   -8 & -8  & 13031 & -8 & -8 & -8 & -8 & 1900-01-01 & 2018-12-04 & 2019-03-27 & 2019-03-27 &  0 & 700 & 113 & 6  & NA &  1 & 21:841A=CD.F &  4 & 6801 & 6801 & 839 &  4 &  77 & M001 &  0 & -8 & 48 &    0 & 21:846=CD.F  &  4 & 6801 & 6801 & 839 &  1 &  0 & -8   &  0 & -8 &  0 &    0 & -8           & -8 &   -8 &   -8 & -8  & -8 & -8 & -8 & -8 & -8 & -8 & -8 & -8           & -8 &   -8 &   -8 & -8  & -8 & -8 & -8 & -8 & -8 & -8 & -8 & -8        & -8 &   -8 &   -8 & -8  & -8 & -8 & -8 & -8 & -8 & -8 & -8 &  77 & -8 &    0 & 1 & 1 & 1 & 0 & 1 & 1 & 1 & 0 & 0 & 0 & CMECF  & 1 & 2019-04-11 & 2019\\\\\n",
       "\t 2019 & 11 & 3J & 6 & 1800014 & 10 & 10 & NA & 0 & CR & -8 & -8 & 113J61800014CR0100 & 113J61800014CR0 & -8 & -8 & E & N & 1900-01-01 & 1900-01-01 & 2018-09-10 & 2018-09-10 & 1 & 2018-09-12 & 1  & NA & 0 & 21:846=CD.F & 4 & 6801 & 6801 & 839 & 21:841A=CD.F &  4 & 6801 & 6801 & 839 & 21:841A=CD.F &  4 & 6801 & 6801 & 839 & -8           & -8 &   -8 &   -8 & -8  & -8        & -8 &   -8 &   -8 & -8  & 13031 & -8 & -8 & -8 & -8 & 1900-01-01 & 1900-01-01 & 1900-01-01 & 1900-01-01 & -8 &  -8 &  -8 & -8 & NA & -8 & -8           & -8 &   -8 &   -8 & -8  & -8 &  -8 & -8   & -8 & -8 & -8 &   -8 & -8           & -8 &   -8 &   -8 & -8  & -8 & -8 & -8   & -8 & -8 & -8 &   -8 & -8           & -8 &   -8 &   -8 & -8  & -8 & -8 & -8 & -8 & -8 & -8 & -8 & -8           & -8 &   -8 &   -8 & -8  & -8 & -8 & -8 & -8 & -8 & -8 & -8 & -8        & -8 &   -8 &   -8 & -8  & -8 & -8 & -8 & -8 & -8 & -8 & -8 &  -8 & -8 &    0 & 1 & 1 & 1 & 0 & 0 & 0 & 0 & 0 & 1 & 1 & CMECF  & 0 & 2018-10-11 & 2099\\\\\n",
       "\t 2019 & 11 & 3J & 6 & 1800014 & 11 & 11 & NA & 0 & CR & -8 & -8 & 113J61800014CR0110 & 113J61800014CR0 & -8 & -8 & J & N & 1900-01-01 & 1900-01-01 & 2018-09-10 & 2018-09-10 & 1 & 2018-10-19 & 1  & NA & 0 & 21:846=CD.F & 4 & 6801 & 6801 & 839 & -8           & -8 &   -8 &   -8 & -8  & -8           & -8 &   -8 &   -8 & -8  & -8           & -8 &   -8 &   -8 & -8  & -8        & -8 &   -8 &   -8 & -8  & 13031 & -8 & -8 & -8 & -8 & 1900-01-01 & 2018-12-19 & 1900-01-01 & 2018-12-19 &  0 &   0 &   0 & 6  & NA &  1 & 21:846=CD.F  &  4 & 6801 & 6801 & 839 &  1 &   0 & -8   &  0 & -8 &  0 &    0 & -8           & -8 &   -8 &   -8 & -8  & -8 & -8 & -8   & -8 & -8 & -8 &   -8 & -8           & -8 &   -8 &   -8 & -8  & -8 & -8 & -8 & -8 & -8 & -8 & -8 & -8           & -8 &   -8 &   -8 & -8  & -8 & -8 & -8 & -8 & -8 & -8 & -8 & -8        & -8 &   -8 &   -8 & -8  & -8 & -8 & -8 & -8 & -8 & -8 & -8 &  -8 & -8 &    0 & 1 & 1 & 1 & 0 & 1 & 1 & 1 & 0 & 0 & 0 & CMECF  & 2 & 2019-01-08 & 2019\\\\\n",
       "\t 2019 & 11 & 3J & 6 & 1800014 & 12 & 12 & NA & 0 & CR & -8 & -8 & 113J61800014CR0120 & 113J61800014CR0 & -8 & -8 & J & N & 1900-01-01 & 1900-01-01 & 2018-09-10 & 2018-09-10 & 1 & 2018-09-12 & 1  & NA & 0 & 21:846=CD.F & 4 & 6801 & 6801 & 839 & 21:841A=MD.F &  4 & 6501 & 6501 & 239 & -8           & -8 &   -8 &   -8 & -8  & -8           & -8 &   -8 &   -8 & -8  & -8        & -8 &   -8 &   -8 & -8  & 13031 & -8 & -8 & -8 & -8 & 1900-01-01 & 2019-01-29 & 2019-06-12 & 2019-06-12 &  0 & 700 & 134 & 6  & NA &  1 & 21:841A=MD.F &  4 & 6501 & 6501 & 239 &  4 &  30 & M001 &  0 & -8 & 48 & 1500 & 21:846=CD.F  &  4 & 6801 & 6801 & 839 &  1 &  0 & -8   &  0 & -8 &  0 &    0 & -8           & -8 &   -8 &   -8 & -8  & -8 & -8 & -8 & -8 & -8 & -8 & -8 & -8           & -8 &   -8 &   -8 & -8  & -8 & -8 & -8 & -8 & -8 & -8 & -8 & -8        & -8 &   -8 &   -8 & -8  & -8 & -8 & -8 & -8 & -8 & -8 & -8 &  30 & -8 & 1500 & 1 & 1 & 1 & 0 & 1 & 1 & 1 & 0 & 0 & 0 & CMECF  & 1 & 2019-07-09 & 2019\\\\\n",
       "\t 2019 & 11 & 3J & 6 & 1800014 & 13 & 13 & NA & 0 & CR & -8 & -8 & 113J61800014CR0130 & 113J61800014CR0 & -8 & -8 & J & N & 1900-01-01 & 1900-01-01 & 2018-09-10 & 2018-09-10 & 1 & 2018-09-26 & 1  & NA & 0 & 21:846=CD.F & 4 & 6801 & 6801 & 839 & 21:841A=CD.F &  4 & 6801 & 6801 & 839 & -8           & -8 &   -8 &   -8 & -8  & -8           & -8 &   -8 &   -8 & -8  & -8        & -8 &   -8 &   -8 & -8  & 13031 & -8 & -8 & -8 & -8 & 1900-01-01 & 2018-12-04 & 2019-03-27 & 2019-03-27 &  0 &   0 & 113 & 6  & NA &  1 & 21:841A=CD.F &  4 & 6801 & 6801 & 839 &  4 &  60 & M001 &  0 & -8 & 48 &    0 & 21:846=CD.F  &  4 & 6801 & 6801 & 839 &  1 &  0 & -8   &  0 & -8 &  0 &    0 & -8           & -8 &   -8 &   -8 & -8  & -8 & -8 & -8 & -8 & -8 & -8 & -8 & -8           & -8 &   -8 &   -8 & -8  & -8 & -8 & -8 & -8 & -8 & -8 & -8 & -8        & -8 &   -8 &   -8 & -8  & -8 & -8 & -8 & -8 & -8 & -8 & -8 &  60 & -8 &    0 & 1 & 1 & 1 & 0 & 1 & 1 & 1 & 0 & 0 & 0 & CMECF  & 1 & 2019-04-11 & 2019\\\\\n",
       "\t 2019 & 11 & 3J & 6 & 1800014 & 14 & 14 & NA & 0 & CR & -8 & -8 & 113J61800014CR0140 & 113J61800014CR0 & -8 & -8 & J & N & 1900-01-01 & 1900-01-01 & 2018-09-10 & 2018-09-10 & 1 & 2018-09-26 & 1  & NA & 0 & 21:846=CD.F & 4 & 6801 & 6801 & 839 & 21:841A=CD.F &  4 & 6801 & 6801 & 839 & 21:841A=CD.F &  4 & 6801 & 6801 & 839 & 21:841A=CD.F &  4 & 6801 & 6801 & 839 & -8        & -8 &   -8 &   -8 & -8  & 13031 & -8 & -8 & -8 & -8 & 1900-01-01 & 2018-12-21 & 2019-03-27 & 2019-03-27 &  0 &   0 & 960 & 6  & NA &  1 & 21:841A=CD.F &  4 & 6801 & 6801 & 839 &  4 &  90 & M001 &  0 & -8 & 60 & 2000 & 21:846=CD.F  &  4 & 6801 & 6801 & 839 &  1 &  0 & -8   &  0 & -8 &  0 &    0 & 21:841A=CD.F &  4 & 6801 & 6801 & 839 &  1 &  0 & -8 &  0 & -8 &  0 &  0 & 21:841A=CD.F &  4 & 6801 & 6801 & 839 &  1 &  0 & -8 &  0 & -8 &  0 &  0 & -8        & -8 &   -8 &   -8 & -8  & -8 & -8 & -8 & -8 & -8 & -8 & -8 &  90 & -8 & 2000 & 1 & 1 & 1 & 0 & 1 & 1 & 1 & 0 & 0 & 0 & CMECF  & 2 & 2019-04-11 & 2019\\\\\n",
       "\t 2019 & 11 & 3J & 6 & 1800014 & 15 & 15 & NA & 0 & CR & -8 & -8 & 113J61800014CR0150 & 113J61800014CR0 & -8 & -8 & J & N & 1900-01-01 & 1900-01-01 & 2018-09-10 & 2018-09-10 & 1 & 2018-09-26 & 1  & NA & 0 & 21:846=CD.F & 4 & 6801 & 6801 & 839 & 21:841A=CD.F &  4 & 6801 & 6801 & 839 & 21:841A=CD.F &  4 & 6801 & 6801 & 839 & -8           & -8 &   -8 &   -8 & -8  & -8        & -8 &   -8 &   -8 & -8  & 13031 & -8 & -8 & -8 & -8 & 1900-01-01 & 2019-02-26 & 2019-06-12 & 2019-06-12 &  0 &   0 & 106 & 6  & NA &  1 & 21:846=CD.F  &  4 & 6801 & 6801 & 839 &  4 &  96 & M001 &  0 & -8 & 48 & 1500 & 21:841A=CD.F &  4 & 6801 & 6801 & 839 &  1 &  0 & -8   &  0 & -8 &  0 &    0 & 21:841A=CD.F &  4 & 6801 & 6801 & 839 &  1 &  0 & -8 &  0 & -8 &  0 &  0 & -8           & -8 &   -8 &   -8 & -8  & -8 & -8 & -8 & -8 & -8 & -8 & -8 & -8        & -8 &   -8 &   -8 & -8  & -8 & -8 & -8 & -8 & -8 & -8 & -8 &  96 & -8 & 1500 & 1 & 1 & 1 & 0 & 1 & 1 & 1 & 0 & 0 & 0 & CMECF  & 1 & 2019-07-09 & 2019\\\\\n",
       "\t 2019 & 11 & 3J & 6 & 1800014 & 16 & 16 & NA & 0 & CR & -8 & -8 & 113J61800014CR0160 & 113J61800014CR0 & -8 & -8 & J & N & 1900-01-01 & 1900-01-01 & 2018-09-10 & 2018-09-10 & 1 & 2018-10-19 & 1  & NA & 0 & 21:846=CD.F & 4 & 6801 & 6801 & 839 & 18:924C.F    &  4 & 7830 & 7831 & 820 & 21:841A=CD.F &  4 & 6801 & 6801 & 839 & 18:922G.F    &  4 & 7830 & 7820 & 409 & -8        & -8 &   -8 &   -8 & -8  & 13031 & -8 & -8 & -8 & -8 & 1900-01-01 & 2019-01-29 & 2019-06-12 & 2019-06-12 &  0 & 700 & 134 & 6  & NA &  1 & 18:924C.F    &  4 & 7830 & 7831 & 820 &  4 &  60 & S001 &  0 & -8 & 60 &    0 & 21:841A=CD.F &  4 & 6801 & 6801 & 839 &  4 & 41 & S001 &  0 & -8 & 36 & 1500 & 21:846=CD.F  &  4 & 6801 & 6801 & 839 &  1 &  0 & -8 &  0 & -8 &  0 &  0 & 18:922G.F    &  4 & 7830 & 7820 & 409 &  1 &  0 & -8 &  0 & -8 &  0 &  0 & -8        & -8 &   -8 &   -8 & -8  & -8 & -8 & -8 & -8 & -8 & -8 & -8 & 101 & -8 & 1500 & 1 & 1 & 1 & 0 & 1 & 1 & 1 & 0 & 0 & 0 & CMECF  & 2 & 2019-07-09 & 2019\\\\\n",
       "\t 2019 & 11 & 3J & 6 & 1800014 & 17 & 17 & NA & 0 & CR & -8 & -8 & 113J61800014CR0170 & 113J61800014CR0 & -8 & -8 & J & N & 1900-01-01 & 1900-01-01 & 2018-09-10 & 2018-09-10 & 1 & 2018-09-26 & 1  & NA & 0 & 21:846=CD.F & 4 & 6801 & 6801 & 839 & 18:924C.F    &  4 & 7830 & 7831 & 820 & 21:841A=CD.F &  4 & 6801 & 6801 & 839 & 18:922G.F    &  4 & 7830 & 7820 & 409 & -8        & -8 &   -8 &   -8 & -8  & 13031 & -8 & -8 & -8 & -8 & 1900-01-01 & 2019-05-06 & 2019-05-06 & 2019-05-06 &  0 & 100 & 100 & 6  & NA &  1 & 18:924C.F    &  4 & 7830 & 7831 & 820 &  4 &  60 & S001 &  0 & -8 & 36 &    0 & 21:841A=CD.F &  4 & 6801 & 6801 & 839 &  4 & 57 & S001 &  0 & -8 & 36 & 1500 & 21:846=CD.F  &  4 & 6801 & 6801 & 839 &  1 &  0 & -8 &  0 & -8 &  0 &  0 & 18:922G.F    &  4 & 7830 & 7820 & 409 &  1 &  0 & -8 &  0 & -8 &  0 &  0 & -8        & -8 &   -8 &   -8 & -8  & -8 & -8 & -8 & -8 & -8 & -8 & -8 & 117 & -8 & 1500 & 1 & 1 & 1 & 0 & 1 & 1 & 1 & 0 & 0 & 0 & CMECF  & 1 & 2019-06-07 & 2019\\\\\n",
       "\t 2019 & 11 & 3J & 6 & 1800014 & 18 & 18 & NA & 0 & CR & -8 & -8 & 113J61800014CR0180 & 113J61800014CR0 & -8 & -8 & J & N & 1900-01-01 & 1900-01-01 & 2018-09-10 & 2018-09-10 & 1 & 2018-09-12 & 1  & NA & 0 & 21:846=CD.F & 4 & 6801 & 6801 & 839 & 21:841A=CD.F &  4 & 6801 & 6801 & 839 & -8           & -8 &   -8 &   -8 & -8  & -8           & -8 &   -8 &   -8 & -8  & -8        & -8 &   -8 &   -8 & -8  & 13031 & -8 & -8 & -8 & -8 & 1900-01-01 & 2018-12-21 & 2019-04-19 & 2019-04-19 &  0 & 700 & 119 & 6  & NA &  1 & 21:841A=CD.F &  4 & 6801 & 6801 & 839 &  4 &  37 & M001 &  0 & -8 & 36 & 1500 & 21:846=CD.F  &  4 & 6801 & 6801 & 839 &  1 &  0 & -8   &  0 & -8 &  0 &    0 & -8           & -8 &   -8 &   -8 & -8  & -8 & -8 & -8 & -8 & -8 & -8 & -8 & -8           & -8 &   -8 &   -8 & -8  & -8 & -8 & -8 & -8 & -8 & -8 & -8 & -8        & -8 &   -8 &   -8 & -8  & -8 & -8 & -8 & -8 & -8 & -8 & -8 &  37 & -8 & 1500 & 1 & 1 & 1 & 0 & 1 & 1 & 1 & 0 & 0 & 0 & CMECF  & 1 & 2019-05-13 & 2019\\\\\n",
       "\t 2019 & 11 & 3J & 6 & 1800014 & 19 & 19 & NA & 0 & CR & -8 & -8 & 113J61800014CR0190 & 113J61800014CR0 & -8 & -8 & J & N & 1900-01-01 & 1900-01-01 & 2018-09-10 & 2018-09-10 & 1 & 2018-09-26 & 1  & NA & 0 & 21:846=CD.F & 4 & 6801 & 6801 & 839 & 21:841A=CD.F &  4 & 6801 & 6801 & 839 & -8           & -8 &   -8 &   -8 & -8  & -8           & -8 &   -8 &   -8 & -8  & -8        & -8 &   -8 &   -8 & -8  & 13031 & -8 & -8 & -8 & -8 & 1900-01-01 & 2018-12-04 & 2019-02-26 & 2019-02-26 &  0 & 700 & 840 & 6  & NA &  1 & 21:841A=CD.F &  4 & 6801 & 6801 & 839 &  4 &  46 & M001 &  0 & -8 & 36 &    0 & 21:846=CD.F  &  4 & 6801 & 6801 & 839 &  1 &  0 & -8   &  0 & -8 &  0 &    0 & -8           & -8 &   -8 &   -8 & -8  & -8 & -8 & -8 & -8 & -8 & -8 & -8 & -8           & -8 &   -8 &   -8 & -8  & -8 & -8 & -8 & -8 & -8 & -8 & -8 & -8        & -8 &   -8 &   -8 & -8  & -8 & -8 & -8 & -8 & -8 & -8 & -8 &  46 & -8 &    0 & 1 & 1 & 1 & 0 & 1 & 1 & 1 & 0 & 0 & 0 & CMECF  & 1 & 2019-03-05 & 2019\\\\\n",
       "\t 2019 & 11 & 3J & 6 & 1800014 & 20 & 20 & NA & 0 & CR & -8 & -8 & 113J61800014CR0200 & 113J61800014CR0 & -8 & -8 & J & N & 1900-01-01 & 1900-01-01 & 2018-09-10 & 2018-09-10 & 1 & 2018-09-26 & 1  & NA & 0 & 21:846=CD.F & 4 & 6801 & 6801 & 839 & 21:841A=CD.F &  4 & 6801 & 6801 & 839 & -8           & -8 &   -8 &   -8 & -8  & -8           & -8 &   -8 &   -8 & -8  & -8        & -8 &   -8 &   -8 & -8  & 13031 & -8 & -8 & -8 & -8 & 1900-01-01 & 2019-01-14 & 2019-05-06 & 2019-05-06 &  0 & 700 & 112 & 6  & NA &  1 & 21:841A=CD.F &  4 & 6801 & 6801 & 839 &  4 &  36 & M001 &  0 & -8 & 36 & 1500 & 21:846=CD.F  &  4 & 6801 & 6801 & 839 &  1 &  0 & -8   &  0 & -8 &  0 &    0 & -8           & -8 &   -8 &   -8 & -8  & -8 & -8 & -8 & -8 & -8 & -8 & -8 & -8           & -8 &   -8 &   -8 & -8  & -8 & -8 & -8 & -8 & -8 & -8 & -8 & -8        & -8 &   -8 &   -8 & -8  & -8 & -8 & -8 & -8 & -8 & -8 & -8 &  36 & -8 & 1500 & 1 & 1 & 1 & 0 & 1 & 1 & 1 & 0 & 0 & 0 & CMECF  & 1 & 2019-06-07 & 2019\\\\\n",
       "\t 2019 & 11 & 3J & 6 & 1800015 &  1 &  1 & NA & 0 & CR & -8 & -8 & 113J61800015CR0010 & 113J61800015CR0 & -8 & -8 & J & N & 1900-01-01 & 1900-01-01 & 2018-11-08 & 2018-11-08 & 1 & 2018-11-29 & 1  & NA & 0 & 18:2250.F   & 4 & 6300 & 6400 & 730 & -8           & -8 &   -8 &   -8 & -8  & -8           & -8 &   -8 &   -8 & -8  & -8           & -8 &   -8 &   -8 & -8  & -8        & -8 &   -8 &   -8 & -8  & 13279 & -8 & -8 & -8 & -8 & 1900-01-01 & 2019-04-18 & 2019-04-18 & 2019-04-18 &  0 & 100 & 100 & 6  & NA &  1 & 18:2250.F    &  4 & 6300 & 6400 & 730 &  4 &  30 & M001 &  0 & -8 & 60 &    0 & -8           & -8 &   -8 &   -8 & -8  & -8 & -8 & -8   & -8 & -8 & -8 &   -8 & -8           & -8 &   -8 &   -8 & -8  & -8 & -8 & -8 & -8 & -8 & -8 & -8 & -8           & -8 &   -8 &   -8 & -8  & -8 & -8 & -8 & -8 & -8 & -8 & -8 & -8        & -8 &   -8 &   -8 & -8  & -8 & -8 & -8 & -8 & -8 & -8 & -8 &  30 & -8 &    0 & 1 & 1 & 1 & 0 & 1 & 1 & 1 & 0 & 0 & 0 & CMECF  & 1 & 2019-05-13 & 2019\\\\\n",
       "\t 2019 & 11 & 3J & 6 & 1800016 &  1 &  1 & NA & 0 & CR & -8 & -8 & 113J61800016CR0010 & 113J61800016CR0 & -8 & -8 & E & N & 1900-01-01 & 1900-01-01 & 2018-11-08 & 2018-11-08 & 1 & 1900-01-01 & -8 & NA & 0 & 8:1326A.F   & 4 & 8720 & 8720 & 019 & -8           & -8 &   -8 &   -8 & -8  & -8           & -8 &   -8 &   -8 & -8  & -8           & -8 &   -8 &   -8 & -8  & -8        & -8 &   -8 &   -8 & -8  & 13031 & -8 & -8 & -8 & -8 & 1900-01-01 & 1900-01-01 & 1900-01-01 & 1900-01-01 & -8 &  -8 &  -8 & -8 & NA & -8 & -8           & -8 &   -8 &   -8 & -8  & -8 &  -8 & -8   & -8 & -8 & -8 &   -8 & -8           & -8 &   -8 &   -8 & -8  & -8 & -8 & -8   & -8 & -8 & -8 &   -8 & -8           & -8 &   -8 &   -8 & -8  & -8 & -8 & -8 & -8 & -8 & -8 & -8 & -8           & -8 &   -8 &   -8 & -8  & -8 & -8 & -8 & -8 & -8 & -8 & -8 & -8        & -8 &   -8 &   -8 & -8  & -8 & -8 & -8 & -8 & -8 & -8 & -8 &  -8 & -8 &    0 & 1 & 1 & 1 & 0 & 0 & 0 & 0 & 0 & 1 & 1 & CMECF  & 0 & 2018-12-17 & 2099\\\\\n",
       "\t 2019 & 11 & 3J & 6 & 1800017 &  1 &  1 & NA & 0 & CR & -8 & -8 & 113J61800017CR0010 & 113J61800017CR0 & -8 & -8 & J & N & 1900-01-01 & 1900-01-01 & 2018-11-08 & 2018-11-08 & 1 & 2018-11-20 & 1  & NA & 0 & 8:1326A.F   & 4 & 8720 & 8720 & 019 & -8           & -8 &   -8 &   -8 & -8  & -8           & -8 &   -8 &   -8 & -8  & -8           & -8 &   -8 &   -8 & -8  & -8        & -8 &   -8 &   -8 & -8  & 13267 & -8 & -8 & -8 & -8 & 1900-01-01 & 2019-01-29 & 2019-01-29 & 2019-01-29 &  0 & 900 & 100 & 6  & NA &  1 & 8:1326A.F    &  4 & 8720 & 8720 & 019 &  4 &   3 & M001 &  0 & -8 &  0 &    0 & -8           & -8 &   -8 &   -8 & -8  & -8 & -8 & -8   & -8 & -8 & -8 &   -8 & -8           & -8 &   -8 &   -8 & -8  & -8 & -8 & -8 & -8 & -8 & -8 & -8 & -8           & -8 &   -8 &   -8 & -8  & -8 & -8 & -8 & -8 & -8 & -8 & -8 & -8        & -8 &   -8 &   -8 & -8  & -8 & -8 & -8 & -8 & -8 & -8 & -8 &   3 & -8 &    0 & 1 & 1 & 1 & 0 & 1 & 1 & 1 & 0 & 0 & 0 & CMECF  & 1 & 2019-02-07 & 2019\\\\\n",
       "\t 2019 & 11 & 3J & 6 & 1800018 &  1 &  1 & NA & 0 & CR & -8 & -8 & 113J61800018CR0010 & 113J61800018CR0 & -8 & -8 & J & N & 1900-01-01 & 1900-01-01 & 2018-12-07 & 2018-12-07 & 1 & 2019-01-03 & 1  & NA & 0 & 8:1326.F    & 4 & 8720 & 8720 & 013 & -8           & -8 &   -8 &   -8 & -8  & -8           & -8 &   -8 &   -8 & -8  & -8           & -8 &   -8 &   -8 & -8  & -8        & -8 &   -8 &   -8 & -8  & 13109 & -8 & -8 & -8 & -8 & 1900-01-01 & 2019-02-26 & 2019-02-26 & 2019-02-26 &  0 & 140 & 100 & 6  & NA &  1 & 8:1326.F     &  4 & 8720 & 8720 & 013 &  4 &  -1 & M001 &  0 & -8 &  0 &    0 & -8           & -8 &   -8 &   -8 & -8  & -8 & -8 & -8   & -8 & -8 & -8 &   -8 & -8           & -8 &   -8 &   -8 & -8  & -8 & -8 & -8 & -8 & -8 & -8 & -8 & -8           & -8 &   -8 &   -8 & -8  & -8 & -8 & -8 & -8 & -8 & -8 & -8 & -8        & -8 &   -8 &   -8 & -8  & -8 & -8 & -8 & -8 & -8 & -8 & -8 &  -1 & -8 &    0 & 1 & 1 & 1 & 0 & 1 & 1 & 1 & 0 & 0 & 0 & CMECF  & 1 & 2019-03-05 & 2019\\\\\n",
       "\t 2019 & 11 & 3J & 6 & 1800019 &  1 &  1 & NA & 0 & CR & -8 & -8 & 113J61800019CR0010 & 113J61800019CR0 & -8 & -8 & E & N & 1900-01-01 & 1900-01-01 & 2018-12-07 & 2018-12-07 & 1 & 2019-01-03 & 1  & NA & 0 & 18:922G.F   & 4 & 7830 & 7820 & 409 & 18:922G.F    &  4 & 7830 & 7820 & 409 & -8           & -8 &   -8 &   -8 & -8  & -8           & -8 &   -8 &   -8 & -8  & -8        & -8 &   -8 &   -8 & -8  & 13031 & -8 & -8 & -8 & -8 & 1900-01-01 & 1900-01-01 & 1900-01-01 & 1900-01-01 & -8 &  -8 &  -8 & -8 & NA & -8 & -8           & -8 &   -8 &   -8 & -8  & -8 &  -8 & -8   & -8 & -8 & -8 &   -8 & -8           & -8 &   -8 &   -8 & -8  & -8 & -8 & -8   & -8 & -8 & -8 &   -8 & -8           & -8 &   -8 &   -8 & -8  & -8 & -8 & -8 & -8 & -8 & -8 & -8 & -8           & -8 &   -8 &   -8 & -8  & -8 & -8 & -8 & -8 & -8 & -8 & -8 & -8        & -8 &   -8 &   -8 & -8  & -8 & -8 & -8 & -8 & -8 & -8 & -8 &  -8 & -8 &    0 & 1 & 1 & 1 & 0 & 0 & 0 & 0 & 0 & 1 & 1 & CMECF  & 1 & 2019-05-13 & 2099\\\\\n",
       "\t 2019 & 11 & 3J & 6 & 1900001 &  1 &  1 & NA & 0 & CR & -8 & -8 & 113J61900001CR0010 & 113J61900001CR0 & -8 & -8 & E & N & 1900-01-01 & 1900-01-01 & 2019-01-08 & 2019-01-08 & 1 & 2019-01-23 & 1  & NA & 0 & 26:5861D.F  & 4 & 7800 & 7830 & 315 & -8           & -8 &   -8 &   -8 & -8  & -8           & -8 &   -8 &   -8 & -8  & -8           & -8 &   -8 &   -8 & -8  & -8        & -8 &   -8 &   -8 & -8  & 13251 & -8 & -8 & -8 & -8 & 1900-01-01 & 1900-01-01 & 1900-01-01 & 1900-01-01 & -8 &  -8 &  -8 & -8 & NA & -8 & -8           & -8 &   -8 &   -8 & -8  & -8 &  -8 & -8   & -8 & -8 & -8 &   -8 & -8           & -8 &   -8 &   -8 & -8  & -8 & -8 & -8   & -8 & -8 & -8 &   -8 & -8           & -8 &   -8 &   -8 & -8  & -8 & -8 & -8 & -8 & -8 & -8 & -8 & -8           & -8 &   -8 &   -8 & -8  & -8 & -8 & -8 & -8 & -8 & -8 & -8 & -8        & -8 &   -8 &   -8 & -8  & -8 & -8 & -8 & -8 & -8 & -8 & -8 &  -8 & -8 &    0 & 1 & 1 & 1 & 0 & 0 & 0 & 0 & 0 & 1 & 1 & CMECF  & 0 & 2019-02-07 & 2099\\\\\n",
       "\t 2019 & 11 & 3J & 6 & 1900003 &  1 &  1 & NA & 0 & CR & -8 & -8 & 113J61900003CR0010 & 113J61900003CR0 & -8 & -8 & E & N & 1900-01-01 & 1900-01-01 & 2019-03-11 & 2019-03-27 & 3 & 2019-03-27 & 1  & NA & 2 & 26:7201.F   & 4 & 4510 & 4510 & 219 & -8           & -8 &   -8 &   -8 & -8  & -8           & -8 &   -8 &   -8 & -8  & -8           & -8 &   -8 &   -8 & -8  & -8        & -8 &   -8 &   -8 & -8  & 13031 & -8 & -8 & -8 & -8 & 1900-01-01 & 1900-01-01 & 1900-01-01 & 1900-01-01 & -8 &  -8 &  -8 & -8 & NA & -8 & -8           & -8 &   -8 &   -8 & -8  & -8 &  -8 & -8   & -8 & -8 & -8 &   -8 & -8           & -8 &   -8 &   -8 & -8  & -8 & -8 & -8   & -8 & -8 & -8 &   -8 & -8           & -8 &   -8 &   -8 & -8  & -8 & -8 & -8 & -8 & -8 & -8 & -8 & -8           & -8 &   -8 &   -8 & -8  & -8 & -8 & -8 & -8 & -8 & -8 & -8 & -8        & -8 &   -8 &   -8 & -8  & -8 & -8 & -8 & -8 & -8 & -8 & -8 &  -8 & -8 &    0 & 1 & 1 & 1 & 0 & 0 & 0 & 0 & 0 & 1 & 1 & CMECF  & 0 & 2019-04-11 & 2099\\\\\n",
       "\t 2019 & 11 & 3J & 6 & 1900004 &  1 &  1 & NA & 0 & CR & -8 & -8 & 113J61900004CR0010 & 113J61900004CR0 & -8 & -8 & E & N & 1900-01-01 & 1900-01-01 & 2019-04-03 & 2019-04-03 & 1 & 2019-04-23 & 1  & NA & 0 & 8:1326.F    & 4 & 8720 & 8720 & 013 & -8           & -8 &   -8 &   -8 & -8  & -8           & -8 &   -8 &   -8 & -8  & -8           & -8 &   -8 &   -8 & -8  & -8        & -8 &   -8 &   -8 & -8  & 13251 & -8 & -8 & -8 & -8 & 1900-01-01 & 1900-01-01 & 1900-01-01 & 1900-01-01 & -8 &  -8 &  -8 & -8 & NA & -8 & -8           & -8 &   -8 &   -8 & -8  & -8 &  -8 & -8   & -8 & -8 & -8 &   -8 & -8           & -8 &   -8 &   -8 & -8  & -8 & -8 & -8   & -8 & -8 & -8 &   -8 & -8           & -8 &   -8 &   -8 & -8  & -8 & -8 & -8 & -8 & -8 & -8 & -8 & -8           & -8 &   -8 &   -8 & -8  & -8 & -8 & -8 & -8 & -8 & -8 & -8 & -8        & -8 &   -8 &   -8 & -8  & -8 & -8 & -8 & -8 & -8 & -8 & -8 &  -8 & -8 &    0 & 1 & 1 & 1 & 0 & 0 & 0 & 0 & 0 & 1 & 1 & CMECF  & 0 & 2019-05-13 & 2099\\\\\n",
       "\t 2019 & 11 & 3J & 6 & 1900005 &  1 &  1 & NA & 0 & CR & -8 & -8 & 113J61900005CR0010 & 113J61900005CR0 & -8 & -8 & E & N & 1900-01-01 & 1900-01-01 & 2019-06-04 & 2019-06-04 & 1 & 2019-06-20 & 1  & NA & 0 & 18:2251A.F  & 4 & 6110 & 6110 & 809 & 18:2252A.F   &  4 & 6300 & 5900 & 239 & -8           & -8 &   -8 &   -8 & -8  & -8           & -8 &   -8 &   -8 & -8  & -8        & -8 &   -8 &   -8 & -8  & 13031 & -8 & -8 & -8 & -8 & 1900-01-01 & 1900-01-01 & 1900-01-01 & 1900-01-01 & -8 &  -8 &  -8 & -8 & NA & -8 & -8           & -8 &   -8 &   -8 & -8  & -8 &  -8 & -8   & -8 & -8 & -8 &   -8 & -8           & -8 &   -8 &   -8 & -8  & -8 & -8 & -8   & -8 & -8 & -8 &   -8 & -8           & -8 &   -8 &   -8 & -8  & -8 & -8 & -8 & -8 & -8 & -8 & -8 & -8           & -8 &   -8 &   -8 & -8  & -8 & -8 & -8 & -8 & -8 & -8 & -8 & -8        & -8 &   -8 &   -8 & -8  & -8 & -8 & -8 & -8 & -8 & -8 & -8 &  -8 & -8 &    0 & 1 & 1 & 1 & 0 & 0 & 0 & 0 & 0 & 1 & 1 & CMECF  & 0 & 2019-07-09 & 2099\\\\\n",
       "\t 2019 & 11 & 3J & 6 & 1900006 &  1 &  1 & NA & 0 & CR & -8 & -8 & 113J61900006CR0010 & 113J61900006CR0 & -8 & -8 & E & N & 1900-01-01 & 1900-01-01 & 2019-06-05 & 2019-06-04 & 1 & 2019-06-20 & 1  & NA & 0 & 18:1344A.F  & 4 & 4601 & 4601 & 215 & 18:1343.F    &  4 & 4700 & 8600 & 213 & -8           & -8 &   -8 &   -8 & -8  & -8           & -8 &   -8 &   -8 & -8  & -8        & -8 &   -8 &   -8 & -8  & 13031 & -8 & -8 & -8 & -8 & 1900-01-01 & 1900-01-01 & 1900-01-01 & 1900-01-01 & -8 &  -8 &  -8 & -8 & NA & -8 & -8           & -8 &   -8 &   -8 & -8  & -8 &  -8 & -8   & -8 & -8 & -8 &   -8 & -8           & -8 &   -8 &   -8 & -8  & -8 & -8 & -8   & -8 & -8 & -8 &   -8 & -8           & -8 &   -8 &   -8 & -8  & -8 & -8 & -8 & -8 & -8 & -8 & -8 & -8           & -8 &   -8 &   -8 & -8  & -8 & -8 & -8 & -8 & -8 & -8 & -8 & -8        & -8 &   -8 &   -8 & -8  & -8 & -8 & -8 & -8 & -8 & -8 & -8 &  -8 & -8 &    0 & 1 & 1 & 1 & 0 & 0 & 0 & 0 & 0 & 1 & 1 & CMECF  & 0 & 2019-07-09 & 2099\\\\\n",
       "\t 2019 & 11 & 3J & 6 & 8900009 &  1 &  1 & NA & 0 & CR & -8 & -8 & 113J68900009CR0010 & 113J68900009CR0 & -8 & -8 & E & N & 1900-01-01 & 1900-01-01 & 1989-12-05 & 1989-12-05 & 1 & 1900-01-01 & -8 & NA & 0 & 18:751A.F   & 4 & 7310 & 7310 & 214 & -8           & -8 &   -8 &   -8 & -8  & -8           & -8 &   -8 &   -8 & -8  & -8           & -8 &   -8 &   -8 & -8  & -8        & -8 &   -8 &   -8 & -8  & 13031 & -8 & -8 & -8 & -8 & 1900-01-01 & 1900-01-01 & 1900-01-01 & 1900-01-01 & -8 &  -8 &  -8 & -8 & NA & -8 & -8           & -8 &   -8 &   -8 & -8  & -8 &  -8 & -8   & -8 & -8 & -8 &   -8 & -8           & -8 &   -8 &   -8 & -8  & -8 & -8 & -8   & -8 & -8 & -8 &   -8 & -8           & -8 &   -8 &   -8 & -8  & -8 & -8 & -8 & -8 & -8 & -8 & -8 & -8           & -8 &   -8 &   -8 & -8  & -8 & -8 & -8 & -8 & -8 & -8 & -8 & -8        & -8 &   -8 &   -8 & -8  & -8 & -8 & -8 & -8 & -8 & -8 & -8 &  -8 & -8 &    0 & 0 & 0 & 0 & 0 & 0 & 0 & 0 & 0 & 1 & 1 & CMECF  & 0 & 2012-10-02 & 2099\\\\\n",
       "\t 2019 & 11 & 3J & 6 & 9900010 &  2 & -8 & NA & 0 & CR & -8 & -8 & 113J69900010CR0020 & 113J69900010CR0 & -8 & -8 & E & N & 1900-01-01 & 1900-01-01 & 1999-06-04 & 1999-06-04 & 1 & 1999-05-11 & D  & NA & 1 & 42:408.F    & 4 & 4950 & 4950 & 219 & 18:1028B.F   &  4 & 4991 & 8201 & 217 & 18:1546.F    &  4 & 8730 & 8731 & 214 & -8           & -8 &   -8 &   -8 & -8  & -8        & -8 &   -8 &   -8 & -8  & 13109 & -8 & -8 & -8 & -8 & 1999-07-08 & 1900-01-01 & 1900-01-01 & 1900-01-01 &  0 &   0 &   0 & -8 & NA & -8 & -8           & -8 &   -8 &   -8 & -8  & -8 &   0 & -8   &  0 & -8 &  0 &    0 & -8           & -8 &   -8 &   -8 & -8  & -8 &  0 & -8   &  0 & -8 &  0 &    0 & -8           & -8 &   -8 &   -8 & -8  & -8 &  0 & -8 &  0 & -8 &  0 &  0 & -8           & -8 &   -8 &   -8 & -8  & -8 &  0 & -8 &  0 & -8 &  0 &  0 & -8        & -8 &   -8 &   -8 & -8  & -8 &  0 & -8 &  0 & -8 &  0 &  0 &   0 &  0 &    0 & 0 & 0 & 0 & 0 & 0 & 0 & 0 & 0 & 1 & 1 & MASTER & 0 & 2012-03-21 & 2099\\\\\n",
       "\\end{tabular}\n"
      ],
      "text/markdown": [
       "\n",
       "A data.frame: 203013 × 144\n",
       "\n",
       "| FISCALYR &lt;int&gt; | CIRCUIT &lt;int&gt; | DISTRICT &lt;chr&gt; | OFFICE &lt;chr&gt; | DOCKET &lt;int&gt; | DEFNO &lt;int&gt; | CTDEF &lt;int&gt; | NAME &lt;lgl&gt; | REOPSEQ &lt;int&gt; | TYPEREG &lt;fct&gt; | ⋯ ⋯ | CTTRTRN &lt;int&gt; | CTTR &lt;int&gt; | CTTRWOR &lt;int&gt; | CTTRR &lt;int&gt; | CTPN &lt;int&gt; | CTPNWOF &lt;int&gt; | SOURCE &lt;fct&gt; | VER &lt;int&gt; | LOADDATE &lt;fct&gt; | TAPEYEAR &lt;int&gt; |\n",
       "|---|---|---|---|---|---|---|---|---|---|---|---|---|---|---|---|---|---|---|---|---|\n",
       "| 2019 | 0 | 90 | 1 |      6 |  2 | -8 | NA | 0 | CR | ⋯ | 0 | 0 | 0 | 0 | 1 | 0 | MASTER | 0 | 2012-03-21 | 2099 |\n",
       "| 2019 | 0 | 90 | 1 |     27 |  2 | -8 | NA | 0 | CR | ⋯ | 0 | 0 | 0 | 0 | 1 | 1 | MASTER | 0 | 2012-03-21 | 2099 |\n",
       "| 2019 | 0 | 90 | 1 |     55 |  2 | -8 | NA | 0 | CR | ⋯ | 0 | 0 | 0 | 0 | 1 | 0 | MASTER | 0 | 2012-03-21 | 2099 |\n",
       "| 2019 | 0 | 90 | 1 |     58 |  1 |  1 | NA | 0 | CR | ⋯ | 0 | 0 | 0 | 0 | 1 | 1 | MASTER | 0 | 2012-03-21 | 2099 |\n",
       "| 2019 | 0 | 90 | 1 |     69 |  1 | -8 | NA | 0 | CR | ⋯ | 0 | 0 | 0 | 0 | 1 | 0 | MASTER | 0 | 2012-03-21 | 2099 |\n",
       "| 2019 | 0 | 90 | 1 |     79 |  1 | -8 | NA | 0 | CR | ⋯ | 0 | 0 | 0 | 0 | 1 | 1 | MASTER | 0 | 2012-03-21 | 2099 |\n",
       "| 2019 | 0 | 90 | 1 |     79 |  2 | -8 | NA | 0 | CR | ⋯ | 0 | 0 | 0 | 0 | 1 | 1 | MASTER | 0 | 2012-03-21 | 2099 |\n",
       "| 2019 | 0 | 90 | 1 |     89 |  1 | -8 | NA | 0 | CR | ⋯ | 0 | 0 | 0 | 0 | 1 | 0 | MASTER | 0 | 2012-03-21 | 2099 |\n",
       "| 2019 | 0 | 90 | 1 |     97 |  1 | -8 | NA | 0 | CR | ⋯ | 0 | 0 | 0 | 0 | 1 | 0 | MASTER | 0 | 2012-03-21 | 2099 |\n",
       "| 2019 | 0 | 90 | 1 |    112 |  1 | -8 | NA | 0 | CR | ⋯ | 0 | 0 | 0 | 0 | 1 | 1 | MASTER | 0 | 2012-03-21 | 2099 |\n",
       "| 2019 | 0 | 90 | 1 |    112 |  2 | -8 | NA | 0 | CR | ⋯ | 0 | 0 | 0 | 0 | 1 | 1 | MASTER | 0 | 2012-03-21 | 2099 |\n",
       "| 2019 | 0 | 90 | 1 |    112 |  3 |  1 | NA | 0 | CR | ⋯ | 0 | 0 | 0 | 0 | 1 | 1 | MASTER | 0 | 2012-03-21 | 2099 |\n",
       "| 2019 | 0 | 90 | 1 |    122 |  1 | -8 | NA | 0 | CR | ⋯ | 0 | 0 | 0 | 0 | 1 | 0 | MASTER | 0 | 2012-03-21 | 2099 |\n",
       "| 2019 | 0 | 90 | 1 |    122 |  2 | -8 | NA | 0 | CR | ⋯ | 0 | 0 | 0 | 0 | 1 | 0 | MASTER | 0 | 2012-03-21 | 2099 |\n",
       "| 2019 | 0 | 90 | 1 |    149 |  1 | -8 | NA | 0 | CR | ⋯ | 0 | 0 | 0 | 0 | 1 | 1 | MASTER | 0 | 2012-03-21 | 2099 |\n",
       "| 2019 | 0 | 90 | 1 |    152 |  1 | -8 | NA | 0 | CR | ⋯ | 0 | 0 | 0 | 0 | 1 | 1 | MASTER | 0 | 2012-03-21 | 2099 |\n",
       "| 2019 | 0 | 90 | 1 |    157 | 13 | 13 | NA | 0 | CR | ⋯ | 0 | 0 | 0 | 0 | 1 | 1 | MASTER | 0 | 2012-03-21 | 2099 |\n",
       "| 2019 | 0 | 90 | 1 |    188 |  1 | -8 | NA | 0 | CR | ⋯ | 0 | 0 | 0 | 0 | 1 | 0 | MASTER | 0 | 2012-03-21 | 2099 |\n",
       "| 2019 | 0 | 90 | 1 |    189 |  3 | -8 | NA | 0 | CR | ⋯ | 0 | 0 | 0 | 0 | 1 | 0 | MASTER | 0 | 2012-03-21 | 2099 |\n",
       "| 2019 | 0 | 90 | 1 |    189 |  5 | -8 | NA | 0 | CR | ⋯ | 0 | 0 | 0 | 0 | 1 | 1 | MASTER | 0 | 2012-03-21 | 2099 |\n",
       "| 2019 | 0 | 90 | 1 |    189 |  6 | -8 | NA | 0 | CR | ⋯ | 0 | 0 | 0 | 0 | 1 | 1 | MASTER | 0 | 2012-03-21 | 2099 |\n",
       "| 2019 | 0 | 90 | 1 |    209 |  1 | -8 | NA | 0 | CR | ⋯ | 0 | 0 | 0 | 0 | 1 | 1 | MASTER | 0 | 2012-03-21 | 2099 |\n",
       "| 2019 | 0 | 90 | 1 |    245 |  1 |  1 | NA | 1 | CR | ⋯ | 0 | 0 | 0 | 0 | 1 | 1 | MASTER | 0 | 2012-03-21 | 2099 |\n",
       "| 2019 | 0 | 90 | 1 |    375 |  2 |  2 | NA | 0 | CR | ⋯ | 0 | 0 | 0 | 0 | 1 | 1 | MASTER | 0 | 2012-03-21 | 2099 |\n",
       "| 2019 | 0 | 90 | 1 |    375 |  3 |  3 | NA | 0 | CR | ⋯ | 0 | 0 | 0 | 0 | 1 | 1 | MASTER | 0 | 2012-03-21 | 2099 |\n",
       "| 2019 | 0 | 90 | 1 |    425 |  5 | -8 | NA | 0 | CR | ⋯ | 0 | 0 | 0 | 0 | 1 | 0 | MASTER | 0 | 2012-03-21 | 2099 |\n",
       "| 2019 | 0 | 90 | 1 |    429 |  1 | -8 | NA | 0 | CR | ⋯ | 0 | 0 | 0 | 0 | 1 | 1 | MASTER | 0 | 2012-03-21 | 2099 |\n",
       "| 2019 | 0 | 90 | 1 |   9999 |  1 | -8 | NA | 0 | CR | ⋯ | 0 | 0 | 0 | 0 | 1 | 0 | MASTER | 0 | 2012-03-21 | 2099 |\n",
       "| 2019 | 0 | 90 | 1 | 100011 |  1 | -8 | NA | 0 | CR | ⋯ | 0 | 0 | 0 | 0 | 1 | 1 | MASTER | 0 | 2012-03-21 | 2099 |\n",
       "| 2019 | 0 | 90 | 1 | 100012 |  1 | -8 | NA | 0 | CR | ⋯ | 0 | 0 | 0 | 0 | 1 | 1 | MASTER | 0 | 2012-03-21 | 2099 |\n",
       "| ⋮ | ⋮ | ⋮ | ⋮ | ⋮ | ⋮ | ⋮ | ⋮ | ⋮ | ⋮ | ⋱ | ⋮ | ⋮ | ⋮ | ⋮ | ⋮ | ⋮ | ⋮ | ⋮ | ⋮ | ⋮ |\n",
       "| 2019 | 11 | 3J | 6 | 1800014 |  3 |  3 | NA | 0 | CR | ⋯ | 1 | 1 | 1 | 0 | 0 | 0 | CMECF  | 1 | 2019-07-09 | 2019 |\n",
       "| 2019 | 11 | 3J | 6 | 1800014 |  4 |  4 | NA | 0 | CR | ⋯ | 1 | 1 | 1 | 0 | 0 | 0 | CMECF  | 1 | 2019-06-07 | 2019 |\n",
       "| 2019 | 11 | 3J | 6 | 1800014 |  5 |  5 | NA | 0 | CR | ⋯ | 1 | 1 | 1 | 0 | 0 | 0 | CMECF  | 1 | 2019-07-09 | 2019 |\n",
       "| 2019 | 11 | 3J | 6 | 1800014 |  6 |  6 | NA | 0 | CR | ⋯ | 1 | 1 | 1 | 0 | 0 | 0 | CMECF  | 1 | 2019-05-13 | 2019 |\n",
       "| 2019 | 11 | 3J | 6 | 1800014 |  7 |  7 | NA | 0 | CR | ⋯ | 1 | 1 | 1 | 0 | 0 | 0 | CMECF  | 1 | 2019-07-09 | 2019 |\n",
       "| 2019 | 11 | 3J | 6 | 1800014 |  8 |  8 | NA | 0 | CR | ⋯ | 1 | 1 | 1 | 0 | 0 | 0 | CMECF  | 1 | 2019-04-11 | 2019 |\n",
       "| 2019 | 11 | 3J | 6 | 1800014 |  9 |  9 | NA | 0 | CR | ⋯ | 1 | 1 | 1 | 0 | 0 | 0 | CMECF  | 1 | 2019-04-11 | 2019 |\n",
       "| 2019 | 11 | 3J | 6 | 1800014 | 10 | 10 | NA | 0 | CR | ⋯ | 0 | 0 | 0 | 0 | 1 | 1 | CMECF  | 0 | 2018-10-11 | 2099 |\n",
       "| 2019 | 11 | 3J | 6 | 1800014 | 11 | 11 | NA | 0 | CR | ⋯ | 1 | 1 | 1 | 0 | 0 | 0 | CMECF  | 2 | 2019-01-08 | 2019 |\n",
       "| 2019 | 11 | 3J | 6 | 1800014 | 12 | 12 | NA | 0 | CR | ⋯ | 1 | 1 | 1 | 0 | 0 | 0 | CMECF  | 1 | 2019-07-09 | 2019 |\n",
       "| 2019 | 11 | 3J | 6 | 1800014 | 13 | 13 | NA | 0 | CR | ⋯ | 1 | 1 | 1 | 0 | 0 | 0 | CMECF  | 1 | 2019-04-11 | 2019 |\n",
       "| 2019 | 11 | 3J | 6 | 1800014 | 14 | 14 | NA | 0 | CR | ⋯ | 1 | 1 | 1 | 0 | 0 | 0 | CMECF  | 2 | 2019-04-11 | 2019 |\n",
       "| 2019 | 11 | 3J | 6 | 1800014 | 15 | 15 | NA | 0 | CR | ⋯ | 1 | 1 | 1 | 0 | 0 | 0 | CMECF  | 1 | 2019-07-09 | 2019 |\n",
       "| 2019 | 11 | 3J | 6 | 1800014 | 16 | 16 | NA | 0 | CR | ⋯ | 1 | 1 | 1 | 0 | 0 | 0 | CMECF  | 2 | 2019-07-09 | 2019 |\n",
       "| 2019 | 11 | 3J | 6 | 1800014 | 17 | 17 | NA | 0 | CR | ⋯ | 1 | 1 | 1 | 0 | 0 | 0 | CMECF  | 1 | 2019-06-07 | 2019 |\n",
       "| 2019 | 11 | 3J | 6 | 1800014 | 18 | 18 | NA | 0 | CR | ⋯ | 1 | 1 | 1 | 0 | 0 | 0 | CMECF  | 1 | 2019-05-13 | 2019 |\n",
       "| 2019 | 11 | 3J | 6 | 1800014 | 19 | 19 | NA | 0 | CR | ⋯ | 1 | 1 | 1 | 0 | 0 | 0 | CMECF  | 1 | 2019-03-05 | 2019 |\n",
       "| 2019 | 11 | 3J | 6 | 1800014 | 20 | 20 | NA | 0 | CR | ⋯ | 1 | 1 | 1 | 0 | 0 | 0 | CMECF  | 1 | 2019-06-07 | 2019 |\n",
       "| 2019 | 11 | 3J | 6 | 1800015 |  1 |  1 | NA | 0 | CR | ⋯ | 1 | 1 | 1 | 0 | 0 | 0 | CMECF  | 1 | 2019-05-13 | 2019 |\n",
       "| 2019 | 11 | 3J | 6 | 1800016 |  1 |  1 | NA | 0 | CR | ⋯ | 0 | 0 | 0 | 0 | 1 | 1 | CMECF  | 0 | 2018-12-17 | 2099 |\n",
       "| 2019 | 11 | 3J | 6 | 1800017 |  1 |  1 | NA | 0 | CR | ⋯ | 1 | 1 | 1 | 0 | 0 | 0 | CMECF  | 1 | 2019-02-07 | 2019 |\n",
       "| 2019 | 11 | 3J | 6 | 1800018 |  1 |  1 | NA | 0 | CR | ⋯ | 1 | 1 | 1 | 0 | 0 | 0 | CMECF  | 1 | 2019-03-05 | 2019 |\n",
       "| 2019 | 11 | 3J | 6 | 1800019 |  1 |  1 | NA | 0 | CR | ⋯ | 0 | 0 | 0 | 0 | 1 | 1 | CMECF  | 1 | 2019-05-13 | 2099 |\n",
       "| 2019 | 11 | 3J | 6 | 1900001 |  1 |  1 | NA | 0 | CR | ⋯ | 0 | 0 | 0 | 0 | 1 | 1 | CMECF  | 0 | 2019-02-07 | 2099 |\n",
       "| 2019 | 11 | 3J | 6 | 1900003 |  1 |  1 | NA | 0 | CR | ⋯ | 0 | 0 | 0 | 0 | 1 | 1 | CMECF  | 0 | 2019-04-11 | 2099 |\n",
       "| 2019 | 11 | 3J | 6 | 1900004 |  1 |  1 | NA | 0 | CR | ⋯ | 0 | 0 | 0 | 0 | 1 | 1 | CMECF  | 0 | 2019-05-13 | 2099 |\n",
       "| 2019 | 11 | 3J | 6 | 1900005 |  1 |  1 | NA | 0 | CR | ⋯ | 0 | 0 | 0 | 0 | 1 | 1 | CMECF  | 0 | 2019-07-09 | 2099 |\n",
       "| 2019 | 11 | 3J | 6 | 1900006 |  1 |  1 | NA | 0 | CR | ⋯ | 0 | 0 | 0 | 0 | 1 | 1 | CMECF  | 0 | 2019-07-09 | 2099 |\n",
       "| 2019 | 11 | 3J | 6 | 8900009 |  1 |  1 | NA | 0 | CR | ⋯ | 0 | 0 | 0 | 0 | 1 | 1 | CMECF  | 0 | 2012-10-02 | 2099 |\n",
       "| 2019 | 11 | 3J | 6 | 9900010 |  2 | -8 | NA | 0 | CR | ⋯ | 0 | 0 | 0 | 0 | 1 | 1 | MASTER | 0 | 2012-03-21 | 2099 |\n",
       "\n"
      ],
      "text/plain": [
       "       FISCALYR CIRCUIT DISTRICT OFFICE DOCKET  DEFNO CTDEF NAME REOPSEQ\n",
       "1      2019     0       90       1           6   2    -8    NA   0      \n",
       "2      2019     0       90       1          27   2    -8    NA   0      \n",
       "3      2019     0       90       1          55   2    -8    NA   0      \n",
       "4      2019     0       90       1          58   1     1    NA   0      \n",
       "5      2019     0       90       1          69   1    -8    NA   0      \n",
       "6      2019     0       90       1          79   1    -8    NA   0      \n",
       "7      2019     0       90       1          79   2    -8    NA   0      \n",
       "8      2019     0       90       1          89   1    -8    NA   0      \n",
       "9      2019     0       90       1          97   1    -8    NA   0      \n",
       "10     2019     0       90       1         112   1    -8    NA   0      \n",
       "11     2019     0       90       1         112   2    -8    NA   0      \n",
       "12     2019     0       90       1         112   3     1    NA   0      \n",
       "13     2019     0       90       1         122   1    -8    NA   0      \n",
       "14     2019     0       90       1         122   2    -8    NA   0      \n",
       "15     2019     0       90       1         149   1    -8    NA   0      \n",
       "16     2019     0       90       1         152   1    -8    NA   0      \n",
       "17     2019     0       90       1         157  13    13    NA   0      \n",
       "18     2019     0       90       1         188   1    -8    NA   0      \n",
       "19     2019     0       90       1         189   3    -8    NA   0      \n",
       "20     2019     0       90       1         189   5    -8    NA   0      \n",
       "21     2019     0       90       1         189   6    -8    NA   0      \n",
       "22     2019     0       90       1         209   1    -8    NA   0      \n",
       "23     2019     0       90       1         245   1     1    NA   1      \n",
       "24     2019     0       90       1         375   2     2    NA   0      \n",
       "25     2019     0       90       1         375   3     3    NA   0      \n",
       "26     2019     0       90       1         425   5    -8    NA   0      \n",
       "27     2019     0       90       1         429   1    -8    NA   0      \n",
       "28     2019     0       90       1        9999   1    -8    NA   0      \n",
       "29     2019     0       90       1      100011   1    -8    NA   0      \n",
       "30     2019     0       90       1      100012   1    -8    NA   0      \n",
       "⋮      ⋮        ⋮       ⋮        ⋮      ⋮       ⋮     ⋮     ⋮    ⋮      \n",
       "202984 2019     11      3J       6      1800014  3     3    NA   0      \n",
       "202985 2019     11      3J       6      1800014  4     4    NA   0      \n",
       "202986 2019     11      3J       6      1800014  5     5    NA   0      \n",
       "202987 2019     11      3J       6      1800014  6     6    NA   0      \n",
       "202988 2019     11      3J       6      1800014  7     7    NA   0      \n",
       "202989 2019     11      3J       6      1800014  8     8    NA   0      \n",
       "202990 2019     11      3J       6      1800014  9     9    NA   0      \n",
       "202991 2019     11      3J       6      1800014 10    10    NA   0      \n",
       "202992 2019     11      3J       6      1800014 11    11    NA   0      \n",
       "202993 2019     11      3J       6      1800014 12    12    NA   0      \n",
       "202994 2019     11      3J       6      1800014 13    13    NA   0      \n",
       "202995 2019     11      3J       6      1800014 14    14    NA   0      \n",
       "202996 2019     11      3J       6      1800014 15    15    NA   0      \n",
       "202997 2019     11      3J       6      1800014 16    16    NA   0      \n",
       "202998 2019     11      3J       6      1800014 17    17    NA   0      \n",
       "202999 2019     11      3J       6      1800014 18    18    NA   0      \n",
       "203000 2019     11      3J       6      1800014 19    19    NA   0      \n",
       "203001 2019     11      3J       6      1800014 20    20    NA   0      \n",
       "203002 2019     11      3J       6      1800015  1     1    NA   0      \n",
       "203003 2019     11      3J       6      1800016  1     1    NA   0      \n",
       "203004 2019     11      3J       6      1800017  1     1    NA   0      \n",
       "203005 2019     11      3J       6      1800018  1     1    NA   0      \n",
       "203006 2019     11      3J       6      1800019  1     1    NA   0      \n",
       "203007 2019     11      3J       6      1900001  1     1    NA   0      \n",
       "203008 2019     11      3J       6      1900003  1     1    NA   0      \n",
       "203009 2019     11      3J       6      1900004  1     1    NA   0      \n",
       "203010 2019     11      3J       6      1900005  1     1    NA   0      \n",
       "203011 2019     11      3J       6      1900006  1     1    NA   0      \n",
       "203012 2019     11      3J       6      8900009  1     1    NA   0      \n",
       "203013 2019     11      3J       6      9900010  2    -8    NA   0      \n",
       "       TYPEREG ⋯ CTTRTRN CTTR CTTRWOR CTTRR CTPN CTPNWOF SOURCE VER LOADDATE  \n",
       "1      CR      ⋯ 0       0    0       0     1    0       MASTER 0   2012-03-21\n",
       "2      CR      ⋯ 0       0    0       0     1    1       MASTER 0   2012-03-21\n",
       "3      CR      ⋯ 0       0    0       0     1    0       MASTER 0   2012-03-21\n",
       "4      CR      ⋯ 0       0    0       0     1    1       MASTER 0   2012-03-21\n",
       "5      CR      ⋯ 0       0    0       0     1    0       MASTER 0   2012-03-21\n",
       "6      CR      ⋯ 0       0    0       0     1    1       MASTER 0   2012-03-21\n",
       "7      CR      ⋯ 0       0    0       0     1    1       MASTER 0   2012-03-21\n",
       "8      CR      ⋯ 0       0    0       0     1    0       MASTER 0   2012-03-21\n",
       "9      CR      ⋯ 0       0    0       0     1    0       MASTER 0   2012-03-21\n",
       "10     CR      ⋯ 0       0    0       0     1    1       MASTER 0   2012-03-21\n",
       "11     CR      ⋯ 0       0    0       0     1    1       MASTER 0   2012-03-21\n",
       "12     CR      ⋯ 0       0    0       0     1    1       MASTER 0   2012-03-21\n",
       "13     CR      ⋯ 0       0    0       0     1    0       MASTER 0   2012-03-21\n",
       "14     CR      ⋯ 0       0    0       0     1    0       MASTER 0   2012-03-21\n",
       "15     CR      ⋯ 0       0    0       0     1    1       MASTER 0   2012-03-21\n",
       "16     CR      ⋯ 0       0    0       0     1    1       MASTER 0   2012-03-21\n",
       "17     CR      ⋯ 0       0    0       0     1    1       MASTER 0   2012-03-21\n",
       "18     CR      ⋯ 0       0    0       0     1    0       MASTER 0   2012-03-21\n",
       "19     CR      ⋯ 0       0    0       0     1    0       MASTER 0   2012-03-21\n",
       "20     CR      ⋯ 0       0    0       0     1    1       MASTER 0   2012-03-21\n",
       "21     CR      ⋯ 0       0    0       0     1    1       MASTER 0   2012-03-21\n",
       "22     CR      ⋯ 0       0    0       0     1    1       MASTER 0   2012-03-21\n",
       "23     CR      ⋯ 0       0    0       0     1    1       MASTER 0   2012-03-21\n",
       "24     CR      ⋯ 0       0    0       0     1    1       MASTER 0   2012-03-21\n",
       "25     CR      ⋯ 0       0    0       0     1    1       MASTER 0   2012-03-21\n",
       "26     CR      ⋯ 0       0    0       0     1    0       MASTER 0   2012-03-21\n",
       "27     CR      ⋯ 0       0    0       0     1    1       MASTER 0   2012-03-21\n",
       "28     CR      ⋯ 0       0    0       0     1    0       MASTER 0   2012-03-21\n",
       "29     CR      ⋯ 0       0    0       0     1    1       MASTER 0   2012-03-21\n",
       "30     CR      ⋯ 0       0    0       0     1    1       MASTER 0   2012-03-21\n",
       "⋮      ⋮       ⋱ ⋮       ⋮    ⋮       ⋮     ⋮    ⋮       ⋮      ⋮   ⋮         \n",
       "202984 CR      ⋯ 1       1    1       0     0    0       CMECF  1   2019-07-09\n",
       "202985 CR      ⋯ 1       1    1       0     0    0       CMECF  1   2019-06-07\n",
       "202986 CR      ⋯ 1       1    1       0     0    0       CMECF  1   2019-07-09\n",
       "202987 CR      ⋯ 1       1    1       0     0    0       CMECF  1   2019-05-13\n",
       "202988 CR      ⋯ 1       1    1       0     0    0       CMECF  1   2019-07-09\n",
       "202989 CR      ⋯ 1       1    1       0     0    0       CMECF  1   2019-04-11\n",
       "202990 CR      ⋯ 1       1    1       0     0    0       CMECF  1   2019-04-11\n",
       "202991 CR      ⋯ 0       0    0       0     1    1       CMECF  0   2018-10-11\n",
       "202992 CR      ⋯ 1       1    1       0     0    0       CMECF  2   2019-01-08\n",
       "202993 CR      ⋯ 1       1    1       0     0    0       CMECF  1   2019-07-09\n",
       "202994 CR      ⋯ 1       1    1       0     0    0       CMECF  1   2019-04-11\n",
       "202995 CR      ⋯ 1       1    1       0     0    0       CMECF  2   2019-04-11\n",
       "202996 CR      ⋯ 1       1    1       0     0    0       CMECF  1   2019-07-09\n",
       "202997 CR      ⋯ 1       1    1       0     0    0       CMECF  2   2019-07-09\n",
       "202998 CR      ⋯ 1       1    1       0     0    0       CMECF  1   2019-06-07\n",
       "202999 CR      ⋯ 1       1    1       0     0    0       CMECF  1   2019-05-13\n",
       "203000 CR      ⋯ 1       1    1       0     0    0       CMECF  1   2019-03-05\n",
       "203001 CR      ⋯ 1       1    1       0     0    0       CMECF  1   2019-06-07\n",
       "203002 CR      ⋯ 1       1    1       0     0    0       CMECF  1   2019-05-13\n",
       "203003 CR      ⋯ 0       0    0       0     1    1       CMECF  0   2018-12-17\n",
       "203004 CR      ⋯ 1       1    1       0     0    0       CMECF  1   2019-02-07\n",
       "203005 CR      ⋯ 1       1    1       0     0    0       CMECF  1   2019-03-05\n",
       "203006 CR      ⋯ 0       0    0       0     1    1       CMECF  1   2019-05-13\n",
       "203007 CR      ⋯ 0       0    0       0     1    1       CMECF  0   2019-02-07\n",
       "203008 CR      ⋯ 0       0    0       0     1    1       CMECF  0   2019-04-11\n",
       "203009 CR      ⋯ 0       0    0       0     1    1       CMECF  0   2019-05-13\n",
       "203010 CR      ⋯ 0       0    0       0     1    1       CMECF  0   2019-07-09\n",
       "203011 CR      ⋯ 0       0    0       0     1    1       CMECF  0   2019-07-09\n",
       "203012 CR      ⋯ 0       0    0       0     1    1       CMECF  0   2012-10-02\n",
       "203013 CR      ⋯ 0       0    0       0     1    1       MASTER 0   2012-03-21\n",
       "       TAPEYEAR\n",
       "1      2099    \n",
       "2      2099    \n",
       "3      2099    \n",
       "4      2099    \n",
       "5      2099    \n",
       "6      2099    \n",
       "7      2099    \n",
       "8      2099    \n",
       "9      2099    \n",
       "10     2099    \n",
       "11     2099    \n",
       "12     2099    \n",
       "13     2099    \n",
       "14     2099    \n",
       "15     2099    \n",
       "16     2099    \n",
       "17     2099    \n",
       "18     2099    \n",
       "19     2099    \n",
       "20     2099    \n",
       "21     2099    \n",
       "22     2099    \n",
       "23     2099    \n",
       "24     2099    \n",
       "25     2099    \n",
       "26     2099    \n",
       "27     2099    \n",
       "28     2099    \n",
       "29     2099    \n",
       "30     2099    \n",
       "⋮      ⋮       \n",
       "202984 2019    \n",
       "202985 2019    \n",
       "202986 2019    \n",
       "202987 2019    \n",
       "202988 2019    \n",
       "202989 2019    \n",
       "202990 2019    \n",
       "202991 2099    \n",
       "202992 2019    \n",
       "202993 2019    \n",
       "202994 2019    \n",
       "202995 2019    \n",
       "202996 2019    \n",
       "202997 2019    \n",
       "202998 2019    \n",
       "202999 2019    \n",
       "203000 2019    \n",
       "203001 2019    \n",
       "203002 2019    \n",
       "203003 2099    \n",
       "203004 2019    \n",
       "203005 2019    \n",
       "203006 2099    \n",
       "203007 2099    \n",
       "203008 2099    \n",
       "203009 2099    \n",
       "203010 2099    \n",
       "203011 2099    \n",
       "203012 2099    \n",
       "203013 2099    "
      ]
     },
     "metadata": {},
     "output_type": "display_data"
    }
   ],
   "source": [
    "# Create overall merged dataframe to be used for analysis\n",
    "cr19_df <- rbind(cr19_part_1_df, cr19_part_2_to_6_df)\n",
    "cr19_df"
   ]
  },
  {
   "cell_type": "code",
   "execution_count": 8,
   "metadata": {},
   "outputs": [],
   "source": [
    "# Good luck Ariana, Helena, and Dan!"
   ]
  },
  {
   "cell_type": "code",
   "execution_count": 9,
   "metadata": {},
   "outputs": [
    {
     "data": {
      "text/html": [
       "<table>\n",
       "<caption>A data.frame: 6 × 144</caption>\n",
       "<thead>\n",
       "\t<tr><th scope=col>FISCALYR</th><th scope=col>CIRCUIT</th><th scope=col>DISTRICT</th><th scope=col>OFFICE</th><th scope=col>DOCKET</th><th scope=col>DEFNO</th><th scope=col>CTDEF</th><th scope=col>NAME</th><th scope=col>REOPSEQ</th><th scope=col>TYPEREG</th><th scope=col>⋯</th><th scope=col>CTTRTRN</th><th scope=col>CTTR</th><th scope=col>CTTRWOR</th><th scope=col>CTTRR</th><th scope=col>CTPN</th><th scope=col>CTPNWOF</th><th scope=col>SOURCE</th><th scope=col>VER</th><th scope=col>LOADDATE</th><th scope=col>TAPEYEAR</th></tr>\n",
       "\t<tr><th scope=col>&lt;int&gt;</th><th scope=col>&lt;int&gt;</th><th scope=col>&lt;chr&gt;</th><th scope=col>&lt;chr&gt;</th><th scope=col>&lt;int&gt;</th><th scope=col>&lt;int&gt;</th><th scope=col>&lt;int&gt;</th><th scope=col>&lt;lgl&gt;</th><th scope=col>&lt;int&gt;</th><th scope=col>&lt;fct&gt;</th><th scope=col>⋯</th><th scope=col>&lt;int&gt;</th><th scope=col>&lt;int&gt;</th><th scope=col>&lt;int&gt;</th><th scope=col>&lt;int&gt;</th><th scope=col>&lt;int&gt;</th><th scope=col>&lt;int&gt;</th><th scope=col>&lt;fct&gt;</th><th scope=col>&lt;int&gt;</th><th scope=col>&lt;fct&gt;</th><th scope=col>&lt;int&gt;</th></tr>\n",
       "</thead>\n",
       "<tbody>\n",
       "\t<tr><td>2019</td><td>0</td><td>90</td><td>1</td><td> 6</td><td>2</td><td>-8</td><td>NA</td><td>0</td><td>CR</td><td>⋯</td><td>0</td><td>0</td><td>0</td><td>0</td><td>1</td><td>0</td><td>MASTER</td><td>0</td><td>2012-03-21</td><td>2099</td></tr>\n",
       "\t<tr><td>2019</td><td>0</td><td>90</td><td>1</td><td>27</td><td>2</td><td>-8</td><td>NA</td><td>0</td><td>CR</td><td>⋯</td><td>0</td><td>0</td><td>0</td><td>0</td><td>1</td><td>1</td><td>MASTER</td><td>0</td><td>2012-03-21</td><td>2099</td></tr>\n",
       "\t<tr><td>2019</td><td>0</td><td>90</td><td>1</td><td>55</td><td>2</td><td>-8</td><td>NA</td><td>0</td><td>CR</td><td>⋯</td><td>0</td><td>0</td><td>0</td><td>0</td><td>1</td><td>0</td><td>MASTER</td><td>0</td><td>2012-03-21</td><td>2099</td></tr>\n",
       "\t<tr><td>2019</td><td>0</td><td>90</td><td>1</td><td>58</td><td>1</td><td> 1</td><td>NA</td><td>0</td><td>CR</td><td>⋯</td><td>0</td><td>0</td><td>0</td><td>0</td><td>1</td><td>1</td><td>MASTER</td><td>0</td><td>2012-03-21</td><td>2099</td></tr>\n",
       "\t<tr><td>2019</td><td>0</td><td>90</td><td>1</td><td>69</td><td>1</td><td>-8</td><td>NA</td><td>0</td><td>CR</td><td>⋯</td><td>0</td><td>0</td><td>0</td><td>0</td><td>1</td><td>0</td><td>MASTER</td><td>0</td><td>2012-03-21</td><td>2099</td></tr>\n",
       "\t<tr><td>2019</td><td>0</td><td>90</td><td>1</td><td>79</td><td>1</td><td>-8</td><td>NA</td><td>0</td><td>CR</td><td>⋯</td><td>0</td><td>0</td><td>0</td><td>0</td><td>1</td><td>1</td><td>MASTER</td><td>0</td><td>2012-03-21</td><td>2099</td></tr>\n",
       "</tbody>\n",
       "</table>\n"
      ],
      "text/latex": [
       "A data.frame: 6 × 144\n",
       "\\begin{tabular}{r|llllllllllllllllllllllllllllllllllllllllllllllllllllllllllllllllllllllllllllllllllllllllllllllllllllllllllllllllllllllllllllllllllllllllllllllll}\n",
       " FISCALYR & CIRCUIT & DISTRICT & OFFICE & DOCKET & DEFNO & CTDEF & NAME & REOPSEQ & TYPEREG & TYPETRN & TYPEMAG & DEFLGKY & CASLGKY & MAGDOCK & MAGDEF & STATUSCD & FUGSTAT & FGSTRTDATE & FGENDDATE & FILEDATE & PROCDATE & PROCCD & APPDATE & APPCD & FJUDGE & FCOUNSEL & FTITLE1 & FOFFLVL1 & FOFFCD1 & D2FOFFCD1 & FSEV1 & FTITLE2 & FOFFLVL2 & FOFFCD2 & D2FOFFCD2 & FSEV2 & FTITLE3 & FOFFLVL3 & FOFFCD3 & D2FOFFCD3 & FSEV3 & FTITLE4 & FOFFLVL4 & FOFFCD4 & D2FOFFCD4 & FSEV4 & FTITLE5 & FOFFLVL5 & FOFFCD5 & D2FOFFCD5 & FSEV5 & COUNTY & TRANDIST & TRANOFF & TRANDOCK & TRANDEF & UPDATE & DISPDATE & SENTDATE & TERMDATE & INT1 & INT2 & INT3 & TERMOFF & TJUDGE & TCOUNSEL & TTITLE1 & TOFFLVL1 & TOFFCD1 & D2TOFFCD1 & TSEV1 & DISP1 & PRISTIM1 & PRISCD1 & PROBMON1 & PROBCD1 & SUPVREL1 & FINEAMT1 & TTITLE2 & TOFFLVL2 & TOFFCD2 & D2TOFFCD2 & TSEV2 & DISP2 & PRISTIM2 & PRISCD2 & PROBMON2 & PROBCD2 & SUPVREL2 & FINEAMT2 & TTITLE3 & TOFFLVL3 & TOFFCD3 & D2TOFFCD3 & TSEV3 & DISP3 & PRISTIM3 & PRISCD3 & PROBMON3 & PROBCD3 & SUPVREL3 & FINEAMT3 & TTITLE4 & TOFFLVL4 & TOFFCD4 & D2TOFFCD4 & TSEV4 & DISP4 & PRISTIM4 & PRISCD4 & PROBMON4 & PROBCD4 & SUPVREL4 & FINEAMT4 & TTITLE5 & TOFFLVL5 & TOFFCD5 & D2TOFFCD5 & TSEV5 & DISP5 & PRISTIM5 & PRISCD5 & PROBMON5 & PROBCD5 & SUPVREL5 & FINEAMT5 & PRISTOT & PROBTOT & FINETOT & CTFILTRN & CTFIL & CTFILWOR & CTFILR & CTTRTRN & CTTR & CTTRWOR & CTTRR & CTPN & CTPNWOF & SOURCE & VER & LOADDATE & TAPEYEAR\\\\\n",
       " <int> & <int> & <chr> & <chr> & <int> & <int> & <int> & <lgl> & <int> & <fct> & <fct> & <fct> & <fct> & <fct> & <fct> & <int> & <fct> & <fct> & <fct> & <fct> & <fct> & <fct> & <int> & <fct> & <fct> & <lgl> & <int> & <fct> & <int> & <int> & <int> & <fct> & <fct> & <int> & <int> & <int> & <fct> & <fct> & <int> & <int> & <int> & <fct> & <fct> & <int> & <int> & <int> & <fct> & <fct> & <int> & <int> & <int> & <fct> & <int> & <chr> & <int> & <int> & <int> & <fct> & <fct> & <fct> & <fct> & <int> & <int> & <int> & <chr> & <lgl> & <int> & <fct> & <int> & <int> & <int> & <fct> & <int> & <int> & <fct> & <int> & <fct> & <int> & <int> & <fct> & <int> & <int> & <int> & <fct> & <int> & <int> & <fct> & <int> & <fct> & <int> & <int> & <fct> & <int> & <int> & <int> & <fct> & <int> & <int> & <fct> & <int> & <fct> & <int> & <int> & <fct> & <int> & <int> & <int> & <fct> & <int> & <int> & <fct> & <int> & <fct> & <int> & <int> & <fct> & <int> & <int> & <int> & <fct> & <int> & <int> & <fct> & <int> & <fct> & <int> & <int> & <int> & <int> & <int> & <int> & <int> & <int> & <int> & <int> & <int> & <int> & <int> & <int> & <int> & <fct> & <int> & <fct> & <int>\\\\\n",
       "\\hline\n",
       "\t 2019 & 0 & 90 & 1 &  6 & 2 & -8 & NA & 0 & CR & -8 & -8 & 009010000006CR0020 & 009010000006CR0 & -8      & -8 & E & Z & 1900-01-01 & 1900-01-01 & 2000-01-06 & 2000-01-06 & 1 & 1900-01-01 & -8 & NA & 0 & 21:846=MD.F  & 4 & 6501 & 6501 & 839 & 21:841B=ND.F &  4 & 6701 & 6701 & 839 & -8        & -8 &   -8 &   -8 & -8  & -8           & -8 &   -8 &   -8 & -8  & -8           & -8 &   -8 &   -8 & -8  & 11001 & -8 & -8 & -8 & -8 & 2003-10-06 & 1900-01-01 & 1900-01-01 & 1900-01-01 & 0 & 0 & 0 & -8 & NA & -8 & -8 & -8 & -8 & -8 & -8 & -8 & 0 & -8 & 0 & -8 & 0 & 0 & -8 & -8 & -8 & -8 & -8 & -8 & 0 & -8 & 0 & -8 & 0 & 0 & -8 & -8 & -8 & -8 & -8 & -8 & 0 & -8 & 0 & -8 & 0 & 0 & -8 & -8 & -8 & -8 & -8 & -8 & 0 & -8 & 0 & -8 & 0 & 0 & -8 & -8 & -8 & -8 & -8 & -8 & 0 & -8 & 0 & -8 & 0 & 0 & 0 & 0 & 0 & 0 & 0 & 0 & 0 & 0 & 0 & 0 & 0 & 1 & 0 & MASTER & 0 & 2012-03-21 & 2099\\\\\n",
       "\t 2019 & 0 & 90 & 1 & 27 & 2 & -8 & NA & 0 & CR & -8 & MJ & 009010000027CR0020 & 009010000027CR0 & 0000008 &  2 & E & N & 1900-01-01 & 1900-01-01 & 2000-01-27 & 2000-01-27 & 1 & 2000-01-03 & D  & NA & 1 & 18:922G.F    & 4 & 7830 & 7820 & 409 & 18:922G.F    &  4 & 7830 & 7820 & 409 & -8        & -8 &   -8 &   -8 & -8  & -8           & -8 &   -8 &   -8 & -8  & -8           & -8 &   -8 &   -8 & -8  & 11001 & -8 & -8 & -8 & -8 & 2004-10-12 & 1900-01-01 & 1900-01-01 & 1900-01-01 & 0 & 0 & 0 & -8 & NA & -8 & -8 & -8 & -8 & -8 & -8 & -8 & 0 & -8 & 0 & -8 & 0 & 0 & -8 & -8 & -8 & -8 & -8 & -8 & 0 & -8 & 0 & -8 & 0 & 0 & -8 & -8 & -8 & -8 & -8 & -8 & 0 & -8 & 0 & -8 & 0 & 0 & -8 & -8 & -8 & -8 & -8 & -8 & 0 & -8 & 0 & -8 & 0 & 0 & -8 & -8 & -8 & -8 & -8 & -8 & 0 & -8 & 0 & -8 & 0 & 0 & 0 & 0 & 0 & 0 & 0 & 0 & 0 & 0 & 0 & 0 & 0 & 1 & 1 & MASTER & 0 & 2012-03-21 & 2099\\\\\n",
       "\t 2019 & 0 & 90 & 1 & 55 & 2 & -8 & NA & 0 & CR & -8 & -8 & 009010000055CR0020 & 009010000055CR0 & -8      & -8 & E & Z & 2004-06-29 & 1900-01-01 & 2000-02-17 & 2000-02-17 & 1 & 2000-03-06 & 1  & NA & 0 & 21:846=ND.F  & 4 & 6701 & 6701 & 839 & -8           & -8 &   -8 &   -8 & -8  & -8        & -8 &   -8 &   -8 & -8  & -8           & -8 &   -8 &   -8 & -8  & -8           & -8 &   -8 &   -8 & -8  & 11001 & -8 & -8 & -8 & -8 & 2005-09-14 & 1900-01-01 & 1900-01-01 & 1900-01-01 & 0 & 0 & 0 & -8 & NA & -8 & -8 & -8 & -8 & -8 & -8 & -8 & 0 & -8 & 0 & -8 & 0 & 0 & -8 & -8 & -8 & -8 & -8 & -8 & 0 & -8 & 0 & -8 & 0 & 0 & -8 & -8 & -8 & -8 & -8 & -8 & 0 & -8 & 0 & -8 & 0 & 0 & -8 & -8 & -8 & -8 & -8 & -8 & 0 & -8 & 0 & -8 & 0 & 0 & -8 & -8 & -8 & -8 & -8 & -8 & 0 & -8 & 0 & -8 & 0 & 0 & 0 & 0 & 0 & 0 & 0 & 0 & 0 & 0 & 0 & 0 & 0 & 1 & 0 & MASTER & 0 & 2012-03-21 & 2099\\\\\n",
       "\t 2019 & 0 & 90 & 1 & 58 & 1 &  1 & NA & 0 & CR & -8 & MJ & 009010000058CR0010 & 009010000058CR0 & 0000044 &  1 & E & N & 1900-01-01 & 1900-01-01 & 2000-02-22 & 2000-02-22 & 1 & 2000-01-20 & D  & NA & 6 & 18:924C.F    & 4 & 7830 & 7831 & 820 & 21:841B=ND.F &  4 & 6701 & 6701 & 839 & 18:922G.F &  4 & 7830 & 7820 & 409 & 21:841B=NP.F &  4 & 6704 & 6701 & 839 & 21:841B=NP.F &  4 & 6704 & 6701 & 839 & 11001 & -8 & -8 & -8 & -8 & 2009-01-14 & 1900-01-01 & 1900-01-01 & 1900-01-01 & 0 & 0 & 0 & -8 & NA & -8 & -8 & -8 & -8 & -8 & -8 & -8 & 0 & -8 & 0 & -8 & 0 & 0 & -8 & -8 & -8 & -8 & -8 & -8 & 0 & -8 & 0 & -8 & 0 & 0 & -8 & -8 & -8 & -8 & -8 & -8 & 0 & -8 & 0 & -8 & 0 & 0 & -8 & -8 & -8 & -8 & -8 & -8 & 0 & -8 & 0 & -8 & 0 & 0 & -8 & -8 & -8 & -8 & -8 & -8 & 0 & -8 & 0 & -8 & 0 & 0 & 0 & 0 & 0 & 0 & 0 & 0 & 0 & 0 & 0 & 0 & 0 & 1 & 1 & MASTER & 0 & 2012-03-21 & 2099\\\\\n",
       "\t 2019 & 0 & 90 & 1 & 69 & 1 & -8 & NA & 0 & CR & -8 & -8 & 009010000069CR0010 & 009010000069CR0 & -8      & -8 & E & Z & 1900-01-01 & 1900-01-01 & 2000-02-25 & 2000-02-25 & 1 & 1900-01-01 & -8 & NA & 0 & 18:201A.F    & 4 & 7100 & 7100 & 416 & 18:201A.F    &  4 & 7100 & 7100 & 416 & -8        & -8 &   -8 &   -8 & -8  & -8           & -8 &   -8 &   -8 & -8  & -8           & -8 &   -8 &   -8 & -8  & 11001 & -8 & -8 & -8 & -8 & 2003-10-06 & 1900-01-01 & 1900-01-01 & 1900-01-01 & 0 & 0 & 0 & -8 & NA & -8 & -8 & -8 & -8 & -8 & -8 & -8 & 0 & -8 & 0 & -8 & 0 & 0 & -8 & -8 & -8 & -8 & -8 & -8 & 0 & -8 & 0 & -8 & 0 & 0 & -8 & -8 & -8 & -8 & -8 & -8 & 0 & -8 & 0 & -8 & 0 & 0 & -8 & -8 & -8 & -8 & -8 & -8 & 0 & -8 & 0 & -8 & 0 & 0 & -8 & -8 & -8 & -8 & -8 & -8 & 0 & -8 & 0 & -8 & 0 & 0 & 0 & 0 & 0 & 0 & 0 & 0 & 0 & 0 & 0 & 0 & 0 & 1 & 0 & MASTER & 0 & 2012-03-21 & 2099\\\\\n",
       "\t 2019 & 0 & 90 & 1 & 79 & 1 & -8 & NA & 0 & CR & -8 & -8 & 009010000079CR0010 & 009010000079CR0 & -8      & -8 & E & N & 1900-01-01 & 1900-01-01 & 2000-03-02 & 2000-03-02 & 1 & 1900-01-01 & -8 & NA & 0 & 21:841B=ND.F & 4 & 6701 & 6701 & 839 & 18:922N.F    &  4 & 7830 & 7800 & 205 & -8        & -8 &   -8 &   -8 & -8  & -8           & -8 &   -8 &   -8 & -8  & -8           & -8 &   -8 &   -8 & -8  & 11001 & -8 & -8 & -8 & -8 & 2000-04-10 & 1900-01-01 & 1900-01-01 & 1900-01-01 & 0 & 0 & 0 & -8 & NA & -8 & -8 & -8 & -8 & -8 & -8 & -8 & 0 & -8 & 0 & -8 & 0 & 0 & -8 & -8 & -8 & -8 & -8 & -8 & 0 & -8 & 0 & -8 & 0 & 0 & -8 & -8 & -8 & -8 & -8 & -8 & 0 & -8 & 0 & -8 & 0 & 0 & -8 & -8 & -8 & -8 & -8 & -8 & 0 & -8 & 0 & -8 & 0 & 0 & -8 & -8 & -8 & -8 & -8 & -8 & 0 & -8 & 0 & -8 & 0 & 0 & 0 & 0 & 0 & 0 & 0 & 0 & 0 & 0 & 0 & 0 & 0 & 1 & 1 & MASTER & 0 & 2012-03-21 & 2099\\\\\n",
       "\\end{tabular}\n"
      ],
      "text/markdown": [
       "\n",
       "A data.frame: 6 × 144\n",
       "\n",
       "| FISCALYR &lt;int&gt; | CIRCUIT &lt;int&gt; | DISTRICT &lt;chr&gt; | OFFICE &lt;chr&gt; | DOCKET &lt;int&gt; | DEFNO &lt;int&gt; | CTDEF &lt;int&gt; | NAME &lt;lgl&gt; | REOPSEQ &lt;int&gt; | TYPEREG &lt;fct&gt; | ⋯ ⋯ | CTTRTRN &lt;int&gt; | CTTR &lt;int&gt; | CTTRWOR &lt;int&gt; | CTTRR &lt;int&gt; | CTPN &lt;int&gt; | CTPNWOF &lt;int&gt; | SOURCE &lt;fct&gt; | VER &lt;int&gt; | LOADDATE &lt;fct&gt; | TAPEYEAR &lt;int&gt; |\n",
       "|---|---|---|---|---|---|---|---|---|---|---|---|---|---|---|---|---|---|---|---|---|\n",
       "| 2019 | 0 | 90 | 1 |  6 | 2 | -8 | NA | 0 | CR | ⋯ | 0 | 0 | 0 | 0 | 1 | 0 | MASTER | 0 | 2012-03-21 | 2099 |\n",
       "| 2019 | 0 | 90 | 1 | 27 | 2 | -8 | NA | 0 | CR | ⋯ | 0 | 0 | 0 | 0 | 1 | 1 | MASTER | 0 | 2012-03-21 | 2099 |\n",
       "| 2019 | 0 | 90 | 1 | 55 | 2 | -8 | NA | 0 | CR | ⋯ | 0 | 0 | 0 | 0 | 1 | 0 | MASTER | 0 | 2012-03-21 | 2099 |\n",
       "| 2019 | 0 | 90 | 1 | 58 | 1 |  1 | NA | 0 | CR | ⋯ | 0 | 0 | 0 | 0 | 1 | 1 | MASTER | 0 | 2012-03-21 | 2099 |\n",
       "| 2019 | 0 | 90 | 1 | 69 | 1 | -8 | NA | 0 | CR | ⋯ | 0 | 0 | 0 | 0 | 1 | 0 | MASTER | 0 | 2012-03-21 | 2099 |\n",
       "| 2019 | 0 | 90 | 1 | 79 | 1 | -8 | NA | 0 | CR | ⋯ | 0 | 0 | 0 | 0 | 1 | 1 | MASTER | 0 | 2012-03-21 | 2099 |\n",
       "\n"
      ],
      "text/plain": [
       "  FISCALYR CIRCUIT DISTRICT OFFICE DOCKET DEFNO CTDEF NAME REOPSEQ TYPEREG ⋯\n",
       "1 2019     0       90       1       6     2     -8    NA   0       CR      ⋯\n",
       "2 2019     0       90       1      27     2     -8    NA   0       CR      ⋯\n",
       "3 2019     0       90       1      55     2     -8    NA   0       CR      ⋯\n",
       "4 2019     0       90       1      58     1      1    NA   0       CR      ⋯\n",
       "5 2019     0       90       1      69     1     -8    NA   0       CR      ⋯\n",
       "6 2019     0       90       1      79     1     -8    NA   0       CR      ⋯\n",
       "  CTTRTRN CTTR CTTRWOR CTTRR CTPN CTPNWOF SOURCE VER LOADDATE   TAPEYEAR\n",
       "1 0       0    0       0     1    0       MASTER 0   2012-03-21 2099    \n",
       "2 0       0    0       0     1    1       MASTER 0   2012-03-21 2099    \n",
       "3 0       0    0       0     1    0       MASTER 0   2012-03-21 2099    \n",
       "4 0       0    0       0     1    1       MASTER 0   2012-03-21 2099    \n",
       "5 0       0    0       0     1    0       MASTER 0   2012-03-21 2099    \n",
       "6 0       0    0       0     1    1       MASTER 0   2012-03-21 2099    "
      ]
     },
     "metadata": {},
     "output_type": "display_data"
    }
   ],
   "source": [
    "head(cr19_df)"
   ]
  },
  {
   "cell_type": "code",
   "execution_count": 24,
   "metadata": {},
   "outputs": [
    {
     "data": {
      "text/html": [
       "<table>\n",
       "<caption>A data.frame: 203013 × 1</caption>\n",
       "<thead>\n",
       "\t<tr><th scope=col>FOFFCD1</th></tr>\n",
       "\t<tr><th scope=col>&lt;int&gt;</th></tr>\n",
       "</thead>\n",
       "<tbody>\n",
       "\t<tr><td>6501</td></tr>\n",
       "\t<tr><td>7830</td></tr>\n",
       "\t<tr><td>6701</td></tr>\n",
       "\t<tr><td>7830</td></tr>\n",
       "\t<tr><td>7100</td></tr>\n",
       "\t<tr><td>6701</td></tr>\n",
       "\t<tr><td>6701</td></tr>\n",
       "\t<tr><td>9999</td></tr>\n",
       "\t<tr><td>7830</td></tr>\n",
       "\t<tr><td>6701</td></tr>\n",
       "\t<tr><td>6701</td></tr>\n",
       "\t<tr><td>6701</td></tr>\n",
       "\t<tr><td>9921</td></tr>\n",
       "\t<tr><td>9921</td></tr>\n",
       "\t<tr><td>4991</td></tr>\n",
       "\t<tr><td>4980</td></tr>\n",
       "\t<tr><td> 100</td></tr>\n",
       "\t<tr><td>6701</td></tr>\n",
       "\t<tr><td>6702</td></tr>\n",
       "\t<tr><td>6704</td></tr>\n",
       "\t<tr><td>6704</td></tr>\n",
       "\t<tr><td>6701</td></tr>\n",
       "\t<tr><td>4601</td></tr>\n",
       "\t<tr><td>7611</td></tr>\n",
       "\t<tr><td>7611</td></tr>\n",
       "\t<tr><td>6701</td></tr>\n",
       "\t<tr><td>7830</td></tr>\n",
       "\t<tr><td>6701</td></tr>\n",
       "\t<tr><td>6701</td></tr>\n",
       "\t<tr><td>6701</td></tr>\n",
       "\t<tr><td>⋮</td></tr>\n",
       "\t<tr><td>6801</td></tr>\n",
       "\t<tr><td>6801</td></tr>\n",
       "\t<tr><td>6801</td></tr>\n",
       "\t<tr><td>6801</td></tr>\n",
       "\t<tr><td>6801</td></tr>\n",
       "\t<tr><td>6801</td></tr>\n",
       "\t<tr><td>6801</td></tr>\n",
       "\t<tr><td>6801</td></tr>\n",
       "\t<tr><td>6801</td></tr>\n",
       "\t<tr><td>6801</td></tr>\n",
       "\t<tr><td>6801</td></tr>\n",
       "\t<tr><td>6801</td></tr>\n",
       "\t<tr><td>6801</td></tr>\n",
       "\t<tr><td>6801</td></tr>\n",
       "\t<tr><td>6801</td></tr>\n",
       "\t<tr><td>6801</td></tr>\n",
       "\t<tr><td>6801</td></tr>\n",
       "\t<tr><td>6801</td></tr>\n",
       "\t<tr><td>6300</td></tr>\n",
       "\t<tr><td>8720</td></tr>\n",
       "\t<tr><td>8720</td></tr>\n",
       "\t<tr><td>8720</td></tr>\n",
       "\t<tr><td>7830</td></tr>\n",
       "\t<tr><td>7800</td></tr>\n",
       "\t<tr><td>4510</td></tr>\n",
       "\t<tr><td>8720</td></tr>\n",
       "\t<tr><td>6110</td></tr>\n",
       "\t<tr><td>4601</td></tr>\n",
       "\t<tr><td>7310</td></tr>\n",
       "\t<tr><td>4950</td></tr>\n",
       "</tbody>\n",
       "</table>\n"
      ],
      "text/latex": [
       "A data.frame: 203013 × 1\n",
       "\\begin{tabular}{r|l}\n",
       " FOFFCD1\\\\\n",
       " <int>\\\\\n",
       "\\hline\n",
       "\t 6501\\\\\n",
       "\t 7830\\\\\n",
       "\t 6701\\\\\n",
       "\t 7830\\\\\n",
       "\t 7100\\\\\n",
       "\t 6701\\\\\n",
       "\t 6701\\\\\n",
       "\t 9999\\\\\n",
       "\t 7830\\\\\n",
       "\t 6701\\\\\n",
       "\t 6701\\\\\n",
       "\t 6701\\\\\n",
       "\t 9921\\\\\n",
       "\t 9921\\\\\n",
       "\t 4991\\\\\n",
       "\t 4980\\\\\n",
       "\t  100\\\\\n",
       "\t 6701\\\\\n",
       "\t 6702\\\\\n",
       "\t 6704\\\\\n",
       "\t 6704\\\\\n",
       "\t 6701\\\\\n",
       "\t 4601\\\\\n",
       "\t 7611\\\\\n",
       "\t 7611\\\\\n",
       "\t 6701\\\\\n",
       "\t 7830\\\\\n",
       "\t 6701\\\\\n",
       "\t 6701\\\\\n",
       "\t 6701\\\\\n",
       "\t ⋮\\\\\n",
       "\t 6801\\\\\n",
       "\t 6801\\\\\n",
       "\t 6801\\\\\n",
       "\t 6801\\\\\n",
       "\t 6801\\\\\n",
       "\t 6801\\\\\n",
       "\t 6801\\\\\n",
       "\t 6801\\\\\n",
       "\t 6801\\\\\n",
       "\t 6801\\\\\n",
       "\t 6801\\\\\n",
       "\t 6801\\\\\n",
       "\t 6801\\\\\n",
       "\t 6801\\\\\n",
       "\t 6801\\\\\n",
       "\t 6801\\\\\n",
       "\t 6801\\\\\n",
       "\t 6801\\\\\n",
       "\t 6300\\\\\n",
       "\t 8720\\\\\n",
       "\t 8720\\\\\n",
       "\t 8720\\\\\n",
       "\t 7830\\\\\n",
       "\t 7800\\\\\n",
       "\t 4510\\\\\n",
       "\t 8720\\\\\n",
       "\t 6110\\\\\n",
       "\t 4601\\\\\n",
       "\t 7310\\\\\n",
       "\t 4950\\\\\n",
       "\\end{tabular}\n"
      ],
      "text/markdown": [
       "\n",
       "A data.frame: 203013 × 1\n",
       "\n",
       "| FOFFCD1 &lt;int&gt; |\n",
       "|---|\n",
       "| 6501 |\n",
       "| 7830 |\n",
       "| 6701 |\n",
       "| 7830 |\n",
       "| 7100 |\n",
       "| 6701 |\n",
       "| 6701 |\n",
       "| 9999 |\n",
       "| 7830 |\n",
       "| 6701 |\n",
       "| 6701 |\n",
       "| 6701 |\n",
       "| 9921 |\n",
       "| 9921 |\n",
       "| 4991 |\n",
       "| 4980 |\n",
       "|  100 |\n",
       "| 6701 |\n",
       "| 6702 |\n",
       "| 6704 |\n",
       "| 6704 |\n",
       "| 6701 |\n",
       "| 4601 |\n",
       "| 7611 |\n",
       "| 7611 |\n",
       "| 6701 |\n",
       "| 7830 |\n",
       "| 6701 |\n",
       "| 6701 |\n",
       "| 6701 |\n",
       "| ⋮ |\n",
       "| 6801 |\n",
       "| 6801 |\n",
       "| 6801 |\n",
       "| 6801 |\n",
       "| 6801 |\n",
       "| 6801 |\n",
       "| 6801 |\n",
       "| 6801 |\n",
       "| 6801 |\n",
       "| 6801 |\n",
       "| 6801 |\n",
       "| 6801 |\n",
       "| 6801 |\n",
       "| 6801 |\n",
       "| 6801 |\n",
       "| 6801 |\n",
       "| 6801 |\n",
       "| 6801 |\n",
       "| 6300 |\n",
       "| 8720 |\n",
       "| 8720 |\n",
       "| 8720 |\n",
       "| 7830 |\n",
       "| 7800 |\n",
       "| 4510 |\n",
       "| 8720 |\n",
       "| 6110 |\n",
       "| 4601 |\n",
       "| 7310 |\n",
       "| 4950 |\n",
       "\n"
      ],
      "text/plain": [
       "       FOFFCD1\n",
       "1      6501   \n",
       "2      7830   \n",
       "3      6701   \n",
       "4      7830   \n",
       "5      7100   \n",
       "6      6701   \n",
       "7      6701   \n",
       "8      9999   \n",
       "9      7830   \n",
       "10     6701   \n",
       "11     6701   \n",
       "12     6701   \n",
       "13     9921   \n",
       "14     9921   \n",
       "15     4991   \n",
       "16     4980   \n",
       "17      100   \n",
       "18     6701   \n",
       "19     6702   \n",
       "20     6704   \n",
       "21     6704   \n",
       "22     6701   \n",
       "23     4601   \n",
       "24     7611   \n",
       "25     7611   \n",
       "26     6701   \n",
       "27     7830   \n",
       "28     6701   \n",
       "29     6701   \n",
       "30     6701   \n",
       "⋮      ⋮      \n",
       "202984 6801   \n",
       "202985 6801   \n",
       "202986 6801   \n",
       "202987 6801   \n",
       "202988 6801   \n",
       "202989 6801   \n",
       "202990 6801   \n",
       "202991 6801   \n",
       "202992 6801   \n",
       "202993 6801   \n",
       "202994 6801   \n",
       "202995 6801   \n",
       "202996 6801   \n",
       "202997 6801   \n",
       "202998 6801   \n",
       "202999 6801   \n",
       "203000 6801   \n",
       "203001 6801   \n",
       "203002 6300   \n",
       "203003 8720   \n",
       "203004 8720   \n",
       "203005 8720   \n",
       "203006 7830   \n",
       "203007 7800   \n",
       "203008 4510   \n",
       "203009 8720   \n",
       "203010 6110   \n",
       "203011 4601   \n",
       "203012 7310   \n",
       "203013 4950   "
      ]
     },
     "metadata": {},
     "output_type": "display_data"
    }
   ],
   "source": [
    "##Nature of Offense is coded in Column labeled \"FOFFCD1,\" the number is 9901\n",
    "\n",
    "##below get a glimpse of the column\n",
    "df2 <- cr19_df[, \"FOFFCD1\", drop=FALSE]\n",
    "df2"
   ]
  },
  {
   "cell_type": "code",
   "execution_count": 40,
   "metadata": {},
   "outputs": [
    {
     "data": {
      "text/html": [
       "212"
      ],
      "text/latex": [
       "212"
      ],
      "text/markdown": [
       "212"
      ],
      "text/plain": [
       "[1] 212"
      ]
     },
     "metadata": {},
     "output_type": "display_data"
    }
   ],
   "source": [
    "##Count total civil rights violations \n",
    "sum(cr19_df$FOFFCD1 == '9901')"
   ]
  },
  {
   "cell_type": "code",
   "execution_count": 41,
   "metadata": {},
   "outputs": [
    {
     "data": {
      "text/html": [
       "2099"
      ],
      "text/latex": [
       "2099"
      ],
      "text/markdown": [
       "2099"
      ],
      "text/plain": [
       "[1] 2099"
      ]
     },
     "metadata": {},
     "output_type": "display_data"
    },
    {
     "data": {
      "text/html": [
       "5158"
      ],
      "text/latex": [
       "5158"
      ],
      "text/markdown": [
       "5158"
      ],
      "text/plain": [
       "[1] 5158"
      ]
     },
     "metadata": {},
     "output_type": "display_data"
    },
    {
     "data": {
      "text/html": [
       "2048"
      ],
      "text/latex": [
       "2048"
      ],
      "text/markdown": [
       "2048"
      ],
      "text/plain": [
       "[1] 2048"
      ]
     },
     "metadata": {},
     "output_type": "display_data"
    },
    {
     "data": {
      "text/html": [
       "1451"
      ],
      "text/latex": [
       "1451"
      ],
      "text/markdown": [
       "1451"
      ],
      "text/plain": [
       "[1] 1451"
      ]
     },
     "metadata": {},
     "output_type": "display_data"
    }
   ],
   "source": [
    "##Count total violations by District (90, 16, 13, 15)\n",
    "\n",
    "#90: DC\n",
    "#16: Maryland\n",
    "#13: Eastern Pennsylvania (Philli)\n",
    "#15: Western Pennsylvania\n",
    "\n",
    "##Guys - I decided instead of NYC and Western NY it would be better to do DC and Maryland because there is more data available \n",
    "sum(cr19_df$DISTRICT == '90')\n",
    "sum(cr19_df$DISTRICT == '16')\n",
    "sum(cr19_df$DISTRICT == '13')\n",
    "sum(cr19_df$DISTRICT == '15')\n",
    "\n",
    "##there are more total violations in Maryland than DC, probably due to size\n",
    "##there are more total violations in Eastern than Western PA"
   ]
  },
  {
   "cell_type": "code",
   "execution_count": 46,
   "metadata": {},
   "outputs": [
    {
     "data": {
      "text/html": [
       "<table>\n",
       "<caption>A data.frame: 212 × 144</caption>\n",
       "<thead>\n",
       "\t<tr><th></th><th scope=col>FISCALYR</th><th scope=col>CIRCUIT</th><th scope=col>DISTRICT</th><th scope=col>OFFICE</th><th scope=col>DOCKET</th><th scope=col>DEFNO</th><th scope=col>CTDEF</th><th scope=col>NAME</th><th scope=col>REOPSEQ</th><th scope=col>TYPEREG</th><th scope=col>⋯</th><th scope=col>CTTRTRN</th><th scope=col>CTTR</th><th scope=col>CTTRWOR</th><th scope=col>CTTRR</th><th scope=col>CTPN</th><th scope=col>CTPNWOF</th><th scope=col>SOURCE</th><th scope=col>VER</th><th scope=col>LOADDATE</th><th scope=col>TAPEYEAR</th></tr>\n",
       "\t<tr><th></th><th scope=col>&lt;int&gt;</th><th scope=col>&lt;int&gt;</th><th scope=col>&lt;chr&gt;</th><th scope=col>&lt;chr&gt;</th><th scope=col>&lt;int&gt;</th><th scope=col>&lt;int&gt;</th><th scope=col>&lt;int&gt;</th><th scope=col>&lt;lgl&gt;</th><th scope=col>&lt;int&gt;</th><th scope=col>&lt;fct&gt;</th><th scope=col>⋯</th><th scope=col>&lt;int&gt;</th><th scope=col>&lt;int&gt;</th><th scope=col>&lt;int&gt;</th><th scope=col>&lt;int&gt;</th><th scope=col>&lt;int&gt;</th><th scope=col>&lt;int&gt;</th><th scope=col>&lt;fct&gt;</th><th scope=col>&lt;int&gt;</th><th scope=col>&lt;fct&gt;</th><th scope=col>&lt;int&gt;</th></tr>\n",
       "</thead>\n",
       "<tbody>\n",
       "\t<tr><th scope=row>1075</th><td>2019</td><td>0</td><td>90</td><td>1</td><td>1800036</td><td> 1</td><td> 1</td><td>NA</td><td>0</td><td>CR</td><td>⋯</td><td>0</td><td>0</td><td>0</td><td>0</td><td>1</td><td>1</td><td>CMECF </td><td>1</td><td>2018-04-10</td><td>2099</td></tr>\n",
       "\t<tr><th scope=row>2499</th><td>2019</td><td>1</td><td>1 </td><td>1</td><td> 510319</td><td> 1</td><td> 1</td><td>NA</td><td>1</td><td>CR</td><td>⋯</td><td>0</td><td>0</td><td>0</td><td>0</td><td>1</td><td>1</td><td>MASTER</td><td>0</td><td>2012-03-21</td><td>2099</td></tr>\n",
       "\t<tr><th scope=row>3919</th><td>2019</td><td>1</td><td>1 </td><td>3</td><td>1830003</td><td> 1</td><td> 1</td><td>NA</td><td>0</td><td>CR</td><td>⋯</td><td>1</td><td>1</td><td>1</td><td>0</td><td>0</td><td>0</td><td>CMECF </td><td>1</td><td>2019-07-10</td><td>2019</td></tr>\n",
       "\t<tr><th scope=row>3949</th><td>2019</td><td>1</td><td>1 </td><td>3</td><td>1830051</td><td> 1</td><td> 1</td><td>NA</td><td>0</td><td>CR</td><td>⋯</td><td>0</td><td>0</td><td>0</td><td>0</td><td>1</td><td>1</td><td>CMECF </td><td>0</td><td>2018-11-11</td><td>2099</td></tr>\n",
       "\t<tr><th scope=row>3950</th><td>2019</td><td>1</td><td>1 </td><td>3</td><td>1830051</td><td> 2</td><td> 2</td><td>NA</td><td>0</td><td>CR</td><td>⋯</td><td>0</td><td>0</td><td>0</td><td>0</td><td>1</td><td>1</td><td>CMECF </td><td>0</td><td>2018-11-11</td><td>2099</td></tr>\n",
       "\t<tr><th scope=row>5696</th><td>2019</td><td>1</td><td>4 </td><td>3</td><td>1600536</td><td> 1</td><td> 1</td><td>NA</td><td>0</td><td>CR</td><td>⋯</td><td>0</td><td>0</td><td>0</td><td>0</td><td>1</td><td>1</td><td>CMECF </td><td>0</td><td>2016-09-11</td><td>2099</td></tr>\n",
       "\t<tr><th scope=row>5697</th><td>2019</td><td>1</td><td>4 </td><td>3</td><td>1600536</td><td> 2</td><td> 2</td><td>NA</td><td>0</td><td>CR</td><td>⋯</td><td>0</td><td>0</td><td>0</td><td>0</td><td>1</td><td>1</td><td>CMECF </td><td>0</td><td>2016-09-11</td><td>2099</td></tr>\n",
       "\t<tr><th scope=row>5698</th><td>2019</td><td>1</td><td>4 </td><td>3</td><td>1600536</td><td> 3</td><td> 3</td><td>NA</td><td>0</td><td>CR</td><td>⋯</td><td>0</td><td>0</td><td>0</td><td>0</td><td>1</td><td>1</td><td>CMECF </td><td>0</td><td>2016-09-11</td><td>2099</td></tr>\n",
       "\t<tr><th scope=row>5699</th><td>2019</td><td>1</td><td>4 </td><td>3</td><td>1600536</td><td> 4</td><td> 4</td><td>NA</td><td>0</td><td>CR</td><td>⋯</td><td>0</td><td>0</td><td>0</td><td>0</td><td>1</td><td>1</td><td>CMECF </td><td>0</td><td>2016-09-11</td><td>2099</td></tr>\n",
       "\t<tr><th scope=row>6900</th><td>2019</td><td>1</td><td>4 </td><td>3</td><td>1800089</td><td> 1</td><td> 1</td><td>NA</td><td>0</td><td>CR</td><td>⋯</td><td>0</td><td>0</td><td>0</td><td>0</td><td>1</td><td>1</td><td>CMECF </td><td>0</td><td>2018-03-11</td><td>2099</td></tr>\n",
       "\t<tr><th scope=row>8532</th><td>2019</td><td>2</td><td>5 </td><td>3</td><td>    215</td><td> 1</td><td>-8</td><td>NA</td><td>0</td><td>CR</td><td>⋯</td><td>0</td><td>0</td><td>0</td><td>0</td><td>1</td><td>1</td><td>MASTER</td><td>0</td><td>2012-03-21</td><td>2099</td></tr>\n",
       "\t<tr><th scope=row>8675</th><td>2019</td><td>2</td><td>5 </td><td>3</td><td> 900264</td><td> 1</td><td> 1</td><td>NA</td><td>0</td><td>CR</td><td>⋯</td><td>0</td><td>0</td><td>0</td><td>0</td><td>1</td><td>1</td><td>MASTER</td><td>0</td><td>2012-03-21</td><td>2099</td></tr>\n",
       "\t<tr><th scope=row>8676</th><td>2019</td><td>2</td><td>5 </td><td>3</td><td> 900264</td><td> 2</td><td> 2</td><td>NA</td><td>0</td><td>CR</td><td>⋯</td><td>0</td><td>0</td><td>0</td><td>0</td><td>1</td><td>1</td><td>MASTER</td><td>0</td><td>2012-03-21</td><td>2099</td></tr>\n",
       "\t<tr><th scope=row>13487</th><td>2019</td><td>2</td><td>7 </td><td>1</td><td>1900032</td><td> 1</td><td> 1</td><td>NA</td><td>0</td><td>CR</td><td>⋯</td><td>0</td><td>0</td><td>0</td><td>0</td><td>1</td><td>1</td><td>CMECF </td><td>0</td><td>2019-02-10</td><td>2099</td></tr>\n",
       "\t<tr><th scope=row>13732</th><td>2019</td><td>2</td><td>7 </td><td>1</td><td>7201267</td><td> 2</td><td>-8</td><td>NA</td><td>0</td><td>CR</td><td>⋯</td><td>0</td><td>0</td><td>0</td><td>0</td><td>1</td><td>0</td><td>MASTER</td><td>0</td><td>2012-03-21</td><td>2099</td></tr>\n",
       "\t<tr><th scope=row>13733</th><td>2019</td><td>2</td><td>7 </td><td>1</td><td>7201267</td><td> 3</td><td>-8</td><td>NA</td><td>0</td><td>CR</td><td>⋯</td><td>0</td><td>0</td><td>0</td><td>0</td><td>1</td><td>0</td><td>MASTER</td><td>0</td><td>2012-03-21</td><td>2099</td></tr>\n",
       "\t<tr><th scope=row>13734</th><td>2019</td><td>2</td><td>7 </td><td>1</td><td>7201267</td><td> 4</td><td>-8</td><td>NA</td><td>0</td><td>CR</td><td>⋯</td><td>0</td><td>0</td><td>0</td><td>0</td><td>1</td><td>0</td><td>MASTER</td><td>0</td><td>2012-03-21</td><td>2099</td></tr>\n",
       "\t<tr><th scope=row>13735</th><td>2019</td><td>2</td><td>7 </td><td>1</td><td>7201267</td><td> 5</td><td>-8</td><td>NA</td><td>0</td><td>CR</td><td>⋯</td><td>0</td><td>0</td><td>0</td><td>0</td><td>1</td><td>0</td><td>MASTER</td><td>0</td><td>2012-03-21</td><td>2099</td></tr>\n",
       "\t<tr><th scope=row>14770</th><td>2019</td><td>2</td><td>7 </td><td>1</td><td>9800196</td><td> 2</td><td>-8</td><td>NA</td><td>1</td><td>CR</td><td>⋯</td><td>0</td><td>0</td><td>0</td><td>0</td><td>1</td><td>1</td><td>MASTER</td><td>0</td><td>2012-03-21</td><td>2099</td></tr>\n",
       "\t<tr><th scope=row>14771</th><td>2019</td><td>2</td><td>7 </td><td>1</td><td>9800196</td><td> 3</td><td>-8</td><td>NA</td><td>1</td><td>CR</td><td>⋯</td><td>0</td><td>0</td><td>0</td><td>0</td><td>1</td><td>1</td><td>MASTER</td><td>0</td><td>2012-03-21</td><td>2099</td></tr>\n",
       "\t<tr><th scope=row>14772</th><td>2019</td><td>2</td><td>7 </td><td>1</td><td>9800196</td><td> 4</td><td>-8</td><td>NA</td><td>1</td><td>CR</td><td>⋯</td><td>0</td><td>0</td><td>0</td><td>0</td><td>1</td><td>1</td><td>MASTER</td><td>0</td><td>2012-03-21</td><td>2099</td></tr>\n",
       "\t<tr><th scope=row>15414</th><td>2019</td><td>2</td><td>7 </td><td>2</td><td>1800530</td><td> 1</td><td> 1</td><td>NA</td><td>0</td><td>CR</td><td>⋯</td><td>0</td><td>0</td><td>0</td><td>0</td><td>1</td><td>1</td><td>CMECF </td><td>0</td><td>2018-11-14</td><td>2099</td></tr>\n",
       "\t<tr><th scope=row>20360</th><td>2019</td><td>2</td><td>8 </td><td>1</td><td>1900341</td><td> 1</td><td> 1</td><td>NA</td><td>0</td><td>CR</td><td>⋯</td><td>0</td><td>0</td><td>0</td><td>0</td><td>1</td><td>1</td><td>CMECF </td><td>0</td><td>2019-06-06</td><td>2099</td></tr>\n",
       "\t<tr><th scope=row>20379</th><td>2019</td><td>2</td><td>8 </td><td>1</td><td>1900363</td><td> 1</td><td> 1</td><td>NA</td><td>0</td><td>CR</td><td>⋯</td><td>0</td><td>0</td><td>0</td><td>0</td><td>1</td><td>1</td><td>CMECF </td><td>0</td><td>2019-06-06</td><td>2099</td></tr>\n",
       "\t<tr><th scope=row>22741</th><td>2019</td><td>2</td><td>8 </td><td>1</td><td>9500052</td><td> 9</td><td>-8</td><td>NA</td><td>0</td><td>CR</td><td>⋯</td><td>0</td><td>0</td><td>0</td><td>0</td><td>1</td><td>0</td><td>MASTER</td><td>0</td><td>2012-03-21</td><td>2099</td></tr>\n",
       "\t<tr><th scope=row>22766</th><td>2019</td><td>2</td><td>8 </td><td>1</td><td>9500200</td><td> 2</td><td>-8</td><td>NA</td><td>0</td><td>CR</td><td>⋯</td><td>0</td><td>0</td><td>0</td><td>0</td><td>1</td><td>0</td><td>MASTER</td><td>0</td><td>2012-03-21</td><td>2099</td></tr>\n",
       "\t<tr><th scope=row>22767</th><td>2019</td><td>2</td><td>8 </td><td>1</td><td>9500200</td><td> 3</td><td>-8</td><td>NA</td><td>0</td><td>CR</td><td>⋯</td><td>0</td><td>0</td><td>0</td><td>0</td><td>1</td><td>0</td><td>MASTER</td><td>0</td><td>2012-03-21</td><td>2099</td></tr>\n",
       "\t<tr><th scope=row>23506</th><td>2019</td><td>2</td><td>8 </td><td>7</td><td> 800784</td><td> 1</td><td> 1</td><td>NA</td><td>0</td><td>CR</td><td>⋯</td><td>0</td><td>0</td><td>0</td><td>0</td><td>1</td><td>1</td><td>MASTER</td><td>0</td><td>2012-03-21</td><td>2099</td></tr>\n",
       "\t<tr><th scope=row>23948</th><td>2019</td><td>2</td><td>8 </td><td>7</td><td>1600578</td><td> 1</td><td> 1</td><td>NA</td><td>0</td><td>CR</td><td>⋯</td><td>1</td><td>1</td><td>1</td><td>0</td><td>0</td><td>0</td><td>CMECF </td><td>2</td><td>2019-05-06</td><td>2019</td></tr>\n",
       "\t<tr><th scope=row>24369</th><td>2019</td><td>2</td><td>8 </td><td>7</td><td>8400063</td><td>18</td><td>-8</td><td>NA</td><td>0</td><td>CR</td><td>⋯</td><td>0</td><td>0</td><td>0</td><td>0</td><td>1</td><td>0</td><td>MASTER</td><td>0</td><td>2012-03-21</td><td>2099</td></tr>\n",
       "\t<tr><th scope=row>⋮</th><td>⋮</td><td>⋮</td><td>⋮</td><td>⋮</td><td>⋮</td><td>⋮</td><td>⋮</td><td>⋮</td><td>⋮</td><td>⋮</td><td>⋱</td><td>⋮</td><td>⋮</td><td>⋮</td><td>⋮</td><td>⋮</td><td>⋮</td><td>⋮</td><td>⋮</td><td>⋮</td><td>⋮</td></tr>\n",
       "\t<tr><th scope=row>159805</th><td>2019</td><td> 9</td><td>74</td><td>3</td><td>8600519</td><td> 1</td><td>-8</td><td>NA</td><td>0</td><td>CR</td><td>⋯</td><td>0</td><td>0</td><td>0</td><td>0</td><td>1</td><td>0</td><td>MASTER</td><td>0</td><td>2012-03-21</td><td>2099</td></tr>\n",
       "\t<tr><th scope=row>160609</th><td>2019</td><td> 9</td><td>75</td><td>1</td><td>1900040</td><td> 1</td><td> 1</td><td>NA</td><td>0</td><td>CR</td><td>⋯</td><td>0</td><td>0</td><td>0</td><td>0</td><td>1</td><td>1</td><td>CMECF </td><td>0</td><td>2019-05-13</td><td>2099</td></tr>\n",
       "\t<tr><th scope=row>160610</th><td>2019</td><td> 9</td><td>75</td><td>1</td><td>1900040</td><td> 2</td><td> 2</td><td>NA</td><td>0</td><td>CR</td><td>⋯</td><td>0</td><td>0</td><td>0</td><td>0</td><td>1</td><td>1</td><td>CMECF </td><td>0</td><td>2019-05-13</td><td>2099</td></tr>\n",
       "\t<tr><th scope=row>160675</th><td>2019</td><td> 9</td><td>75</td><td>1</td><td>8901531</td><td> 1</td><td>-8</td><td>NA</td><td>0</td><td>CR</td><td>⋯</td><td>0</td><td>0</td><td>0</td><td>0</td><td>1</td><td>0</td><td>MASTER</td><td>0</td><td>2012-03-21</td><td>2099</td></tr>\n",
       "\t<tr><th scope=row>162233</th><td>2019</td><td> 9</td><td>78</td><td>2</td><td>1300151</td><td> 1</td><td> 1</td><td>NA</td><td>0</td><td>CR</td><td>⋯</td><td>0</td><td>0</td><td>0</td><td>0</td><td>1</td><td>1</td><td>CMECF </td><td>0</td><td>2013-05-14</td><td>2099</td></tr>\n",
       "\t<tr><th scope=row>162788</th><td>2019</td><td> 9</td><td>78</td><td>2</td><td>1600005</td><td> 1</td><td> 1</td><td>NA</td><td>0</td><td>CR</td><td>⋯</td><td>0</td><td>0</td><td>0</td><td>0</td><td>1</td><td>1</td><td>CMECF </td><td>0</td><td>2016-02-22</td><td>2099</td></tr>\n",
       "\t<tr><th scope=row>165501</th><td>2019</td><td> 9</td><td>79</td><td>6</td><td>1900042</td><td> 1</td><td> 1</td><td>NA</td><td>0</td><td>CR</td><td>⋯</td><td>1</td><td>1</td><td>1</td><td>0</td><td>0</td><td>0</td><td>CMECF </td><td>1</td><td>2019-06-10</td><td>2019</td></tr>\n",
       "\t<tr><th scope=row>169061</th><td>2019</td><td> 9</td><td>93</td><td>1</td><td>9200043</td><td> 1</td><td> 1</td><td>NA</td><td>0</td><td>CR</td><td>⋯</td><td>0</td><td>0</td><td>0</td><td>0</td><td>1</td><td>1</td><td>CMECF </td><td>0</td><td>2013-10-10</td><td>2099</td></tr>\n",
       "\t<tr><th scope=row>173393</th><td>2019</td><td>10</td><td>84</td><td>1</td><td>1801965</td><td> 1</td><td> 1</td><td>NA</td><td>0</td><td>CR</td><td>⋯</td><td>0</td><td>0</td><td>0</td><td>0</td><td>1</td><td>1</td><td>CMECF </td><td>1</td><td>2019-07-09</td><td>2099</td></tr>\n",
       "\t<tr><th scope=row>180650</th><td>2019</td><td>10</td><td>88</td><td>2</td><td>1400324</td><td> 1</td><td> 1</td><td>NA</td><td>0</td><td>CR</td><td>⋯</td><td>0</td><td>0</td><td>0</td><td>0</td><td>1</td><td>1</td><td>CMECF </td><td>1</td><td>2014-08-06</td><td>2099</td></tr>\n",
       "\t<tr><th scope=row>182785</th><td>2019</td><td>11</td><td>26</td><td>2</td><td> 700082</td><td> 1</td><td> 1</td><td>NA</td><td>0</td><td>CR</td><td>⋯</td><td>0</td><td>0</td><td>0</td><td>0</td><td>1</td><td>1</td><td>MASTER</td><td>0</td><td>2012-03-21</td><td>2099</td></tr>\n",
       "\t<tr><th scope=row>183910</th><td>2019</td><td>11</td><td>26</td><td>7</td><td>1800485</td><td> 1</td><td> 1</td><td>NA</td><td>0</td><td>CR</td><td>⋯</td><td>1</td><td>1</td><td>1</td><td>0</td><td>0</td><td>0</td><td>CMECF </td><td>1</td><td>2019-04-04</td><td>2019</td></tr>\n",
       "\t<tr><th scope=row>184483</th><td>2019</td><td>11</td><td>27</td><td>2</td><td>1800419</td><td> 1</td><td> 1</td><td>NA</td><td>0</td><td>CR</td><td>⋯</td><td>0</td><td>0</td><td>0</td><td>0</td><td>1</td><td>1</td><td>CMECF </td><td>1</td><td>2019-05-03</td><td>2099</td></tr>\n",
       "\t<tr><th scope=row>184539</th><td>2019</td><td>11</td><td>27</td><td>2</td><td>1900127</td><td> 1</td><td> 1</td><td>NA</td><td>0</td><td>CR</td><td>⋯</td><td>0</td><td>0</td><td>0</td><td>0</td><td>1</td><td>1</td><td>CMECF </td><td>0</td><td>2019-05-03</td><td>2099</td></tr>\n",
       "\t<tr><th scope=row>187030</th><td>2019</td><td>11</td><td>3A</td><td>2</td><td> 900017</td><td> 1</td><td> 1</td><td>NA</td><td>0</td><td>CR</td><td>⋯</td><td>0</td><td>0</td><td>0</td><td>0</td><td>1</td><td>1</td><td>MASTER</td><td>0</td><td>2012-03-21</td><td>2099</td></tr>\n",
       "\t<tr><th scope=row>192206</th><td>2019</td><td>11</td><td>3C</td><td>1</td><td> 920772</td><td> 2</td><td> 2</td><td>NA</td><td>0</td><td>CR</td><td>⋯</td><td>0</td><td>0</td><td>0</td><td>0</td><td>1</td><td>1</td><td>MASTER</td><td>0</td><td>2012-03-21</td><td>2099</td></tr>\n",
       "\t<tr><th scope=row>192345</th><td>2019</td><td>11</td><td>3C</td><td>1</td><td> 720263</td><td> 3</td><td> 2</td><td>NA</td><td>0</td><td>CR</td><td>⋯</td><td>0</td><td>0</td><td>0</td><td>0</td><td>1</td><td>1</td><td>CMECF </td><td>2</td><td>2016-07-13</td><td>2099</td></tr>\n",
       "\t<tr><th scope=row>192346</th><td>2019</td><td>11</td><td>3C</td><td>1</td><td> 720263</td><td> 5</td><td> 3</td><td>NA</td><td>0</td><td>CR</td><td>⋯</td><td>0</td><td>0</td><td>0</td><td>0</td><td>1</td><td>1</td><td>CMECF </td><td>1</td><td>2016-07-13</td><td>2099</td></tr>\n",
       "\t<tr><th scope=row>193375</th><td>2019</td><td>11</td><td>3C</td><td>1</td><td>1820337</td><td> 1</td><td> 1</td><td>NA</td><td>0</td><td>CR</td><td>⋯</td><td>0</td><td>0</td><td>0</td><td>0</td><td>1</td><td>1</td><td>CMECF </td><td>0</td><td>2018-05-08</td><td>2099</td></tr>\n",
       "\t<tr><th scope=row>193425</th><td>2019</td><td>11</td><td>3C</td><td>1</td><td>1820255</td><td> 1</td><td> 1</td><td>NA</td><td>0</td><td>CR</td><td>⋯</td><td>1</td><td>1</td><td>1</td><td>0</td><td>0</td><td>0</td><td>CMECF </td><td>2</td><td>2018-11-14</td><td>2019</td></tr>\n",
       "\t<tr><th scope=row>193567</th><td>2019</td><td>11</td><td>3C</td><td>1</td><td>1820479</td><td> 1</td><td> 1</td><td>NA</td><td>0</td><td>CR</td><td>⋯</td><td>1</td><td>1</td><td>1</td><td>0</td><td>0</td><td>0</td><td>CMECF </td><td>2</td><td>2018-12-11</td><td>2019</td></tr>\n",
       "\t<tr><th scope=row>193568</th><td>2019</td><td>11</td><td>3C</td><td>1</td><td>1820479</td><td> 2</td><td> 2</td><td>NA</td><td>0</td><td>CR</td><td>⋯</td><td>1</td><td>1</td><td>1</td><td>0</td><td>0</td><td>0</td><td>CMECF </td><td>2</td><td>2018-11-14</td><td>2019</td></tr>\n",
       "\t<tr><th scope=row>193569</th><td>2019</td><td>11</td><td>3C</td><td>1</td><td>1820479</td><td> 3</td><td> 3</td><td>NA</td><td>0</td><td>CR</td><td>⋯</td><td>1</td><td>1</td><td>1</td><td>0</td><td>0</td><td>0</td><td>CMECF </td><td>2</td><td>2018-11-14</td><td>2019</td></tr>\n",
       "\t<tr><th scope=row>194347</th><td>2019</td><td>11</td><td>3C</td><td>1</td><td>1820953</td><td> 1</td><td> 1</td><td>NA</td><td>0</td><td>CR</td><td>⋯</td><td>0</td><td>0</td><td>0</td><td>0</td><td>1</td><td>1</td><td>CMECF </td><td>0</td><td>2019-01-09</td><td>2099</td></tr>\n",
       "\t<tr><th scope=row>197132</th><td>2019</td><td>11</td><td>3C</td><td>2</td><td>9814015</td><td> 8</td><td> 4</td><td>NA</td><td>0</td><td>CR</td><td>⋯</td><td>0</td><td>0</td><td>0</td><td>0</td><td>1</td><td>0</td><td>MASTER</td><td>0</td><td>2012-03-21</td><td>2099</td></tr>\n",
       "\t<tr><th scope=row>197133</th><td>2019</td><td>11</td><td>3C</td><td>2</td><td>9814015</td><td>13</td><td>11</td><td>NA</td><td>0</td><td>CR</td><td>⋯</td><td>0</td><td>0</td><td>0</td><td>0</td><td>1</td><td>1</td><td>MASTER</td><td>0</td><td>2012-03-21</td><td>2099</td></tr>\n",
       "\t<tr><th scope=row>197134</th><td>2019</td><td>11</td><td>3C</td><td>2</td><td>9814015</td><td>15</td><td>13</td><td>NA</td><td>0</td><td>CR</td><td>⋯</td><td>0</td><td>0</td><td>0</td><td>0</td><td>1</td><td>0</td><td>MASTER</td><td>0</td><td>2012-03-21</td><td>2099</td></tr>\n",
       "\t<tr><th scope=row>198597</th><td>2019</td><td>11</td><td>3E</td><td>1</td><td> 900134</td><td> 1</td><td> 1</td><td>NA</td><td>0</td><td>CR</td><td>⋯</td><td>0</td><td>0</td><td>0</td><td>0</td><td>1</td><td>1</td><td>MASTER</td><td>0</td><td>2012-03-21</td><td>2099</td></tr>\n",
       "\t<tr><th scope=row>200529</th><td>2019</td><td>11</td><td>3G</td><td>1</td><td>1400029</td><td> 1</td><td> 1</td><td>NA</td><td>0</td><td>CR</td><td>⋯</td><td>0</td><td>0</td><td>0</td><td>0</td><td>1</td><td>1</td><td>CMECF </td><td>1</td><td>2014-09-03</td><td>2099</td></tr>\n",
       "\t<tr><th scope=row>200997</th><td>2019</td><td>11</td><td>3G</td><td>3</td><td>1800022</td><td> 1</td><td> 1</td><td>NA</td><td>0</td><td>CR</td><td>⋯</td><td>0</td><td>0</td><td>0</td><td>0</td><td>1</td><td>1</td><td>CMECF </td><td>1</td><td>2019-07-10</td><td>2099</td></tr>\n",
       "</tbody>\n",
       "</table>\n"
      ],
      "text/latex": [
       "A data.frame: 212 × 144\n",
       "\\begin{tabular}{r|llllllllllllllllllllllllllllllllllllllllllllllllllllllllllllllllllllllllllllllllllllllllllllllllllllllllllllllllllllllllllllllllllllllllllllllll}\n",
       "  & FISCALYR & CIRCUIT & DISTRICT & OFFICE & DOCKET & DEFNO & CTDEF & NAME & REOPSEQ & TYPEREG & TYPETRN & TYPEMAG & DEFLGKY & CASLGKY & MAGDOCK & MAGDEF & STATUSCD & FUGSTAT & FGSTRTDATE & FGENDDATE & FILEDATE & PROCDATE & PROCCD & APPDATE & APPCD & FJUDGE & FCOUNSEL & FTITLE1 & FOFFLVL1 & FOFFCD1 & D2FOFFCD1 & FSEV1 & FTITLE2 & FOFFLVL2 & FOFFCD2 & D2FOFFCD2 & FSEV2 & FTITLE3 & FOFFLVL3 & FOFFCD3 & D2FOFFCD3 & FSEV3 & FTITLE4 & FOFFLVL4 & FOFFCD4 & D2FOFFCD4 & FSEV4 & FTITLE5 & FOFFLVL5 & FOFFCD5 & D2FOFFCD5 & FSEV5 & COUNTY & TRANDIST & TRANOFF & TRANDOCK & TRANDEF & UPDATE & DISPDATE & SENTDATE & TERMDATE & INT1 & INT2 & INT3 & TERMOFF & TJUDGE & TCOUNSEL & TTITLE1 & TOFFLVL1 & TOFFCD1 & D2TOFFCD1 & TSEV1 & DISP1 & PRISTIM1 & PRISCD1 & PROBMON1 & PROBCD1 & SUPVREL1 & FINEAMT1 & TTITLE2 & TOFFLVL2 & TOFFCD2 & D2TOFFCD2 & TSEV2 & DISP2 & PRISTIM2 & PRISCD2 & PROBMON2 & PROBCD2 & SUPVREL2 & FINEAMT2 & TTITLE3 & TOFFLVL3 & TOFFCD3 & D2TOFFCD3 & TSEV3 & DISP3 & PRISTIM3 & PRISCD3 & PROBMON3 & PROBCD3 & SUPVREL3 & FINEAMT3 & TTITLE4 & TOFFLVL4 & TOFFCD4 & D2TOFFCD4 & TSEV4 & DISP4 & PRISTIM4 & PRISCD4 & PROBMON4 & PROBCD4 & SUPVREL4 & FINEAMT4 & TTITLE5 & TOFFLVL5 & TOFFCD5 & D2TOFFCD5 & TSEV5 & DISP5 & PRISTIM5 & PRISCD5 & PROBMON5 & PROBCD5 & SUPVREL5 & FINEAMT5 & PRISTOT & PROBTOT & FINETOT & CTFILTRN & CTFIL & CTFILWOR & CTFILR & CTTRTRN & CTTR & CTTRWOR & CTTRR & CTPN & CTPNWOF & SOURCE & VER & LOADDATE & TAPEYEAR\\\\\n",
       "  & <int> & <int> & <chr> & <chr> & <int> & <int> & <int> & <lgl> & <int> & <fct> & <fct> & <fct> & <fct> & <fct> & <fct> & <int> & <fct> & <fct> & <fct> & <fct> & <fct> & <fct> & <int> & <fct> & <fct> & <lgl> & <int> & <fct> & <int> & <int> & <int> & <fct> & <fct> & <int> & <int> & <int> & <fct> & <fct> & <int> & <int> & <int> & <fct> & <fct> & <int> & <int> & <int> & <fct> & <fct> & <int> & <int> & <int> & <fct> & <int> & <chr> & <int> & <int> & <int> & <fct> & <fct> & <fct> & <fct> & <int> & <int> & <int> & <chr> & <lgl> & <int> & <fct> & <int> & <int> & <int> & <fct> & <int> & <int> & <fct> & <int> & <fct> & <int> & <int> & <fct> & <int> & <int> & <int> & <fct> & <int> & <int> & <fct> & <int> & <fct> & <int> & <int> & <fct> & <int> & <int> & <int> & <fct> & <int> & <int> & <fct> & <int> & <fct> & <int> & <int> & <fct> & <int> & <int> & <int> & <fct> & <int> & <int> & <fct> & <int> & <fct> & <int> & <int> & <fct> & <int> & <int> & <int> & <fct> & <int> & <int> & <fct> & <int> & <fct> & <int> & <int> & <int> & <int> & <int> & <int> & <int> & <int> & <int> & <int> & <int> & <int> & <int> & <int> & <int> & <fct> & <int> & <fct> & <int>\\\\\n",
       "\\hline\n",
       "\t1075 & 2019 & 0 & 90 & 1 & 1800036 &  1 &  1 & NA & 0 & CR & -8 & -8 & 009011800036CR0010 & 009011800036CR0 & -8      & -8 & E & N & 1900-01-01 & 1900-01-01 & 2018-02-21 & 2018-02-21 &  1 & 2018-03-14 & 1  & NA & 2 & 18:245.F  & 4 & 9901 & 9901 & 830 & 18:245.F   &  4 & 9901 & 9901 & 830 & 18:245.F   &  4 & 9901 & 9901 & 830 & 18:245.F   &  4 & 9901 & 9901 & 830 & 18:875C.F      &  4 & 7400 & 7400 & 213 & 11001 & -8 & -8 & -8 & -8 & 1900-01-01 & 1900-01-01 & 1900-01-01 & 1900-01-01 & -8 & -8 &  -8 & -8 & NA & -8 & -8       & -8 &   -8 &   -8 & -8  & -8 & -8 & -8   & -8 & -8 & -8 & -8 & -8        & -8 &   -8 &   -8 & -8  & -8 & -8 & -8   & -8 & -8 & -8 & -8 & -8        & -8 &   -8 &   -8 & -8  & -8 & -8 & -8   & -8 & -8 & -8 & -8 & -8       & -8 &   -8 &   -8 & -8  & -8 & -8 & -8   & -8 & -8 & -8 & -8 & -8 & -8 & -8 & -8 & -8 & -8 & -8 & -8 & -8 & -8 & -8 & -8 & -8 & -8 & 0 & 0 & 0 & 0 & 0 & 0 & 0 & 0 & 0 & 1 & 1 & CMECF  & 1 & 2018-04-10 & 2099\\\\\n",
       "\t2499 & 2019 & 1 & 1  & 1 &  510319 &  1 &  1 & NA & 1 & CR & -8 & -8 & 010110510319CR0011 & 010110510319CR1 & -8      & -8 & E & N & 1900-01-01 & 1900-01-01 & 2007-12-20 & 2009-07-30 & 12 & 2005-12-01 & A  & NA & 2 & 18:245.F  & 4 & 9901 & 9901 & 830 & -8         & -8 &   -8 &   -8 & -8  & -8         & -8 &   -8 &   -8 & -8  & -8         & -8 &   -8 &   -8 & -8  & -8             & -8 &   -8 &   -8 & -8  & 25017 & -8 & -8 & -8 & -8 & 2009-08-11 & 1900-01-01 & 1900-01-01 & 1900-01-01 &  0 &  0 &   0 & -8 & NA & -8 & -8       & -8 &   -8 &   -8 & -8  & -8 &  0 & -8   &  0 & -8 &  0 &  0 & -8        & -8 &   -8 &   -8 & -8  & -8 &  0 & -8   &  0 & -8 &  0 &  0 & -8        & -8 &   -8 &   -8 & -8  & -8 &  0 & -8   &  0 & -8 &  0 &  0 & -8       & -8 &   -8 &   -8 & -8  & -8 &  0 & -8   &  0 & -8 &  0 &  0 & -8 & -8 & -8 & -8 & -8 & -8 &  0 & -8 &  0 & -8 &  0 &  0 &  0 &  0 & 0 & 0 & 0 & 0 & 0 & 0 & 0 & 0 & 0 & 1 & 1 & MASTER & 0 & 2012-03-21 & 2099\\\\\n",
       "\t3919 & 2019 & 1 & 1  & 3 & 1830003 &  1 &  1 & NA & 0 & CR & -8 & -8 & 010131830003CR0010 & 010131830003CR0 & -8      & -8 & J & N & 2018-01-25 & 2018-01-26 & 2018-01-25 & 2018-01-25 &  1 & 2018-01-26 & 1  & NA & 0 & 18:242.F  & 4 & 9901 & 9901 & 830 & 18:1519.F  &  4 & 1602 & 9992 & 629 & -8         & -8 &   -8 &   -8 & -8  & -8         & -8 &   -8 &   -8 & -8  & -8             & -8 &   -8 &   -8 & -8  & 25015 & -8 & -8 & -8 & -8 & 1900-01-01 & 2019-02-05 & 2019-06-20 & 2019-06-20 &  0 &  0 & 135 & 3  & NA &  2 & 18:242.F &  4 & 9901 & 9901 & 830 &  9 & 14 & M001 &  0 & -8 & 12 &  0 & 18:1519.F &  4 & 1602 & 9992 & 629 &  9 & 14 & C001 &  0 & -8 & 12 &  0 & -8        & -8 &   -8 &   -8 & -8  & -8 & -8 & -8   & -8 & -8 & -8 & -8 & -8       & -8 &   -8 &   -8 & -8  & -8 & -8 & -8   & -8 & -8 & -8 & -8 & -8 & -8 & -8 & -8 & -8 & -8 & -8 & -8 & -8 & -8 & -8 & -8 & 14 & -8 & 0 & 0 & 0 & 0 & 0 & 1 & 1 & 1 & 0 & 0 & 0 & CMECF  & 1 & 2019-07-10 & 2019\\\\\n",
       "\t3949 & 2019 & 1 & 1  & 3 & 1830051 &  1 &  1 & NA & 0 & CR & -8 & -8 & 010131830051CR0010 & 010131830051CR0 & -8      & -8 & E & N & 2018-10-25 & 2018-10-31 & 2018-10-25 & 2018-10-25 &  1 & 2018-10-31 & 1  & NA & 0 & 18:242.F  & 4 & 9901 & 9901 & 830 & 18:242.F   &  4 & 9901 & 9901 & 830 & 18:1519.F  &  4 & 1602 & 9992 & 629 & -8         & -8 &   -8 &   -8 & -8  & -8             & -8 &   -8 &   -8 & -8  & 25013 & -8 & -8 & -8 & -8 & 1900-01-01 & 1900-01-01 & 1900-01-01 & 1900-01-01 & -8 & -8 &  -8 & -8 & NA & -8 & -8       & -8 &   -8 &   -8 & -8  & -8 & -8 & -8   & -8 & -8 & -8 & -8 & -8        & -8 &   -8 &   -8 & -8  & -8 & -8 & -8   & -8 & -8 & -8 & -8 & -8        & -8 &   -8 &   -8 & -8  & -8 & -8 & -8   & -8 & -8 & -8 & -8 & -8       & -8 &   -8 &   -8 & -8  & -8 & -8 & -8   & -8 & -8 & -8 & -8 & -8 & -8 & -8 & -8 & -8 & -8 & -8 & -8 & -8 & -8 & -8 & -8 & -8 & -8 & 0 & 1 & 1 & 1 & 0 & 0 & 0 & 0 & 0 & 1 & 1 & CMECF  & 0 & 2018-11-11 & 2099\\\\\n",
       "\t3950 & 2019 & 1 & 1  & 3 & 1830051 &  2 &  2 & NA & 0 & CR & -8 & -8 & 010131830051CR0020 & 010131830051CR0 & -8      & -8 & E & N & 2018-10-25 & 2018-10-31 & 2018-10-25 & 2018-10-25 &  1 & 2018-10-31 & 1  & NA & 0 & 18:242.F  & 4 & 9901 & 9901 & 830 & -8         & -8 &   -8 &   -8 & -8  & -8         & -8 &   -8 &   -8 & -8  & -8         & -8 &   -8 &   -8 & -8  & -8             & -8 &   -8 &   -8 & -8  & 25013 & -8 & -8 & -8 & -8 & 1900-01-01 & 1900-01-01 & 1900-01-01 & 1900-01-01 & -8 & -8 &  -8 & -8 & NA & -8 & -8       & -8 &   -8 &   -8 & -8  & -8 & -8 & -8   & -8 & -8 & -8 & -8 & -8        & -8 &   -8 &   -8 & -8  & -8 & -8 & -8   & -8 & -8 & -8 & -8 & -8        & -8 &   -8 &   -8 & -8  & -8 & -8 & -8   & -8 & -8 & -8 & -8 & -8       & -8 &   -8 &   -8 & -8  & -8 & -8 & -8   & -8 & -8 & -8 & -8 & -8 & -8 & -8 & -8 & -8 & -8 & -8 & -8 & -8 & -8 & -8 & -8 & -8 & -8 & 0 & 1 & 1 & 1 & 0 & 0 & 0 & 0 & 0 & 1 & 1 & CMECF  & 0 & 2018-11-11 & 2099\\\\\n",
       "\t5696 & 2019 & 1 & 4  & 3 & 1600536 &  1 &  1 & NA & 0 & CR & -8 & -8 & 010431600536CR0010 & 010431600536CR0 & -8      & -8 & E & N & 2016-08-31 & 2016-09-07 & 2016-08-31 & 2016-08-31 & 19 & 2016-09-07 & 1  & NA & 0 & 18:242.F  & 4 & 9901 & 9901 & 830 & 18:1519.F  &  4 & 1602 & 9992 & 629 & 18:1512C.F &  4 & 9992 & 9992 & 539 & -8         & -8 &   -8 &   -8 & -8  & -8             & -8 &   -8 &   -8 & -8  & 72127 & -8 & -8 & -8 & -8 & 1900-01-01 & 1900-01-01 & 1900-01-01 & 1900-01-01 & -8 & -8 &  -8 & -8 & NA & -8 & -8       & -8 &   -8 &   -8 & -8  & -8 & -8 & -8   & -8 & -8 & -8 & -8 & -8        & -8 &   -8 &   -8 & -8  & -8 & -8 & -8   & -8 & -8 & -8 & -8 & -8        & -8 &   -8 &   -8 & -8  & -8 & -8 & -8   & -8 & -8 & -8 & -8 & -8       & -8 &   -8 &   -8 & -8  & -8 & -8 & -8   & -8 & -8 & -8 & -8 & -8 & -8 & -8 & -8 & -8 & -8 & -8 & -8 & -8 & -8 & -8 & -8 & -8 & -8 & 0 & 0 & 0 & 0 & 0 & 0 & 0 & 0 & 0 & 1 & 1 & CMECF  & 0 & 2016-09-11 & 2099\\\\\n",
       "\t5697 & 2019 & 1 & 4  & 3 & 1600536 &  2 &  2 & NA & 0 & CR & -8 & -8 & 010431600536CR0020 & 010431600536CR0 & -8      & -8 & E & N & 2016-08-31 & 2016-09-07 & 2016-08-31 & 2016-08-31 & 19 & 2016-09-07 & 1  & NA & 0 & 18:242.F  & 4 & 9901 & 9901 & 830 & -8         & -8 &   -8 &   -8 & -8  & -8         & -8 &   -8 &   -8 & -8  & -8         & -8 &   -8 &   -8 & -8  & -8             & -8 &   -8 &   -8 & -8  & 72127 & -8 & -8 & -8 & -8 & 1900-01-01 & 1900-01-01 & 1900-01-01 & 1900-01-01 & -8 & -8 &  -8 & -8 & NA & -8 & -8       & -8 &   -8 &   -8 & -8  & -8 & -8 & -8   & -8 & -8 & -8 & -8 & -8        & -8 &   -8 &   -8 & -8  & -8 & -8 & -8   & -8 & -8 & -8 & -8 & -8        & -8 &   -8 &   -8 & -8  & -8 & -8 & -8   & -8 & -8 & -8 & -8 & -8       & -8 &   -8 &   -8 & -8  & -8 & -8 & -8   & -8 & -8 & -8 & -8 & -8 & -8 & -8 & -8 & -8 & -8 & -8 & -8 & -8 & -8 & -8 & -8 & -8 & -8 & 0 & 0 & 0 & 0 & 0 & 0 & 0 & 0 & 0 & 1 & 1 & CMECF  & 0 & 2016-09-11 & 2099\\\\\n",
       "\t5698 & 2019 & 1 & 4  & 3 & 1600536 &  3 &  3 & NA & 0 & CR & -8 & -8 & 010431600536CR0030 & 010431600536CR0 & -8      & -8 & E & N & 2016-08-31 & 2016-09-07 & 2016-08-31 & 2016-08-31 & 19 & 2016-09-07 & 1  & NA & 0 & 18:242.F  & 4 & 9901 & 9901 & 830 & -8         & -8 &   -8 &   -8 & -8  & -8         & -8 &   -8 &   -8 & -8  & -8         & -8 &   -8 &   -8 & -8  & -8             & -8 &   -8 &   -8 & -8  & 72127 & -8 & -8 & -8 & -8 & 1900-01-01 & 1900-01-01 & 1900-01-01 & 1900-01-01 & -8 & -8 &  -8 & -8 & NA & -8 & -8       & -8 &   -8 &   -8 & -8  & -8 & -8 & -8   & -8 & -8 & -8 & -8 & -8        & -8 &   -8 &   -8 & -8  & -8 & -8 & -8   & -8 & -8 & -8 & -8 & -8        & -8 &   -8 &   -8 & -8  & -8 & -8 & -8   & -8 & -8 & -8 & -8 & -8       & -8 &   -8 &   -8 & -8  & -8 & -8 & -8   & -8 & -8 & -8 & -8 & -8 & -8 & -8 & -8 & -8 & -8 & -8 & -8 & -8 & -8 & -8 & -8 & -8 & -8 & 0 & 0 & 0 & 0 & 0 & 0 & 0 & 0 & 0 & 1 & 1 & CMECF  & 0 & 2016-09-11 & 2099\\\\\n",
       "\t5699 & 2019 & 1 & 4  & 3 & 1600536 &  4 &  4 & NA & 0 & CR & -8 & -8 & 010431600536CR0040 & 010431600536CR0 & -8      & -8 & E & N & 2016-08-31 & 2016-09-08 & 2016-08-31 & 2016-08-31 & 19 & 2016-09-08 & 1  & NA & 0 & 18:242.F  & 4 & 9901 & 9901 & 830 & -8         & -8 &   -8 &   -8 & -8  & -8         & -8 &   -8 &   -8 & -8  & -8         & -8 &   -8 &   -8 & -8  & -8             & -8 &   -8 &   -8 & -8  & 72127 & -8 & -8 & -8 & -8 & 1900-01-01 & 1900-01-01 & 1900-01-01 & 1900-01-01 & -8 & -8 &  -8 & -8 & NA & -8 & -8       & -8 &   -8 &   -8 & -8  & -8 & -8 & -8   & -8 & -8 & -8 & -8 & -8        & -8 &   -8 &   -8 & -8  & -8 & -8 & -8   & -8 & -8 & -8 & -8 & -8        & -8 &   -8 &   -8 & -8  & -8 & -8 & -8   & -8 & -8 & -8 & -8 & -8       & -8 &   -8 &   -8 & -8  & -8 & -8 & -8   & -8 & -8 & -8 & -8 & -8 & -8 & -8 & -8 & -8 & -8 & -8 & -8 & -8 & -8 & -8 & -8 & -8 & -8 & 0 & 0 & 0 & 0 & 0 & 0 & 0 & 0 & 0 & 1 & 1 & CMECF  & 0 & 2016-09-11 & 2099\\\\\n",
       "\t6900 & 2019 & 1 & 4  & 3 & 1800089 &  1 &  1 & NA & 0 & CR & -8 & -8 & 010431800089CR0010 & 010431800089CR0 & -8      & -8 & E & N & 2018-02-14 & 2018-02-16 & 2018-02-14 & 2018-02-14 & 19 & 2018-02-16 & 1  & NA & 0 & 18:242.F  & 4 & 9901 & 9901 & 830 & 18:1519.F  &  4 & 1602 & 9992 & 629 & 18:1512B.F &  4 & 9992 & 9992 & 339 & -8         & -8 &   -8 &   -8 & -8  & -8             & -8 &   -8 &   -8 & -8  & 88888 & -8 & -8 & -8 & -8 & 1900-01-01 & 1900-01-01 & 1900-01-01 & 1900-01-01 & -8 & -8 &  -8 & -8 & NA & -8 & -8       & -8 &   -8 &   -8 & -8  & -8 & -8 & -8   & -8 & -8 & -8 & -8 & -8        & -8 &   -8 &   -8 & -8  & -8 & -8 & -8   & -8 & -8 & -8 & -8 & -8        & -8 &   -8 &   -8 & -8  & -8 & -8 & -8   & -8 & -8 & -8 & -8 & -8       & -8 &   -8 &   -8 & -8  & -8 & -8 & -8   & -8 & -8 & -8 & -8 & -8 & -8 & -8 & -8 & -8 & -8 & -8 & -8 & -8 & -8 & -8 & -8 & -8 & -8 & 0 & 0 & 0 & 0 & 0 & 0 & 0 & 0 & 0 & 1 & 1 & CMECF  & 0 & 2018-03-11 & 2099\\\\\n",
       "\t8532 & 2019 & 2 & 5  & 3 &     215 &  1 & -8 & NA & 0 & CR & -8 & -8 & 020530000215CR0010 & 020530000215CR0 & -8      & -8 & E & N & 1900-01-01 & 1900-01-01 & 2000-10-05 & 2000-10-11 & 19 & 1900-01-01 & -8 & NA & 0 & 18:242.F  & 4 & 9901 & 9901 & 830 & -8         & -8 &   -8 &   -8 & -8  & -8         & -8 &   -8 &   -8 & -8  & -8         & -8 &   -8 &   -8 & -8  & -8             & -8 &   -8 &   -8 & -8  &  9003 & -8 & -8 & -8 & -8 & 2000-11-03 & 1900-01-01 & 1900-01-01 & 1900-01-01 &  0 &  0 &   0 & -8 & NA & -8 & -8       & -8 &   -8 &   -8 & -8  & -8 &  0 & -8   &  0 & -8 &  0 &  0 & -8        & -8 &   -8 &   -8 & -8  & -8 &  0 & -8   &  0 & -8 &  0 &  0 & -8        & -8 &   -8 &   -8 & -8  & -8 &  0 & -8   &  0 & -8 &  0 &  0 & -8       & -8 &   -8 &   -8 & -8  & -8 &  0 & -8   &  0 & -8 &  0 &  0 & -8 & -8 & -8 & -8 & -8 & -8 &  0 & -8 &  0 & -8 &  0 &  0 &  0 &  0 & 0 & 0 & 0 & 0 & 0 & 0 & 0 & 0 & 0 & 1 & 1 & MASTER & 0 & 2012-03-21 & 2099\\\\\n",
       "\t8675 & 2019 & 2 & 5  & 3 &  900264 &  1 &  1 & NA & 0 & CR & -8 & -8 & 020530900264CR0010 & 020530900264CR0 & -8      & -8 & E & N & 1900-01-01 & 1900-01-01 & 2009-12-01 & 2009-12-01 &  1 & 2009-12-08 & 1  & NA & 0 & 18:241.F  & 4 & 9901 & 9901 & 830 & 18:242.F   &  4 & 9901 & 9901 & 830 & -8         & -8 &   -8 &   -8 & -8  & -8         & -8 &   -8 &   -8 & -8  & -8             & -8 &   -8 &   -8 & -8  &  9011 & -8 & -8 & -8 & -8 & 2010-09-16 & 1900-01-01 & 1900-01-01 & 1900-01-01 &  0 &  0 &   0 & -8 & NA & -8 & -8       & -8 &   -8 &   -8 & -8  & -8 &  0 & -8   &  0 & -8 &  0 &  0 & -8        & -8 &   -8 &   -8 & -8  & -8 &  0 & -8   &  0 & -8 &  0 &  0 & -8        & -8 &   -8 &   -8 & -8  & -8 &  0 & -8   &  0 & -8 &  0 &  0 & -8       & -8 &   -8 &   -8 & -8  & -8 &  0 & -8   &  0 & -8 &  0 &  0 & -8 & -8 & -8 & -8 & -8 & -8 &  0 & -8 &  0 & -8 &  0 &  0 &  0 &  0 & 0 & 0 & 0 & 0 & 0 & 0 & 0 & 0 & 0 & 1 & 1 & MASTER & 0 & 2012-03-21 & 2099\\\\\n",
       "\t8676 & 2019 & 2 & 5  & 3 &  900264 &  2 &  2 & NA & 0 & CR & -8 & -8 & 020530900264CR0020 & 020530900264CR0 & -8      & -8 & E & N & 1900-01-01 & 1900-01-01 & 2009-12-01 & 2009-12-01 &  1 & 2009-12-08 & 1  & NA & 0 & 18:241.F  & 4 & 9901 & 9901 & 830 & 18:242.F   &  4 & 9901 & 9901 & 830 & 18:1519.F  &  4 & 1602 & 9992 & 629 & -8         & -8 &   -8 &   -8 & -8  & -8             & -8 &   -8 &   -8 & -8  &  9011 & -8 & -8 & -8 & -8 & 2010-09-16 & 1900-01-01 & 1900-01-01 & 1900-01-01 &  0 &  0 &   0 & -8 & NA & -8 & -8       & -8 &   -8 &   -8 & -8  & -8 &  0 & -8   &  0 & -8 &  0 &  0 & -8        & -8 &   -8 &   -8 & -8  & -8 &  0 & -8   &  0 & -8 &  0 &  0 & -8        & -8 &   -8 &   -8 & -8  & -8 &  0 & -8   &  0 & -8 &  0 &  0 & -8       & -8 &   -8 &   -8 & -8  & -8 &  0 & -8   &  0 & -8 &  0 &  0 & -8 & -8 & -8 & -8 & -8 & -8 &  0 & -8 &  0 & -8 &  0 &  0 &  0 &  0 & 0 & 0 & 0 & 0 & 0 & 0 & 0 & 0 & 0 & 1 & 1 & MASTER & 0 & 2012-03-21 & 2099\\\\\n",
       "\t13487 & 2019 & 2 & 7  & 1 & 1900032 &  1 &  1 & NA & 0 & CR & -8 & MJ & 020711900032CR0010 & 020711900032CR0 & 1800946 &  1 & E & N & 1900-01-01 & 1900-01-01 & 2019-01-23 & 2019-01-23 &  1 & 2018-12-20 & A  & NA & 1 & 18:242.F  & 4 & 9901 & 9901 & 830 & 18:2243B.F &  4 & 6110 & 6100 & 039 & 18:2243B.F &  4 & 6110 & 6100 & 039 & -8         & -8 &   -8 &   -8 & -8  & -8             & -8 &   -8 &   -8 & -8  & 36047 & -8 & -8 & -8 & -8 & 1900-01-01 & 1900-01-01 & 1900-01-01 & 1900-01-01 & -8 & -8 &  -8 & -8 & NA & -8 & -8       & -8 &   -8 &   -8 & -8  & -8 & -8 & -8   & -8 & -8 & -8 & -8 & -8        & -8 &   -8 &   -8 & -8  & -8 & -8 & -8   & -8 & -8 & -8 & -8 & -8        & -8 &   -8 &   -8 & -8  & -8 & -8 & -8   & -8 & -8 & -8 & -8 & -8       & -8 &   -8 &   -8 & -8  & -8 & -8 & -8   & -8 & -8 & -8 & -8 & -8 & -8 & -8 & -8 & -8 & -8 & -8 & -8 & -8 & -8 & -8 & -8 & -8 & -8 & 0 & 1 & 1 & 1 & 0 & 0 & 0 & 0 & 0 & 1 & 1 & CMECF  & 0 & 2019-02-10 & 2099\\\\\n",
       "\t13732 & 2019 & 2 & 7  & 1 & 7201267 &  2 & -8 & NA & 0 & CR & -8 & -8 & 020717201267CR0020 & 020717201267CR0 & -8      & -8 & E & Z & 1900-01-01 & 1900-01-01 & 1972-12-01 & 1972-12-01 &  1 & 1900-01-01 & -8 & NA & 0 & 42.1973JA & 4 & 9901 & 9901 & 234 & -8         & -8 &   -8 &   -8 & -8  & -8         & -8 &   -8 &   -8 & -8  & -8         & -8 &   -8 &   -8 & -8  & -8             & -8 &   -8 &   -8 & -8  & 88888 & -8 & -8 & -8 & -8 & 1996-08-19 & 1900-01-01 & 1900-01-01 & 1900-01-01 &  0 &  0 &   0 & -8 & NA & -8 & -8       & -8 &   -8 &   -8 & -8  & -8 &  0 & -8   &  0 & -8 &  0 &  0 & -8        & -8 &   -8 &   -8 & -8  & -8 &  0 & -8   &  0 & -8 &  0 &  0 & -8        & -8 &   -8 &   -8 & -8  & -8 &  0 & -8   &  0 & -8 &  0 &  0 & -8       & -8 &   -8 &   -8 & -8  & -8 &  0 & -8   &  0 & -8 &  0 &  0 & -8 & -8 & -8 & -8 & -8 & -8 &  0 & -8 &  0 & -8 &  0 &  0 &  0 &  0 & 0 & 0 & 0 & 0 & 0 & 0 & 0 & 0 & 0 & 1 & 0 & MASTER & 0 & 2012-03-21 & 2099\\\\\n",
       "\t13733 & 2019 & 2 & 7  & 1 & 7201267 &  3 & -8 & NA & 0 & CR & -8 & -8 & 020717201267CR0030 & 020717201267CR0 & -8      & -8 & E & Z & 1900-01-01 & 1900-01-01 & 1972-12-01 & 1972-12-01 &  1 & 1900-01-01 & -8 & NA & 0 & 42.1973JA & 4 & 9901 & 9901 & 234 & -8         & -8 &   -8 &   -8 & -8  & -8         & -8 &   -8 &   -8 & -8  & -8         & -8 &   -8 &   -8 & -8  & -8             & -8 &   -8 &   -8 & -8  & 88888 & -8 & -8 & -8 & -8 & 1996-08-19 & 1900-01-01 & 1900-01-01 & 1900-01-01 &  0 &  0 &   0 & -8 & NA & -8 & -8       & -8 &   -8 &   -8 & -8  & -8 &  0 & -8   &  0 & -8 &  0 &  0 & -8        & -8 &   -8 &   -8 & -8  & -8 &  0 & -8   &  0 & -8 &  0 &  0 & -8        & -8 &   -8 &   -8 & -8  & -8 &  0 & -8   &  0 & -8 &  0 &  0 & -8       & -8 &   -8 &   -8 & -8  & -8 &  0 & -8   &  0 & -8 &  0 &  0 & -8 & -8 & -8 & -8 & -8 & -8 &  0 & -8 &  0 & -8 &  0 &  0 &  0 &  0 & 0 & 0 & 0 & 0 & 0 & 0 & 0 & 0 & 0 & 1 & 0 & MASTER & 0 & 2012-03-21 & 2099\\\\\n",
       "\t13734 & 2019 & 2 & 7  & 1 & 7201267 &  4 & -8 & NA & 0 & CR & -8 & -8 & 020717201267CR0040 & 020717201267CR0 & -8      & -8 & E & Z & 1900-01-01 & 1900-01-01 & 1972-12-01 & 1972-12-01 &  1 & 1900-01-01 & -8 & NA & 0 & 42.1973JA & 4 & 9901 & 9901 & 234 & -8         & -8 &   -8 &   -8 & -8  & -8         & -8 &   -8 &   -8 & -8  & -8         & -8 &   -8 &   -8 & -8  & -8             & -8 &   -8 &   -8 & -8  & 88888 & -8 & -8 & -8 & -8 & 1996-08-19 & 1900-01-01 & 1900-01-01 & 1900-01-01 &  0 &  0 &   0 & -8 & NA & -8 & -8       & -8 &   -8 &   -8 & -8  & -8 &  0 & -8   &  0 & -8 &  0 &  0 & -8        & -8 &   -8 &   -8 & -8  & -8 &  0 & -8   &  0 & -8 &  0 &  0 & -8        & -8 &   -8 &   -8 & -8  & -8 &  0 & -8   &  0 & -8 &  0 &  0 & -8       & -8 &   -8 &   -8 & -8  & -8 &  0 & -8   &  0 & -8 &  0 &  0 & -8 & -8 & -8 & -8 & -8 & -8 &  0 & -8 &  0 & -8 &  0 &  0 &  0 &  0 & 0 & 0 & 0 & 0 & 0 & 0 & 0 & 0 & 0 & 1 & 0 & MASTER & 0 & 2012-03-21 & 2099\\\\\n",
       "\t13735 & 2019 & 2 & 7  & 1 & 7201267 &  5 & -8 & NA & 0 & CR & -8 & -8 & 020717201267CR0050 & 020717201267CR0 & -8      & -8 & E & Z & 1900-01-01 & 1900-01-01 & 1972-12-01 & 1972-12-01 &  1 & 1900-01-01 & -8 & NA & 0 & 42.1973JA & 4 & 9901 & 9901 & 234 & -8         & -8 &   -8 &   -8 & -8  & -8         & -8 &   -8 &   -8 & -8  & -8         & -8 &   -8 &   -8 & -8  & -8             & -8 &   -8 &   -8 & -8  & 88888 & -8 & -8 & -8 & -8 & 1996-08-19 & 1900-01-01 & 1900-01-01 & 1900-01-01 &  0 &  0 &   0 & -8 & NA & -8 & -8       & -8 &   -8 &   -8 & -8  & -8 &  0 & -8   &  0 & -8 &  0 &  0 & -8        & -8 &   -8 &   -8 & -8  & -8 &  0 & -8   &  0 & -8 &  0 &  0 & -8        & -8 &   -8 &   -8 & -8  & -8 &  0 & -8   &  0 & -8 &  0 &  0 & -8       & -8 &   -8 &   -8 & -8  & -8 &  0 & -8   &  0 & -8 &  0 &  0 & -8 & -8 & -8 & -8 & -8 & -8 &  0 & -8 &  0 & -8 &  0 &  0 &  0 &  0 & 0 & 0 & 0 & 0 & 0 & 0 & 0 & 0 & 0 & 1 & 0 & MASTER & 0 & 2012-03-21 & 2099\\\\\n",
       "\t14770 & 2019 & 2 & 7  & 1 & 9800196 &  2 & -8 & NA & 1 & CR & -8 & -8 & 020719800196CR0021 & 020719800196CR1 & -8      & -8 & E & N & 1900-01-01 & 1900-01-01 & 1998-02-26 & 2002-03-04 & 11 & 1998-02-26 & 1  & NA & 2 & 18:241.F  & 4 & 9901 & 9901 & 830 & 18:242.F   &  4 & 9901 & 9901 & 830 & 18:241.F   &  4 & 9901 & 9901 & 830 & 18:242.F   &  4 & 9901 & 9901 & 830 & 18:241.F       &  4 & 9901 & 9901 & 830 & 36047 & -8 & -8 & -8 & -8 & 2002-04-04 & 1900-01-01 & 1900-01-01 & 1900-01-01 &  0 &  0 &   0 & -8 & NA & -8 & -8       & -8 &   -8 &   -8 & -8  & -8 &  0 & -8   &  0 & -8 &  0 &  0 & -8        & -8 &   -8 &   -8 & -8  & -8 &  0 & -8   &  0 & -8 &  0 &  0 & -8        & -8 &   -8 &   -8 & -8  & -8 &  0 & -8   &  0 & -8 &  0 &  0 & -8       & -8 &   -8 &   -8 & -8  & -8 &  0 & -8   &  0 & -8 &  0 &  0 & -8 & -8 & -8 & -8 & -8 & -8 &  0 & -8 &  0 & -8 &  0 &  0 &  0 &  0 & 0 & 0 & 0 & 0 & 0 & 0 & 0 & 0 & 0 & 1 & 1 & MASTER & 0 & 2012-03-21 & 2099\\\\\n",
       "\t14771 & 2019 & 2 & 7  & 1 & 9800196 &  3 & -8 & NA & 1 & CR & -8 & -8 & 020719800196CR0031 & 020719800196CR1 & -8      & -8 & E & N & 1900-01-01 & 1900-01-01 & 1998-02-26 & 2002-07-16 & 12 & 1998-02-26 & A  & NA & 2 & 18:241.F  & 4 & 9901 & 9901 & 830 & 18:242.F   &  4 & 9901 & 9901 & 830 & 18:242.F   &  4 & 9901 & 9901 & 830 & 18:242.F   &  4 & 9901 & 9901 & 830 & 18:241.F       &  4 & 9901 & 9901 & 830 & 36047 & -8 & -8 & -8 & -8 & 2002-08-12 & 1900-01-01 & 1900-01-01 & 1900-01-01 &  0 &  0 &   0 & -8 & NA & -8 & -8       & -8 &   -8 &   -8 & -8  & -8 &  0 & -8   &  0 & -8 &  0 &  0 & -8        & -8 &   -8 &   -8 & -8  & -8 &  0 & -8   &  0 & -8 &  0 &  0 & -8        & -8 &   -8 &   -8 & -8  & -8 &  0 & -8   &  0 & -8 &  0 &  0 & -8       & -8 &   -8 &   -8 & -8  & -8 &  0 & -8   &  0 & -8 &  0 &  0 & -8 & -8 & -8 & -8 & -8 & -8 &  0 & -8 &  0 & -8 &  0 &  0 &  0 &  0 & 0 & 0 & 0 & 0 & 0 & 0 & 0 & 0 & 0 & 1 & 1 & MASTER & 0 & 2012-03-21 & 2099\\\\\n",
       "\t14772 & 2019 & 2 & 7  & 1 & 9800196 &  4 & -8 & NA & 1 & CR & -8 & -8 & 020719800196CR0041 & 020719800196CR1 & -8      & -8 & E & N & 1900-01-01 & 1900-01-01 & 1998-02-26 & 2002-03-04 & 11 & 1998-02-26 & 1  & NA & 2 & 18:241.F  & 4 & 9901 & 9901 & 830 & 18:242.F   &  4 & 9901 & 9901 & 830 & 18:242.F   &  4 & 9901 & 9901 & 830 & 18:241.F   &  4 & 9901 & 9901 & 830 & 18:242.F       &  4 & 9901 & 9901 & 830 & 36047 & -8 & -8 & -8 & -8 & 2002-04-04 & 1900-01-01 & 1900-01-01 & 1900-01-01 &  0 &  0 &   0 & -8 & NA & -8 & -8       & -8 &   -8 &   -8 & -8  & -8 &  0 & -8   &  0 & -8 &  0 &  0 & -8        & -8 &   -8 &   -8 & -8  & -8 &  0 & -8   &  0 & -8 &  0 &  0 & -8        & -8 &   -8 &   -8 & -8  & -8 &  0 & -8   &  0 & -8 &  0 &  0 & -8       & -8 &   -8 &   -8 & -8  & -8 &  0 & -8   &  0 & -8 &  0 &  0 & -8 & -8 & -8 & -8 & -8 & -8 &  0 & -8 &  0 & -8 &  0 &  0 &  0 &  0 & 0 & 0 & 0 & 0 & 0 & 0 & 0 & 0 & 0 & 1 & 1 & MASTER & 0 & 2012-03-21 & 2099\\\\\n",
       "\t15414 & 2019 & 2 & 7  & 2 & 1800530 &  1 &  1 & NA & 0 & CR & -8 & MJ & 020721800530CR0010 & 020721800530CR0 & 1700674 &  1 & E & N & 1900-01-01 & 1900-01-01 & 2018-10-01 & 2018-10-01 &  2 & 2017-07-27 & D  & NA & 2 & 18:242.M  & 3 & 9901 & 9901 & C33 & -8         & -8 &   -8 &   -8 & -8  & -8         & -8 &   -8 &   -8 & -8  & -8         & -8 &   -8 &   -8 & -8  & -8             & -8 &   -8 &   -8 & -8  & 36103 & -8 & -8 & -8 & -8 & 1900-01-01 & 1900-01-01 & 1900-01-01 & 1900-01-01 & -8 & -8 &  -8 & -8 & NA & -8 & -8       & -8 &   -8 &   -8 & -8  & -8 & -8 & -8   & -8 & -8 & -8 & -8 & -8        & -8 &   -8 &   -8 & -8  & -8 & -8 & -8   & -8 & -8 & -8 & -8 & -8        & -8 &   -8 &   -8 & -8  & -8 & -8 & -8   & -8 & -8 & -8 & -8 & -8       & -8 &   -8 &   -8 & -8  & -8 & -8 & -8   & -8 & -8 & -8 & -8 & -8 & -8 & -8 & -8 & -8 & -8 & -8 & -8 & -8 & -8 & -8 & -8 & -8 & -8 & 0 & 1 & 1 & 1 & 0 & 0 & 0 & 0 & 0 & 1 & 1 & CMECF  & 0 & 2018-11-14 & 2099\\\\\n",
       "\t20360 & 2019 & 2 & 8  & 1 & 1900341 &  1 &  1 & NA & 0 & CR & -8 & MJ & 020811900341CR0010 & 020811900341CR0 & 1902217 &  1 & E & N & 2019-03-06 & 2019-03-07 & 2019-05-08 & 2019-05-07 &  1 & 2019-03-07 & D  & NA & 6 & 18:242.F  & 4 & 9901 & 9901 & 830 & 18:1519.F  &  4 & 1602 & 9992 & 629 & -8         & -8 &   -8 &   -8 & -8  & -8         & -8 &   -8 &   -8 & -8  & -8             & -8 &   -8 &   -8 & -8  & 36061 & -8 & -8 & -8 & -8 & 1900-01-01 & 1900-01-01 & 1900-01-01 & 1900-01-01 & -8 & -8 &  -8 & -8 & NA & -8 & -8       & -8 &   -8 &   -8 & -8  & -8 & -8 & -8   & -8 & -8 & -8 & -8 & -8        & -8 &   -8 &   -8 & -8  & -8 & -8 & -8   & -8 & -8 & -8 & -8 & -8        & -8 &   -8 &   -8 & -8  & -8 & -8 & -8   & -8 & -8 & -8 & -8 & -8       & -8 &   -8 &   -8 & -8  & -8 & -8 & -8   & -8 & -8 & -8 & -8 & -8 & -8 & -8 & -8 & -8 & -8 & -8 & -8 & -8 & -8 & -8 & -8 & -8 & -8 & 0 & 1 & 1 & 1 & 0 & 0 & 0 & 0 & 0 & 1 & 1 & CMECF  & 0 & 2019-06-06 & 2099\\\\\n",
       "\t20379 & 2019 & 2 & 8  & 1 & 1900363 &  1 &  1 & NA & 0 & CR & -8 & -8 & 020811900363CR0010 & 020811900363CR0 & -8      & -8 & E & N & 2019-05-21 & 2019-05-21 & 2019-05-20 & 2019-05-20 & 19 & 2019-05-21 & 1  & NA & 0 & 18:242.F  & 4 & 9901 & 9901 & 830 & 18:2244A.F &  4 & 6100 & 6110 & 339 & 18:2244A.F &  4 & 6100 & 6110 & 339 & 18:2244A.F &  4 & 6100 & 6110 & 339 & 18:2243B.F     &  4 & 6110 & 6100 & 039 & 36061 & -8 & -8 & -8 & -8 & 1900-01-01 & 1900-01-01 & 1900-01-01 & 1900-01-01 & -8 & -8 &  -8 & -8 & NA & -8 & -8       & -8 &   -8 &   -8 & -8  & -8 & -8 & -8   & -8 & -8 & -8 & -8 & -8        & -8 &   -8 &   -8 & -8  & -8 & -8 & -8   & -8 & -8 & -8 & -8 & -8        & -8 &   -8 &   -8 & -8  & -8 & -8 & -8   & -8 & -8 & -8 & -8 & -8       & -8 &   -8 &   -8 & -8  & -8 & -8 & -8   & -8 & -8 & -8 & -8 & -8 & -8 & -8 & -8 & -8 & -8 & -8 & -8 & -8 & -8 & -8 & -8 & -8 & -8 & 0 & 1 & 1 & 1 & 0 & 0 & 0 & 0 & 0 & 1 & 1 & CMECF  & 0 & 2019-06-06 & 2099\\\\\n",
       "\t22741 & 2019 & 2 & 8  & 1 & 9500052 &  9 & -8 & NA & 0 & CR & -8 & -8 & 020819500052CR0090 & 020819500052CR0 & -8      & -8 & E & Z & 1900-01-01 & 1900-01-01 & 1995-01-17 & 1995-03-09 &  1 & 1900-01-01 & -8 & NA & 0 & 18.241-L  & 4 & 9901 & 9901 & 830 & 18.1201    &  4 & 7600 & 7600 & 830 & 18.1201    &  4 & 7600 & 7600 & 830 & 8.1328-F   &  4 & 6200 & 6200 & 334 & 8.1328-F       &  4 & 6200 & 6200 & 334 & 36061 & -8 & -8 & -8 & -8 & 2003-10-17 & 1900-01-01 & 1900-01-01 & 1900-01-01 &  0 &  0 &   0 & -8 & NA & -8 & -8       & -8 &   -8 &   -8 & -8  & -8 &  0 & -8   &  0 & -8 &  0 &  0 & -8        & -8 &   -8 &   -8 & -8  & -8 &  0 & -8   &  0 & -8 &  0 &  0 & -8        & -8 &   -8 &   -8 & -8  & -8 &  0 & -8   &  0 & -8 &  0 &  0 & -8       & -8 &   -8 &   -8 & -8  & -8 &  0 & -8   &  0 & -8 &  0 &  0 & -8 & -8 & -8 & -8 & -8 & -8 &  0 & -8 &  0 & -8 &  0 &  0 &  0 &  0 & 0 & 0 & 0 & 0 & 0 & 0 & 0 & 0 & 0 & 1 & 0 & MASTER & 0 & 2012-03-21 & 2099\\\\\n",
       "\t22766 & 2019 & 2 & 8  & 1 & 9500200 &  2 & -8 & NA & 0 & CR & -8 & -8 & 020819500200CR0020 & 020819500200CR0 & -8      & -8 & E & Z & 1900-01-01 & 1900-01-01 & 1995-06-15 & 1995-06-15 &  1 & 1900-01-01 & -8 & NA & 0 & 18.241-L  & 4 & 9901 & 9901 & 830 & 18.1201    &  4 & 7600 & 7600 & 830 & 18.1201    &  4 & 7600 & 7600 & 830 & 8.1328-F   &  4 & 6200 & 6200 & 334 & 8.1328-F       &  4 & 6200 & 6200 & 334 & 36061 & -8 & -8 & -8 & -8 & 2003-10-17 & 1900-01-01 & 1900-01-01 & 1900-01-01 &  0 &  0 &   0 & -8 & NA & -8 & -8       & -8 &   -8 &   -8 & -8  & -8 &  0 & -8   &  0 & -8 &  0 &  0 & -8        & -8 &   -8 &   -8 & -8  & -8 &  0 & -8   &  0 & -8 &  0 &  0 & -8        & -8 &   -8 &   -8 & -8  & -8 &  0 & -8   &  0 & -8 &  0 &  0 & -8       & -8 &   -8 &   -8 & -8  & -8 &  0 & -8   &  0 & -8 &  0 &  0 & -8 & -8 & -8 & -8 & -8 & -8 &  0 & -8 &  0 & -8 &  0 &  0 &  0 &  0 & 0 & 0 & 0 & 0 & 0 & 0 & 0 & 0 & 0 & 1 & 0 & MASTER & 0 & 2012-03-21 & 2099\\\\\n",
       "\t22767 & 2019 & 2 & 8  & 1 & 9500200 &  3 & -8 & NA & 0 & CR & -8 & -8 & 020819500200CR0030 & 020819500200CR0 & -8      & -8 & E & Z & 1900-01-01 & 1900-01-01 & 1995-06-15 & 1995-06-15 &  1 & 1900-01-01 & -8 & NA & 0 & 18.241-L  & 4 & 9901 & 9901 & 830 & 18.1201    &  4 & 7600 & 7600 & 830 & 18.1201    &  4 & 7600 & 7600 & 830 & 8.1328-F   &  4 & 6200 & 6200 & 334 & 18.2421        &  4 & 6200 & 3600 & 234 & 36061 & -8 & -8 & -8 & -8 & 2003-10-17 & 1900-01-01 & 1900-01-01 & 1900-01-01 &  0 &  0 &   0 & -8 & NA & -8 & -8       & -8 &   -8 &   -8 & -8  & -8 &  0 & -8   &  0 & -8 &  0 &  0 & -8        & -8 &   -8 &   -8 & -8  & -8 &  0 & -8   &  0 & -8 &  0 &  0 & -8        & -8 &   -8 &   -8 & -8  & -8 &  0 & -8   &  0 & -8 &  0 &  0 & -8       & -8 &   -8 &   -8 & -8  & -8 &  0 & -8   &  0 & -8 &  0 &  0 & -8 & -8 & -8 & -8 & -8 & -8 &  0 & -8 &  0 & -8 &  0 &  0 &  0 &  0 & 0 & 0 & 0 & 0 & 0 & 0 & 0 & 0 & 0 & 1 & 0 & MASTER & 0 & 2012-03-21 & 2099\\\\\n",
       "\t23506 & 2019 & 2 & 8  & 7 &  800784 &  1 &  1 & NA & 0 & CR & -8 & MJ & 020870800784CR0010 & 020870800784CR0 & 0801466 &  1 & E & N & 2008-06-27 & 2008-06-27 & 2008-08-19 & 2008-08-19 &  1 & 2008-06-27 & A  & NA & 2 & 18:242.F  & 4 & 9901 & 9901 & 830 & -8         & -8 &   -8 &   -8 & -8  & -8         & -8 &   -8 &   -8 & -8  & -8         & -8 &   -8 &   -8 & -8  & -8             & -8 &   -8 &   -8 & -8  & 36119 & -8 & -8 & -8 & -8 & 2009-07-07 & 1900-01-01 & 1900-01-01 & 1900-01-01 &  0 &  0 &   0 & -8 & NA & -8 & -8       & -8 &   -8 &   -8 & -8  & -8 &  0 & -8   &  0 & -8 &  0 &  0 & -8        & -8 &   -8 &   -8 & -8  & -8 &  0 & -8   &  0 & -8 &  0 &  0 & -8        & -8 &   -8 &   -8 & -8  & -8 &  0 & -8   &  0 & -8 &  0 &  0 & -8       & -8 &   -8 &   -8 & -8  & -8 &  0 & -8   &  0 & -8 &  0 &  0 & -8 & -8 & -8 & -8 & -8 & -8 &  0 & -8 &  0 & -8 &  0 &  0 &  0 &  0 & 0 & 0 & 0 & 0 & 0 & 0 & 0 & 0 & 0 & 1 & 1 & MASTER & 0 & 2012-03-21 & 2099\\\\\n",
       "\t23948 & 2019 & 2 & 8  & 7 & 1600578 &  1 &  1 & NA & 0 & CR & -8 & -8 & 020871600578CR0010 & 020871600578CR0 & -8      & -8 & J & N & 1900-01-01 & 1900-01-01 & 2016-08-31 & 2016-08-31 & 25 & 2016-08-31 & 1  & NA & 2 & 18:241.F  & 4 & 9901 & 9901 & 830 & 18:242.F   &  4 & 9901 & 9901 & 830 & 18:1519.F  &  4 & 1602 & 9992 & 629 & 18:371.F   &  4 & 4992 & 4992 & 206 & -8             & -8 &   -8 &   -8 & -8  & 36119 & -8 & -8 & -8 & -8 & 1900-01-01 & 2016-08-31 & 2019-03-12 & 2019-03-12 &  0 &  0 & 923 & 7  & NA &  2 & 18:241.F &  4 & 9901 & 9901 & 830 &  4 & -1 & M001 &  0 & -8 & 36 &  0 & 18:242.F  &  4 & 9901 & 9901 & 830 &  4 & -1 & M001 &  0 & -8 & 36 &  0 & 18:1519.F &  4 & 1602 & 9992 & 629 &  4 & -1 & M001 &  0 & -8 & 36 &  0 & 18:371.F &  4 & 4992 & 4992 & 206 &  4 & -1 & M001 &  0 & -8 & 36 &  0 & -8 & -8 & -8 & -8 & -8 & -8 & -8 & -8 & -8 & -8 & -8 & -8 & -1 & -8 & 0 & 0 & 0 & 0 & 0 & 1 & 1 & 1 & 0 & 0 & 0 & CMECF  & 2 & 2019-05-06 & 2019\\\\\n",
       "\t24369 & 2019 & 2 & 8  & 7 & 8400063 & 18 & -8 & NA & 0 & CR & -8 & -8 & 020878400063CR0180 & 020878400063CR0 & -8      & -8 & E & Z & 1900-01-01 & 1900-01-01 & 1984-01-30 & 1984-03-30 &  1 & 1900-01-01 & -8 & NA & 0 & 18:241.F  & 4 & 9901 & 9901 & 830 & 18:924C.F  &  4 & 7830 & 7831 & 820 & 18:894.F   &  4 & 7490 & 7490 & 525 & 18:892.F   &  4 & 7490 & 7490 & 525 & 18:1962-9999.F &  4 & 9999 & 7480 & 517 & 36087 & -8 & -8 & -8 & -8 & 2003-10-17 & 1900-01-01 & 1900-01-01 & 1900-01-01 &  0 &  0 &   0 & -8 & NA & -8 & -8       & -8 &   -8 &   -8 & -8  & -8 &  0 & -8   &  0 & -8 &  0 &  0 & -8        & -8 &   -8 &   -8 & -8  & -8 &  0 & -8   &  0 & -8 &  0 &  0 & -8        & -8 &   -8 &   -8 & -8  & -8 &  0 & -8   &  0 & -8 &  0 &  0 & -8       & -8 &   -8 &   -8 & -8  & -8 &  0 & -8   &  0 & -8 &  0 &  0 & -8 & -8 & -8 & -8 & -8 & -8 &  0 & -8 &  0 & -8 &  0 &  0 &  0 &  0 & 0 & 0 & 0 & 0 & 0 & 0 & 0 & 0 & 0 & 1 & 0 & MASTER & 0 & 2012-03-21 & 2099\\\\\n",
       "\t⋮ & ⋮ & ⋮ & ⋮ & ⋮ & ⋮ & ⋮ & ⋮ & ⋮ & ⋮ & ⋮ & ⋮ & ⋮ & ⋮ & ⋮ & ⋮ & ⋮ & ⋮ & ⋮ & ⋮ & ⋮ & ⋮ & ⋮ & ⋮ & ⋮ & ⋮ & ⋮ & ⋮ & ⋮ & ⋮ & ⋮ & ⋮ & ⋮ & ⋮ & ⋮ & ⋮ & ⋮ & ⋮ & ⋮ & ⋮ & ⋮ & ⋮ & ⋮ & ⋮ & ⋮ & ⋮ & ⋮ & ⋮ & ⋮ & ⋮ & ⋮ & ⋮ & ⋮ & ⋮ & ⋮ & ⋮ & ⋮ & ⋮ & ⋮ & ⋮ & ⋮ & ⋮ & ⋮ & ⋮ & ⋮ & ⋮ & ⋮ & ⋮ & ⋮ & ⋮ & ⋮ & ⋮ & ⋮ & ⋮ & ⋮ & ⋮ & ⋮ & ⋮ & ⋮ & ⋮ & ⋮ & ⋮ & ⋮ & ⋮ & ⋮ & ⋮ & ⋮ & ⋮ & ⋮ & ⋮ & ⋮ & ⋮ & ⋮ & ⋮ & ⋮ & ⋮ & ⋮ & ⋮ & ⋮ & ⋮ & ⋮ & ⋮ & ⋮ & ⋮ & ⋮ & ⋮ & ⋮ & ⋮ & ⋮ & ⋮ & ⋮ & ⋮ & ⋮ & ⋮ & ⋮ & ⋮ & ⋮ & ⋮ & ⋮ & ⋮ & ⋮ & ⋮ & ⋮ & ⋮ & ⋮ & ⋮ & ⋮ & ⋮ & ⋮ & ⋮ & ⋮ & ⋮ & ⋮ & ⋮ & ⋮ & ⋮ & ⋮ & ⋮ & ⋮ & ⋮ & ⋮ & ⋮ & ⋮ & ⋮ & ⋮\\\\\n",
       "\t159805 & 2019 &  9 & 74 & 3 & 8600519 &  1 & -8 & NA & 0 & CR & -8 & -8 & 097438600519CR0010 & 097438600519CR0 & -8      & -8 & E & Z & 1900-01-01 & 1900-01-01 & 1986-05-30 & 1986-05-30 &  1 & 1986-05-30 & 1  & NA & 0 & 18.242-L & 4 & 9901 & 9901 & 830 & -8        & -8 &   -8 &   -8 & -8  & -8         & -8 &   -8 &   -8 & -8  & -8        & -8 &   -8 &   -8 & -8  & -8        & -8 &   -8 &   -8 & -8  &  6073 & -8 & -8 & -8 & -8 & 1996-08-19 & 1900-01-01 & 1900-01-01 & 1900-01-01 &  0 &   0 &   0 & -8 & NA & -8 & -8       & -8 &   -8 &   -8 & -8  & -8 &  0 & -8   &  0 & -8   &  0 &  0 & -8        & -8 &   -8 &   -8 & -8  & -8 &  0 & -8   &  0 & -8 &  0 &  0 & -8       & -8 &   -8 &   -8 & -8  & -8 &  0 & -8 &  0 & -8 &  0 &  0 & -8       & -8 &   -8 &   -8 & -8  & -8 &  0 & -8 &  0 & -8 &  0 &  0 & -8        & -8 &   -8 &   -8 & -8  & -8 &  0 & -8 &  0 & -8 &  0 &  0 &  0 &  0 & 0 & 0 & 0 & 0 & 0 & 0 & 0 & 0 & 0 & 1 & 0 & MASTER & 0 & 2012-03-21 & 2099\\\\\n",
       "\t160609 & 2019 &  9 & 75 & 1 & 1900040 &  1 &  1 & NA & 0 & CR & -8 & -8 & 097511900040CR0010 & 097511900040CR0 & -8      & -8 & E & N & 2019-04-04 & 2019-04-05 & 2019-04-04 & 2019-04-04 & 19 & 2019-04-05 & 1  & NA & 0 & 18:241.F & 4 & 9901 & 9901 & 830 & 18:242.F  &  4 & 9901 & 9901 & 830 & -8         & -8 &   -8 &   -8 & -8  & -8        & -8 &   -8 &   -8 & -8  & -8        & -8 &   -8 &   -8 & -8  & 15003 & -8 & -8 & -8 & -8 & 1900-01-01 & 1900-01-01 & 1900-01-01 & 1900-01-01 & -8 &  -8 &  -8 & -8 & NA & -8 & -8       & -8 &   -8 &   -8 & -8  & -8 & -8 & -8   & -8 & -8   & -8 & -8 & -8        & -8 &   -8 &   -8 & -8  & -8 & -8 & -8   & -8 & -8 & -8 & -8 & -8       & -8 &   -8 &   -8 & -8  & -8 & -8 & -8 & -8 & -8 & -8 & -8 & -8       & -8 &   -8 &   -8 & -8  & -8 & -8 & -8 & -8 & -8 & -8 & -8 & -8        & -8 &   -8 &   -8 & -8  & -8 & -8 & -8 & -8 & -8 & -8 & -8 & -8 & -8 & 0 & 1 & 1 & 1 & 0 & 0 & 0 & 0 & 0 & 1 & 1 & CMECF  & 0 & 2019-05-13 & 2099\\\\\n",
       "\t160610 & 2019 &  9 & 75 & 1 & 1900040 &  2 &  2 & NA & 0 & CR & -8 & -8 & 097511900040CR0020 & 097511900040CR0 & -8      & -8 & E & N & 2019-04-04 & 2019-04-05 & 2019-04-04 & 2019-04-04 & 19 & 2019-04-05 & 1  & NA & 0 & 18:241.F & 4 & 9901 & 9901 & 830 & 18:242.F  &  4 & 9901 & 9901 & 830 & -8         & -8 &   -8 &   -8 & -8  & -8        & -8 &   -8 &   -8 & -8  & -8        & -8 &   -8 &   -8 & -8  & 15003 & -8 & -8 & -8 & -8 & 1900-01-01 & 1900-01-01 & 1900-01-01 & 1900-01-01 & -8 &  -8 &  -8 & -8 & NA & -8 & -8       & -8 &   -8 &   -8 & -8  & -8 & -8 & -8   & -8 & -8   & -8 & -8 & -8        & -8 &   -8 &   -8 & -8  & -8 & -8 & -8   & -8 & -8 & -8 & -8 & -8       & -8 &   -8 &   -8 & -8  & -8 & -8 & -8 & -8 & -8 & -8 & -8 & -8       & -8 &   -8 &   -8 & -8  & -8 & -8 & -8 & -8 & -8 & -8 & -8 & -8        & -8 &   -8 &   -8 & -8  & -8 & -8 & -8 & -8 & -8 & -8 & -8 & -8 & -8 & 0 & 1 & 1 & 1 & 0 & 0 & 0 & 0 & 0 & 1 & 1 & CMECF  & 0 & 2019-05-13 & 2099\\\\\n",
       "\t160675 & 2019 &  9 & 75 & 1 & 8901531 &  1 & -8 & NA & 0 & CR & -8 & -8 & 097518901531CR0010 & 097518901531CR0 & -8      & -8 & E & Z & 1900-01-01 & 1900-01-01 & 1989-10-12 & 1989-10-12 &  5 & 1900-01-01 & -8 & NA & 0 & 28.1442  & 4 & 9901 & 9901 & 034 & -8        & -8 &   -8 &   -8 & -8  & -8         & -8 &   -8 &   -8 & -8  & -8        & -8 &   -8 &   -8 & -8  & -8        & -8 &   -8 &   -8 & -8  & 15003 & -8 & -8 & -8 & -8 & 1997-04-10 & 1900-01-01 & 1900-01-01 & 1900-01-01 &  0 &   0 &   0 & -8 & NA & -8 & -8       & -8 &   -8 &   -8 & -8  & -8 &  0 & -8   &  0 & -8   &  0 &  0 & -8        & -8 &   -8 &   -8 & -8  & -8 &  0 & -8   &  0 & -8 &  0 &  0 & -8       & -8 &   -8 &   -8 & -8  & -8 &  0 & -8 &  0 & -8 &  0 &  0 & -8       & -8 &   -8 &   -8 & -8  & -8 &  0 & -8 &  0 & -8 &  0 &  0 & -8        & -8 &   -8 &   -8 & -8  & -8 &  0 & -8 &  0 & -8 &  0 &  0 &  0 &  0 & 0 & 0 & 0 & 0 & 0 & 0 & 0 & 0 & 0 & 1 & 0 & MASTER & 0 & 2012-03-21 & 2099\\\\\n",
       "\t162233 & 2019 &  9 & 78 & 2 & 1300151 &  1 &  1 & NA & 0 & CR & -8 & -8 & 097821300151CR0010 & 097821300151CR0 & -8      & -8 & E & N & 1900-01-01 & 1900-01-01 & 2013-04-23 & 2013-04-23 &  1 & 2013-05-03 & 1  & NA & 0 & 18:242.F & 4 & 9901 & 9901 & 830 & 18:1519.F &  4 & 1602 & 9992 & 629 & -8         & -8 &   -8 &   -8 & -8  & -8        & -8 &   -8 &   -8 & -8  & -8        & -8 &   -8 &   -8 & -8  & 32003 & -8 & -8 & -8 & -8 & 1900-01-01 & 1900-01-01 & 1900-01-01 & 1900-01-01 & -8 &  -8 &  -8 & -8 & NA & -8 & -8       & -8 &   -8 &   -8 & -8  & -8 & -8 & -8   & -8 & -8   & -8 & -8 & -8        & -8 &   -8 &   -8 & -8  & -8 & -8 & -8   & -8 & -8 & -8 & -8 & -8       & -8 &   -8 &   -8 & -8  & -8 & -8 & -8 & -8 & -8 & -8 & -8 & -8       & -8 &   -8 &   -8 & -8  & -8 & -8 & -8 & -8 & -8 & -8 & -8 & -8        & -8 &   -8 &   -8 & -8  & -8 & -8 & -8 & -8 & -8 & -8 & -8 & -8 & -8 & 0 & 0 & 0 & 0 & 0 & 0 & 0 & 0 & 0 & 1 & 1 & CMECF  & 0 & 2013-05-14 & 2099\\\\\n",
       "\t162788 & 2019 &  9 & 78 & 2 & 1600005 &  1 &  1 & NA & 0 & CR & -8 & -8 & 097821600005CR0010 & 097821600005CR0 & -8      & -8 & E & N & 1900-01-01 & 1900-01-01 & 2016-01-12 & 2016-01-12 &  1 & 2016-01-20 & 1  & NA & 0 & 18:242.F & 4 & 9901 & 9901 & 830 & 18:1519.F &  4 & 1602 & 9992 & 629 & -8         & -8 &   -8 &   -8 & -8  & -8        & -8 &   -8 &   -8 & -8  & -8        & -8 &   -8 &   -8 & -8  & 32003 & -8 & -8 & -8 & -8 & 1900-01-01 & 1900-01-01 & 1900-01-01 & 1900-01-01 & -8 &  -8 &  -8 & -8 & NA & -8 & -8       & -8 &   -8 &   -8 & -8  & -8 & -8 & -8   & -8 & -8   & -8 & -8 & -8        & -8 &   -8 &   -8 & -8  & -8 & -8 & -8   & -8 & -8 & -8 & -8 & -8       & -8 &   -8 &   -8 & -8  & -8 & -8 & -8 & -8 & -8 & -8 & -8 & -8       & -8 &   -8 &   -8 & -8  & -8 & -8 & -8 & -8 & -8 & -8 & -8 & -8        & -8 &   -8 &   -8 & -8  & -8 & -8 & -8 & -8 & -8 & -8 & -8 & -8 & -8 & 0 & 0 & 0 & 0 & 0 & 0 & 0 & 0 & 0 & 1 & 1 & CMECF  & 0 & 2016-02-22 & 2099\\\\\n",
       "\t165501 & 2019 &  9 & 79 & 6 & 1900042 &  1 &  1 & NA & 0 & CR & -8 & MJ & 097961900042CR0010 & 097961900042CR0 & 1800225 &  1 & J & N & 2018-10-11 & 2018-10-12 & 2019-02-05 & 2019-02-12 &  3 & 2018-10-12 & D  & NA & 6 & 18:247.F & 4 & 9901 & 9901 & 809 & 18:922G.F &  4 & 7830 & 7820 & 409 & -8         & -8 &   -8 &   -8 & -8  & -8        & -8 &   -8 &   -8 & -8  & -8        & -8 &   -8 &   -8 & -8  & 41039 & -8 & -8 & -8 & -8 & 1900-01-01 & 2019-02-12 & 2019-05-22 & 2019-05-22 &  0 &   0 & 990 & 6  & NA &  6 & 18:247.F &  4 & 9901 & 9901 & 809 &  4 & 15 & M001 &  0 & -8   & 36 &  0 & 18:922G.F &  4 & 7830 & 7820 & 409 &  4 & 15 & C001 &  0 & -8 &  0 &  0 & -8       & -8 &   -8 &   -8 & -8  & -8 & -8 & -8 & -8 & -8 & -8 & -8 & -8       & -8 &   -8 &   -8 & -8  & -8 & -8 & -8 & -8 & -8 & -8 & -8 & -8        & -8 &   -8 &   -8 & -8  & -8 & -8 & -8 & -8 & -8 & -8 & -8 & 30 & -8 & 0 & 1 & 1 & 1 & 0 & 1 & 1 & 1 & 0 & 0 & 0 & CMECF  & 1 & 2019-06-10 & 2019\\\\\n",
       "\t169061 & 2019 &  9 & 93 & 1 & 9200043 &  1 &  1 & NA & 0 & CR & -8 & -8 & 099319200043CR0010 & 099319200043CR0 & -8      & -8 & E & N & 1900-01-01 & 1900-01-01 & 1992-05-07 & 1992-05-07 &  3 & 1992-05-07 & 1  & NA & 0 & 18:241.F & 4 & 9901 & 9901 & 830 & -8        & -8 &   -8 &   -8 & -8  & -8         & -8 &   -8 &   -8 & -8  & -8        & -8 &   -8 &   -8 & -8  & -8        & -8 &   -8 &   -8 & -8  & 66010 & -8 & -8 & -8 & -8 & 1900-01-01 & 1900-01-01 & 1900-01-01 & 1900-01-01 & -8 &  -8 &  -8 & -8 & NA & -8 & -8       & -8 &   -8 &   -8 & -8  & -8 & -8 & -8   & -8 & -8   & -8 & -8 & -8        & -8 &   -8 &   -8 & -8  & -8 & -8 & -8   & -8 & -8 & -8 & -8 & -8       & -8 &   -8 &   -8 & -8  & -8 & -8 & -8 & -8 & -8 & -8 & -8 & -8       & -8 &   -8 &   -8 & -8  & -8 & -8 & -8 & -8 & -8 & -8 & -8 & -8        & -8 &   -8 &   -8 & -8  & -8 & -8 & -8 & -8 & -8 & -8 & -8 & -8 & -8 & 0 & 0 & 0 & 0 & 0 & 0 & 0 & 0 & 0 & 1 & 1 & CMECF  & 0 & 2013-10-10 & 2099\\\\\n",
       "\t173393 & 2019 & 10 & 84 & 1 & 1801965 &  1 &  1 & NA & 0 & CR & -8 & -8 & 108411801965CR0010 & 108411801965CR0 & -8      & -8 & E & N & 2018-06-13 & 2018-06-20 & 2018-06-13 & 2018-06-13 &  1 & 2018-07-06 & 1  & NA & 0 & 18:242.F & 4 & 9901 & 9901 & 830 & 18:242.F  &  4 & 9901 & 9901 & 830 & 18:924C.F  &  4 & 7830 & 7831 & 820 & -8        & -8 &   -8 &   -8 & -8  & -8        & -8 &   -8 &   -8 & -8  & 35001 & -8 & -8 & -8 & -8 & 1900-01-01 & 1900-01-01 & 1900-01-01 & 1900-01-01 & -8 &  -8 &  -8 & -8 & NA & -8 & -8       & -8 &   -8 &   -8 & -8  & -8 & -8 & -8   & -8 & -8   & -8 & -8 & -8        & -8 &   -8 &   -8 & -8  & -8 & -8 & -8   & -8 & -8 & -8 & -8 & -8       & -8 &   -8 &   -8 & -8  & -8 & -8 & -8 & -8 & -8 & -8 & -8 & -8       & -8 &   -8 &   -8 & -8  & -8 & -8 & -8 & -8 & -8 & -8 & -8 & -8        & -8 &   -8 &   -8 & -8  & -8 & -8 & -8 & -8 & -8 & -8 & -8 & -8 & -8 & 0 & 0 & 0 & 0 & 0 & 0 & 0 & 0 & 0 & 1 & 1 & CMECF  & 1 & 2019-07-09 & 2099\\\\\n",
       "\t180650 & 2019 & 10 & 88 & 2 & 1400324 &  1 &  1 & NA & 0 & CR & -8 & -8 & 108821400324CR0010 & 108821400324CR0 & -8      & -8 & E & N & 1900-01-01 & 1900-01-01 & 2014-06-25 & 2014-06-25 & 26 & 2014-07-30 & 1  & NA & 0 & 18:242.F & 4 & 9901 & 9901 & 830 & -8        & -8 &   -8 &   -8 & -8  & -8         & -8 &   -8 &   -8 & -8  & -8        & -8 &   -8 &   -8 & -8  & -8        & -8 &   -8 &   -8 & -8  & 49035 & -8 & -8 & -8 & -8 & 1900-01-01 & 1900-01-01 & 1900-01-01 & 1900-01-01 & -8 &  -8 &  -8 & -8 & NA & -8 & -8       & -8 &   -8 &   -8 & -8  & -8 & -8 & -8   & -8 & -8   & -8 & -8 & -8        & -8 &   -8 &   -8 & -8  & -8 & -8 & -8   & -8 & -8 & -8 & -8 & -8       & -8 &   -8 &   -8 & -8  & -8 & -8 & -8 & -8 & -8 & -8 & -8 & -8       & -8 &   -8 &   -8 & -8  & -8 & -8 & -8 & -8 & -8 & -8 & -8 & -8        & -8 &   -8 &   -8 & -8  & -8 & -8 & -8 & -8 & -8 & -8 & -8 & -8 & -8 & 0 & 0 & 0 & 0 & 0 & 0 & 0 & 0 & 0 & 1 & 1 & CMECF  & 1 & 2014-08-06 & 2099\\\\\n",
       "\t182785 & 2019 & 11 & 26 & 2 &  700082 &  1 &  1 & NA & 0 & CR & -8 & -8 & 112620700082CR0010 & 112620700082CR0 & -8      & -8 & E & N & 1900-01-01 & 1900-01-01 & 2007-02-28 & 2007-02-28 &  1 & 2007-03-15 & 1  & NA & 2 & 18:242.M & 3 & 9901 & 9901 & C33 & 18:242.M  &  3 & 9901 & 9901 & C33 & -8         & -8 &   -8 &   -8 & -8  & -8        & -8 &   -8 &   -8 & -8  & -8        & -8 &   -8 &   -8 & -8  &  1073 & -8 & -8 & -8 & -8 & 2007-09-19 & 1900-01-01 & 1900-01-01 & 1900-01-01 &  0 &   0 &   0 & -8 & NA & -8 & -8       & -8 &   -8 &   -8 & -8  & -8 &  0 & -8   &  0 & -8   &  0 &  0 & -8        & -8 &   -8 &   -8 & -8  & -8 &  0 & -8   &  0 & -8 &  0 &  0 & -8       & -8 &   -8 &   -8 & -8  & -8 &  0 & -8 &  0 & -8 &  0 &  0 & -8       & -8 &   -8 &   -8 & -8  & -8 &  0 & -8 &  0 & -8 &  0 &  0 & -8        & -8 &   -8 &   -8 & -8  & -8 &  0 & -8 &  0 & -8 &  0 &  0 &  0 &  0 & 0 & 0 & 0 & 0 & 0 & 0 & 0 & 0 & 0 & 1 & 1 & MASTER & 0 & 2012-03-21 & 2099\\\\\n",
       "\t183910 & 2019 & 11 & 26 & 7 & 1800485 &  1 &  1 & NA & 0 & CR & -8 & -8 & 112671800485CR0010 & 112671800485CR0 & -8      & -8 & J & N & 1900-01-01 & 1900-01-01 & 2018-10-05 & 2018-10-11 &  3 & 2018-10-11 & 1  & NA & 2 & 18:242.F & 4 & 9901 & 9901 & 830 & -8        & -8 &   -8 &   -8 & -8  & -8         & -8 &   -8 &   -8 & -8  & -8        & -8 &   -8 &   -8 & -8  & -8        & -8 &   -8 &   -8 & -8  &  1125 & -8 & -8 & -8 & -8 & 1900-01-01 & 2018-11-28 & 2019-03-12 & 2019-03-12 &  0 &   0 & 104 & 7  & NA &  2 & 18:242.F &  4 & 9901 & 9901 & 830 &  4 &  0 & -8   & 36 & M001 &  0 &  0 & -8        & -8 &   -8 &   -8 & -8  & -8 & -8 & -8   & -8 & -8 & -8 & -8 & -8       & -8 &   -8 &   -8 & -8  & -8 & -8 & -8 & -8 & -8 & -8 & -8 & -8       & -8 &   -8 &   -8 & -8  & -8 & -8 & -8 & -8 & -8 & -8 & -8 & -8        & -8 &   -8 &   -8 & -8  & -8 & -8 & -8 & -8 & -8 & -8 & -8 & -8 & 36 & 0 & 1 & 1 & 1 & 0 & 1 & 1 & 1 & 0 & 0 & 0 & CMECF  & 1 & 2019-04-04 & 2019\\\\\n",
       "\t184483 & 2019 & 11 & 27 & 2 & 1800419 &  1 &  1 & NA & 0 & CR & -8 & -8 & 112721800419CR0010 & 112721800419CR0 & -8      & -8 & E & N & 1900-01-01 & 1900-01-01 & 2018-09-26 & 2018-09-26 &  1 & 2018-10-03 & 1  & NA & 0 & 18:242.F & 4 & 9901 & 9901 & 830 & 18:242.F  &  4 & 9901 & 9901 & 830 & 18:1519.F  &  4 & 1602 & 9992 & 629 & -8        & -8 &   -8 &   -8 & -8  & -8        & -8 &   -8 &   -8 & -8  &  1051 & -8 & -8 & -8 & -8 & 1900-01-01 & 1900-01-01 & 1900-01-01 & 1900-01-01 & -8 &  -8 &  -8 & -8 & NA & -8 & -8       & -8 &   -8 &   -8 & -8  & -8 & -8 & -8   & -8 & -8   & -8 & -8 & -8        & -8 &   -8 &   -8 & -8  & -8 & -8 & -8   & -8 & -8 & -8 & -8 & -8       & -8 &   -8 &   -8 & -8  & -8 & -8 & -8 & -8 & -8 & -8 & -8 & -8       & -8 &   -8 &   -8 & -8  & -8 & -8 & -8 & -8 & -8 & -8 & -8 & -8        & -8 &   -8 &   -8 & -8  & -8 & -8 & -8 & -8 & -8 & -8 & -8 & -8 & -8 & 0 & 1 & 1 & 1 & 0 & 0 & 0 & 0 & 0 & 1 & 1 & CMECF  & 1 & 2019-05-03 & 2099\\\\\n",
       "\t184539 & 2019 & 11 & 27 & 2 & 1900127 &  1 &  1 & NA & 0 & CR & -8 & -8 & 112721900127CR0010 & 112721900127CR0 & -8      & -8 & E & N & 1900-01-01 & 1900-01-01 & 2019-03-26 & 2019-04-02 &  3 & 2019-04-02 & 1  & NA & 0 & 18:242.F & 4 & 9901 & 9901 & 830 & -8        & -8 &   -8 &   -8 & -8  & -8         & -8 &   -8 &   -8 & -8  & -8        & -8 &   -8 &   -8 & -8  & -8        & -8 &   -8 &   -8 & -8  &  1051 & -8 & -8 & -8 & -8 & 1900-01-01 & 1900-01-01 & 1900-01-01 & 1900-01-01 & -8 &  -8 &  -8 & -8 & NA & -8 & -8       & -8 &   -8 &   -8 & -8  & -8 & -8 & -8   & -8 & -8   & -8 & -8 & -8        & -8 &   -8 &   -8 & -8  & -8 & -8 & -8   & -8 & -8 & -8 & -8 & -8       & -8 &   -8 &   -8 & -8  & -8 & -8 & -8 & -8 & -8 & -8 & -8 & -8       & -8 &   -8 &   -8 & -8  & -8 & -8 & -8 & -8 & -8 & -8 & -8 & -8        & -8 &   -8 &   -8 & -8  & -8 & -8 & -8 & -8 & -8 & -8 & -8 & -8 & -8 & 0 & 1 & 1 & 1 & 0 & 0 & 0 & 0 & 0 & 1 & 1 & CMECF  & 0 & 2019-05-03 & 2099\\\\\n",
       "\t187030 & 2019 & 11 & 3A & 2 &  900017 &  1 &  1 & NA & 0 & CR & -8 & -8 & 113A20900017CR0010 & 113A20900017CR0 & -8      & -8 & E & N & 2009-04-01 & 2009-04-02 & 2009-04-01 & 2009-04-01 & 19 & 2009-04-02 & 1  & NA & 0 & 18:242.F & 4 & 9901 & 9901 & 830 & -8        & -8 &   -8 &   -8 & -8  & -8         & -8 &   -8 &   -8 & -8  & -8        & -8 &   -8 &   -8 & -8  & -8        & -8 &   -8 &   -8 & -8  & 12015 & -8 & -8 & -8 & -8 & 2010-04-13 & 1900-01-01 & 1900-01-01 & 1900-01-01 &  0 &   0 &   0 & -8 & NA & -8 & -8       & -8 &   -8 &   -8 & -8  & -8 &  0 & -8   &  0 & -8   &  0 &  0 & -8        & -8 &   -8 &   -8 & -8  & -8 &  0 & -8   &  0 & -8 &  0 &  0 & -8       & -8 &   -8 &   -8 & -8  & -8 &  0 & -8 &  0 & -8 &  0 &  0 & -8       & -8 &   -8 &   -8 & -8  & -8 &  0 & -8 &  0 & -8 &  0 &  0 & -8        & -8 &   -8 &   -8 & -8  & -8 &  0 & -8 &  0 & -8 &  0 &  0 &  0 &  0 & 0 & 0 & 0 & 0 & 0 & 0 & 0 & 0 & 0 & 1 & 1 & MASTER & 0 & 2012-03-21 & 2099\\\\\n",
       "\t192206 & 2019 & 11 & 3C & 1 &  920772 &  2 &  2 & NA & 0 & CR & -8 & -8 & 113C10920772CR0020 & 113C10920772CR0 & -8      & -8 & E & N & 1900-01-01 & 1900-01-01 & 2009-09-10 & 2009-09-10 &  1 & 2009-09-16 & 1  & NA & 0 & 18:241.F & 4 & 9901 & 9901 & 830 & 18:242.F  &  4 & 9901 & 9901 & 830 & -8         & -8 &   -8 &   -8 & -8  & -8        & -8 &   -8 &   -8 & -8  & -8        & -8 &   -8 &   -8 & -8  & 12025 & -8 & -8 & -8 & -8 & 2010-05-11 & 1900-01-01 & 1900-01-01 & 1900-01-01 &  0 &   0 &   0 & -8 & NA & -8 & -8       & -8 &   -8 &   -8 & -8  & -8 &  0 & -8   &  0 & -8   &  0 &  0 & -8        & -8 &   -8 &   -8 & -8  & -8 &  0 & -8   &  0 & -8 &  0 &  0 & -8       & -8 &   -8 &   -8 & -8  & -8 &  0 & -8 &  0 & -8 &  0 &  0 & -8       & -8 &   -8 &   -8 & -8  & -8 &  0 & -8 &  0 & -8 &  0 &  0 & -8        & -8 &   -8 &   -8 & -8  & -8 &  0 & -8 &  0 & -8 &  0 &  0 &  0 &  0 & 0 & 0 & 0 & 0 & 0 & 0 & 0 & 0 & 0 & 1 & 1 & MASTER & 0 & 2012-03-21 & 2099\\\\\n",
       "\t192345 & 2019 & 11 & 3C & 1 &  720263 &  3 &  2 & NA & 0 & CR & -8 & -8 & 113C10720263CR0030 & 113C10720263CR0 & -8      & -8 & E & N & 1900-01-01 & 1900-01-01 & 2007-04-19 & 2007-04-19 &  1 & 2007-04-20 & 1  & NA & 0 & 18:241.F & 4 & 9901 & 9901 & 830 & 18:1589.F &  4 & 9954 & 9954 & 519 & 8:1324.F   &  4 & 8730 & 8730 & 215 & -8        & -8 &   -8 &   -8 & -8  & -8        & -8 &   -8 &   -8 & -8  & 12086 & -8 & -8 & -8 & -8 & 1900-01-01 & 1900-01-01 & 1900-01-01 & 1900-01-01 & -8 &  -8 &  -8 & -8 & NA & -8 & -8       & -8 &   -8 &   -8 & -8  & -8 & -8 & -8   & -8 & -8   & -8 & -8 & -8        & -8 &   -8 &   -8 & -8  & -8 & -8 & -8   & -8 & -8 & -8 & -8 & -8       & -8 &   -8 &   -8 & -8  & -8 & -8 & -8 & -8 & -8 & -8 & -8 & -8       & -8 &   -8 &   -8 & -8  & -8 & -8 & -8 & -8 & -8 & -8 & -8 & -8        & -8 &   -8 &   -8 & -8  & -8 & -8 & -8 & -8 & -8 & -8 & -8 & -8 & -8 & 0 & 0 & 0 & 0 & 0 & 0 & 0 & 0 & 0 & 1 & 1 & CMECF  & 2 & 2016-07-13 & 2099\\\\\n",
       "\t192346 & 2019 & 11 & 3C & 1 &  720263 &  5 &  3 & NA & 0 & CR & -8 & -8 & 113C10720263CR0050 & 113C10720263CR0 & -8      & -8 & E & N & 1900-01-01 & 1900-01-01 & 2007-04-19 & 2007-04-19 &  1 & 2007-04-20 & 1  & NA & 0 & 18:241.F & 4 & 9901 & 9901 & 830 & 18:1589.F &  4 & 9954 & 9954 & 519 & -8         & -8 &   -8 &   -8 & -8  & -8        & -8 &   -8 &   -8 & -8  & -8        & -8 &   -8 &   -8 & -8  & 12086 & -8 & -8 & -8 & -8 & 1900-01-01 & 1900-01-01 & 1900-01-01 & 1900-01-01 & -8 &  -8 &  -8 & -8 & NA & -8 & -8       & -8 &   -8 &   -8 & -8  & -8 & -8 & -8   & -8 & -8   & -8 & -8 & -8        & -8 &   -8 &   -8 & -8  & -8 & -8 & -8   & -8 & -8 & -8 & -8 & -8       & -8 &   -8 &   -8 & -8  & -8 & -8 & -8 & -8 & -8 & -8 & -8 & -8       & -8 &   -8 &   -8 & -8  & -8 & -8 & -8 & -8 & -8 & -8 & -8 & -8        & -8 &   -8 &   -8 & -8  & -8 & -8 & -8 & -8 & -8 & -8 & -8 & -8 & -8 & 0 & 0 & 0 & 0 & 0 & 0 & 0 & 0 & 0 & 1 & 1 & CMECF  & 1 & 2016-07-13 & 2099\\\\\n",
       "\t193375 & 2019 & 11 & 3C & 1 & 1820337 &  1 &  1 & NA & 0 & CR & -8 & -8 & 113C11820337CR0010 & 113C11820337CR0 & -8      & -8 & E & N & 1900-01-01 & 1900-01-01 & 2018-04-26 & 2018-04-26 &  1 & 2018-04-30 & 1  & NA & 0 & 18:241.F & 4 & 9901 & 9901 & 830 & 18:242.F  &  4 & 9901 & 9901 & 830 & -8         & -8 &   -8 &   -8 & -8  & -8        & -8 &   -8 &   -8 & -8  & -8        & -8 &   -8 &   -8 & -8  & 12086 & -8 & -8 & -8 & -8 & 1900-01-01 & 1900-01-01 & 1900-01-01 & 1900-01-01 & -8 &  -8 &  -8 & -8 & NA & -8 & -8       & -8 &   -8 &   -8 & -8  & -8 & -8 & -8   & -8 & -8   & -8 & -8 & -8        & -8 &   -8 &   -8 & -8  & -8 & -8 & -8   & -8 & -8 & -8 & -8 & -8       & -8 &   -8 &   -8 & -8  & -8 & -8 & -8 & -8 & -8 & -8 & -8 & -8       & -8 &   -8 &   -8 & -8  & -8 & -8 & -8 & -8 & -8 & -8 & -8 & -8        & -8 &   -8 &   -8 & -8  & -8 & -8 & -8 & -8 & -8 & -8 & -8 & -8 & -8 & 0 & 0 & 0 & 0 & 0 & 0 & 0 & 0 & 0 & 1 & 1 & CMECF  & 0 & 2018-05-08 & 2099\\\\\n",
       "\t193425 & 2019 & 11 & 3C & 1 & 1820255 &  1 &  1 & NA & 0 & CR & -8 & -8 & 113C11820255CR0010 & 113C11820255CR0 & -8      & -8 & J & N & 1900-01-01 & 1900-01-01 & 2018-04-05 & 2018-04-05 &  1 & 2018-04-06 & 1  & NA & 0 & 18:241.F & 4 & 9901 & 9901 & 830 & 18:242.F  &  4 & 9901 & 9901 & 830 & 18:242.F   &  4 & 9901 & 9901 & 830 & 18:242.F  &  4 & 9901 & 9901 & 830 & 18:1519.F &  4 & 1602 & 9992 & 629 & 12086 & -8 & -8 & -8 & -8 & 1900-01-01 & 2018-07-26 & 2018-10-19 & 2018-10-19 &  0 & 340 & 850 & 1  & NA &  2 & 18:242.F &  4 & 9901 & 9901 & 830 &  4 & 27 & C001 &  0 & -8   & 12 &  0 & 18:241.F  &  4 & 9901 & 9901 & 830 &  4 &  0 & C001 &  0 & -8 & 12 &  0 & 18:242.F &  4 & 9901 & 9901 & 830 &  1 &  0 & -8 &  0 & -8 &  0 &  0 & 18:242.F &  4 & 9901 & 9901 & 830 &  1 &  0 & -8 &  0 & -8 &  0 &  0 & 18:1519.F &  4 & 1602 & 9992 & 629 &  1 &  0 & -8 &  0 & -8 &  0 &  0 & 27 & -8 & 0 & 0 & 0 & 0 & 0 & 1 & 1 & 1 & 0 & 0 & 0 & CMECF  & 2 & 2018-11-14 & 2019\\\\\n",
       "\t193567 & 2019 & 11 & 3C & 1 & 1820479 &  1 &  1 & NA & 0 & CR & -8 & -8 & 113C11820479CR0010 & 113C11820479CR0 & -8      & -8 & J & N & 1900-01-01 & 1900-01-01 & 2018-06-07 & 2018-06-07 &  1 & 2018-06-11 & 1  & NA & 2 & 18:241.F & 4 & 9901 & 9901 & 830 & 18:241.F  &  4 & 9901 & 9901 & 830 & 18:242.F   &  4 & 9901 & 9901 & 830 & 18:242.F  &  4 & 9901 & 9901 & 830 & -8        & -8 &   -8 &   -8 & -8  & 12086 & -8 & -8 & -8 & -8 & 1900-01-01 & 2018-09-14 & 2018-11-28 & 2018-11-28 &  0 & 490 & 750 & 1  & NA &  2 & 18:241.F &  4 & 9901 & 9901 & 830 &  4 & 36 & M001 &  0 & -8   & 12 &  0 & 18:241.F  &  4 & 9901 & 9901 & 830 &  1 &  0 & -8   &  0 & -8 &  0 &  0 & 18:242.F &  4 & 9901 & 9901 & 830 &  1 &  0 & -8 &  0 & -8 &  0 &  0 & 18:242.F &  4 & 9901 & 9901 & 830 &  1 &  0 & -8 &  0 & -8 &  0 &  0 & -8        & -8 &   -8 &   -8 & -8  & -8 & -8 & -8 & -8 & -8 & -8 & -8 & 36 & -8 & 0 & 0 & 0 & 0 & 0 & 1 & 1 & 1 & 0 & 0 & 0 & CMECF  & 2 & 2018-12-11 & 2019\\\\\n",
       "\t193568 & 2019 & 11 & 3C & 1 & 1820479 &  2 &  2 & NA & 0 & CR & -8 & -8 & 113C11820479CR0020 & 113C11820479CR0 & -8      & -8 & J & N & 1900-01-01 & 1900-01-01 & 2018-06-07 & 2018-06-07 &  1 & 2018-06-20 & 1  & NA & 2 & 18:241.F & 4 & 9901 & 9901 & 830 & 18:241.F  &  4 & 9901 & 9901 & 830 & 18:242.F   &  4 & 9901 & 9901 & 830 & 18:242.F  &  4 & 9901 & 9901 & 830 & -8        & -8 &   -8 &   -8 & -8  & 12086 & -8 & -8 & -8 & -8 & 1900-01-01 & 2018-08-03 & 2018-10-16 & 2018-10-16 &  0 & 180 & 740 & 1  & NA &  2 & 18:242.F &  4 & 9901 & 9901 & 830 &  4 & 12 & M001 &  0 & -8   & 12 &  0 & 18:241.F  &  4 & 9901 & 9901 & 830 &  1 &  0 & -8   &  0 & -8 &  0 &  0 & 18:241.F &  4 & 9901 & 9901 & 830 &  1 &  0 & -8 &  0 & -8 &  0 &  0 & 18:242.F &  4 & 9901 & 9901 & 830 &  1 &  0 & -8 &  0 & -8 &  0 &  0 & -8        & -8 &   -8 &   -8 & -8  & -8 & -8 & -8 & -8 & -8 & -8 & -8 & 12 & -8 & 0 & 0 & 0 & 0 & 0 & 1 & 1 & 1 & 0 & 0 & 0 & CMECF  & 2 & 2018-11-14 & 2019\\\\\n",
       "\t193569 & 2019 & 11 & 3C & 1 & 1820479 &  3 &  3 & NA & 0 & CR & -8 & -8 & 113C11820479CR0030 & 113C11820479CR0 & -8      & -8 & J & N & 1900-01-01 & 1900-01-01 & 2018-06-07 & 2018-06-07 &  1 & 2018-06-22 & 1  & NA & 2 & 18:241.F & 4 & 9901 & 9901 & 830 & 18:241.F  &  4 & 9901 & 9901 & 830 & 18:242.F   &  4 & 9901 & 9901 & 830 & 18:242.F  &  4 & 9901 & 9901 & 830 & -8        & -8 &   -8 &   -8 & -8  & 12086 & -8 & -8 & -8 & -8 & 1900-01-01 & 2018-08-03 & 2018-10-16 & 2018-10-16 &  0 & 160 & 740 & 1  & NA &  2 & 18:242.F &  4 & 9901 & 9901 & 830 &  4 & 12 & M001 &  0 & -8   & 12 &  0 & 18:241.F  &  4 & 9901 & 9901 & 830 &  1 &  0 & -8   &  0 & -8 &  0 &  0 & 18:241.F &  4 & 9901 & 9901 & 830 &  1 &  0 & -8 &  0 & -8 &  0 &  0 & 18:242.F &  4 & 9901 & 9901 & 830 &  1 &  0 & -8 &  0 & -8 &  0 &  0 & -8        & -8 &   -8 &   -8 & -8  & -8 & -8 & -8 & -8 & -8 & -8 & -8 & 12 & -8 & 0 & 0 & 0 & 0 & 0 & 1 & 1 & 1 & 0 & 0 & 0 & CMECF  & 2 & 2018-11-14 & 2019\\\\\n",
       "\t194347 & 2019 & 11 & 3C & 1 & 1820953 &  1 &  1 & NA & 0 & CR & -8 & -8 & 113C11820953CR0010 & 113C11820953CR0 & -8      & -8 & E & N & 1900-01-01 & 1900-01-01 & 2018-12-13 & 2018-12-13 &  1 & 2018-12-17 & 1  & NA & 0 & 18:241.F & 4 & 9901 & 9901 & 830 & 18:242.F  &  4 & 9901 & 9901 & 830 & 18:1001.F  &  4 & 4991 & 4991 & 215 & -8        & -8 &   -8 &   -8 & -8  & -8        & -8 &   -8 &   -8 & -8  & 12086 & -8 & -8 & -8 & -8 & 1900-01-01 & 1900-01-01 & 1900-01-01 & 1900-01-01 & -8 &  -8 &  -8 & -8 & NA & -8 & -8       & -8 &   -8 &   -8 & -8  & -8 & -8 & -8   & -8 & -8   & -8 & -8 & -8        & -8 &   -8 &   -8 & -8  & -8 & -8 & -8   & -8 & -8 & -8 & -8 & -8       & -8 &   -8 &   -8 & -8  & -8 & -8 & -8 & -8 & -8 & -8 & -8 & -8       & -8 &   -8 &   -8 & -8  & -8 & -8 & -8 & -8 & -8 & -8 & -8 & -8        & -8 &   -8 &   -8 & -8  & -8 & -8 & -8 & -8 & -8 & -8 & -8 & -8 & -8 & 0 & 1 & 1 & 1 & 0 & 0 & 0 & 0 & 0 & 1 & 1 & CMECF  & 0 & 2019-01-09 & 2099\\\\\n",
       "\t197132 & 2019 & 11 & 3C & 2 & 9814015 &  8 &  4 & NA & 0 & CR & -8 & MJ & 113C29814015CR0080 & 113C29814015CR0 & 9800004 &  8 & E & Z & 1998-08-26 & 1900-01-01 & 1998-03-05 & 1998-04-23 &  1 & 1900-01-01 & -8 & NA & 0 & 18:241.F & 4 & 9901 & 9901 & 830 & 18:894.F  &  4 & 7490 & 7490 & 525 & 18:2423.F  &  4 & 6110 & 6301 & 335 & 8:1328.F  &  4 & 6200 & 8740 & 334 & 18:1584.F &  4 & 9954 & 6121 & 234 & 12093 & -8 & -8 & -8 & -8 & 2008-06-18 & 1900-01-01 & 1900-01-01 & 1900-01-01 &  0 &   0 &   0 & -8 & NA & -8 & -8       & -8 &   -8 &   -8 & -8  & -8 &  0 & -8   &  0 & -8   &  0 &  0 & -8        & -8 &   -8 &   -8 & -8  & -8 &  0 & -8   &  0 & -8 &  0 &  0 & -8       & -8 &   -8 &   -8 & -8  & -8 &  0 & -8 &  0 & -8 &  0 &  0 & -8       & -8 &   -8 &   -8 & -8  & -8 &  0 & -8 &  0 & -8 &  0 &  0 & -8        & -8 &   -8 &   -8 & -8  & -8 &  0 & -8 &  0 & -8 &  0 &  0 &  0 &  0 & 0 & 0 & 0 & 0 & 0 & 0 & 0 & 0 & 0 & 1 & 0 & MASTER & 0 & 2012-03-21 & 2099\\\\\n",
       "\t197133 & 2019 & 11 & 3C & 2 & 9814015 & 13 & 11 & NA & 0 & CR & -8 & -8 & 113C29814015CR0130 & 113C29814015CR0 & -8      & -8 & E & N & 1999-07-08 & 2008-01-29 & 1998-03-05 & 1998-04-23 &  1 & 2008-01-29 & 1  & NA & 0 & 18:241.F & 4 & 9901 & 9901 & 830 & 18:894.F  &  4 & 7490 & 7490 & 525 & 18:1584.F  &  4 & 9954 & 6121 & 234 & 18:371.F  &  4 & 4992 & 4992 & 206 & -8        & -8 &   -8 &   -8 & -8  & 12093 & -8 & -8 & -8 & -8 & 2008-06-18 & 1900-01-01 & 1900-01-01 & 1900-01-01 &  0 &   0 &   0 & -8 & NA & -8 & -8       & -8 &   -8 &   -8 & -8  & -8 &  0 & -8   &  0 & -8   &  0 &  0 & -8        & -8 &   -8 &   -8 & -8  & -8 &  0 & -8   &  0 & -8 &  0 &  0 & -8       & -8 &   -8 &   -8 & -8  & -8 &  0 & -8 &  0 & -8 &  0 &  0 & -8       & -8 &   -8 &   -8 & -8  & -8 &  0 & -8 &  0 & -8 &  0 &  0 & -8        & -8 &   -8 &   -8 & -8  & -8 &  0 & -8 &  0 & -8 &  0 &  0 &  0 &  0 & 0 & 0 & 0 & 0 & 0 & 0 & 0 & 0 & 0 & 1 & 1 & MASTER & 0 & 2012-03-21 & 2099\\\\\n",
       "\t197134 & 2019 & 11 & 3C & 2 & 9814015 & 15 & 13 & NA & 0 & CR & -8 & -8 & 113C29814015CR0150 & 113C29814015CR0 & -8      & -8 & E & Z & 1998-08-26 & 1900-01-01 & 1998-03-05 & 1998-04-23 &  1 & 1900-01-01 & -8 & NA & 0 & 18:241.F & 4 & 9901 & 9901 & 830 & 18:894.F  &  4 & 7490 & 7490 & 525 & 8:1328.F   &  4 & 6200 & 8740 & 334 & 18:1584.F &  4 & 9954 & 6121 & 234 & 8:1324.F  &  4 & 8730 & 8730 & 215 & 12093 & -8 & -8 & -8 & -8 & 2008-06-18 & 1900-01-01 & 1900-01-01 & 1900-01-01 &  0 &   0 &   0 & -8 & NA & -8 & -8       & -8 &   -8 &   -8 & -8  & -8 &  0 & -8   &  0 & -8   &  0 &  0 & -8        & -8 &   -8 &   -8 & -8  & -8 &  0 & -8   &  0 & -8 &  0 &  0 & -8       & -8 &   -8 &   -8 & -8  & -8 &  0 & -8 &  0 & -8 &  0 &  0 & -8       & -8 &   -8 &   -8 & -8  & -8 &  0 & -8 &  0 & -8 &  0 &  0 & -8        & -8 &   -8 &   -8 & -8  & -8 &  0 & -8 &  0 & -8 &  0 &  0 &  0 &  0 & 0 & 0 & 0 & 0 & 0 & 0 & 0 & 0 & 0 & 1 & 0 & MASTER & 0 & 2012-03-21 & 2099\\\\\n",
       "\t198597 & 2019 & 11 & 3E & 1 &  900134 &  1 &  1 & NA & 0 & CR & -8 & MJ & 113E10900134CR0010 & 113E10900134CR0 & 0900351 &  1 & E & N & 1900-01-01 & 1900-01-01 & 2009-03-24 & 2009-03-24 &  1 & 2009-03-20 & D  & NA & 2 & 18:242.F & 4 & 9901 & 9901 & 830 & 18:1519.F &  4 & 1602 & 9992 & 629 & 18:1512B.F &  4 & 9992 & 9992 & 339 & 18:1503.F &  4 & 9992 & 9992 & 234 & 18:1001.F &  4 & 4991 & 4991 & 215 & 13121 & -8 & -8 & -8 & -8 & 2010-02-14 & 1900-01-01 & 1900-01-01 & 1900-01-01 &  0 &   0 &   0 & -8 & NA & -8 & -8       & -8 &   -8 &   -8 & -8  & -8 &  0 & -8   &  0 & -8   &  0 &  0 & -8        & -8 &   -8 &   -8 & -8  & -8 &  0 & -8   &  0 & -8 &  0 &  0 & -8       & -8 &   -8 &   -8 & -8  & -8 &  0 & -8 &  0 & -8 &  0 &  0 & -8       & -8 &   -8 &   -8 & -8  & -8 &  0 & -8 &  0 & -8 &  0 &  0 & -8        & -8 &   -8 &   -8 & -8  & -8 &  0 & -8 &  0 & -8 &  0 &  0 &  0 &  0 & 0 & 0 & 0 & 0 & 0 & 0 & 0 & 0 & 0 & 1 & 1 & MASTER & 0 & 2012-03-21 & 2099\\\\\n",
       "\t200529 & 2019 & 11 & 3G & 1 & 1400029 &  1 &  1 & NA & 0 & CR & -8 & -8 & 113G11400029CR0010 & 113G11400029CR0 & -8      & -8 & E & N & 1900-01-01 & 1900-01-01 & 2014-07-09 & 2014-07-09 &  1 & 2014-08-05 & 1  & NA & 0 & 18:242.F & 4 & 9901 & 9901 & 830 & -8        & -8 &   -8 &   -8 & -8  & -8         & -8 &   -8 &   -8 & -8  & -8        & -8 &   -8 &   -8 & -8  & -8        & -8 &   -8 &   -8 & -8  & 13095 & -8 & -8 & -8 & -8 & 1900-01-01 & 1900-01-01 & 1900-01-01 & 1900-01-01 & -8 &  -8 &  -8 & -8 & NA & -8 & -8       & -8 &   -8 &   -8 & -8  & -8 & -8 & -8   & -8 & -8   & -8 & -8 & -8        & -8 &   -8 &   -8 & -8  & -8 & -8 & -8   & -8 & -8 & -8 & -8 & -8       & -8 &   -8 &   -8 & -8  & -8 & -8 & -8 & -8 & -8 & -8 & -8 & -8       & -8 &   -8 &   -8 & -8  & -8 & -8 & -8 & -8 & -8 & -8 & -8 & -8        & -8 &   -8 &   -8 & -8  & -8 & -8 & -8 & -8 & -8 & -8 & -8 & -8 & -8 & 0 & 0 & 0 & 0 & 0 & 0 & 0 & 0 & 0 & 1 & 1 & CMECF  & 1 & 2014-09-03 & 2099\\\\\n",
       "\t200997 & 2019 & 11 & 3G & 3 & 1800022 &  1 &  1 & NA & 0 & CR & -8 & -8 & 113G31800022CR0010 & 113G31800022CR0 & -8      & -8 & E & N & 1900-01-01 & 1900-01-01 & 2018-04-12 & 2018-04-12 &  1 & 2018-04-25 & 1  & NA & 2 & 18:242.F & 4 & 9901 & 9901 & 830 & 18:242.F  &  4 & 9901 & 9901 & 830 & 18:242.F   &  4 & 9901 & 9901 & 830 & 18:666A.F &  4 & 4390 & 4390 & 319 & -8        & -8 &   -8 &   -8 & -8  & 13147 & -8 & -8 & -8 & -8 & 1900-01-01 & 1900-01-01 & 1900-01-01 & 1900-01-01 & -8 &  -8 &  -8 & -8 & NA & -8 & -8       & -8 &   -8 &   -8 & -8  & -8 & -8 & -8   & -8 & -8   & -8 & -8 & -8        & -8 &   -8 &   -8 & -8  & -8 & -8 & -8   & -8 & -8 & -8 & -8 & -8       & -8 &   -8 &   -8 & -8  & -8 & -8 & -8 & -8 & -8 & -8 & -8 & -8       & -8 &   -8 &   -8 & -8  & -8 & -8 & -8 & -8 & -8 & -8 & -8 & -8        & -8 &   -8 &   -8 & -8  & -8 & -8 & -8 & -8 & -8 & -8 & -8 & -8 & -8 & 0 & 0 & 0 & 0 & 0 & 0 & 0 & 0 & 0 & 1 & 1 & CMECF  & 1 & 2019-07-10 & 2099\\\\\n",
       "\\end{tabular}\n"
      ],
      "text/markdown": [
       "\n",
       "A data.frame: 212 × 144\n",
       "\n",
       "| <!--/--> | FISCALYR &lt;int&gt; | CIRCUIT &lt;int&gt; | DISTRICT &lt;chr&gt; | OFFICE &lt;chr&gt; | DOCKET &lt;int&gt; | DEFNO &lt;int&gt; | CTDEF &lt;int&gt; | NAME &lt;lgl&gt; | REOPSEQ &lt;int&gt; | TYPEREG &lt;fct&gt; | ⋯ ⋯ | CTTRTRN &lt;int&gt; | CTTR &lt;int&gt; | CTTRWOR &lt;int&gt; | CTTRR &lt;int&gt; | CTPN &lt;int&gt; | CTPNWOF &lt;int&gt; | SOURCE &lt;fct&gt; | VER &lt;int&gt; | LOADDATE &lt;fct&gt; | TAPEYEAR &lt;int&gt; |\n",
       "|---|---|---|---|---|---|---|---|---|---|---|---|---|---|---|---|---|---|---|---|---|---|\n",
       "| 1075 | 2019 | 0 | 90 | 1 | 1800036 |  1 |  1 | NA | 0 | CR | ⋯ | 0 | 0 | 0 | 0 | 1 | 1 | CMECF  | 1 | 2018-04-10 | 2099 |\n",
       "| 2499 | 2019 | 1 | 1  | 1 |  510319 |  1 |  1 | NA | 1 | CR | ⋯ | 0 | 0 | 0 | 0 | 1 | 1 | MASTER | 0 | 2012-03-21 | 2099 |\n",
       "| 3919 | 2019 | 1 | 1  | 3 | 1830003 |  1 |  1 | NA | 0 | CR | ⋯ | 1 | 1 | 1 | 0 | 0 | 0 | CMECF  | 1 | 2019-07-10 | 2019 |\n",
       "| 3949 | 2019 | 1 | 1  | 3 | 1830051 |  1 |  1 | NA | 0 | CR | ⋯ | 0 | 0 | 0 | 0 | 1 | 1 | CMECF  | 0 | 2018-11-11 | 2099 |\n",
       "| 3950 | 2019 | 1 | 1  | 3 | 1830051 |  2 |  2 | NA | 0 | CR | ⋯ | 0 | 0 | 0 | 0 | 1 | 1 | CMECF  | 0 | 2018-11-11 | 2099 |\n",
       "| 5696 | 2019 | 1 | 4  | 3 | 1600536 |  1 |  1 | NA | 0 | CR | ⋯ | 0 | 0 | 0 | 0 | 1 | 1 | CMECF  | 0 | 2016-09-11 | 2099 |\n",
       "| 5697 | 2019 | 1 | 4  | 3 | 1600536 |  2 |  2 | NA | 0 | CR | ⋯ | 0 | 0 | 0 | 0 | 1 | 1 | CMECF  | 0 | 2016-09-11 | 2099 |\n",
       "| 5698 | 2019 | 1 | 4  | 3 | 1600536 |  3 |  3 | NA | 0 | CR | ⋯ | 0 | 0 | 0 | 0 | 1 | 1 | CMECF  | 0 | 2016-09-11 | 2099 |\n",
       "| 5699 | 2019 | 1 | 4  | 3 | 1600536 |  4 |  4 | NA | 0 | CR | ⋯ | 0 | 0 | 0 | 0 | 1 | 1 | CMECF  | 0 | 2016-09-11 | 2099 |\n",
       "| 6900 | 2019 | 1 | 4  | 3 | 1800089 |  1 |  1 | NA | 0 | CR | ⋯ | 0 | 0 | 0 | 0 | 1 | 1 | CMECF  | 0 | 2018-03-11 | 2099 |\n",
       "| 8532 | 2019 | 2 | 5  | 3 |     215 |  1 | -8 | NA | 0 | CR | ⋯ | 0 | 0 | 0 | 0 | 1 | 1 | MASTER | 0 | 2012-03-21 | 2099 |\n",
       "| 8675 | 2019 | 2 | 5  | 3 |  900264 |  1 |  1 | NA | 0 | CR | ⋯ | 0 | 0 | 0 | 0 | 1 | 1 | MASTER | 0 | 2012-03-21 | 2099 |\n",
       "| 8676 | 2019 | 2 | 5  | 3 |  900264 |  2 |  2 | NA | 0 | CR | ⋯ | 0 | 0 | 0 | 0 | 1 | 1 | MASTER | 0 | 2012-03-21 | 2099 |\n",
       "| 13487 | 2019 | 2 | 7  | 1 | 1900032 |  1 |  1 | NA | 0 | CR | ⋯ | 0 | 0 | 0 | 0 | 1 | 1 | CMECF  | 0 | 2019-02-10 | 2099 |\n",
       "| 13732 | 2019 | 2 | 7  | 1 | 7201267 |  2 | -8 | NA | 0 | CR | ⋯ | 0 | 0 | 0 | 0 | 1 | 0 | MASTER | 0 | 2012-03-21 | 2099 |\n",
       "| 13733 | 2019 | 2 | 7  | 1 | 7201267 |  3 | -8 | NA | 0 | CR | ⋯ | 0 | 0 | 0 | 0 | 1 | 0 | MASTER | 0 | 2012-03-21 | 2099 |\n",
       "| 13734 | 2019 | 2 | 7  | 1 | 7201267 |  4 | -8 | NA | 0 | CR | ⋯ | 0 | 0 | 0 | 0 | 1 | 0 | MASTER | 0 | 2012-03-21 | 2099 |\n",
       "| 13735 | 2019 | 2 | 7  | 1 | 7201267 |  5 | -8 | NA | 0 | CR | ⋯ | 0 | 0 | 0 | 0 | 1 | 0 | MASTER | 0 | 2012-03-21 | 2099 |\n",
       "| 14770 | 2019 | 2 | 7  | 1 | 9800196 |  2 | -8 | NA | 1 | CR | ⋯ | 0 | 0 | 0 | 0 | 1 | 1 | MASTER | 0 | 2012-03-21 | 2099 |\n",
       "| 14771 | 2019 | 2 | 7  | 1 | 9800196 |  3 | -8 | NA | 1 | CR | ⋯ | 0 | 0 | 0 | 0 | 1 | 1 | MASTER | 0 | 2012-03-21 | 2099 |\n",
       "| 14772 | 2019 | 2 | 7  | 1 | 9800196 |  4 | -8 | NA | 1 | CR | ⋯ | 0 | 0 | 0 | 0 | 1 | 1 | MASTER | 0 | 2012-03-21 | 2099 |\n",
       "| 15414 | 2019 | 2 | 7  | 2 | 1800530 |  1 |  1 | NA | 0 | CR | ⋯ | 0 | 0 | 0 | 0 | 1 | 1 | CMECF  | 0 | 2018-11-14 | 2099 |\n",
       "| 20360 | 2019 | 2 | 8  | 1 | 1900341 |  1 |  1 | NA | 0 | CR | ⋯ | 0 | 0 | 0 | 0 | 1 | 1 | CMECF  | 0 | 2019-06-06 | 2099 |\n",
       "| 20379 | 2019 | 2 | 8  | 1 | 1900363 |  1 |  1 | NA | 0 | CR | ⋯ | 0 | 0 | 0 | 0 | 1 | 1 | CMECF  | 0 | 2019-06-06 | 2099 |\n",
       "| 22741 | 2019 | 2 | 8  | 1 | 9500052 |  9 | -8 | NA | 0 | CR | ⋯ | 0 | 0 | 0 | 0 | 1 | 0 | MASTER | 0 | 2012-03-21 | 2099 |\n",
       "| 22766 | 2019 | 2 | 8  | 1 | 9500200 |  2 | -8 | NA | 0 | CR | ⋯ | 0 | 0 | 0 | 0 | 1 | 0 | MASTER | 0 | 2012-03-21 | 2099 |\n",
       "| 22767 | 2019 | 2 | 8  | 1 | 9500200 |  3 | -8 | NA | 0 | CR | ⋯ | 0 | 0 | 0 | 0 | 1 | 0 | MASTER | 0 | 2012-03-21 | 2099 |\n",
       "| 23506 | 2019 | 2 | 8  | 7 |  800784 |  1 |  1 | NA | 0 | CR | ⋯ | 0 | 0 | 0 | 0 | 1 | 1 | MASTER | 0 | 2012-03-21 | 2099 |\n",
       "| 23948 | 2019 | 2 | 8  | 7 | 1600578 |  1 |  1 | NA | 0 | CR | ⋯ | 1 | 1 | 1 | 0 | 0 | 0 | CMECF  | 2 | 2019-05-06 | 2019 |\n",
       "| 24369 | 2019 | 2 | 8  | 7 | 8400063 | 18 | -8 | NA | 0 | CR | ⋯ | 0 | 0 | 0 | 0 | 1 | 0 | MASTER | 0 | 2012-03-21 | 2099 |\n",
       "| ⋮ | ⋮ | ⋮ | ⋮ | ⋮ | ⋮ | ⋮ | ⋮ | ⋮ | ⋮ | ⋮ | ⋱ | ⋮ | ⋮ | ⋮ | ⋮ | ⋮ | ⋮ | ⋮ | ⋮ | ⋮ | ⋮ |\n",
       "| 159805 | 2019 |  9 | 74 | 3 | 8600519 |  1 | -8 | NA | 0 | CR | ⋯ | 0 | 0 | 0 | 0 | 1 | 0 | MASTER | 0 | 2012-03-21 | 2099 |\n",
       "| 160609 | 2019 |  9 | 75 | 1 | 1900040 |  1 |  1 | NA | 0 | CR | ⋯ | 0 | 0 | 0 | 0 | 1 | 1 | CMECF  | 0 | 2019-05-13 | 2099 |\n",
       "| 160610 | 2019 |  9 | 75 | 1 | 1900040 |  2 |  2 | NA | 0 | CR | ⋯ | 0 | 0 | 0 | 0 | 1 | 1 | CMECF  | 0 | 2019-05-13 | 2099 |\n",
       "| 160675 | 2019 |  9 | 75 | 1 | 8901531 |  1 | -8 | NA | 0 | CR | ⋯ | 0 | 0 | 0 | 0 | 1 | 0 | MASTER | 0 | 2012-03-21 | 2099 |\n",
       "| 162233 | 2019 |  9 | 78 | 2 | 1300151 |  1 |  1 | NA | 0 | CR | ⋯ | 0 | 0 | 0 | 0 | 1 | 1 | CMECF  | 0 | 2013-05-14 | 2099 |\n",
       "| 162788 | 2019 |  9 | 78 | 2 | 1600005 |  1 |  1 | NA | 0 | CR | ⋯ | 0 | 0 | 0 | 0 | 1 | 1 | CMECF  | 0 | 2016-02-22 | 2099 |\n",
       "| 165501 | 2019 |  9 | 79 | 6 | 1900042 |  1 |  1 | NA | 0 | CR | ⋯ | 1 | 1 | 1 | 0 | 0 | 0 | CMECF  | 1 | 2019-06-10 | 2019 |\n",
       "| 169061 | 2019 |  9 | 93 | 1 | 9200043 |  1 |  1 | NA | 0 | CR | ⋯ | 0 | 0 | 0 | 0 | 1 | 1 | CMECF  | 0 | 2013-10-10 | 2099 |\n",
       "| 173393 | 2019 | 10 | 84 | 1 | 1801965 |  1 |  1 | NA | 0 | CR | ⋯ | 0 | 0 | 0 | 0 | 1 | 1 | CMECF  | 1 | 2019-07-09 | 2099 |\n",
       "| 180650 | 2019 | 10 | 88 | 2 | 1400324 |  1 |  1 | NA | 0 | CR | ⋯ | 0 | 0 | 0 | 0 | 1 | 1 | CMECF  | 1 | 2014-08-06 | 2099 |\n",
       "| 182785 | 2019 | 11 | 26 | 2 |  700082 |  1 |  1 | NA | 0 | CR | ⋯ | 0 | 0 | 0 | 0 | 1 | 1 | MASTER | 0 | 2012-03-21 | 2099 |\n",
       "| 183910 | 2019 | 11 | 26 | 7 | 1800485 |  1 |  1 | NA | 0 | CR | ⋯ | 1 | 1 | 1 | 0 | 0 | 0 | CMECF  | 1 | 2019-04-04 | 2019 |\n",
       "| 184483 | 2019 | 11 | 27 | 2 | 1800419 |  1 |  1 | NA | 0 | CR | ⋯ | 0 | 0 | 0 | 0 | 1 | 1 | CMECF  | 1 | 2019-05-03 | 2099 |\n",
       "| 184539 | 2019 | 11 | 27 | 2 | 1900127 |  1 |  1 | NA | 0 | CR | ⋯ | 0 | 0 | 0 | 0 | 1 | 1 | CMECF  | 0 | 2019-05-03 | 2099 |\n",
       "| 187030 | 2019 | 11 | 3A | 2 |  900017 |  1 |  1 | NA | 0 | CR | ⋯ | 0 | 0 | 0 | 0 | 1 | 1 | MASTER | 0 | 2012-03-21 | 2099 |\n",
       "| 192206 | 2019 | 11 | 3C | 1 |  920772 |  2 |  2 | NA | 0 | CR | ⋯ | 0 | 0 | 0 | 0 | 1 | 1 | MASTER | 0 | 2012-03-21 | 2099 |\n",
       "| 192345 | 2019 | 11 | 3C | 1 |  720263 |  3 |  2 | NA | 0 | CR | ⋯ | 0 | 0 | 0 | 0 | 1 | 1 | CMECF  | 2 | 2016-07-13 | 2099 |\n",
       "| 192346 | 2019 | 11 | 3C | 1 |  720263 |  5 |  3 | NA | 0 | CR | ⋯ | 0 | 0 | 0 | 0 | 1 | 1 | CMECF  | 1 | 2016-07-13 | 2099 |\n",
       "| 193375 | 2019 | 11 | 3C | 1 | 1820337 |  1 |  1 | NA | 0 | CR | ⋯ | 0 | 0 | 0 | 0 | 1 | 1 | CMECF  | 0 | 2018-05-08 | 2099 |\n",
       "| 193425 | 2019 | 11 | 3C | 1 | 1820255 |  1 |  1 | NA | 0 | CR | ⋯ | 1 | 1 | 1 | 0 | 0 | 0 | CMECF  | 2 | 2018-11-14 | 2019 |\n",
       "| 193567 | 2019 | 11 | 3C | 1 | 1820479 |  1 |  1 | NA | 0 | CR | ⋯ | 1 | 1 | 1 | 0 | 0 | 0 | CMECF  | 2 | 2018-12-11 | 2019 |\n",
       "| 193568 | 2019 | 11 | 3C | 1 | 1820479 |  2 |  2 | NA | 0 | CR | ⋯ | 1 | 1 | 1 | 0 | 0 | 0 | CMECF  | 2 | 2018-11-14 | 2019 |\n",
       "| 193569 | 2019 | 11 | 3C | 1 | 1820479 |  3 |  3 | NA | 0 | CR | ⋯ | 1 | 1 | 1 | 0 | 0 | 0 | CMECF  | 2 | 2018-11-14 | 2019 |\n",
       "| 194347 | 2019 | 11 | 3C | 1 | 1820953 |  1 |  1 | NA | 0 | CR | ⋯ | 0 | 0 | 0 | 0 | 1 | 1 | CMECF  | 0 | 2019-01-09 | 2099 |\n",
       "| 197132 | 2019 | 11 | 3C | 2 | 9814015 |  8 |  4 | NA | 0 | CR | ⋯ | 0 | 0 | 0 | 0 | 1 | 0 | MASTER | 0 | 2012-03-21 | 2099 |\n",
       "| 197133 | 2019 | 11 | 3C | 2 | 9814015 | 13 | 11 | NA | 0 | CR | ⋯ | 0 | 0 | 0 | 0 | 1 | 1 | MASTER | 0 | 2012-03-21 | 2099 |\n",
       "| 197134 | 2019 | 11 | 3C | 2 | 9814015 | 15 | 13 | NA | 0 | CR | ⋯ | 0 | 0 | 0 | 0 | 1 | 0 | MASTER | 0 | 2012-03-21 | 2099 |\n",
       "| 198597 | 2019 | 11 | 3E | 1 |  900134 |  1 |  1 | NA | 0 | CR | ⋯ | 0 | 0 | 0 | 0 | 1 | 1 | MASTER | 0 | 2012-03-21 | 2099 |\n",
       "| 200529 | 2019 | 11 | 3G | 1 | 1400029 |  1 |  1 | NA | 0 | CR | ⋯ | 0 | 0 | 0 | 0 | 1 | 1 | CMECF  | 1 | 2014-09-03 | 2099 |\n",
       "| 200997 | 2019 | 11 | 3G | 3 | 1800022 |  1 |  1 | NA | 0 | CR | ⋯ | 0 | 0 | 0 | 0 | 1 | 1 | CMECF  | 1 | 2019-07-10 | 2099 |\n",
       "\n"
      ],
      "text/plain": [
       "       FISCALYR CIRCUIT DISTRICT OFFICE DOCKET  DEFNO CTDEF NAME REOPSEQ\n",
       "1075   2019     0       90       1      1800036  1     1    NA   0      \n",
       "2499   2019     1       1        1       510319  1     1    NA   1      \n",
       "3919   2019     1       1        3      1830003  1     1    NA   0      \n",
       "3949   2019     1       1        3      1830051  1     1    NA   0      \n",
       "3950   2019     1       1        3      1830051  2     2    NA   0      \n",
       "5696   2019     1       4        3      1600536  1     1    NA   0      \n",
       "5697   2019     1       4        3      1600536  2     2    NA   0      \n",
       "5698   2019     1       4        3      1600536  3     3    NA   0      \n",
       "5699   2019     1       4        3      1600536  4     4    NA   0      \n",
       "6900   2019     1       4        3      1800089  1     1    NA   0      \n",
       "8532   2019     2       5        3          215  1    -8    NA   0      \n",
       "8675   2019     2       5        3       900264  1     1    NA   0      \n",
       "8676   2019     2       5        3       900264  2     2    NA   0      \n",
       "13487  2019     2       7        1      1900032  1     1    NA   0      \n",
       "13732  2019     2       7        1      7201267  2    -8    NA   0      \n",
       "13733  2019     2       7        1      7201267  3    -8    NA   0      \n",
       "13734  2019     2       7        1      7201267  4    -8    NA   0      \n",
       "13735  2019     2       7        1      7201267  5    -8    NA   0      \n",
       "14770  2019     2       7        1      9800196  2    -8    NA   1      \n",
       "14771  2019     2       7        1      9800196  3    -8    NA   1      \n",
       "14772  2019     2       7        1      9800196  4    -8    NA   1      \n",
       "15414  2019     2       7        2      1800530  1     1    NA   0      \n",
       "20360  2019     2       8        1      1900341  1     1    NA   0      \n",
       "20379  2019     2       8        1      1900363  1     1    NA   0      \n",
       "22741  2019     2       8        1      9500052  9    -8    NA   0      \n",
       "22766  2019     2       8        1      9500200  2    -8    NA   0      \n",
       "22767  2019     2       8        1      9500200  3    -8    NA   0      \n",
       "23506  2019     2       8        7       800784  1     1    NA   0      \n",
       "23948  2019     2       8        7      1600578  1     1    NA   0      \n",
       "24369  2019     2       8        7      8400063 18    -8    NA   0      \n",
       "⋮      ⋮        ⋮       ⋮        ⋮      ⋮       ⋮     ⋮     ⋮    ⋮      \n",
       "159805 2019      9      74       3      8600519  1    -8    NA   0      \n",
       "160609 2019      9      75       1      1900040  1     1    NA   0      \n",
       "160610 2019      9      75       1      1900040  2     2    NA   0      \n",
       "160675 2019      9      75       1      8901531  1    -8    NA   0      \n",
       "162233 2019      9      78       2      1300151  1     1    NA   0      \n",
       "162788 2019      9      78       2      1600005  1     1    NA   0      \n",
       "165501 2019      9      79       6      1900042  1     1    NA   0      \n",
       "169061 2019      9      93       1      9200043  1     1    NA   0      \n",
       "173393 2019     10      84       1      1801965  1     1    NA   0      \n",
       "180650 2019     10      88       2      1400324  1     1    NA   0      \n",
       "182785 2019     11      26       2       700082  1     1    NA   0      \n",
       "183910 2019     11      26       7      1800485  1     1    NA   0      \n",
       "184483 2019     11      27       2      1800419  1     1    NA   0      \n",
       "184539 2019     11      27       2      1900127  1     1    NA   0      \n",
       "187030 2019     11      3A       2       900017  1     1    NA   0      \n",
       "192206 2019     11      3C       1       920772  2     2    NA   0      \n",
       "192345 2019     11      3C       1       720263  3     2    NA   0      \n",
       "192346 2019     11      3C       1       720263  5     3    NA   0      \n",
       "193375 2019     11      3C       1      1820337  1     1    NA   0      \n",
       "193425 2019     11      3C       1      1820255  1     1    NA   0      \n",
       "193567 2019     11      3C       1      1820479  1     1    NA   0      \n",
       "193568 2019     11      3C       1      1820479  2     2    NA   0      \n",
       "193569 2019     11      3C       1      1820479  3     3    NA   0      \n",
       "194347 2019     11      3C       1      1820953  1     1    NA   0      \n",
       "197132 2019     11      3C       2      9814015  8     4    NA   0      \n",
       "197133 2019     11      3C       2      9814015 13    11    NA   0      \n",
       "197134 2019     11      3C       2      9814015 15    13    NA   0      \n",
       "198597 2019     11      3E       1       900134  1     1    NA   0      \n",
       "200529 2019     11      3G       1      1400029  1     1    NA   0      \n",
       "200997 2019     11      3G       3      1800022  1     1    NA   0      \n",
       "       TYPEREG ⋯ CTTRTRN CTTR CTTRWOR CTTRR CTPN CTPNWOF SOURCE VER LOADDATE  \n",
       "1075   CR      ⋯ 0       0    0       0     1    1       CMECF  1   2018-04-10\n",
       "2499   CR      ⋯ 0       0    0       0     1    1       MASTER 0   2012-03-21\n",
       "3919   CR      ⋯ 1       1    1       0     0    0       CMECF  1   2019-07-10\n",
       "3949   CR      ⋯ 0       0    0       0     1    1       CMECF  0   2018-11-11\n",
       "3950   CR      ⋯ 0       0    0       0     1    1       CMECF  0   2018-11-11\n",
       "5696   CR      ⋯ 0       0    0       0     1    1       CMECF  0   2016-09-11\n",
       "5697   CR      ⋯ 0       0    0       0     1    1       CMECF  0   2016-09-11\n",
       "5698   CR      ⋯ 0       0    0       0     1    1       CMECF  0   2016-09-11\n",
       "5699   CR      ⋯ 0       0    0       0     1    1       CMECF  0   2016-09-11\n",
       "6900   CR      ⋯ 0       0    0       0     1    1       CMECF  0   2018-03-11\n",
       "8532   CR      ⋯ 0       0    0       0     1    1       MASTER 0   2012-03-21\n",
       "8675   CR      ⋯ 0       0    0       0     1    1       MASTER 0   2012-03-21\n",
       "8676   CR      ⋯ 0       0    0       0     1    1       MASTER 0   2012-03-21\n",
       "13487  CR      ⋯ 0       0    0       0     1    1       CMECF  0   2019-02-10\n",
       "13732  CR      ⋯ 0       0    0       0     1    0       MASTER 0   2012-03-21\n",
       "13733  CR      ⋯ 0       0    0       0     1    0       MASTER 0   2012-03-21\n",
       "13734  CR      ⋯ 0       0    0       0     1    0       MASTER 0   2012-03-21\n",
       "13735  CR      ⋯ 0       0    0       0     1    0       MASTER 0   2012-03-21\n",
       "14770  CR      ⋯ 0       0    0       0     1    1       MASTER 0   2012-03-21\n",
       "14771  CR      ⋯ 0       0    0       0     1    1       MASTER 0   2012-03-21\n",
       "14772  CR      ⋯ 0       0    0       0     1    1       MASTER 0   2012-03-21\n",
       "15414  CR      ⋯ 0       0    0       0     1    1       CMECF  0   2018-11-14\n",
       "20360  CR      ⋯ 0       0    0       0     1    1       CMECF  0   2019-06-06\n",
       "20379  CR      ⋯ 0       0    0       0     1    1       CMECF  0   2019-06-06\n",
       "22741  CR      ⋯ 0       0    0       0     1    0       MASTER 0   2012-03-21\n",
       "22766  CR      ⋯ 0       0    0       0     1    0       MASTER 0   2012-03-21\n",
       "22767  CR      ⋯ 0       0    0       0     1    0       MASTER 0   2012-03-21\n",
       "23506  CR      ⋯ 0       0    0       0     1    1       MASTER 0   2012-03-21\n",
       "23948  CR      ⋯ 1       1    1       0     0    0       CMECF  2   2019-05-06\n",
       "24369  CR      ⋯ 0       0    0       0     1    0       MASTER 0   2012-03-21\n",
       "⋮      ⋮       ⋱ ⋮       ⋮    ⋮       ⋮     ⋮    ⋮       ⋮      ⋮   ⋮         \n",
       "159805 CR      ⋯ 0       0    0       0     1    0       MASTER 0   2012-03-21\n",
       "160609 CR      ⋯ 0       0    0       0     1    1       CMECF  0   2019-05-13\n",
       "160610 CR      ⋯ 0       0    0       0     1    1       CMECF  0   2019-05-13\n",
       "160675 CR      ⋯ 0       0    0       0     1    0       MASTER 0   2012-03-21\n",
       "162233 CR      ⋯ 0       0    0       0     1    1       CMECF  0   2013-05-14\n",
       "162788 CR      ⋯ 0       0    0       0     1    1       CMECF  0   2016-02-22\n",
       "165501 CR      ⋯ 1       1    1       0     0    0       CMECF  1   2019-06-10\n",
       "169061 CR      ⋯ 0       0    0       0     1    1       CMECF  0   2013-10-10\n",
       "173393 CR      ⋯ 0       0    0       0     1    1       CMECF  1   2019-07-09\n",
       "180650 CR      ⋯ 0       0    0       0     1    1       CMECF  1   2014-08-06\n",
       "182785 CR      ⋯ 0       0    0       0     1    1       MASTER 0   2012-03-21\n",
       "183910 CR      ⋯ 1       1    1       0     0    0       CMECF  1   2019-04-04\n",
       "184483 CR      ⋯ 0       0    0       0     1    1       CMECF  1   2019-05-03\n",
       "184539 CR      ⋯ 0       0    0       0     1    1       CMECF  0   2019-05-03\n",
       "187030 CR      ⋯ 0       0    0       0     1    1       MASTER 0   2012-03-21\n",
       "192206 CR      ⋯ 0       0    0       0     1    1       MASTER 0   2012-03-21\n",
       "192345 CR      ⋯ 0       0    0       0     1    1       CMECF  2   2016-07-13\n",
       "192346 CR      ⋯ 0       0    0       0     1    1       CMECF  1   2016-07-13\n",
       "193375 CR      ⋯ 0       0    0       0     1    1       CMECF  0   2018-05-08\n",
       "193425 CR      ⋯ 1       1    1       0     0    0       CMECF  2   2018-11-14\n",
       "193567 CR      ⋯ 1       1    1       0     0    0       CMECF  2   2018-12-11\n",
       "193568 CR      ⋯ 1       1    1       0     0    0       CMECF  2   2018-11-14\n",
       "193569 CR      ⋯ 1       1    1       0     0    0       CMECF  2   2018-11-14\n",
       "194347 CR      ⋯ 0       0    0       0     1    1       CMECF  0   2019-01-09\n",
       "197132 CR      ⋯ 0       0    0       0     1    0       MASTER 0   2012-03-21\n",
       "197133 CR      ⋯ 0       0    0       0     1    1       MASTER 0   2012-03-21\n",
       "197134 CR      ⋯ 0       0    0       0     1    0       MASTER 0   2012-03-21\n",
       "198597 CR      ⋯ 0       0    0       0     1    1       MASTER 0   2012-03-21\n",
       "200529 CR      ⋯ 0       0    0       0     1    1       CMECF  1   2014-09-03\n",
       "200997 CR      ⋯ 0       0    0       0     1    1       CMECF  1   2019-07-10\n",
       "       TAPEYEAR\n",
       "1075   2099    \n",
       "2499   2099    \n",
       "3919   2019    \n",
       "3949   2099    \n",
       "3950   2099    \n",
       "5696   2099    \n",
       "5697   2099    \n",
       "5698   2099    \n",
       "5699   2099    \n",
       "6900   2099    \n",
       "8532   2099    \n",
       "8675   2099    \n",
       "8676   2099    \n",
       "13487  2099    \n",
       "13732  2099    \n",
       "13733  2099    \n",
       "13734  2099    \n",
       "13735  2099    \n",
       "14770  2099    \n",
       "14771  2099    \n",
       "14772  2099    \n",
       "15414  2099    \n",
       "20360  2099    \n",
       "20379  2099    \n",
       "22741  2099    \n",
       "22766  2099    \n",
       "22767  2099    \n",
       "23506  2099    \n",
       "23948  2019    \n",
       "24369  2099    \n",
       "⋮      ⋮       \n",
       "159805 2099    \n",
       "160609 2099    \n",
       "160610 2099    \n",
       "160675 2099    \n",
       "162233 2099    \n",
       "162788 2099    \n",
       "165501 2019    \n",
       "169061 2099    \n",
       "173393 2099    \n",
       "180650 2099    \n",
       "182785 2099    \n",
       "183910 2019    \n",
       "184483 2099    \n",
       "184539 2099    \n",
       "187030 2099    \n",
       "192206 2099    \n",
       "192345 2099    \n",
       "192346 2099    \n",
       "193375 2099    \n",
       "193425 2019    \n",
       "193567 2019    \n",
       "193568 2019    \n",
       "193569 2019    \n",
       "194347 2099    \n",
       "197132 2099    \n",
       "197133 2099    \n",
       "197134 2099    \n",
       "198597 2099    \n",
       "200529 2099    \n",
       "200997 2099    "
      ]
     },
     "metadata": {},
     "output_type": "display_data"
    },
    {
     "data": {
      "text/html": [
       "1"
      ],
      "text/latex": [
       "1"
      ],
      "text/markdown": [
       "1"
      ],
      "text/plain": [
       "[1] 1"
      ]
     },
     "metadata": {},
     "output_type": "display_data"
    },
    {
     "data": {
      "text/html": [
       "2"
      ],
      "text/latex": [
       "2"
      ],
      "text/markdown": [
       "2"
      ],
      "text/plain": [
       "[1] 2"
      ]
     },
     "metadata": {},
     "output_type": "display_data"
    },
    {
     "data": {
      "text/html": [
       "11"
      ],
      "text/latex": [
       "11"
      ],
      "text/markdown": [
       "11"
      ],
      "text/plain": [
       "[1] 11"
      ]
     },
     "metadata": {},
     "output_type": "display_data"
    },
    {
     "data": {
      "text/html": [
       "0"
      ],
      "text/latex": [
       "0"
      ],
      "text/markdown": [
       "0"
      ],
      "text/plain": [
       "[1] 0"
      ]
     },
     "metadata": {},
     "output_type": "display_data"
    }
   ],
   "source": [
    "##Count civil rights violations by District (90, 16, 13, 15)\n",
    "\n",
    "##First create a dataframe of just civil rights violations\n",
    "\n",
    "CRViolations <- subset(cr19_df, FOFFCD1 == '9901')\n",
    "CRViolations\n",
    "\n",
    "##then count by district\n",
    "\n",
    "sum(CRViolations$DISTRICT == '90')\n",
    "sum(CRViolations$DISTRICT == '16')\n",
    "sum(CRViolations$DISTRICT == '13')\n",
    "sum(CRViolations$DISTRICT == '15')"
   ]
  },
  {
   "cell_type": "code",
   "execution_count": 50,
   "metadata": {},
   "outputs": [
    {
     "data": {
      "text/html": [
       "0.000476417341591234"
      ],
      "text/latex": [
       "0.000476417341591234"
      ],
      "text/markdown": [
       "0.000476417341591234"
      ],
      "text/plain": [
       "[1] 0.0004764173"
      ]
     },
     "metadata": {},
     "output_type": "display_data"
    },
    {
     "data": {
      "text/html": [
       "0.000387747188832881"
      ],
      "text/latex": [
       "0.000387747188832881"
      ],
      "text/markdown": [
       "0.000387747188832881"
      ],
      "text/plain": [
       "[1] 0.0003877472"
      ]
     },
     "metadata": {},
     "output_type": "display_data"
    },
    {
     "data": {
      "text/html": [
       "0.00537109375"
      ],
      "text/latex": [
       "0.00537109375"
      ],
      "text/markdown": [
       "0.00537109375"
      ],
      "text/plain": [
       "[1] 0.005371094"
      ]
     },
     "metadata": {},
     "output_type": "display_data"
    },
    {
     "data": {
      "text/html": [
       "0"
      ],
      "text/latex": [
       "0"
      ],
      "text/markdown": [
       "0"
      ],
      "text/plain": [
       "[1] 0"
      ]
     },
     "metadata": {},
     "output_type": "display_data"
    }
   ],
   "source": [
    "##Proportion of Civil Rights Violations/Total Violations by District\n",
    "\n",
    "#90: DC\n",
    "\n",
    "1/2099\n",
    "\n",
    "#16: Maryland\n",
    "\n",
    "2/5158\n",
    "\n",
    "#13: Eastern(philli)\n",
    "\n",
    "11/2048\n",
    "\n",
    "#15: Western\n",
    "\n",
    "0/1451\n",
    "\n",
    "##the highest proportio is Eastern PA with 0.5%"
   ]
  },
  {
   "cell_type": "code",
   "execution_count": 51,
   "metadata": {},
   "outputs": [],
   "source": [
    "##these numbers are low, so I am going to look into comparisons using other parameters "
   ]
  },
  {
   "cell_type": "code",
   "execution_count": 54,
   "metadata": {},
   "outputs": [
    {
     "data": {
      "text/html": [
       "2223"
      ],
      "text/latex": [
       "2223"
      ],
      "text/markdown": [
       "2223"
      ],
      "text/plain": [
       "[1] 2223"
      ]
     },
     "metadata": {},
     "output_type": "display_data"
    },
    {
     "data": {
      "text/html": [
       "<table>\n",
       "<caption>A data.frame: 2223 × 144</caption>\n",
       "<thead>\n",
       "\t<tr><th></th><th scope=col>FISCALYR</th><th scope=col>CIRCUIT</th><th scope=col>DISTRICT</th><th scope=col>OFFICE</th><th scope=col>DOCKET</th><th scope=col>DEFNO</th><th scope=col>CTDEF</th><th scope=col>NAME</th><th scope=col>REOPSEQ</th><th scope=col>TYPEREG</th><th scope=col>⋯</th><th scope=col>CTTRTRN</th><th scope=col>CTTR</th><th scope=col>CTTRWOR</th><th scope=col>CTTRR</th><th scope=col>CTPN</th><th scope=col>CTPNWOF</th><th scope=col>SOURCE</th><th scope=col>VER</th><th scope=col>LOADDATE</th><th scope=col>TAPEYEAR</th></tr>\n",
       "\t<tr><th></th><th scope=col>&lt;int&gt;</th><th scope=col>&lt;int&gt;</th><th scope=col>&lt;chr&gt;</th><th scope=col>&lt;chr&gt;</th><th scope=col>&lt;int&gt;</th><th scope=col>&lt;int&gt;</th><th scope=col>&lt;int&gt;</th><th scope=col>&lt;lgl&gt;</th><th scope=col>&lt;int&gt;</th><th scope=col>&lt;fct&gt;</th><th scope=col>⋯</th><th scope=col>&lt;int&gt;</th><th scope=col>&lt;int&gt;</th><th scope=col>&lt;int&gt;</th><th scope=col>&lt;int&gt;</th><th scope=col>&lt;int&gt;</th><th scope=col>&lt;int&gt;</th><th scope=col>&lt;fct&gt;</th><th scope=col>&lt;int&gt;</th><th scope=col>&lt;fct&gt;</th><th scope=col>&lt;int&gt;</th></tr>\n",
       "</thead>\n",
       "<tbody>\n",
       "\t<tr><th scope=row>1729</th><td>2019</td><td>0</td><td>90</td><td>1</td><td>9100227</td><td>1</td><td>-8</td><td>NA</td><td>0</td><td>CR</td><td>⋯</td><td>0</td><td>0</td><td>0</td><td>0</td><td>1</td><td>0</td><td>MASTER</td><td>0</td><td>2012-03-21</td><td>2099</td></tr>\n",
       "\t<tr><th scope=row>2026</th><td>2019</td><td>0</td><td>90</td><td>1</td><td>9700293</td><td>2</td><td>-8</td><td>NA</td><td>0</td><td>CR</td><td>⋯</td><td>0</td><td>0</td><td>0</td><td>0</td><td>1</td><td>0</td><td>MASTER</td><td>0</td><td>2012-03-21</td><td>2099</td></tr>\n",
       "\t<tr><th scope=row>9874</th><td>2019</td><td>2</td><td>6 </td><td>1</td><td>    503</td><td>1</td><td>-8</td><td>NA</td><td>0</td><td>CR</td><td>⋯</td><td>0</td><td>0</td><td>0</td><td>0</td><td>1</td><td>1</td><td>MASTER</td><td>0</td><td>2012-03-21</td><td>2099</td></tr>\n",
       "\t<tr><th scope=row>9985</th><td>2019</td><td>2</td><td>6 </td><td>1</td><td>1000583</td><td>1</td><td> 1</td><td>NA</td><td>0</td><td>CR</td><td>⋯</td><td>0</td><td>0</td><td>0</td><td>0</td><td>1</td><td>1</td><td>MASTER</td><td>0</td><td>2012-03-21</td><td>2099</td></tr>\n",
       "\t<tr><th scope=row>10806</th><td>2019</td><td>2</td><td>6 </td><td>7</td><td>1900075</td><td>1</td><td> 1</td><td>NA</td><td>0</td><td>CR</td><td>⋯</td><td>0</td><td>0</td><td>0</td><td>0</td><td>1</td><td>1</td><td>CMECF </td><td>2</td><td>2019-06-10</td><td>2099</td></tr>\n",
       "\t<tr><th scope=row>10941</th><td>2019</td><td>2</td><td>6 </td><td>7</td><td>1800093</td><td>1</td><td> 1</td><td>NA</td><td>0</td><td>CR</td><td>⋯</td><td>1</td><td>1</td><td>1</td><td>0</td><td>0</td><td>0</td><td>CMECF </td><td>2</td><td>2018-12-06</td><td>2019</td></tr>\n",
       "\t<tr><th scope=row>10942</th><td>2019</td><td>2</td><td>6 </td><td>7</td><td>1800129</td><td>1</td><td> 1</td><td>NA</td><td>0</td><td>CR</td><td>⋯</td><td>1</td><td>1</td><td>1</td><td>0</td><td>0</td><td>0</td><td>CMECF </td><td>1</td><td>2018-12-06</td><td>2019</td></tr>\n",
       "\t<tr><th scope=row>10944</th><td>2019</td><td>2</td><td>6 </td><td>7</td><td>1800160</td><td>1</td><td> 1</td><td>NA</td><td>0</td><td>CR</td><td>⋯</td><td>1</td><td>1</td><td>1</td><td>0</td><td>0</td><td>0</td><td>CMECF </td><td>2</td><td>2018-12-06</td><td>2019</td></tr>\n",
       "\t<tr><th scope=row>10967</th><td>2019</td><td>2</td><td>6 </td><td>7</td><td>1800371</td><td>1</td><td> 1</td><td>NA</td><td>0</td><td>CR</td><td>⋯</td><td>1</td><td>1</td><td>1</td><td>0</td><td>0</td><td>0</td><td>CMECF </td><td>1</td><td>2019-04-03</td><td>2019</td></tr>\n",
       "\t<tr><th scope=row>11490</th><td>2019</td><td>2</td><td>7 </td><td>1</td><td> 201047</td><td>1</td><td> 1</td><td>NA</td><td>0</td><td>CR</td><td>⋯</td><td>0</td><td>0</td><td>0</td><td>0</td><td>1</td><td>1</td><td>MASTER</td><td>0</td><td>2012-03-21</td><td>2099</td></tr>\n",
       "\t<tr><th scope=row>13700</th><td>2019</td><td>2</td><td>7 </td><td>1</td><td>7200108</td><td>1</td><td>-8</td><td>NA</td><td>0</td><td>CR</td><td>⋯</td><td>0</td><td>0</td><td>0</td><td>0</td><td>1</td><td>0</td><td>MASTER</td><td>0</td><td>2012-03-21</td><td>2099</td></tr>\n",
       "\t<tr><th scope=row>14369</th><td>2019</td><td>2</td><td>7 </td><td>1</td><td>9300644</td><td>1</td><td>-8</td><td>NA</td><td>0</td><td>CR</td><td>⋯</td><td>0</td><td>0</td><td>0</td><td>0</td><td>1</td><td>1</td><td>MASTER</td><td>0</td><td>2012-03-21</td><td>2099</td></tr>\n",
       "\t<tr><th scope=row>14541</th><td>2019</td><td>2</td><td>7 </td><td>1</td><td>9200790</td><td>1</td><td>-8</td><td>NA</td><td>0</td><td>CR</td><td>⋯</td><td>0</td><td>0</td><td>0</td><td>0</td><td>1</td><td>1</td><td>MASTER</td><td>0</td><td>2012-03-21</td><td>2099</td></tr>\n",
       "\t<tr><th scope=row>14577</th><td>2019</td><td>2</td><td>7 </td><td>1</td><td>9600850</td><td>1</td><td>-8</td><td>NA</td><td>0</td><td>CR</td><td>⋯</td><td>0</td><td>0</td><td>0</td><td>0</td><td>1</td><td>1</td><td>MASTER</td><td>0</td><td>2012-03-21</td><td>2099</td></tr>\n",
       "\t<tr><th scope=row>14784</th><td>2019</td><td>2</td><td>7 </td><td>1</td><td>9800475</td><td>1</td><td>-8</td><td>NA</td><td>0</td><td>CR</td><td>⋯</td><td>0</td><td>0</td><td>0</td><td>0</td><td>1</td><td>1</td><td>MASTER</td><td>0</td><td>2012-03-21</td><td>2099</td></tr>\n",
       "\t<tr><th scope=row>16047</th><td>2019</td><td>2</td><td>7 </td><td>9</td><td>9900804</td><td>1</td><td>-8</td><td>NA</td><td>0</td><td>CR</td><td>⋯</td><td>0</td><td>0</td><td>0</td><td>0</td><td>1</td><td>1</td><td>MASTER</td><td>0</td><td>2012-03-21</td><td>2099</td></tr>\n",
       "\t<tr><th scope=row>19978</th><td>2019</td><td>2</td><td>8 </td><td>1</td><td>1800881</td><td>1</td><td> 1</td><td>NA</td><td>0</td><td>CR</td><td>⋯</td><td>1</td><td>1</td><td>1</td><td>0</td><td>0</td><td>0</td><td>CMECF </td><td>1</td><td>2019-05-06</td><td>2019</td></tr>\n",
       "\t<tr><th scope=row>21406</th><td>2019</td><td>2</td><td>8 </td><td>1</td><td>8600298</td><td>1</td><td>-8</td><td>NA</td><td>0</td><td>CR</td><td>⋯</td><td>0</td><td>0</td><td>0</td><td>0</td><td>1</td><td>1</td><td>MASTER</td><td>0</td><td>2012-03-21</td><td>2099</td></tr>\n",
       "\t<tr><th scope=row>21433</th><td>2019</td><td>2</td><td>8 </td><td>1</td><td>8901002</td><td>1</td><td>-8</td><td>NA</td><td>0</td><td>CR</td><td>⋯</td><td>0</td><td>0</td><td>0</td><td>0</td><td>1</td><td>1</td><td>MASTER</td><td>0</td><td>2012-03-21</td><td>2099</td></tr>\n",
       "\t<tr><th scope=row>21511</th><td>2019</td><td>2</td><td>8 </td><td>1</td><td>8700242</td><td>1</td><td>-8</td><td>NA</td><td>0</td><td>CR</td><td>⋯</td><td>0</td><td>0</td><td>0</td><td>0</td><td>1</td><td>1</td><td>MASTER</td><td>0</td><td>2012-03-21</td><td>2099</td></tr>\n",
       "\t<tr><th scope=row>23819</th><td>2019</td><td>2</td><td>8 </td><td>7</td><td>1606266</td><td>1</td><td> 1</td><td>NA</td><td>0</td><td>MJ</td><td>⋯</td><td>0</td><td>0</td><td>0</td><td>0</td><td>1</td><td>1</td><td>CMECF </td><td>0</td><td>2017-01-28</td><td>2099</td></tr>\n",
       "\t<tr><th scope=row>23821</th><td>2019</td><td>2</td><td>8 </td><td>7</td><td>1606268</td><td>1</td><td> 1</td><td>NA</td><td>0</td><td>MJ</td><td>⋯</td><td>0</td><td>0</td><td>0</td><td>0</td><td>1</td><td>1</td><td>CMECF </td><td>0</td><td>2017-01-28</td><td>2099</td></tr>\n",
       "\t<tr><th scope=row>24069</th><td>2019</td><td>2</td><td>8 </td><td>7</td><td>1700448</td><td>1</td><td> 1</td><td>NA</td><td>0</td><td>MJ</td><td>⋯</td><td>0</td><td>0</td><td>0</td><td>0</td><td>1</td><td>1</td><td>CMECF </td><td>1</td><td>2019-01-07</td><td>2099</td></tr>\n",
       "\t<tr><th scope=row>24070</th><td>2019</td><td>2</td><td>8 </td><td>7</td><td>1700449</td><td>1</td><td> 1</td><td>NA</td><td>0</td><td>MJ</td><td>⋯</td><td>0</td><td>0</td><td>0</td><td>0</td><td>1</td><td>1</td><td>CMECF </td><td>1</td><td>2019-01-07</td><td>2099</td></tr>\n",
       "\t<tr><th scope=row>24071</th><td>2019</td><td>2</td><td>8 </td><td>7</td><td>1700451</td><td>1</td><td> 1</td><td>NA</td><td>0</td><td>MJ</td><td>⋯</td><td>0</td><td>0</td><td>0</td><td>0</td><td>1</td><td>1</td><td>CMECF </td><td>0</td><td>2017-03-09</td><td>2099</td></tr>\n",
       "\t<tr><th scope=row>24152</th><td>2019</td><td>2</td><td>8 </td><td>7</td><td>1701341</td><td>1</td><td> 1</td><td>NA</td><td>0</td><td>MJ</td><td>⋯</td><td>0</td><td>0</td><td>0</td><td>0</td><td>1</td><td>1</td><td>CMECF </td><td>0</td><td>2017-03-09</td><td>2099</td></tr>\n",
       "\t<tr><th scope=row>24153</th><td>2019</td><td>2</td><td>8 </td><td>7</td><td>1702127</td><td>1</td><td> 1</td><td>NA</td><td>0</td><td>MJ</td><td>⋯</td><td>0</td><td>0</td><td>0</td><td>0</td><td>1</td><td>1</td><td>CMECF </td><td>1</td><td>2018-11-08</td><td>2099</td></tr>\n",
       "\t<tr><th scope=row>24154</th><td>2019</td><td>2</td><td>8 </td><td>7</td><td>1702128</td><td>1</td><td> 1</td><td>NA</td><td>0</td><td>MJ</td><td>⋯</td><td>0</td><td>0</td><td>0</td><td>0</td><td>1</td><td>1</td><td>CMECF </td><td>0</td><td>2017-05-08</td><td>2099</td></tr>\n",
       "\t<tr><th scope=row>24414</th><td>2019</td><td>2</td><td>8 </td><td>7</td><td>9000490</td><td>1</td><td>-8</td><td>NA</td><td>0</td><td>CR</td><td>⋯</td><td>0</td><td>0</td><td>0</td><td>0</td><td>1</td><td>1</td><td>MASTER</td><td>0</td><td>2012-03-21</td><td>2099</td></tr>\n",
       "\t<tr><th scope=row>24519</th><td>2019</td><td>2</td><td>8 </td><td>7</td><td>9500905</td><td>1</td><td>-8</td><td>NA</td><td>0</td><td>CR</td><td>⋯</td><td>0</td><td>0</td><td>0</td><td>0</td><td>1</td><td>1</td><td>MASTER</td><td>0</td><td>2012-03-21</td><td>2099</td></tr>\n",
       "\t<tr><th scope=row>⋮</th><td>⋮</td><td>⋮</td><td>⋮</td><td>⋮</td><td>⋮</td><td>⋮</td><td>⋮</td><td>⋮</td><td>⋮</td><td>⋮</td><td>⋱</td><td>⋮</td><td>⋮</td><td>⋮</td><td>⋮</td><td>⋮</td><td>⋮</td><td>⋮</td><td>⋮</td><td>⋮</td><td>⋮</td></tr>\n",
       "\t<tr><th scope=row>200462</th><td>2019</td><td>11</td><td>3E</td><td>2</td><td>9900009</td><td>1</td><td>-8</td><td>NA</td><td>0</td><td>MJ</td><td>⋯</td><td>0</td><td>0</td><td>0</td><td>0</td><td>1</td><td>1</td><td>MASTER</td><td>0</td><td>2012-03-21</td><td>2099</td></tr>\n",
       "\t<tr><th scope=row>200714</th><td>2019</td><td>11</td><td>3G</td><td>1</td><td>1900006</td><td>2</td><td> 2</td><td>NA</td><td>0</td><td>CR</td><td>⋯</td><td>0</td><td>0</td><td>0</td><td>0</td><td>1</td><td>1</td><td>CMECF </td><td>1</td><td>2019-04-01</td><td>2099</td></tr>\n",
       "\t<tr><th scope=row>201051</th><td>2019</td><td>11</td><td>3G</td><td>4</td><td>1800006</td><td>1</td><td> 1</td><td>NA</td><td>0</td><td>MJ</td><td>⋯</td><td>1</td><td>1</td><td>1</td><td>0</td><td>0</td><td>0</td><td>CMECF </td><td>1</td><td>2019-01-23</td><td>2019</td></tr>\n",
       "\t<tr><th scope=row>201208</th><td>2019</td><td>11</td><td>3G</td><td>5</td><td>1300716</td><td>1</td><td> 1</td><td>NA</td><td>0</td><td>MJ</td><td>⋯</td><td>0</td><td>0</td><td>0</td><td>0</td><td>1</td><td>1</td><td>CMECF </td><td>0</td><td>2013-08-01</td><td>2099</td></tr>\n",
       "\t<tr><th scope=row>201209</th><td>2019</td><td>11</td><td>3G</td><td>5</td><td>1300717</td><td>1</td><td> 1</td><td>NA</td><td>0</td><td>MJ</td><td>⋯</td><td>0</td><td>0</td><td>0</td><td>0</td><td>1</td><td>1</td><td>CMECF </td><td>0</td><td>2013-08-01</td><td>2099</td></tr>\n",
       "\t<tr><th scope=row>201213</th><td>2019</td><td>11</td><td>3G</td><td>5</td><td>1300812</td><td>1</td><td> 1</td><td>NA</td><td>0</td><td>MJ</td><td>⋯</td><td>0</td><td>0</td><td>0</td><td>0</td><td>1</td><td>1</td><td>CMECF </td><td>0</td><td>2013-09-11</td><td>2099</td></tr>\n",
       "\t<tr><th scope=row>201231</th><td>2019</td><td>11</td><td>3G</td><td>5</td><td>1400032</td><td>1</td><td> 1</td><td>NA</td><td>0</td><td>MJ</td><td>⋯</td><td>0</td><td>0</td><td>0</td><td>0</td><td>1</td><td>1</td><td>CMECF </td><td>0</td><td>2014-04-04</td><td>2099</td></tr>\n",
       "\t<tr><th scope=row>201242</th><td>2019</td><td>11</td><td>3G</td><td>5</td><td>1400070</td><td>2</td><td> 2</td><td>NA</td><td>0</td><td>MJ</td><td>⋯</td><td>0</td><td>0</td><td>0</td><td>0</td><td>1</td><td>1</td><td>CMECF </td><td>1</td><td>2014-09-03</td><td>2099</td></tr>\n",
       "\t<tr><th scope=row>201310</th><td>2019</td><td>11</td><td>3G</td><td>4</td><td>1900059</td><td>1</td><td> 1</td><td>NA</td><td>0</td><td>MJ</td><td>⋯</td><td>0</td><td>0</td><td>0</td><td>0</td><td>1</td><td>1</td><td>CMECF </td><td>0</td><td>2019-06-11</td><td>2099</td></tr>\n",
       "\t<tr><th scope=row>201410</th><td>2019</td><td>11</td><td>3G</td><td>5</td><td>1800035</td><td>1</td><td> 1</td><td>NA</td><td>0</td><td>MJ</td><td>⋯</td><td>1</td><td>1</td><td>1</td><td>0</td><td>0</td><td>0</td><td>CMECF </td><td>2</td><td>2018-11-06</td><td>2019</td></tr>\n",
       "\t<tr><th scope=row>201536</th><td>2019</td><td>11</td><td>3G</td><td>5</td><td>1700090</td><td>1</td><td> 1</td><td>NA</td><td>0</td><td>MJ</td><td>⋯</td><td>0</td><td>0</td><td>0</td><td>0</td><td>1</td><td>1</td><td>CMECF </td><td>0</td><td>2017-11-02</td><td>2099</td></tr>\n",
       "\t<tr><th scope=row>201884</th><td>2019</td><td>11</td><td>3J</td><td>1</td><td>1000187</td><td>1</td><td> 1</td><td>NA</td><td>0</td><td>CR</td><td>⋯</td><td>0</td><td>0</td><td>0</td><td>0</td><td>1</td><td>1</td><td>MASTER</td><td>0</td><td>2012-03-21</td><td>2099</td></tr>\n",
       "\t<tr><th scope=row>202098</th><td>2019</td><td>11</td><td>3J</td><td>4</td><td>     16</td><td>1</td><td>-8</td><td>NA</td><td>0</td><td>CR</td><td>⋯</td><td>0</td><td>0</td><td>0</td><td>0</td><td>1</td><td>1</td><td>MASTER</td><td>0</td><td>2012-03-21</td><td>2099</td></tr>\n",
       "\t<tr><th scope=row>202129</th><td>2019</td><td>11</td><td>3J</td><td>4</td><td> 100382</td><td>1</td><td> 1</td><td>NA</td><td>0</td><td>CR</td><td>⋯</td><td>0</td><td>0</td><td>0</td><td>0</td><td>1</td><td>1</td><td>MASTER</td><td>0</td><td>2012-03-21</td><td>2099</td></tr>\n",
       "\t<tr><th scope=row>202279</th><td>2019</td><td>11</td><td>3J</td><td>4</td><td>1400429</td><td>1</td><td> 1</td><td>NA</td><td>0</td><td>CR</td><td>⋯</td><td>0</td><td>0</td><td>0</td><td>0</td><td>1</td><td>1</td><td>CMECF </td><td>1</td><td>2015-05-06</td><td>2099</td></tr>\n",
       "\t<tr><th scope=row>202280</th><td>2019</td><td>11</td><td>3J</td><td>4</td><td>1400429</td><td>2</td><td> 2</td><td>NA</td><td>0</td><td>CR</td><td>⋯</td><td>0</td><td>0</td><td>0</td><td>0</td><td>1</td><td>1</td><td>CMECF </td><td>1</td><td>2015-05-06</td><td>2099</td></tr>\n",
       "\t<tr><th scope=row>202281</th><td>2019</td><td>11</td><td>3J</td><td>4</td><td>1400429</td><td>3</td><td> 3</td><td>NA</td><td>0</td><td>CR</td><td>⋯</td><td>0</td><td>0</td><td>0</td><td>0</td><td>1</td><td>1</td><td>CMECF </td><td>1</td><td>2015-05-06</td><td>2099</td></tr>\n",
       "\t<tr><th scope=row>202289</th><td>2019</td><td>11</td><td>3J</td><td>4</td><td>1600198</td><td>1</td><td> 1</td><td>NA</td><td>0</td><td>CR</td><td>⋯</td><td>0</td><td>0</td><td>0</td><td>0</td><td>1</td><td>1</td><td>CMECF </td><td>1</td><td>2017-03-09</td><td>2099</td></tr>\n",
       "\t<tr><th scope=row>202293</th><td>2019</td><td>11</td><td>3J</td><td>4</td><td>1600374</td><td>1</td><td> 1</td><td>NA</td><td>0</td><td>CR</td><td>⋯</td><td>0</td><td>0</td><td>0</td><td>0</td><td>1</td><td>1</td><td>CMECF </td><td>1</td><td>2017-05-03</td><td>2099</td></tr>\n",
       "\t<tr><th scope=row>202294</th><td>2019</td><td>11</td><td>3J</td><td>4</td><td>1600376</td><td>1</td><td> 1</td><td>NA</td><td>0</td><td>CR</td><td>⋯</td><td>0</td><td>0</td><td>0</td><td>0</td><td>1</td><td>1</td><td>CMECF </td><td>1</td><td>2017-06-13</td><td>2099</td></tr>\n",
       "\t<tr><th scope=row>202295</th><td>2019</td><td>11</td><td>3J</td><td>4</td><td>1600392</td><td>1</td><td> 1</td><td>NA</td><td>0</td><td>CR</td><td>⋯</td><td>0</td><td>0</td><td>0</td><td>0</td><td>1</td><td>1</td><td>CMECF </td><td>0</td><td>2017-01-28</td><td>2099</td></tr>\n",
       "\t<tr><th scope=row>202296</th><td>2019</td><td>11</td><td>3J</td><td>4</td><td>1600393</td><td>1</td><td> 1</td><td>NA</td><td>0</td><td>CR</td><td>⋯</td><td>0</td><td>0</td><td>0</td><td>0</td><td>1</td><td>1</td><td>CMECF </td><td>1</td><td>2017-03-09</td><td>2099</td></tr>\n",
       "\t<tr><th scope=row>202299</th><td>2019</td><td>11</td><td>3J</td><td>4</td><td>1700028</td><td>1</td><td> 1</td><td>NA</td><td>0</td><td>CR</td><td>⋯</td><td>0</td><td>0</td><td>0</td><td>0</td><td>1</td><td>1</td><td>CMECF </td><td>1</td><td>2017-06-13</td><td>2099</td></tr>\n",
       "\t<tr><th scope=row>202319</th><td>2019</td><td>11</td><td>3J</td><td>4</td><td> 400067</td><td>1</td><td>-8</td><td>NA</td><td>0</td><td>CR</td><td>⋯</td><td>0</td><td>0</td><td>0</td><td>0</td><td>1</td><td>1</td><td>MASTER</td><td>0</td><td>2012-03-21</td><td>2099</td></tr>\n",
       "\t<tr><th scope=row>202344</th><td>2019</td><td>11</td><td>3J</td><td>4</td><td> 500202</td><td>1</td><td> 1</td><td>NA</td><td>0</td><td>CR</td><td>⋯</td><td>0</td><td>0</td><td>0</td><td>0</td><td>1</td><td>1</td><td>MASTER</td><td>0</td><td>2012-03-21</td><td>2099</td></tr>\n",
       "\t<tr><th scope=row>202388</th><td>2019</td><td>11</td><td>3J</td><td>4</td><td>1100329</td><td>1</td><td> 1</td><td>NA</td><td>0</td><td>CR</td><td>⋯</td><td>0</td><td>0</td><td>0</td><td>0</td><td>1</td><td>1</td><td>CMECF </td><td>1</td><td>2012-03-23</td><td>2099</td></tr>\n",
       "\t<tr><th scope=row>202391</th><td>2019</td><td>11</td><td>3J</td><td>4</td><td>1100373</td><td>1</td><td> 1</td><td>NA</td><td>0</td><td>CR</td><td>⋯</td><td>0</td><td>0</td><td>0</td><td>0</td><td>1</td><td>1</td><td>CMECF </td><td>1</td><td>2012-03-23</td><td>2099</td></tr>\n",
       "\t<tr><th scope=row>202519</th><td>2019</td><td>11</td><td>3J</td><td>4</td><td>1700272</td><td>1</td><td> 1</td><td>NA</td><td>0</td><td>CR</td><td>⋯</td><td>1</td><td>1</td><td>1</td><td>0</td><td>0</td><td>0</td><td>CMECF </td><td>2</td><td>2019-04-11</td><td>2019</td></tr>\n",
       "\t<tr><th scope=row>202863</th><td>2019</td><td>11</td><td>3J</td><td>4</td><td>9800032</td><td>1</td><td>-8</td><td>NA</td><td>0</td><td>CR</td><td>⋯</td><td>0</td><td>0</td><td>0</td><td>0</td><td>1</td><td>1</td><td>MASTER</td><td>0</td><td>2012-03-21</td><td>2099</td></tr>\n",
       "\t<tr><th scope=row>202872</th><td>2019</td><td>11</td><td>3J</td><td>4</td><td>9900126</td><td>1</td><td>-8</td><td>NA</td><td>0</td><td>CR</td><td>⋯</td><td>0</td><td>0</td><td>0</td><td>0</td><td>1</td><td>1</td><td>MASTER</td><td>0</td><td>2012-03-21</td><td>2099</td></tr>\n",
       "</tbody>\n",
       "</table>\n"
      ],
      "text/latex": [
       "A data.frame: 2223 × 144\n",
       "\\begin{tabular}{r|llllllllllllllllllllllllllllllllllllllllllllllllllllllllllllllllllllllllllllllllllllllllllllllllllllllllllllllllllllllllllllllllllllllllllllllll}\n",
       "  & FISCALYR & CIRCUIT & DISTRICT & OFFICE & DOCKET & DEFNO & CTDEF & NAME & REOPSEQ & TYPEREG & TYPETRN & TYPEMAG & DEFLGKY & CASLGKY & MAGDOCK & MAGDEF & STATUSCD & FUGSTAT & FGSTRTDATE & FGENDDATE & FILEDATE & PROCDATE & PROCCD & APPDATE & APPCD & FJUDGE & FCOUNSEL & FTITLE1 & FOFFLVL1 & FOFFCD1 & D2FOFFCD1 & FSEV1 & FTITLE2 & FOFFLVL2 & FOFFCD2 & D2FOFFCD2 & FSEV2 & FTITLE3 & FOFFLVL3 & FOFFCD3 & D2FOFFCD3 & FSEV3 & FTITLE4 & FOFFLVL4 & FOFFCD4 & D2FOFFCD4 & FSEV4 & FTITLE5 & FOFFLVL5 & FOFFCD5 & D2FOFFCD5 & FSEV5 & COUNTY & TRANDIST & TRANOFF & TRANDOCK & TRANDEF & UPDATE & DISPDATE & SENTDATE & TERMDATE & INT1 & INT2 & INT3 & TERMOFF & TJUDGE & TCOUNSEL & TTITLE1 & TOFFLVL1 & TOFFCD1 & D2TOFFCD1 & TSEV1 & DISP1 & PRISTIM1 & PRISCD1 & PROBMON1 & PROBCD1 & SUPVREL1 & FINEAMT1 & TTITLE2 & TOFFLVL2 & TOFFCD2 & D2TOFFCD2 & TSEV2 & DISP2 & PRISTIM2 & PRISCD2 & PROBMON2 & PROBCD2 & SUPVREL2 & FINEAMT2 & TTITLE3 & TOFFLVL3 & TOFFCD3 & D2TOFFCD3 & TSEV3 & DISP3 & PRISTIM3 & PRISCD3 & PROBMON3 & PROBCD3 & SUPVREL3 & FINEAMT3 & TTITLE4 & TOFFLVL4 & TOFFCD4 & D2TOFFCD4 & TSEV4 & DISP4 & PRISTIM4 & PRISCD4 & PROBMON4 & PROBCD4 & SUPVREL4 & FINEAMT4 & TTITLE5 & TOFFLVL5 & TOFFCD5 & D2TOFFCD5 & TSEV5 & DISP5 & PRISTIM5 & PRISCD5 & PROBMON5 & PROBCD5 & SUPVREL5 & FINEAMT5 & PRISTOT & PROBTOT & FINETOT & CTFILTRN & CTFIL & CTFILWOR & CTFILR & CTTRTRN & CTTR & CTTRWOR & CTTRR & CTPN & CTPNWOF & SOURCE & VER & LOADDATE & TAPEYEAR\\\\\n",
       "  & <int> & <int> & <chr> & <chr> & <int> & <int> & <int> & <lgl> & <int> & <fct> & <fct> & <fct> & <fct> & <fct> & <fct> & <int> & <fct> & <fct> & <fct> & <fct> & <fct> & <fct> & <int> & <fct> & <fct> & <lgl> & <int> & <fct> & <int> & <int> & <int> & <fct> & <fct> & <int> & <int> & <int> & <fct> & <fct> & <int> & <int> & <int> & <fct> & <fct> & <int> & <int> & <int> & <fct> & <fct> & <int> & <int> & <int> & <fct> & <int> & <chr> & <int> & <int> & <int> & <fct> & <fct> & <fct> & <fct> & <int> & <int> & <int> & <chr> & <lgl> & <int> & <fct> & <int> & <int> & <int> & <fct> & <int> & <int> & <fct> & <int> & <fct> & <int> & <int> & <fct> & <int> & <int> & <int> & <fct> & <int> & <int> & <fct> & <int> & <fct> & <int> & <int> & <fct> & <int> & <int> & <int> & <fct> & <int> & <int> & <fct> & <int> & <fct> & <int> & <int> & <fct> & <int> & <int> & <int> & <fct> & <int> & <int> & <fct> & <int> & <fct> & <int> & <int> & <fct> & <int> & <int> & <int> & <fct> & <int> & <int> & <fct> & <int> & <fct> & <int> & <int> & <int> & <int> & <int> & <int> & <int> & <int> & <int> & <int> & <int> & <int> & <int> & <int> & <int> & <fct> & <int> & <fct> & <int>\\\\\n",
       "\\hline\n",
       "\t1729 & 2019 & 0 & 90 & 1 & 9100227 & 1 & -8 & NA & 0 & CR & -8 & MJ & 009019100227CR0010 & 009019100227CR0 & 9100310 &  2 & E & Z & 1900-01-01 & 1900-01-01 & 1991-04-12 & 1991-04-12 &  2 & 1991-04-12 & 1  & NA & 0 & 21.844A-AMPA & 3 & 6504 & 6504 & C30 & -8           & -8 &   -8 &   -8 & -8  & -8           & -8 &   -8 &   -8 & -8  & -8           & -8 &   -8 &   -8 & -8  & -8           & -8 &   -8 &   -8 & -8  & 66666 & -8 & -8 & -8 & -8 & 1993-10-05 & 1900-01-01 & 1900-01-01 & 1900-01-01 &  0 &   0 &   0 & -8 & NA & -8 & -8           & -8 &   -8 &   -8 & -8  & -8 &  0 & -8   &  0 & -8   &  0 &     0 & -8 & -8 & -8 & -8 & -8 & -8 &  0 & -8 &  0 & -8 &  0 &  0 & -8 & -8 & -8 & -8 & -8 & -8 &  0 & -8 &  0 & -8 &  0 &  0 & -8 & -8 & -8 & -8 & -8 & -8 &  0 & -8 &  0 & -8 &  0 &  0 & -8 & -8 & -8 & -8 & -8 & -8 &  0 & -8 &  0 & -8 &  0 &  0 &  0 &  0 &     0 & 0 & 0 & 0 & 0 & 0 & 0 & 0 & 0 & 1 & 0 & MASTER & 0 & 2012-03-21 & 2099\\\\\n",
       "\t2026 & 2019 & 0 & 90 & 1 & 9700293 & 2 & -8 & NA & 0 & CR & -8 & -8 & 009019700293CR0020 & 009019700293CR0 & -8      & -8 & E & Z & 1900-01-01 & 1900-01-01 & 1997-07-17 & 1997-07-17 &  1 & 1900-01-01 & -8 & NA & 0 & 21:844A=MP.F & 4 & 6504 & 6504 & 137 & -8           & -8 &   -8 &   -8 & -8  & -8           & -8 &   -8 &   -8 & -8  & -8           & -8 &   -8 &   -8 & -8  & -8           & -8 &   -8 &   -8 & -8  & 11001 & -8 & -8 & -8 & -8 & 2006-11-11 & 1900-01-01 & 1900-01-01 & 1900-01-01 &  0 &   0 &   0 & -8 & NA & -8 & -8           & -8 &   -8 &   -8 & -8  & -8 &  0 & -8   &  0 & -8   &  0 &     0 & -8 & -8 & -8 & -8 & -8 & -8 &  0 & -8 &  0 & -8 &  0 &  0 & -8 & -8 & -8 & -8 & -8 & -8 &  0 & -8 &  0 & -8 &  0 &  0 & -8 & -8 & -8 & -8 & -8 & -8 &  0 & -8 &  0 & -8 &  0 &  0 & -8 & -8 & -8 & -8 & -8 & -8 &  0 & -8 &  0 & -8 &  0 &  0 &  0 &  0 &     0 & 0 & 0 & 0 & 0 & 0 & 0 & 0 & 0 & 1 & 0 & MASTER & 0 & 2012-03-21 & 2099\\\\\n",
       "\t9874 & 2019 & 2 & 6  & 1 &     503 & 1 & -8 & NA & 0 & CR & -8 & MJ & 020610000503CR0010 & 020610000503CR0 & 9700515 &  1 & E & N & 1900-01-01 & 1900-01-01 & 2000-10-16 & 2000-10-16 &  2 & 1997-11-13 & A  & NA & 0 & 21:844A=MP.M & 3 & 6504 & 6504 & C34 & -8           & -8 &   -8 &   -8 & -8  & -8           & -8 &   -8 &   -8 & -8  & -8           & -8 &   -8 &   -8 & -8  & -8           & -8 &   -8 &   -8 & -8  & 36083 & -8 & -8 & -8 & -8 & 2000-11-16 & 1900-01-01 & 1900-01-01 & 1900-01-01 &  0 &   0 &   0 & -8 & NA & -8 & -8           & -8 &   -8 &   -8 & -8  & -8 &  0 & -8   &  0 & -8   &  0 &     0 & -8 & -8 & -8 & -8 & -8 & -8 &  0 & -8 &  0 & -8 &  0 &  0 & -8 & -8 & -8 & -8 & -8 & -8 &  0 & -8 &  0 & -8 &  0 &  0 & -8 & -8 & -8 & -8 & -8 & -8 &  0 & -8 &  0 & -8 &  0 &  0 & -8 & -8 & -8 & -8 & -8 & -8 &  0 & -8 &  0 & -8 &  0 &  0 &  0 &  0 &     0 & 0 & 0 & 0 & 0 & 0 & 0 & 0 & 0 & 1 & 1 & MASTER & 0 & 2012-03-21 & 2099\\\\\n",
       "\t9985 & 2019 & 2 & 6  & 1 & 1000583 & 1 &  1 & NA & 0 & CR & -8 & -8 & 020611000583CR0010 & 020611000583CR0 & -8      & -8 & E & N & 2010-12-08 & 2011-01-05 & 2010-12-08 & 2010-12-08 & 26 & 2011-01-05 & 1  & NA & 0 & 21:846=MP.F  & 4 & 6504 & 6501 & 035 & -8           & -8 &   -8 &   -8 & -8  & -8           & -8 &   -8 &   -8 & -8  & -8           & -8 &   -8 &   -8 & -8  & -8           & -8 &   -8 &   -8 & -8  & 36091 & -8 & -8 & -8 & -8 & 2011-02-07 & 1900-01-01 & 1900-01-01 & 1900-01-01 &  0 &   0 &   0 & -8 & NA & -8 & -8           & -8 &   -8 &   -8 & -8  & -8 &  0 & -8   &  0 & -8   &  0 &     0 & -8 & -8 & -8 & -8 & -8 & -8 &  0 & -8 &  0 & -8 &  0 &  0 & -8 & -8 & -8 & -8 & -8 & -8 &  0 & -8 &  0 & -8 &  0 &  0 & -8 & -8 & -8 & -8 & -8 & -8 &  0 & -8 &  0 & -8 &  0 &  0 & -8 & -8 & -8 & -8 & -8 & -8 &  0 & -8 &  0 & -8 &  0 &  0 &  0 &  0 &     0 & 0 & 0 & 0 & 0 & 0 & 0 & 0 & 0 & 1 & 1 & MASTER & 0 & 2012-03-21 & 2099\\\\\n",
       "\t10806 & 2019 & 2 & 6  & 7 & 1900075 & 1 &  1 & NA & 0 & CR & -8 & -8 & 020671900075CR0010 & 020671900075CR0 & -8      & -8 & E & N & 2019-04-22 & 2019-05-07 & 2019-02-28 & 2019-02-28 &  2 & 2019-05-07 & 1  & NA & 1 & 21:844A=MP.M & 3 & 6504 & 6504 & C34 & 18:13-7990.M &  3 & 7990 & 7990 & C13 & 18:13-7990.M &  3 & 7990 & 7990 & C13 & 18:13-7990.M &  3 & 7990 & 7990 & C13 & 18:13-7990.M &  3 & 7990 & 7990 & C13 & 36045 & -8 & -8 & -8 & -8 & 1900-01-01 & 1900-01-01 & 1900-01-01 & 1900-01-01 & -8 &  -8 &  -8 & -8 & NA & -8 & -8           & -8 &   -8 &   -8 & -8  & -8 & -8 & -8   & -8 & -8   & -8 &    -8 & -8 & -8 & -8 & -8 & -8 & -8 & -8 & -8 & -8 & -8 & -8 & -8 & -8 & -8 & -8 & -8 & -8 & -8 & -8 & -8 & -8 & -8 & -8 & -8 & -8 & -8 & -8 & -8 & -8 & -8 & -8 & -8 & -8 & -8 & -8 & -8 & -8 & -8 & -8 & -8 & -8 & -8 & -8 & -8 & -8 & -8 & -8 & -8 & -8 & -8 &     0 & 1 & 1 & 1 & 0 & 0 & 0 & 0 & 0 & 1 & 1 & CMECF  & 2 & 2019-06-10 & 2099\\\\\n",
       "\t10941 & 2019 & 2 & 6  & 7 & 1800093 & 1 &  1 & NA & 0 & CR & -8 & -8 & 020671800093CR0010 & 020671800093CR0 & -8      & -8 & J & N & 1900-01-01 & 1900-01-01 & 2018-03-26 & 2018-03-26 &  2 & 2018-04-10 & 1  & NA & 3 & 21:844A=MP.M & 3 & 6504 & 6504 & C34 & -8           & -8 &   -8 &   -8 & -8  & -8           & -8 &   -8 &   -8 & -8  & -8           & -8 &   -8 &   -8 & -8  & -8           & -8 &   -8 &   -8 & -8  & 36045 & -8 & -8 & -8 & -8 & 1900-01-01 & 2018-11-13 & 2018-11-13 & 2018-11-13 &  0 & 700 & 100 & 7  & NA &  1 & 18:13-7950.P &  1 & 7950 & 7950 & B12 &  4 &  0 & -8   &  0 & -8   &  0 &   200 & -8 & -8 & -8 & -8 & -8 & -8 & -8 & -8 & -8 & -8 & -8 & -8 & -8 & -8 & -8 & -8 & -8 & -8 & -8 & -8 & -8 & -8 & -8 & -8 & -8 & -8 & -8 & -8 & -8 & -8 & -8 & -8 & -8 & -8 & -8 & -8 & -8 & -8 & -8 & -8 & -8 & -8 & -8 & -8 & -8 & -8 & -8 & -8 &  0 &  0 &   200 & 0 & 0 & 0 & 0 & 1 & 1 & 1 & 0 & 0 & 0 & CMECF  & 2 & 2018-12-06 & 2019\\\\\n",
       "\t10942 & 2019 & 2 & 6  & 7 & 1800129 & 1 &  1 & NA & 0 & CR & -8 & -8 & 020671800129CR0010 & 020671800129CR0 & -8      & -8 & J & N & 1900-01-01 & 1900-01-01 & 2018-04-23 & 2018-04-23 &  2 & 2018-11-13 & 1  & NA & 3 & 21:844A=MP.M & 3 & 6504 & 6504 & C34 & -8           & -8 &   -8 &   -8 & -8  & -8           & -8 &   -8 &   -8 & -8  & -8           & -8 &   -8 &   -8 & -8  & -8           & -8 &   -8 &   -8 & -8  & 36045 & -8 & -8 & -8 & -8 & 1900-01-01 & 2018-11-13 & 2018-11-13 & 2018-11-13 &  0 &   0 & 100 & 7  & NA &  6 & 18:13-7950.P &  1 & 7950 & 7950 & B12 &  4 &  0 & -8   &  0 & -8   &  0 &   250 & -8 & -8 & -8 & -8 & -8 & -8 & -8 & -8 & -8 & -8 & -8 & -8 & -8 & -8 & -8 & -8 & -8 & -8 & -8 & -8 & -8 & -8 & -8 & -8 & -8 & -8 & -8 & -8 & -8 & -8 & -8 & -8 & -8 & -8 & -8 & -8 & -8 & -8 & -8 & -8 & -8 & -8 & -8 & -8 & -8 & -8 & -8 & -8 &  0 &  0 &   250 & 0 & 0 & 0 & 0 & 1 & 1 & 1 & 0 & 0 & 0 & CMECF  & 1 & 2018-12-06 & 2019\\\\\n",
       "\t10944 & 2019 & 2 & 6  & 7 & 1800160 & 1 &  1 & NA & 0 & CR & -8 & -8 & 020671800160CR0010 & 020671800160CR0 & -8      & -8 & J & N & 1900-01-01 & 1900-01-01 & 2018-05-14 & 2018-05-14 &  2 & 2018-10-16 & 1  & NA & 3 & 21:844A=MP.M & 3 & 6504 & 6504 & C34 & 18:13-7950.P &  1 & 7950 & 7950 & B12 & -8           & -8 &   -8 &   -8 & -8  & -8           & -8 &   -8 &   -8 & -8  & -8           & -8 &   -8 &   -8 & -8  & 36045 & -8 & -8 & -8 & -8 & 1900-01-01 & 2018-10-16 & 2018-10-16 & 2018-10-16 &  0 &   0 & 100 & 7  & NA &  1 & 18:13-7950.P &  1 & 7950 & 7950 & B12 &  4 &  0 & -8   &  6 & M001 &  0 &   150 & -8 & -8 & -8 & -8 & -8 & -8 & -8 & -8 & -8 & -8 & -8 & -8 & -8 & -8 & -8 & -8 & -8 & -8 & -8 & -8 & -8 & -8 & -8 & -8 & -8 & -8 & -8 & -8 & -8 & -8 & -8 & -8 & -8 & -8 & -8 & -8 & -8 & -8 & -8 & -8 & -8 & -8 & -8 & -8 & -8 & -8 & -8 & -8 &  0 &  6 &   150 & 0 & 0 & 0 & 0 & 1 & 1 & 1 & 0 & 0 & 0 & CMECF  & 2 & 2018-12-06 & 2019\\\\\n",
       "\t10967 & 2019 & 2 & 6  & 7 & 1800371 & 1 &  1 & NA & 0 & CR & -8 & -8 & 020671800371CR0010 & 020671800371CR0 & -8      & -8 & J & N & 1900-01-01 & 1900-01-01 & 2018-11-06 & 2018-11-06 &  2 & 1900-01-01 & -8 & NA & 3 & 21:844A=MP.M & 3 & 6504 & 6504 & C34 & -8           & -8 &   -8 &   -8 & -8  & -8           & -8 &   -8 &   -8 & -8  & -8           & -8 &   -8 &   -8 & -8  & -8           & -8 &   -8 &   -8 & -8  & 36045 & -8 & -8 & -8 & -8 & 1900-01-01 & 2019-03-12 & 2019-03-12 & 2019-03-12 &  0 &   0 & 100 & 7  & NA &  1 & 18:13-7950.P &  1 & 7950 & 7950 & B12 &  4 &  0 & -8   &  0 & -8   &  0 &   100 & -8 & -8 & -8 & -8 & -8 & -8 & -8 & -8 & -8 & -8 & -8 & -8 & -8 & -8 & -8 & -8 & -8 & -8 & -8 & -8 & -8 & -8 & -8 & -8 & -8 & -8 & -8 & -8 & -8 & -8 & -8 & -8 & -8 & -8 & -8 & -8 & -8 & -8 & -8 & -8 & -8 & -8 & -8 & -8 & -8 & -8 & -8 & -8 &  0 &  0 &   100 & 1 & 1 & 1 & 0 & 1 & 1 & 1 & 0 & 0 & 0 & CMECF  & 1 & 2019-04-03 & 2019\\\\\n",
       "\t11490 & 2019 & 2 & 7  & 1 &  201047 & 1 &  1 & NA & 0 & CR & -8 & MJ & 020710201047CR0010 & 020710201047CR0 & 0201172 &  1 & E & N & 1900-01-01 & 1900-01-01 & 2002-09-05 & 2002-09-19 & 25 & 2002-07-12 & A  & NA & 2 & 21:846=MP.F  & 4 & 6504 & 6501 & 035 & -8           & -8 &   -8 &   -8 & -8  & -8           & -8 &   -8 &   -8 & -8  & -8           & -8 &   -8 &   -8 & -8  & -8           & -8 &   -8 &   -8 & -8  & 36047 & -8 & -8 & -8 & -8 & 2005-03-11 & 1900-01-01 & 1900-01-01 & 1900-01-01 &  0 &   0 &   0 & -8 & NA & -8 & -8           & -8 &   -8 &   -8 & -8  & -8 &  0 & -8   &  0 & -8   &  0 &     0 & -8 & -8 & -8 & -8 & -8 & -8 &  0 & -8 &  0 & -8 &  0 &  0 & -8 & -8 & -8 & -8 & -8 & -8 &  0 & -8 &  0 & -8 &  0 &  0 & -8 & -8 & -8 & -8 & -8 & -8 &  0 & -8 &  0 & -8 &  0 &  0 & -8 & -8 & -8 & -8 & -8 & -8 &  0 & -8 &  0 & -8 &  0 &  0 &  0 &  0 &     0 & 0 & 0 & 0 & 0 & 0 & 0 & 0 & 0 & 1 & 1 & MASTER & 0 & 2012-03-21 & 2099\\\\\n",
       "\t13700 & 2019 & 2 & 7  & 1 & 7200108 & 1 & -8 & NA & 0 & CR & -8 & -8 & 020717200108CR0010 & 020717200108CR0 & -8      & -8 & E & Z & 1900-01-01 & 1900-01-01 & 1972-01-01 & 1972-01-01 &  1 & 1900-01-01 & -8 & NA & 0 & 21.963-MP    & 4 & 6504 & 6504 & 437 & -8           & -8 &   -8 &   -8 & -8  & -8           & -8 &   -8 &   -8 & -8  & -8           & -8 &   -8 &   -8 & -8  & -8           & -8 &   -8 &   -8 & -8  & 88888 & -8 & -8 & -8 & -8 & 1996-08-19 & 1900-01-01 & 1900-01-01 & 1900-01-01 &  0 &   0 &   0 & -8 & NA & -8 & -8           & -8 &   -8 &   -8 & -8  & -8 &  0 & -8   &  0 & -8   &  0 &     0 & -8 & -8 & -8 & -8 & -8 & -8 &  0 & -8 &  0 & -8 &  0 &  0 & -8 & -8 & -8 & -8 & -8 & -8 &  0 & -8 &  0 & -8 &  0 &  0 & -8 & -8 & -8 & -8 & -8 & -8 &  0 & -8 &  0 & -8 &  0 &  0 & -8 & -8 & -8 & -8 & -8 & -8 &  0 & -8 &  0 & -8 &  0 &  0 &  0 &  0 &     0 & 0 & 0 & 0 & 0 & 0 & 0 & 0 & 0 & 1 & 0 & MASTER & 0 & 2012-03-21 & 2099\\\\\n",
       "\t14369 & 2019 & 2 & 7  & 1 & 9300644 & 1 & -8 & NA & 0 & CR & -8 & MJ & 020719300644CR0010 & 020719300644CR0 & 9300944 &  1 & E & N & 1900-01-01 & 1900-01-01 & 1993-06-09 & 1993-06-09 &  2 & 1993-05-12 & D  & NA & 1 & 21.844A-AMP  & 3 & 6504 & 6504 & C34 & -8           & -8 &   -8 &   -8 & -8  & -8           & -8 &   -8 &   -8 & -8  & -8           & -8 &   -8 &   -8 & -8  & -8           & -8 &   -8 &   -8 & -8  & 36081 & -8 & -8 & -8 & -8 & 1996-08-19 & 1900-01-01 & 1900-01-01 & 1900-01-01 &  0 &   0 &   0 & -8 & NA & -8 & -8           & -8 &   -8 &   -8 & -8  & -8 &  0 & -8   &  0 & -8   &  0 &     0 & -8 & -8 & -8 & -8 & -8 & -8 &  0 & -8 &  0 & -8 &  0 &  0 & -8 & -8 & -8 & -8 & -8 & -8 &  0 & -8 &  0 & -8 &  0 &  0 & -8 & -8 & -8 & -8 & -8 & -8 &  0 & -8 &  0 & -8 &  0 &  0 & -8 & -8 & -8 & -8 & -8 & -8 &  0 & -8 &  0 & -8 &  0 &  0 &  0 &  0 &     0 & 0 & 0 & 0 & 0 & 0 & 0 & 0 & 0 & 1 & 1 & MASTER & 0 & 2012-03-21 & 2099\\\\\n",
       "\t14541 & 2019 & 2 & 7  & 1 & 9200790 & 1 & -8 & NA & 0 & CR & -8 & -8 & 020719200790CR0010 & 020719200790CR0 & -8      & -8 & E & N & 1900-01-01 & 1900-01-01 & 1992-07-13 & 1992-07-13 &  2 & 1992-06-27 & D  & NA & 0 & 21:844A=MP.M & 3 & 6504 & 6504 & C34 & -8           & -8 &   -8 &   -8 & -8  & -8           & -8 &   -8 &   -8 & -8  & -8           & -8 &   -8 &   -8 & -8  & -8           & -8 &   -8 &   -8 & -8  & 36047 & -8 & -8 & -8 & -8 & 1998-07-07 & 1900-01-01 & 1900-01-01 & 1900-01-01 &  0 &   0 &   0 & -8 & NA & -8 & -8           & -8 &   -8 &   -8 & -8  & -8 &  0 & -8   &  0 & -8   &  0 &     0 & -8 & -8 & -8 & -8 & -8 & -8 &  0 & -8 &  0 & -8 &  0 &  0 & -8 & -8 & -8 & -8 & -8 & -8 &  0 & -8 &  0 & -8 &  0 &  0 & -8 & -8 & -8 & -8 & -8 & -8 &  0 & -8 &  0 & -8 &  0 &  0 & -8 & -8 & -8 & -8 & -8 & -8 &  0 & -8 &  0 & -8 &  0 &  0 &  0 &  0 &     0 & 0 & 0 & 0 & 0 & 0 & 0 & 0 & 0 & 1 & 1 & MASTER & 0 & 2012-03-21 & 2099\\\\\n",
       "\t14577 & 2019 & 2 & 7  & 1 & 9600850 & 1 & -8 & NA & 0 & CR & -8 & -8 & 020719600850CR0010 & 020719600850CR0 & -8      & -8 & E & N & 1900-01-01 & 1900-01-01 & 1996-09-23 & 1996-09-23 &  8 & 1900-01-01 & -8 & NA & 0 & 21:844A=MP.F & 4 & 6504 & 6504 & 137 & -8           & -8 &   -8 &   -8 & -8  & -8           & -8 &   -8 &   -8 & -8  & -8           & -8 &   -8 &   -8 & -8  & -8           & -8 &   -8 &   -8 & -8  & 36047 & -8 & -8 & -8 & -8 & 1996-12-09 & 1900-01-01 & 1900-01-01 & 1900-01-01 &  0 &   0 &   0 & -8 & NA & -8 & -8           & -8 &   -8 &   -8 & -8  & -8 &  0 & -8   &  0 & -8   &  0 &     0 & -8 & -8 & -8 & -8 & -8 & -8 &  0 & -8 &  0 & -8 &  0 &  0 & -8 & -8 & -8 & -8 & -8 & -8 &  0 & -8 &  0 & -8 &  0 &  0 & -8 & -8 & -8 & -8 & -8 & -8 &  0 & -8 &  0 & -8 &  0 &  0 & -8 & -8 & -8 & -8 & -8 & -8 &  0 & -8 &  0 & -8 &  0 &  0 &  0 &  0 &     0 & 0 & 0 & 0 & 0 & 0 & 0 & 0 & 0 & 1 & 1 & MASTER & 0 & 2012-03-21 & 2099\\\\\n",
       "\t14784 & 2019 & 2 & 7  & 1 & 9800475 & 1 & -8 & NA & 0 & CR & -8 & -8 & 020719800475CR0010 & 020719800475CR0 & -8      & -8 & E & N & 1900-01-01 & 1900-01-01 & 1998-05-05 & 1998-05-05 &  2 & 1900-01-01 & -8 & NA & 0 & 21:844A=MP.M & 3 & 6504 & 6504 & C34 & -8           & -8 &   -8 &   -8 & -8  & -8           & -8 &   -8 &   -8 & -8  & -8           & -8 &   -8 &   -8 & -8  & -8           & -8 &   -8 &   -8 & -8  & 36047 & -8 & -8 & -8 & -8 & 1998-06-08 & 1900-01-01 & 1900-01-01 & 1900-01-01 &  0 &   0 &   0 & -8 & NA & -8 & -8           & -8 &   -8 &   -8 & -8  & -8 &  0 & -8   &  0 & -8   &  0 &     0 & -8 & -8 & -8 & -8 & -8 & -8 &  0 & -8 &  0 & -8 &  0 &  0 & -8 & -8 & -8 & -8 & -8 & -8 &  0 & -8 &  0 & -8 &  0 &  0 & -8 & -8 & -8 & -8 & -8 & -8 &  0 & -8 &  0 & -8 &  0 &  0 & -8 & -8 & -8 & -8 & -8 & -8 &  0 & -8 &  0 & -8 &  0 &  0 &  0 &  0 &     0 & 0 & 0 & 0 & 0 & 0 & 0 & 0 & 0 & 1 & 1 & MASTER & 0 & 2012-03-21 & 2099\\\\\n",
       "\t16047 & 2019 & 2 & 7  & 9 & 9900804 & 1 & -8 & NA & 0 & CR & -8 & -8 & 020799900804CR0010 & 020799900804CR0 & -8      & -8 & E & N & 1900-01-01 & 1900-01-01 & 1999-08-30 & 1999-08-30 &  8 & 1900-01-01 & -8 & NA & 0 & 21:846=MP.F  & 4 & 6504 & 6501 & 035 & -8           & -8 &   -8 &   -8 & -8  & -8           & -8 &   -8 &   -8 & -8  & -8           & -8 &   -8 &   -8 & -8  & -8           & -8 &   -8 &   -8 & -8  & 36059 & -8 & -8 & -8 & -8 & 1999-09-15 & 1900-01-01 & 1900-01-01 & 1900-01-01 &  0 &   0 &   0 & -8 & NA & -8 & -8           & -8 &   -8 &   -8 & -8  & -8 &  0 & -8   &  0 & -8   &  0 &     0 & -8 & -8 & -8 & -8 & -8 & -8 &  0 & -8 &  0 & -8 &  0 &  0 & -8 & -8 & -8 & -8 & -8 & -8 &  0 & -8 &  0 & -8 &  0 &  0 & -8 & -8 & -8 & -8 & -8 & -8 &  0 & -8 &  0 & -8 &  0 &  0 & -8 & -8 & -8 & -8 & -8 & -8 &  0 & -8 &  0 & -8 &  0 &  0 &  0 &  0 &     0 & 0 & 0 & 0 & 0 & 0 & 0 & 0 & 0 & 1 & 1 & MASTER & 0 & 2012-03-21 & 2099\\\\\n",
       "\t19978 & 2019 & 2 & 8  & 1 & 1800881 & 1 &  1 & NA & 0 & CR & -8 & -8 & 020811800881CR0010 & 020811800881CR0 & -8      & -8 & J & N & 1900-01-01 & 1900-01-01 & 2018-12-13 & 2018-12-13 &  2 & 2018-12-13 & 1  & NA & 1 & 21:844A=MP.M & 3 & 6504 & 6504 & C34 & -8           & -8 &   -8 &   -8 & -8  & -8           & -8 &   -8 &   -8 & -8  & -8           & -8 &   -8 &   -8 & -8  & -8           & -8 &   -8 &   -8 & -8  & 36005 & -8 & -8 & -8 & -8 & 1900-01-01 & 2018-12-13 & 2019-04-25 & 2019-04-25 &  0 &   0 & 133 & 1  & NA &  1 & 21:844A=MP.M &  3 & 6504 & 6504 & C34 &  4 & -1 & M001 &  0 & -8   & 12 & 15000 & -8 & -8 & -8 & -8 & -8 & -8 & -8 & -8 & -8 & -8 & -8 & -8 & -8 & -8 & -8 & -8 & -8 & -8 & -8 & -8 & -8 & -8 & -8 & -8 & -8 & -8 & -8 & -8 & -8 & -8 & -8 & -8 & -8 & -8 & -8 & -8 & -8 & -8 & -8 & -8 & -8 & -8 & -8 & -8 & -8 & -8 & -8 & -8 & -1 & -8 & 15000 & 1 & 1 & 1 & 0 & 1 & 1 & 1 & 0 & 0 & 0 & CMECF  & 1 & 2019-05-06 & 2019\\\\\n",
       "\t21406 & 2019 & 2 & 8  & 1 & 8600298 & 1 & -8 & NA & 0 & CR & -8 & -8 & 020818600298CR0010 & 020818600298CR0 & -8      & -8 & E & N & 1900-01-01 & 1900-01-01 & 1986-04-04 & 1986-03-19 &  8 & 1986-04-04 & 2  & NA & 0 & 21.844A-MM   & 3 & 6504 & 6504 & C34 & -8           & -8 &   -8 &   -8 & -8  & -8           & -8 &   -8 &   -8 & -8  & -8           & -8 &   -8 &   -8 & -8  & -8           & -8 &   -8 &   -8 & -8  & 37049 & -8 & -8 & -8 & -8 & 1996-01-25 & 1900-01-01 & 1900-01-01 & 1900-01-01 &  0 &   0 &   0 & -8 & NA & -8 & -8           & -8 &   -8 &   -8 & -8  & -8 &  0 & -8   &  0 & -8   &  0 &     0 & -8 & -8 & -8 & -8 & -8 & -8 &  0 & -8 &  0 & -8 &  0 &  0 & -8 & -8 & -8 & -8 & -8 & -8 &  0 & -8 &  0 & -8 &  0 &  0 & -8 & -8 & -8 & -8 & -8 & -8 &  0 & -8 &  0 & -8 &  0 &  0 & -8 & -8 & -8 & -8 & -8 & -8 &  0 & -8 &  0 & -8 &  0 &  0 &  0 &  0 &     0 & 0 & 0 & 0 & 0 & 0 & 0 & 0 & 0 & 1 & 1 & MASTER & 0 & 2012-03-21 & 2099\\\\\n",
       "\t21433 & 2019 & 2 & 8  & 1 & 8901002 & 1 & -8 & NA & 0 & CR & -8 & -8 & 020818901002CR0010 & 020818901002CR0 & -8      & -8 & E & N & 1900-01-01 & 1900-01-01 & 1989-12-26 & 1989-12-26 &  2 & 1900-01-01 & -8 & NA & 0 & 21.844A-AMP  & 3 & 6504 & 6504 & C34 & -8           & -8 &   -8 &   -8 & -8  & -8           & -8 &   -8 &   -8 & -8  & -8           & -8 &   -8 &   -8 & -8  & -8           & -8 &   -8 &   -8 & -8  & 36061 & -8 & -8 & -8 & -8 & 1996-01-25 & 1900-01-01 & 1900-01-01 & 1900-01-01 &  0 &   0 &   0 & -8 & NA & -8 & -8           & -8 &   -8 &   -8 & -8  & -8 &  0 & -8   &  0 & -8   &  0 &     0 & -8 & -8 & -8 & -8 & -8 & -8 &  0 & -8 &  0 & -8 &  0 &  0 & -8 & -8 & -8 & -8 & -8 & -8 &  0 & -8 &  0 & -8 &  0 &  0 & -8 & -8 & -8 & -8 & -8 & -8 &  0 & -8 &  0 & -8 &  0 &  0 & -8 & -8 & -8 & -8 & -8 & -8 &  0 & -8 &  0 & -8 &  0 &  0 &  0 &  0 &     0 & 0 & 0 & 0 & 0 & 0 & 0 & 0 & 0 & 1 & 1 & MASTER & 0 & 2012-03-21 & 2099\\\\\n",
       "\t21511 & 2019 & 2 & 8  & 1 & 8700242 & 1 & -8 & NA & 0 & CR & -8 & MJ & 020818700242CR0010 & 020818700242CR0 & 8700253 &  1 & E & N & 1900-01-01 & 1900-01-01 & 1987-03-20 & 1987-03-20 &  2 & 1900-01-01 & -8 & NA & 0 & 21.844A-MM   & 3 & 6504 & 6504 & C34 & -8           & -8 &   -8 &   -8 & -8  & -8           & -8 &   -8 &   -8 & -8  & -8           & -8 &   -8 &   -8 & -8  & -8           & -8 &   -8 &   -8 & -8  & 36061 & -8 & -8 & -8 & -8 & 1996-01-25 & 1900-01-01 & 1900-01-01 & 1900-01-01 &  0 &   0 &   0 & -8 & NA & -8 & -8           & -8 &   -8 &   -8 & -8  & -8 &  0 & -8   &  0 & -8   &  0 &     0 & -8 & -8 & -8 & -8 & -8 & -8 &  0 & -8 &  0 & -8 &  0 &  0 & -8 & -8 & -8 & -8 & -8 & -8 &  0 & -8 &  0 & -8 &  0 &  0 & -8 & -8 & -8 & -8 & -8 & -8 &  0 & -8 &  0 & -8 &  0 &  0 & -8 & -8 & -8 & -8 & -8 & -8 &  0 & -8 &  0 & -8 &  0 &  0 &  0 &  0 &     0 & 0 & 0 & 0 & 0 & 0 & 0 & 0 & 0 & 1 & 1 & MASTER & 0 & 2012-03-21 & 2099\\\\\n",
       "\t23819 & 2019 & 2 & 8  & 7 & 1606266 & 1 &  1 & NA & 0 & MJ & -8 & -8 & 020871606266MJ0010 & 020871606266MJ0 & -8      & -8 & E & N & 1900-01-01 & 1900-01-01 & 2016-09-30 & 2016-09-30 & 10 & 2016-09-30 & D  & NA & 6 & 21:844A=MP.M & 3 & 6504 & 6504 & C34 & -8           & -8 &   -8 &   -8 & -8  & -8           & -8 &   -8 &   -8 & -8  & -8           & -8 &   -8 &   -8 & -8  & -8           & -8 &   -8 &   -8 & -8  & 36071 & -8 & -8 & -8 & -8 & 1900-01-01 & 1900-01-01 & 1900-01-01 & 1900-01-01 & -8 &  -8 &  -8 & -8 & NA & -8 & -8           & -8 &   -8 &   -8 & -8  & -8 & -8 & -8   & -8 & -8   & -8 &    -8 & -8 & -8 & -8 & -8 & -8 & -8 & -8 & -8 & -8 & -8 & -8 & -8 & -8 & -8 & -8 & -8 & -8 & -8 & -8 & -8 & -8 & -8 & -8 & -8 & -8 & -8 & -8 & -8 & -8 & -8 & -8 & -8 & -8 & -8 & -8 & -8 & -8 & -8 & -8 & -8 & -8 & -8 & -8 & -8 & -8 & -8 & -8 & -8 & -8 & -8 &     0 & 0 & 0 & 0 & 0 & 0 & 0 & 0 & 0 & 1 & 1 & CMECF  & 0 & 2017-01-28 & 2099\\\\\n",
       "\t23821 & 2019 & 2 & 8  & 7 & 1606268 & 1 &  1 & NA & 0 & MJ & -8 & -8 & 020871606268MJ0010 & 020871606268MJ0 & -8      & -8 & E & N & 1900-01-01 & 1900-01-01 & 2016-09-30 & 2016-09-30 & 10 & 2016-09-30 & D  & NA & 6 & 21:844A=MP.M & 3 & 6504 & 6504 & C34 & -8           & -8 &   -8 &   -8 & -8  & -8           & -8 &   -8 &   -8 & -8  & -8           & -8 &   -8 &   -8 & -8  & -8           & -8 &   -8 &   -8 & -8  & 36071 & -8 & -8 & -8 & -8 & 1900-01-01 & 1900-01-01 & 1900-01-01 & 1900-01-01 & -8 &  -8 &  -8 & -8 & NA & -8 & -8           & -8 &   -8 &   -8 & -8  & -8 & -8 & -8   & -8 & -8   & -8 &    -8 & -8 & -8 & -8 & -8 & -8 & -8 & -8 & -8 & -8 & -8 & -8 & -8 & -8 & -8 & -8 & -8 & -8 & -8 & -8 & -8 & -8 & -8 & -8 & -8 & -8 & -8 & -8 & -8 & -8 & -8 & -8 & -8 & -8 & -8 & -8 & -8 & -8 & -8 & -8 & -8 & -8 & -8 & -8 & -8 & -8 & -8 & -8 & -8 & -8 & -8 &     0 & 0 & 0 & 0 & 0 & 0 & 0 & 0 & 0 & 1 & 1 & CMECF  & 0 & 2017-01-28 & 2099\\\\\n",
       "\t24069 & 2019 & 2 & 8  & 7 & 1700448 & 1 &  1 & NA & 0 & MJ & -8 & -8 & 020871700448MJ0010 & 020871700448MJ0 & -8      & -8 & E & N & 1900-01-01 & 1900-01-01 & 2017-01-20 & 2017-01-27 & 10 & 2017-01-20 & D  & NA & 6 & 21:844A=MP.M & 3 & 6504 & 6504 & C34 & -8           & -8 &   -8 &   -8 & -8  & -8           & -8 &   -8 &   -8 & -8  & -8           & -8 &   -8 &   -8 & -8  & -8           & -8 &   -8 &   -8 & -8  & 36071 & -8 & -8 & -8 & -8 & 1900-01-01 & 1900-01-01 & 1900-01-01 & 1900-01-01 & -8 &  -8 &  -8 & -8 & NA & -8 & -8           & -8 &   -8 &   -8 & -8  & -8 & -8 & -8   & -8 & -8   & -8 &    -8 & -8 & -8 & -8 & -8 & -8 & -8 & -8 & -8 & -8 & -8 & -8 & -8 & -8 & -8 & -8 & -8 & -8 & -8 & -8 & -8 & -8 & -8 & -8 & -8 & -8 & -8 & -8 & -8 & -8 & -8 & -8 & -8 & -8 & -8 & -8 & -8 & -8 & -8 & -8 & -8 & -8 & -8 & -8 & -8 & -8 & -8 & -8 & -8 & -8 & -8 &     0 & 0 & 0 & 0 & 0 & 0 & 0 & 0 & 0 & 1 & 1 & CMECF  & 1 & 2019-01-07 & 2099\\\\\n",
       "\t24070 & 2019 & 2 & 8  & 7 & 1700449 & 1 &  1 & NA & 0 & MJ & -8 & -8 & 020871700449MJ0010 & 020871700449MJ0 & -8      & -8 & E & N & 1900-01-01 & 1900-01-01 & 2017-01-20 & 2017-01-27 & 10 & 1900-01-01 & -8 & NA & 1 & 21:844A=MP.M & 3 & 6504 & 6504 & C34 & -8           & -8 &   -8 &   -8 & -8  & -8           & -8 &   -8 &   -8 & -8  & -8           & -8 &   -8 &   -8 & -8  & -8           & -8 &   -8 &   -8 & -8  & 36071 & -8 & -8 & -8 & -8 & 1900-01-01 & 1900-01-01 & 1900-01-01 & 1900-01-01 & -8 &  -8 &  -8 & -8 & NA & -8 & -8           & -8 &   -8 &   -8 & -8  & -8 & -8 & -8   & -8 & -8   & -8 &    -8 & -8 & -8 & -8 & -8 & -8 & -8 & -8 & -8 & -8 & -8 & -8 & -8 & -8 & -8 & -8 & -8 & -8 & -8 & -8 & -8 & -8 & -8 & -8 & -8 & -8 & -8 & -8 & -8 & -8 & -8 & -8 & -8 & -8 & -8 & -8 & -8 & -8 & -8 & -8 & -8 & -8 & -8 & -8 & -8 & -8 & -8 & -8 & -8 & -8 & -8 &     0 & 0 & 0 & 0 & 0 & 0 & 0 & 0 & 0 & 1 & 1 & CMECF  & 1 & 2019-01-07 & 2099\\\\\n",
       "\t24071 & 2019 & 2 & 8  & 7 & 1700451 & 1 &  1 & NA & 0 & MJ & -8 & -8 & 020871700451MJ0010 & 020871700451MJ0 & -8      & -8 & E & N & 1900-01-01 & 1900-01-01 & 2017-01-20 & 2017-02-23 & 10 & 2017-02-27 & D  & NA & 6 & 21:844A=MP.M & 3 & 6504 & 6504 & C34 & -8           & -8 &   -8 &   -8 & -8  & -8           & -8 &   -8 &   -8 & -8  & -8           & -8 &   -8 &   -8 & -8  & -8           & -8 &   -8 &   -8 & -8  & 36071 & -8 & -8 & -8 & -8 & 1900-01-01 & 1900-01-01 & 1900-01-01 & 1900-01-01 & -8 &  -8 &  -8 & -8 & NA & -8 & -8           & -8 &   -8 &   -8 & -8  & -8 & -8 & -8   & -8 & -8   & -8 &    -8 & -8 & -8 & -8 & -8 & -8 & -8 & -8 & -8 & -8 & -8 & -8 & -8 & -8 & -8 & -8 & -8 & -8 & -8 & -8 & -8 & -8 & -8 & -8 & -8 & -8 & -8 & -8 & -8 & -8 & -8 & -8 & -8 & -8 & -8 & -8 & -8 & -8 & -8 & -8 & -8 & -8 & -8 & -8 & -8 & -8 & -8 & -8 & -8 & -8 & -8 &     0 & 0 & 0 & 0 & 0 & 0 & 0 & 0 & 0 & 1 & 1 & CMECF  & 0 & 2017-03-09 & 2099\\\\\n",
       "\t24152 & 2019 & 2 & 8  & 7 & 1701341 & 1 &  1 & NA & 0 & MJ & -8 & -8 & 020871701341MJ0010 & 020871701341MJ0 & -8      & -8 & E & N & 1900-01-01 & 1900-01-01 & 2017-02-23 & 2017-02-23 & 10 & 2017-02-27 & D  & NA & 6 & 21:844A=MP.M & 3 & 6504 & 6504 & C34 & -8           & -8 &   -8 &   -8 & -8  & -8           & -8 &   -8 &   -8 & -8  & -8           & -8 &   -8 &   -8 & -8  & -8           & -8 &   -8 &   -8 & -8  & 36071 & -8 & -8 & -8 & -8 & 1900-01-01 & 1900-01-01 & 1900-01-01 & 1900-01-01 & -8 &  -8 &  -8 & -8 & NA & -8 & -8           & -8 &   -8 &   -8 & -8  & -8 & -8 & -8   & -8 & -8   & -8 &    -8 & -8 & -8 & -8 & -8 & -8 & -8 & -8 & -8 & -8 & -8 & -8 & -8 & -8 & -8 & -8 & -8 & -8 & -8 & -8 & -8 & -8 & -8 & -8 & -8 & -8 & -8 & -8 & -8 & -8 & -8 & -8 & -8 & -8 & -8 & -8 & -8 & -8 & -8 & -8 & -8 & -8 & -8 & -8 & -8 & -8 & -8 & -8 & -8 & -8 & -8 &     0 & 0 & 0 & 0 & 0 & 0 & 0 & 0 & 0 & 1 & 1 & CMECF  & 0 & 2017-03-09 & 2099\\\\\n",
       "\t24153 & 2019 & 2 & 8  & 7 & 1702127 & 1 &  1 & NA & 0 & MJ & -8 & -8 & 020871702127MJ0010 & 020871702127MJ0 & -8      & -8 & E & N & 1900-01-01 & 1900-01-01 & 2017-03-24 & 2017-03-24 & 10 & 2017-03-24 & D  & NA & 2 & 21:844A=MP.M & 3 & 6504 & 6504 & C34 & -8           & -8 &   -8 &   -8 & -8  & -8           & -8 &   -8 &   -8 & -8  & -8           & -8 &   -8 &   -8 & -8  & -8           & -8 &   -8 &   -8 & -8  & 36071 & -8 & -8 & -8 & -8 & 1900-01-01 & 1900-01-01 & 1900-01-01 & 1900-01-01 & -8 &  -8 &  -8 & -8 & NA & -8 & -8           & -8 &   -8 &   -8 & -8  & -8 & -8 & -8   & -8 & -8   & -8 &    -8 & -8 & -8 & -8 & -8 & -8 & -8 & -8 & -8 & -8 & -8 & -8 & -8 & -8 & -8 & -8 & -8 & -8 & -8 & -8 & -8 & -8 & -8 & -8 & -8 & -8 & -8 & -8 & -8 & -8 & -8 & -8 & -8 & -8 & -8 & -8 & -8 & -8 & -8 & -8 & -8 & -8 & -8 & -8 & -8 & -8 & -8 & -8 & -8 & -8 & -8 &     0 & 0 & 0 & 0 & 0 & 0 & 0 & 0 & 0 & 1 & 1 & CMECF  & 1 & 2018-11-08 & 2099\\\\\n",
       "\t24154 & 2019 & 2 & 8  & 7 & 1702128 & 1 &  1 & NA & 0 & MJ & -8 & -8 & 020871702128MJ0010 & 020871702128MJ0 & -8      & -8 & E & N & 1900-01-01 & 1900-01-01 & 2017-03-24 & 2017-03-24 & 10 & 2017-03-24 & D  & NA & 2 & 21:844A=MP.M & 3 & 6504 & 6504 & C34 & -8           & -8 &   -8 &   -8 & -8  & -8           & -8 &   -8 &   -8 & -8  & -8           & -8 &   -8 &   -8 & -8  & -8           & -8 &   -8 &   -8 & -8  & 36071 & -8 & -8 & -8 & -8 & 1900-01-01 & 1900-01-01 & 1900-01-01 & 1900-01-01 & -8 &  -8 &  -8 & -8 & NA & -8 & -8           & -8 &   -8 &   -8 & -8  & -8 & -8 & -8   & -8 & -8   & -8 &    -8 & -8 & -8 & -8 & -8 & -8 & -8 & -8 & -8 & -8 & -8 & -8 & -8 & -8 & -8 & -8 & -8 & -8 & -8 & -8 & -8 & -8 & -8 & -8 & -8 & -8 & -8 & -8 & -8 & -8 & -8 & -8 & -8 & -8 & -8 & -8 & -8 & -8 & -8 & -8 & -8 & -8 & -8 & -8 & -8 & -8 & -8 & -8 & -8 & -8 & -8 &     0 & 0 & 0 & 0 & 0 & 0 & 0 & 0 & 0 & 1 & 1 & CMECF  & 0 & 2017-05-08 & 2099\\\\\n",
       "\t24414 & 2019 & 2 & 8  & 7 & 9000490 & 1 & -8 & NA & 0 & CR & -8 & -8 & 020879000490CR0010 & 020879000490CR0 & -8      & -8 & E & N & 1900-01-01 & 1900-01-01 & 1990-07-31 & 1990-07-31 &  2 & 1900-01-01 & -8 & NA & 2 & 21.844A-AMPA & 3 & 6504 & 6504 & C30 & 18.3146      &  3 & 7311 & 7311 & C13 & -8           & -8 &   -8 &   -8 & -8  & -8           & -8 &   -8 &   -8 & -8  & -8           & -8 &   -8 &   -8 & -8  & 36071 & -8 & -8 & -8 & -8 & 1996-01-25 & 1900-01-01 & 1900-01-01 & 1900-01-01 &  0 &   0 &   0 & -8 & NA & -8 & -8           & -8 &   -8 &   -8 & -8  & -8 &  0 & -8   &  0 & -8   &  0 &     0 & -8 & -8 & -8 & -8 & -8 & -8 &  0 & -8 &  0 & -8 &  0 &  0 & -8 & -8 & -8 & -8 & -8 & -8 &  0 & -8 &  0 & -8 &  0 &  0 & -8 & -8 & -8 & -8 & -8 & -8 &  0 & -8 &  0 & -8 &  0 &  0 & -8 & -8 & -8 & -8 & -8 & -8 &  0 & -8 &  0 & -8 &  0 &  0 &  0 &  0 &     0 & 0 & 0 & 0 & 0 & 0 & 0 & 0 & 0 & 1 & 1 & MASTER & 0 & 2012-03-21 & 2099\\\\\n",
       "\t24519 & 2019 & 2 & 8  & 7 & 9500905 & 1 & -8 & NA & 0 & CR & -8 & -8 & 020879500905CR0010 & 020879500905CR0 & -8      & -8 & E & N & 1900-01-01 & 1900-01-01 & 1995-10-18 & 1995-10-18 &  8 & 1900-01-01 & -8 & NA & 0 & 21:844A=MP.M & 3 & 6504 & 6504 & C34 & -8           & -8 &   -8 &   -8 & -8  & -8           & -8 &   -8 &   -8 & -8  & -8           & -8 &   -8 &   -8 & -8  & -8           & -8 &   -8 &   -8 & -8  & 88888 & -8 & -8 & -8 & -8 & 1996-02-06 & 1900-01-01 & 1900-01-01 & 1900-01-01 &  0 &   0 &   0 & -8 & NA & -8 & -8           & -8 &   -8 &   -8 & -8  & -8 &  0 & -8   &  0 & -8   &  0 &     0 & -8 & -8 & -8 & -8 & -8 & -8 &  0 & -8 &  0 & -8 &  0 &  0 & -8 & -8 & -8 & -8 & -8 & -8 &  0 & -8 &  0 & -8 &  0 &  0 & -8 & -8 & -8 & -8 & -8 & -8 &  0 & -8 &  0 & -8 &  0 &  0 & -8 & -8 & -8 & -8 & -8 & -8 &  0 & -8 &  0 & -8 &  0 &  0 &  0 &  0 &     0 & 0 & 0 & 0 & 0 & 0 & 0 & 0 & 0 & 1 & 1 & MASTER & 0 & 2012-03-21 & 2099\\\\\n",
       "\t⋮ & ⋮ & ⋮ & ⋮ & ⋮ & ⋮ & ⋮ & ⋮ & ⋮ & ⋮ & ⋮ & ⋮ & ⋮ & ⋮ & ⋮ & ⋮ & ⋮ & ⋮ & ⋮ & ⋮ & ⋮ & ⋮ & ⋮ & ⋮ & ⋮ & ⋮ & ⋮ & ⋮ & ⋮ & ⋮ & ⋮ & ⋮ & ⋮ & ⋮ & ⋮ & ⋮ & ⋮ & ⋮ & ⋮ & ⋮ & ⋮ & ⋮ & ⋮ & ⋮ & ⋮ & ⋮ & ⋮ & ⋮ & ⋮ & ⋮ & ⋮ & ⋮ & ⋮ & ⋮ & ⋮ & ⋮ & ⋮ & ⋮ & ⋮ & ⋮ & ⋮ & ⋮ & ⋮ & ⋮ & ⋮ & ⋮ & ⋮ & ⋮ & ⋮ & ⋮ & ⋮ & ⋮ & ⋮ & ⋮ & ⋮ & ⋮ & ⋮ & ⋮ & ⋮ & ⋮ & ⋮ & ⋮ & ⋮ & ⋮ & ⋮ & ⋮ & ⋮ & ⋮ & ⋮ & ⋮ & ⋮ & ⋮ & ⋮ & ⋮ & ⋮ & ⋮ & ⋮ & ⋮ & ⋮ & ⋮ & ⋮ & ⋮ & ⋮ & ⋮ & ⋮ & ⋮ & ⋮ & ⋮ & ⋮ & ⋮ & ⋮ & ⋮ & ⋮ & ⋮ & ⋮ & ⋮ & ⋮ & ⋮ & ⋮ & ⋮ & ⋮ & ⋮ & ⋮ & ⋮ & ⋮ & ⋮ & ⋮ & ⋮ & ⋮ & ⋮ & ⋮ & ⋮ & ⋮ & ⋮ & ⋮ & ⋮ & ⋮ & ⋮ & ⋮ & ⋮ & ⋮ & ⋮ & ⋮ & ⋮ & ⋮\\\\\n",
       "\t200462 & 2019 & 11 & 3E & 2 & 9900009 & 1 & -8 & NA & 0 & MJ & -8 & MJ & 113E29900009MJ0010 & 113E29900009MJ0 & 9900009 &  1 & E & N & 1900-01-01 & 1900-01-01 & 1999-02-22 & 1999-02-26 & 10 & 1999-02-26 & B  & NA & 3 & 21:844A=MP.M & 3 & 6504 & 6504 & C34 & -8           & -8 &   -8 &   -8 & -8  & -8           & -8 &   -8 &   -8 & -8  & -8           & -8 &   -8 &   -8 & -8  & -8 & -8 & -8 & -8 & -8 & 13139 & -8 & -8 & -8 & -8 & 1999-04-08 & 1900-01-01 & 1900-01-01 & 1900-01-01 &  0 &   0 &   0 & -8 & NA & -8 & -8           & -8 &   -8 &   -8 & -8  & -8 &  0 & -8 &  0 & -8   &  0 &   0 & -8           & -8 &   -8 &   -8 & -8  & -8 &  0 & -8 &  0 & -8 &  0 &  0 & -8           & -8 &   -8 &   -8 & -8  & -8 &  0 & -8 &  0 & -8 &  0 &  0 & -8           & -8 &   -8 &   -8 & -8  & -8 &  0 & -8 &  0 & -8 &  0 &  0 & -8 & -8 & -8 & -8 & -8 & -8 &  0 & -8 &  0 & -8 &  0 &  0 &  0 &  0 &   0 & 0 & 0 & 0 & 0 & 0 & 0 & 0 & 0 & 1 & 1 & MASTER & 0 & 2012-03-21 & 2099\\\\\n",
       "\t200714 & 2019 & 11 & 3G & 1 & 1900006 & 2 &  2 & NA & 0 & CR & -8 & -8 & 113G11900006CR0020 & 113G11900006CR0 & -8      & -8 & E & N & 1900-01-01 & 1900-01-01 & 2019-02-14 & 2019-02-14 &  1 & 2019-03-12 & 1  & NA & 0 & 21:844A=MP.F & 4 & 6504 & 6504 & 137 & -8           & -8 &   -8 &   -8 & -8  & -8           & -8 &   -8 &   -8 & -8  & -8           & -8 &   -8 &   -8 & -8  & -8 & -8 & -8 & -8 & -8 & 13095 & -8 & -8 & -8 & -8 & 1900-01-01 & 1900-01-01 & 1900-01-01 & 1900-01-01 & -8 &  -8 &  -8 & -8 & NA & -8 & -8           & -8 &   -8 &   -8 & -8  & -8 & -8 & -8 & -8 & -8   & -8 &  -8 & -8           & -8 &   -8 &   -8 & -8  & -8 & -8 & -8 & -8 & -8 & -8 & -8 & -8           & -8 &   -8 &   -8 & -8  & -8 & -8 & -8 & -8 & -8 & -8 & -8 & -8           & -8 &   -8 &   -8 & -8  & -8 & -8 & -8 & -8 & -8 & -8 & -8 & -8 & -8 & -8 & -8 & -8 & -8 & -8 & -8 & -8 & -8 & -8 & -8 & -8 & -8 &   0 & 1 & 1 & 1 & 0 & 0 & 0 & 0 & 0 & 1 & 1 & CMECF  & 1 & 2019-04-01 & 2099\\\\\n",
       "\t201051 & 2019 & 11 & 3G & 4 & 1800006 & 1 &  1 & NA & 0 & MJ & -8 & -8 & 113G41800006MJ0010 & 113G41800006MJ0 & -8      & -8 & J & N & 1900-01-01 & 1900-01-01 & 2018-01-04 & 2018-01-04 &  2 & 2018-01-11 & B  & NA & 0 & 21:844A=MP.M & 3 & 6504 & 6504 & C34 & 18:13-7210.M &  3 & 7210 & 7210 & C13 & 18:13-7220.M &  3 & 7220 & 7220 & C13 & 18:13-7220.M &  3 & 7220 & 7220 & C13 & -8 & -8 & -8 & -8 & -8 & 13215 & -8 & -8 & -8 & -8 & 1900-01-01 & 2018-04-18 & 2018-12-13 & 2018-12-13 &  0 & 540 & 239 & 4  & NA &  6 & 18:13-7210.M &  3 & 7210 & 7210 & C13 &  4 &  0 & -8 & 12 & M001 &  0 & 500 & 21:844A=MP.M &  3 & 6504 & 6504 & C34 &  1 &  0 & -8 &  0 & -8 &  0 &  0 & 18:13-7220.M &  3 & 7220 & 7220 & C13 &  1 &  0 & -8 &  0 & -8 &  0 &  0 & 18:13-7220.M &  3 & 7220 & 7220 & C13 &  1 &  0 & -8 &  0 & -8 &  0 &  0 & -8 & -8 & -8 & -8 & -8 & -8 & -8 & -8 & -8 & -8 & -8 & -8 & -8 & 12 & 500 & 0 & 0 & 0 & 0 & 1 & 1 & 1 & 0 & 0 & 0 & CMECF  & 1 & 2019-01-23 & 2019\\\\\n",
       "\t201208 & 2019 & 11 & 3G & 5 & 1300716 & 1 &  1 & NA & 0 & MJ & -8 & -8 & 113G51300716MJ0010 & 113G51300716MJ0 & -8      & -8 & E & N & 1900-01-01 & 1900-01-01 & 2013-07-15 & 2013-07-15 &  2 & 2013-07-15 & 1  & NA & 0 & 21:844A=MP.M & 3 & 6504 & 6504 & C34 & -8           & -8 &   -8 &   -8 & -8  & -8           & -8 &   -8 &   -8 & -8  & -8           & -8 &   -8 &   -8 & -8  & -8 & -8 & -8 & -8 & -8 & 13021 & -8 & -8 & -8 & -8 & 1900-01-01 & 1900-01-01 & 1900-01-01 & 1900-01-01 & -8 &  -8 &  -8 & -8 & NA & -8 & -8           & -8 &   -8 &   -8 & -8  & -8 & -8 & -8 & -8 & -8   & -8 &  -8 & -8           & -8 &   -8 &   -8 & -8  & -8 & -8 & -8 & -8 & -8 & -8 & -8 & -8           & -8 &   -8 &   -8 & -8  & -8 & -8 & -8 & -8 & -8 & -8 & -8 & -8           & -8 &   -8 &   -8 & -8  & -8 & -8 & -8 & -8 & -8 & -8 & -8 & -8 & -8 & -8 & -8 & -8 & -8 & -8 & -8 & -8 & -8 & -8 & -8 & -8 & -8 &   0 & 0 & 0 & 0 & 0 & 0 & 0 & 0 & 0 & 1 & 1 & CMECF  & 0 & 2013-08-01 & 2099\\\\\n",
       "\t201209 & 2019 & 11 & 3G & 5 & 1300717 & 1 &  1 & NA & 0 & MJ & -8 & -8 & 113G51300717MJ0010 & 113G51300717MJ0 & -8      & -8 & E & N & 1900-01-01 & 1900-01-01 & 2013-07-15 & 2013-07-15 &  2 & 2013-07-15 & 1  & NA & 1 & 21:844A=MP.M & 3 & 6504 & 6504 & C34 & -8           & -8 &   -8 &   -8 & -8  & -8           & -8 &   -8 &   -8 & -8  & -8           & -8 &   -8 &   -8 & -8  & -8 & -8 & -8 & -8 & -8 & 13021 & -8 & -8 & -8 & -8 & 1900-01-01 & 1900-01-01 & 1900-01-01 & 1900-01-01 & -8 &  -8 &  -8 & -8 & NA & -8 & -8           & -8 &   -8 &   -8 & -8  & -8 & -8 & -8 & -8 & -8   & -8 &  -8 & -8           & -8 &   -8 &   -8 & -8  & -8 & -8 & -8 & -8 & -8 & -8 & -8 & -8           & -8 &   -8 &   -8 & -8  & -8 & -8 & -8 & -8 & -8 & -8 & -8 & -8           & -8 &   -8 &   -8 & -8  & -8 & -8 & -8 & -8 & -8 & -8 & -8 & -8 & -8 & -8 & -8 & -8 & -8 & -8 & -8 & -8 & -8 & -8 & -8 & -8 & -8 &   0 & 0 & 0 & 0 & 0 & 0 & 0 & 0 & 0 & 1 & 1 & CMECF  & 0 & 2013-08-01 & 2099\\\\\n",
       "\t201213 & 2019 & 11 & 3G & 5 & 1300812 & 1 &  1 & NA & 0 & MJ & -8 & -8 & 113G51300812MJ0010 & 113G51300812MJ0 & -8      & -8 & E & N & 1900-01-01 & 1900-01-01 & 2013-08-19 & 2013-08-19 &  2 & 2013-08-19 & 1  & NA & 0 & 21:844A=MP.M & 3 & 6504 & 6504 & C34 & -8           & -8 &   -8 &   -8 & -8  & -8           & -8 &   -8 &   -8 & -8  & -8           & -8 &   -8 &   -8 & -8  & -8 & -8 & -8 & -8 & -8 & 13021 & -8 & -8 & -8 & -8 & 1900-01-01 & 1900-01-01 & 1900-01-01 & 1900-01-01 & -8 &  -8 &  -8 & -8 & NA & -8 & -8           & -8 &   -8 &   -8 & -8  & -8 & -8 & -8 & -8 & -8   & -8 &  -8 & -8           & -8 &   -8 &   -8 & -8  & -8 & -8 & -8 & -8 & -8 & -8 & -8 & -8           & -8 &   -8 &   -8 & -8  & -8 & -8 & -8 & -8 & -8 & -8 & -8 & -8           & -8 &   -8 &   -8 & -8  & -8 & -8 & -8 & -8 & -8 & -8 & -8 & -8 & -8 & -8 & -8 & -8 & -8 & -8 & -8 & -8 & -8 & -8 & -8 & -8 & -8 &   0 & 0 & 0 & 0 & 0 & 0 & 0 & 0 & 0 & 1 & 1 & CMECF  & 0 & 2013-09-11 & 2099\\\\\n",
       "\t201231 & 2019 & 11 & 3G & 5 & 1400032 & 1 &  1 & NA & 0 & MJ & -8 & -8 & 113G51400032MJ0010 & 113G51400032MJ0 & -8      & -8 & E & N & 1900-01-01 & 1900-01-01 & 2014-03-17 & 2014-03-17 &  2 & 2014-03-17 & B  & NA & 3 & 21:844A=MP.M & 3 & 6504 & 6504 & C34 & 16:551.P     &  1 & 9150 & 9150 & B12 & -8           & -8 &   -8 &   -8 & -8  & -8           & -8 &   -8 &   -8 & -8  & -8 & -8 & -8 & -8 & -8 & 13021 & -8 & -8 & -8 & -8 & 1900-01-01 & 1900-01-01 & 1900-01-01 & 1900-01-01 & -8 &  -8 &  -8 & -8 & NA & -8 & -8           & -8 &   -8 &   -8 & -8  & -8 & -8 & -8 & -8 & -8   & -8 &  -8 & -8           & -8 &   -8 &   -8 & -8  & -8 & -8 & -8 & -8 & -8 & -8 & -8 & -8           & -8 &   -8 &   -8 & -8  & -8 & -8 & -8 & -8 & -8 & -8 & -8 & -8           & -8 &   -8 &   -8 & -8  & -8 & -8 & -8 & -8 & -8 & -8 & -8 & -8 & -8 & -8 & -8 & -8 & -8 & -8 & -8 & -8 & -8 & -8 & -8 & -8 & -8 &   0 & 0 & 0 & 0 & 0 & 0 & 0 & 0 & 0 & 1 & 1 & CMECF  & 0 & 2014-04-04 & 2099\\\\\n",
       "\t201242 & 2019 & 11 & 3G & 5 & 1400070 & 2 &  2 & NA & 0 & MJ & -8 & -8 & 113G51400070MJ0020 & 113G51400070MJ0 & -8      & -8 & E & N & 1900-01-01 & 1900-01-01 & 2014-06-04 & 2014-06-04 &  2 & 2014-08-06 & 1  & NA & 0 & 21:844A=MP.M & 3 & 6504 & 6504 & C34 & -8           & -8 &   -8 &   -8 & -8  & -8           & -8 &   -8 &   -8 & -8  & -8           & -8 &   -8 &   -8 & -8  & -8 & -8 & -8 & -8 & -8 & 13021 & -8 & -8 & -8 & -8 & 1900-01-01 & 1900-01-01 & 1900-01-01 & 1900-01-01 & -8 &  -8 &  -8 & -8 & NA & -8 & -8           & -8 &   -8 &   -8 & -8  & -8 & -8 & -8 & -8 & -8   & -8 &  -8 & -8           & -8 &   -8 &   -8 & -8  & -8 & -8 & -8 & -8 & -8 & -8 & -8 & -8           & -8 &   -8 &   -8 & -8  & -8 & -8 & -8 & -8 & -8 & -8 & -8 & -8           & -8 &   -8 &   -8 & -8  & -8 & -8 & -8 & -8 & -8 & -8 & -8 & -8 & -8 & -8 & -8 & -8 & -8 & -8 & -8 & -8 & -8 & -8 & -8 & -8 & -8 &   0 & 0 & 0 & 0 & 0 & 0 & 0 & 0 & 0 & 1 & 1 & CMECF  & 1 & 2014-09-03 & 2099\\\\\n",
       "\t201310 & 2019 & 11 & 3G & 4 & 1900059 & 1 &  1 & NA & 0 & MJ & -8 & -8 & 113G41900059MJ0010 & 113G41900059MJ0 & -8      & -8 & E & N & 1900-01-01 & 1900-01-01 & 2019-05-15 & 2019-05-15 &  2 & 2019-06-06 & B  & NA & 0 & 21:844A=MP.M & 3 & 6504 & 6504 & C34 & 18:641.M     &  3 & 3400 & 3400 & C23 & 18:1382.P    &  1 & 9760 & 9760 & B32 & -8           & -8 &   -8 &   -8 & -8  & -8 & -8 & -8 & -8 & -8 & 13215 & -8 & -8 & -8 & -8 & 1900-01-01 & 1900-01-01 & 1900-01-01 & 1900-01-01 & -8 &  -8 &  -8 & -8 & NA & -8 & -8           & -8 &   -8 &   -8 & -8  & -8 & -8 & -8 & -8 & -8   & -8 &  -8 & -8           & -8 &   -8 &   -8 & -8  & -8 & -8 & -8 & -8 & -8 & -8 & -8 & -8           & -8 &   -8 &   -8 & -8  & -8 & -8 & -8 & -8 & -8 & -8 & -8 & -8           & -8 &   -8 &   -8 & -8  & -8 & -8 & -8 & -8 & -8 & -8 & -8 & -8 & -8 & -8 & -8 & -8 & -8 & -8 & -8 & -8 & -8 & -8 & -8 & -8 & -8 &   0 & 1 & 1 & 1 & 0 & 0 & 0 & 0 & 0 & 1 & 1 & CMECF  & 0 & 2019-06-11 & 2099\\\\\n",
       "\t201410 & 2019 & 11 & 3G & 5 & 1800035 & 1 &  1 & NA & 0 & MJ & -8 & -8 & 113G51800035MJ0010 & 113G51800035MJ0 & -8      & -8 & J & N & 1900-01-01 & 1900-01-01 & 2018-04-26 & 2018-04-26 &  2 & 2018-05-21 & 1  & NA & 3 & 21:844A=MP.M & 3 & 6504 & 6504 & C34 & -8           & -8 &   -8 &   -8 & -8  & -8           & -8 &   -8 &   -8 & -8  & -8           & -8 &   -8 &   -8 & -8  & -8 & -8 & -8 & -8 & -8 & 13153 & -8 & -8 & -8 & -8 & 1900-01-01 & 2018-10-09 & 1900-01-01 & 2018-10-09 &  0 &   0 &   0 & 5  & NA &  6 & 21:844A=MP.M &  3 & 6504 & 6504 & C34 &  1 &  0 & -8 &  0 & -8   &  0 &   0 & -8           & -8 &   -8 &   -8 & -8  & -8 & -8 & -8 & -8 & -8 & -8 & -8 & -8           & -8 &   -8 &   -8 & -8  & -8 & -8 & -8 & -8 & -8 & -8 & -8 & -8           & -8 &   -8 &   -8 & -8  & -8 & -8 & -8 & -8 & -8 & -8 & -8 & -8 & -8 & -8 & -8 & -8 & -8 & -8 & -8 & -8 & -8 & -8 & -8 & -8 & -8 &   0 & 0 & 0 & 0 & 0 & 1 & 1 & 1 & 0 & 0 & 0 & CMECF  & 2 & 2018-11-06 & 2019\\\\\n",
       "\t201536 & 2019 & 11 & 3G & 5 & 1700090 & 1 &  1 & NA & 0 & MJ & -8 & -8 & 113G51700090MJ0010 & 113G51700090MJ0 & -8      & -8 & E & N & 1900-01-01 & 1900-01-01 & 2017-10-18 & 2017-10-16 & 14 & 1900-01-01 & -8 & NA & 0 & 21:844A=MP.M & 3 & 6504 & 6504 & C34 & 18:13-7220.M &  3 & 7220 & 7220 & C13 & -8           & -8 &   -8 &   -8 & -8  & -8           & -8 &   -8 &   -8 & -8  & -8 & -8 & -8 & -8 & -8 & 13021 & -8 & -8 & -8 & -8 & 1900-01-01 & 1900-01-01 & 1900-01-01 & 1900-01-01 & -8 &  -8 &  -8 & -8 & NA & -8 & -8           & -8 &   -8 &   -8 & -8  & -8 & -8 & -8 & -8 & -8   & -8 &  -8 & -8           & -8 &   -8 &   -8 & -8  & -8 & -8 & -8 & -8 & -8 & -8 & -8 & -8           & -8 &   -8 &   -8 & -8  & -8 & -8 & -8 & -8 & -8 & -8 & -8 & -8           & -8 &   -8 &   -8 & -8  & -8 & -8 & -8 & -8 & -8 & -8 & -8 & -8 & -8 & -8 & -8 & -8 & -8 & -8 & -8 & -8 & -8 & -8 & -8 & -8 & -8 &   0 & 0 & 0 & 0 & 0 & 0 & 0 & 0 & 0 & 1 & 1 & CMECF  & 0 & 2017-11-02 & 2099\\\\\n",
       "\t201884 & 2019 & 11 & 3J & 1 & 1000187 & 1 &  1 & NA & 0 & CR & -8 & -8 & 113J11000187CR0010 & 113J11000187CR0 & -8      & -8 & E & N & 1900-01-01 & 1900-01-01 & 2010-07-21 & 2010-07-21 &  2 & 2010-10-13 & 1  & NA & 0 & 21:844A=MP.M & 3 & 6504 & 6504 & C34 & -8           & -8 &   -8 &   -8 & -8  & -8           & -8 &   -8 &   -8 & -8  & -8           & -8 &   -8 &   -8 & -8  & -8 & -8 & -8 & -8 & -8 & 13245 & -8 & -8 & -8 & -8 & 2011-02-01 & 1900-01-01 & 1900-01-01 & 1900-01-01 &  0 &   0 &   0 & -8 & NA & -8 & -8           & -8 &   -8 &   -8 & -8  & -8 &  0 & -8 &  0 & -8   &  0 &   0 & -8           & -8 &   -8 &   -8 & -8  & -8 &  0 & -8 &  0 & -8 &  0 &  0 & -8           & -8 &   -8 &   -8 & -8  & -8 &  0 & -8 &  0 & -8 &  0 &  0 & -8           & -8 &   -8 &   -8 & -8  & -8 &  0 & -8 &  0 & -8 &  0 &  0 & -8 & -8 & -8 & -8 & -8 & -8 &  0 & -8 &  0 & -8 &  0 &  0 &  0 &  0 &   0 & 0 & 0 & 0 & 0 & 0 & 0 & 0 & 0 & 1 & 1 & MASTER & 0 & 2012-03-21 & 2099\\\\\n",
       "\t202098 & 2019 & 11 & 3J & 4 &      16 & 1 & -8 & NA & 0 & CR & -8 & -8 & 113J40000016CR0010 & 113J40000016CR0 & -8      & -8 & E & N & 1900-01-01 & 1900-01-01 & 2000-01-28 & 2000-01-28 &  2 & 1900-01-01 & -8 & NA & 0 & 21:844A=MP.M & 3 & 6504 & 6504 & C34 & -8           & -8 &   -8 &   -8 & -8  & -8           & -8 &   -8 &   -8 & -8  & -8           & -8 &   -8 &   -8 & -8  & -8 & -8 & -8 & -8 & -8 & 13179 & -8 & -8 & -8 & -8 & 2000-02-07 & 1900-01-01 & 1900-01-01 & 1900-01-01 &  0 &   0 &   0 & -8 & NA & -8 & -8           & -8 &   -8 &   -8 & -8  & -8 &  0 & -8 &  0 & -8   &  0 &   0 & -8           & -8 &   -8 &   -8 & -8  & -8 &  0 & -8 &  0 & -8 &  0 &  0 & -8           & -8 &   -8 &   -8 & -8  & -8 &  0 & -8 &  0 & -8 &  0 &  0 & -8           & -8 &   -8 &   -8 & -8  & -8 &  0 & -8 &  0 & -8 &  0 &  0 & -8 & -8 & -8 & -8 & -8 & -8 &  0 & -8 &  0 & -8 &  0 &  0 &  0 &  0 &   0 & 0 & 0 & 0 & 0 & 0 & 0 & 0 & 0 & 1 & 1 & MASTER & 0 & 2012-03-21 & 2099\\\\\n",
       "\t202129 & 2019 & 11 & 3J & 4 &  100382 & 1 &  1 & NA & 0 & CR & -8 & -8 & 113J40100382CR0010 & 113J40100382CR0 & -8      & -8 & E & N & 1900-01-01 & 1900-01-01 & 2011-12-29 & 2011-12-29 &  2 & 1900-01-01 & -8 & NA & 3 & 21:844A=MP.M & 3 & 6504 & 6504 & C34 & 18:13-7990.M &  3 & 7990 & 7990 & C13 & -8           & -8 &   -8 &   -8 & -8  & -8           & -8 &   -8 &   -8 & -8  & -8 & -8 & -8 & -8 & -8 & 13179 & -8 & -8 & -8 & -8 & 2012-01-06 & 1900-01-01 & 1900-01-01 & 1900-01-01 &  0 &   0 &   0 & -8 & NA & -8 & -8           & -8 &   -8 &   -8 & -8  & -8 &  0 & -8 &  0 & -8   &  0 &   0 & -8           & -8 &   -8 &   -8 & -8  & -8 &  0 & -8 &  0 & -8 &  0 &  0 & -8           & -8 &   -8 &   -8 & -8  & -8 &  0 & -8 &  0 & -8 &  0 &  0 & -8           & -8 &   -8 &   -8 & -8  & -8 &  0 & -8 &  0 & -8 &  0 &  0 & -8 & -8 & -8 & -8 & -8 & -8 &  0 & -8 &  0 & -8 &  0 &  0 &  0 &  0 &   0 & 0 & 0 & 0 & 0 & 0 & 0 & 0 & 0 & 1 & 1 & MASTER & 0 & 2012-03-21 & 2099\\\\\n",
       "\t202279 & 2019 & 11 & 3J & 4 & 1400429 & 1 &  1 & NA & 0 & CR & -8 & -8 & 113J41400429CR0010 & 113J41400429CR0 & -8      & -8 & E & N & 1900-01-01 & 1900-01-01 & 2014-12-30 & 2014-12-30 &  2 & 2015-04-06 & 1  & NA & 3 & 21:844A=MP.M & 3 & 6504 & 6504 & C34 & -8           & -8 &   -8 &   -8 & -8  & -8           & -8 &   -8 &   -8 & -8  & -8           & -8 &   -8 &   -8 & -8  & -8 & -8 & -8 & -8 & -8 & 13051 & -8 & -8 & -8 & -8 & 1900-01-01 & 1900-01-01 & 1900-01-01 & 1900-01-01 & -8 &  -8 &  -8 & -8 & NA & -8 & -8           & -8 &   -8 &   -8 & -8  & -8 & -8 & -8 & -8 & -8   & -8 &  -8 & -8           & -8 &   -8 &   -8 & -8  & -8 & -8 & -8 & -8 & -8 & -8 & -8 & -8           & -8 &   -8 &   -8 & -8  & -8 & -8 & -8 & -8 & -8 & -8 & -8 & -8           & -8 &   -8 &   -8 & -8  & -8 & -8 & -8 & -8 & -8 & -8 & -8 & -8 & -8 & -8 & -8 & -8 & -8 & -8 & -8 & -8 & -8 & -8 & -8 & -8 & -8 &   0 & 0 & 0 & 0 & 0 & 0 & 0 & 0 & 0 & 1 & 1 & CMECF  & 1 & 2015-05-06 & 2099\\\\\n",
       "\t202280 & 2019 & 11 & 3J & 4 & 1400429 & 2 &  2 & NA & 0 & CR & -8 & -8 & 113J41400429CR0020 & 113J41400429CR0 & -8      & -8 & E & N & 1900-01-01 & 1900-01-01 & 2014-12-30 & 2014-12-30 &  2 & 2015-04-06 & 1  & NA & 3 & 21:844A=MP.M & 3 & 6504 & 6504 & C34 & -8           & -8 &   -8 &   -8 & -8  & -8           & -8 &   -8 &   -8 & -8  & -8           & -8 &   -8 &   -8 & -8  & -8 & -8 & -8 & -8 & -8 & 13051 & -8 & -8 & -8 & -8 & 1900-01-01 & 1900-01-01 & 1900-01-01 & 1900-01-01 & -8 &  -8 &  -8 & -8 & NA & -8 & -8           & -8 &   -8 &   -8 & -8  & -8 & -8 & -8 & -8 & -8   & -8 &  -8 & -8           & -8 &   -8 &   -8 & -8  & -8 & -8 & -8 & -8 & -8 & -8 & -8 & -8           & -8 &   -8 &   -8 & -8  & -8 & -8 & -8 & -8 & -8 & -8 & -8 & -8           & -8 &   -8 &   -8 & -8  & -8 & -8 & -8 & -8 & -8 & -8 & -8 & -8 & -8 & -8 & -8 & -8 & -8 & -8 & -8 & -8 & -8 & -8 & -8 & -8 & -8 &   0 & 0 & 0 & 0 & 0 & 0 & 0 & 0 & 0 & 1 & 1 & CMECF  & 1 & 2015-05-06 & 2099\\\\\n",
       "\t202281 & 2019 & 11 & 3J & 4 & 1400429 & 3 &  3 & NA & 0 & CR & -8 & -8 & 113J41400429CR0030 & 113J41400429CR0 & -8      & -8 & E & N & 1900-01-01 & 1900-01-01 & 2014-12-30 & 2014-12-30 &  2 & 2015-04-06 & 1  & NA & 3 & 21:844A=MP.M & 3 & 6504 & 6504 & C34 & -8           & -8 &   -8 &   -8 & -8  & -8           & -8 &   -8 &   -8 & -8  & -8           & -8 &   -8 &   -8 & -8  & -8 & -8 & -8 & -8 & -8 & 13051 & -8 & -8 & -8 & -8 & 1900-01-01 & 1900-01-01 & 1900-01-01 & 1900-01-01 & -8 &  -8 &  -8 & -8 & NA & -8 & -8           & -8 &   -8 &   -8 & -8  & -8 & -8 & -8 & -8 & -8   & -8 &  -8 & -8           & -8 &   -8 &   -8 & -8  & -8 & -8 & -8 & -8 & -8 & -8 & -8 & -8           & -8 &   -8 &   -8 & -8  & -8 & -8 & -8 & -8 & -8 & -8 & -8 & -8           & -8 &   -8 &   -8 & -8  & -8 & -8 & -8 & -8 & -8 & -8 & -8 & -8 & -8 & -8 & -8 & -8 & -8 & -8 & -8 & -8 & -8 & -8 & -8 & -8 & -8 &   0 & 0 & 0 & 0 & 0 & 0 & 0 & 0 & 0 & 1 & 1 & CMECF  & 1 & 2015-05-06 & 2099\\\\\n",
       "\t202289 & 2019 & 11 & 3J & 4 & 1600198 & 1 &  1 & NA & 0 & CR & -8 & -8 & 113J41600198CR0010 & 113J41600198CR0 & -8      & -8 & E & N & 1900-01-01 & 1900-01-01 & 2016-06-07 & 2016-06-07 &  2 & 2017-02-06 & 1  & NA & 3 & 21:844A=MP.M & 3 & 6504 & 6504 & C34 & -8           & -8 &   -8 &   -8 & -8  & -8           & -8 &   -8 &   -8 & -8  & -8           & -8 &   -8 &   -8 & -8  & -8 & -8 & -8 & -8 & -8 & 13179 & -8 & -8 & -8 & -8 & 1900-01-01 & 1900-01-01 & 1900-01-01 & 1900-01-01 & -8 &  -8 &  -8 & -8 & NA & -8 & -8           & -8 &   -8 &   -8 & -8  & -8 & -8 & -8 & -8 & -8   & -8 &  -8 & -8           & -8 &   -8 &   -8 & -8  & -8 & -8 & -8 & -8 & -8 & -8 & -8 & -8           & -8 &   -8 &   -8 & -8  & -8 & -8 & -8 & -8 & -8 & -8 & -8 & -8           & -8 &   -8 &   -8 & -8  & -8 & -8 & -8 & -8 & -8 & -8 & -8 & -8 & -8 & -8 & -8 & -8 & -8 & -8 & -8 & -8 & -8 & -8 & -8 & -8 & -8 &   0 & 0 & 0 & 0 & 0 & 0 & 0 & 0 & 0 & 1 & 1 & CMECF  & 1 & 2017-03-09 & 2099\\\\\n",
       "\t202293 & 2019 & 11 & 3J & 4 & 1600374 & 1 &  1 & NA & 0 & CR & -8 & -8 & 113J41600374CR0010 & 113J41600374CR0 & -8      & -8 & E & N & 1900-01-01 & 1900-01-01 & 2016-12-21 & 2016-12-21 &  2 & 2017-04-11 & 1  & NA & 3 & 21:844A=MP.M & 3 & 6504 & 6504 & C34 & -8           & -8 &   -8 &   -8 & -8  & -8           & -8 &   -8 &   -8 & -8  & -8           & -8 &   -8 &   -8 & -8  & -8 & -8 & -8 & -8 & -8 & 13051 & -8 & -8 & -8 & -8 & 1900-01-01 & 1900-01-01 & 1900-01-01 & 1900-01-01 & -8 &  -8 &  -8 & -8 & NA & -8 & -8           & -8 &   -8 &   -8 & -8  & -8 & -8 & -8 & -8 & -8   & -8 &  -8 & -8           & -8 &   -8 &   -8 & -8  & -8 & -8 & -8 & -8 & -8 & -8 & -8 & -8           & -8 &   -8 &   -8 & -8  & -8 & -8 & -8 & -8 & -8 & -8 & -8 & -8           & -8 &   -8 &   -8 & -8  & -8 & -8 & -8 & -8 & -8 & -8 & -8 & -8 & -8 & -8 & -8 & -8 & -8 & -8 & -8 & -8 & -8 & -8 & -8 & -8 & -8 &   0 & 0 & 0 & 0 & 0 & 0 & 0 & 0 & 0 & 1 & 1 & CMECF  & 1 & 2017-05-03 & 2099\\\\\n",
       "\t202294 & 2019 & 11 & 3J & 4 & 1600376 & 1 &  1 & NA & 0 & CR & -8 & -8 & 113J41600376CR0010 & 113J41600376CR0 & -8      & -8 & E & N & 1900-01-01 & 1900-01-01 & 2016-12-21 & 2016-12-21 &  2 & 2017-05-01 & 1  & NA & 3 & 21:844A=MP.M & 3 & 6504 & 6504 & C34 & -8           & -8 &   -8 &   -8 & -8  & -8           & -8 &   -8 &   -8 & -8  & -8           & -8 &   -8 &   -8 & -8  & -8 & -8 & -8 & -8 & -8 & 13051 & -8 & -8 & -8 & -8 & 1900-01-01 & 1900-01-01 & 1900-01-01 & 1900-01-01 & -8 &  -8 &  -8 & -8 & NA & -8 & -8           & -8 &   -8 &   -8 & -8  & -8 & -8 & -8 & -8 & -8   & -8 &  -8 & -8           & -8 &   -8 &   -8 & -8  & -8 & -8 & -8 & -8 & -8 & -8 & -8 & -8           & -8 &   -8 &   -8 & -8  & -8 & -8 & -8 & -8 & -8 & -8 & -8 & -8           & -8 &   -8 &   -8 & -8  & -8 & -8 & -8 & -8 & -8 & -8 & -8 & -8 & -8 & -8 & -8 & -8 & -8 & -8 & -8 & -8 & -8 & -8 & -8 & -8 & -8 &   0 & 0 & 0 & 0 & 0 & 0 & 0 & 0 & 0 & 1 & 1 & CMECF  & 1 & 2017-06-13 & 2099\\\\\n",
       "\t202295 & 2019 & 11 & 3J & 4 & 1600392 & 1 &  1 & NA & 0 & CR & -8 & -8 & 113J41600392CR0010 & 113J41600392CR0 & -8      & -8 & E & N & 1900-01-01 & 1900-01-01 & 2016-12-21 & 2016-12-21 &  2 & 1900-01-01 & -8 & NA & 3 & 21:844A=MP.M & 3 & 6504 & 6504 & C34 & -8           & -8 &   -8 &   -8 & -8  & -8           & -8 &   -8 &   -8 & -8  & -8           & -8 &   -8 &   -8 & -8  & -8 & -8 & -8 & -8 & -8 & 13051 & -8 & -8 & -8 & -8 & 1900-01-01 & 1900-01-01 & 1900-01-01 & 1900-01-01 & -8 &  -8 &  -8 & -8 & NA & -8 & -8           & -8 &   -8 &   -8 & -8  & -8 & -8 & -8 & -8 & -8   & -8 &  -8 & -8           & -8 &   -8 &   -8 & -8  & -8 & -8 & -8 & -8 & -8 & -8 & -8 & -8           & -8 &   -8 &   -8 & -8  & -8 & -8 & -8 & -8 & -8 & -8 & -8 & -8           & -8 &   -8 &   -8 & -8  & -8 & -8 & -8 & -8 & -8 & -8 & -8 & -8 & -8 & -8 & -8 & -8 & -8 & -8 & -8 & -8 & -8 & -8 & -8 & -8 & -8 &   0 & 0 & 0 & 0 & 0 & 0 & 0 & 0 & 0 & 1 & 1 & CMECF  & 0 & 2017-01-28 & 2099\\\\\n",
       "\t202296 & 2019 & 11 & 3J & 4 & 1600393 & 1 &  1 & NA & 0 & CR & -8 & -8 & 113J41600393CR0010 & 113J41600393CR0 & -8      & -8 & E & N & 1900-01-01 & 1900-01-01 & 2016-12-21 & 2016-12-21 &  2 & 2017-02-06 & 1  & NA & 3 & 21:844A=MP.M & 3 & 6504 & 6504 & C34 & -8           & -8 &   -8 &   -8 & -8  & -8           & -8 &   -8 &   -8 & -8  & -8           & -8 &   -8 &   -8 & -8  & -8 & -8 & -8 & -8 & -8 & 13051 & -8 & -8 & -8 & -8 & 1900-01-01 & 1900-01-01 & 1900-01-01 & 1900-01-01 & -8 &  -8 &  -8 & -8 & NA & -8 & -8           & -8 &   -8 &   -8 & -8  & -8 & -8 & -8 & -8 & -8   & -8 &  -8 & -8           & -8 &   -8 &   -8 & -8  & -8 & -8 & -8 & -8 & -8 & -8 & -8 & -8           & -8 &   -8 &   -8 & -8  & -8 & -8 & -8 & -8 & -8 & -8 & -8 & -8           & -8 &   -8 &   -8 & -8  & -8 & -8 & -8 & -8 & -8 & -8 & -8 & -8 & -8 & -8 & -8 & -8 & -8 & -8 & -8 & -8 & -8 & -8 & -8 & -8 & -8 &   0 & 0 & 0 & 0 & 0 & 0 & 0 & 0 & 0 & 1 & 1 & CMECF  & 1 & 2017-03-09 & 2099\\\\\n",
       "\t202299 & 2019 & 11 & 3J & 4 & 1700028 & 1 &  1 & NA & 0 & CR & -8 & -8 & 113J41700028CR0010 & 113J41700028CR0 & -8      & -8 & E & N & 1900-01-01 & 1900-01-01 & 2017-02-27 & 2017-02-27 &  2 & 2017-05-09 & 1  & NA & 3 & 21:844A=MP.M & 3 & 6504 & 6504 & C34 & 18:13-7220.M &  3 & 7220 & 7220 & C13 & 18:13-7220.M &  3 & 7220 & 7220 & C13 & 18:13-7990.M &  3 & 7990 & 7990 & C13 & -8 & -8 & -8 & -8 & -8 & 13179 & -8 & -8 & -8 & -8 & 1900-01-01 & 1900-01-01 & 1900-01-01 & 1900-01-01 & -8 &  -8 &  -8 & -8 & NA & -8 & -8           & -8 &   -8 &   -8 & -8  & -8 & -8 & -8 & -8 & -8   & -8 &  -8 & -8           & -8 &   -8 &   -8 & -8  & -8 & -8 & -8 & -8 & -8 & -8 & -8 & -8           & -8 &   -8 &   -8 & -8  & -8 & -8 & -8 & -8 & -8 & -8 & -8 & -8           & -8 &   -8 &   -8 & -8  & -8 & -8 & -8 & -8 & -8 & -8 & -8 & -8 & -8 & -8 & -8 & -8 & -8 & -8 & -8 & -8 & -8 & -8 & -8 & -8 & -8 &   0 & 0 & 0 & 0 & 0 & 0 & 0 & 0 & 0 & 1 & 1 & CMECF  & 1 & 2017-06-13 & 2099\\\\\n",
       "\t202319 & 2019 & 11 & 3J & 4 &  400067 & 1 & -8 & NA & 0 & CR & -8 & -8 & 113J40400067CR0010 & 113J40400067CR0 & -8      & -8 & E & N & 1900-01-01 & 1900-01-01 & 2004-03-04 & 2004-03-04 &  2 & 1900-01-01 & -8 & NA & 3 & 21:844A=MP.M & 3 & 6504 & 6504 & C34 & 18:1382.P    &  1 & 9760 & 9760 & B32 & -8           & -8 &   -8 &   -8 & -8  & -8           & -8 &   -8 &   -8 & -8  & -8 & -8 & -8 & -8 & -8 & 13179 & -8 & -8 & -8 & -8 & 2004-04-06 & 1900-01-01 & 1900-01-01 & 1900-01-01 &  0 &   0 &   0 & -8 & NA & -8 & -8           & -8 &   -8 &   -8 & -8  & -8 &  0 & -8 &  0 & -8   &  0 &   0 & -8           & -8 &   -8 &   -8 & -8  & -8 &  0 & -8 &  0 & -8 &  0 &  0 & -8           & -8 &   -8 &   -8 & -8  & -8 &  0 & -8 &  0 & -8 &  0 &  0 & -8           & -8 &   -8 &   -8 & -8  & -8 &  0 & -8 &  0 & -8 &  0 &  0 & -8 & -8 & -8 & -8 & -8 & -8 &  0 & -8 &  0 & -8 &  0 &  0 &  0 &  0 &   0 & 0 & 0 & 0 & 0 & 0 & 0 & 0 & 0 & 1 & 1 & MASTER & 0 & 2012-03-21 & 2099\\\\\n",
       "\t202344 & 2019 & 11 & 3J & 4 &  500202 & 1 &  1 & NA & 0 & CR & -8 & -8 & 113J40500202CR0010 & 113J40500202CR0 & -8      & -8 & E & N & 1900-01-01 & 1900-01-01 & 2005-07-15 & 2005-07-15 &  2 & 2005-09-20 & 1  & NA & 0 & 21:844A=MP.M & 3 & 6504 & 6504 & C34 & -8           & -8 &   -8 &   -8 & -8  & -8           & -8 &   -8 &   -8 & -8  & -8           & -8 &   -8 &   -8 & -8  & -8 & -8 & -8 & -8 & -8 & 13179 & -8 & -8 & -8 & -8 & 2005-10-05 & 1900-01-01 & 1900-01-01 & 1900-01-01 &  0 &   0 &   0 & -8 & NA & -8 & -8           & -8 &   -8 &   -8 & -8  & -8 &  0 & -8 &  0 & -8   &  0 &   0 & -8           & -8 &   -8 &   -8 & -8  & -8 &  0 & -8 &  0 & -8 &  0 &  0 & -8           & -8 &   -8 &   -8 & -8  & -8 &  0 & -8 &  0 & -8 &  0 &  0 & -8           & -8 &   -8 &   -8 & -8  & -8 &  0 & -8 &  0 & -8 &  0 &  0 & -8 & -8 & -8 & -8 & -8 & -8 &  0 & -8 &  0 & -8 &  0 &  0 &  0 &  0 &   0 & 0 & 0 & 0 & 0 & 0 & 0 & 0 & 0 & 1 & 1 & MASTER & 0 & 2012-03-21 & 2099\\\\\n",
       "\t202388 & 2019 & 11 & 3J & 4 & 1100329 & 1 &  1 & NA & 0 & CR & -8 & -8 & 113J41100329CR0010 & 113J41100329CR0 & -8      & -8 & E & N & 1900-01-01 & 1900-01-01 & 2011-12-08 & 2011-12-08 &  2 & 2012-02-14 & 1  & NA & 3 & 21:844A=MP.M & 3 & 6504 & 6504 & C34 & 18:13-7990.M &  3 & 7990 & 7990 & C13 & -8           & -8 &   -8 &   -8 & -8  & -8           & -8 &   -8 &   -8 & -8  & -8 & -8 & -8 & -8 & -8 & 13179 & -8 & -8 & -8 & -8 & 1900-01-01 & 1900-01-01 & 1900-01-01 & 1900-01-01 & -8 &  -8 &  -8 & -8 & NA & -8 & -8           & -8 &   -8 &   -8 & -8  & -8 & -8 & -8 & -8 & -8   & -8 &  -8 & -8           & -8 &   -8 &   -8 & -8  & -8 & -8 & -8 & -8 & -8 & -8 & -8 & -8           & -8 &   -8 &   -8 & -8  & -8 & -8 & -8 & -8 & -8 & -8 & -8 & -8           & -8 &   -8 &   -8 & -8  & -8 & -8 & -8 & -8 & -8 & -8 & -8 & -8 & -8 & -8 & -8 & -8 & -8 & -8 & -8 & -8 & -8 & -8 & -8 & -8 & -8 &   0 & 0 & 0 & 0 & 0 & 0 & 0 & 0 & 0 & 1 & 1 & CMECF  & 1 & 2012-03-23 & 2099\\\\\n",
       "\t202391 & 2019 & 11 & 3J & 4 & 1100373 & 1 &  1 & NA & 0 & CR & -8 & -8 & 113J41100373CR0010 & 113J41100373CR0 & -8      & -8 & E & N & 1900-01-01 & 1900-01-01 & 2011-12-29 & 2011-12-29 &  2 & 2012-02-14 & 1  & NA & 3 & 21:844A=MP.M & 3 & 6504 & 6504 & C34 & 18:13-7990.M &  3 & 7990 & 7990 & C13 & -8           & -8 &   -8 &   -8 & -8  & -8           & -8 &   -8 &   -8 & -8  & -8 & -8 & -8 & -8 & -8 & 13179 & -8 & -8 & -8 & -8 & 1900-01-01 & 1900-01-01 & 1900-01-01 & 1900-01-01 & -8 &  -8 &  -8 & -8 & NA & -8 & -8           & -8 &   -8 &   -8 & -8  & -8 & -8 & -8 & -8 & -8   & -8 &  -8 & -8           & -8 &   -8 &   -8 & -8  & -8 & -8 & -8 & -8 & -8 & -8 & -8 & -8           & -8 &   -8 &   -8 & -8  & -8 & -8 & -8 & -8 & -8 & -8 & -8 & -8           & -8 &   -8 &   -8 & -8  & -8 & -8 & -8 & -8 & -8 & -8 & -8 & -8 & -8 & -8 & -8 & -8 & -8 & -8 & -8 & -8 & -8 & -8 & -8 & -8 & -8 &   0 & 0 & 0 & 0 & 0 & 0 & 0 & 0 & 0 & 1 & 1 & CMECF  & 1 & 2012-03-23 & 2099\\\\\n",
       "\t202519 & 2019 & 11 & 3J & 4 & 1700272 & 1 &  1 & NA & 0 & CR & -8 & -8 & 113J41700272CR0010 & 113J41700272CR0 & -8      & -8 & J & N & 1900-01-01 & 1900-01-01 & 2017-12-11 & 2017-12-11 &  2 & 1900-01-01 & -8 & NA & 3 & 21:844A=MP.M & 3 & 6504 & 6504 & C34 & 18:13-7990.M &  3 & 7990 & 7990 & C13 & -8           & -8 &   -8 &   -8 & -8  & -8           & -8 &   -8 &   -8 & -8  & -8 & -8 & -8 & -8 & -8 & 13179 & -8 & -8 & -8 & -8 & 1900-01-01 & 2019-03-04 & 1900-01-01 & 2019-03-04 &  0 &   0 &   0 & 4  & NA &  2 & 21:844A=MP.M &  3 & 6504 & 6504 & C34 &  1 &  0 & -8 &  0 & -8   &  0 &   0 & 18:13-7990.M &  3 & 7990 & 7990 & C13 &  1 &  0 & -8 &  0 & -8 &  0 &  0 & -8           & -8 &   -8 &   -8 & -8  & -8 & -8 & -8 & -8 & -8 & -8 & -8 & -8           & -8 &   -8 &   -8 & -8  & -8 & -8 & -8 & -8 & -8 & -8 & -8 & -8 & -8 & -8 & -8 & -8 & -8 & -8 & -8 & -8 & -8 & -8 & -8 & -8 & -8 &   0 & 0 & 0 & 0 & 0 & 1 & 1 & 1 & 0 & 0 & 0 & CMECF  & 2 & 2019-04-11 & 2019\\\\\n",
       "\t202863 & 2019 & 11 & 3J & 4 & 9800032 & 1 & -8 & NA & 0 & CR & -8 & -8 & 113J49800032CR0010 & 113J49800032CR0 & -8      & -8 & E & N & 1900-01-01 & 1900-01-01 & 1998-02-12 & 1998-02-12 &  2 & 1900-01-01 & -8 & NA & 0 & 21:844A=MP.M & 3 & 6504 & 6504 & C34 & 18:1382.P    &  1 & 9760 & 9760 & B32 & -8           & -8 &   -8 &   -8 & -8  & -8           & -8 &   -8 &   -8 & -8  & -8 & -8 & -8 & -8 & -8 & 13179 & -8 & -8 & -8 & -8 & 1998-10-02 & 1900-01-01 & 1900-01-01 & 1900-01-01 &  0 &   0 &   0 & -8 & NA & -8 & -8           & -8 &   -8 &   -8 & -8  & -8 &  0 & -8 &  0 & -8   &  0 &   0 & -8           & -8 &   -8 &   -8 & -8  & -8 &  0 & -8 &  0 & -8 &  0 &  0 & -8           & -8 &   -8 &   -8 & -8  & -8 &  0 & -8 &  0 & -8 &  0 &  0 & -8           & -8 &   -8 &   -8 & -8  & -8 &  0 & -8 &  0 & -8 &  0 &  0 & -8 & -8 & -8 & -8 & -8 & -8 &  0 & -8 &  0 & -8 &  0 &  0 &  0 &  0 &   0 & 0 & 0 & 0 & 0 & 0 & 0 & 0 & 0 & 1 & 1 & MASTER & 0 & 2012-03-21 & 2099\\\\\n",
       "\t202872 & 2019 & 11 & 3J & 4 & 9900126 & 1 & -8 & NA & 0 & CR & -8 & -8 & 113J49900126CR0010 & 113J49900126CR0 & -8      & -8 & E & N & 1900-01-01 & 1900-01-01 & 1999-07-14 & 1999-07-14 &  2 & 1900-01-01 & -8 & NA & 0 & 21:844A=MP.M & 3 & 6504 & 6504 & C34 & -8           & -8 &   -8 &   -8 & -8  & -8           & -8 &   -8 &   -8 & -8  & -8           & -8 &   -8 &   -8 & -8  & -8 & -8 & -8 & -8 & -8 & 13179 & -8 & -8 & -8 & -8 & 1999-08-10 & 1900-01-01 & 1900-01-01 & 1900-01-01 &  0 &   0 &   0 & -8 & NA & -8 & -8           & -8 &   -8 &   -8 & -8  & -8 &  0 & -8 &  0 & -8   &  0 &   0 & -8           & -8 &   -8 &   -8 & -8  & -8 &  0 & -8 &  0 & -8 &  0 &  0 & -8           & -8 &   -8 &   -8 & -8  & -8 &  0 & -8 &  0 & -8 &  0 &  0 & -8           & -8 &   -8 &   -8 & -8  & -8 &  0 & -8 &  0 & -8 &  0 &  0 & -8 & -8 & -8 & -8 & -8 & -8 &  0 & -8 &  0 & -8 &  0 &  0 &  0 &  0 &   0 & 0 & 0 & 0 & 0 & 0 & 0 & 0 & 0 & 1 & 1 & MASTER & 0 & 2012-03-21 & 2099\\\\\n",
       "\\end{tabular}\n"
      ],
      "text/markdown": [
       "\n",
       "A data.frame: 2223 × 144\n",
       "\n",
       "| <!--/--> | FISCALYR &lt;int&gt; | CIRCUIT &lt;int&gt; | DISTRICT &lt;chr&gt; | OFFICE &lt;chr&gt; | DOCKET &lt;int&gt; | DEFNO &lt;int&gt; | CTDEF &lt;int&gt; | NAME &lt;lgl&gt; | REOPSEQ &lt;int&gt; | TYPEREG &lt;fct&gt; | ⋯ ⋯ | CTTRTRN &lt;int&gt; | CTTR &lt;int&gt; | CTTRWOR &lt;int&gt; | CTTRR &lt;int&gt; | CTPN &lt;int&gt; | CTPNWOF &lt;int&gt; | SOURCE &lt;fct&gt; | VER &lt;int&gt; | LOADDATE &lt;fct&gt; | TAPEYEAR &lt;int&gt; |\n",
       "|---|---|---|---|---|---|---|---|---|---|---|---|---|---|---|---|---|---|---|---|---|---|\n",
       "| 1729 | 2019 | 0 | 90 | 1 | 9100227 | 1 | -8 | NA | 0 | CR | ⋯ | 0 | 0 | 0 | 0 | 1 | 0 | MASTER | 0 | 2012-03-21 | 2099 |\n",
       "| 2026 | 2019 | 0 | 90 | 1 | 9700293 | 2 | -8 | NA | 0 | CR | ⋯ | 0 | 0 | 0 | 0 | 1 | 0 | MASTER | 0 | 2012-03-21 | 2099 |\n",
       "| 9874 | 2019 | 2 | 6  | 1 |     503 | 1 | -8 | NA | 0 | CR | ⋯ | 0 | 0 | 0 | 0 | 1 | 1 | MASTER | 0 | 2012-03-21 | 2099 |\n",
       "| 9985 | 2019 | 2 | 6  | 1 | 1000583 | 1 |  1 | NA | 0 | CR | ⋯ | 0 | 0 | 0 | 0 | 1 | 1 | MASTER | 0 | 2012-03-21 | 2099 |\n",
       "| 10806 | 2019 | 2 | 6  | 7 | 1900075 | 1 |  1 | NA | 0 | CR | ⋯ | 0 | 0 | 0 | 0 | 1 | 1 | CMECF  | 2 | 2019-06-10 | 2099 |\n",
       "| 10941 | 2019 | 2 | 6  | 7 | 1800093 | 1 |  1 | NA | 0 | CR | ⋯ | 1 | 1 | 1 | 0 | 0 | 0 | CMECF  | 2 | 2018-12-06 | 2019 |\n",
       "| 10942 | 2019 | 2 | 6  | 7 | 1800129 | 1 |  1 | NA | 0 | CR | ⋯ | 1 | 1 | 1 | 0 | 0 | 0 | CMECF  | 1 | 2018-12-06 | 2019 |\n",
       "| 10944 | 2019 | 2 | 6  | 7 | 1800160 | 1 |  1 | NA | 0 | CR | ⋯ | 1 | 1 | 1 | 0 | 0 | 0 | CMECF  | 2 | 2018-12-06 | 2019 |\n",
       "| 10967 | 2019 | 2 | 6  | 7 | 1800371 | 1 |  1 | NA | 0 | CR | ⋯ | 1 | 1 | 1 | 0 | 0 | 0 | CMECF  | 1 | 2019-04-03 | 2019 |\n",
       "| 11490 | 2019 | 2 | 7  | 1 |  201047 | 1 |  1 | NA | 0 | CR | ⋯ | 0 | 0 | 0 | 0 | 1 | 1 | MASTER | 0 | 2012-03-21 | 2099 |\n",
       "| 13700 | 2019 | 2 | 7  | 1 | 7200108 | 1 | -8 | NA | 0 | CR | ⋯ | 0 | 0 | 0 | 0 | 1 | 0 | MASTER | 0 | 2012-03-21 | 2099 |\n",
       "| 14369 | 2019 | 2 | 7  | 1 | 9300644 | 1 | -8 | NA | 0 | CR | ⋯ | 0 | 0 | 0 | 0 | 1 | 1 | MASTER | 0 | 2012-03-21 | 2099 |\n",
       "| 14541 | 2019 | 2 | 7  | 1 | 9200790 | 1 | -8 | NA | 0 | CR | ⋯ | 0 | 0 | 0 | 0 | 1 | 1 | MASTER | 0 | 2012-03-21 | 2099 |\n",
       "| 14577 | 2019 | 2 | 7  | 1 | 9600850 | 1 | -8 | NA | 0 | CR | ⋯ | 0 | 0 | 0 | 0 | 1 | 1 | MASTER | 0 | 2012-03-21 | 2099 |\n",
       "| 14784 | 2019 | 2 | 7  | 1 | 9800475 | 1 | -8 | NA | 0 | CR | ⋯ | 0 | 0 | 0 | 0 | 1 | 1 | MASTER | 0 | 2012-03-21 | 2099 |\n",
       "| 16047 | 2019 | 2 | 7  | 9 | 9900804 | 1 | -8 | NA | 0 | CR | ⋯ | 0 | 0 | 0 | 0 | 1 | 1 | MASTER | 0 | 2012-03-21 | 2099 |\n",
       "| 19978 | 2019 | 2 | 8  | 1 | 1800881 | 1 |  1 | NA | 0 | CR | ⋯ | 1 | 1 | 1 | 0 | 0 | 0 | CMECF  | 1 | 2019-05-06 | 2019 |\n",
       "| 21406 | 2019 | 2 | 8  | 1 | 8600298 | 1 | -8 | NA | 0 | CR | ⋯ | 0 | 0 | 0 | 0 | 1 | 1 | MASTER | 0 | 2012-03-21 | 2099 |\n",
       "| 21433 | 2019 | 2 | 8  | 1 | 8901002 | 1 | -8 | NA | 0 | CR | ⋯ | 0 | 0 | 0 | 0 | 1 | 1 | MASTER | 0 | 2012-03-21 | 2099 |\n",
       "| 21511 | 2019 | 2 | 8  | 1 | 8700242 | 1 | -8 | NA | 0 | CR | ⋯ | 0 | 0 | 0 | 0 | 1 | 1 | MASTER | 0 | 2012-03-21 | 2099 |\n",
       "| 23819 | 2019 | 2 | 8  | 7 | 1606266 | 1 |  1 | NA | 0 | MJ | ⋯ | 0 | 0 | 0 | 0 | 1 | 1 | CMECF  | 0 | 2017-01-28 | 2099 |\n",
       "| 23821 | 2019 | 2 | 8  | 7 | 1606268 | 1 |  1 | NA | 0 | MJ | ⋯ | 0 | 0 | 0 | 0 | 1 | 1 | CMECF  | 0 | 2017-01-28 | 2099 |\n",
       "| 24069 | 2019 | 2 | 8  | 7 | 1700448 | 1 |  1 | NA | 0 | MJ | ⋯ | 0 | 0 | 0 | 0 | 1 | 1 | CMECF  | 1 | 2019-01-07 | 2099 |\n",
       "| 24070 | 2019 | 2 | 8  | 7 | 1700449 | 1 |  1 | NA | 0 | MJ | ⋯ | 0 | 0 | 0 | 0 | 1 | 1 | CMECF  | 1 | 2019-01-07 | 2099 |\n",
       "| 24071 | 2019 | 2 | 8  | 7 | 1700451 | 1 |  1 | NA | 0 | MJ | ⋯ | 0 | 0 | 0 | 0 | 1 | 1 | CMECF  | 0 | 2017-03-09 | 2099 |\n",
       "| 24152 | 2019 | 2 | 8  | 7 | 1701341 | 1 |  1 | NA | 0 | MJ | ⋯ | 0 | 0 | 0 | 0 | 1 | 1 | CMECF  | 0 | 2017-03-09 | 2099 |\n",
       "| 24153 | 2019 | 2 | 8  | 7 | 1702127 | 1 |  1 | NA | 0 | MJ | ⋯ | 0 | 0 | 0 | 0 | 1 | 1 | CMECF  | 1 | 2018-11-08 | 2099 |\n",
       "| 24154 | 2019 | 2 | 8  | 7 | 1702128 | 1 |  1 | NA | 0 | MJ | ⋯ | 0 | 0 | 0 | 0 | 1 | 1 | CMECF  | 0 | 2017-05-08 | 2099 |\n",
       "| 24414 | 2019 | 2 | 8  | 7 | 9000490 | 1 | -8 | NA | 0 | CR | ⋯ | 0 | 0 | 0 | 0 | 1 | 1 | MASTER | 0 | 2012-03-21 | 2099 |\n",
       "| 24519 | 2019 | 2 | 8  | 7 | 9500905 | 1 | -8 | NA | 0 | CR | ⋯ | 0 | 0 | 0 | 0 | 1 | 1 | MASTER | 0 | 2012-03-21 | 2099 |\n",
       "| ⋮ | ⋮ | ⋮ | ⋮ | ⋮ | ⋮ | ⋮ | ⋮ | ⋮ | ⋮ | ⋮ | ⋱ | ⋮ | ⋮ | ⋮ | ⋮ | ⋮ | ⋮ | ⋮ | ⋮ | ⋮ | ⋮ |\n",
       "| 200462 | 2019 | 11 | 3E | 2 | 9900009 | 1 | -8 | NA | 0 | MJ | ⋯ | 0 | 0 | 0 | 0 | 1 | 1 | MASTER | 0 | 2012-03-21 | 2099 |\n",
       "| 200714 | 2019 | 11 | 3G | 1 | 1900006 | 2 |  2 | NA | 0 | CR | ⋯ | 0 | 0 | 0 | 0 | 1 | 1 | CMECF  | 1 | 2019-04-01 | 2099 |\n",
       "| 201051 | 2019 | 11 | 3G | 4 | 1800006 | 1 |  1 | NA | 0 | MJ | ⋯ | 1 | 1 | 1 | 0 | 0 | 0 | CMECF  | 1 | 2019-01-23 | 2019 |\n",
       "| 201208 | 2019 | 11 | 3G | 5 | 1300716 | 1 |  1 | NA | 0 | MJ | ⋯ | 0 | 0 | 0 | 0 | 1 | 1 | CMECF  | 0 | 2013-08-01 | 2099 |\n",
       "| 201209 | 2019 | 11 | 3G | 5 | 1300717 | 1 |  1 | NA | 0 | MJ | ⋯ | 0 | 0 | 0 | 0 | 1 | 1 | CMECF  | 0 | 2013-08-01 | 2099 |\n",
       "| 201213 | 2019 | 11 | 3G | 5 | 1300812 | 1 |  1 | NA | 0 | MJ | ⋯ | 0 | 0 | 0 | 0 | 1 | 1 | CMECF  | 0 | 2013-09-11 | 2099 |\n",
       "| 201231 | 2019 | 11 | 3G | 5 | 1400032 | 1 |  1 | NA | 0 | MJ | ⋯ | 0 | 0 | 0 | 0 | 1 | 1 | CMECF  | 0 | 2014-04-04 | 2099 |\n",
       "| 201242 | 2019 | 11 | 3G | 5 | 1400070 | 2 |  2 | NA | 0 | MJ | ⋯ | 0 | 0 | 0 | 0 | 1 | 1 | CMECF  | 1 | 2014-09-03 | 2099 |\n",
       "| 201310 | 2019 | 11 | 3G | 4 | 1900059 | 1 |  1 | NA | 0 | MJ | ⋯ | 0 | 0 | 0 | 0 | 1 | 1 | CMECF  | 0 | 2019-06-11 | 2099 |\n",
       "| 201410 | 2019 | 11 | 3G | 5 | 1800035 | 1 |  1 | NA | 0 | MJ | ⋯ | 1 | 1 | 1 | 0 | 0 | 0 | CMECF  | 2 | 2018-11-06 | 2019 |\n",
       "| 201536 | 2019 | 11 | 3G | 5 | 1700090 | 1 |  1 | NA | 0 | MJ | ⋯ | 0 | 0 | 0 | 0 | 1 | 1 | CMECF  | 0 | 2017-11-02 | 2099 |\n",
       "| 201884 | 2019 | 11 | 3J | 1 | 1000187 | 1 |  1 | NA | 0 | CR | ⋯ | 0 | 0 | 0 | 0 | 1 | 1 | MASTER | 0 | 2012-03-21 | 2099 |\n",
       "| 202098 | 2019 | 11 | 3J | 4 |      16 | 1 | -8 | NA | 0 | CR | ⋯ | 0 | 0 | 0 | 0 | 1 | 1 | MASTER | 0 | 2012-03-21 | 2099 |\n",
       "| 202129 | 2019 | 11 | 3J | 4 |  100382 | 1 |  1 | NA | 0 | CR | ⋯ | 0 | 0 | 0 | 0 | 1 | 1 | MASTER | 0 | 2012-03-21 | 2099 |\n",
       "| 202279 | 2019 | 11 | 3J | 4 | 1400429 | 1 |  1 | NA | 0 | CR | ⋯ | 0 | 0 | 0 | 0 | 1 | 1 | CMECF  | 1 | 2015-05-06 | 2099 |\n",
       "| 202280 | 2019 | 11 | 3J | 4 | 1400429 | 2 |  2 | NA | 0 | CR | ⋯ | 0 | 0 | 0 | 0 | 1 | 1 | CMECF  | 1 | 2015-05-06 | 2099 |\n",
       "| 202281 | 2019 | 11 | 3J | 4 | 1400429 | 3 |  3 | NA | 0 | CR | ⋯ | 0 | 0 | 0 | 0 | 1 | 1 | CMECF  | 1 | 2015-05-06 | 2099 |\n",
       "| 202289 | 2019 | 11 | 3J | 4 | 1600198 | 1 |  1 | NA | 0 | CR | ⋯ | 0 | 0 | 0 | 0 | 1 | 1 | CMECF  | 1 | 2017-03-09 | 2099 |\n",
       "| 202293 | 2019 | 11 | 3J | 4 | 1600374 | 1 |  1 | NA | 0 | CR | ⋯ | 0 | 0 | 0 | 0 | 1 | 1 | CMECF  | 1 | 2017-05-03 | 2099 |\n",
       "| 202294 | 2019 | 11 | 3J | 4 | 1600376 | 1 |  1 | NA | 0 | CR | ⋯ | 0 | 0 | 0 | 0 | 1 | 1 | CMECF  | 1 | 2017-06-13 | 2099 |\n",
       "| 202295 | 2019 | 11 | 3J | 4 | 1600392 | 1 |  1 | NA | 0 | CR | ⋯ | 0 | 0 | 0 | 0 | 1 | 1 | CMECF  | 0 | 2017-01-28 | 2099 |\n",
       "| 202296 | 2019 | 11 | 3J | 4 | 1600393 | 1 |  1 | NA | 0 | CR | ⋯ | 0 | 0 | 0 | 0 | 1 | 1 | CMECF  | 1 | 2017-03-09 | 2099 |\n",
       "| 202299 | 2019 | 11 | 3J | 4 | 1700028 | 1 |  1 | NA | 0 | CR | ⋯ | 0 | 0 | 0 | 0 | 1 | 1 | CMECF  | 1 | 2017-06-13 | 2099 |\n",
       "| 202319 | 2019 | 11 | 3J | 4 |  400067 | 1 | -8 | NA | 0 | CR | ⋯ | 0 | 0 | 0 | 0 | 1 | 1 | MASTER | 0 | 2012-03-21 | 2099 |\n",
       "| 202344 | 2019 | 11 | 3J | 4 |  500202 | 1 |  1 | NA | 0 | CR | ⋯ | 0 | 0 | 0 | 0 | 1 | 1 | MASTER | 0 | 2012-03-21 | 2099 |\n",
       "| 202388 | 2019 | 11 | 3J | 4 | 1100329 | 1 |  1 | NA | 0 | CR | ⋯ | 0 | 0 | 0 | 0 | 1 | 1 | CMECF  | 1 | 2012-03-23 | 2099 |\n",
       "| 202391 | 2019 | 11 | 3J | 4 | 1100373 | 1 |  1 | NA | 0 | CR | ⋯ | 0 | 0 | 0 | 0 | 1 | 1 | CMECF  | 1 | 2012-03-23 | 2099 |\n",
       "| 202519 | 2019 | 11 | 3J | 4 | 1700272 | 1 |  1 | NA | 0 | CR | ⋯ | 1 | 1 | 1 | 0 | 0 | 0 | CMECF  | 2 | 2019-04-11 | 2019 |\n",
       "| 202863 | 2019 | 11 | 3J | 4 | 9800032 | 1 | -8 | NA | 0 | CR | ⋯ | 0 | 0 | 0 | 0 | 1 | 1 | MASTER | 0 | 2012-03-21 | 2099 |\n",
       "| 202872 | 2019 | 11 | 3J | 4 | 9900126 | 1 | -8 | NA | 0 | CR | ⋯ | 0 | 0 | 0 | 0 | 1 | 1 | MASTER | 0 | 2012-03-21 | 2099 |\n",
       "\n"
      ],
      "text/plain": [
       "       FISCALYR CIRCUIT DISTRICT OFFICE DOCKET  DEFNO CTDEF NAME REOPSEQ\n",
       "1729   2019     0       90       1      9100227 1     -8    NA   0      \n",
       "2026   2019     0       90       1      9700293 2     -8    NA   0      \n",
       "9874   2019     2       6        1          503 1     -8    NA   0      \n",
       "9985   2019     2       6        1      1000583 1      1    NA   0      \n",
       "10806  2019     2       6        7      1900075 1      1    NA   0      \n",
       "10941  2019     2       6        7      1800093 1      1    NA   0      \n",
       "10942  2019     2       6        7      1800129 1      1    NA   0      \n",
       "10944  2019     2       6        7      1800160 1      1    NA   0      \n",
       "10967  2019     2       6        7      1800371 1      1    NA   0      \n",
       "11490  2019     2       7        1       201047 1      1    NA   0      \n",
       "13700  2019     2       7        1      7200108 1     -8    NA   0      \n",
       "14369  2019     2       7        1      9300644 1     -8    NA   0      \n",
       "14541  2019     2       7        1      9200790 1     -8    NA   0      \n",
       "14577  2019     2       7        1      9600850 1     -8    NA   0      \n",
       "14784  2019     2       7        1      9800475 1     -8    NA   0      \n",
       "16047  2019     2       7        9      9900804 1     -8    NA   0      \n",
       "19978  2019     2       8        1      1800881 1      1    NA   0      \n",
       "21406  2019     2       8        1      8600298 1     -8    NA   0      \n",
       "21433  2019     2       8        1      8901002 1     -8    NA   0      \n",
       "21511  2019     2       8        1      8700242 1     -8    NA   0      \n",
       "23819  2019     2       8        7      1606266 1      1    NA   0      \n",
       "23821  2019     2       8        7      1606268 1      1    NA   0      \n",
       "24069  2019     2       8        7      1700448 1      1    NA   0      \n",
       "24070  2019     2       8        7      1700449 1      1    NA   0      \n",
       "24071  2019     2       8        7      1700451 1      1    NA   0      \n",
       "24152  2019     2       8        7      1701341 1      1    NA   0      \n",
       "24153  2019     2       8        7      1702127 1      1    NA   0      \n",
       "24154  2019     2       8        7      1702128 1      1    NA   0      \n",
       "24414  2019     2       8        7      9000490 1     -8    NA   0      \n",
       "24519  2019     2       8        7      9500905 1     -8    NA   0      \n",
       "⋮      ⋮        ⋮       ⋮        ⋮      ⋮       ⋮     ⋮     ⋮    ⋮      \n",
       "200462 2019     11      3E       2      9900009 1     -8    NA   0      \n",
       "200714 2019     11      3G       1      1900006 2      2    NA   0      \n",
       "201051 2019     11      3G       4      1800006 1      1    NA   0      \n",
       "201208 2019     11      3G       5      1300716 1      1    NA   0      \n",
       "201209 2019     11      3G       5      1300717 1      1    NA   0      \n",
       "201213 2019     11      3G       5      1300812 1      1    NA   0      \n",
       "201231 2019     11      3G       5      1400032 1      1    NA   0      \n",
       "201242 2019     11      3G       5      1400070 2      2    NA   0      \n",
       "201310 2019     11      3G       4      1900059 1      1    NA   0      \n",
       "201410 2019     11      3G       5      1800035 1      1    NA   0      \n",
       "201536 2019     11      3G       5      1700090 1      1    NA   0      \n",
       "201884 2019     11      3J       1      1000187 1      1    NA   0      \n",
       "202098 2019     11      3J       4           16 1     -8    NA   0      \n",
       "202129 2019     11      3J       4       100382 1      1    NA   0      \n",
       "202279 2019     11      3J       4      1400429 1      1    NA   0      \n",
       "202280 2019     11      3J       4      1400429 2      2    NA   0      \n",
       "202281 2019     11      3J       4      1400429 3      3    NA   0      \n",
       "202289 2019     11      3J       4      1600198 1      1    NA   0      \n",
       "202293 2019     11      3J       4      1600374 1      1    NA   0      \n",
       "202294 2019     11      3J       4      1600376 1      1    NA   0      \n",
       "202295 2019     11      3J       4      1600392 1      1    NA   0      \n",
       "202296 2019     11      3J       4      1600393 1      1    NA   0      \n",
       "202299 2019     11      3J       4      1700028 1      1    NA   0      \n",
       "202319 2019     11      3J       4       400067 1     -8    NA   0      \n",
       "202344 2019     11      3J       4       500202 1      1    NA   0      \n",
       "202388 2019     11      3J       4      1100329 1      1    NA   0      \n",
       "202391 2019     11      3J       4      1100373 1      1    NA   0      \n",
       "202519 2019     11      3J       4      1700272 1      1    NA   0      \n",
       "202863 2019     11      3J       4      9800032 1     -8    NA   0      \n",
       "202872 2019     11      3J       4      9900126 1     -8    NA   0      \n",
       "       TYPEREG ⋯ CTTRTRN CTTR CTTRWOR CTTRR CTPN CTPNWOF SOURCE VER LOADDATE  \n",
       "1729   CR      ⋯ 0       0    0       0     1    0       MASTER 0   2012-03-21\n",
       "2026   CR      ⋯ 0       0    0       0     1    0       MASTER 0   2012-03-21\n",
       "9874   CR      ⋯ 0       0    0       0     1    1       MASTER 0   2012-03-21\n",
       "9985   CR      ⋯ 0       0    0       0     1    1       MASTER 0   2012-03-21\n",
       "10806  CR      ⋯ 0       0    0       0     1    1       CMECF  2   2019-06-10\n",
       "10941  CR      ⋯ 1       1    1       0     0    0       CMECF  2   2018-12-06\n",
       "10942  CR      ⋯ 1       1    1       0     0    0       CMECF  1   2018-12-06\n",
       "10944  CR      ⋯ 1       1    1       0     0    0       CMECF  2   2018-12-06\n",
       "10967  CR      ⋯ 1       1    1       0     0    0       CMECF  1   2019-04-03\n",
       "11490  CR      ⋯ 0       0    0       0     1    1       MASTER 0   2012-03-21\n",
       "13700  CR      ⋯ 0       0    0       0     1    0       MASTER 0   2012-03-21\n",
       "14369  CR      ⋯ 0       0    0       0     1    1       MASTER 0   2012-03-21\n",
       "14541  CR      ⋯ 0       0    0       0     1    1       MASTER 0   2012-03-21\n",
       "14577  CR      ⋯ 0       0    0       0     1    1       MASTER 0   2012-03-21\n",
       "14784  CR      ⋯ 0       0    0       0     1    1       MASTER 0   2012-03-21\n",
       "16047  CR      ⋯ 0       0    0       0     1    1       MASTER 0   2012-03-21\n",
       "19978  CR      ⋯ 1       1    1       0     0    0       CMECF  1   2019-05-06\n",
       "21406  CR      ⋯ 0       0    0       0     1    1       MASTER 0   2012-03-21\n",
       "21433  CR      ⋯ 0       0    0       0     1    1       MASTER 0   2012-03-21\n",
       "21511  CR      ⋯ 0       0    0       0     1    1       MASTER 0   2012-03-21\n",
       "23819  MJ      ⋯ 0       0    0       0     1    1       CMECF  0   2017-01-28\n",
       "23821  MJ      ⋯ 0       0    0       0     1    1       CMECF  0   2017-01-28\n",
       "24069  MJ      ⋯ 0       0    0       0     1    1       CMECF  1   2019-01-07\n",
       "24070  MJ      ⋯ 0       0    0       0     1    1       CMECF  1   2019-01-07\n",
       "24071  MJ      ⋯ 0       0    0       0     1    1       CMECF  0   2017-03-09\n",
       "24152  MJ      ⋯ 0       0    0       0     1    1       CMECF  0   2017-03-09\n",
       "24153  MJ      ⋯ 0       0    0       0     1    1       CMECF  1   2018-11-08\n",
       "24154  MJ      ⋯ 0       0    0       0     1    1       CMECF  0   2017-05-08\n",
       "24414  CR      ⋯ 0       0    0       0     1    1       MASTER 0   2012-03-21\n",
       "24519  CR      ⋯ 0       0    0       0     1    1       MASTER 0   2012-03-21\n",
       "⋮      ⋮       ⋱ ⋮       ⋮    ⋮       ⋮     ⋮    ⋮       ⋮      ⋮   ⋮         \n",
       "200462 MJ      ⋯ 0       0    0       0     1    1       MASTER 0   2012-03-21\n",
       "200714 CR      ⋯ 0       0    0       0     1    1       CMECF  1   2019-04-01\n",
       "201051 MJ      ⋯ 1       1    1       0     0    0       CMECF  1   2019-01-23\n",
       "201208 MJ      ⋯ 0       0    0       0     1    1       CMECF  0   2013-08-01\n",
       "201209 MJ      ⋯ 0       0    0       0     1    1       CMECF  0   2013-08-01\n",
       "201213 MJ      ⋯ 0       0    0       0     1    1       CMECF  0   2013-09-11\n",
       "201231 MJ      ⋯ 0       0    0       0     1    1       CMECF  0   2014-04-04\n",
       "201242 MJ      ⋯ 0       0    0       0     1    1       CMECF  1   2014-09-03\n",
       "201310 MJ      ⋯ 0       0    0       0     1    1       CMECF  0   2019-06-11\n",
       "201410 MJ      ⋯ 1       1    1       0     0    0       CMECF  2   2018-11-06\n",
       "201536 MJ      ⋯ 0       0    0       0     1    1       CMECF  0   2017-11-02\n",
       "201884 CR      ⋯ 0       0    0       0     1    1       MASTER 0   2012-03-21\n",
       "202098 CR      ⋯ 0       0    0       0     1    1       MASTER 0   2012-03-21\n",
       "202129 CR      ⋯ 0       0    0       0     1    1       MASTER 0   2012-03-21\n",
       "202279 CR      ⋯ 0       0    0       0     1    1       CMECF  1   2015-05-06\n",
       "202280 CR      ⋯ 0       0    0       0     1    1       CMECF  1   2015-05-06\n",
       "202281 CR      ⋯ 0       0    0       0     1    1       CMECF  1   2015-05-06\n",
       "202289 CR      ⋯ 0       0    0       0     1    1       CMECF  1   2017-03-09\n",
       "202293 CR      ⋯ 0       0    0       0     1    1       CMECF  1   2017-05-03\n",
       "202294 CR      ⋯ 0       0    0       0     1    1       CMECF  1   2017-06-13\n",
       "202295 CR      ⋯ 0       0    0       0     1    1       CMECF  0   2017-01-28\n",
       "202296 CR      ⋯ 0       0    0       0     1    1       CMECF  1   2017-03-09\n",
       "202299 CR      ⋯ 0       0    0       0     1    1       CMECF  1   2017-06-13\n",
       "202319 CR      ⋯ 0       0    0       0     1    1       MASTER 0   2012-03-21\n",
       "202344 CR      ⋯ 0       0    0       0     1    1       MASTER 0   2012-03-21\n",
       "202388 CR      ⋯ 0       0    0       0     1    1       CMECF  1   2012-03-23\n",
       "202391 CR      ⋯ 0       0    0       0     1    1       CMECF  1   2012-03-23\n",
       "202519 CR      ⋯ 1       1    1       0     0    0       CMECF  2   2019-04-11\n",
       "202863 CR      ⋯ 0       0    0       0     1    1       MASTER 0   2012-03-21\n",
       "202872 CR      ⋯ 0       0    0       0     1    1       MASTER 0   2012-03-21\n",
       "       TAPEYEAR\n",
       "1729   2099    \n",
       "2026   2099    \n",
       "9874   2099    \n",
       "9985   2099    \n",
       "10806  2099    \n",
       "10941  2019    \n",
       "10942  2019    \n",
       "10944  2019    \n",
       "10967  2019    \n",
       "11490  2099    \n",
       "13700  2099    \n",
       "14369  2099    \n",
       "14541  2099    \n",
       "14577  2099    \n",
       "14784  2099    \n",
       "16047  2099    \n",
       "19978  2019    \n",
       "21406  2099    \n",
       "21433  2099    \n",
       "21511  2099    \n",
       "23819  2099    \n",
       "23821  2099    \n",
       "24069  2099    \n",
       "24070  2099    \n",
       "24071  2099    \n",
       "24152  2099    \n",
       "24153  2099    \n",
       "24154  2099    \n",
       "24414  2099    \n",
       "24519  2099    \n",
       "⋮      ⋮       \n",
       "200462 2099    \n",
       "200714 2099    \n",
       "201051 2019    \n",
       "201208 2099    \n",
       "201209 2099    \n",
       "201213 2099    \n",
       "201231 2099    \n",
       "201242 2099    \n",
       "201310 2099    \n",
       "201410 2019    \n",
       "201536 2099    \n",
       "201884 2099    \n",
       "202098 2099    \n",
       "202129 2099    \n",
       "202279 2099    \n",
       "202280 2099    \n",
       "202281 2099    \n",
       "202289 2099    \n",
       "202293 2099    \n",
       "202294 2099    \n",
       "202295 2099    \n",
       "202296 2099    \n",
       "202299 2099    \n",
       "202319 2099    \n",
       "202344 2099    \n",
       "202388 2099    \n",
       "202391 2099    \n",
       "202519 2019    \n",
       "202863 2099    \n",
       "202872 2099    "
      ]
     },
     "metadata": {},
     "output_type": "display_data"
    },
    {
     "data": {
      "text/html": [
       "2"
      ],
      "text/latex": [
       "2"
      ],
      "text/markdown": [
       "2"
      ],
      "text/plain": [
       "[1] 2"
      ]
     },
     "metadata": {},
     "output_type": "display_data"
    },
    {
     "data": {
      "text/html": [
       "27"
      ],
      "text/latex": [
       "27"
      ],
      "text/markdown": [
       "27"
      ],
      "text/plain": [
       "[1] 27"
      ]
     },
     "metadata": {},
     "output_type": "display_data"
    },
    {
     "data": {
      "text/html": [
       "0"
      ],
      "text/latex": [
       "0"
      ],
      "text/markdown": [
       "0"
      ],
      "text/plain": [
       "[1] 0"
      ]
     },
     "metadata": {},
     "output_type": "display_data"
    },
    {
     "data": {
      "text/html": [
       "0"
      ],
      "text/latex": [
       "0"
      ],
      "text/markdown": [
       "0"
      ],
      "text/plain": [
       "[1] 0"
      ]
     },
     "metadata": {},
     "output_type": "display_data"
    }
   ],
   "source": [
    "##What about Marijuana possession? could create policy options about that\n",
    "\n",
    "#that corresponds with FOFFCD1 code 6504\n",
    "\n",
    "##I will go through the same analysis steps I did with civil rights for marijuana\n",
    "\n",
    "##Count marijuana violations by District (90, 16, 13, 15)\n",
    "\n",
    "##Count total marijuana possession cases\n",
    "sum(cr19_df$FOFFCD1 == '6504')\n",
    "\n",
    "##First create a dataframe of just civil rights violations\n",
    "\n",
    "Marijuana_Pos <- subset(cr19_df, FOFFCD1 == '6504')\n",
    "Marijuana_Pos\n",
    "\n",
    "##then count by district\n",
    "\n",
    "sum(Marijuana_Pos$DISTRICT == '90')\n",
    "sum(Marijuana_Pos$DISTRICT == '16')\n",
    "sum(Marijuana_Pos$DISTRICT == '13')\n",
    "sum(Marijuana_Pos$DISTRICT == '15')"
   ]
  },
  {
   "cell_type": "code",
   "execution_count": 55,
   "metadata": {},
   "outputs": [
    {
     "data": {
      "text/html": [
       "0.000952834683182468"
      ],
      "text/latex": [
       "0.000952834683182468"
      ],
      "text/markdown": [
       "0.000952834683182468"
      ],
      "text/plain": [
       "[1] 0.0009528347"
      ]
     },
     "metadata": {},
     "output_type": "display_data"
    },
    {
     "data": {
      "text/html": [
       "0.00523458704924389"
      ],
      "text/latex": [
       "0.00523458704924389"
      ],
      "text/markdown": [
       "0.00523458704924389"
      ],
      "text/plain": [
       "[1] 0.005234587"
      ]
     },
     "metadata": {},
     "output_type": "display_data"
    }
   ],
   "source": [
    "##Proportion of Marijuana Possession Cases by District\n",
    "\n",
    "#90: DC\n",
    "\n",
    "2/2099\n",
    "\n",
    "#16: Maryland\n",
    "\n",
    "27/5158"
   ]
  },
  {
   "cell_type": "code",
   "execution_count": 56,
   "metadata": {},
   "outputs": [
    {
     "data": {
      "text/html": [
       "41"
      ],
      "text/latex": [
       "41"
      ],
      "text/markdown": [
       "41"
      ],
      "text/plain": [
       "[1] 41"
      ]
     },
     "metadata": {},
     "output_type": "display_data"
    },
    {
     "data": {
      "text/html": [
       "<table>\n",
       "<caption>A data.frame: 41 × 144</caption>\n",
       "<thead>\n",
       "\t<tr><th></th><th scope=col>FISCALYR</th><th scope=col>CIRCUIT</th><th scope=col>DISTRICT</th><th scope=col>OFFICE</th><th scope=col>DOCKET</th><th scope=col>DEFNO</th><th scope=col>CTDEF</th><th scope=col>NAME</th><th scope=col>REOPSEQ</th><th scope=col>TYPEREG</th><th scope=col>⋯</th><th scope=col>CTTRTRN</th><th scope=col>CTTR</th><th scope=col>CTTRWOR</th><th scope=col>CTTRR</th><th scope=col>CTPN</th><th scope=col>CTPNWOF</th><th scope=col>SOURCE</th><th scope=col>VER</th><th scope=col>LOADDATE</th><th scope=col>TAPEYEAR</th></tr>\n",
       "\t<tr><th></th><th scope=col>&lt;int&gt;</th><th scope=col>&lt;int&gt;</th><th scope=col>&lt;chr&gt;</th><th scope=col>&lt;chr&gt;</th><th scope=col>&lt;int&gt;</th><th scope=col>&lt;int&gt;</th><th scope=col>&lt;int&gt;</th><th scope=col>&lt;lgl&gt;</th><th scope=col>&lt;int&gt;</th><th scope=col>&lt;fct&gt;</th><th scope=col>⋯</th><th scope=col>&lt;int&gt;</th><th scope=col>&lt;int&gt;</th><th scope=col>&lt;int&gt;</th><th scope=col>&lt;int&gt;</th><th scope=col>&lt;int&gt;</th><th scope=col>&lt;int&gt;</th><th scope=col>&lt;fct&gt;</th><th scope=col>&lt;int&gt;</th><th scope=col>&lt;fct&gt;</th><th scope=col>&lt;int&gt;</th></tr>\n",
       "</thead>\n",
       "<tbody>\n",
       "\t<tr><th scope=row>2104</th><td>2019</td><td> 1</td><td>0 </td><td>1</td><td> 800008</td><td>1</td><td> 1</td><td>NA</td><td>0</td><td>CR</td><td>⋯</td><td>0</td><td>0</td><td>0</td><td>0</td><td>1</td><td>1</td><td>CMECF </td><td>0</td><td>2013-07-10</td><td>2099</td></tr>\n",
       "\t<tr><th scope=row>5358</th><td>2019</td><td> 1</td><td>4 </td><td>3</td><td>1500597</td><td>1</td><td> 1</td><td>NA</td><td>0</td><td>CR</td><td>⋯</td><td>1</td><td>1</td><td>1</td><td>0</td><td>0</td><td>0</td><td>CMECF </td><td>2</td><td>2019-07-10</td><td>2019</td></tr>\n",
       "\t<tr><th scope=row>6656</th><td>2019</td><td> 1</td><td>4 </td><td>3</td><td>1800038</td><td>1</td><td> 1</td><td>NA</td><td>0</td><td>CR</td><td>⋯</td><td>0</td><td>0</td><td>0</td><td>0</td><td>1</td><td>1</td><td>CMECF </td><td>2</td><td>2018-06-10</td><td>2099</td></tr>\n",
       "\t<tr><th scope=row>6657</th><td>2019</td><td> 1</td><td>4 </td><td>3</td><td>1800039</td><td>1</td><td> 1</td><td>NA</td><td>0</td><td>CR</td><td>⋯</td><td>0</td><td>0</td><td>0</td><td>0</td><td>1</td><td>1</td><td>CMECF </td><td>1</td><td>2018-03-11</td><td>2099</td></tr>\n",
       "\t<tr><th scope=row>6906</th><td>2019</td><td> 1</td><td>4 </td><td>3</td><td>1800093</td><td>1</td><td> 1</td><td>NA</td><td>0</td><td>CR</td><td>⋯</td><td>0</td><td>0</td><td>0</td><td>0</td><td>1</td><td>1</td><td>CMECF </td><td>1</td><td>2018-07-11</td><td>2099</td></tr>\n",
       "\t<tr><th scope=row>6949</th><td>2019</td><td> 1</td><td>4 </td><td>3</td><td>1800132</td><td>1</td><td> 1</td><td>NA</td><td>0</td><td>CR</td><td>⋯</td><td>0</td><td>0</td><td>0</td><td>0</td><td>1</td><td>1</td><td>CMECF </td><td>0</td><td>2018-04-09</td><td>2099</td></tr>\n",
       "\t<tr><th scope=row>7134</th><td>2019</td><td> 1</td><td>4 </td><td>3</td><td>1800288</td><td>1</td><td> 1</td><td>NA</td><td>0</td><td>CR</td><td>⋯</td><td>0</td><td>0</td><td>0</td><td>0</td><td>1</td><td>1</td><td>CMECF </td><td>0</td><td>2018-05-23</td><td>2099</td></tr>\n",
       "\t<tr><th scope=row>8207</th><td>2019</td><td> 1</td><td>4 </td><td>3</td><td>1900263</td><td>1</td><td> 1</td><td>NA</td><td>0</td><td>CR</td><td>⋯</td><td>0</td><td>0</td><td>0</td><td>0</td><td>1</td><td>1</td><td>CMECF </td><td>0</td><td>2019-05-12</td><td>2099</td></tr>\n",
       "\t<tr><th scope=row>8295</th><td>2019</td><td> 1</td><td>4 </td><td>3</td><td>1900175</td><td>1</td><td> 1</td><td>NA</td><td>0</td><td>CR</td><td>⋯</td><td>0</td><td>0</td><td>0</td><td>0</td><td>1</td><td>1</td><td>CMECF </td><td>0</td><td>2019-04-23</td><td>2099</td></tr>\n",
       "\t<tr><th scope=row>8714</th><td>2019</td><td> 2</td><td>5 </td><td>3</td><td>1400007</td><td>1</td><td> 1</td><td>NA</td><td>0</td><td>CR</td><td>⋯</td><td>0</td><td>0</td><td>0</td><td>0</td><td>1</td><td>1</td><td>CMECF </td><td>1</td><td>2017-01-28</td><td>2099</td></tr>\n",
       "\t<tr><th scope=row>14608</th><td>2019</td><td> 2</td><td>7 </td><td>1</td><td>9700443</td><td>1</td><td>-8</td><td>NA</td><td>0</td><td>CR</td><td>⋯</td><td>0</td><td>0</td><td>0</td><td>0</td><td>1</td><td>1</td><td>MASTER</td><td>0</td><td>2012-03-21</td><td>2099</td></tr>\n",
       "\t<tr><th scope=row>41990</th><td>2019</td><td> 9</td><td>77</td><td>4</td><td>1900016</td><td>1</td><td> 1</td><td>NA</td><td>0</td><td>CR</td><td>⋯</td><td>0</td><td>0</td><td>0</td><td>0</td><td>1</td><td>1</td><td>CMECF </td><td>1</td><td>2019-05-09</td><td>2099</td></tr>\n",
       "\t<tr><th scope=row>42173</th><td>2019</td><td> 9</td><td>78</td><td>2</td><td> 400495</td><td>1</td><td> 2</td><td>NA</td><td>0</td><td>CR</td><td>⋯</td><td>0</td><td>0</td><td>0</td><td>0</td><td>1</td><td>1</td><td>CMECF </td><td>1</td><td>2017-02-13</td><td>2099</td></tr>\n",
       "\t<tr><th scope=row>42195</th><td>2019</td><td> 9</td><td>78</td><td>2</td><td> 700161</td><td>1</td><td> 1</td><td>NA</td><td>0</td><td>CR</td><td>⋯</td><td>0</td><td>0</td><td>0</td><td>0</td><td>1</td><td>1</td><td>MASTER</td><td>0</td><td>2012-03-21</td><td>2099</td></tr>\n",
       "\t<tr><th scope=row>47268</th><td>2019</td><td> 9</td><td>81</td><td>2</td><td>9600378</td><td>1</td><td>-8</td><td>NA</td><td>0</td><td>CR</td><td>⋯</td><td>0</td><td>0</td><td>0</td><td>0</td><td>1</td><td>0</td><td>MASTER</td><td>0</td><td>2012-03-21</td><td>2099</td></tr>\n",
       "\t<tr><th scope=row>48843</th><td>2019</td><td> 9</td><td>81</td><td>3</td><td>9805001</td><td>1</td><td> 1</td><td>NA</td><td>0</td><td>CR</td><td>⋯</td><td>0</td><td>0</td><td>0</td><td>0</td><td>1</td><td>1</td><td>CMECF </td><td>1</td><td>2017-09-11</td><td>2099</td></tr>\n",
       "\t<tr><th scope=row>60602</th><td>2019</td><td>10</td><td>88</td><td>2</td><td>1200017</td><td>1</td><td> 1</td><td>NA</td><td>0</td><td>CR</td><td>⋯</td><td>0</td><td>0</td><td>0</td><td>0</td><td>1</td><td>1</td><td>CMECF </td><td>2</td><td>2012-05-08</td><td>2099</td></tr>\n",
       "\t<tr><th scope=row>62388</th><td>2019</td><td>10</td><td>89</td><td>2</td><td>1900102</td><td>1</td><td> 1</td><td>NA</td><td>0</td><td>CR</td><td>⋯</td><td>0</td><td>0</td><td>0</td><td>0</td><td>1</td><td>1</td><td>CMECF </td><td>0</td><td>2019-07-03</td><td>2099</td></tr>\n",
       "\t<tr><th scope=row>63966</th><td>2019</td><td>11</td><td>26</td><td>5</td><td>9700218</td><td>1</td><td>-8</td><td>NA</td><td>0</td><td>CR</td><td>⋯</td><td>0</td><td>0</td><td>0</td><td>0</td><td>1</td><td>1</td><td>MASTER</td><td>0</td><td>2012-03-21</td><td>2099</td></tr>\n",
       "\t<tr><th scope=row>94958</th><td>2019</td><td> 5</td><td>42</td><td>6</td><td>9900072</td><td>1</td><td> 1</td><td>NA</td><td>0</td><td>CR</td><td>⋯</td><td>0</td><td>0</td><td>0</td><td>0</td><td>1</td><td>1</td><td>CMECF </td><td>0</td><td>2018-03-12</td><td>2099</td></tr>\n",
       "\t<tr><th scope=row>106172</th><td>2019</td><td> 6</td><td>49</td><td>3</td><td>1800066</td><td>1</td><td> 1</td><td>NA</td><td>0</td><td>CR</td><td>⋯</td><td>1</td><td>1</td><td>1</td><td>0</td><td>0</td><td>0</td><td>CMECF </td><td>1</td><td>2019-02-05</td><td>2019</td></tr>\n",
       "\t<tr><th scope=row>106173</th><td>2019</td><td> 6</td><td>49</td><td>3</td><td>1800066</td><td>2</td><td> 2</td><td>NA</td><td>0</td><td>CR</td><td>⋯</td><td>1</td><td>1</td><td>1</td><td>0</td><td>0</td><td>0</td><td>CMECF </td><td>1</td><td>2019-01-06</td><td>2019</td></tr>\n",
       "\t<tr><th scope=row>114252</th><td>2019</td><td> 7</td><td>55</td><td>2</td><td>1700111</td><td>1</td><td> 1</td><td>NA</td><td>0</td><td>CR</td><td>⋯</td><td>1</td><td>1</td><td>1</td><td>0</td><td>0</td><td>0</td><td>CMECF </td><td>1</td><td>2019-05-13</td><td>2019</td></tr>\n",
       "\t<tr><th scope=row>127253</th><td>2019</td><td> 8</td><td>67</td><td>8</td><td>1400331</td><td>1</td><td> 1</td><td>NA</td><td>0</td><td>CR</td><td>⋯</td><td>0</td><td>0</td><td>0</td><td>0</td><td>1</td><td>1</td><td>CMECF </td><td>0</td><td>2014-11-04</td><td>2099</td></tr>\n",
       "\t<tr><th scope=row>127272</th><td>2019</td><td> 8</td><td>67</td><td>8</td><td>1600261</td><td>1</td><td> 1</td><td>NA</td><td>0</td><td>CR</td><td>⋯</td><td>1</td><td>1</td><td>1</td><td>0</td><td>0</td><td>0</td><td>CMECF </td><td>2</td><td>2019-04-05</td><td>2019</td></tr>\n",
       "\t<tr><th scope=row>127339</th><td>2019</td><td> 8</td><td>67</td><td>8</td><td>1800117</td><td>1</td><td> 1</td><td>NA</td><td>0</td><td>CR</td><td>⋯</td><td>0</td><td>0</td><td>0</td><td>0</td><td>1</td><td>1</td><td>CMECF </td><td>1</td><td>2018-08-06</td><td>2099</td></tr>\n",
       "\t<tr><th scope=row>127634</th><td>2019</td><td> 8</td><td>67</td><td>8</td><td>1800330</td><td>1</td><td> 1</td><td>NA</td><td>0</td><td>CR</td><td>⋯</td><td>0</td><td>0</td><td>0</td><td>0</td><td>1</td><td>1</td><td>CMECF </td><td>0</td><td>2019-01-02</td><td>2099</td></tr>\n",
       "\t<tr><th scope=row>127951</th><td>2019</td><td> 8</td><td>67</td><td>8</td><td>1900195</td><td>1</td><td> 1</td><td>NA</td><td>0</td><td>CR</td><td>⋯</td><td>0</td><td>0</td><td>0</td><td>0</td><td>1</td><td>1</td><td>CMECF </td><td>0</td><td>2019-07-11</td><td>2099</td></tr>\n",
       "\t<tr><th scope=row>128418</th><td>2019</td><td> 8</td><td>68</td><td>3</td><td>1800082</td><td>1</td><td> 1</td><td>NA</td><td>0</td><td>CR</td><td>⋯</td><td>1</td><td>1</td><td>1</td><td>0</td><td>0</td><td>0</td><td>CMECF </td><td>3</td><td>2019-05-07</td><td>2019</td></tr>\n",
       "\t<tr><th scope=row>128511</th><td>2019</td><td> 8</td><td>68</td><td>3</td><td>1700163</td><td>1</td><td> 1</td><td>NA</td><td>0</td><td>CR</td><td>⋯</td><td>1</td><td>1</td><td>1</td><td>0</td><td>0</td><td>0</td><td>CMECF </td><td>2</td><td>2019-04-02</td><td>2019</td></tr>\n",
       "\t<tr><th scope=row>129443</th><td>2019</td><td> 8</td><td>69</td><td>5</td><td>1750109</td><td>1</td><td> 1</td><td>NA</td><td>0</td><td>CR</td><td>⋯</td><td>1</td><td>1</td><td>1</td><td>0</td><td>0</td><td>0</td><td>CMECF </td><td>2</td><td>2019-02-05</td><td>2019</td></tr>\n",
       "\t<tr><th scope=row>144128</th><td>2019</td><td> 9</td><td>73</td><td>2</td><td> 100536</td><td>1</td><td>-8</td><td>NA</td><td>0</td><td>CR</td><td>⋯</td><td>0</td><td>0</td><td>0</td><td>0</td><td>1</td><td>0</td><td>MASTER</td><td>0</td><td>2012-03-21</td><td>2099</td></tr>\n",
       "\t<tr><th scope=row>146433</th><td>2019</td><td> 9</td><td>73</td><td>2</td><td>1700719</td><td>1</td><td> 1</td><td>NA</td><td>0</td><td>CR</td><td>⋯</td><td>0</td><td>0</td><td>0</td><td>0</td><td>1</td><td>1</td><td>CMECF </td><td>1</td><td>2018-02-06</td><td>2099</td></tr>\n",
       "\t<tr><th scope=row>161990</th><td>2019</td><td> 9</td><td>77</td><td>4</td><td>1900016</td><td>1</td><td> 1</td><td>NA</td><td>0</td><td>CR</td><td>⋯</td><td>0</td><td>0</td><td>0</td><td>0</td><td>1</td><td>1</td><td>CMECF </td><td>1</td><td>2019-05-09</td><td>2099</td></tr>\n",
       "\t<tr><th scope=row>162173</th><td>2019</td><td> 9</td><td>78</td><td>2</td><td> 400495</td><td>1</td><td> 2</td><td>NA</td><td>0</td><td>CR</td><td>⋯</td><td>0</td><td>0</td><td>0</td><td>0</td><td>1</td><td>1</td><td>CMECF </td><td>1</td><td>2017-02-13</td><td>2099</td></tr>\n",
       "\t<tr><th scope=row>162195</th><td>2019</td><td> 9</td><td>78</td><td>2</td><td> 700161</td><td>1</td><td> 1</td><td>NA</td><td>0</td><td>CR</td><td>⋯</td><td>0</td><td>0</td><td>0</td><td>0</td><td>1</td><td>1</td><td>MASTER</td><td>0</td><td>2012-03-21</td><td>2099</td></tr>\n",
       "\t<tr><th scope=row>167268</th><td>2019</td><td> 9</td><td>81</td><td>2</td><td>9600378</td><td>1</td><td>-8</td><td>NA</td><td>0</td><td>CR</td><td>⋯</td><td>0</td><td>0</td><td>0</td><td>0</td><td>1</td><td>0</td><td>MASTER</td><td>0</td><td>2012-03-21</td><td>2099</td></tr>\n",
       "\t<tr><th scope=row>168843</th><td>2019</td><td> 9</td><td>81</td><td>3</td><td>9805001</td><td>1</td><td> 1</td><td>NA</td><td>0</td><td>CR</td><td>⋯</td><td>0</td><td>0</td><td>0</td><td>0</td><td>1</td><td>1</td><td>CMECF </td><td>1</td><td>2017-09-11</td><td>2099</td></tr>\n",
       "\t<tr><th scope=row>180602</th><td>2019</td><td>10</td><td>88</td><td>2</td><td>1200017</td><td>1</td><td> 1</td><td>NA</td><td>0</td><td>CR</td><td>⋯</td><td>0</td><td>0</td><td>0</td><td>0</td><td>1</td><td>1</td><td>CMECF </td><td>2</td><td>2012-05-08</td><td>2099</td></tr>\n",
       "\t<tr><th scope=row>182388</th><td>2019</td><td>10</td><td>89</td><td>2</td><td>1900102</td><td>1</td><td> 1</td><td>NA</td><td>0</td><td>CR</td><td>⋯</td><td>0</td><td>0</td><td>0</td><td>0</td><td>1</td><td>1</td><td>CMECF </td><td>0</td><td>2019-07-03</td><td>2099</td></tr>\n",
       "\t<tr><th scope=row>183966</th><td>2019</td><td>11</td><td>26</td><td>5</td><td>9700218</td><td>1</td><td>-8</td><td>NA</td><td>0</td><td>CR</td><td>⋯</td><td>0</td><td>0</td><td>0</td><td>0</td><td>1</td><td>1</td><td>MASTER</td><td>0</td><td>2012-03-21</td><td>2099</td></tr>\n",
       "</tbody>\n",
       "</table>\n"
      ],
      "text/latex": [
       "A data.frame: 41 × 144\n",
       "\\begin{tabular}{r|llllllllllllllllllllllllllllllllllllllllllllllllllllllllllllllllllllllllllllllllllllllllllllllllllllllllllllllllllllllllllllllllllllllllllllllll}\n",
       "  & FISCALYR & CIRCUIT & DISTRICT & OFFICE & DOCKET & DEFNO & CTDEF & NAME & REOPSEQ & TYPEREG & TYPETRN & TYPEMAG & DEFLGKY & CASLGKY & MAGDOCK & MAGDEF & STATUSCD & FUGSTAT & FGSTRTDATE & FGENDDATE & FILEDATE & PROCDATE & PROCCD & APPDATE & APPCD & FJUDGE & FCOUNSEL & FTITLE1 & FOFFLVL1 & FOFFCD1 & D2FOFFCD1 & FSEV1 & FTITLE2 & FOFFLVL2 & FOFFCD2 & D2FOFFCD2 & FSEV2 & FTITLE3 & FOFFLVL3 & FOFFCD3 & D2FOFFCD3 & FSEV3 & FTITLE4 & FOFFLVL4 & FOFFCD4 & D2FOFFCD4 & FSEV4 & FTITLE5 & FOFFLVL5 & FOFFCD5 & D2FOFFCD5 & FSEV5 & COUNTY & TRANDIST & TRANOFF & TRANDOCK & TRANDEF & UPDATE & DISPDATE & SENTDATE & TERMDATE & INT1 & INT2 & INT3 & TERMOFF & TJUDGE & TCOUNSEL & TTITLE1 & TOFFLVL1 & TOFFCD1 & D2TOFFCD1 & TSEV1 & DISP1 & PRISTIM1 & PRISCD1 & PROBMON1 & PROBCD1 & SUPVREL1 & FINEAMT1 & TTITLE2 & TOFFLVL2 & TOFFCD2 & D2TOFFCD2 & TSEV2 & DISP2 & PRISTIM2 & PRISCD2 & PROBMON2 & PROBCD2 & SUPVREL2 & FINEAMT2 & TTITLE3 & TOFFLVL3 & TOFFCD3 & D2TOFFCD3 & TSEV3 & DISP3 & PRISTIM3 & PRISCD3 & PROBMON3 & PROBCD3 & SUPVREL3 & FINEAMT3 & TTITLE4 & TOFFLVL4 & TOFFCD4 & D2TOFFCD4 & TSEV4 & DISP4 & PRISTIM4 & PRISCD4 & PROBMON4 & PROBCD4 & SUPVREL4 & FINEAMT4 & TTITLE5 & TOFFLVL5 & TOFFCD5 & D2TOFFCD5 & TSEV5 & DISP5 & PRISTIM5 & PRISCD5 & PROBMON5 & PROBCD5 & SUPVREL5 & FINEAMT5 & PRISTOT & PROBTOT & FINETOT & CTFILTRN & CTFIL & CTFILWOR & CTFILR & CTTRTRN & CTTR & CTTRWOR & CTTRR & CTPN & CTPNWOF & SOURCE & VER & LOADDATE & TAPEYEAR\\\\\n",
       "  & <int> & <int> & <chr> & <chr> & <int> & <int> & <int> & <lgl> & <int> & <fct> & <fct> & <fct> & <fct> & <fct> & <fct> & <int> & <fct> & <fct> & <fct> & <fct> & <fct> & <fct> & <int> & <fct> & <fct> & <lgl> & <int> & <fct> & <int> & <int> & <int> & <fct> & <fct> & <int> & <int> & <int> & <fct> & <fct> & <int> & <int> & <int> & <fct> & <fct> & <int> & <int> & <int> & <fct> & <fct> & <int> & <int> & <int> & <fct> & <int> & <chr> & <int> & <int> & <int> & <fct> & <fct> & <fct> & <fct> & <int> & <int> & <int> & <chr> & <lgl> & <int> & <fct> & <int> & <int> & <int> & <fct> & <int> & <int> & <fct> & <int> & <fct> & <int> & <int> & <fct> & <int> & <int> & <int> & <fct> & <int> & <int> & <fct> & <int> & <fct> & <int> & <int> & <fct> & <int> & <int> & <int> & <fct> & <int> & <int> & <fct> & <int> & <fct> & <int> & <int> & <fct> & <int> & <int> & <int> & <fct> & <int> & <int> & <fct> & <int> & <fct> & <int> & <int> & <fct> & <int> & <int> & <int> & <fct> & <int> & <int> & <fct> & <int> & <fct> & <int> & <int> & <int> & <int> & <int> & <int> & <int> & <int> & <int> & <int> & <int> & <int> & <int> & <int> & <int> & <fct> & <int> & <fct> & <int>\\\\\n",
       "\\hline\n",
       "\t2104 & 2019 &  1 & 0  & 1 &  800008 & 1 &  1 & NA & 0 & CR & -8 & -8 & 010010800008CR0010 & 010010800008CR0 & -8      & -8 & E & N & 1900-01-01 & 1900-01-01 & 2008-01-08 & 2008-01-08 & 22 & 2008-01-22 & 1  & NA & 0 & 18:5032.M & 3 & 7991 & 7991 & A00 & -8        & -8 &   -8 &   -8 & -8  & -8        & -8 &   -8 &   -8 & -8  & -8        & -8 &   -8 &   -8 & -8  & -8        & -8 &   -8 &   -8 & -8  & 23009 & -8 & -8 & -8 & -8 & 1900-01-01 & 1900-01-01 & 1900-01-01 & 1900-01-01 & -8 &  -8 &  -8 & -8 & NA & -8 & -8        & -8 &   -8 &   -8 & -8  & -8 & -8 & -8   & -8 & -8   & -8 &    -8 & -8        & -8 &   -8 &   -8 & -8  & -8 & -8 & -8 & -8 & -8   & -8 & -8 & -8        & -8 &   -8 &   -8 & -8  & -8 & -8 & -8 & -8 & -8 & -8 & -8 & -8 & -8 & -8 & -8 & -8 & -8 & -8 & -8 & -8 & -8 & -8 & -8 & -8 & -8 & -8 & -8 & -8 & -8 & -8 & -8 & -8 & -8 & -8 & -8 & -8 & -8 &     0 & 0 & 0 & 0 & 0 & 0 & 0 & 0 & 0 & 1 & 1 & CMECF  & 0 & 2013-07-10 & 2099\\\\\n",
       "\t5358 & 2019 &  1 & 4  & 3 & 1500597 & 1 &  1 & NA & 0 & CR & -8 & -8 & 010431500597CR0010 & 010431500597CR0 & -8      & -8 & J & N & 1900-01-01 & 1900-01-01 & 2015-09-17 & 2015-09-17 & 13 & 2015-09-17 & 1  & NA & 6 & 18:5032.F & 4 & 7991 & 7991 & A00 & -8        & -8 &   -8 &   -8 & -8  & -8        & -8 &   -8 &   -8 & -8  & -8        & -8 &   -8 &   -8 & -8  & -8        & -8 &   -8 &   -8 & -8  & 72025 & -8 & -8 & -8 & -8 & 1900-01-01 & 2019-06-03 & 1900-01-01 & 2019-06-03 &  0 &   0 &   0 & 3  & NA &  6 & 18:5032.F &  4 & 7991 & 7991 & A00 &  1 &  0 & -8   &  0 & -8   &  0 &     0 & -8        & -8 &   -8 &   -8 & -8  & -8 & -8 & -8 & -8 & -8   & -8 & -8 & -8        & -8 &   -8 &   -8 & -8  & -8 & -8 & -8 & -8 & -8 & -8 & -8 & -8 & -8 & -8 & -8 & -8 & -8 & -8 & -8 & -8 & -8 & -8 & -8 & -8 & -8 & -8 & -8 & -8 & -8 & -8 & -8 & -8 & -8 & -8 & -8 & -8 & -8 &     0 & 0 & 0 & 0 & 0 & 1 & 1 & 1 & 0 & 0 & 0 & CMECF  & 2 & 2019-07-10 & 2019\\\\\n",
       "\t6656 & 2019 &  1 & 4  & 3 & 1800038 & 1 &  1 & NA & 0 & CR & -8 & -8 & 010431800038CR0010 & 010431800038CR0 & -8      & -8 & E & N & 2018-01-25 & 2018-01-26 & 2018-01-25 & 2018-01-25 &  9 & 2018-01-26 & 1  & NA & 1 & 18:5032.F & 4 & 7991 & 7991 & A00 & 18:5032.F &  4 & 7991 & 7991 & A00 & 18:5032.F &  4 & 7991 & 7991 & A00 & 18:5032.F &  4 & 7991 & 7991 & A00 & 18:5032.F &  4 & 7991 & 7991 & A00 & 72127 & -8 & -8 & -8 & -8 & 1900-01-01 & 1900-01-01 & 1900-01-01 & 1900-01-01 & -8 &  -8 &  -8 & -8 & NA & -8 & -8        & -8 &   -8 &   -8 & -8  & -8 & -8 & -8   & -8 & -8   & -8 &    -8 & -8        & -8 &   -8 &   -8 & -8  & -8 & -8 & -8 & -8 & -8   & -8 & -8 & -8        & -8 &   -8 &   -8 & -8  & -8 & -8 & -8 & -8 & -8 & -8 & -8 & -8 & -8 & -8 & -8 & -8 & -8 & -8 & -8 & -8 & -8 & -8 & -8 & -8 & -8 & -8 & -8 & -8 & -8 & -8 & -8 & -8 & -8 & -8 & -8 & -8 & -8 &     0 & 0 & 0 & 0 & 0 & 0 & 0 & 0 & 0 & 1 & 1 & CMECF  & 2 & 2018-06-10 & 2099\\\\\n",
       "\t6657 & 2019 &  1 & 4  & 3 & 1800039 & 1 &  1 & NA & 0 & CR & -8 & -8 & 010431800039CR0010 & 010431800039CR0 & -8      & -8 & E & N & 2018-01-25 & 2018-01-26 & 2018-01-25 & 2018-01-25 &  9 & 2018-01-26 & A  & NA & 1 & 18:5032.F & 4 & 7991 & 7991 & A00 & 18:5032.F &  4 & 7991 & 7991 & A00 & 18:5032.F &  4 & 7991 & 7991 & A00 & 18:5032.F &  4 & 7991 & 7991 & A00 & 18:5032.F &  4 & 7991 & 7991 & A00 & 72127 & -8 & -8 & -8 & -8 & 1900-01-01 & 1900-01-01 & 1900-01-01 & 1900-01-01 & -8 &  -8 &  -8 & -8 & NA & -8 & -8        & -8 &   -8 &   -8 & -8  & -8 & -8 & -8   & -8 & -8   & -8 &    -8 & -8        & -8 &   -8 &   -8 & -8  & -8 & -8 & -8 & -8 & -8   & -8 & -8 & -8        & -8 &   -8 &   -8 & -8  & -8 & -8 & -8 & -8 & -8 & -8 & -8 & -8 & -8 & -8 & -8 & -8 & -8 & -8 & -8 & -8 & -8 & -8 & -8 & -8 & -8 & -8 & -8 & -8 & -8 & -8 & -8 & -8 & -8 & -8 & -8 & -8 & -8 &     0 & 0 & 0 & 0 & 0 & 0 & 0 & 0 & 0 & 1 & 1 & CMECF  & 1 & 2018-03-11 & 2099\\\\\n",
       "\t6906 & 2019 &  1 & 4  & 3 & 1800093 & 1 &  1 & NA & 0 & CR & -8 & -8 & 010431800093CR0010 & 010431800093CR0 & -8      & -8 & E & N & 2018-02-15 & 2018-02-16 & 2018-02-15 & 2018-02-15 &  9 & 2018-02-16 & 1  & NA & 0 & 18:5032.F & 4 & 7991 & 7991 & A00 & 18:5032.F &  4 & 7991 & 7991 & A00 & 18:5032.F &  4 & 7991 & 7991 & A00 & 18:5032.F &  4 & 7991 & 7991 & A00 & 18:5032.F &  4 & 7991 & 7991 & A00 & 72127 & -8 & -8 & -8 & -8 & 1900-01-01 & 1900-01-01 & 1900-01-01 & 1900-01-01 & -8 &  -8 &  -8 & -8 & NA & -8 & -8        & -8 &   -8 &   -8 & -8  & -8 & -8 & -8   & -8 & -8   & -8 &    -8 & -8        & -8 &   -8 &   -8 & -8  & -8 & -8 & -8 & -8 & -8   & -8 & -8 & -8        & -8 &   -8 &   -8 & -8  & -8 & -8 & -8 & -8 & -8 & -8 & -8 & -8 & -8 & -8 & -8 & -8 & -8 & -8 & -8 & -8 & -8 & -8 & -8 & -8 & -8 & -8 & -8 & -8 & -8 & -8 & -8 & -8 & -8 & -8 & -8 & -8 & -8 &     0 & 0 & 0 & 0 & 0 & 0 & 0 & 0 & 0 & 1 & 1 & CMECF  & 1 & 2018-07-11 & 2099\\\\\n",
       "\t6949 & 2019 &  1 & 4  & 3 & 1800132 & 1 &  1 & NA & 0 & CR & -8 & -8 & 010431800132CR0010 & 010431800132CR0 & -8      & -8 & E & N & 2018-03-07 & 2018-03-13 & 2018-03-07 & 2018-03-07 &  9 & 2018-03-13 & 1  & NA & 1 & 18:5032.F & 4 & 7991 & 7991 & A00 & 18:5032.F &  4 & 7991 & 7991 & A00 & 18:5032.F &  4 & 7991 & 7991 & A00 & 18:5032.F &  4 & 7991 & 7991 & A00 & -8        & -8 &   -8 &   -8 & -8  & 72153 & -8 & -8 & -8 & -8 & 1900-01-01 & 1900-01-01 & 1900-01-01 & 1900-01-01 & -8 &  -8 &  -8 & -8 & NA & -8 & -8        & -8 &   -8 &   -8 & -8  & -8 & -8 & -8   & -8 & -8   & -8 &    -8 & -8        & -8 &   -8 &   -8 & -8  & -8 & -8 & -8 & -8 & -8   & -8 & -8 & -8        & -8 &   -8 &   -8 & -8  & -8 & -8 & -8 & -8 & -8 & -8 & -8 & -8 & -8 & -8 & -8 & -8 & -8 & -8 & -8 & -8 & -8 & -8 & -8 & -8 & -8 & -8 & -8 & -8 & -8 & -8 & -8 & -8 & -8 & -8 & -8 & -8 & -8 &     0 & 0 & 0 & 0 & 0 & 0 & 0 & 0 & 0 & 1 & 1 & CMECF  & 0 & 2018-04-09 & 2099\\\\\n",
       "\t7134 & 2019 &  1 & 4  & 3 & 1800288 & 1 &  1 & NA & 0 & CR & -8 & -8 & 010431800288CR0010 & 010431800288CR0 & -8      & -8 & E & N & 2018-04-25 & 2018-04-27 & 2018-04-25 & 2018-04-25 &  9 & 2018-04-27 & 1  & NA & 6 & 18:5032.F & 4 & 7991 & 7991 & A00 & 18:5032.F &  4 & 7991 & 7991 & A00 & 18:5032.F &  4 & 7991 & 7991 & A00 & -8        & -8 &   -8 &   -8 & -8  & -8        & -8 &   -8 &   -8 & -8  & 88888 & -8 & -8 & -8 & -8 & 1900-01-01 & 1900-01-01 & 1900-01-01 & 1900-01-01 & -8 &  -8 &  -8 & -8 & NA & -8 & -8        & -8 &   -8 &   -8 & -8  & -8 & -8 & -8   & -8 & -8   & -8 &    -8 & -8        & -8 &   -8 &   -8 & -8  & -8 & -8 & -8 & -8 & -8   & -8 & -8 & -8        & -8 &   -8 &   -8 & -8  & -8 & -8 & -8 & -8 & -8 & -8 & -8 & -8 & -8 & -8 & -8 & -8 & -8 & -8 & -8 & -8 & -8 & -8 & -8 & -8 & -8 & -8 & -8 & -8 & -8 & -8 & -8 & -8 & -8 & -8 & -8 & -8 & -8 &     0 & 0 & 0 & 0 & 0 & 0 & 0 & 0 & 0 & 1 & 1 & CMECF  & 0 & 2018-05-23 & 2099\\\\\n",
       "\t8207 & 2019 &  1 & 4  & 3 & 1900263 & 1 &  1 & NA & 0 & CR & -8 & -8 & 010431900263CR0010 & 010431900263CR0 & -8      & -8 & E & N & 2019-04-24 & 2019-04-24 & 2019-04-24 & 2019-04-24 &  9 & 2019-04-24 & 1  & NA & 6 & 18:5032.F & 4 & 7991 & 7991 & A00 & 18:5032.F &  4 & 7991 & 7991 & A00 & -8        & -8 &   -8 &   -8 & -8  & -8        & -8 &   -8 &   -8 & -8  & -8        & -8 &   -8 &   -8 & -8  & 88888 & -8 & -8 & -8 & -8 & 1900-01-01 & 1900-01-01 & 1900-01-01 & 1900-01-01 & -8 &  -8 &  -8 & -8 & NA & -8 & -8        & -8 &   -8 &   -8 & -8  & -8 & -8 & -8   & -8 & -8   & -8 &    -8 & -8        & -8 &   -8 &   -8 & -8  & -8 & -8 & -8 & -8 & -8   & -8 & -8 & -8        & -8 &   -8 &   -8 & -8  & -8 & -8 & -8 & -8 & -8 & -8 & -8 & -8 & -8 & -8 & -8 & -8 & -8 & -8 & -8 & -8 & -8 & -8 & -8 & -8 & -8 & -8 & -8 & -8 & -8 & -8 & -8 & -8 & -8 & -8 & -8 & -8 & -8 &     0 & 1 & 1 & 1 & 0 & 0 & 0 & 0 & 0 & 1 & 1 & CMECF  & 0 & 2019-05-12 & 2099\\\\\n",
       "\t8295 & 2019 &  1 & 4  & 3 & 1900175 & 1 &  1 & NA & 0 & CR & -8 & -8 & 010431900175CR0010 & 010431900175CR0 & -8      & -8 & E & N & 2019-03-19 & 2019-03-20 & 2019-03-19 & 2019-03-19 &  9 & 2019-03-20 & 1  & NA & 1 & 18:5032.F & 4 & 7991 & 7991 & A00 & 18:5032.F &  4 & 7991 & 7991 & A00 & 18:5032.F &  4 & 7991 & 7991 & A00 & 18:5032.F &  4 & 7991 & 7991 & A00 & 18:5032.F &  4 & 7991 & 7991 & A00 & 88888 & -8 & -8 & -8 & -8 & 1900-01-01 & 1900-01-01 & 1900-01-01 & 1900-01-01 & -8 &  -8 &  -8 & -8 & NA & -8 & -8        & -8 &   -8 &   -8 & -8  & -8 & -8 & -8   & -8 & -8   & -8 &    -8 & -8        & -8 &   -8 &   -8 & -8  & -8 & -8 & -8 & -8 & -8   & -8 & -8 & -8        & -8 &   -8 &   -8 & -8  & -8 & -8 & -8 & -8 & -8 & -8 & -8 & -8 & -8 & -8 & -8 & -8 & -8 & -8 & -8 & -8 & -8 & -8 & -8 & -8 & -8 & -8 & -8 & -8 & -8 & -8 & -8 & -8 & -8 & -8 & -8 & -8 & -8 &     0 & 1 & 1 & 1 & 0 & 0 & 0 & 0 & 0 & 1 & 1 & CMECF  & 0 & 2019-04-23 & 2099\\\\\n",
       "\t8714 & 2019 &  2 & 5  & 3 & 1400007 & 1 &  1 & NA & 0 & CR & -8 & -8 & 020531400007CR0010 & 020531400007CR0 & -8      & -8 & E & N & 2014-01-15 & 2014-01-16 & 2014-01-15 & 2014-01-15 &  9 & 2014-01-16 & 1  & NA & 0 & 18:5032.M & 3 & 7991 & 7991 & A00 & -8        & -8 &   -8 &   -8 & -8  & -8        & -8 &   -8 &   -8 & -8  & -8        & -8 &   -8 &   -8 & -8  & -8        & -8 &   -8 &   -8 & -8  &  9011 & -8 & -8 & -8 & -8 & 1900-01-01 & 1900-01-01 & 1900-01-01 & 1900-01-01 & -8 &  -8 &  -8 & -8 & NA & -8 & -8        & -8 &   -8 &   -8 & -8  & -8 & -8 & -8   & -8 & -8   & -8 &    -8 & -8        & -8 &   -8 &   -8 & -8  & -8 & -8 & -8 & -8 & -8   & -8 & -8 & -8        & -8 &   -8 &   -8 & -8  & -8 & -8 & -8 & -8 & -8 & -8 & -8 & -8 & -8 & -8 & -8 & -8 & -8 & -8 & -8 & -8 & -8 & -8 & -8 & -8 & -8 & -8 & -8 & -8 & -8 & -8 & -8 & -8 & -8 & -8 & -8 & -8 & -8 &     0 & 0 & 0 & 0 & 0 & 0 & 0 & 0 & 0 & 1 & 1 & CMECF  & 1 & 2017-01-28 & 2099\\\\\n",
       "\t14608 & 2019 &  2 & 7  & 1 & 9700443 & 1 & -8 & NA & 0 & CR & -8 & -8 & 020719700443CR0010 & 020719700443CR0 & -8      & -8 & E & N & 1900-01-01 & 1900-01-01 & 1997-05-23 & 1997-11-06 &  9 & 1997-11-06 & 1  & NA & 6 & 18:5032.F & 4 & 7991 & 7991 & A00 & -8        & -8 &   -8 &   -8 & -8  & -8        & -8 &   -8 &   -8 & -8  & -8        & -8 &   -8 &   -8 & -8  & -8        & -8 &   -8 &   -8 & -8  & 36047 & -8 & -8 & -8 & -8 & 1998-11-12 & 1900-01-01 & 1900-01-01 & 1900-01-01 &  0 &   0 &   0 & -8 & NA & -8 & -8        & -8 &   -8 &   -8 & -8  & -8 &  0 & -8   &  0 & -8   &  0 &     0 & -8        & -8 &   -8 &   -8 & -8  & -8 &  0 & -8 &  0 & -8   &  0 &  0 & -8        & -8 &   -8 &   -8 & -8  & -8 &  0 & -8 &  0 & -8 &  0 &  0 & -8 & -8 & -8 & -8 & -8 & -8 &  0 & -8 &  0 & -8 &  0 &  0 & -8 & -8 & -8 & -8 & -8 & -8 &  0 & -8 &  0 & -8 &  0 &  0 &  0 &  0 &     0 & 0 & 0 & 0 & 0 & 0 & 0 & 0 & 0 & 1 & 1 & MASTER & 0 & 2012-03-21 & 2099\\\\\n",
       "\t41990 & 2019 &  9 & 77 & 4 & 1900016 & 1 &  1 & NA & 0 & CR & -8 & -8 & 097741900016CR0010 & 097741900016CR0 & -8      & -8 & E & N & 1900-01-01 & 1900-01-01 & 2019-03-15 & 2019-03-15 &  9 & 2019-04-23 & 1  & NA & 0 & 18:5032.F & 4 & 7991 & 7991 & A00 & -8        & -8 &   -8 &   -8 & -8  & -8        & -8 &   -8 &   -8 & -8  & -8        & -8 &   -8 &   -8 & -8  & -8        & -8 &   -8 &   -8 & -8  & 30035 & -8 & -8 & -8 & -8 & 1900-01-01 & 1900-01-01 & 1900-01-01 & 1900-01-01 & -8 &  -8 &  -8 & -8 & NA & -8 & -8        & -8 &   -8 &   -8 & -8  & -8 & -8 & -8   & -8 & -8   & -8 &    -8 & -8        & -8 &   -8 &   -8 & -8  & -8 & -8 & -8 & -8 & -8   & -8 & -8 & -8        & -8 &   -8 &   -8 & -8  & -8 & -8 & -8 & -8 & -8 & -8 & -8 & -8 & -8 & -8 & -8 & -8 & -8 & -8 & -8 & -8 & -8 & -8 & -8 & -8 & -8 & -8 & -8 & -8 & -8 & -8 & -8 & -8 & -8 & -8 & -8 & -8 & -8 &     0 & 1 & 1 & 1 & 0 & 0 & 0 & 0 & 0 & 1 & 1 & CMECF  & 1 & 2019-05-09 & 2099\\\\\n",
       "\t42173 & 2019 &  9 & 78 & 2 &  400495 & 1 &  2 & NA & 0 & CR & -8 & -8 & 097820400495CR0010 & 097820400495CR0 & -8      & -8 & E & N & 1900-01-01 & 1900-01-01 & 2004-12-15 & 2004-12-17 & 24 & 2005-01-06 & 1  & NA & 1 & 18:5032.F & 4 & 7991 & 7991 & A00 & 18:5032.F &  4 & 7991 & 7991 & A00 & 18:5032.F &  4 & 7991 & 7991 & A00 & 18:5032.F &  4 & 7991 & 7991 & A00 & 18:5032.F &  4 & 7991 & 7991 & A00 & 32003 & -8 & -8 & -8 & -8 & 1900-01-01 & 1900-01-01 & 1900-01-01 & 1900-01-01 & -8 &  -8 &  -8 & -8 & NA & -8 & -8        & -8 &   -8 &   -8 & -8  & -8 & -8 & -8   & -8 & -8   & -8 &    -8 & -8        & -8 &   -8 &   -8 & -8  & -8 & -8 & -8 & -8 & -8   & -8 & -8 & -8        & -8 &   -8 &   -8 & -8  & -8 & -8 & -8 & -8 & -8 & -8 & -8 & -8 & -8 & -8 & -8 & -8 & -8 & -8 & -8 & -8 & -8 & -8 & -8 & -8 & -8 & -8 & -8 & -8 & -8 & -8 & -8 & -8 & -8 & -8 & -8 & -8 & -8 &     0 & 0 & 0 & 0 & 0 & 0 & 0 & 0 & 0 & 1 & 1 & CMECF  & 1 & 2017-02-13 & 2099\\\\\n",
       "\t42195 & 2019 &  9 & 78 & 2 &  700161 & 1 &  1 & NA & 0 & CR & -8 & -8 & 097820700161CR0010 & 097820700161CR0 & -8      & -8 & E & N & 1900-01-01 & 1900-01-01 & 2007-07-23 & 2007-07-23 &  9 & 1900-01-01 & -8 & NA & 0 & 18:5032.F & 4 & 7991 & 7991 & A00 & -8        & -8 &   -8 &   -8 & -8  & -8        & -8 &   -8 &   -8 & -8  & -8        & -8 &   -8 &   -8 & -8  & -8        & -8 &   -8 &   -8 & -8  & 32003 & -8 & -8 & -8 & -8 & 2007-11-15 & 1900-01-01 & 1900-01-01 & 1900-01-01 &  0 &   0 &   0 & -8 & NA & -8 & -8        & -8 &   -8 &   -8 & -8  & -8 &  0 & -8   &  0 & -8   &  0 &     0 & -8        & -8 &   -8 &   -8 & -8  & -8 &  0 & -8 &  0 & -8   &  0 &  0 & -8        & -8 &   -8 &   -8 & -8  & -8 &  0 & -8 &  0 & -8 &  0 &  0 & -8 & -8 & -8 & -8 & -8 & -8 &  0 & -8 &  0 & -8 &  0 &  0 & -8 & -8 & -8 & -8 & -8 & -8 &  0 & -8 &  0 & -8 &  0 &  0 &  0 &  0 &     0 & 0 & 0 & 0 & 0 & 0 & 0 & 0 & 0 & 1 & 1 & MASTER & 0 & 2012-03-21 & 2099\\\\\n",
       "\t47268 & 2019 &  9 & 81 & 2 & 9600378 & 1 & -8 & NA & 0 & CR & -8 & -8 & 098129600378CR0010 & 098129600378CR0 & -8      & -8 & E & Z & 1996-05-24 & 1900-01-01 & 1996-05-23 & 1996-05-23 &  9 & 1900-01-01 & -8 & NA & 0 & 18:5032.F & 4 & 7991 & 7991 & A00 & 18:5032.F &  4 & 7991 & 7991 & A00 & 18:5032.F &  4 & 7991 & 7991 & A00 & -8        & -8 &   -8 &   -8 & -8  & -8        & -8 &   -8 &   -8 & -8  & 53033 & -8 & -8 & -8 & -8 & 2004-03-17 & 1900-01-01 & 1900-01-01 & 1900-01-01 &  0 &   0 &   0 & -8 & NA & -8 & -8        & -8 &   -8 &   -8 & -8  & -8 &  0 & -8   &  0 & -8   &  0 &     0 & -8        & -8 &   -8 &   -8 & -8  & -8 &  0 & -8 &  0 & -8   &  0 &  0 & -8        & -8 &   -8 &   -8 & -8  & -8 &  0 & -8 &  0 & -8 &  0 &  0 & -8 & -8 & -8 & -8 & -8 & -8 &  0 & -8 &  0 & -8 &  0 &  0 & -8 & -8 & -8 & -8 & -8 & -8 &  0 & -8 &  0 & -8 &  0 &  0 &  0 &  0 &     0 & 0 & 0 & 0 & 0 & 0 & 0 & 0 & 0 & 1 & 0 & MASTER & 0 & 2012-03-21 & 2099\\\\\n",
       "\t48843 & 2019 &  9 & 81 & 3 & 9805001 & 1 &  1 & NA & 0 & CR & -8 & -8 & 098139805001CR0010 & 098139805001CR0 & -8      & -8 & E & N & 1900-01-01 & 1900-01-01 & 1998-01-05 & 1998-02-02 &  9 & 1998-02-02 & 1  & NA & 6 & 18:5032.F & 4 & 7991 & 7991 & A00 & 18:5032.F &  4 & 7991 & 7991 & A00 & -8        & -8 &   -8 &   -8 & -8  & -8        & -8 &   -8 &   -8 & -8  & -8        & -8 &   -8 &   -8 & -8  & 53033 & -8 & -8 & -8 & -8 & 1900-01-01 & 1900-01-01 & 1900-01-01 & 1900-01-01 & -8 &  -8 &  -8 & -8 & NA & -8 & -8        & -8 &   -8 &   -8 & -8  & -8 & -8 & -8   & -8 & -8   & -8 &    -8 & -8        & -8 &   -8 &   -8 & -8  & -8 & -8 & -8 & -8 & -8   & -8 & -8 & -8        & -8 &   -8 &   -8 & -8  & -8 & -8 & -8 & -8 & -8 & -8 & -8 & -8 & -8 & -8 & -8 & -8 & -8 & -8 & -8 & -8 & -8 & -8 & -8 & -8 & -8 & -8 & -8 & -8 & -8 & -8 & -8 & -8 & -8 & -8 & -8 & -8 & -8 &     0 & 0 & 0 & 0 & 0 & 0 & 0 & 0 & 0 & 1 & 1 & CMECF  & 1 & 2017-09-11 & 2099\\\\\n",
       "\t60602 & 2019 & 10 & 88 & 2 & 1200017 & 1 &  1 & NA & 0 & CR & -8 & -8 & 108821200017CR0010 & 108821200017CR0 & -8      & -8 & E & N & 1900-01-01 & 1900-01-01 & 2012-01-13 & 2012-01-13 &  9 & 2012-02-14 & 1  & NA & 0 & 18:5032.F & 4 & 7991 & 7991 & A00 & -8        & -8 &   -8 &   -8 & -8  & -8        & -8 &   -8 &   -8 & -8  & -8        & -8 &   -8 &   -8 & -8  & -8        & -8 &   -8 &   -8 & -8  & 49037 & -8 & -8 & -8 & -8 & 1900-01-01 & 1900-01-01 & 1900-01-01 & 1900-01-01 & -8 &  -8 &  -8 & -8 & NA & -8 & -8        & -8 &   -8 &   -8 & -8  & -8 & -8 & -8   & -8 & -8   & -8 &    -8 & -8        & -8 &   -8 &   -8 & -8  & -8 & -8 & -8 & -8 & -8   & -8 & -8 & -8        & -8 &   -8 &   -8 & -8  & -8 & -8 & -8 & -8 & -8 & -8 & -8 & -8 & -8 & -8 & -8 & -8 & -8 & -8 & -8 & -8 & -8 & -8 & -8 & -8 & -8 & -8 & -8 & -8 & -8 & -8 & -8 & -8 & -8 & -8 & -8 & -8 & -8 &     0 & 0 & 0 & 0 & 0 & 0 & 0 & 0 & 0 & 1 & 1 & CMECF  & 2 & 2012-05-08 & 2099\\\\\n",
       "\t62388 & 2019 & 10 & 89 & 2 & 1900102 & 1 &  1 & NA & 0 & CR & -8 & -8 & 108921900102CR0010 & 108921900102CR0 & -8      & -8 & E & N & 1900-01-01 & 1900-01-01 & 2019-06-10 & 2019-06-26 &  9 & 2019-06-26 & 1  & NA & 1 & 18:5032.F & 4 & 7991 & 7991 & A00 & 18:5032.F &  4 & 7991 & 7991 & A00 & -8        & -8 &   -8 &   -8 & -8  & -8        & -8 &   -8 &   -8 & -8  & -8        & -8 &   -8 &   -8 & -8  & 56013 & -8 & -8 & -8 & -8 & 1900-01-01 & 1900-01-01 & 1900-01-01 & 1900-01-01 & -8 &  -8 &  -8 & -8 & NA & -8 & -8        & -8 &   -8 &   -8 & -8  & -8 & -8 & -8   & -8 & -8   & -8 &    -8 & -8        & -8 &   -8 &   -8 & -8  & -8 & -8 & -8 & -8 & -8   & -8 & -8 & -8        & -8 &   -8 &   -8 & -8  & -8 & -8 & -8 & -8 & -8 & -8 & -8 & -8 & -8 & -8 & -8 & -8 & -8 & -8 & -8 & -8 & -8 & -8 & -8 & -8 & -8 & -8 & -8 & -8 & -8 & -8 & -8 & -8 & -8 & -8 & -8 & -8 & -8 &     0 & 1 & 1 & 1 & 0 & 0 & 0 & 0 & 0 & 1 & 1 & CMECF  & 0 & 2019-07-03 & 2099\\\\\n",
       "\t63966 & 2019 & 11 & 26 & 5 & 9700218 & 1 & -8 & NA & 0 & CR & -8 & -8 & 112659700218CR0010 & 112659700218CR0 & -8      & -8 & E & N & 1900-01-01 & 1900-01-01 & 1997-07-22 & 1997-07-22 &  9 & 1900-01-01 & -8 & NA & 0 & 18:5032.F & 4 & 7991 & 7991 & A00 & -8        & -8 &   -8 &   -8 & -8  & -8        & -8 &   -8 &   -8 & -8  & -8        & -8 &   -8 &   -8 & -8  & -8        & -8 &   -8 &   -8 & -8  &  1089 & -8 & -8 & -8 & -8 & 1997-08-07 & 1900-01-01 & 1900-01-01 & 1900-01-01 &  0 &   0 &   0 & -8 & NA & -8 & -8        & -8 &   -8 &   -8 & -8  & -8 &  0 & -8   &  0 & -8   &  0 &     0 & -8        & -8 &   -8 &   -8 & -8  & -8 &  0 & -8 &  0 & -8   &  0 &  0 & -8        & -8 &   -8 &   -8 & -8  & -8 &  0 & -8 &  0 & -8 &  0 &  0 & -8 & -8 & -8 & -8 & -8 & -8 &  0 & -8 &  0 & -8 &  0 &  0 & -8 & -8 & -8 & -8 & -8 & -8 &  0 & -8 &  0 & -8 &  0 &  0 &  0 &  0 &     0 & 0 & 0 & 0 & 0 & 0 & 0 & 0 & 0 & 1 & 1 & MASTER & 0 & 2012-03-21 & 2099\\\\\n",
       "\t94958 & 2019 &  5 & 42 & 6 & 9900072 & 1 &  1 & NA & 0 & CR & -8 & -8 & 054269900072CR0010 & 054269900072CR0 & -8      & -8 & E & N & 1900-01-01 & 1900-01-01 & 1999-07-14 & 1999-07-14 &  9 & 1999-08-04 & 1  & NA & 0 & 18:5032.F & 4 & 7991 & 7991 & A00 & -8        & -8 &   -8 &   -8 & -8  & -8        & -8 &   -8 &   -8 & -8  & -8        & -8 &   -8 &   -8 & -8  & -8        & -8 &   -8 &   -8 & -8  & 48027 & -8 & -8 & -8 & -8 & 1900-01-01 & 1900-01-01 & 1900-01-01 & 1900-01-01 & -8 &  -8 &  -8 & -8 & NA & -8 & -8        & -8 &   -8 &   -8 & -8  & -8 & -8 & -8   & -8 & -8   & -8 &    -8 & -8        & -8 &   -8 &   -8 & -8  & -8 & -8 & -8 & -8 & -8   & -8 & -8 & -8        & -8 &   -8 &   -8 & -8  & -8 & -8 & -8 & -8 & -8 & -8 & -8 & -8 & -8 & -8 & -8 & -8 & -8 & -8 & -8 & -8 & -8 & -8 & -8 & -8 & -8 & -8 & -8 & -8 & -8 & -8 & -8 & -8 & -8 & -8 & -8 & -8 & -8 &     0 & 0 & 0 & 0 & 0 & 0 & 0 & 0 & 0 & 1 & 1 & CMECF  & 0 & 2018-03-12 & 2099\\\\\n",
       "\t106172 & 2019 &  6 & 49 & 3 & 1800066 & 1 &  1 & NA & 0 & CR & -8 & -8 & 064931800066CR0010 & 064931800066CR0 & -8      & -8 & J & N & 1900-01-01 & 1900-01-01 & 2018-06-05 & 2018-06-05 & 24 & 2018-06-11 & 1  & NA & 2 & 18:5032.F & 4 & 7991 & 7991 & A00 & 18:5032.F &  4 & 7991 & 7991 & A00 & -8        & -8 &   -8 &   -8 & -8  & -8        & -8 &   -8 &   -8 & -8  & -8        & -8 &   -8 &   -8 & -8  & 47155 & -8 & -8 & -8 & -8 & 1900-01-01 & 2018-07-31 & 2019-01-28 & 2019-01-28 &  0 &   0 & 181 & 3  & NA &  2 & 18:5032.F &  4 & 7991 & 7991 & A00 &  4 &  0 & -8   & 13 & C001 &  0 &  5000 & 18:5032.F &  4 & 7991 & 7991 & A00 &  4 &  0 & -8 & 13 & C001 &  0 &  0 & -8        & -8 &   -8 &   -8 & -8  & -8 & -8 & -8 & -8 & -8 & -8 & -8 & -8 & -8 & -8 & -8 & -8 & -8 & -8 & -8 & -8 & -8 & -8 & -8 & -8 & -8 & -8 & -8 & -8 & -8 & -8 & -8 & -8 & -8 & -8 & -8 & -8 & 13 &  5000 & 0 & 0 & 0 & 0 & 1 & 1 & 1 & 0 & 0 & 0 & CMECF  & 1 & 2019-02-05 & 2019\\\\\n",
       "\t106173 & 2019 &  6 & 49 & 3 & 1800066 & 2 &  2 & NA & 0 & CR & -8 & MJ & 064931800066CR0020 & 064931800066CR0 & 1802036 &  2 & J & N & 1900-01-01 & 1900-01-01 & 2018-06-05 & 2018-06-05 & 24 & 2018-06-11 & 1  & NA & 6 & 18:5032.F & 4 & 7991 & 7991 & A00 & 18:5032.F &  4 & 7991 & 7991 & A00 & -8        & -8 &   -8 &   -8 & -8  & -8        & -8 &   -8 &   -8 & -8  & -8        & -8 &   -8 &   -8 & -8  & 47155 & -8 & -8 & -8 & -8 & 1900-01-01 & 2018-08-01 & 2018-12-06 & 2018-12-06 &  0 &   0 & 127 & 3  & NA &  6 & 18:5032.F &  4 & 7991 & 7991 & A00 &  4 &  0 & -8   & 13 & C001 &  0 & 10000 & 18:5032.F &  4 & 7991 & 7991 & A00 &  4 &  0 & -8 & 13 & C001 &  0 &  0 & -8        & -8 &   -8 &   -8 & -8  & -8 & -8 & -8 & -8 & -8 & -8 & -8 & -8 & -8 & -8 & -8 & -8 & -8 & -8 & -8 & -8 & -8 & -8 & -8 & -8 & -8 & -8 & -8 & -8 & -8 & -8 & -8 & -8 & -8 & -8 & -8 &  0 & 13 & 10000 & 0 & 0 & 0 & 0 & 1 & 1 & 1 & 0 & 0 & 0 & CMECF  & 1 & 2019-01-06 & 2019\\\\\n",
       "\t114252 & 2019 &  7 & 55 & 2 & 1700111 & 1 &  1 & NA & 0 & CR & -8 & -8 & 075521700111CR0010 & 075521700111CR0 & -8      & -8 & J & N & 1900-01-01 & 1900-01-01 & 2017-08-18 & 2018-07-10 & 24 & 2018-07-10 & 1  & NA & 6 & 18:5032.F & 4 & 7991 & 7991 & A00 & -8        & -8 &   -8 &   -8 & -8  & -8        & -8 &   -8 &   -8 & -8  & -8        & -8 &   -8 &   -8 & -8  & -8        & -8 &   -8 &   -8 & -8  & 18089 & -8 & -8 & -8 & -8 & 1900-01-01 & 2019-04-24 & 1900-01-01 & 2019-04-24 &  0 &   0 &   0 & 2  & NA &  6 & 18:5032.F &  4 & 7991 & 7991 & A00 & 15 &  0 & -8   &  0 & -8   &  0 &     0 & -8        & -8 &   -8 &   -8 & -8  & -8 & -8 & -8 & -8 & -8   & -8 & -8 & -8        & -8 &   -8 &   -8 & -8  & -8 & -8 & -8 & -8 & -8 & -8 & -8 & -8 & -8 & -8 & -8 & -8 & -8 & -8 & -8 & -8 & -8 & -8 & -8 & -8 & -8 & -8 & -8 & -8 & -8 & -8 & -8 & -8 & -8 & -8 & -8 & -8 & -8 &     0 & 1 & 1 & 1 & 0 & 1 & 1 & 1 & 0 & 0 & 0 & CMECF  & 1 & 2019-05-13 & 2019\\\\\n",
       "\t127253 & 2019 &  8 & 67 & 8 & 1400331 & 1 &  1 & NA & 0 & CR & -8 & -8 & 086781400331CR0010 & 086781400331CR0 & -8      & -8 & E & N & 2014-10-06 & 2014-10-08 & 2014-10-03 & 2014-10-03 &  9 & 2014-10-08 & 1  & NA & 0 & 18:5032.M & 3 & 7991 & 7991 & A00 & -8        & -8 &   -8 &   -8 & -8  & -8        & -8 &   -8 &   -8 & -8  & -8        & -8 &   -8 &   -8 & -8  & -8        & -8 &   -8 &   -8 & -8  & 31173 & -8 & -8 & -8 & -8 & 1900-01-01 & 1900-01-01 & 1900-01-01 & 1900-01-01 & -8 &  -8 &  -8 & -8 & NA & -8 & -8        & -8 &   -8 &   -8 & -8  & -8 & -8 & -8   & -8 & -8   & -8 &    -8 & -8        & -8 &   -8 &   -8 & -8  & -8 & -8 & -8 & -8 & -8   & -8 & -8 & -8        & -8 &   -8 &   -8 & -8  & -8 & -8 & -8 & -8 & -8 & -8 & -8 & -8 & -8 & -8 & -8 & -8 & -8 & -8 & -8 & -8 & -8 & -8 & -8 & -8 & -8 & -8 & -8 & -8 & -8 & -8 & -8 & -8 & -8 & -8 & -8 & -8 & -8 &     0 & 0 & 0 & 0 & 0 & 0 & 0 & 0 & 0 & 1 & 1 & CMECF  & 0 & 2014-11-04 & 2099\\\\\n",
       "\t127272 & 2019 &  8 & 67 & 8 & 1600261 & 1 &  1 & NA & 0 & CR & -8 & -8 & 086781600261CR0010 & 086781600261CR0 & -8      & -8 & J & N & 1900-01-01 & 1900-01-01 & 2016-08-18 & 2016-08-18 &  2 & 2016-09-19 & 1  & NA & 0 & 18:5032.M & 3 & 7991 & 7991 & A00 & -8        & -8 &   -8 &   -8 & -8  & -8        & -8 &   -8 &   -8 & -8  & -8        & -8 &   -8 &   -8 & -8  & -8        & -8 &   -8 &   -8 & -8  & 31173 & -8 & -8 & -8 & -8 & 1900-01-01 & 2019-01-17 & 2019-02-25 & 2019-02-25 &  0 & 700 & 390 & 8  & NA &  1 & 18:5032.M &  3 & 7991 & 7991 & A00 &  4 &  0 & -8   & 19 & M001 &  0 &     0 & -8        & -8 &   -8 &   -8 & -8  & -8 & -8 & -8 & -8 & -8   & -8 & -8 & -8        & -8 &   -8 &   -8 & -8  & -8 & -8 & -8 & -8 & -8 & -8 & -8 & -8 & -8 & -8 & -8 & -8 & -8 & -8 & -8 & -8 & -8 & -8 & -8 & -8 & -8 & -8 & -8 & -8 & -8 & -8 & -8 & -8 & -8 & -8 & -8 & -8 & 19 &     0 & 0 & 0 & 0 & 0 & 1 & 1 & 1 & 0 & 0 & 0 & CMECF  & 2 & 2019-04-05 & 2019\\\\\n",
       "\t127339 & 2019 &  8 & 67 & 8 & 1800117 & 1 &  1 & NA & 0 & CR & -8 & -8 & 086781800117CR0010 & 086781800117CR0 & -8      & -8 & E & N & 1900-01-01 & 1900-01-01 & 2018-05-15 & 2018-05-15 &  3 & 2018-07-02 & 1  & NA & 0 & 18:5032.F & 4 & 7991 & 7991 & A00 & 18:5032.F &  4 & 7991 & 7991 & A00 & -8        & -8 &   -8 &   -8 & -8  & -8        & -8 &   -8 &   -8 & -8  & -8        & -8 &   -8 &   -8 & -8  & 31173 & -8 & -8 & -8 & -8 & 1900-01-01 & 1900-01-01 & 1900-01-01 & 1900-01-01 & -8 &  -8 &  -8 & -8 & NA & -8 & -8        & -8 &   -8 &   -8 & -8  & -8 & -8 & -8   & -8 & -8   & -8 &    -8 & -8        & -8 &   -8 &   -8 & -8  & -8 & -8 & -8 & -8 & -8   & -8 & -8 & -8        & -8 &   -8 &   -8 & -8  & -8 & -8 & -8 & -8 & -8 & -8 & -8 & -8 & -8 & -8 & -8 & -8 & -8 & -8 & -8 & -8 & -8 & -8 & -8 & -8 & -8 & -8 & -8 & -8 & -8 & -8 & -8 & -8 & -8 & -8 & -8 & -8 & -8 &     0 & 0 & 0 & 0 & 0 & 0 & 0 & 0 & 0 & 1 & 1 & CMECF  & 1 & 2018-08-06 & 2099\\\\\n",
       "\t127634 & 2019 &  8 & 67 & 8 & 1800330 & 1 &  1 & NA & 0 & CR & -8 & -8 & 086781800330CR0010 & 086781800330CR0 & -8      & -8 & E & N & 2018-12-04 & 2018-12-07 & 2018-12-04 & 2018-12-04 &  2 & 2018-12-07 & 1  & NA & 0 & 18:5032.M & 3 & 7991 & 7991 & A00 & -8        & -8 &   -8 &   -8 & -8  & -8        & -8 &   -8 &   -8 & -8  & -8        & -8 &   -8 &   -8 & -8  & -8        & -8 &   -8 &   -8 & -8  & 31001 & -8 & -8 & -8 & -8 & 1900-01-01 & 1900-01-01 & 1900-01-01 & 1900-01-01 & -8 &  -8 &  -8 & -8 & NA & -8 & -8        & -8 &   -8 &   -8 & -8  & -8 & -8 & -8   & -8 & -8   & -8 &    -8 & -8        & -8 &   -8 &   -8 & -8  & -8 & -8 & -8 & -8 & -8   & -8 & -8 & -8        & -8 &   -8 &   -8 & -8  & -8 & -8 & -8 & -8 & -8 & -8 & -8 & -8 & -8 & -8 & -8 & -8 & -8 & -8 & -8 & -8 & -8 & -8 & -8 & -8 & -8 & -8 & -8 & -8 & -8 & -8 & -8 & -8 & -8 & -8 & -8 & -8 & -8 &     0 & 1 & 1 & 1 & 0 & 0 & 0 & 0 & 0 & 1 & 1 & CMECF  & 0 & 2019-01-02 & 2099\\\\\n",
       "\t127951 & 2019 &  8 & 67 & 8 & 1900195 & 1 &  1 & NA & 0 & CR & -8 & -8 & 086781900195CR0010 & 086781900195CR0 & -8      & -8 & E & N & 1900-01-01 & 1900-01-01 & 2019-06-14 & 2019-06-14 &  9 & 1900-01-01 & -8 & NA & 0 & 18:5032.F & 4 & 7991 & 7991 & A00 & -8        & -8 &   -8 &   -8 & -8  & -8        & -8 &   -8 &   -8 & -8  & -8        & -8 &   -8 &   -8 & -8  & -8        & -8 &   -8 &   -8 & -8  & 31173 & -8 & -8 & -8 & -8 & 1900-01-01 & 1900-01-01 & 1900-01-01 & 1900-01-01 & -8 &  -8 &  -8 & -8 & NA & -8 & -8        & -8 &   -8 &   -8 & -8  & -8 & -8 & -8   & -8 & -8   & -8 &    -8 & -8        & -8 &   -8 &   -8 & -8  & -8 & -8 & -8 & -8 & -8   & -8 & -8 & -8        & -8 &   -8 &   -8 & -8  & -8 & -8 & -8 & -8 & -8 & -8 & -8 & -8 & -8 & -8 & -8 & -8 & -8 & -8 & -8 & -8 & -8 & -8 & -8 & -8 & -8 & -8 & -8 & -8 & -8 & -8 & -8 & -8 & -8 & -8 & -8 & -8 & -8 &     0 & 1 & 1 & 1 & 0 & 0 & 0 & 0 & 0 & 1 & 1 & CMECF  & 0 & 2019-07-11 & 2099\\\\\n",
       "\t128418 & 2019 &  8 & 68 & 3 & 1800082 & 1 &  1 & NA & 0 & CR & -8 & -8 & 086831800082CR0010 & 086831800082CR0 & -8      & -8 & J & N & 1900-01-01 & 1900-01-01 & 2018-05-11 & 2018-05-11 &  9 & 2018-06-11 & 1  & NA & 0 & 18:5032.F & 4 & 7991 & 7991 & A00 & -8        & -8 &   -8 &   -8 & -8  & -8        & -8 &   -8 &   -8 & -8  & -8        & -8 &   -8 &   -8 & -8  & -8        & -8 &   -8 &   -8 & -8  & 38079 & -8 & -8 & -8 & -8 & 1900-01-01 & 2019-04-18 & 2019-04-18 & 2019-04-18 &  0 &   0 & 100 & 3  & NA &  6 & 18:5032.F &  4 & 7991 & 7991 & A00 &  4 &  0 & -8   & 32 & M001 &  0 &     0 & -8        & -8 &   -8 &   -8 & -8  & -8 & -8 & -8 & -8 & -8   & -8 & -8 & -8        & -8 &   -8 &   -8 & -8  & -8 & -8 & -8 & -8 & -8 & -8 & -8 & -8 & -8 & -8 & -8 & -8 & -8 & -8 & -8 & -8 & -8 & -8 & -8 & -8 & -8 & -8 & -8 & -8 & -8 & -8 & -8 & -8 & -8 & -8 & -8 &  0 & 32 &     0 & 0 & 0 & 0 & 0 & 1 & 1 & 1 & 0 & 0 & 0 & CMECF  & 3 & 2019-05-07 & 2019\\\\\n",
       "\t128511 & 2019 &  8 & 68 & 3 & 1700163 & 1 &  1 & NA & 0 & CR & -8 & -8 & 086831700163CR0010 & 086831700163CR0 & -8      & -8 & J & N & 1900-01-01 & 1900-01-01 & 2017-08-03 & 2017-08-03 &  9 & 2017-08-24 & 1  & NA & 0 & 18:5032.F & 4 & 7991 & 7991 & A00 & 18:5032.F &  4 & 7991 & 7991 & A00 & -8        & -8 &   -8 &   -8 & -8  & -8        & -8 &   -8 &   -8 & -8  & -8        & -8 &   -8 &   -8 & -8  & 38079 & -8 & -8 & -8 & -8 & 1900-01-01 & 2019-03-12 & 1900-01-01 & 2019-03-12 &  0 &   0 &   0 & 3  & NA &  1 & 18:5032.F &  4 & 7991 & 7991 & A00 &  1 &  0 & -8   &  0 & -8   &  0 &     0 & 18:5032.F &  4 & 7991 & 7991 & A00 &  1 &  0 & -8 &  0 & -8   &  0 &  0 & -8        & -8 &   -8 &   -8 & -8  & -8 & -8 & -8 & -8 & -8 & -8 & -8 & -8 & -8 & -8 & -8 & -8 & -8 & -8 & -8 & -8 & -8 & -8 & -8 & -8 & -8 & -8 & -8 & -8 & -8 & -8 & -8 & -8 & -8 & -8 & -8 & -8 & -8 &     0 & 0 & 0 & 0 & 0 & 1 & 1 & 1 & 0 & 0 & 0 & CMECF  & 2 & 2019-04-02 & 2019\\\\\n",
       "\t129443 & 2019 &  8 & 69 & 5 & 1750109 & 1 &  1 & NA & 0 & CR & -8 & -8 & 086951750109CR0010 & 086951750109CR0 & -8      & -8 & J & N & 2017-08-07 & 2018-03-05 & 2017-08-07 & 2017-08-07 &  9 & 2018-03-12 & 1  & NA & 0 & 18:5032.F & 4 & 7991 & 7991 & A00 & 18:5032.F &  4 & 7991 & 7991 & A00 & 18:5032.F &  4 & 7991 & 7991 & A00 & -8        & -8 &   -8 &   -8 & -8  & -8        & -8 &   -8 &   -8 & -8  & 46113 & -8 & -8 & -8 & -8 & 1900-01-01 & 2019-01-11 & 2019-01-11 & 2019-01-11 &  0 & 800 & 100 & 5  & NA &  6 & 18:5032.F &  4 & 7991 & 7991 & A00 &  4 & 36 & M001 &  0 & -8   & 24 &     0 & 18:5032.F &  4 & 7991 & 7991 & A00 &  1 &  0 & -8 &  0 & -8   &  0 &  0 & 18:5032.F &  4 & 7991 & 7991 & A00 &  1 &  0 & -8 &  0 & -8 &  0 &  0 & -8 & -8 & -8 & -8 & -8 & -8 & -8 & -8 & -8 & -8 & -8 & -8 & -8 & -8 & -8 & -8 & -8 & -8 & -8 & -8 & -8 & -8 & -8 & -8 & 36 & -8 &     0 & 0 & 0 & 0 & 0 & 1 & 1 & 1 & 0 & 0 & 0 & CMECF  & 2 & 2019-02-05 & 2019\\\\\n",
       "\t144128 & 2019 &  9 & 73 & 2 &  100536 & 1 & -8 & NA & 0 & CR & -8 & -8 & 097320100536CR0010 & 097320100536CR0 & -8      & -8 & E & Z & 2004-09-21 & 1900-01-01 & 2001-06-15 & 2001-06-15 &  3 & 1900-01-01 & -8 & NA & 0 & 18:5032.F & 4 & 7991 & 7991 & A00 & -8        & -8 &   -8 &   -8 & -8  & -8        & -8 &   -8 &   -8 & -8  & -8        & -8 &   -8 &   -8 & -8  & -8        & -8 &   -8 &   -8 & -8  &  6111 & -8 & -8 & -8 & -8 & 2005-09-23 & 1900-01-01 & 1900-01-01 & 1900-01-01 &  0 &   0 &   0 & -8 & NA & -8 & -8        & -8 &   -8 &   -8 & -8  & -8 &  0 & -8   &  0 & -8   &  0 &     0 & -8        & -8 &   -8 &   -8 & -8  & -8 &  0 & -8 &  0 & -8   &  0 &  0 & -8        & -8 &   -8 &   -8 & -8  & -8 &  0 & -8 &  0 & -8 &  0 &  0 & -8 & -8 & -8 & -8 & -8 & -8 &  0 & -8 &  0 & -8 &  0 &  0 & -8 & -8 & -8 & -8 & -8 & -8 &  0 & -8 &  0 & -8 &  0 &  0 &  0 &  0 &     0 & 0 & 0 & 0 & 0 & 0 & 0 & 0 & 0 & 1 & 0 & MASTER & 0 & 2012-03-21 & 2099\\\\\n",
       "\t146433 & 2019 &  9 & 73 & 2 & 1700719 & 1 &  1 & NA & 0 & CR & -8 & -8 & 097321700719CR0010 & 097321700719CR0 & -8      & -8 & E & N & 1900-01-01 & 1900-01-01 & 2017-11-16 & 2017-11-16 &  2 & 2017-11-16 & 1  & NA & 6 & 18:5032.M & 3 & 7991 & 7991 & A00 & -8        & -8 &   -8 &   -8 & -8  & -8        & -8 &   -8 &   -8 & -8  & -8        & -8 &   -8 &   -8 & -8  & -8        & -8 &   -8 &   -8 & -8  &  6083 & -8 & -8 & -8 & -8 & 1900-01-01 & 1900-01-01 & 1900-01-01 & 1900-01-01 & -8 &  -8 &  -8 & -8 & NA & -8 & -8        & -8 &   -8 &   -8 & -8  & -8 & -8 & -8   & -8 & -8   & -8 &    -8 & -8        & -8 &   -8 &   -8 & -8  & -8 & -8 & -8 & -8 & -8   & -8 & -8 & -8        & -8 &   -8 &   -8 & -8  & -8 & -8 & -8 & -8 & -8 & -8 & -8 & -8 & -8 & -8 & -8 & -8 & -8 & -8 & -8 & -8 & -8 & -8 & -8 & -8 & -8 & -8 & -8 & -8 & -8 & -8 & -8 & -8 & -8 & -8 & -8 & -8 & -8 &     0 & 0 & 0 & 0 & 0 & 0 & 0 & 0 & 0 & 1 & 1 & CMECF  & 1 & 2018-02-06 & 2099\\\\\n",
       "\t161990 & 2019 &  9 & 77 & 4 & 1900016 & 1 &  1 & NA & 0 & CR & -8 & -8 & 097741900016CR0010 & 097741900016CR0 & -8      & -8 & E & N & 1900-01-01 & 1900-01-01 & 2019-03-15 & 2019-03-15 &  9 & 2019-04-23 & 1  & NA & 0 & 18:5032.F & 4 & 7991 & 7991 & A00 & -8        & -8 &   -8 &   -8 & -8  & -8        & -8 &   -8 &   -8 & -8  & -8        & -8 &   -8 &   -8 & -8  & -8        & -8 &   -8 &   -8 & -8  & 30035 & -8 & -8 & -8 & -8 & 1900-01-01 & 1900-01-01 & 1900-01-01 & 1900-01-01 & -8 &  -8 &  -8 & -8 & NA & -8 & -8        & -8 &   -8 &   -8 & -8  & -8 & -8 & -8   & -8 & -8   & -8 &    -8 & -8        & -8 &   -8 &   -8 & -8  & -8 & -8 & -8 & -8 & -8   & -8 & -8 & -8        & -8 &   -8 &   -8 & -8  & -8 & -8 & -8 & -8 & -8 & -8 & -8 & -8 & -8 & -8 & -8 & -8 & -8 & -8 & -8 & -8 & -8 & -8 & -8 & -8 & -8 & -8 & -8 & -8 & -8 & -8 & -8 & -8 & -8 & -8 & -8 & -8 & -8 &     0 & 1 & 1 & 1 & 0 & 0 & 0 & 0 & 0 & 1 & 1 & CMECF  & 1 & 2019-05-09 & 2099\\\\\n",
       "\t162173 & 2019 &  9 & 78 & 2 &  400495 & 1 &  2 & NA & 0 & CR & -8 & -8 & 097820400495CR0010 & 097820400495CR0 & -8      & -8 & E & N & 1900-01-01 & 1900-01-01 & 2004-12-15 & 2004-12-17 & 24 & 2005-01-06 & 1  & NA & 1 & 18:5032.F & 4 & 7991 & 7991 & A00 & 18:5032.F &  4 & 7991 & 7991 & A00 & 18:5032.F &  4 & 7991 & 7991 & A00 & 18:5032.F &  4 & 7991 & 7991 & A00 & 18:5032.F &  4 & 7991 & 7991 & A00 & 32003 & -8 & -8 & -8 & -8 & 1900-01-01 & 1900-01-01 & 1900-01-01 & 1900-01-01 & -8 &  -8 &  -8 & -8 & NA & -8 & -8        & -8 &   -8 &   -8 & -8  & -8 & -8 & -8   & -8 & -8   & -8 &    -8 & -8        & -8 &   -8 &   -8 & -8  & -8 & -8 & -8 & -8 & -8   & -8 & -8 & -8        & -8 &   -8 &   -8 & -8  & -8 & -8 & -8 & -8 & -8 & -8 & -8 & -8 & -8 & -8 & -8 & -8 & -8 & -8 & -8 & -8 & -8 & -8 & -8 & -8 & -8 & -8 & -8 & -8 & -8 & -8 & -8 & -8 & -8 & -8 & -8 & -8 & -8 &     0 & 0 & 0 & 0 & 0 & 0 & 0 & 0 & 0 & 1 & 1 & CMECF  & 1 & 2017-02-13 & 2099\\\\\n",
       "\t162195 & 2019 &  9 & 78 & 2 &  700161 & 1 &  1 & NA & 0 & CR & -8 & -8 & 097820700161CR0010 & 097820700161CR0 & -8      & -8 & E & N & 1900-01-01 & 1900-01-01 & 2007-07-23 & 2007-07-23 &  9 & 1900-01-01 & -8 & NA & 0 & 18:5032.F & 4 & 7991 & 7991 & A00 & -8        & -8 &   -8 &   -8 & -8  & -8        & -8 &   -8 &   -8 & -8  & -8        & -8 &   -8 &   -8 & -8  & -8        & -8 &   -8 &   -8 & -8  & 32003 & -8 & -8 & -8 & -8 & 2007-11-15 & 1900-01-01 & 1900-01-01 & 1900-01-01 &  0 &   0 &   0 & -8 & NA & -8 & -8        & -8 &   -8 &   -8 & -8  & -8 &  0 & -8   &  0 & -8   &  0 &     0 & -8        & -8 &   -8 &   -8 & -8  & -8 &  0 & -8 &  0 & -8   &  0 &  0 & -8        & -8 &   -8 &   -8 & -8  & -8 &  0 & -8 &  0 & -8 &  0 &  0 & -8 & -8 & -8 & -8 & -8 & -8 &  0 & -8 &  0 & -8 &  0 &  0 & -8 & -8 & -8 & -8 & -8 & -8 &  0 & -8 &  0 & -8 &  0 &  0 &  0 &  0 &     0 & 0 & 0 & 0 & 0 & 0 & 0 & 0 & 0 & 1 & 1 & MASTER & 0 & 2012-03-21 & 2099\\\\\n",
       "\t167268 & 2019 &  9 & 81 & 2 & 9600378 & 1 & -8 & NA & 0 & CR & -8 & -8 & 098129600378CR0010 & 098129600378CR0 & -8      & -8 & E & Z & 1996-05-24 & 1900-01-01 & 1996-05-23 & 1996-05-23 &  9 & 1900-01-01 & -8 & NA & 0 & 18:5032.F & 4 & 7991 & 7991 & A00 & 18:5032.F &  4 & 7991 & 7991 & A00 & 18:5032.F &  4 & 7991 & 7991 & A00 & -8        & -8 &   -8 &   -8 & -8  & -8        & -8 &   -8 &   -8 & -8  & 53033 & -8 & -8 & -8 & -8 & 2004-03-17 & 1900-01-01 & 1900-01-01 & 1900-01-01 &  0 &   0 &   0 & -8 & NA & -8 & -8        & -8 &   -8 &   -8 & -8  & -8 &  0 & -8   &  0 & -8   &  0 &     0 & -8        & -8 &   -8 &   -8 & -8  & -8 &  0 & -8 &  0 & -8   &  0 &  0 & -8        & -8 &   -8 &   -8 & -8  & -8 &  0 & -8 &  0 & -8 &  0 &  0 & -8 & -8 & -8 & -8 & -8 & -8 &  0 & -8 &  0 & -8 &  0 &  0 & -8 & -8 & -8 & -8 & -8 & -8 &  0 & -8 &  0 & -8 &  0 &  0 &  0 &  0 &     0 & 0 & 0 & 0 & 0 & 0 & 0 & 0 & 0 & 1 & 0 & MASTER & 0 & 2012-03-21 & 2099\\\\\n",
       "\t168843 & 2019 &  9 & 81 & 3 & 9805001 & 1 &  1 & NA & 0 & CR & -8 & -8 & 098139805001CR0010 & 098139805001CR0 & -8      & -8 & E & N & 1900-01-01 & 1900-01-01 & 1998-01-05 & 1998-02-02 &  9 & 1998-02-02 & 1  & NA & 6 & 18:5032.F & 4 & 7991 & 7991 & A00 & 18:5032.F &  4 & 7991 & 7991 & A00 & -8        & -8 &   -8 &   -8 & -8  & -8        & -8 &   -8 &   -8 & -8  & -8        & -8 &   -8 &   -8 & -8  & 53033 & -8 & -8 & -8 & -8 & 1900-01-01 & 1900-01-01 & 1900-01-01 & 1900-01-01 & -8 &  -8 &  -8 & -8 & NA & -8 & -8        & -8 &   -8 &   -8 & -8  & -8 & -8 & -8   & -8 & -8   & -8 &    -8 & -8        & -8 &   -8 &   -8 & -8  & -8 & -8 & -8 & -8 & -8   & -8 & -8 & -8        & -8 &   -8 &   -8 & -8  & -8 & -8 & -8 & -8 & -8 & -8 & -8 & -8 & -8 & -8 & -8 & -8 & -8 & -8 & -8 & -8 & -8 & -8 & -8 & -8 & -8 & -8 & -8 & -8 & -8 & -8 & -8 & -8 & -8 & -8 & -8 & -8 & -8 &     0 & 0 & 0 & 0 & 0 & 0 & 0 & 0 & 0 & 1 & 1 & CMECF  & 1 & 2017-09-11 & 2099\\\\\n",
       "\t180602 & 2019 & 10 & 88 & 2 & 1200017 & 1 &  1 & NA & 0 & CR & -8 & -8 & 108821200017CR0010 & 108821200017CR0 & -8      & -8 & E & N & 1900-01-01 & 1900-01-01 & 2012-01-13 & 2012-01-13 &  9 & 2012-02-14 & 1  & NA & 0 & 18:5032.F & 4 & 7991 & 7991 & A00 & -8        & -8 &   -8 &   -8 & -8  & -8        & -8 &   -8 &   -8 & -8  & -8        & -8 &   -8 &   -8 & -8  & -8        & -8 &   -8 &   -8 & -8  & 49037 & -8 & -8 & -8 & -8 & 1900-01-01 & 1900-01-01 & 1900-01-01 & 1900-01-01 & -8 &  -8 &  -8 & -8 & NA & -8 & -8        & -8 &   -8 &   -8 & -8  & -8 & -8 & -8   & -8 & -8   & -8 &    -8 & -8        & -8 &   -8 &   -8 & -8  & -8 & -8 & -8 & -8 & -8   & -8 & -8 & -8        & -8 &   -8 &   -8 & -8  & -8 & -8 & -8 & -8 & -8 & -8 & -8 & -8 & -8 & -8 & -8 & -8 & -8 & -8 & -8 & -8 & -8 & -8 & -8 & -8 & -8 & -8 & -8 & -8 & -8 & -8 & -8 & -8 & -8 & -8 & -8 & -8 & -8 &     0 & 0 & 0 & 0 & 0 & 0 & 0 & 0 & 0 & 1 & 1 & CMECF  & 2 & 2012-05-08 & 2099\\\\\n",
       "\t182388 & 2019 & 10 & 89 & 2 & 1900102 & 1 &  1 & NA & 0 & CR & -8 & -8 & 108921900102CR0010 & 108921900102CR0 & -8      & -8 & E & N & 1900-01-01 & 1900-01-01 & 2019-06-10 & 2019-06-26 &  9 & 2019-06-26 & 1  & NA & 1 & 18:5032.F & 4 & 7991 & 7991 & A00 & 18:5032.F &  4 & 7991 & 7991 & A00 & -8        & -8 &   -8 &   -8 & -8  & -8        & -8 &   -8 &   -8 & -8  & -8        & -8 &   -8 &   -8 & -8  & 56013 & -8 & -8 & -8 & -8 & 1900-01-01 & 1900-01-01 & 1900-01-01 & 1900-01-01 & -8 &  -8 &  -8 & -8 & NA & -8 & -8        & -8 &   -8 &   -8 & -8  & -8 & -8 & -8   & -8 & -8   & -8 &    -8 & -8        & -8 &   -8 &   -8 & -8  & -8 & -8 & -8 & -8 & -8   & -8 & -8 & -8        & -8 &   -8 &   -8 & -8  & -8 & -8 & -8 & -8 & -8 & -8 & -8 & -8 & -8 & -8 & -8 & -8 & -8 & -8 & -8 & -8 & -8 & -8 & -8 & -8 & -8 & -8 & -8 & -8 & -8 & -8 & -8 & -8 & -8 & -8 & -8 & -8 & -8 &     0 & 1 & 1 & 1 & 0 & 0 & 0 & 0 & 0 & 1 & 1 & CMECF  & 0 & 2019-07-03 & 2099\\\\\n",
       "\t183966 & 2019 & 11 & 26 & 5 & 9700218 & 1 & -8 & NA & 0 & CR & -8 & -8 & 112659700218CR0010 & 112659700218CR0 & -8      & -8 & E & N & 1900-01-01 & 1900-01-01 & 1997-07-22 & 1997-07-22 &  9 & 1900-01-01 & -8 & NA & 0 & 18:5032.F & 4 & 7991 & 7991 & A00 & -8        & -8 &   -8 &   -8 & -8  & -8        & -8 &   -8 &   -8 & -8  & -8        & -8 &   -8 &   -8 & -8  & -8        & -8 &   -8 &   -8 & -8  &  1089 & -8 & -8 & -8 & -8 & 1997-08-07 & 1900-01-01 & 1900-01-01 & 1900-01-01 &  0 &   0 &   0 & -8 & NA & -8 & -8        & -8 &   -8 &   -8 & -8  & -8 &  0 & -8   &  0 & -8   &  0 &     0 & -8        & -8 &   -8 &   -8 & -8  & -8 &  0 & -8 &  0 & -8   &  0 &  0 & -8        & -8 &   -8 &   -8 & -8  & -8 &  0 & -8 &  0 & -8 &  0 &  0 & -8 & -8 & -8 & -8 & -8 & -8 &  0 & -8 &  0 & -8 &  0 &  0 & -8 & -8 & -8 & -8 & -8 & -8 &  0 & -8 &  0 & -8 &  0 &  0 &  0 &  0 &     0 & 0 & 0 & 0 & 0 & 0 & 0 & 0 & 0 & 1 & 1 & MASTER & 0 & 2012-03-21 & 2099\\\\\n",
       "\\end{tabular}\n"
      ],
      "text/markdown": [
       "\n",
       "A data.frame: 41 × 144\n",
       "\n",
       "| <!--/--> | FISCALYR &lt;int&gt; | CIRCUIT &lt;int&gt; | DISTRICT &lt;chr&gt; | OFFICE &lt;chr&gt; | DOCKET &lt;int&gt; | DEFNO &lt;int&gt; | CTDEF &lt;int&gt; | NAME &lt;lgl&gt; | REOPSEQ &lt;int&gt; | TYPEREG &lt;fct&gt; | ⋯ ⋯ | CTTRTRN &lt;int&gt; | CTTR &lt;int&gt; | CTTRWOR &lt;int&gt; | CTTRR &lt;int&gt; | CTPN &lt;int&gt; | CTPNWOF &lt;int&gt; | SOURCE &lt;fct&gt; | VER &lt;int&gt; | LOADDATE &lt;fct&gt; | TAPEYEAR &lt;int&gt; |\n",
       "|---|---|---|---|---|---|---|---|---|---|---|---|---|---|---|---|---|---|---|---|---|---|\n",
       "| 2104 | 2019 |  1 | 0  | 1 |  800008 | 1 |  1 | NA | 0 | CR | ⋯ | 0 | 0 | 0 | 0 | 1 | 1 | CMECF  | 0 | 2013-07-10 | 2099 |\n",
       "| 5358 | 2019 |  1 | 4  | 3 | 1500597 | 1 |  1 | NA | 0 | CR | ⋯ | 1 | 1 | 1 | 0 | 0 | 0 | CMECF  | 2 | 2019-07-10 | 2019 |\n",
       "| 6656 | 2019 |  1 | 4  | 3 | 1800038 | 1 |  1 | NA | 0 | CR | ⋯ | 0 | 0 | 0 | 0 | 1 | 1 | CMECF  | 2 | 2018-06-10 | 2099 |\n",
       "| 6657 | 2019 |  1 | 4  | 3 | 1800039 | 1 |  1 | NA | 0 | CR | ⋯ | 0 | 0 | 0 | 0 | 1 | 1 | CMECF  | 1 | 2018-03-11 | 2099 |\n",
       "| 6906 | 2019 |  1 | 4  | 3 | 1800093 | 1 |  1 | NA | 0 | CR | ⋯ | 0 | 0 | 0 | 0 | 1 | 1 | CMECF  | 1 | 2018-07-11 | 2099 |\n",
       "| 6949 | 2019 |  1 | 4  | 3 | 1800132 | 1 |  1 | NA | 0 | CR | ⋯ | 0 | 0 | 0 | 0 | 1 | 1 | CMECF  | 0 | 2018-04-09 | 2099 |\n",
       "| 7134 | 2019 |  1 | 4  | 3 | 1800288 | 1 |  1 | NA | 0 | CR | ⋯ | 0 | 0 | 0 | 0 | 1 | 1 | CMECF  | 0 | 2018-05-23 | 2099 |\n",
       "| 8207 | 2019 |  1 | 4  | 3 | 1900263 | 1 |  1 | NA | 0 | CR | ⋯ | 0 | 0 | 0 | 0 | 1 | 1 | CMECF  | 0 | 2019-05-12 | 2099 |\n",
       "| 8295 | 2019 |  1 | 4  | 3 | 1900175 | 1 |  1 | NA | 0 | CR | ⋯ | 0 | 0 | 0 | 0 | 1 | 1 | CMECF  | 0 | 2019-04-23 | 2099 |\n",
       "| 8714 | 2019 |  2 | 5  | 3 | 1400007 | 1 |  1 | NA | 0 | CR | ⋯ | 0 | 0 | 0 | 0 | 1 | 1 | CMECF  | 1 | 2017-01-28 | 2099 |\n",
       "| 14608 | 2019 |  2 | 7  | 1 | 9700443 | 1 | -8 | NA | 0 | CR | ⋯ | 0 | 0 | 0 | 0 | 1 | 1 | MASTER | 0 | 2012-03-21 | 2099 |\n",
       "| 41990 | 2019 |  9 | 77 | 4 | 1900016 | 1 |  1 | NA | 0 | CR | ⋯ | 0 | 0 | 0 | 0 | 1 | 1 | CMECF  | 1 | 2019-05-09 | 2099 |\n",
       "| 42173 | 2019 |  9 | 78 | 2 |  400495 | 1 |  2 | NA | 0 | CR | ⋯ | 0 | 0 | 0 | 0 | 1 | 1 | CMECF  | 1 | 2017-02-13 | 2099 |\n",
       "| 42195 | 2019 |  9 | 78 | 2 |  700161 | 1 |  1 | NA | 0 | CR | ⋯ | 0 | 0 | 0 | 0 | 1 | 1 | MASTER | 0 | 2012-03-21 | 2099 |\n",
       "| 47268 | 2019 |  9 | 81 | 2 | 9600378 | 1 | -8 | NA | 0 | CR | ⋯ | 0 | 0 | 0 | 0 | 1 | 0 | MASTER | 0 | 2012-03-21 | 2099 |\n",
       "| 48843 | 2019 |  9 | 81 | 3 | 9805001 | 1 |  1 | NA | 0 | CR | ⋯ | 0 | 0 | 0 | 0 | 1 | 1 | CMECF  | 1 | 2017-09-11 | 2099 |\n",
       "| 60602 | 2019 | 10 | 88 | 2 | 1200017 | 1 |  1 | NA | 0 | CR | ⋯ | 0 | 0 | 0 | 0 | 1 | 1 | CMECF  | 2 | 2012-05-08 | 2099 |\n",
       "| 62388 | 2019 | 10 | 89 | 2 | 1900102 | 1 |  1 | NA | 0 | CR | ⋯ | 0 | 0 | 0 | 0 | 1 | 1 | CMECF  | 0 | 2019-07-03 | 2099 |\n",
       "| 63966 | 2019 | 11 | 26 | 5 | 9700218 | 1 | -8 | NA | 0 | CR | ⋯ | 0 | 0 | 0 | 0 | 1 | 1 | MASTER | 0 | 2012-03-21 | 2099 |\n",
       "| 94958 | 2019 |  5 | 42 | 6 | 9900072 | 1 |  1 | NA | 0 | CR | ⋯ | 0 | 0 | 0 | 0 | 1 | 1 | CMECF  | 0 | 2018-03-12 | 2099 |\n",
       "| 106172 | 2019 |  6 | 49 | 3 | 1800066 | 1 |  1 | NA | 0 | CR | ⋯ | 1 | 1 | 1 | 0 | 0 | 0 | CMECF  | 1 | 2019-02-05 | 2019 |\n",
       "| 106173 | 2019 |  6 | 49 | 3 | 1800066 | 2 |  2 | NA | 0 | CR | ⋯ | 1 | 1 | 1 | 0 | 0 | 0 | CMECF  | 1 | 2019-01-06 | 2019 |\n",
       "| 114252 | 2019 |  7 | 55 | 2 | 1700111 | 1 |  1 | NA | 0 | CR | ⋯ | 1 | 1 | 1 | 0 | 0 | 0 | CMECF  | 1 | 2019-05-13 | 2019 |\n",
       "| 127253 | 2019 |  8 | 67 | 8 | 1400331 | 1 |  1 | NA | 0 | CR | ⋯ | 0 | 0 | 0 | 0 | 1 | 1 | CMECF  | 0 | 2014-11-04 | 2099 |\n",
       "| 127272 | 2019 |  8 | 67 | 8 | 1600261 | 1 |  1 | NA | 0 | CR | ⋯ | 1 | 1 | 1 | 0 | 0 | 0 | CMECF  | 2 | 2019-04-05 | 2019 |\n",
       "| 127339 | 2019 |  8 | 67 | 8 | 1800117 | 1 |  1 | NA | 0 | CR | ⋯ | 0 | 0 | 0 | 0 | 1 | 1 | CMECF  | 1 | 2018-08-06 | 2099 |\n",
       "| 127634 | 2019 |  8 | 67 | 8 | 1800330 | 1 |  1 | NA | 0 | CR | ⋯ | 0 | 0 | 0 | 0 | 1 | 1 | CMECF  | 0 | 2019-01-02 | 2099 |\n",
       "| 127951 | 2019 |  8 | 67 | 8 | 1900195 | 1 |  1 | NA | 0 | CR | ⋯ | 0 | 0 | 0 | 0 | 1 | 1 | CMECF  | 0 | 2019-07-11 | 2099 |\n",
       "| 128418 | 2019 |  8 | 68 | 3 | 1800082 | 1 |  1 | NA | 0 | CR | ⋯ | 1 | 1 | 1 | 0 | 0 | 0 | CMECF  | 3 | 2019-05-07 | 2019 |\n",
       "| 128511 | 2019 |  8 | 68 | 3 | 1700163 | 1 |  1 | NA | 0 | CR | ⋯ | 1 | 1 | 1 | 0 | 0 | 0 | CMECF  | 2 | 2019-04-02 | 2019 |\n",
       "| 129443 | 2019 |  8 | 69 | 5 | 1750109 | 1 |  1 | NA | 0 | CR | ⋯ | 1 | 1 | 1 | 0 | 0 | 0 | CMECF  | 2 | 2019-02-05 | 2019 |\n",
       "| 144128 | 2019 |  9 | 73 | 2 |  100536 | 1 | -8 | NA | 0 | CR | ⋯ | 0 | 0 | 0 | 0 | 1 | 0 | MASTER | 0 | 2012-03-21 | 2099 |\n",
       "| 146433 | 2019 |  9 | 73 | 2 | 1700719 | 1 |  1 | NA | 0 | CR | ⋯ | 0 | 0 | 0 | 0 | 1 | 1 | CMECF  | 1 | 2018-02-06 | 2099 |\n",
       "| 161990 | 2019 |  9 | 77 | 4 | 1900016 | 1 |  1 | NA | 0 | CR | ⋯ | 0 | 0 | 0 | 0 | 1 | 1 | CMECF  | 1 | 2019-05-09 | 2099 |\n",
       "| 162173 | 2019 |  9 | 78 | 2 |  400495 | 1 |  2 | NA | 0 | CR | ⋯ | 0 | 0 | 0 | 0 | 1 | 1 | CMECF  | 1 | 2017-02-13 | 2099 |\n",
       "| 162195 | 2019 |  9 | 78 | 2 |  700161 | 1 |  1 | NA | 0 | CR | ⋯ | 0 | 0 | 0 | 0 | 1 | 1 | MASTER | 0 | 2012-03-21 | 2099 |\n",
       "| 167268 | 2019 |  9 | 81 | 2 | 9600378 | 1 | -8 | NA | 0 | CR | ⋯ | 0 | 0 | 0 | 0 | 1 | 0 | MASTER | 0 | 2012-03-21 | 2099 |\n",
       "| 168843 | 2019 |  9 | 81 | 3 | 9805001 | 1 |  1 | NA | 0 | CR | ⋯ | 0 | 0 | 0 | 0 | 1 | 1 | CMECF  | 1 | 2017-09-11 | 2099 |\n",
       "| 180602 | 2019 | 10 | 88 | 2 | 1200017 | 1 |  1 | NA | 0 | CR | ⋯ | 0 | 0 | 0 | 0 | 1 | 1 | CMECF  | 2 | 2012-05-08 | 2099 |\n",
       "| 182388 | 2019 | 10 | 89 | 2 | 1900102 | 1 |  1 | NA | 0 | CR | ⋯ | 0 | 0 | 0 | 0 | 1 | 1 | CMECF  | 0 | 2019-07-03 | 2099 |\n",
       "| 183966 | 2019 | 11 | 26 | 5 | 9700218 | 1 | -8 | NA | 0 | CR | ⋯ | 0 | 0 | 0 | 0 | 1 | 1 | MASTER | 0 | 2012-03-21 | 2099 |\n",
       "\n"
      ],
      "text/plain": [
       "       FISCALYR CIRCUIT DISTRICT OFFICE DOCKET  DEFNO CTDEF NAME REOPSEQ\n",
       "2104   2019      1      0        1       800008 1      1    NA   0      \n",
       "5358   2019      1      4        3      1500597 1      1    NA   0      \n",
       "6656   2019      1      4        3      1800038 1      1    NA   0      \n",
       "6657   2019      1      4        3      1800039 1      1    NA   0      \n",
       "6906   2019      1      4        3      1800093 1      1    NA   0      \n",
       "6949   2019      1      4        3      1800132 1      1    NA   0      \n",
       "7134   2019      1      4        3      1800288 1      1    NA   0      \n",
       "8207   2019      1      4        3      1900263 1      1    NA   0      \n",
       "8295   2019      1      4        3      1900175 1      1    NA   0      \n",
       "8714   2019      2      5        3      1400007 1      1    NA   0      \n",
       "14608  2019      2      7        1      9700443 1     -8    NA   0      \n",
       "41990  2019      9      77       4      1900016 1      1    NA   0      \n",
       "42173  2019      9      78       2       400495 1      2    NA   0      \n",
       "42195  2019      9      78       2       700161 1      1    NA   0      \n",
       "47268  2019      9      81       2      9600378 1     -8    NA   0      \n",
       "48843  2019      9      81       3      9805001 1      1    NA   0      \n",
       "60602  2019     10      88       2      1200017 1      1    NA   0      \n",
       "62388  2019     10      89       2      1900102 1      1    NA   0      \n",
       "63966  2019     11      26       5      9700218 1     -8    NA   0      \n",
       "94958  2019      5      42       6      9900072 1      1    NA   0      \n",
       "106172 2019      6      49       3      1800066 1      1    NA   0      \n",
       "106173 2019      6      49       3      1800066 2      2    NA   0      \n",
       "114252 2019      7      55       2      1700111 1      1    NA   0      \n",
       "127253 2019      8      67       8      1400331 1      1    NA   0      \n",
       "127272 2019      8      67       8      1600261 1      1    NA   0      \n",
       "127339 2019      8      67       8      1800117 1      1    NA   0      \n",
       "127634 2019      8      67       8      1800330 1      1    NA   0      \n",
       "127951 2019      8      67       8      1900195 1      1    NA   0      \n",
       "128418 2019      8      68       3      1800082 1      1    NA   0      \n",
       "128511 2019      8      68       3      1700163 1      1    NA   0      \n",
       "129443 2019      8      69       5      1750109 1      1    NA   0      \n",
       "144128 2019      9      73       2       100536 1     -8    NA   0      \n",
       "146433 2019      9      73       2      1700719 1      1    NA   0      \n",
       "161990 2019      9      77       4      1900016 1      1    NA   0      \n",
       "162173 2019      9      78       2       400495 1      2    NA   0      \n",
       "162195 2019      9      78       2       700161 1      1    NA   0      \n",
       "167268 2019      9      81       2      9600378 1     -8    NA   0      \n",
       "168843 2019      9      81       3      9805001 1      1    NA   0      \n",
       "180602 2019     10      88       2      1200017 1      1    NA   0      \n",
       "182388 2019     10      89       2      1900102 1      1    NA   0      \n",
       "183966 2019     11      26       5      9700218 1     -8    NA   0      \n",
       "       TYPEREG ⋯ CTTRTRN CTTR CTTRWOR CTTRR CTPN CTPNWOF SOURCE VER LOADDATE  \n",
       "2104   CR      ⋯ 0       0    0       0     1    1       CMECF  0   2013-07-10\n",
       "5358   CR      ⋯ 1       1    1       0     0    0       CMECF  2   2019-07-10\n",
       "6656   CR      ⋯ 0       0    0       0     1    1       CMECF  2   2018-06-10\n",
       "6657   CR      ⋯ 0       0    0       0     1    1       CMECF  1   2018-03-11\n",
       "6906   CR      ⋯ 0       0    0       0     1    1       CMECF  1   2018-07-11\n",
       "6949   CR      ⋯ 0       0    0       0     1    1       CMECF  0   2018-04-09\n",
       "7134   CR      ⋯ 0       0    0       0     1    1       CMECF  0   2018-05-23\n",
       "8207   CR      ⋯ 0       0    0       0     1    1       CMECF  0   2019-05-12\n",
       "8295   CR      ⋯ 0       0    0       0     1    1       CMECF  0   2019-04-23\n",
       "8714   CR      ⋯ 0       0    0       0     1    1       CMECF  1   2017-01-28\n",
       "14608  CR      ⋯ 0       0    0       0     1    1       MASTER 0   2012-03-21\n",
       "41990  CR      ⋯ 0       0    0       0     1    1       CMECF  1   2019-05-09\n",
       "42173  CR      ⋯ 0       0    0       0     1    1       CMECF  1   2017-02-13\n",
       "42195  CR      ⋯ 0       0    0       0     1    1       MASTER 0   2012-03-21\n",
       "47268  CR      ⋯ 0       0    0       0     1    0       MASTER 0   2012-03-21\n",
       "48843  CR      ⋯ 0       0    0       0     1    1       CMECF  1   2017-09-11\n",
       "60602  CR      ⋯ 0       0    0       0     1    1       CMECF  2   2012-05-08\n",
       "62388  CR      ⋯ 0       0    0       0     1    1       CMECF  0   2019-07-03\n",
       "63966  CR      ⋯ 0       0    0       0     1    1       MASTER 0   2012-03-21\n",
       "94958  CR      ⋯ 0       0    0       0     1    1       CMECF  0   2018-03-12\n",
       "106172 CR      ⋯ 1       1    1       0     0    0       CMECF  1   2019-02-05\n",
       "106173 CR      ⋯ 1       1    1       0     0    0       CMECF  1   2019-01-06\n",
       "114252 CR      ⋯ 1       1    1       0     0    0       CMECF  1   2019-05-13\n",
       "127253 CR      ⋯ 0       0    0       0     1    1       CMECF  0   2014-11-04\n",
       "127272 CR      ⋯ 1       1    1       0     0    0       CMECF  2   2019-04-05\n",
       "127339 CR      ⋯ 0       0    0       0     1    1       CMECF  1   2018-08-06\n",
       "127634 CR      ⋯ 0       0    0       0     1    1       CMECF  0   2019-01-02\n",
       "127951 CR      ⋯ 0       0    0       0     1    1       CMECF  0   2019-07-11\n",
       "128418 CR      ⋯ 1       1    1       0     0    0       CMECF  3   2019-05-07\n",
       "128511 CR      ⋯ 1       1    1       0     0    0       CMECF  2   2019-04-02\n",
       "129443 CR      ⋯ 1       1    1       0     0    0       CMECF  2   2019-02-05\n",
       "144128 CR      ⋯ 0       0    0       0     1    0       MASTER 0   2012-03-21\n",
       "146433 CR      ⋯ 0       0    0       0     1    1       CMECF  1   2018-02-06\n",
       "161990 CR      ⋯ 0       0    0       0     1    1       CMECF  1   2019-05-09\n",
       "162173 CR      ⋯ 0       0    0       0     1    1       CMECF  1   2017-02-13\n",
       "162195 CR      ⋯ 0       0    0       0     1    1       MASTER 0   2012-03-21\n",
       "167268 CR      ⋯ 0       0    0       0     1    0       MASTER 0   2012-03-21\n",
       "168843 CR      ⋯ 0       0    0       0     1    1       CMECF  1   2017-09-11\n",
       "180602 CR      ⋯ 0       0    0       0     1    1       CMECF  2   2012-05-08\n",
       "182388 CR      ⋯ 0       0    0       0     1    1       CMECF  0   2019-07-03\n",
       "183966 CR      ⋯ 0       0    0       0     1    1       MASTER 0   2012-03-21\n",
       "       TAPEYEAR\n",
       "2104   2099    \n",
       "5358   2019    \n",
       "6656   2099    \n",
       "6657   2099    \n",
       "6906   2099    \n",
       "6949   2099    \n",
       "7134   2099    \n",
       "8207   2099    \n",
       "8295   2099    \n",
       "8714   2099    \n",
       "14608  2099    \n",
       "41990  2099    \n",
       "42173  2099    \n",
       "42195  2099    \n",
       "47268  2099    \n",
       "48843  2099    \n",
       "60602  2099    \n",
       "62388  2099    \n",
       "63966  2099    \n",
       "94958  2099    \n",
       "106172 2019    \n",
       "106173 2019    \n",
       "114252 2019    \n",
       "127253 2099    \n",
       "127272 2019    \n",
       "127339 2099    \n",
       "127634 2099    \n",
       "127951 2099    \n",
       "128418 2019    \n",
       "128511 2019    \n",
       "129443 2019    \n",
       "144128 2099    \n",
       "146433 2099    \n",
       "161990 2099    \n",
       "162173 2099    \n",
       "162195 2099    \n",
       "167268 2099    \n",
       "168843 2099    \n",
       "180602 2099    \n",
       "182388 2099    \n",
       "183966 2099    "
      ]
     },
     "metadata": {},
     "output_type": "display_data"
    },
    {
     "data": {
      "text/html": [
       "0"
      ],
      "text/latex": [
       "0"
      ],
      "text/markdown": [
       "0"
      ],
      "text/plain": [
       "[1] 0"
      ]
     },
     "metadata": {},
     "output_type": "display_data"
    },
    {
     "data": {
      "text/html": [
       "0"
      ],
      "text/latex": [
       "0"
      ],
      "text/markdown": [
       "0"
      ],
      "text/plain": [
       "[1] 0"
      ]
     },
     "metadata": {},
     "output_type": "display_data"
    },
    {
     "data": {
      "text/html": [
       "0"
      ],
      "text/latex": [
       "0"
      ],
      "text/markdown": [
       "0"
      ],
      "text/plain": [
       "[1] 0"
      ]
     },
     "metadata": {},
     "output_type": "display_data"
    },
    {
     "data": {
      "text/html": [
       "0"
      ],
      "text/latex": [
       "0"
      ],
      "text/markdown": [
       "0"
      ],
      "text/plain": [
       "[1] 0"
      ]
     },
     "metadata": {},
     "output_type": "display_data"
    }
   ],
   "source": [
    "##We can also see the frequency of juvenile delinquency\n",
    "\n",
    "##Count total marijuana possession cases\n",
    "sum(cr19_df$FOFFCD1 == '7991')\n",
    "\n",
    "##First create a dataframe of just civil rights violations\n",
    "\n",
    "Juv <- subset(cr19_df, FOFFCD1 == '7991')\n",
    "Juv\n",
    "\n",
    "##then count by district\n",
    "\n",
    "sum(Juv$DISTRICT == '90')\n",
    "sum(Juv$DISTRICT == '16')\n",
    "sum(Juv$DISTRICT == '13')\n",
    "sum(Juv$DISTRICT == '15')"
   ]
  },
  {
   "cell_type": "code",
   "execution_count": 57,
   "metadata": {},
   "outputs": [],
   "source": [
    "##okay so no instances of juvenile delinquency weird"
   ]
  },
  {
   "cell_type": "code",
   "execution_count": 64,
   "metadata": {},
   "outputs": [
    {
     "data": {
      "text/html": [
       "4533"
      ],
      "text/latex": [
       "4533"
      ],
      "text/markdown": [
       "4533"
      ],
      "text/plain": [
       "[1] 4533"
      ]
     },
     "metadata": {},
     "output_type": "display_data"
    },
    {
     "data": {
      "text/html": [
       "1191"
      ],
      "text/latex": [
       "1191"
      ],
      "text/markdown": [
       "1191"
      ],
      "text/plain": [
       "[1] 1191"
      ]
     },
     "metadata": {},
     "output_type": "display_data"
    },
    {
     "data": {
      "text/html": [
       "317"
      ],
      "text/latex": [
       "317"
      ],
      "text/markdown": [
       "317"
      ],
      "text/plain": [
       "[1] 317"
      ]
     },
     "metadata": {},
     "output_type": "display_data"
    },
    {
     "data": {
      "text/html": [
       "2223"
      ],
      "text/latex": [
       "2223"
      ],
      "text/markdown": [
       "2223"
      ],
      "text/plain": [
       "[1] 2223"
      ]
     },
     "metadata": {},
     "output_type": "display_data"
    },
    {
     "data": {
      "text/html": [
       "0"
      ],
      "text/latex": [
       "0"
      ],
      "text/markdown": [
       "0"
      ],
      "text/plain": [
       "[1] 0"
      ]
     },
     "metadata": {},
     "output_type": "display_data"
    }
   ],
   "source": [
    "##lets go back to marijuana\n",
    "\n",
    "sum(cr19_df$FOFFCD1 == '6501')\n",
    "sum(cr19_df$FOFFCD1 == '6502')\n",
    "sum(cr19_df$FOFFCD1 == '6503')\n",
    "sum(cr19_df$FOFFCD1 == '6504')\n",
    "sum(cr19_df$FOFFCD1 == '6505')"
   ]
  },
  {
   "cell_type": "code",
   "execution_count": 65,
   "metadata": {},
   "outputs": [
    {
     "data": {
      "text/html": [
       "8264"
      ],
      "text/latex": [
       "8264"
      ],
      "text/markdown": [
       "8264"
      ],
      "text/plain": [
       "[1] 8264"
      ]
     },
     "metadata": {},
     "output_type": "display_data"
    }
   ],
   "source": [
    "##total charges regarding marijuana\n",
    "\n",
    "4533 + 1191 + 317 + 2223"
   ]
  },
  {
   "cell_type": "code",
   "execution_count": 66,
   "metadata": {},
   "outputs": [],
   "source": [
    "#total marijuana charges: 8264"
   ]
  },
  {
   "cell_type": "code",
   "execution_count": 68,
   "metadata": {},
   "outputs": [
    {
     "data": {
      "text/html": [
       "<table>\n",
       "<caption>A data.frame: 4533 × 144</caption>\n",
       "<thead>\n",
       "\t<tr><th></th><th scope=col>FISCALYR</th><th scope=col>CIRCUIT</th><th scope=col>DISTRICT</th><th scope=col>OFFICE</th><th scope=col>DOCKET</th><th scope=col>DEFNO</th><th scope=col>CTDEF</th><th scope=col>NAME</th><th scope=col>REOPSEQ</th><th scope=col>TYPEREG</th><th scope=col>⋯</th><th scope=col>CTTRTRN</th><th scope=col>CTTR</th><th scope=col>CTTRWOR</th><th scope=col>CTTRR</th><th scope=col>CTPN</th><th scope=col>CTPNWOF</th><th scope=col>SOURCE</th><th scope=col>VER</th><th scope=col>LOADDATE</th><th scope=col>TAPEYEAR</th></tr>\n",
       "\t<tr><th></th><th scope=col>&lt;int&gt;</th><th scope=col>&lt;int&gt;</th><th scope=col>&lt;chr&gt;</th><th scope=col>&lt;chr&gt;</th><th scope=col>&lt;int&gt;</th><th scope=col>&lt;int&gt;</th><th scope=col>&lt;int&gt;</th><th scope=col>&lt;lgl&gt;</th><th scope=col>&lt;int&gt;</th><th scope=col>&lt;fct&gt;</th><th scope=col>⋯</th><th scope=col>&lt;int&gt;</th><th scope=col>&lt;int&gt;</th><th scope=col>&lt;int&gt;</th><th scope=col>&lt;int&gt;</th><th scope=col>&lt;int&gt;</th><th scope=col>&lt;int&gt;</th><th scope=col>&lt;fct&gt;</th><th scope=col>&lt;int&gt;</th><th scope=col>&lt;fct&gt;</th><th scope=col>&lt;int&gt;</th></tr>\n",
       "</thead>\n",
       "<tbody>\n",
       "\t<tr><th scope=row>1</th><td>2019</td><td>0</td><td>90</td><td>1</td><td>      6</td><td> 2</td><td>-8</td><td>NA</td><td>0</td><td>CR</td><td>⋯</td><td>0</td><td>0</td><td>0</td><td>0</td><td>1</td><td>0</td><td>MASTER</td><td>0</td><td>2012-03-21</td><td>2099</td></tr>\n",
       "\t<tr><th scope=row>446</th><td>2019</td><td>0</td><td>90</td><td>1</td><td>1100254</td><td> 1</td><td> 1</td><td>NA</td><td>0</td><td>CR</td><td>⋯</td><td>0</td><td>0</td><td>0</td><td>0</td><td>1</td><td>1</td><td>CMECF </td><td>1</td><td>2014-12-10</td><td>2099</td></tr>\n",
       "\t<tr><th scope=row>447</th><td>2019</td><td>0</td><td>90</td><td>1</td><td>1100254</td><td> 3</td><td> 3</td><td>NA</td><td>0</td><td>CR</td><td>⋯</td><td>0</td><td>0</td><td>0</td><td>0</td><td>1</td><td>1</td><td>CMECF </td><td>1</td><td>2014-12-10</td><td>2099</td></tr>\n",
       "\t<tr><th scope=row>652</th><td>2019</td><td>0</td><td>90</td><td>1</td><td>1400241</td><td> 2</td><td> 2</td><td>NA</td><td>0</td><td>CR</td><td>⋯</td><td>0</td><td>0</td><td>0</td><td>0</td><td>1</td><td>1</td><td>CMECF </td><td>0</td><td>2015-01-11</td><td>2099</td></tr>\n",
       "\t<tr><th scope=row>998</th><td>2019</td><td>0</td><td>90</td><td>1</td><td>1700216</td><td> 1</td><td> 1</td><td>NA</td><td>0</td><td>CR</td><td>⋯</td><td>0</td><td>0</td><td>0</td><td>0</td><td>1</td><td>1</td><td>CMECF </td><td>1</td><td>2019-07-17</td><td>2099</td></tr>\n",
       "\t<tr><th scope=row>999</th><td>2019</td><td>0</td><td>90</td><td>1</td><td>1700216</td><td> 2</td><td> 2</td><td>NA</td><td>0</td><td>CR</td><td>⋯</td><td>1</td><td>1</td><td>1</td><td>0</td><td>0</td><td>0</td><td>CMECF </td><td>1</td><td>2019-05-12</td><td>2019</td></tr>\n",
       "\t<tr><th scope=row>1000</th><td>2019</td><td>0</td><td>90</td><td>1</td><td>1700216</td><td> 3</td><td> 3</td><td>NA</td><td>0</td><td>CR</td><td>⋯</td><td>1</td><td>1</td><td>1</td><td>0</td><td>0</td><td>0</td><td>CMECF </td><td>2</td><td>2019-06-11</td><td>2019</td></tr>\n",
       "\t<tr><th scope=row>1672</th><td>2019</td><td>0</td><td>90</td><td>1</td><td>1900075</td><td> 1</td><td> 1</td><td>NA</td><td>0</td><td>CR</td><td>⋯</td><td>0</td><td>0</td><td>0</td><td>0</td><td>1</td><td>1</td><td>CMECF </td><td>1</td><td>2019-04-10</td><td>2099</td></tr>\n",
       "\t<tr><th scope=row>1673</th><td>2019</td><td>0</td><td>90</td><td>1</td><td>1900076</td><td> 1</td><td> 1</td><td>NA</td><td>0</td><td>CR</td><td>⋯</td><td>0</td><td>0</td><td>0</td><td>0</td><td>1</td><td>1</td><td>CMECF </td><td>2</td><td>2019-07-17</td><td>2099</td></tr>\n",
       "\t<tr><th scope=row>1824</th><td>2019</td><td>0</td><td>90</td><td>1</td><td>7101814</td><td> 1</td><td>-8</td><td>NA</td><td>0</td><td>CR</td><td>⋯</td><td>0</td><td>0</td><td>0</td><td>0</td><td>1</td><td>0</td><td>MASTER</td><td>0</td><td>2012-03-21</td><td>2099</td></tr>\n",
       "\t<tr><th scope=row>1985</th><td>2019</td><td>0</td><td>90</td><td>1</td><td>9600335</td><td> 1</td><td>-8</td><td>NA</td><td>0</td><td>CR</td><td>⋯</td><td>0</td><td>0</td><td>0</td><td>0</td><td>1</td><td>1</td><td>MASTER</td><td>0</td><td>2012-03-21</td><td>2099</td></tr>\n",
       "\t<tr><th scope=row>2062</th><td>2019</td><td>0</td><td>90</td><td>1</td><td>9800284</td><td> 1</td><td> 1</td><td>NA</td><td>0</td><td>CR</td><td>⋯</td><td>0</td><td>0</td><td>0</td><td>0</td><td>1</td><td>1</td><td>CMECF </td><td>1</td><td>2014-10-12</td><td>2099</td></tr>\n",
       "\t<tr><th scope=row>2085</th><td>2019</td><td>0</td><td>90</td><td>1</td><td>9900259</td><td> 2</td><td>-8</td><td>NA</td><td>0</td><td>CR</td><td>⋯</td><td>0</td><td>0</td><td>0</td><td>0</td><td>1</td><td>0</td><td>MASTER</td><td>0</td><td>2012-03-21</td><td>2099</td></tr>\n",
       "\t<tr><th scope=row>2090</th><td>2019</td><td>0</td><td>90</td><td>1</td><td>9900290</td><td> 1</td><td>-8</td><td>NA</td><td>0</td><td>CR</td><td>⋯</td><td>0</td><td>0</td><td>0</td><td>0</td><td>1</td><td>0</td><td>MASTER</td><td>0</td><td>2012-03-21</td><td>2099</td></tr>\n",
       "\t<tr><th scope=row>2390</th><td>2019</td><td>1</td><td>0 </td><td>2</td><td>1700088</td><td> 1</td><td> 1</td><td>NA</td><td>0</td><td>CR</td><td>⋯</td><td>1</td><td>1</td><td>1</td><td>0</td><td>0</td><td>0</td><td>CMECF </td><td>4</td><td>2019-03-05</td><td>2019</td></tr>\n",
       "\t<tr><th scope=row>2443</th><td>2019</td><td>1</td><td>0 </td><td>2</td><td>1800063</td><td> 2</td><td> 2</td><td>NA</td><td>0</td><td>CR</td><td>⋯</td><td>0</td><td>0</td><td>0</td><td>0</td><td>1</td><td>1</td><td>CMECF </td><td>2</td><td>2018-11-07</td><td>2099</td></tr>\n",
       "\t<tr><th scope=row>2444</th><td>2019</td><td>1</td><td>0 </td><td>2</td><td>1800063</td><td> 3</td><td> 3</td><td>NA</td><td>0</td><td>CR</td><td>⋯</td><td>0</td><td>0</td><td>0</td><td>0</td><td>1</td><td>1</td><td>CMECF </td><td>2</td><td>2018-11-07</td><td>2099</td></tr>\n",
       "\t<tr><th scope=row>2445</th><td>2019</td><td>1</td><td>0 </td><td>2</td><td>1800063</td><td> 4</td><td> 4</td><td>NA</td><td>0</td><td>CR</td><td>⋯</td><td>0</td><td>0</td><td>0</td><td>0</td><td>1</td><td>1</td><td>CMECF </td><td>0</td><td>2018-11-07</td><td>2099</td></tr>\n",
       "\t<tr><th scope=row>2447</th><td>2019</td><td>1</td><td>0 </td><td>2</td><td>1800063</td><td> 6</td><td> 6</td><td>NA</td><td>0</td><td>CR</td><td>⋯</td><td>0</td><td>0</td><td>0</td><td>0</td><td>1</td><td>1</td><td>CMECF </td><td>0</td><td>2018-11-07</td><td>2099</td></tr>\n",
       "\t<tr><th scope=row>2452</th><td>2019</td><td>1</td><td>0 </td><td>2</td><td>1800063</td><td>11</td><td>11</td><td>NA</td><td>0</td><td>CR</td><td>⋯</td><td>0</td><td>0</td><td>0</td><td>0</td><td>1</td><td>1</td><td>CMECF </td><td>0</td><td>2018-11-07</td><td>2099</td></tr>\n",
       "\t<tr><th scope=row>2456</th><td>2019</td><td>1</td><td>0 </td><td>2</td><td>1800063</td><td>15</td><td>15</td><td>NA</td><td>0</td><td>CR</td><td>⋯</td><td>0</td><td>0</td><td>0</td><td>0</td><td>1</td><td>1</td><td>CMECF </td><td>1</td><td>2019-01-03</td><td>2099</td></tr>\n",
       "\t<tr><th scope=row>2458</th><td>2019</td><td>1</td><td>0 </td><td>2</td><td>1800063</td><td>17</td><td>17</td><td>NA</td><td>0</td><td>CR</td><td>⋯</td><td>0</td><td>0</td><td>0</td><td>0</td><td>1</td><td>1</td><td>CMECF </td><td>0</td><td>2018-11-07</td><td>2099</td></tr>\n",
       "\t<tr><th scope=row>2459</th><td>2019</td><td>1</td><td>0 </td><td>2</td><td>1800063</td><td>18</td><td>18</td><td>NA</td><td>0</td><td>CR</td><td>⋯</td><td>0</td><td>0</td><td>0</td><td>0</td><td>1</td><td>1</td><td>CMECF </td><td>1</td><td>2019-01-03</td><td>2099</td></tr>\n",
       "\t<tr><th scope=row>2460</th><td>2019</td><td>1</td><td>0 </td><td>2</td><td>1800063</td><td>19</td><td>19</td><td>NA</td><td>0</td><td>CR</td><td>⋯</td><td>0</td><td>0</td><td>0</td><td>0</td><td>1</td><td>1</td><td>CMECF </td><td>0</td><td>2018-11-07</td><td>2099</td></tr>\n",
       "\t<tr><th scope=row>2627</th><td>2019</td><td>1</td><td>0 </td><td>2</td><td>1900084</td><td> 1</td><td> 1</td><td>NA</td><td>0</td><td>CR</td><td>⋯</td><td>0</td><td>0</td><td>0</td><td>0</td><td>1</td><td>1</td><td>CMECF </td><td>0</td><td>2019-07-09</td><td>2099</td></tr>\n",
       "\t<tr><th scope=row>2799</th><td>2019</td><td>1</td><td>1 </td><td>1</td><td>1510019</td><td> 1</td><td> 1</td><td>NA</td><td>0</td><td>CR</td><td>⋯</td><td>0</td><td>0</td><td>0</td><td>0</td><td>1</td><td>0</td><td>CMECF </td><td>0</td><td>2015-02-15</td><td>2099</td></tr>\n",
       "\t<tr><th scope=row>3641</th><td>2019</td><td>1</td><td>1 </td><td>1</td><td>7900376</td><td> 8</td><td>-8</td><td>NA</td><td>0</td><td>CR</td><td>⋯</td><td>0</td><td>0</td><td>0</td><td>0</td><td>1</td><td>0</td><td>MASTER</td><td>0</td><td>2012-03-21</td><td>2099</td></tr>\n",
       "\t<tr><th scope=row>3642</th><td>2019</td><td>1</td><td>1 </td><td>1</td><td>7900376</td><td>13</td><td>-8</td><td>NA</td><td>0</td><td>CR</td><td>⋯</td><td>0</td><td>0</td><td>0</td><td>0</td><td>1</td><td>0</td><td>MASTER</td><td>0</td><td>2012-03-21</td><td>2099</td></tr>\n",
       "\t<tr><th scope=row>3656</th><td>2019</td><td>1</td><td>1 </td><td>1</td><td>8600118</td><td> 6</td><td>-8</td><td>NA</td><td>0</td><td>CR</td><td>⋯</td><td>0</td><td>0</td><td>0</td><td>0</td><td>1</td><td>0</td><td>MASTER</td><td>0</td><td>2012-03-21</td><td>2099</td></tr>\n",
       "\t<tr><th scope=row>3937</th><td>2019</td><td>1</td><td>1 </td><td>3</td><td>1830033</td><td> 1</td><td> 1</td><td>NA</td><td>0</td><td>CR</td><td>⋯</td><td>0</td><td>0</td><td>0</td><td>0</td><td>1</td><td>1</td><td>CMECF </td><td>0</td><td>2018-08-13</td><td>2099</td></tr>\n",
       "\t<tr><th scope=row>⋮</th><td>⋮</td><td>⋮</td><td>⋮</td><td>⋮</td><td>⋮</td><td>⋮</td><td>⋮</td><td>⋮</td><td>⋮</td><td>⋮</td><td>⋱</td><td>⋮</td><td>⋮</td><td>⋮</td><td>⋮</td><td>⋮</td><td>⋮</td><td>⋮</td><td>⋮</td><td>⋮</td><td>⋮</td></tr>\n",
       "\t<tr><th scope=row>201664</th><td>2019</td><td>11</td><td>3G</td><td>5</td><td>1900019</td><td>10</td><td>10</td><td>NA</td><td>0</td><td>CR</td><td>⋯</td><td>0</td><td>0</td><td>0</td><td>0</td><td>1</td><td>1</td><td>CMECF </td><td>0</td><td>2019-07-10</td><td>2099</td></tr>\n",
       "\t<tr><th scope=row>201665</th><td>2019</td><td>11</td><td>3G</td><td>5</td><td>1900019</td><td>11</td><td>11</td><td>NA</td><td>0</td><td>CR</td><td>⋯</td><td>0</td><td>0</td><td>0</td><td>0</td><td>1</td><td>1</td><td>CMECF </td><td>0</td><td>2019-07-10</td><td>2099</td></tr>\n",
       "\t<tr><th scope=row>201666</th><td>2019</td><td>11</td><td>3G</td><td>5</td><td>1900019</td><td>12</td><td>12</td><td>NA</td><td>0</td><td>CR</td><td>⋯</td><td>0</td><td>0</td><td>0</td><td>0</td><td>1</td><td>1</td><td>CMECF </td><td>0</td><td>2019-07-10</td><td>2099</td></tr>\n",
       "\t<tr><th scope=row>201667</th><td>2019</td><td>11</td><td>3G</td><td>5</td><td>1900019</td><td>13</td><td>13</td><td>NA</td><td>0</td><td>CR</td><td>⋯</td><td>0</td><td>0</td><td>0</td><td>0</td><td>1</td><td>1</td><td>CMECF </td><td>0</td><td>2019-07-10</td><td>2099</td></tr>\n",
       "\t<tr><th scope=row>201668</th><td>2019</td><td>11</td><td>3G</td><td>5</td><td>1900019</td><td>14</td><td>14</td><td>NA</td><td>0</td><td>CR</td><td>⋯</td><td>0</td><td>0</td><td>0</td><td>0</td><td>1</td><td>1</td><td>CMECF </td><td>0</td><td>2019-07-10</td><td>2099</td></tr>\n",
       "\t<tr><th scope=row>201669</th><td>2019</td><td>11</td><td>3G</td><td>5</td><td>1900019</td><td>15</td><td>15</td><td>NA</td><td>0</td><td>CR</td><td>⋯</td><td>0</td><td>0</td><td>0</td><td>0</td><td>1</td><td>1</td><td>CMECF </td><td>0</td><td>2019-07-10</td><td>2099</td></tr>\n",
       "\t<tr><th scope=row>201670</th><td>2019</td><td>11</td><td>3G</td><td>5</td><td>1900019</td><td>16</td><td>16</td><td>NA</td><td>0</td><td>CR</td><td>⋯</td><td>0</td><td>0</td><td>0</td><td>0</td><td>1</td><td>1</td><td>CMECF </td><td>0</td><td>2019-07-10</td><td>2099</td></tr>\n",
       "\t<tr><th scope=row>201671</th><td>2019</td><td>11</td><td>3G</td><td>5</td><td>1900019</td><td>17</td><td>17</td><td>NA</td><td>0</td><td>CR</td><td>⋯</td><td>0</td><td>0</td><td>0</td><td>0</td><td>1</td><td>1</td><td>CMECF </td><td>0</td><td>2019-07-10</td><td>2099</td></tr>\n",
       "\t<tr><th scope=row>201673</th><td>2019</td><td>11</td><td>3G</td><td>5</td><td>1900022</td><td> 1</td><td> 1</td><td>NA</td><td>0</td><td>CR</td><td>⋯</td><td>0</td><td>0</td><td>0</td><td>0</td><td>1</td><td>1</td><td>CMECF </td><td>1</td><td>2019-05-23</td><td>2099</td></tr>\n",
       "\t<tr><th scope=row>201677</th><td>2019</td><td>11</td><td>3G</td><td>5</td><td>1900024</td><td> 1</td><td> 1</td><td>NA</td><td>0</td><td>CR</td><td>⋯</td><td>0</td><td>0</td><td>0</td><td>0</td><td>1</td><td>1</td><td>CMECF </td><td>0</td><td>2019-05-08</td><td>2099</td></tr>\n",
       "\t<tr><th scope=row>201684</th><td>2019</td><td>11</td><td>3G</td><td>5</td><td>1900030</td><td> 1</td><td> 1</td><td>NA</td><td>0</td><td>CR</td><td>⋯</td><td>0</td><td>0</td><td>0</td><td>0</td><td>1</td><td>1</td><td>CMECF </td><td>0</td><td>2019-06-11</td><td>2099</td></tr>\n",
       "\t<tr><th scope=row>201685</th><td>2019</td><td>11</td><td>3G</td><td>5</td><td>1900030</td><td> 2</td><td> 2</td><td>NA</td><td>0</td><td>CR</td><td>⋯</td><td>0</td><td>0</td><td>0</td><td>0</td><td>1</td><td>1</td><td>CMECF </td><td>1</td><td>2019-07-10</td><td>2099</td></tr>\n",
       "\t<tr><th scope=row>201688</th><td>2019</td><td>11</td><td>3G</td><td>5</td><td>1900032</td><td> 1</td><td> 1</td><td>NA</td><td>0</td><td>CR</td><td>⋯</td><td>0</td><td>0</td><td>0</td><td>0</td><td>1</td><td>1</td><td>CMECF </td><td>0</td><td>2019-07-10</td><td>2099</td></tr>\n",
       "\t<tr><th scope=row>201689</th><td>2019</td><td>11</td><td>3G</td><td>5</td><td>1900033</td><td> 1</td><td> 1</td><td>NA</td><td>0</td><td>CR</td><td>⋯</td><td>0</td><td>0</td><td>0</td><td>0</td><td>1</td><td>1</td><td>CMECF </td><td>0</td><td>2019-07-10</td><td>2099</td></tr>\n",
       "\t<tr><th scope=row>201708</th><td>2019</td><td>11</td><td>3G</td><td>7</td><td>     27</td><td> 1</td><td> 1</td><td>NA</td><td>0</td><td>CR</td><td>⋯</td><td>0</td><td>0</td><td>0</td><td>0</td><td>1</td><td>1</td><td>CMECF </td><td>2</td><td>2013-11-02</td><td>2099</td></tr>\n",
       "\t<tr><th scope=row>201709</th><td>2019</td><td>11</td><td>3G</td><td>7</td><td> 200019</td><td> 1</td><td>-8</td><td>NA</td><td>0</td><td>CR</td><td>⋯</td><td>0</td><td>0</td><td>0</td><td>0</td><td>1</td><td>1</td><td>MASTER</td><td>0</td><td>2012-03-21</td><td>2099</td></tr>\n",
       "\t<tr><th scope=row>201823</th><td>2019</td><td>11</td><td>3G</td><td>7</td><td>1900001</td><td> 1</td><td> 1</td><td>NA</td><td>0</td><td>CR</td><td>⋯</td><td>0</td><td>0</td><td>0</td><td>0</td><td>1</td><td>1</td><td>CMECF </td><td>1</td><td>2019-03-04</td><td>2099</td></tr>\n",
       "\t<tr><th scope=row>201832</th><td>2019</td><td>11</td><td>3G</td><td>7</td><td>1900009</td><td> 1</td><td> 1</td><td>NA</td><td>0</td><td>CR</td><td>⋯</td><td>0</td><td>0</td><td>0</td><td>0</td><td>1</td><td>1</td><td>CMECF </td><td>0</td><td>2019-03-04</td><td>2099</td></tr>\n",
       "\t<tr><th scope=row>201833</th><td>2019</td><td>11</td><td>3G</td><td>7</td><td>1900009</td><td> 2</td><td> 2</td><td>NA</td><td>0</td><td>CR</td><td>⋯</td><td>0</td><td>0</td><td>0</td><td>0</td><td>1</td><td>1</td><td>CMECF </td><td>0</td><td>2019-03-04</td><td>2099</td></tr>\n",
       "\t<tr><th scope=row>201836</th><td>2019</td><td>11</td><td>3G</td><td>7</td><td>1900012</td><td> 1</td><td> 1</td><td>NA</td><td>0</td><td>CR</td><td>⋯</td><td>0</td><td>0</td><td>0</td><td>0</td><td>1</td><td>1</td><td>CMECF </td><td>0</td><td>2019-04-01</td><td>2099</td></tr>\n",
       "\t<tr><th scope=row>202370</th><td>2019</td><td>11</td><td>3J</td><td>4</td><td> 800259</td><td> 1</td><td> 1</td><td>NA</td><td>0</td><td>CR</td><td>⋯</td><td>0</td><td>0</td><td>0</td><td>0</td><td>1</td><td>1</td><td>MASTER</td><td>0</td><td>2012-03-21</td><td>2099</td></tr>\n",
       "\t<tr><th scope=row>202450</th><td>2019</td><td>11</td><td>3J</td><td>4</td><td>1800116</td><td> 1</td><td> 1</td><td>NA</td><td>0</td><td>CR</td><td>⋯</td><td>1</td><td>1</td><td>1</td><td>0</td><td>0</td><td>0</td><td>CMECF </td><td>1</td><td>2018-12-17</td><td>2019</td></tr>\n",
       "\t<tr><th scope=row>202452</th><td>2019</td><td>11</td><td>3J</td><td>4</td><td>1800119</td><td> 1</td><td> 1</td><td>NA</td><td>0</td><td>CR</td><td>⋯</td><td>0</td><td>0</td><td>0</td><td>0</td><td>1</td><td>1</td><td>CMECF </td><td>1</td><td>2019-06-07</td><td>2099</td></tr>\n",
       "\t<tr><th scope=row>202453</th><td>2019</td><td>11</td><td>3J</td><td>4</td><td>1800119</td><td> 2</td><td> 2</td><td>NA</td><td>0</td><td>CR</td><td>⋯</td><td>0</td><td>0</td><td>0</td><td>0</td><td>1</td><td>1</td><td>CMECF </td><td>1</td><td>2019-05-13</td><td>2099</td></tr>\n",
       "\t<tr><th scope=row>202547</th><td>2019</td><td>11</td><td>3J</td><td>4</td><td>1800255</td><td> 1</td><td> 1</td><td>NA</td><td>0</td><td>CR</td><td>⋯</td><td>1</td><td>1</td><td>1</td><td>0</td><td>0</td><td>0</td><td>CMECF </td><td>1</td><td>2019-05-13</td><td>2019</td></tr>\n",
       "\t<tr><th scope=row>202693</th><td>2019</td><td>11</td><td>3J</td><td>4</td><td>1800211</td><td> 1</td><td> 1</td><td>NA</td><td>0</td><td>CR</td><td>⋯</td><td>0</td><td>0</td><td>0</td><td>0</td><td>1</td><td>1</td><td>CMECF </td><td>0</td><td>2019-01-08</td><td>2099</td></tr>\n",
       "\t<tr><th scope=row>202850</th><td>2019</td><td>11</td><td>3J</td><td>4</td><td>9500094</td><td> 9</td><td> 9</td><td>NA</td><td>0</td><td>CR</td><td>⋯</td><td>0</td><td>0</td><td>0</td><td>0</td><td>1</td><td>1</td><td>MASTER</td><td>0</td><td>2012-03-21</td><td>2099</td></tr>\n",
       "\t<tr><th scope=row>202944</th><td>2019</td><td>11</td><td>3J</td><td>5</td><td>1900008</td><td> 1</td><td> 1</td><td>NA</td><td>0</td><td>CR</td><td>⋯</td><td>0</td><td>0</td><td>0</td><td>0</td><td>1</td><td>1</td><td>CMECF </td><td>0</td><td>2019-07-09</td><td>2099</td></tr>\n",
       "\t<tr><th scope=row>202945</th><td>2019</td><td>11</td><td>3J</td><td>5</td><td>1900008</td><td> 2</td><td> 2</td><td>NA</td><td>0</td><td>CR</td><td>⋯</td><td>0</td><td>0</td><td>0</td><td>0</td><td>1</td><td>1</td><td>CMECF </td><td>0</td><td>2019-07-09</td><td>2099</td></tr>\n",
       "\t<tr><th scope=row>202958</th><td>2019</td><td>11</td><td>3J</td><td>6</td><td> 200011</td><td> 1</td><td>-8</td><td>NA</td><td>0</td><td>CR</td><td>⋯</td><td>0</td><td>0</td><td>0</td><td>0</td><td>1</td><td>1</td><td>MASTER</td><td>0</td><td>2012-03-21</td><td>2099</td></tr>\n",
       "</tbody>\n",
       "</table>\n"
      ],
      "text/latex": [
       "A data.frame: 4533 × 144\n",
       "\\begin{tabular}{r|llllllllllllllllllllllllllllllllllllllllllllllllllllllllllllllllllllllllllllllllllllllllllllllllllllllllllllllllllllllllllllllllllllllllllllllll}\n",
       "  & FISCALYR & CIRCUIT & DISTRICT & OFFICE & DOCKET & DEFNO & CTDEF & NAME & REOPSEQ & TYPEREG & TYPETRN & TYPEMAG & DEFLGKY & CASLGKY & MAGDOCK & MAGDEF & STATUSCD & FUGSTAT & FGSTRTDATE & FGENDDATE & FILEDATE & PROCDATE & PROCCD & APPDATE & APPCD & FJUDGE & FCOUNSEL & FTITLE1 & FOFFLVL1 & FOFFCD1 & D2FOFFCD1 & FSEV1 & FTITLE2 & FOFFLVL2 & FOFFCD2 & D2FOFFCD2 & FSEV2 & FTITLE3 & FOFFLVL3 & FOFFCD3 & D2FOFFCD3 & FSEV3 & FTITLE4 & FOFFLVL4 & FOFFCD4 & D2FOFFCD4 & FSEV4 & FTITLE5 & FOFFLVL5 & FOFFCD5 & D2FOFFCD5 & FSEV5 & COUNTY & TRANDIST & TRANOFF & TRANDOCK & TRANDEF & UPDATE & DISPDATE & SENTDATE & TERMDATE & INT1 & INT2 & INT3 & TERMOFF & TJUDGE & TCOUNSEL & TTITLE1 & TOFFLVL1 & TOFFCD1 & D2TOFFCD1 & TSEV1 & DISP1 & PRISTIM1 & PRISCD1 & PROBMON1 & PROBCD1 & SUPVREL1 & FINEAMT1 & TTITLE2 & TOFFLVL2 & TOFFCD2 & D2TOFFCD2 & TSEV2 & DISP2 & PRISTIM2 & PRISCD2 & PROBMON2 & PROBCD2 & SUPVREL2 & FINEAMT2 & TTITLE3 & TOFFLVL3 & TOFFCD3 & D2TOFFCD3 & TSEV3 & DISP3 & PRISTIM3 & PRISCD3 & PROBMON3 & PROBCD3 & SUPVREL3 & FINEAMT3 & TTITLE4 & TOFFLVL4 & TOFFCD4 & D2TOFFCD4 & TSEV4 & DISP4 & PRISTIM4 & PRISCD4 & PROBMON4 & PROBCD4 & SUPVREL4 & FINEAMT4 & TTITLE5 & TOFFLVL5 & TOFFCD5 & D2TOFFCD5 & TSEV5 & DISP5 & PRISTIM5 & PRISCD5 & PROBMON5 & PROBCD5 & SUPVREL5 & FINEAMT5 & PRISTOT & PROBTOT & FINETOT & CTFILTRN & CTFIL & CTFILWOR & CTFILR & CTTRTRN & CTTR & CTTRWOR & CTTRR & CTPN & CTPNWOF & SOURCE & VER & LOADDATE & TAPEYEAR\\\\\n",
       "  & <int> & <int> & <chr> & <chr> & <int> & <int> & <int> & <lgl> & <int> & <fct> & <fct> & <fct> & <fct> & <fct> & <fct> & <int> & <fct> & <fct> & <fct> & <fct> & <fct> & <fct> & <int> & <fct> & <fct> & <lgl> & <int> & <fct> & <int> & <int> & <int> & <fct> & <fct> & <int> & <int> & <int> & <fct> & <fct> & <int> & <int> & <int> & <fct> & <fct> & <int> & <int> & <int> & <fct> & <fct> & <int> & <int> & <int> & <fct> & <int> & <chr> & <int> & <int> & <int> & <fct> & <fct> & <fct> & <fct> & <int> & <int> & <int> & <chr> & <lgl> & <int> & <fct> & <int> & <int> & <int> & <fct> & <int> & <int> & <fct> & <int> & <fct> & <int> & <int> & <fct> & <int> & <int> & <int> & <fct> & <int> & <int> & <fct> & <int> & <fct> & <int> & <int> & <fct> & <int> & <int> & <int> & <fct> & <int> & <int> & <fct> & <int> & <fct> & <int> & <int> & <fct> & <int> & <int> & <int> & <fct> & <int> & <int> & <fct> & <int> & <fct> & <int> & <int> & <fct> & <int> & <int> & <int> & <fct> & <int> & <int> & <fct> & <int> & <fct> & <int> & <int> & <int> & <int> & <int> & <int> & <int> & <int> & <int> & <int> & <int> & <int> & <int> & <int> & <int> & <fct> & <int> & <fct> & <int>\\\\\n",
       "\\hline\n",
       "\t1 & 2019 & 0 & 90 & 1 &       6 &  2 & -8 & NA & 0 & CR & -8 & -8 & 009010000006CR0020 & 009010000006CR0 & -8      & -8 & E & Z & 1900-01-01 & 1900-01-01 & 2000-01-06 & 2000-01-06 &  1 & 1900-01-01 & -8 & NA & 0 & 21:846=MD.F    & 4 & 6501 & 6501 & 839 & 21:841B=ND.F &  4 & 6701 & 6701 & 839 & -8           & -8 &   -8 &   -8 & -8  & -8           & -8 &   -8 &   -8 & -8  & -8             & -8 &   -8 &   -8 & -8  & 11001 & -8 & -8 & -8 & -8 & 2003-10-06 & 1900-01-01 & 1900-01-01 & 1900-01-01 &  0 &   0 &   0 & -8 & NA & -8 & -8           & -8 &   -8 &   -8 & -8  & -8 &  0 & -8   &  0 & -8   &  0 &  0 & -8           & -8 &   -8 &   -8 & -8  & -8 &  0 & -8 &  0 & -8 &  0 &  0 & -8           & -8 &   -8 &   -8 & -8  & -8 &  0 & -8 &  0 & -8 &  0 &  0 & -8           & -8 &   -8 &   -8 & -8  & -8 &  0 & -8 &  0 & -8 &  0 &  0 & -8 & -8 & -8 & -8 & -8 & -8 &  0 & -8 &  0 & -8 &  0 &  0 &  0 &  0 & 0 & 0 & 0 & 0 & 0 & 0 & 0 & 0 & 0 & 1 & 0 & MASTER & 0 & 2012-03-21 & 2099\\\\\n",
       "\t446 & 2019 & 0 & 90 & 1 & 1100254 &  1 &  1 & NA & 0 & CR & -8 & -8 & 009011100254CR0010 & 009011100254CR0 & -8      & -8 & E & N & 2011-08-11 & 2011-08-22 & 2011-08-11 & 2011-08-11 & 26 & 2011-09-01 & 1  & NA & 0 & 21:846=MD.F    & 4 & 6501 & 6501 & 839 & 21:846=MD.F  &  4 & 6501 & 6501 & 839 & 21:843B=MD.F &  4 & 6501 & 6501 & 237 & 21:843B=MD.F &  4 & 6501 & 6501 & 237 & 21:843B=MD.F   &  4 & 6501 & 6501 & 237 & 11001 & -8 & -8 & -8 & -8 & 1900-01-01 & 1900-01-01 & 1900-01-01 & 1900-01-01 & -8 &  -8 &  -8 & -8 & NA & -8 & -8           & -8 &   -8 &   -8 & -8  & -8 & -8 & -8   & -8 & -8   & -8 & -8 & -8           & -8 &   -8 &   -8 & -8  & -8 & -8 & -8 & -8 & -8 & -8 & -8 & -8           & -8 &   -8 &   -8 & -8  & -8 & -8 & -8 & -8 & -8 & -8 & -8 & -8           & -8 &   -8 &   -8 & -8  & -8 & -8 & -8 & -8 & -8 & -8 & -8 & -8 & -8 & -8 & -8 & -8 & -8 & -8 & -8 & -8 & -8 & -8 & -8 & -8 & -8 & 0 & 0 & 0 & 0 & 0 & 0 & 0 & 0 & 0 & 1 & 1 & CMECF  & 1 & 2014-12-10 & 2099\\\\\n",
       "\t447 & 2019 & 0 & 90 & 1 & 1100254 &  3 &  3 & NA & 0 & CR & -8 & -8 & 009011100254CR0030 & 009011100254CR0 & -8      & -8 & E & N & 2011-08-11 & 2011-09-08 & 2011-08-11 & 2011-08-11 & 26 & 1900-01-01 & -8 & NA & 0 & 21:846=MD.F    & 4 & 6501 & 6501 & 839 & 21:846=MD.F  &  4 & 6501 & 6501 & 839 & 21:843B=MD.F &  4 & 6501 & 6501 & 237 & 21:843B=MD.F &  4 & 6501 & 6501 & 237 & 21:843B=MD.F   &  4 & 6501 & 6501 & 237 & 11001 & -8 & -8 & -8 & -8 & 1900-01-01 & 1900-01-01 & 1900-01-01 & 1900-01-01 & -8 &  -8 &  -8 & -8 & NA & -8 & -8           & -8 &   -8 &   -8 & -8  & -8 & -8 & -8   & -8 & -8   & -8 & -8 & -8           & -8 &   -8 &   -8 & -8  & -8 & -8 & -8 & -8 & -8 & -8 & -8 & -8           & -8 &   -8 &   -8 & -8  & -8 & -8 & -8 & -8 & -8 & -8 & -8 & -8           & -8 &   -8 &   -8 & -8  & -8 & -8 & -8 & -8 & -8 & -8 & -8 & -8 & -8 & -8 & -8 & -8 & -8 & -8 & -8 & -8 & -8 & -8 & -8 & -8 & -8 & 0 & 0 & 0 & 0 & 0 & 0 & 0 & 0 & 0 & 1 & 1 & CMECF  & 1 & 2014-12-10 & 2099\\\\\n",
       "\t652 & 2019 & 0 & 90 & 1 & 1400241 &  2 &  2 & NA & 0 & CR & -8 & -8 & 009011400241CR0020 & 009011400241CR0 & -8      & -8 & E & N & 2014-12-16 & 2014-12-24 & 2014-12-16 & 2014-12-16 &  1 & 2014-12-24 & 1  & NA & 0 & 21:841A1=MP.F  & 4 & 6501 & 6501 & 839 & 18:924C.F    &  4 & 7830 & 7831 & 820 & 21:841A=CD.F &  4 & 6801 & 6801 & 839 & 21:841A=ND.F &  4 & 6701 & 6701 & 839 & 18:922G.F      &  4 & 7830 & 7820 & 409 & 11001 & -8 & -8 & -8 & -8 & 1900-01-01 & 1900-01-01 & 1900-01-01 & 1900-01-01 & -8 &  -8 &  -8 & -8 & NA & -8 & -8           & -8 &   -8 &   -8 & -8  & -8 & -8 & -8   & -8 & -8   & -8 & -8 & -8           & -8 &   -8 &   -8 & -8  & -8 & -8 & -8 & -8 & -8 & -8 & -8 & -8           & -8 &   -8 &   -8 & -8  & -8 & -8 & -8 & -8 & -8 & -8 & -8 & -8           & -8 &   -8 &   -8 & -8  & -8 & -8 & -8 & -8 & -8 & -8 & -8 & -8 & -8 & -8 & -8 & -8 & -8 & -8 & -8 & -8 & -8 & -8 & -8 & -8 & -8 & 0 & 0 & 0 & 0 & 0 & 0 & 0 & 0 & 0 & 1 & 1 & CMECF  & 0 & 2015-01-11 & 2099\\\\\n",
       "\t998 & 2019 & 0 & 90 & 1 & 1700216 &  1 &  1 & NA & 0 & CR & -8 & -8 & 009011700216CR0010 & 009011700216CR0 & -8      & -8 & E & N & 2017-11-09 & 2017-11-15 & 2017-11-09 & 2017-11-09 &  1 & 2017-11-15 & 1  & NA & 0 & 21:846=MD.F    & 4 & 6501 & 6501 & 839 & 21:846=MD.F  &  4 & 6501 & 6501 & 839 & 21:841A=MD.F &  4 & 6501 & 6501 & 239 & 21:841A=ND.F &  4 & 6701 & 6701 & 839 & 21:843B=MD.F   &  4 & 6501 & 6501 & 237 & 11001 & -8 & -8 & -8 & -8 & 1900-01-01 & 1900-01-01 & 1900-01-01 & 1900-01-01 & -8 &  -8 &  -8 & -8 & NA & -8 & -8           & -8 &   -8 &   -8 & -8  & -8 & -8 & -8   & -8 & -8   & -8 & -8 & -8           & -8 &   -8 &   -8 & -8  & -8 & -8 & -8 & -8 & -8 & -8 & -8 & -8           & -8 &   -8 &   -8 & -8  & -8 & -8 & -8 & -8 & -8 & -8 & -8 & -8           & -8 &   -8 &   -8 & -8  & -8 & -8 & -8 & -8 & -8 & -8 & -8 & -8 & -8 & -8 & -8 & -8 & -8 & -8 & -8 & -8 & -8 & -8 & -8 & -8 & -8 & 0 & 0 & 0 & 0 & 0 & 0 & 0 & 0 & 0 & 1 & 1 & CMECF  & 1 & 2019-07-17 & 2099\\\\\n",
       "\t999 & 2019 & 0 & 90 & 1 & 1700216 &  2 &  2 & NA & 0 & CR & -8 & -8 & 009011700216CR0020 & 009011700216CR0 & -8      & -8 & J & N & 2017-11-09 & 2017-11-15 & 2017-11-09 & 2017-11-09 &  1 & 2017-11-15 & 1  & NA & 0 & 21:846=MD.F    & 4 & 6501 & 6501 & 839 & 21:841A=MD.F &  4 & 6501 & 6501 & 239 & 21:841A=MD.F &  4 & 6501 & 6501 & 239 & 21:841A=ND.F &  4 & 6701 & 6701 & 839 & -8             & -8 &   -8 &   -8 & -8  & 11001 & -8 & -8 & -8 & -8 & 1900-01-01 & 2019-01-10 & 2019-04-26 & 2019-04-26 &  0 & 500 & 106 & 1  & NA &  1 & 21:841A=MD.F &  4 & 6501 & 6501 & 239 &  4 &  0 & -8   & 24 & M001 &  0 &  0 & 21:841A=MD.F &  4 & 6501 & 6501 & 239 &  1 &  0 & -8 &  0 & -8 &  0 &  0 & 21:841A=MD.F &  4 & 6501 & 6501 & 239 &  1 &  0 & -8 &  0 & -8 &  0 &  0 & 21:841A=ND.F &  4 & 6701 & 6701 & 839 &  1 &  0 & -8 &  0 & -8 &  0 &  0 & -8 & -8 & -8 & -8 & -8 & -8 & -8 & -8 & -8 & -8 & -8 & -8 & -8 & 24 & 0 & 0 & 0 & 0 & 0 & 1 & 1 & 1 & 0 & 0 & 0 & CMECF  & 1 & 2019-05-12 & 2019\\\\\n",
       "\t1000 & 2019 & 0 & 90 & 1 & 1700216 &  3 &  3 & NA & 0 & CR & -8 & -8 & 009011700216CR0030 & 009011700216CR0 & -8      & -8 & J & N & 2017-11-09 & 2017-11-15 & 2017-11-09 & 2017-11-09 &  1 & 2017-11-15 & 1  & NA & 0 & 21:841A=MD.F   & 4 & 6501 & 6501 & 239 & 21:841A=MD.F &  4 & 6501 & 6501 & 239 & 21:841A=ND.F &  4 & 6701 & 6701 & 839 & -8           & -8 &   -8 &   -8 & -8  & -8             & -8 &   -8 &   -8 & -8  & 11001 & -8 & -8 & -8 & -8 & 1900-01-01 & 2019-01-17 & 2019-05-16 & 2019-05-16 &  0 & 240 & 119 & 1  & NA &  2 & 21:841A=MD.F &  4 & 6501 & 6501 & 239 &  4 & 25 & M001 &  0 & -8   & 36 &  0 & 21:841A=MD.F &  4 & 6501 & 6501 & 239 &  1 &  0 & -8 &  0 & -8 &  0 &  0 & 21:841A=ND.F &  4 & 6701 & 6701 & 839 &  1 &  0 & -8 &  0 & -8 &  0 &  0 & -8           & -8 &   -8 &   -8 & -8  & -8 & -8 & -8 & -8 & -8 & -8 & -8 & -8 & -8 & -8 & -8 & -8 & -8 & -8 & -8 & -8 & -8 & -8 & -8 & 25 & -8 & 0 & 0 & 0 & 0 & 0 & 1 & 1 & 1 & 0 & 0 & 0 & CMECF  & 2 & 2019-06-11 & 2019\\\\\n",
       "\t1672 & 2019 & 0 & 90 & 1 & 1900075 &  1 &  1 & NA & 0 & CR & -8 & -8 & 009011900075CR0010 & 009011900075CR0 & -8      & -8 & E & N & 2019-02-26 & 2019-03-07 & 2019-02-26 & 2019-02-26 &  1 & 2019-03-07 & 1  & NA & 0 & 21:841A1=MP.F  & 4 & 6501 & 6501 & 839 & 18:924C.F    &  4 & 7830 & 7831 & 820 & 21:841A=NP.F &  4 & 6704 & 6701 & 839 & 18:1951.F    &  4 & 7400 & 1700 & 515 & 22DC:2801.F    &  4 & 1400 & 1400 & 420 & 11001 & -8 & -8 & -8 & -8 & 1900-01-01 & 1900-01-01 & 1900-01-01 & 1900-01-01 & -8 &  -8 &  -8 & -8 & NA & -8 & -8           & -8 &   -8 &   -8 & -8  & -8 & -8 & -8   & -8 & -8   & -8 & -8 & -8           & -8 &   -8 &   -8 & -8  & -8 & -8 & -8 & -8 & -8 & -8 & -8 & -8           & -8 &   -8 &   -8 & -8  & -8 & -8 & -8 & -8 & -8 & -8 & -8 & -8           & -8 &   -8 &   -8 & -8  & -8 & -8 & -8 & -8 & -8 & -8 & -8 & -8 & -8 & -8 & -8 & -8 & -8 & -8 & -8 & -8 & -8 & -8 & -8 & -8 & -8 & 0 & 1 & 1 & 1 & 0 & 0 & 0 & 0 & 0 & 1 & 1 & CMECF  & 1 & 2019-04-10 & 2099\\\\\n",
       "\t1673 & 2019 & 0 & 90 & 1 & 1900076 &  1 &  1 & NA & 0 & CR & -8 & -8 & 009011900076CR0010 & 009011900076CR0 & -8      & -8 & E & N & 2019-02-27 & 2019-03-18 & 2019-02-27 & 2019-02-27 &  1 & 2019-03-18 & 1  & NA & 0 & 21:841A=MD.F   & 4 & 6501 & 6501 & 239 & 21:841A=ND.F &  4 & 6701 & 6701 & 839 & 18:922G.F    &  4 & 7830 & 7820 & 409 & 21:841A=CD.M &  3 & 6801 & 6801 & C34 & -8             & -8 &   -8 &   -8 & -8  & 11001 & -8 & -8 & -8 & -8 & 1900-01-01 & 1900-01-01 & 1900-01-01 & 1900-01-01 & -8 &  -8 &  -8 & -8 & NA & -8 & -8           & -8 &   -8 &   -8 & -8  & -8 & -8 & -8   & -8 & -8   & -8 & -8 & -8           & -8 &   -8 &   -8 & -8  & -8 & -8 & -8 & -8 & -8 & -8 & -8 & -8           & -8 &   -8 &   -8 & -8  & -8 & -8 & -8 & -8 & -8 & -8 & -8 & -8           & -8 &   -8 &   -8 & -8  & -8 & -8 & -8 & -8 & -8 & -8 & -8 & -8 & -8 & -8 & -8 & -8 & -8 & -8 & -8 & -8 & -8 & -8 & -8 & -8 & -8 & 0 & 1 & 1 & 1 & 0 & 0 & 0 & 0 & 0 & 1 & 1 & CMECF  & 2 & 2019-07-17 & 2099\\\\\n",
       "\t1824 & 2019 & 0 & 90 & 1 & 7101814 &  1 & -8 & NA & 0 & CR & -8 & -8 & 009017101814CR0010 & 009017101814CR0 & -8      & -8 & E & Z & 1900-01-01 & 1900-01-01 & 1971-10-01 & 1971-10-01 &  1 & 1900-01-01 & -8 & NA & 0 & 21.962-MD      & 4 & 6501 & 6501 & 737 & -8           & -8 &   -8 &   -8 & -8  & -8           & -8 &   -8 &   -8 & -8  & -8           & -8 &   -8 &   -8 & -8  & -8             & -8 &   -8 &   -8 & -8  & 88888 & -8 & -8 & -8 & -8 & 1996-01-25 & 1900-01-01 & 1900-01-01 & 1900-01-01 &  0 &   0 &   0 & -8 & NA & -8 & -8           & -8 &   -8 &   -8 & -8  & -8 &  0 & -8   &  0 & -8   &  0 &  0 & -8           & -8 &   -8 &   -8 & -8  & -8 &  0 & -8 &  0 & -8 &  0 &  0 & -8           & -8 &   -8 &   -8 & -8  & -8 &  0 & -8 &  0 & -8 &  0 &  0 & -8           & -8 &   -8 &   -8 & -8  & -8 &  0 & -8 &  0 & -8 &  0 &  0 & -8 & -8 & -8 & -8 & -8 & -8 &  0 & -8 &  0 & -8 &  0 &  0 &  0 &  0 & 0 & 0 & 0 & 0 & 0 & 0 & 0 & 0 & 0 & 1 & 0 & MASTER & 0 & 2012-03-21 & 2099\\\\\n",
       "\t1985 & 2019 & 0 & 90 & 1 & 9600335 &  1 & -8 & NA & 0 & CR & -8 & MJ & 009019600335CR0010 & 009019600335CR0 & 9600603 &  1 & E & N & 1900-01-01 & 1900-01-01 & 1996-09-26 & 1996-09-26 &  1 & 1996-08-28 & A  & NA & 6 & 21:841B=MD.F   & 4 & 6501 & 6501 & 239 & 21:841B=ND.F &  4 & 6701 & 6701 & 839 & 18:922G.F    &  4 & 7830 & 7820 & 409 & 18:922G.F    &  4 & 7830 & 7820 & 409 & -8             & -8 &   -8 &   -8 & -8  & 11001 & -8 & -8 & -8 & -8 & 1998-01-16 & 1900-01-01 & 1900-01-01 & 1900-01-01 &  0 &   0 &   0 & -8 & NA & -8 & -8           & -8 &   -8 &   -8 & -8  & -8 &  0 & -8   &  0 & -8   &  0 &  0 & -8           & -8 &   -8 &   -8 & -8  & -8 &  0 & -8 &  0 & -8 &  0 &  0 & -8           & -8 &   -8 &   -8 & -8  & -8 &  0 & -8 &  0 & -8 &  0 &  0 & -8           & -8 &   -8 &   -8 & -8  & -8 &  0 & -8 &  0 & -8 &  0 &  0 & -8 & -8 & -8 & -8 & -8 & -8 &  0 & -8 &  0 & -8 &  0 &  0 &  0 &  0 & 0 & 0 & 0 & 0 & 0 & 0 & 0 & 0 & 0 & 1 & 1 & MASTER & 0 & 2012-03-21 & 2099\\\\\n",
       "\t2062 & 2019 & 0 & 90 & 1 & 9800284 &  1 &  1 & NA & 0 & CR & -8 & -8 & 009019800284CR0010 & 009019800284CR0 & -8      & -8 & E & N & 1900-01-01 & 1900-01-01 & 1998-08-13 & 1998-09-02 &  3 & 1998-09-02 & 1  & NA & 0 & 21:846=MD.F    & 4 & 6501 & 6501 & 839 & -8           & -8 &   -8 &   -8 & -8  & -8           & -8 &   -8 &   -8 & -8  & -8           & -8 &   -8 &   -8 & -8  & -8             & -8 &   -8 &   -8 & -8  & 11001 & -8 & -8 & -8 & -8 & 1900-01-01 & 1900-01-01 & 1900-01-01 & 1900-01-01 & -8 &  -8 &  -8 & -8 & NA & -8 & -8           & -8 &   -8 &   -8 & -8  & -8 & -8 & -8   & -8 & -8   & -8 & -8 & -8           & -8 &   -8 &   -8 & -8  & -8 & -8 & -8 & -8 & -8 & -8 & -8 & -8           & -8 &   -8 &   -8 & -8  & -8 & -8 & -8 & -8 & -8 & -8 & -8 & -8           & -8 &   -8 &   -8 & -8  & -8 & -8 & -8 & -8 & -8 & -8 & -8 & -8 & -8 & -8 & -8 & -8 & -8 & -8 & -8 & -8 & -8 & -8 & -8 & -8 & -8 & 0 & 0 & 0 & 0 & 0 & 0 & 0 & 0 & 0 & 1 & 1 & CMECF  & 1 & 2014-10-12 & 2099\\\\\n",
       "\t2085 & 2019 & 0 & 90 & 1 & 9900259 &  2 & -8 & NA & 0 & CR & -8 & -8 & 009019900259CR0020 & 009019900259CR0 & -8      & -8 & E & Z & 1900-01-01 & 1900-01-01 & 1999-07-29 & 1999-07-29 &  1 & 1900-01-01 & -8 & NA & 0 & 21:860A=MD.F   & 4 & 6501 & 6501 & 909 & 21:846=ND.F  &  4 & 6701 & 6701 & 839 & 21:841B=ND.F &  4 & 6701 & 6701 & 839 & -8           & -8 &   -8 &   -8 & -8  & -8             & -8 &   -8 &   -8 & -8  & 11001 & -8 & -8 & -8 & -8 & 2003-10-06 & 1900-01-01 & 1900-01-01 & 1900-01-01 &  0 &   0 &   0 & -8 & NA & -8 & -8           & -8 &   -8 &   -8 & -8  & -8 &  0 & -8   &  0 & -8   &  0 &  0 & -8           & -8 &   -8 &   -8 & -8  & -8 &  0 & -8 &  0 & -8 &  0 &  0 & -8           & -8 &   -8 &   -8 & -8  & -8 &  0 & -8 &  0 & -8 &  0 &  0 & -8           & -8 &   -8 &   -8 & -8  & -8 &  0 & -8 &  0 & -8 &  0 &  0 & -8 & -8 & -8 & -8 & -8 & -8 &  0 & -8 &  0 & -8 &  0 &  0 &  0 &  0 & 0 & 0 & 0 & 0 & 0 & 0 & 0 & 0 & 0 & 1 & 0 & MASTER & 0 & 2012-03-21 & 2099\\\\\n",
       "\t2090 & 2019 & 0 & 90 & 1 & 9900290 &  1 & -8 & NA & 0 & CR & -8 & -8 & 009019900290CR0010 & 009019900290CR0 & -8      & -8 & E & Z & 1900-01-01 & 1900-01-01 & 1999-08-24 & 1999-08-24 &  1 & 1900-01-01 & -8 & NA & 0 & 21:841B=MD.F   & 4 & 6501 & 6501 & 239 & 18:922N.F    &  4 & 7830 & 7800 & 205 & -8           & -8 &   -8 &   -8 & -8  & -8           & -8 &   -8 &   -8 & -8  & -8             & -8 &   -8 &   -8 & -8  & 11001 & -8 & -8 & -8 & -8 & 2006-11-11 & 1900-01-01 & 1900-01-01 & 1900-01-01 &  0 &   0 &   0 & -8 & NA & -8 & -8           & -8 &   -8 &   -8 & -8  & -8 &  0 & -8   &  0 & -8   &  0 &  0 & -8           & -8 &   -8 &   -8 & -8  & -8 &  0 & -8 &  0 & -8 &  0 &  0 & -8           & -8 &   -8 &   -8 & -8  & -8 &  0 & -8 &  0 & -8 &  0 &  0 & -8           & -8 &   -8 &   -8 & -8  & -8 &  0 & -8 &  0 & -8 &  0 &  0 & -8 & -8 & -8 & -8 & -8 & -8 &  0 & -8 &  0 & -8 &  0 &  0 &  0 &  0 & 0 & 0 & 0 & 0 & 0 & 0 & 0 & 0 & 0 & 1 & 0 & MASTER & 0 & 2012-03-21 & 2099\\\\\n",
       "\t2390 & 2019 & 1 & 0  & 2 & 1700088 &  1 &  1 & NA & 0 & CR & -8 & -8 & 010021700088CR0010 & 010021700088CR0 & -8      & -8 & J & N & 2017-06-21 & 2017-07-11 & 2017-06-20 & 2017-06-20 & 19 & 2017-07-12 & 1  & NA & 1 & 21:841A=MD.F   & 4 & 6501 & 6501 & 239 & 21:841A=ND.F &  4 & 6701 & 6701 & 839 & 21:841A=ND.F &  4 & 6701 & 6701 & 839 & 21:841A=ND.F &  4 & 6701 & 6701 & 839 & -8             & -8 &   -8 &   -8 & -8  & 23031 & -8 & -8 & -8 & -8 & 1900-01-01 & 2018-08-01 & 2019-02-28 & 2019-02-28 &  0 & 260 & 211 & 2  & NA &  1 & 21:841A=ND.F &  4 & 6701 & 6701 & 839 &  4 & 24 & M001 &  0 & -8   & 36 &  0 & 21:841A=ND.F &  4 & 6701 & 6701 & 839 &  1 &  0 & -8 &  0 & -8 &  0 &  0 & 21:841A=ND.F &  4 & 6701 & 6701 & 839 &  1 &  0 & -8 &  0 & -8 &  0 &  0 & 21:841A=MD.F &  4 & 6501 & 6501 & 239 &  1 &  0 & -8 &  0 & -8 &  0 &  0 & -8 & -8 & -8 & -8 & -8 & -8 & -8 & -8 & -8 & -8 & -8 & -8 & 24 & -8 & 0 & 0 & 0 & 0 & 0 & 1 & 1 & 1 & 0 & 0 & 0 & CMECF  & 4 & 2019-03-05 & 2019\\\\\n",
       "\t2443 & 2019 & 1 & 0  & 2 & 1800063 &  2 &  2 & NA & 0 & CR & -8 & -8 & 010021800063CR0020 & 010021800063CR0 & -8      & -8 & E & N & 2018-04-27 & 2018-05-02 & 2018-04-27 & 2018-04-27 & 19 & 2018-05-23 & 1  & NA & 2 & 21:841A=MD.F   & 4 & 6501 & 6501 & 239 & 21:841A=MD.F &  4 & 6501 & 6501 & 239 & 21:841A=MD.F &  4 & 6501 & 6501 & 239 & 21:841A=MD.F &  4 & 6501 & 6501 & 239 & -8             & -8 &   -8 &   -8 & -8  & 23001 & -8 & -8 & -8 & -8 & 1900-01-01 & 1900-01-01 & 1900-01-01 & 1900-01-01 & -8 &  -8 &  -8 & -8 & NA & -8 & -8           & -8 &   -8 &   -8 & -8  & -8 & -8 & -8   & -8 & -8   & -8 & -8 & -8           & -8 &   -8 &   -8 & -8  & -8 & -8 & -8 & -8 & -8 & -8 & -8 & -8           & -8 &   -8 &   -8 & -8  & -8 & -8 & -8 & -8 & -8 & -8 & -8 & -8           & -8 &   -8 &   -8 & -8  & -8 & -8 & -8 & -8 & -8 & -8 & -8 & -8 & -8 & -8 & -8 & -8 & -8 & -8 & -8 & -8 & -8 & -8 & -8 & -8 & -8 & 0 & 0 & 0 & 0 & 0 & 0 & 0 & 0 & 0 & 1 & 1 & CMECF  & 2 & 2018-11-07 & 2099\\\\\n",
       "\t2444 & 2019 & 1 & 0  & 2 & 1800063 &  3 &  3 & NA & 0 & CR & -8 & -8 & 010021800063CR0030 & 010021800063CR0 & -8      & -8 & E & N & 2018-04-27 & 2018-05-02 & 2018-04-27 & 2018-04-27 & 19 & 2018-05-23 & 1  & NA & 1 & 21:841A=MD.F   & 4 & 6501 & 6501 & 239 & 21:841A=MD.F &  4 & 6501 & 6501 & 239 & -8           & -8 &   -8 &   -8 & -8  & -8           & -8 &   -8 &   -8 & -8  & -8             & -8 &   -8 &   -8 & -8  & 23001 & -8 & -8 & -8 & -8 & 1900-01-01 & 1900-01-01 & 1900-01-01 & 1900-01-01 & -8 &  -8 &  -8 & -8 & NA & -8 & -8           & -8 &   -8 &   -8 & -8  & -8 & -8 & -8   & -8 & -8   & -8 & -8 & -8           & -8 &   -8 &   -8 & -8  & -8 & -8 & -8 & -8 & -8 & -8 & -8 & -8           & -8 &   -8 &   -8 & -8  & -8 & -8 & -8 & -8 & -8 & -8 & -8 & -8           & -8 &   -8 &   -8 & -8  & -8 & -8 & -8 & -8 & -8 & -8 & -8 & -8 & -8 & -8 & -8 & -8 & -8 & -8 & -8 & -8 & -8 & -8 & -8 & -8 & -8 & 0 & 0 & 0 & 0 & 0 & 0 & 0 & 0 & 0 & 1 & 1 & CMECF  & 2 & 2018-11-07 & 2099\\\\\n",
       "\t2445 & 2019 & 1 & 0  & 2 & 1800063 &  4 &  4 & NA & 0 & CR & -8 & -8 & 010021800063CR0040 & 010021800063CR0 & -8      & -8 & E & N & 1900-01-01 & 1900-01-01 & 2018-04-27 & 2018-10-05 &  1 & 2018-11-01 & 1  & NA & 2 & 18:1956-6501.F & 4 & 6501 & 7477 & 809 & 21:841A=MM.F &  4 & 6503 & 6503 & 239 & 21:841A=MM.F &  4 & 6503 & 6503 & 239 & -8           & -8 &   -8 &   -8 & -8  & -8             & -8 &   -8 &   -8 & -8  & 23001 & -8 & -8 & -8 & -8 & 1900-01-01 & 1900-01-01 & 1900-01-01 & 1900-01-01 & -8 &  -8 &  -8 & -8 & NA & -8 & -8           & -8 &   -8 &   -8 & -8  & -8 & -8 & -8   & -8 & -8   & -8 & -8 & -8           & -8 &   -8 &   -8 & -8  & -8 & -8 & -8 & -8 & -8 & -8 & -8 & -8           & -8 &   -8 &   -8 & -8  & -8 & -8 & -8 & -8 & -8 & -8 & -8 & -8           & -8 &   -8 &   -8 & -8  & -8 & -8 & -8 & -8 & -8 & -8 & -8 & -8 & -8 & -8 & -8 & -8 & -8 & -8 & -8 & -8 & -8 & -8 & -8 & -8 & -8 & 0 & 1 & 1 & 1 & 0 & 0 & 0 & 0 & 0 & 1 & 1 & CMECF  & 0 & 2018-11-07 & 2099\\\\\n",
       "\t2447 & 2019 & 1 & 0  & 2 & 1800063 &  6 &  6 & NA & 0 & CR & -8 & -8 & 010021800063CR0060 & 010021800063CR0 & -8      & -8 & E & N & 1900-01-01 & 1900-01-01 & 2018-04-27 & 2018-10-05 &  1 & 2018-10-25 & 1  & NA & 2 & 18:1956-6501.F & 4 & 6501 & 7477 & 809 & 21:841A=CD.F &  4 & 6801 & 6801 & 839 & 21:841A=MD.F &  4 & 6501 & 6501 & 239 & 21:841A=MM.F &  4 & 6503 & 6503 & 239 & 18:1957-6803.F &  4 & 6803 & 7477 & 329 & 23001 & -8 & -8 & -8 & -8 & 1900-01-01 & 1900-01-01 & 1900-01-01 & 1900-01-01 & -8 &  -8 &  -8 & -8 & NA & -8 & -8           & -8 &   -8 &   -8 & -8  & -8 & -8 & -8   & -8 & -8   & -8 & -8 & -8           & -8 &   -8 &   -8 & -8  & -8 & -8 & -8 & -8 & -8 & -8 & -8 & -8           & -8 &   -8 &   -8 & -8  & -8 & -8 & -8 & -8 & -8 & -8 & -8 & -8           & -8 &   -8 &   -8 & -8  & -8 & -8 & -8 & -8 & -8 & -8 & -8 & -8 & -8 & -8 & -8 & -8 & -8 & -8 & -8 & -8 & -8 & -8 & -8 & -8 & -8 & 0 & 1 & 1 & 1 & 0 & 0 & 0 & 0 & 0 & 1 & 1 & CMECF  & 0 & 2018-11-07 & 2099\\\\\n",
       "\t2452 & 2019 & 1 & 0  & 2 & 1800063 & 11 & 11 & NA & 0 & CR & -8 & -8 & 010021800063CR0110 & 010021800063CR0 & -8      & -8 & E & N & 1900-01-01 & 1900-01-01 & 2018-04-27 & 2018-10-05 &  1 & 2018-10-25 & 1  & NA & 0 & 18:1956-6501.F & 4 & 6501 & 7477 & 809 & 21:841A=MM.F &  4 & 6503 & 6503 & 239 & 21:856=MD.F  &  4 & 6501 & 6501 & 529 & -8           & -8 &   -8 &   -8 & -8  & -8             & -8 &   -8 &   -8 & -8  & 23001 & -8 & -8 & -8 & -8 & 1900-01-01 & 1900-01-01 & 1900-01-01 & 1900-01-01 & -8 &  -8 &  -8 & -8 & NA & -8 & -8           & -8 &   -8 &   -8 & -8  & -8 & -8 & -8   & -8 & -8   & -8 & -8 & -8           & -8 &   -8 &   -8 & -8  & -8 & -8 & -8 & -8 & -8 & -8 & -8 & -8           & -8 &   -8 &   -8 & -8  & -8 & -8 & -8 & -8 & -8 & -8 & -8 & -8           & -8 &   -8 &   -8 & -8  & -8 & -8 & -8 & -8 & -8 & -8 & -8 & -8 & -8 & -8 & -8 & -8 & -8 & -8 & -8 & -8 & -8 & -8 & -8 & -8 & -8 & 0 & 1 & 1 & 1 & 0 & 0 & 0 & 0 & 0 & 1 & 1 & CMECF  & 0 & 2018-11-07 & 2099\\\\\n",
       "\t2456 & 2019 & 1 & 0  & 2 & 1800063 & 15 & 15 & NA & 0 & CR & -8 & -8 & 010021800063CR0150 & 010021800063CR0 & -8      & -8 & E & N & 1900-01-01 & 1900-01-01 & 2018-04-27 & 2018-10-05 &  1 & 2018-11-20 & 1  & NA & 0 & 18:1956-6501.F & 4 & 6501 & 7477 & 809 & 21:841A=MM.F &  4 & 6503 & 6503 & 239 & 21:856=MD.F  &  4 & 6501 & 6501 & 529 & -8           & -8 &   -8 &   -8 & -8  & -8             & -8 &   -8 &   -8 & -8  & 23001 & -8 & -8 & -8 & -8 & 1900-01-01 & 1900-01-01 & 1900-01-01 & 1900-01-01 & -8 &  -8 &  -8 & -8 & NA & -8 & -8           & -8 &   -8 &   -8 & -8  & -8 & -8 & -8   & -8 & -8   & -8 & -8 & -8           & -8 &   -8 &   -8 & -8  & -8 & -8 & -8 & -8 & -8 & -8 & -8 & -8           & -8 &   -8 &   -8 & -8  & -8 & -8 & -8 & -8 & -8 & -8 & -8 & -8           & -8 &   -8 &   -8 & -8  & -8 & -8 & -8 & -8 & -8 & -8 & -8 & -8 & -8 & -8 & -8 & -8 & -8 & -8 & -8 & -8 & -8 & -8 & -8 & -8 & -8 & 0 & 1 & 1 & 1 & 0 & 0 & 0 & 0 & 0 & 1 & 1 & CMECF  & 1 & 2019-01-03 & 2099\\\\\n",
       "\t2458 & 2019 & 1 & 0  & 2 & 1800063 & 17 & 17 & NA & 0 & CR & -8 & -8 & 010021800063CR0170 & 010021800063CR0 & -8      & -8 & E & N & 1900-01-01 & 1900-01-01 & 2018-04-27 & 2018-10-05 &  1 & 2018-11-01 & 1  & NA & 0 & 18:1956-6501.F & 4 & 6501 & 7477 & 809 & -8           & -8 &   -8 &   -8 & -8  & -8           & -8 &   -8 &   -8 & -8  & -8           & -8 &   -8 &   -8 & -8  & -8             & -8 &   -8 &   -8 & -8  & 23001 & -8 & -8 & -8 & -8 & 1900-01-01 & 1900-01-01 & 1900-01-01 & 1900-01-01 & -8 &  -8 &  -8 & -8 & NA & -8 & -8           & -8 &   -8 &   -8 & -8  & -8 & -8 & -8   & -8 & -8   & -8 & -8 & -8           & -8 &   -8 &   -8 & -8  & -8 & -8 & -8 & -8 & -8 & -8 & -8 & -8           & -8 &   -8 &   -8 & -8  & -8 & -8 & -8 & -8 & -8 & -8 & -8 & -8           & -8 &   -8 &   -8 & -8  & -8 & -8 & -8 & -8 & -8 & -8 & -8 & -8 & -8 & -8 & -8 & -8 & -8 & -8 & -8 & -8 & -8 & -8 & -8 & -8 & -8 & 0 & 1 & 1 & 1 & 0 & 0 & 0 & 0 & 0 & 1 & 1 & CMECF  & 0 & 2018-11-07 & 2099\\\\\n",
       "\t2459 & 2019 & 1 & 0  & 2 & 1800063 & 18 & 18 & NA & 0 & CR & -8 & -8 & 010021800063CR0180 & 010021800063CR0 & -8      & -8 & E & N & 1900-01-01 & 1900-01-01 & 2018-04-27 & 2018-10-05 &  1 & 2018-12-13 & 1  & NA & 0 & 21:841A=MD.F   & 4 & 6501 & 6501 & 239 & -8           & -8 &   -8 &   -8 & -8  & -8           & -8 &   -8 &   -8 & -8  & -8           & -8 &   -8 &   -8 & -8  & -8             & -8 &   -8 &   -8 & -8  & 23001 & -8 & -8 & -8 & -8 & 1900-01-01 & 1900-01-01 & 1900-01-01 & 1900-01-01 & -8 &  -8 &  -8 & -8 & NA & -8 & -8           & -8 &   -8 &   -8 & -8  & -8 & -8 & -8   & -8 & -8   & -8 & -8 & -8           & -8 &   -8 &   -8 & -8  & -8 & -8 & -8 & -8 & -8 & -8 & -8 & -8           & -8 &   -8 &   -8 & -8  & -8 & -8 & -8 & -8 & -8 & -8 & -8 & -8           & -8 &   -8 &   -8 & -8  & -8 & -8 & -8 & -8 & -8 & -8 & -8 & -8 & -8 & -8 & -8 & -8 & -8 & -8 & -8 & -8 & -8 & -8 & -8 & -8 & -8 & 0 & 1 & 1 & 1 & 0 & 0 & 0 & 0 & 0 & 1 & 1 & CMECF  & 1 & 2019-01-03 & 2099\\\\\n",
       "\t2460 & 2019 & 1 & 0  & 2 & 1800063 & 19 & 19 & NA & 0 & CR & -8 & -8 & 010021800063CR0190 & 010021800063CR0 & -8      & -8 & E & N & 1900-01-01 & 1900-01-01 & 2018-04-27 & 2018-10-05 &  1 & 2018-10-23 & 1  & NA & 0 & 21:841A=MD.F   & 4 & 6501 & 6501 & 239 & -8           & -8 &   -8 &   -8 & -8  & -8           & -8 &   -8 &   -8 & -8  & -8           & -8 &   -8 &   -8 & -8  & -8             & -8 &   -8 &   -8 & -8  & 23001 & -8 & -8 & -8 & -8 & 1900-01-01 & 1900-01-01 & 1900-01-01 & 1900-01-01 & -8 &  -8 &  -8 & -8 & NA & -8 & -8           & -8 &   -8 &   -8 & -8  & -8 & -8 & -8   & -8 & -8   & -8 & -8 & -8           & -8 &   -8 &   -8 & -8  & -8 & -8 & -8 & -8 & -8 & -8 & -8 & -8           & -8 &   -8 &   -8 & -8  & -8 & -8 & -8 & -8 & -8 & -8 & -8 & -8           & -8 &   -8 &   -8 & -8  & -8 & -8 & -8 & -8 & -8 & -8 & -8 & -8 & -8 & -8 & -8 & -8 & -8 & -8 & -8 & -8 & -8 & -8 & -8 & -8 & -8 & 0 & 1 & 1 & 1 & 0 & 0 & 0 & 0 & 0 & 1 & 1 & CMECF  & 0 & 2018-11-07 & 2099\\\\\n",
       "\t2627 & 2019 & 1 & 0  & 2 & 1900084 &  1 &  1 & NA & 0 & CR & -8 & -8 & 010021900084CR0010 & 010021900084CR0 & -8      & -8 & E & N & 1900-01-01 & 1900-01-01 & 2019-05-09 & 2019-06-04 &  3 & 2019-06-04 & 1  & NA & 1 & 21:843B=MD.F   & 4 & 6501 & 6501 & 237 & -8           & -8 &   -8 &   -8 & -8  & -8           & -8 &   -8 &   -8 & -8  & -8           & -8 &   -8 &   -8 & -8  & -8             & -8 &   -8 &   -8 & -8  & 23001 & -8 & -8 & -8 & -8 & 1900-01-01 & 1900-01-01 & 1900-01-01 & 1900-01-01 & -8 &  -8 &  -8 & -8 & NA & -8 & -8           & -8 &   -8 &   -8 & -8  & -8 & -8 & -8   & -8 & -8   & -8 & -8 & -8           & -8 &   -8 &   -8 & -8  & -8 & -8 & -8 & -8 & -8 & -8 & -8 & -8           & -8 &   -8 &   -8 & -8  & -8 & -8 & -8 & -8 & -8 & -8 & -8 & -8           & -8 &   -8 &   -8 & -8  & -8 & -8 & -8 & -8 & -8 & -8 & -8 & -8 & -8 & -8 & -8 & -8 & -8 & -8 & -8 & -8 & -8 & -8 & -8 & -8 & -8 & 0 & 1 & 1 & 1 & 0 & 0 & 0 & 0 & 0 & 1 & 1 & CMECF  & 0 & 2019-07-09 & 2099\\\\\n",
       "\t2799 & 2019 & 1 & 1  & 1 & 1510019 &  1 &  1 & NA & 0 & CR & -8 & -8 & 010111510019CR0010 & 010111510019CR0 & -8      & -8 & E & Z & 2015-01-20 & 1900-01-01 & 2015-01-20 & 2015-01-20 & 19 & 1900-01-01 & -8 & NA & 0 & 21:846=MD.F    & 4 & 6501 & 6501 & 839 & 21:841A=MD.F &  4 & 6501 & 6501 & 239 & 18:922G.F    &  4 & 7830 & 7820 & 409 & -8           & -8 &   -8 &   -8 & -8  & -8             & -8 &   -8 &   -8 & -8  & 25025 & -8 & -8 & -8 & -8 & 1900-01-01 & 1900-01-01 & 1900-01-01 & 1900-01-01 & -8 &  -8 &  -8 & -8 & NA & -8 & -8           & -8 &   -8 &   -8 & -8  & -8 & -8 & -8   & -8 & -8   & -8 & -8 & -8           & -8 &   -8 &   -8 & -8  & -8 & -8 & -8 & -8 & -8 & -8 & -8 & -8           & -8 &   -8 &   -8 & -8  & -8 & -8 & -8 & -8 & -8 & -8 & -8 & -8           & -8 &   -8 &   -8 & -8  & -8 & -8 & -8 & -8 & -8 & -8 & -8 & -8 & -8 & -8 & -8 & -8 & -8 & -8 & -8 & -8 & -8 & -8 & -8 & -8 & -8 & 0 & 0 & 0 & 0 & 0 & 0 & 0 & 0 & 0 & 1 & 0 & CMECF  & 0 & 2015-02-15 & 2099\\\\\n",
       "\t3641 & 2019 & 1 & 1  & 1 & 7900376 &  8 & -8 & NA & 0 & CR & -8 & -8 & 010117900376CR0080 & 010117900376CR0 & -8      & -8 & E & Z & 1900-01-01 & 1900-01-01 & 1979-10-04 & 1979-10-04 &  1 & 1900-01-01 & -8 & NA & 0 & 21.841A-M1     & 4 & 6501 & 6501 & 437 & -8           & -8 &   -8 &   -8 & -8  & -8           & -8 &   -8 &   -8 & -8  & -8           & -8 &   -8 &   -8 & -8  & -8             & -8 &   -8 &   -8 & -8  & 88888 & -8 & -8 & -8 & -8 & 2002-09-09 & 1900-01-01 & 1900-01-01 & 1900-01-01 &  0 &   0 &   0 & -8 & NA & -8 & -8           & -8 &   -8 &   -8 & -8  & -8 &  0 & -8   &  0 & -8   &  0 &  0 & -8           & -8 &   -8 &   -8 & -8  & -8 &  0 & -8 &  0 & -8 &  0 &  0 & -8           & -8 &   -8 &   -8 & -8  & -8 &  0 & -8 &  0 & -8 &  0 &  0 & -8           & -8 &   -8 &   -8 & -8  & -8 &  0 & -8 &  0 & -8 &  0 &  0 & -8 & -8 & -8 & -8 & -8 & -8 &  0 & -8 &  0 & -8 &  0 &  0 &  0 &  0 & 0 & 0 & 0 & 0 & 0 & 0 & 0 & 0 & 0 & 1 & 0 & MASTER & 0 & 2012-03-21 & 2099\\\\\n",
       "\t3642 & 2019 & 1 & 1  & 1 & 7900376 & 13 & -8 & NA & 0 & CR & -8 & -8 & 010117900376CR0130 & 010117900376CR0 & -8      & -8 & E & Z & 1900-01-01 & 1900-01-01 & 1979-10-04 & 1979-10-04 &  1 & 1900-01-01 & -8 & NA & 0 & 21.841A-M1     & 4 & 6501 & 6501 & 437 & -8           & -8 &   -8 &   -8 & -8  & -8           & -8 &   -8 &   -8 & -8  & -8           & -8 &   -8 &   -8 & -8  & -8             & -8 &   -8 &   -8 & -8  & 88888 & -8 & -8 & -8 & -8 & 2002-09-09 & 1900-01-01 & 1900-01-01 & 1900-01-01 &  0 &   0 &   0 & -8 & NA & -8 & -8           & -8 &   -8 &   -8 & -8  & -8 &  0 & -8   &  0 & -8   &  0 &  0 & -8           & -8 &   -8 &   -8 & -8  & -8 &  0 & -8 &  0 & -8 &  0 &  0 & -8           & -8 &   -8 &   -8 & -8  & -8 &  0 & -8 &  0 & -8 &  0 &  0 & -8           & -8 &   -8 &   -8 & -8  & -8 &  0 & -8 &  0 & -8 &  0 &  0 & -8 & -8 & -8 & -8 & -8 & -8 &  0 & -8 &  0 & -8 &  0 &  0 &  0 &  0 & 0 & 0 & 0 & 0 & 0 & 0 & 0 & 0 & 0 & 1 & 0 & MASTER & 0 & 2012-03-21 & 2099\\\\\n",
       "\t3656 & 2019 & 1 & 1  & 1 & 8600118 &  6 & -8 & NA & 0 & CR & -8 & -8 & 010118600118CR0060 & 010118600118CR0 & -8      & -8 & E & Z & 1900-01-01 & 1900-01-01 & 1986-04-16 & 1986-04-16 &  1 & 1986-04-16 & 1  & NA & 0 & 21.841B6-M1    & 4 & 6501 & 6501 & 439 & -8           & -8 &   -8 &   -8 & -8  & -8           & -8 &   -8 &   -8 & -8  & -8           & -8 &   -8 &   -8 & -8  & -8             & -8 &   -8 &   -8 & -8  & 25025 & -8 & -8 & -8 & -8 & 2002-09-09 & 1900-01-01 & 1900-01-01 & 1900-01-01 &  0 &   0 &   0 & -8 & NA & -8 & -8           & -8 &   -8 &   -8 & -8  & -8 &  0 & -8   &  0 & -8   &  0 &  0 & -8           & -8 &   -8 &   -8 & -8  & -8 &  0 & -8 &  0 & -8 &  0 &  0 & -8           & -8 &   -8 &   -8 & -8  & -8 &  0 & -8 &  0 & -8 &  0 &  0 & -8           & -8 &   -8 &   -8 & -8  & -8 &  0 & -8 &  0 & -8 &  0 &  0 & -8 & -8 & -8 & -8 & -8 & -8 &  0 & -8 &  0 & -8 &  0 &  0 &  0 &  0 & 0 & 0 & 0 & 0 & 0 & 0 & 0 & 0 & 0 & 1 & 0 & MASTER & 0 & 2012-03-21 & 2099\\\\\n",
       "\t3937 & 2019 & 1 & 1  & 3 & 1830033 &  1 &  1 & NA & 0 & CR & -8 & MJ & 010131830033CR0010 & 010131830033CR0 & 1803060 &  1 & E & N & 1900-01-01 & 1900-01-01 & 2018-07-26 & 2018-07-26 &  1 & 2018-04-26 & A  & NA & 2 & 21:846=MD.F    & 4 & 6501 & 6501 & 839 & -8           & -8 &   -8 &   -8 & -8  & -8           & -8 &   -8 &   -8 & -8  & -8           & -8 &   -8 &   -8 & -8  & -8             & -8 &   -8 &   -8 & -8  & 25003 & -8 & -8 & -8 & -8 & 1900-01-01 & 1900-01-01 & 1900-01-01 & 1900-01-01 & -8 &  -8 &  -8 & -8 & NA & -8 & -8           & -8 &   -8 &   -8 & -8  & -8 & -8 & -8   & -8 & -8   & -8 & -8 & -8           & -8 &   -8 &   -8 & -8  & -8 & -8 & -8 & -8 & -8 & -8 & -8 & -8           & -8 &   -8 &   -8 & -8  & -8 & -8 & -8 & -8 & -8 & -8 & -8 & -8           & -8 &   -8 &   -8 & -8  & -8 & -8 & -8 & -8 & -8 & -8 & -8 & -8 & -8 & -8 & -8 & -8 & -8 & -8 & -8 & -8 & -8 & -8 & -8 & -8 & -8 & 0 & 1 & 1 & 1 & 0 & 0 & 0 & 0 & 0 & 1 & 1 & CMECF  & 0 & 2018-08-13 & 2099\\\\\n",
       "\t⋮ & ⋮ & ⋮ & ⋮ & ⋮ & ⋮ & ⋮ & ⋮ & ⋮ & ⋮ & ⋮ & ⋮ & ⋮ & ⋮ & ⋮ & ⋮ & ⋮ & ⋮ & ⋮ & ⋮ & ⋮ & ⋮ & ⋮ & ⋮ & ⋮ & ⋮ & ⋮ & ⋮ & ⋮ & ⋮ & ⋮ & ⋮ & ⋮ & ⋮ & ⋮ & ⋮ & ⋮ & ⋮ & ⋮ & ⋮ & ⋮ & ⋮ & ⋮ & ⋮ & ⋮ & ⋮ & ⋮ & ⋮ & ⋮ & ⋮ & ⋮ & ⋮ & ⋮ & ⋮ & ⋮ & ⋮ & ⋮ & ⋮ & ⋮ & ⋮ & ⋮ & ⋮ & ⋮ & ⋮ & ⋮ & ⋮ & ⋮ & ⋮ & ⋮ & ⋮ & ⋮ & ⋮ & ⋮ & ⋮ & ⋮ & ⋮ & ⋮ & ⋮ & ⋮ & ⋮ & ⋮ & ⋮ & ⋮ & ⋮ & ⋮ & ⋮ & ⋮ & ⋮ & ⋮ & ⋮ & ⋮ & ⋮ & ⋮ & ⋮ & ⋮ & ⋮ & ⋮ & ⋮ & ⋮ & ⋮ & ⋮ & ⋮ & ⋮ & ⋮ & ⋮ & ⋮ & ⋮ & ⋮ & ⋮ & ⋮ & ⋮ & ⋮ & ⋮ & ⋮ & ⋮ & ⋮ & ⋮ & ⋮ & ⋮ & ⋮ & ⋮ & ⋮ & ⋮ & ⋮ & ⋮ & ⋮ & ⋮ & ⋮ & ⋮ & ⋮ & ⋮ & ⋮ & ⋮ & ⋮ & ⋮ & ⋮ & ⋮ & ⋮ & ⋮ & ⋮ & ⋮ & ⋮ & ⋮ & ⋮ & ⋮\\\\\n",
       "\t201664 & 2019 & 11 & 3G & 5 & 1900019 & 10 & 10 & NA & 0 & CR & -8 & -8 & 113G51900019CR0100 & 113G51900019CR0 & -8      & -8 & E & N & 1900-01-01 & 1900-01-01 & 2019-03-13 & 2019-06-12 & 26 & 2019-06-25 & 1  & NA & 0 & 21:841A1=MP.F & 4 & 6501 & 6501 & 839 & -8            & -8 &   -8 &   -8 & -8  & -8             & -8 &   -8 &   -8 & -8  & -8           & -8 &   -8 &   -8 & -8  & -8             & -8 &   -8 &   -8 & -8  & 13007 & -8 & -8 & -8 & -8 & 1900-01-01 & 1900-01-01 & 1900-01-01 & 1900-01-01 & -8 &  -8 &  -8 & -8 & NA & -8 & -8           & -8 &   -8 &   -8 & -8  & -8 & -8 & -8   & -8 & -8 & -8 & -8 & -8           & -8 &   -8 &   -8 & -8  & -8 & -8 & -8 & -8 & -8 & -8 & -8 & -8 & -8 & -8 & -8 & -8 & -8 & -8 & -8 & -8 & -8 & -8 & -8 & -8 & -8 & -8 & -8 & -8 & -8 & -8 & -8 & -8 & -8 & -8 & -8 & -8 & -8 & -8 & -8 & -8 & -8 & -8 & -8 & -8 & -8 & -8 & -8 & -8 & -8 & 0 & 1 & 1 & 1 & 0 & 0 & 0 & 0 & 0 & 1 & 1 & CMECF  & 0 & 2019-07-10 & 2099\\\\\n",
       "\t201665 & 2019 & 11 & 3G & 5 & 1900019 & 11 & 11 & NA & 0 & CR & -8 & -8 & 113G51900019CR0110 & 113G51900019CR0 & -8      & -8 & E & N & 1900-01-01 & 1900-01-01 & 2019-03-13 & 2019-06-12 & 26 & 2019-06-18 & 1  & NA & 0 & 21:841A1=MP.F & 4 & 6501 & 6501 & 839 & 21:841A1=MP.F &  4 & 6501 & 6501 & 839 & -8             & -8 &   -8 &   -8 & -8  & -8           & -8 &   -8 &   -8 & -8  & -8             & -8 &   -8 &   -8 & -8  & 13007 & -8 & -8 & -8 & -8 & 1900-01-01 & 1900-01-01 & 1900-01-01 & 1900-01-01 & -8 &  -8 &  -8 & -8 & NA & -8 & -8           & -8 &   -8 &   -8 & -8  & -8 & -8 & -8   & -8 & -8 & -8 & -8 & -8           & -8 &   -8 &   -8 & -8  & -8 & -8 & -8 & -8 & -8 & -8 & -8 & -8 & -8 & -8 & -8 & -8 & -8 & -8 & -8 & -8 & -8 & -8 & -8 & -8 & -8 & -8 & -8 & -8 & -8 & -8 & -8 & -8 & -8 & -8 & -8 & -8 & -8 & -8 & -8 & -8 & -8 & -8 & -8 & -8 & -8 & -8 & -8 & -8 & -8 & 0 & 1 & 1 & 1 & 0 & 0 & 0 & 0 & 0 & 1 & 1 & CMECF  & 0 & 2019-07-10 & 2099\\\\\n",
       "\t201666 & 2019 & 11 & 3G & 5 & 1900019 & 12 & 12 & NA & 0 & CR & -8 & -8 & 113G51900019CR0120 & 113G51900019CR0 & -8      & -8 & E & N & 1900-01-01 & 1900-01-01 & 2019-03-13 & 2019-06-12 & 26 & 1900-01-01 & -8 & NA & 0 & 21:841A1=MP.F & 4 & 6501 & 6501 & 839 & -8            & -8 &   -8 &   -8 & -8  & -8             & -8 &   -8 &   -8 & -8  & -8           & -8 &   -8 &   -8 & -8  & -8             & -8 &   -8 &   -8 & -8  & 13007 & -8 & -8 & -8 & -8 & 1900-01-01 & 1900-01-01 & 1900-01-01 & 1900-01-01 & -8 &  -8 &  -8 & -8 & NA & -8 & -8           & -8 &   -8 &   -8 & -8  & -8 & -8 & -8   & -8 & -8 & -8 & -8 & -8           & -8 &   -8 &   -8 & -8  & -8 & -8 & -8 & -8 & -8 & -8 & -8 & -8 & -8 & -8 & -8 & -8 & -8 & -8 & -8 & -8 & -8 & -8 & -8 & -8 & -8 & -8 & -8 & -8 & -8 & -8 & -8 & -8 & -8 & -8 & -8 & -8 & -8 & -8 & -8 & -8 & -8 & -8 & -8 & -8 & -8 & -8 & -8 & -8 & -8 & 0 & 1 & 1 & 1 & 0 & 0 & 0 & 0 & 0 & 1 & 1 & CMECF  & 0 & 2019-07-10 & 2099\\\\\n",
       "\t201667 & 2019 & 11 & 3G & 5 & 1900019 & 13 & 13 & NA & 0 & CR & -8 & -8 & 113G51900019CR0130 & 113G51900019CR0 & -8      & -8 & E & N & 1900-01-01 & 1900-01-01 & 2019-03-13 & 2019-06-12 & 26 & 2019-06-19 & 1  & NA & 0 & 21:841A1=MP.F & 4 & 6501 & 6501 & 839 & -8            & -8 &   -8 &   -8 & -8  & -8             & -8 &   -8 &   -8 & -8  & -8           & -8 &   -8 &   -8 & -8  & -8             & -8 &   -8 &   -8 & -8  & 13007 & -8 & -8 & -8 & -8 & 1900-01-01 & 1900-01-01 & 1900-01-01 & 1900-01-01 & -8 &  -8 &  -8 & -8 & NA & -8 & -8           & -8 &   -8 &   -8 & -8  & -8 & -8 & -8   & -8 & -8 & -8 & -8 & -8           & -8 &   -8 &   -8 & -8  & -8 & -8 & -8 & -8 & -8 & -8 & -8 & -8 & -8 & -8 & -8 & -8 & -8 & -8 & -8 & -8 & -8 & -8 & -8 & -8 & -8 & -8 & -8 & -8 & -8 & -8 & -8 & -8 & -8 & -8 & -8 & -8 & -8 & -8 & -8 & -8 & -8 & -8 & -8 & -8 & -8 & -8 & -8 & -8 & -8 & 0 & 1 & 1 & 1 & 0 & 0 & 0 & 0 & 0 & 1 & 1 & CMECF  & 0 & 2019-07-10 & 2099\\\\\n",
       "\t201668 & 2019 & 11 & 3G & 5 & 1900019 & 14 & 14 & NA & 0 & CR & -8 & -8 & 113G51900019CR0140 & 113G51900019CR0 & -8      & -8 & E & N & 1900-01-01 & 1900-01-01 & 2019-03-13 & 2019-06-12 & 26 & 1900-01-01 & -8 & NA & 0 & 21:841A1=MP.F & 4 & 6501 & 6501 & 839 & 21:841A1=MP.F &  4 & 6501 & 6501 & 839 & -8             & -8 &   -8 &   -8 & -8  & -8           & -8 &   -8 &   -8 & -8  & -8             & -8 &   -8 &   -8 & -8  & 13007 & -8 & -8 & -8 & -8 & 1900-01-01 & 1900-01-01 & 1900-01-01 & 1900-01-01 & -8 &  -8 &  -8 & -8 & NA & -8 & -8           & -8 &   -8 &   -8 & -8  & -8 & -8 & -8   & -8 & -8 & -8 & -8 & -8           & -8 &   -8 &   -8 & -8  & -8 & -8 & -8 & -8 & -8 & -8 & -8 & -8 & -8 & -8 & -8 & -8 & -8 & -8 & -8 & -8 & -8 & -8 & -8 & -8 & -8 & -8 & -8 & -8 & -8 & -8 & -8 & -8 & -8 & -8 & -8 & -8 & -8 & -8 & -8 & -8 & -8 & -8 & -8 & -8 & -8 & -8 & -8 & -8 & -8 & 0 & 1 & 1 & 1 & 0 & 0 & 0 & 0 & 0 & 1 & 1 & CMECF  & 0 & 2019-07-10 & 2099\\\\\n",
       "\t201669 & 2019 & 11 & 3G & 5 & 1900019 & 15 & 15 & NA & 0 & CR & -8 & -8 & 113G51900019CR0150 & 113G51900019CR0 & -8      & -8 & E & N & 1900-01-01 & 1900-01-01 & 2019-03-13 & 2019-06-12 & 26 & 2019-06-18 & 1  & NA & 0 & 21:841A1=MP.F & 4 & 6501 & 6501 & 839 & -8            & -8 &   -8 &   -8 & -8  & -8             & -8 &   -8 &   -8 & -8  & -8           & -8 &   -8 &   -8 & -8  & -8             & -8 &   -8 &   -8 & -8  & 13007 & -8 & -8 & -8 & -8 & 1900-01-01 & 1900-01-01 & 1900-01-01 & 1900-01-01 & -8 &  -8 &  -8 & -8 & NA & -8 & -8           & -8 &   -8 &   -8 & -8  & -8 & -8 & -8   & -8 & -8 & -8 & -8 & -8           & -8 &   -8 &   -8 & -8  & -8 & -8 & -8 & -8 & -8 & -8 & -8 & -8 & -8 & -8 & -8 & -8 & -8 & -8 & -8 & -8 & -8 & -8 & -8 & -8 & -8 & -8 & -8 & -8 & -8 & -8 & -8 & -8 & -8 & -8 & -8 & -8 & -8 & -8 & -8 & -8 & -8 & -8 & -8 & -8 & -8 & -8 & -8 & -8 & -8 & 0 & 1 & 1 & 1 & 0 & 0 & 0 & 0 & 0 & 1 & 1 & CMECF  & 0 & 2019-07-10 & 2099\\\\\n",
       "\t201670 & 2019 & 11 & 3G & 5 & 1900019 & 16 & 16 & NA & 0 & CR & -8 & -8 & 113G51900019CR0160 & 113G51900019CR0 & -8      & -8 & E & N & 1900-01-01 & 1900-01-01 & 2019-03-13 & 2019-06-12 & 26 & 1900-01-01 & -8 & NA & 0 & 21:841A1=MP.F & 4 & 6501 & 6501 & 839 & -8            & -8 &   -8 &   -8 & -8  & -8             & -8 &   -8 &   -8 & -8  & -8           & -8 &   -8 &   -8 & -8  & -8             & -8 &   -8 &   -8 & -8  & 13007 & -8 & -8 & -8 & -8 & 1900-01-01 & 1900-01-01 & 1900-01-01 & 1900-01-01 & -8 &  -8 &  -8 & -8 & NA & -8 & -8           & -8 &   -8 &   -8 & -8  & -8 & -8 & -8   & -8 & -8 & -8 & -8 & -8           & -8 &   -8 &   -8 & -8  & -8 & -8 & -8 & -8 & -8 & -8 & -8 & -8 & -8 & -8 & -8 & -8 & -8 & -8 & -8 & -8 & -8 & -8 & -8 & -8 & -8 & -8 & -8 & -8 & -8 & -8 & -8 & -8 & -8 & -8 & -8 & -8 & -8 & -8 & -8 & -8 & -8 & -8 & -8 & -8 & -8 & -8 & -8 & -8 & -8 & 0 & 1 & 1 & 1 & 0 & 0 & 0 & 0 & 0 & 1 & 1 & CMECF  & 0 & 2019-07-10 & 2099\\\\\n",
       "\t201671 & 2019 & 11 & 3G & 5 & 1900019 & 17 & 17 & NA & 0 & CR & -8 & -8 & 113G51900019CR0170 & 113G51900019CR0 & -8      & -8 & E & N & 1900-01-01 & 1900-01-01 & 2019-03-13 & 2019-06-12 & 26 & 1900-01-01 & -8 & NA & 0 & 21:841A1=MP.F & 4 & 6501 & 6501 & 839 & -8            & -8 &   -8 &   -8 & -8  & -8             & -8 &   -8 &   -8 & -8  & -8           & -8 &   -8 &   -8 & -8  & -8             & -8 &   -8 &   -8 & -8  & 13007 & -8 & -8 & -8 & -8 & 1900-01-01 & 1900-01-01 & 1900-01-01 & 1900-01-01 & -8 &  -8 &  -8 & -8 & NA & -8 & -8           & -8 &   -8 &   -8 & -8  & -8 & -8 & -8   & -8 & -8 & -8 & -8 & -8           & -8 &   -8 &   -8 & -8  & -8 & -8 & -8 & -8 & -8 & -8 & -8 & -8 & -8 & -8 & -8 & -8 & -8 & -8 & -8 & -8 & -8 & -8 & -8 & -8 & -8 & -8 & -8 & -8 & -8 & -8 & -8 & -8 & -8 & -8 & -8 & -8 & -8 & -8 & -8 & -8 & -8 & -8 & -8 & -8 & -8 & -8 & -8 & -8 & -8 & 0 & 1 & 1 & 1 & 0 & 0 & 0 & 0 & 0 & 1 & 1 & CMECF  & 0 & 2019-07-10 & 2099\\\\\n",
       "\t201673 & 2019 & 11 & 3G & 5 & 1900022 &  1 &  1 & NA & 0 & CR & -8 & -8 & 113G51900022CR0010 & 113G51900022CR0 & -8      & -8 & E & N & 1900-01-01 & 1900-01-01 & 2019-04-09 & 2019-04-09 &  1 & 2019-05-14 & 1  & NA & 0 & 21:841A1=MP.F & 4 & 6501 & 6501 & 839 & -8            & -8 &   -8 &   -8 & -8  & -8             & -8 &   -8 &   -8 & -8  & -8           & -8 &   -8 &   -8 & -8  & -8             & -8 &   -8 &   -8 & -8  & 13007 & -8 & -8 & -8 & -8 & 1900-01-01 & 1900-01-01 & 1900-01-01 & 1900-01-01 & -8 &  -8 &  -8 & -8 & NA & -8 & -8           & -8 &   -8 &   -8 & -8  & -8 & -8 & -8   & -8 & -8 & -8 & -8 & -8           & -8 &   -8 &   -8 & -8  & -8 & -8 & -8 & -8 & -8 & -8 & -8 & -8 & -8 & -8 & -8 & -8 & -8 & -8 & -8 & -8 & -8 & -8 & -8 & -8 & -8 & -8 & -8 & -8 & -8 & -8 & -8 & -8 & -8 & -8 & -8 & -8 & -8 & -8 & -8 & -8 & -8 & -8 & -8 & -8 & -8 & -8 & -8 & -8 & -8 & 0 & 1 & 1 & 1 & 0 & 0 & 0 & 0 & 0 & 1 & 1 & CMECF  & 1 & 2019-05-23 & 2099\\\\\n",
       "\t201677 & 2019 & 11 & 3G & 5 & 1900024 &  1 &  1 & NA & 0 & CR & -8 & -8 & 113G51900024CR0010 & 113G51900024CR0 & -8      & -8 & E & N & 1900-01-01 & 1900-01-01 & 2019-04-09 & 2019-04-09 &  1 & 1900-01-01 & -8 & NA & 0 & 21:841A1=MP.F & 4 & 6501 & 6501 & 839 & -8            & -8 &   -8 &   -8 & -8  & -8             & -8 &   -8 &   -8 & -8  & -8           & -8 &   -8 &   -8 & -8  & -8             & -8 &   -8 &   -8 & -8  & 13007 & -8 & -8 & -8 & -8 & 1900-01-01 & 1900-01-01 & 1900-01-01 & 1900-01-01 & -8 &  -8 &  -8 & -8 & NA & -8 & -8           & -8 &   -8 &   -8 & -8  & -8 & -8 & -8   & -8 & -8 & -8 & -8 & -8           & -8 &   -8 &   -8 & -8  & -8 & -8 & -8 & -8 & -8 & -8 & -8 & -8 & -8 & -8 & -8 & -8 & -8 & -8 & -8 & -8 & -8 & -8 & -8 & -8 & -8 & -8 & -8 & -8 & -8 & -8 & -8 & -8 & -8 & -8 & -8 & -8 & -8 & -8 & -8 & -8 & -8 & -8 & -8 & -8 & -8 & -8 & -8 & -8 & -8 & 0 & 1 & 1 & 1 & 0 & 0 & 0 & 0 & 0 & 1 & 1 & CMECF  & 0 & 2019-05-08 & 2099\\\\\n",
       "\t201684 & 2019 & 11 & 3G & 5 & 1900030 &  1 &  1 & NA & 0 & CR & -8 & -8 & 113G51900030CR0010 & 113G51900030CR0 & -8      & -8 & E & N & 1900-01-01 & 1900-01-01 & 2019-05-16 & 2019-05-16 &  1 & 1900-01-01 & -8 & NA & 0 & 21:841A1=MP.F & 4 & 6501 & 6501 & 839 & 21:846=CD.F   &  4 & 6801 & 6801 & 839 & 18:922G.F      &  4 & 7830 & 7820 & 409 & -8           & -8 &   -8 &   -8 & -8  & -8             & -8 &   -8 &   -8 & -8  & 13225 & -8 & -8 & -8 & -8 & 1900-01-01 & 1900-01-01 & 1900-01-01 & 1900-01-01 & -8 &  -8 &  -8 & -8 & NA & -8 & -8           & -8 &   -8 &   -8 & -8  & -8 & -8 & -8   & -8 & -8 & -8 & -8 & -8           & -8 &   -8 &   -8 & -8  & -8 & -8 & -8 & -8 & -8 & -8 & -8 & -8 & -8 & -8 & -8 & -8 & -8 & -8 & -8 & -8 & -8 & -8 & -8 & -8 & -8 & -8 & -8 & -8 & -8 & -8 & -8 & -8 & -8 & -8 & -8 & -8 & -8 & -8 & -8 & -8 & -8 & -8 & -8 & -8 & -8 & -8 & -8 & -8 & -8 & 0 & 1 & 1 & 1 & 0 & 0 & 0 & 0 & 0 & 1 & 1 & CMECF  & 0 & 2019-06-11 & 2099\\\\\n",
       "\t201685 & 2019 & 11 & 3G & 5 & 1900030 &  2 &  2 & NA & 0 & CR & -8 & -8 & 113G51900030CR0020 & 113G51900030CR0 & -8      & -8 & E & N & 1900-01-01 & 1900-01-01 & 2019-05-16 & 2019-05-16 &  1 & 2019-06-27 & 1  & NA & 0 & 21:841A1=MP.F & 4 & 6501 & 6501 & 839 & 21:846=CD.F   &  4 & 6801 & 6801 & 839 & -8             & -8 &   -8 &   -8 & -8  & -8           & -8 &   -8 &   -8 & -8  & -8             & -8 &   -8 &   -8 & -8  & 13225 & -8 & -8 & -8 & -8 & 1900-01-01 & 1900-01-01 & 1900-01-01 & 1900-01-01 & -8 &  -8 &  -8 & -8 & NA & -8 & -8           & -8 &   -8 &   -8 & -8  & -8 & -8 & -8   & -8 & -8 & -8 & -8 & -8           & -8 &   -8 &   -8 & -8  & -8 & -8 & -8 & -8 & -8 & -8 & -8 & -8 & -8 & -8 & -8 & -8 & -8 & -8 & -8 & -8 & -8 & -8 & -8 & -8 & -8 & -8 & -8 & -8 & -8 & -8 & -8 & -8 & -8 & -8 & -8 & -8 & -8 & -8 & -8 & -8 & -8 & -8 & -8 & -8 & -8 & -8 & -8 & -8 & -8 & 0 & 1 & 1 & 1 & 0 & 0 & 0 & 0 & 0 & 1 & 1 & CMECF  & 1 & 2019-07-10 & 2099\\\\\n",
       "\t201688 & 2019 & 11 & 3G & 5 & 1900032 &  1 &  1 & NA & 0 & CR & -8 & -8 & 113G51900032CR0010 & 113G51900032CR0 & -8      & -8 & E & N & 1900-01-01 & 1900-01-01 & 2019-06-11 & 2019-06-11 &  1 & 1900-01-01 & -8 & NA & 0 & 21:841A1=MP.F & 4 & 6501 & 6501 & 839 & 18:924C.F     &  4 & 7830 & 7831 & 820 & 18:922G.F      &  4 & 7830 & 7820 & 409 & 21:844A=MP.F &  4 & 6504 & 6504 & 137 & -8             & -8 &   -8 &   -8 & -8  & 13021 & -8 & -8 & -8 & -8 & 1900-01-01 & 1900-01-01 & 1900-01-01 & 1900-01-01 & -8 &  -8 &  -8 & -8 & NA & -8 & -8           & -8 &   -8 &   -8 & -8  & -8 & -8 & -8   & -8 & -8 & -8 & -8 & -8           & -8 &   -8 &   -8 & -8  & -8 & -8 & -8 & -8 & -8 & -8 & -8 & -8 & -8 & -8 & -8 & -8 & -8 & -8 & -8 & -8 & -8 & -8 & -8 & -8 & -8 & -8 & -8 & -8 & -8 & -8 & -8 & -8 & -8 & -8 & -8 & -8 & -8 & -8 & -8 & -8 & -8 & -8 & -8 & -8 & -8 & -8 & -8 & -8 & -8 & 0 & 1 & 1 & 1 & 0 & 0 & 0 & 0 & 0 & 1 & 1 & CMECF  & 0 & 2019-07-10 & 2099\\\\\n",
       "\t201689 & 2019 & 11 & 3G & 5 & 1900033 &  1 &  1 & NA & 0 & CR & -8 & -8 & 113G51900033CR0010 & 113G51900033CR0 & -8      & -8 & E & N & 1900-01-01 & 1900-01-01 & 2019-06-11 & 2019-06-11 &  1 & 1900-01-01 & -8 & NA & 0 & 21:841A1=MP.F & 4 & 6501 & 6501 & 839 & 18:922G.F     &  4 & 7830 & 7820 & 409 & -8             & -8 &   -8 &   -8 & -8  & -8           & -8 &   -8 &   -8 & -8  & -8             & -8 &   -8 &   -8 & -8  & 13021 & -8 & -8 & -8 & -8 & 1900-01-01 & 1900-01-01 & 1900-01-01 & 1900-01-01 & -8 &  -8 &  -8 & -8 & NA & -8 & -8           & -8 &   -8 &   -8 & -8  & -8 & -8 & -8   & -8 & -8 & -8 & -8 & -8           & -8 &   -8 &   -8 & -8  & -8 & -8 & -8 & -8 & -8 & -8 & -8 & -8 & -8 & -8 & -8 & -8 & -8 & -8 & -8 & -8 & -8 & -8 & -8 & -8 & -8 & -8 & -8 & -8 & -8 & -8 & -8 & -8 & -8 & -8 & -8 & -8 & -8 & -8 & -8 & -8 & -8 & -8 & -8 & -8 & -8 & -8 & -8 & -8 & -8 & 0 & 1 & 1 & 1 & 0 & 0 & 0 & 0 & 0 & 1 & 1 & CMECF  & 0 & 2019-07-10 & 2099\\\\\n",
       "\t201708 & 2019 & 11 & 3G & 7 &      27 &  1 &  1 & NA & 0 & CR & -8 & MJ & 113G70000027CR0010 & 113G70000027CR0 & 6       &  1 & E & N & 2006-01-18 & 2013-06-04 & 2000-11-01 & 2000-11-01 &  1 & 2000-10-10 & 1  & NA & 1 & 21:846=MD.F   & 4 & 6501 & 6501 & 839 & 21:841A=MD.F  &  4 & 6501 & 6501 & 239 & 21:841A=MD.F   &  4 & 6501 & 6501 & 239 & 21:853.F     &  4 & 6911 & 6911 & A00 & -8             & -8 &   -8 &   -8 & -8  & 13185 & -8 & -8 & -8 & -8 & 1900-01-01 & 1900-01-01 & 1900-01-01 & 1900-01-01 & -8 &  -8 &  -8 & -8 & NA & -8 & -8           & -8 &   -8 &   -8 & -8  & -8 & -8 & -8   & -8 & -8 & -8 & -8 & -8           & -8 &   -8 &   -8 & -8  & -8 & -8 & -8 & -8 & -8 & -8 & -8 & -8 & -8 & -8 & -8 & -8 & -8 & -8 & -8 & -8 & -8 & -8 & -8 & -8 & -8 & -8 & -8 & -8 & -8 & -8 & -8 & -8 & -8 & -8 & -8 & -8 & -8 & -8 & -8 & -8 & -8 & -8 & -8 & -8 & -8 & -8 & -8 & -8 & -8 & 0 & 0 & 0 & 0 & 0 & 0 & 0 & 0 & 0 & 1 & 1 & CMECF  & 2 & 2013-11-02 & 2099\\\\\n",
       "\t201709 & 2019 & 11 & 3G & 7 &  200019 &  1 & -8 & NA & 0 & CR & -8 & MJ & 113G70200019CR0010 & 113G70200019CR0 & 201109  &  2 & E & N & 1900-01-01 & 1900-01-01 & 2002-12-04 & 2002-12-04 &  1 & 2002-11-27 & D  & NA & 1 & 21:846=MD.F   & 4 & 6501 & 6501 & 839 & 21:841A=MD.F  &  4 & 6501 & 6501 & 239 & 21:861D.F      &  4 & 6911 & 6911 & 219 & -8           & -8 &   -8 &   -8 & -8  & -8             & -8 &   -8 &   -8 & -8  & 13185 & -8 & -8 & -8 & -8 & 2003-01-07 & 1900-01-01 & 1900-01-01 & 1900-01-01 &  0 &   0 &   0 & -8 & NA & -8 & -8           & -8 &   -8 &   -8 & -8  & -8 &  0 & -8   &  0 & -8 &  0 &  0 & -8           & -8 &   -8 &   -8 & -8  & -8 &  0 & -8 &  0 & -8 &  0 &  0 & -8 & -8 & -8 & -8 & -8 & -8 &  0 & -8 &  0 & -8 &  0 &  0 & -8 & -8 & -8 & -8 & -8 & -8 &  0 & -8 &  0 & -8 &  0 &  0 & -8 & -8 & -8 & -8 & -8 & -8 &  0 & -8 &  0 & -8 &  0 &  0 &  0 &  0 & 0 & 0 & 0 & 0 & 0 & 0 & 0 & 0 & 0 & 1 & 1 & MASTER & 0 & 2012-03-21 & 2099\\\\\n",
       "\t201823 & 2019 & 11 & 3G & 7 & 1900001 &  1 &  1 & NA & 0 & CR & -8 & -8 & 113G71900001CR0010 & 113G71900001CR0 & -8      & -8 & E & N & 1900-01-01 & 1900-01-01 & 2019-01-09 & 2019-01-09 &  1 & 2019-02-28 & 1  & NA & 0 & 21:841A=MD.F  & 4 & 6501 & 6501 & 239 & 21:841A=MM.F  &  4 & 6503 & 6503 & 239 & 21:856=MD.F    &  4 & 6501 & 6501 & 529 & -8           & -8 &   -8 &   -8 & -8  & -8             & -8 &   -8 &   -8 & -8  & 13185 & -8 & -8 & -8 & -8 & 1900-01-01 & 1900-01-01 & 1900-01-01 & 1900-01-01 & -8 &  -8 &  -8 & -8 & NA & -8 & -8           & -8 &   -8 &   -8 & -8  & -8 & -8 & -8   & -8 & -8 & -8 & -8 & -8           & -8 &   -8 &   -8 & -8  & -8 & -8 & -8 & -8 & -8 & -8 & -8 & -8 & -8 & -8 & -8 & -8 & -8 & -8 & -8 & -8 & -8 & -8 & -8 & -8 & -8 & -8 & -8 & -8 & -8 & -8 & -8 & -8 & -8 & -8 & -8 & -8 & -8 & -8 & -8 & -8 & -8 & -8 & -8 & -8 & -8 & -8 & -8 & -8 & -8 & 0 & 1 & 1 & 1 & 0 & 0 & 0 & 0 & 0 & 1 & 1 & CMECF  & 1 & 2019-03-04 & 2099\\\\\n",
       "\t201832 & 2019 & 11 & 3G & 7 & 1900009 &  1 &  1 & NA & 0 & CR & -8 & -8 & 113G71900009CR0010 & 113G71900009CR0 & -8      & -8 & E & N & 1900-01-01 & 1900-01-01 & 2019-02-14 & 2019-02-14 &  1 & 1900-01-01 & -8 & NA & 0 & 21:846=MD.F   & 4 & 6501 & 6501 & 839 & 18:924C.F     &  4 & 7830 & 7831 & 820 & 18:922G.F      &  4 & 7830 & 7820 & 409 & -8           & -8 &   -8 &   -8 & -8  & -8             & -8 &   -8 &   -8 & -8  & 13185 & -8 & -8 & -8 & -8 & 1900-01-01 & 1900-01-01 & 1900-01-01 & 1900-01-01 & -8 &  -8 &  -8 & -8 & NA & -8 & -8           & -8 &   -8 &   -8 & -8  & -8 & -8 & -8   & -8 & -8 & -8 & -8 & -8           & -8 &   -8 &   -8 & -8  & -8 & -8 & -8 & -8 & -8 & -8 & -8 & -8 & -8 & -8 & -8 & -8 & -8 & -8 & -8 & -8 & -8 & -8 & -8 & -8 & -8 & -8 & -8 & -8 & -8 & -8 & -8 & -8 & -8 & -8 & -8 & -8 & -8 & -8 & -8 & -8 & -8 & -8 & -8 & -8 & -8 & -8 & -8 & -8 & -8 & 0 & 1 & 1 & 1 & 0 & 0 & 0 & 0 & 0 & 1 & 1 & CMECF  & 0 & 2019-03-04 & 2099\\\\\n",
       "\t201833 & 2019 & 11 & 3G & 7 & 1900009 &  2 &  2 & NA & 0 & CR & -8 & -8 & 113G71900009CR0020 & 113G71900009CR0 & -8      & -8 & E & N & 1900-01-01 & 1900-01-01 & 2019-02-14 & 2019-02-14 &  1 & 1900-01-01 & -8 & NA & 0 & 21:846=MD.F   & 4 & 6501 & 6501 & 839 & -8            & -8 &   -8 &   -8 & -8  & -8             & -8 &   -8 &   -8 & -8  & -8           & -8 &   -8 &   -8 & -8  & -8             & -8 &   -8 &   -8 & -8  & 13185 & -8 & -8 & -8 & -8 & 1900-01-01 & 1900-01-01 & 1900-01-01 & 1900-01-01 & -8 &  -8 &  -8 & -8 & NA & -8 & -8           & -8 &   -8 &   -8 & -8  & -8 & -8 & -8   & -8 & -8 & -8 & -8 & -8           & -8 &   -8 &   -8 & -8  & -8 & -8 & -8 & -8 & -8 & -8 & -8 & -8 & -8 & -8 & -8 & -8 & -8 & -8 & -8 & -8 & -8 & -8 & -8 & -8 & -8 & -8 & -8 & -8 & -8 & -8 & -8 & -8 & -8 & -8 & -8 & -8 & -8 & -8 & -8 & -8 & -8 & -8 & -8 & -8 & -8 & -8 & -8 & -8 & -8 & 0 & 1 & 1 & 1 & 0 & 0 & 0 & 0 & 0 & 1 & 1 & CMECF  & 0 & 2019-03-04 & 2099\\\\\n",
       "\t201836 & 2019 & 11 & 3G & 7 & 1900012 &  1 &  1 & NA & 0 & CR & -8 & -8 & 113G71900012CR0010 & 113G71900012CR0 & -8      & -8 & E & N & 1900-01-01 & 1900-01-01 & 2019-03-13 & 2019-03-13 &  1 & 2019-03-25 & 1  & NA & 0 & 21:841A=MD.F  & 4 & 6501 & 6501 & 239 & 21:841A=MD.F  &  4 & 6501 & 6501 & 239 & 21:841A=ND.F   &  4 & 6701 & 6701 & 839 & 21:841A=ND.F &  4 & 6701 & 6701 & 839 & -8             & -8 &   -8 &   -8 & -8  & 13027 & -8 & -8 & -8 & -8 & 1900-01-01 & 1900-01-01 & 1900-01-01 & 1900-01-01 & -8 &  -8 &  -8 & -8 & NA & -8 & -8           & -8 &   -8 &   -8 & -8  & -8 & -8 & -8   & -8 & -8 & -8 & -8 & -8           & -8 &   -8 &   -8 & -8  & -8 & -8 & -8 & -8 & -8 & -8 & -8 & -8 & -8 & -8 & -8 & -8 & -8 & -8 & -8 & -8 & -8 & -8 & -8 & -8 & -8 & -8 & -8 & -8 & -8 & -8 & -8 & -8 & -8 & -8 & -8 & -8 & -8 & -8 & -8 & -8 & -8 & -8 & -8 & -8 & -8 & -8 & -8 & -8 & -8 & 0 & 1 & 1 & 1 & 0 & 0 & 0 & 0 & 0 & 1 & 1 & CMECF  & 0 & 2019-04-01 & 2099\\\\\n",
       "\t202370 & 2019 & 11 & 3J & 4 &  800259 &  1 &  1 & NA & 0 & CR & -8 & -8 & 113J40800259CR0010 & 113J40800259CR0 & -8      & -8 & E & N & 1900-01-01 & 1900-01-01 & 2008-10-21 & 2008-10-21 &  8 & 1900-01-01 & -8 & NA & 0 & 21:841A=MD.F  & 4 & 6501 & 6501 & 239 & -8            & -8 &   -8 &   -8 & -8  & -8             & -8 &   -8 &   -8 & -8  & -8           & -8 &   -8 &   -8 & -8  & -8             & -8 &   -8 &   -8 & -8  & 13051 & -8 & -8 & -8 & -8 & 2011-10-03 & 1900-01-01 & 1900-01-01 & 1900-01-01 &  0 &   0 &   0 & -8 & NA & -8 & -8           & -8 &   -8 &   -8 & -8  & -8 &  0 & -8   &  0 & -8 &  0 &  0 & -8           & -8 &   -8 &   -8 & -8  & -8 &  0 & -8 &  0 & -8 &  0 &  0 & -8 & -8 & -8 & -8 & -8 & -8 &  0 & -8 &  0 & -8 &  0 &  0 & -8 & -8 & -8 & -8 & -8 & -8 &  0 & -8 &  0 & -8 &  0 &  0 & -8 & -8 & -8 & -8 & -8 & -8 &  0 & -8 &  0 & -8 &  0 &  0 &  0 &  0 & 0 & 0 & 0 & 0 & 0 & 0 & 0 & 0 & 0 & 1 & 1 & MASTER & 0 & 2012-03-21 & 2099\\\\\n",
       "\t202450 & 2019 & 11 & 3J & 4 & 1800116 &  1 &  1 & NA & 0 & CR & -8 & -8 & 113J41800116CR0010 & 113J41800116CR0 & -8      & -8 & J & N & 1900-01-01 & 1900-01-01 & 2018-04-04 & 2018-04-19 &  3 & 2018-04-19 & 1  & NA & 1 & 21:843B=MD.F  & 4 & 6501 & 6501 & 237 & -8            & -8 &   -8 &   -8 & -8  & -8             & -8 &   -8 &   -8 & -8  & -8           & -8 &   -8 &   -8 & -8  & -8             & -8 &   -8 &   -8 & -8  & 13051 & -8 & -8 & -8 & -8 & 1900-01-01 & 2018-11-26 & 2018-11-26 & 2018-11-26 &  0 & 250 & 100 & 4  & NA &  1 & 21:843B=MD.F &  4 & 6501 & 6501 & 237 &  4 & 24 & M001 &  0 & -8 & 12 &  0 & -8           & -8 &   -8 &   -8 & -8  & -8 & -8 & -8 & -8 & -8 & -8 & -8 & -8 & -8 & -8 & -8 & -8 & -8 & -8 & -8 & -8 & -8 & -8 & -8 & -8 & -8 & -8 & -8 & -8 & -8 & -8 & -8 & -8 & -8 & -8 & -8 & -8 & -8 & -8 & -8 & -8 & -8 & -8 & -8 & -8 & -8 & -8 & -8 & 24 & -8 & 0 & 0 & 0 & 0 & 0 & 1 & 1 & 1 & 0 & 0 & 0 & CMECF  & 1 & 2018-12-17 & 2019\\\\\n",
       "\t202452 & 2019 & 11 & 3J & 4 & 1800119 &  1 &  1 & NA & 0 & CR & -8 & MJ & 113J41800119CR0010 & 113J41800119CR0 & 1600037 &  1 & E & N & 1900-01-01 & 1900-01-01 & 2018-05-02 & 2018-05-02 & 26 & 2019-05-07 & 1  & NA & 0 & 21:846=MD.F   & 4 & 6501 & 6501 & 839 & 18:922O.F     &  4 & 7830 & 7830 & 820 & 18:924C.F      &  4 & 7830 & 7831 & 820 & 21:841B=MD.F &  4 & 6501 & 6501 & 239 & 18:1956-9999.F &  4 & 9999 & 7477 & 519 & 13051 & -8 & -8 & -8 & -8 & 1900-01-01 & 1900-01-01 & 1900-01-01 & 1900-01-01 & -8 &  -8 &  -8 & -8 & NA & -8 & -8           & -8 &   -8 &   -8 & -8  & -8 & -8 & -8   & -8 & -8 & -8 & -8 & -8           & -8 &   -8 &   -8 & -8  & -8 & -8 & -8 & -8 & -8 & -8 & -8 & -8 & -8 & -8 & -8 & -8 & -8 & -8 & -8 & -8 & -8 & -8 & -8 & -8 & -8 & -8 & -8 & -8 & -8 & -8 & -8 & -8 & -8 & -8 & -8 & -8 & -8 & -8 & -8 & -8 & -8 & -8 & -8 & -8 & -8 & -8 & -8 & -8 & -8 & 0 & 0 & 0 & 0 & 0 & 0 & 0 & 0 & 0 & 1 & 1 & CMECF  & 1 & 2019-06-07 & 2099\\\\\n",
       "\t202453 & 2019 & 11 & 3J & 4 & 1800119 &  2 &  2 & NA & 0 & CR & -8 & MJ & 113J41800119CR0020 & 113J41800119CR0 & 1600037 &  2 & E & N & 1900-01-01 & 1900-01-01 & 2018-05-02 & 2018-05-02 & 26 & 2019-04-04 & 1  & NA & 0 & 21:846=MD.F   & 4 & 6501 & 6501 & 839 & 21:841B=MD.F  &  4 & 6501 & 6501 & 239 & 18:1956-9999.F &  4 & 9999 & 7477 & 519 & 18:371.F     &  4 & 4992 & 4992 & 206 & -8             & -8 &   -8 &   -8 & -8  & 13051 & -8 & -8 & -8 & -8 & 1900-01-01 & 1900-01-01 & 1900-01-01 & 1900-01-01 & -8 &  -8 &  -8 & -8 & NA & -8 & -8           & -8 &   -8 &   -8 & -8  & -8 & -8 & -8   & -8 & -8 & -8 & -8 & -8           & -8 &   -8 &   -8 & -8  & -8 & -8 & -8 & -8 & -8 & -8 & -8 & -8 & -8 & -8 & -8 & -8 & -8 & -8 & -8 & -8 & -8 & -8 & -8 & -8 & -8 & -8 & -8 & -8 & -8 & -8 & -8 & -8 & -8 & -8 & -8 & -8 & -8 & -8 & -8 & -8 & -8 & -8 & -8 & -8 & -8 & -8 & -8 & -8 & -8 & 0 & 0 & 0 & 0 & 0 & 0 & 0 & 0 & 0 & 1 & 1 & CMECF  & 1 & 2019-05-13 & 2099\\\\\n",
       "\t202547 & 2019 & 11 & 3J & 4 & 1800255 &  1 &  1 & NA & 0 & CR & -8 & -8 & 113J41800255CR0010 & 113J41800255CR0 & -8      & -8 & J & N & 1900-01-01 & 1900-01-01 & 2018-11-08 & 2018-11-08 &  1 & 2018-12-03 & 1  & NA & 0 & 21:841A=MD.F  & 4 & 6501 & 6501 & 239 & 18:922G.F     &  4 & 7830 & 7820 & 409 & -8             & -8 &   -8 &   -8 & -8  & -8           & -8 &   -8 &   -8 & -8  & -8             & -8 &   -8 &   -8 & -8  & 13051 & -8 & -8 & -8 & -8 & 1900-01-01 & 2019-04-16 & 2019-04-16 & 2019-04-16 &  0 & 150 & 100 & 4  & NA &  1 & 18:922G.F    &  4 & 7830 & 7820 & 409 &  4 & 40 & M001 &  0 & -8 & 36 &  0 & 21:841A=MD.F &  4 & 6501 & 6501 & 239 &  1 &  0 & -8 &  0 & -8 &  0 &  0 & -8 & -8 & -8 & -8 & -8 & -8 & -8 & -8 & -8 & -8 & -8 & -8 & -8 & -8 & -8 & -8 & -8 & -8 & -8 & -8 & -8 & -8 & -8 & -8 & -8 & -8 & -8 & -8 & -8 & -8 & -8 & -8 & -8 & -8 & -8 & -8 & 40 & -8 & 0 & 1 & 1 & 1 & 0 & 1 & 1 & 1 & 0 & 0 & 0 & CMECF  & 1 & 2019-05-13 & 2019\\\\\n",
       "\t202693 & 2019 & 11 & 3J & 4 & 1800211 &  1 &  1 & NA & 0 & CR & -8 & -8 & 113J41800211CR0010 & 113J41800211CR0 & -8      & -8 & E & N & 1900-01-01 & 1900-01-01 & 2018-09-17 & 2018-12-06 &  1 & 2018-12-06 & 1  & NA & 2 & 21:846=MD.F   & 4 & 6501 & 6501 & 839 & 21:843B=MD.F  &  4 & 6501 & 6501 & 237 & -8             & -8 &   -8 &   -8 & -8  & -8           & -8 &   -8 &   -8 & -8  & -8             & -8 &   -8 &   -8 & -8  & 13051 & -8 & -8 & -8 & -8 & 1900-01-01 & 1900-01-01 & 1900-01-01 & 1900-01-01 & -8 &  -8 &  -8 & -8 & NA & -8 & -8           & -8 &   -8 &   -8 & -8  & -8 & -8 & -8   & -8 & -8 & -8 & -8 & -8           & -8 &   -8 &   -8 & -8  & -8 & -8 & -8 & -8 & -8 & -8 & -8 & -8 & -8 & -8 & -8 & -8 & -8 & -8 & -8 & -8 & -8 & -8 & -8 & -8 & -8 & -8 & -8 & -8 & -8 & -8 & -8 & -8 & -8 & -8 & -8 & -8 & -8 & -8 & -8 & -8 & -8 & -8 & -8 & -8 & -8 & -8 & -8 & -8 & -8 & 0 & 1 & 1 & 1 & 0 & 0 & 0 & 0 & 0 & 1 & 1 & CMECF  & 0 & 2019-01-08 & 2099\\\\\n",
       "\t202850 & 2019 & 11 & 3J & 4 & 9500094 &  9 &  9 & NA & 0 & CR & -8 & -8 & 113J49500094CR0090 & 113J49500094CR0 & -8      & -8 & E & N & 1900-01-01 & 1900-01-01 & 1995-04-20 & 1995-04-20 &  1 & 1995-06-16 & 1  & NA & 0 & 21:846=MD.F   & 4 & 6501 & 6501 & 839 & 21:846=ND.F   &  4 & 6701 & 6701 & 839 & 21:846=ND.F    &  4 & 6701 & 6701 & 839 & 21:841A=MD.F &  4 & 6501 & 6501 & 239 & -8             & -8 &   -8 &   -8 & -8  & 13051 & -8 & -8 & -8 & -8 & 2006-05-16 & 1900-01-01 & 1900-01-01 & 1900-01-01 &  0 &   0 &   0 & -8 & NA & -8 & -8           & -8 &   -8 &   -8 & -8  & -8 &  0 & -8   &  0 & -8 &  0 &  0 & -8           & -8 &   -8 &   -8 & -8  & -8 &  0 & -8 &  0 & -8 &  0 &  0 & -8 & -8 & -8 & -8 & -8 & -8 &  0 & -8 &  0 & -8 &  0 &  0 & -8 & -8 & -8 & -8 & -8 & -8 &  0 & -8 &  0 & -8 &  0 &  0 & -8 & -8 & -8 & -8 & -8 & -8 &  0 & -8 &  0 & -8 &  0 &  0 &  0 &  0 & 0 & 0 & 0 & 0 & 0 & 0 & 0 & 0 & 0 & 1 & 1 & MASTER & 0 & 2012-03-21 & 2099\\\\\n",
       "\t202944 & 2019 & 11 & 3J & 5 & 1900008 &  1 &  1 & NA & 0 & CR & -8 & -8 & 113J51900008CR0010 & 113J51900008CR0 & -8      & -8 & E & N & 1900-01-01 & 1900-01-01 & 2019-06-04 & 2019-06-04 &  1 & 1900-01-01 & -8 & NA & 0 & 21:846=MD.F   & 4 & 6501 & 6501 & 839 & 21:841A=CD.F  &  4 & 6801 & 6801 & 839 & -8             & -8 &   -8 &   -8 & -8  & -8           & -8 &   -8 &   -8 & -8  & -8             & -8 &   -8 &   -8 & -8  & 13069 & -8 & -8 & -8 & -8 & 1900-01-01 & 1900-01-01 & 1900-01-01 & 1900-01-01 & -8 &  -8 &  -8 & -8 & NA & -8 & -8           & -8 &   -8 &   -8 & -8  & -8 & -8 & -8   & -8 & -8 & -8 & -8 & -8           & -8 &   -8 &   -8 & -8  & -8 & -8 & -8 & -8 & -8 & -8 & -8 & -8 & -8 & -8 & -8 & -8 & -8 & -8 & -8 & -8 & -8 & -8 & -8 & -8 & -8 & -8 & -8 & -8 & -8 & -8 & -8 & -8 & -8 & -8 & -8 & -8 & -8 & -8 & -8 & -8 & -8 & -8 & -8 & -8 & -8 & -8 & -8 & -8 & -8 & 0 & 1 & 1 & 1 & 0 & 0 & 0 & 0 & 0 & 1 & 1 & CMECF  & 0 & 2019-07-09 & 2099\\\\\n",
       "\t202945 & 2019 & 11 & 3J & 5 & 1900008 &  2 &  2 & NA & 0 & CR & -8 & -8 & 113J51900008CR0020 & 113J51900008CR0 & -8      & -8 & E & N & 1900-01-01 & 1900-01-01 & 2019-06-04 & 2019-06-04 &  1 & 1900-01-01 & -8 & NA & 0 & 21:846=MD.F   & 4 & 6501 & 6501 & 839 & 21:841A=CD.F  &  4 & 6801 & 6801 & 839 & -8             & -8 &   -8 &   -8 & -8  & -8           & -8 &   -8 &   -8 & -8  & -8             & -8 &   -8 &   -8 & -8  & 13069 & -8 & -8 & -8 & -8 & 1900-01-01 & 1900-01-01 & 1900-01-01 & 1900-01-01 & -8 &  -8 &  -8 & -8 & NA & -8 & -8           & -8 &   -8 &   -8 & -8  & -8 & -8 & -8   & -8 & -8 & -8 & -8 & -8           & -8 &   -8 &   -8 & -8  & -8 & -8 & -8 & -8 & -8 & -8 & -8 & -8 & -8 & -8 & -8 & -8 & -8 & -8 & -8 & -8 & -8 & -8 & -8 & -8 & -8 & -8 & -8 & -8 & -8 & -8 & -8 & -8 & -8 & -8 & -8 & -8 & -8 & -8 & -8 & -8 & -8 & -8 & -8 & -8 & -8 & -8 & -8 & -8 & -8 & 0 & 1 & 1 & 1 & 0 & 0 & 0 & 0 & 0 & 1 & 1 & CMECF  & 0 & 2019-07-09 & 2099\\\\\n",
       "\t202958 & 2019 & 11 & 3J & 6 &  200011 &  1 & -8 & NA & 0 & CR & -8 & -8 & 113J60200011CR0010 & 113J60200011CR0 & -8      & -8 & E & N & 1900-01-01 & 1900-01-01 & 2002-05-09 & 2002-05-09 &  1 & 1900-01-01 & -8 & NA & 0 & 21:841A=MD.F  & 4 & 6501 & 6501 & 239 & 18:922G.F     &  4 & 7830 & 7820 & 409 & 21:844A=CP.M   &  3 & 6804 & 6804 & C34 & -8           & -8 &   -8 &   -8 & -8  & -8             & -8 &   -8 &   -8 & -8  & 13109 & -8 & -8 & -8 & -8 & 2002-07-06 & 1900-01-01 & 1900-01-01 & 1900-01-01 &  0 &   0 &   0 & -8 & NA & -8 & -8           & -8 &   -8 &   -8 & -8  & -8 &  0 & -8   &  0 & -8 &  0 &  0 & -8           & -8 &   -8 &   -8 & -8  & -8 &  0 & -8 &  0 & -8 &  0 &  0 & -8 & -8 & -8 & -8 & -8 & -8 &  0 & -8 &  0 & -8 &  0 &  0 & -8 & -8 & -8 & -8 & -8 & -8 &  0 & -8 &  0 & -8 &  0 &  0 & -8 & -8 & -8 & -8 & -8 & -8 &  0 & -8 &  0 & -8 &  0 &  0 &  0 &  0 & 0 & 0 & 0 & 0 & 0 & 0 & 0 & 0 & 0 & 1 & 1 & MASTER & 0 & 2012-03-21 & 2099\\\\\n",
       "\\end{tabular}\n"
      ],
      "text/markdown": [
       "\n",
       "A data.frame: 4533 × 144\n",
       "\n",
       "| <!--/--> | FISCALYR &lt;int&gt; | CIRCUIT &lt;int&gt; | DISTRICT &lt;chr&gt; | OFFICE &lt;chr&gt; | DOCKET &lt;int&gt; | DEFNO &lt;int&gt; | CTDEF &lt;int&gt; | NAME &lt;lgl&gt; | REOPSEQ &lt;int&gt; | TYPEREG &lt;fct&gt; | ⋯ ⋯ | CTTRTRN &lt;int&gt; | CTTR &lt;int&gt; | CTTRWOR &lt;int&gt; | CTTRR &lt;int&gt; | CTPN &lt;int&gt; | CTPNWOF &lt;int&gt; | SOURCE &lt;fct&gt; | VER &lt;int&gt; | LOADDATE &lt;fct&gt; | TAPEYEAR &lt;int&gt; |\n",
       "|---|---|---|---|---|---|---|---|---|---|---|---|---|---|---|---|---|---|---|---|---|---|\n",
       "| 1 | 2019 | 0 | 90 | 1 |       6 |  2 | -8 | NA | 0 | CR | ⋯ | 0 | 0 | 0 | 0 | 1 | 0 | MASTER | 0 | 2012-03-21 | 2099 |\n",
       "| 446 | 2019 | 0 | 90 | 1 | 1100254 |  1 |  1 | NA | 0 | CR | ⋯ | 0 | 0 | 0 | 0 | 1 | 1 | CMECF  | 1 | 2014-12-10 | 2099 |\n",
       "| 447 | 2019 | 0 | 90 | 1 | 1100254 |  3 |  3 | NA | 0 | CR | ⋯ | 0 | 0 | 0 | 0 | 1 | 1 | CMECF  | 1 | 2014-12-10 | 2099 |\n",
       "| 652 | 2019 | 0 | 90 | 1 | 1400241 |  2 |  2 | NA | 0 | CR | ⋯ | 0 | 0 | 0 | 0 | 1 | 1 | CMECF  | 0 | 2015-01-11 | 2099 |\n",
       "| 998 | 2019 | 0 | 90 | 1 | 1700216 |  1 |  1 | NA | 0 | CR | ⋯ | 0 | 0 | 0 | 0 | 1 | 1 | CMECF  | 1 | 2019-07-17 | 2099 |\n",
       "| 999 | 2019 | 0 | 90 | 1 | 1700216 |  2 |  2 | NA | 0 | CR | ⋯ | 1 | 1 | 1 | 0 | 0 | 0 | CMECF  | 1 | 2019-05-12 | 2019 |\n",
       "| 1000 | 2019 | 0 | 90 | 1 | 1700216 |  3 |  3 | NA | 0 | CR | ⋯ | 1 | 1 | 1 | 0 | 0 | 0 | CMECF  | 2 | 2019-06-11 | 2019 |\n",
       "| 1672 | 2019 | 0 | 90 | 1 | 1900075 |  1 |  1 | NA | 0 | CR | ⋯ | 0 | 0 | 0 | 0 | 1 | 1 | CMECF  | 1 | 2019-04-10 | 2099 |\n",
       "| 1673 | 2019 | 0 | 90 | 1 | 1900076 |  1 |  1 | NA | 0 | CR | ⋯ | 0 | 0 | 0 | 0 | 1 | 1 | CMECF  | 2 | 2019-07-17 | 2099 |\n",
       "| 1824 | 2019 | 0 | 90 | 1 | 7101814 |  1 | -8 | NA | 0 | CR | ⋯ | 0 | 0 | 0 | 0 | 1 | 0 | MASTER | 0 | 2012-03-21 | 2099 |\n",
       "| 1985 | 2019 | 0 | 90 | 1 | 9600335 |  1 | -8 | NA | 0 | CR | ⋯ | 0 | 0 | 0 | 0 | 1 | 1 | MASTER | 0 | 2012-03-21 | 2099 |\n",
       "| 2062 | 2019 | 0 | 90 | 1 | 9800284 |  1 |  1 | NA | 0 | CR | ⋯ | 0 | 0 | 0 | 0 | 1 | 1 | CMECF  | 1 | 2014-10-12 | 2099 |\n",
       "| 2085 | 2019 | 0 | 90 | 1 | 9900259 |  2 | -8 | NA | 0 | CR | ⋯ | 0 | 0 | 0 | 0 | 1 | 0 | MASTER | 0 | 2012-03-21 | 2099 |\n",
       "| 2090 | 2019 | 0 | 90 | 1 | 9900290 |  1 | -8 | NA | 0 | CR | ⋯ | 0 | 0 | 0 | 0 | 1 | 0 | MASTER | 0 | 2012-03-21 | 2099 |\n",
       "| 2390 | 2019 | 1 | 0  | 2 | 1700088 |  1 |  1 | NA | 0 | CR | ⋯ | 1 | 1 | 1 | 0 | 0 | 0 | CMECF  | 4 | 2019-03-05 | 2019 |\n",
       "| 2443 | 2019 | 1 | 0  | 2 | 1800063 |  2 |  2 | NA | 0 | CR | ⋯ | 0 | 0 | 0 | 0 | 1 | 1 | CMECF  | 2 | 2018-11-07 | 2099 |\n",
       "| 2444 | 2019 | 1 | 0  | 2 | 1800063 |  3 |  3 | NA | 0 | CR | ⋯ | 0 | 0 | 0 | 0 | 1 | 1 | CMECF  | 2 | 2018-11-07 | 2099 |\n",
       "| 2445 | 2019 | 1 | 0  | 2 | 1800063 |  4 |  4 | NA | 0 | CR | ⋯ | 0 | 0 | 0 | 0 | 1 | 1 | CMECF  | 0 | 2018-11-07 | 2099 |\n",
       "| 2447 | 2019 | 1 | 0  | 2 | 1800063 |  6 |  6 | NA | 0 | CR | ⋯ | 0 | 0 | 0 | 0 | 1 | 1 | CMECF  | 0 | 2018-11-07 | 2099 |\n",
       "| 2452 | 2019 | 1 | 0  | 2 | 1800063 | 11 | 11 | NA | 0 | CR | ⋯ | 0 | 0 | 0 | 0 | 1 | 1 | CMECF  | 0 | 2018-11-07 | 2099 |\n",
       "| 2456 | 2019 | 1 | 0  | 2 | 1800063 | 15 | 15 | NA | 0 | CR | ⋯ | 0 | 0 | 0 | 0 | 1 | 1 | CMECF  | 1 | 2019-01-03 | 2099 |\n",
       "| 2458 | 2019 | 1 | 0  | 2 | 1800063 | 17 | 17 | NA | 0 | CR | ⋯ | 0 | 0 | 0 | 0 | 1 | 1 | CMECF  | 0 | 2018-11-07 | 2099 |\n",
       "| 2459 | 2019 | 1 | 0  | 2 | 1800063 | 18 | 18 | NA | 0 | CR | ⋯ | 0 | 0 | 0 | 0 | 1 | 1 | CMECF  | 1 | 2019-01-03 | 2099 |\n",
       "| 2460 | 2019 | 1 | 0  | 2 | 1800063 | 19 | 19 | NA | 0 | CR | ⋯ | 0 | 0 | 0 | 0 | 1 | 1 | CMECF  | 0 | 2018-11-07 | 2099 |\n",
       "| 2627 | 2019 | 1 | 0  | 2 | 1900084 |  1 |  1 | NA | 0 | CR | ⋯ | 0 | 0 | 0 | 0 | 1 | 1 | CMECF  | 0 | 2019-07-09 | 2099 |\n",
       "| 2799 | 2019 | 1 | 1  | 1 | 1510019 |  1 |  1 | NA | 0 | CR | ⋯ | 0 | 0 | 0 | 0 | 1 | 0 | CMECF  | 0 | 2015-02-15 | 2099 |\n",
       "| 3641 | 2019 | 1 | 1  | 1 | 7900376 |  8 | -8 | NA | 0 | CR | ⋯ | 0 | 0 | 0 | 0 | 1 | 0 | MASTER | 0 | 2012-03-21 | 2099 |\n",
       "| 3642 | 2019 | 1 | 1  | 1 | 7900376 | 13 | -8 | NA | 0 | CR | ⋯ | 0 | 0 | 0 | 0 | 1 | 0 | MASTER | 0 | 2012-03-21 | 2099 |\n",
       "| 3656 | 2019 | 1 | 1  | 1 | 8600118 |  6 | -8 | NA | 0 | CR | ⋯ | 0 | 0 | 0 | 0 | 1 | 0 | MASTER | 0 | 2012-03-21 | 2099 |\n",
       "| 3937 | 2019 | 1 | 1  | 3 | 1830033 |  1 |  1 | NA | 0 | CR | ⋯ | 0 | 0 | 0 | 0 | 1 | 1 | CMECF  | 0 | 2018-08-13 | 2099 |\n",
       "| ⋮ | ⋮ | ⋮ | ⋮ | ⋮ | ⋮ | ⋮ | ⋮ | ⋮ | ⋮ | ⋮ | ⋱ | ⋮ | ⋮ | ⋮ | ⋮ | ⋮ | ⋮ | ⋮ | ⋮ | ⋮ | ⋮ |\n",
       "| 201664 | 2019 | 11 | 3G | 5 | 1900019 | 10 | 10 | NA | 0 | CR | ⋯ | 0 | 0 | 0 | 0 | 1 | 1 | CMECF  | 0 | 2019-07-10 | 2099 |\n",
       "| 201665 | 2019 | 11 | 3G | 5 | 1900019 | 11 | 11 | NA | 0 | CR | ⋯ | 0 | 0 | 0 | 0 | 1 | 1 | CMECF  | 0 | 2019-07-10 | 2099 |\n",
       "| 201666 | 2019 | 11 | 3G | 5 | 1900019 | 12 | 12 | NA | 0 | CR | ⋯ | 0 | 0 | 0 | 0 | 1 | 1 | CMECF  | 0 | 2019-07-10 | 2099 |\n",
       "| 201667 | 2019 | 11 | 3G | 5 | 1900019 | 13 | 13 | NA | 0 | CR | ⋯ | 0 | 0 | 0 | 0 | 1 | 1 | CMECF  | 0 | 2019-07-10 | 2099 |\n",
       "| 201668 | 2019 | 11 | 3G | 5 | 1900019 | 14 | 14 | NA | 0 | CR | ⋯ | 0 | 0 | 0 | 0 | 1 | 1 | CMECF  | 0 | 2019-07-10 | 2099 |\n",
       "| 201669 | 2019 | 11 | 3G | 5 | 1900019 | 15 | 15 | NA | 0 | CR | ⋯ | 0 | 0 | 0 | 0 | 1 | 1 | CMECF  | 0 | 2019-07-10 | 2099 |\n",
       "| 201670 | 2019 | 11 | 3G | 5 | 1900019 | 16 | 16 | NA | 0 | CR | ⋯ | 0 | 0 | 0 | 0 | 1 | 1 | CMECF  | 0 | 2019-07-10 | 2099 |\n",
       "| 201671 | 2019 | 11 | 3G | 5 | 1900019 | 17 | 17 | NA | 0 | CR | ⋯ | 0 | 0 | 0 | 0 | 1 | 1 | CMECF  | 0 | 2019-07-10 | 2099 |\n",
       "| 201673 | 2019 | 11 | 3G | 5 | 1900022 |  1 |  1 | NA | 0 | CR | ⋯ | 0 | 0 | 0 | 0 | 1 | 1 | CMECF  | 1 | 2019-05-23 | 2099 |\n",
       "| 201677 | 2019 | 11 | 3G | 5 | 1900024 |  1 |  1 | NA | 0 | CR | ⋯ | 0 | 0 | 0 | 0 | 1 | 1 | CMECF  | 0 | 2019-05-08 | 2099 |\n",
       "| 201684 | 2019 | 11 | 3G | 5 | 1900030 |  1 |  1 | NA | 0 | CR | ⋯ | 0 | 0 | 0 | 0 | 1 | 1 | CMECF  | 0 | 2019-06-11 | 2099 |\n",
       "| 201685 | 2019 | 11 | 3G | 5 | 1900030 |  2 |  2 | NA | 0 | CR | ⋯ | 0 | 0 | 0 | 0 | 1 | 1 | CMECF  | 1 | 2019-07-10 | 2099 |\n",
       "| 201688 | 2019 | 11 | 3G | 5 | 1900032 |  1 |  1 | NA | 0 | CR | ⋯ | 0 | 0 | 0 | 0 | 1 | 1 | CMECF  | 0 | 2019-07-10 | 2099 |\n",
       "| 201689 | 2019 | 11 | 3G | 5 | 1900033 |  1 |  1 | NA | 0 | CR | ⋯ | 0 | 0 | 0 | 0 | 1 | 1 | CMECF  | 0 | 2019-07-10 | 2099 |\n",
       "| 201708 | 2019 | 11 | 3G | 7 |      27 |  1 |  1 | NA | 0 | CR | ⋯ | 0 | 0 | 0 | 0 | 1 | 1 | CMECF  | 2 | 2013-11-02 | 2099 |\n",
       "| 201709 | 2019 | 11 | 3G | 7 |  200019 |  1 | -8 | NA | 0 | CR | ⋯ | 0 | 0 | 0 | 0 | 1 | 1 | MASTER | 0 | 2012-03-21 | 2099 |\n",
       "| 201823 | 2019 | 11 | 3G | 7 | 1900001 |  1 |  1 | NA | 0 | CR | ⋯ | 0 | 0 | 0 | 0 | 1 | 1 | CMECF  | 1 | 2019-03-04 | 2099 |\n",
       "| 201832 | 2019 | 11 | 3G | 7 | 1900009 |  1 |  1 | NA | 0 | CR | ⋯ | 0 | 0 | 0 | 0 | 1 | 1 | CMECF  | 0 | 2019-03-04 | 2099 |\n",
       "| 201833 | 2019 | 11 | 3G | 7 | 1900009 |  2 |  2 | NA | 0 | CR | ⋯ | 0 | 0 | 0 | 0 | 1 | 1 | CMECF  | 0 | 2019-03-04 | 2099 |\n",
       "| 201836 | 2019 | 11 | 3G | 7 | 1900012 |  1 |  1 | NA | 0 | CR | ⋯ | 0 | 0 | 0 | 0 | 1 | 1 | CMECF  | 0 | 2019-04-01 | 2099 |\n",
       "| 202370 | 2019 | 11 | 3J | 4 |  800259 |  1 |  1 | NA | 0 | CR | ⋯ | 0 | 0 | 0 | 0 | 1 | 1 | MASTER | 0 | 2012-03-21 | 2099 |\n",
       "| 202450 | 2019 | 11 | 3J | 4 | 1800116 |  1 |  1 | NA | 0 | CR | ⋯ | 1 | 1 | 1 | 0 | 0 | 0 | CMECF  | 1 | 2018-12-17 | 2019 |\n",
       "| 202452 | 2019 | 11 | 3J | 4 | 1800119 |  1 |  1 | NA | 0 | CR | ⋯ | 0 | 0 | 0 | 0 | 1 | 1 | CMECF  | 1 | 2019-06-07 | 2099 |\n",
       "| 202453 | 2019 | 11 | 3J | 4 | 1800119 |  2 |  2 | NA | 0 | CR | ⋯ | 0 | 0 | 0 | 0 | 1 | 1 | CMECF  | 1 | 2019-05-13 | 2099 |\n",
       "| 202547 | 2019 | 11 | 3J | 4 | 1800255 |  1 |  1 | NA | 0 | CR | ⋯ | 1 | 1 | 1 | 0 | 0 | 0 | CMECF  | 1 | 2019-05-13 | 2019 |\n",
       "| 202693 | 2019 | 11 | 3J | 4 | 1800211 |  1 |  1 | NA | 0 | CR | ⋯ | 0 | 0 | 0 | 0 | 1 | 1 | CMECF  | 0 | 2019-01-08 | 2099 |\n",
       "| 202850 | 2019 | 11 | 3J | 4 | 9500094 |  9 |  9 | NA | 0 | CR | ⋯ | 0 | 0 | 0 | 0 | 1 | 1 | MASTER | 0 | 2012-03-21 | 2099 |\n",
       "| 202944 | 2019 | 11 | 3J | 5 | 1900008 |  1 |  1 | NA | 0 | CR | ⋯ | 0 | 0 | 0 | 0 | 1 | 1 | CMECF  | 0 | 2019-07-09 | 2099 |\n",
       "| 202945 | 2019 | 11 | 3J | 5 | 1900008 |  2 |  2 | NA | 0 | CR | ⋯ | 0 | 0 | 0 | 0 | 1 | 1 | CMECF  | 0 | 2019-07-09 | 2099 |\n",
       "| 202958 | 2019 | 11 | 3J | 6 |  200011 |  1 | -8 | NA | 0 | CR | ⋯ | 0 | 0 | 0 | 0 | 1 | 1 | MASTER | 0 | 2012-03-21 | 2099 |\n",
       "\n"
      ],
      "text/plain": [
       "       FISCALYR CIRCUIT DISTRICT OFFICE DOCKET  DEFNO CTDEF NAME REOPSEQ\n",
       "1      2019     0       90       1            6  2    -8    NA   0      \n",
       "446    2019     0       90       1      1100254  1     1    NA   0      \n",
       "447    2019     0       90       1      1100254  3     3    NA   0      \n",
       "652    2019     0       90       1      1400241  2     2    NA   0      \n",
       "998    2019     0       90       1      1700216  1     1    NA   0      \n",
       "999    2019     0       90       1      1700216  2     2    NA   0      \n",
       "1000   2019     0       90       1      1700216  3     3    NA   0      \n",
       "1672   2019     0       90       1      1900075  1     1    NA   0      \n",
       "1673   2019     0       90       1      1900076  1     1    NA   0      \n",
       "1824   2019     0       90       1      7101814  1    -8    NA   0      \n",
       "1985   2019     0       90       1      9600335  1    -8    NA   0      \n",
       "2062   2019     0       90       1      9800284  1     1    NA   0      \n",
       "2085   2019     0       90       1      9900259  2    -8    NA   0      \n",
       "2090   2019     0       90       1      9900290  1    -8    NA   0      \n",
       "2390   2019     1       0        2      1700088  1     1    NA   0      \n",
       "2443   2019     1       0        2      1800063  2     2    NA   0      \n",
       "2444   2019     1       0        2      1800063  3     3    NA   0      \n",
       "2445   2019     1       0        2      1800063  4     4    NA   0      \n",
       "2447   2019     1       0        2      1800063  6     6    NA   0      \n",
       "2452   2019     1       0        2      1800063 11    11    NA   0      \n",
       "2456   2019     1       0        2      1800063 15    15    NA   0      \n",
       "2458   2019     1       0        2      1800063 17    17    NA   0      \n",
       "2459   2019     1       0        2      1800063 18    18    NA   0      \n",
       "2460   2019     1       0        2      1800063 19    19    NA   0      \n",
       "2627   2019     1       0        2      1900084  1     1    NA   0      \n",
       "2799   2019     1       1        1      1510019  1     1    NA   0      \n",
       "3641   2019     1       1        1      7900376  8    -8    NA   0      \n",
       "3642   2019     1       1        1      7900376 13    -8    NA   0      \n",
       "3656   2019     1       1        1      8600118  6    -8    NA   0      \n",
       "3937   2019     1       1        3      1830033  1     1    NA   0      \n",
       "⋮      ⋮        ⋮       ⋮        ⋮      ⋮       ⋮     ⋮     ⋮    ⋮      \n",
       "201664 2019     11      3G       5      1900019 10    10    NA   0      \n",
       "201665 2019     11      3G       5      1900019 11    11    NA   0      \n",
       "201666 2019     11      3G       5      1900019 12    12    NA   0      \n",
       "201667 2019     11      3G       5      1900019 13    13    NA   0      \n",
       "201668 2019     11      3G       5      1900019 14    14    NA   0      \n",
       "201669 2019     11      3G       5      1900019 15    15    NA   0      \n",
       "201670 2019     11      3G       5      1900019 16    16    NA   0      \n",
       "201671 2019     11      3G       5      1900019 17    17    NA   0      \n",
       "201673 2019     11      3G       5      1900022  1     1    NA   0      \n",
       "201677 2019     11      3G       5      1900024  1     1    NA   0      \n",
       "201684 2019     11      3G       5      1900030  1     1    NA   0      \n",
       "201685 2019     11      3G       5      1900030  2     2    NA   0      \n",
       "201688 2019     11      3G       5      1900032  1     1    NA   0      \n",
       "201689 2019     11      3G       5      1900033  1     1    NA   0      \n",
       "201708 2019     11      3G       7           27  1     1    NA   0      \n",
       "201709 2019     11      3G       7       200019  1    -8    NA   0      \n",
       "201823 2019     11      3G       7      1900001  1     1    NA   0      \n",
       "201832 2019     11      3G       7      1900009  1     1    NA   0      \n",
       "201833 2019     11      3G       7      1900009  2     2    NA   0      \n",
       "201836 2019     11      3G       7      1900012  1     1    NA   0      \n",
       "202370 2019     11      3J       4       800259  1     1    NA   0      \n",
       "202450 2019     11      3J       4      1800116  1     1    NA   0      \n",
       "202452 2019     11      3J       4      1800119  1     1    NA   0      \n",
       "202453 2019     11      3J       4      1800119  2     2    NA   0      \n",
       "202547 2019     11      3J       4      1800255  1     1    NA   0      \n",
       "202693 2019     11      3J       4      1800211  1     1    NA   0      \n",
       "202850 2019     11      3J       4      9500094  9     9    NA   0      \n",
       "202944 2019     11      3J       5      1900008  1     1    NA   0      \n",
       "202945 2019     11      3J       5      1900008  2     2    NA   0      \n",
       "202958 2019     11      3J       6       200011  1    -8    NA   0      \n",
       "       TYPEREG ⋯ CTTRTRN CTTR CTTRWOR CTTRR CTPN CTPNWOF SOURCE VER LOADDATE  \n",
       "1      CR      ⋯ 0       0    0       0     1    0       MASTER 0   2012-03-21\n",
       "446    CR      ⋯ 0       0    0       0     1    1       CMECF  1   2014-12-10\n",
       "447    CR      ⋯ 0       0    0       0     1    1       CMECF  1   2014-12-10\n",
       "652    CR      ⋯ 0       0    0       0     1    1       CMECF  0   2015-01-11\n",
       "998    CR      ⋯ 0       0    0       0     1    1       CMECF  1   2019-07-17\n",
       "999    CR      ⋯ 1       1    1       0     0    0       CMECF  1   2019-05-12\n",
       "1000   CR      ⋯ 1       1    1       0     0    0       CMECF  2   2019-06-11\n",
       "1672   CR      ⋯ 0       0    0       0     1    1       CMECF  1   2019-04-10\n",
       "1673   CR      ⋯ 0       0    0       0     1    1       CMECF  2   2019-07-17\n",
       "1824   CR      ⋯ 0       0    0       0     1    0       MASTER 0   2012-03-21\n",
       "1985   CR      ⋯ 0       0    0       0     1    1       MASTER 0   2012-03-21\n",
       "2062   CR      ⋯ 0       0    0       0     1    1       CMECF  1   2014-10-12\n",
       "2085   CR      ⋯ 0       0    0       0     1    0       MASTER 0   2012-03-21\n",
       "2090   CR      ⋯ 0       0    0       0     1    0       MASTER 0   2012-03-21\n",
       "2390   CR      ⋯ 1       1    1       0     0    0       CMECF  4   2019-03-05\n",
       "2443   CR      ⋯ 0       0    0       0     1    1       CMECF  2   2018-11-07\n",
       "2444   CR      ⋯ 0       0    0       0     1    1       CMECF  2   2018-11-07\n",
       "2445   CR      ⋯ 0       0    0       0     1    1       CMECF  0   2018-11-07\n",
       "2447   CR      ⋯ 0       0    0       0     1    1       CMECF  0   2018-11-07\n",
       "2452   CR      ⋯ 0       0    0       0     1    1       CMECF  0   2018-11-07\n",
       "2456   CR      ⋯ 0       0    0       0     1    1       CMECF  1   2019-01-03\n",
       "2458   CR      ⋯ 0       0    0       0     1    1       CMECF  0   2018-11-07\n",
       "2459   CR      ⋯ 0       0    0       0     1    1       CMECF  1   2019-01-03\n",
       "2460   CR      ⋯ 0       0    0       0     1    1       CMECF  0   2018-11-07\n",
       "2627   CR      ⋯ 0       0    0       0     1    1       CMECF  0   2019-07-09\n",
       "2799   CR      ⋯ 0       0    0       0     1    0       CMECF  0   2015-02-15\n",
       "3641   CR      ⋯ 0       0    0       0     1    0       MASTER 0   2012-03-21\n",
       "3642   CR      ⋯ 0       0    0       0     1    0       MASTER 0   2012-03-21\n",
       "3656   CR      ⋯ 0       0    0       0     1    0       MASTER 0   2012-03-21\n",
       "3937   CR      ⋯ 0       0    0       0     1    1       CMECF  0   2018-08-13\n",
       "⋮      ⋮       ⋱ ⋮       ⋮    ⋮       ⋮     ⋮    ⋮       ⋮      ⋮   ⋮         \n",
       "201664 CR      ⋯ 0       0    0       0     1    1       CMECF  0   2019-07-10\n",
       "201665 CR      ⋯ 0       0    0       0     1    1       CMECF  0   2019-07-10\n",
       "201666 CR      ⋯ 0       0    0       0     1    1       CMECF  0   2019-07-10\n",
       "201667 CR      ⋯ 0       0    0       0     1    1       CMECF  0   2019-07-10\n",
       "201668 CR      ⋯ 0       0    0       0     1    1       CMECF  0   2019-07-10\n",
       "201669 CR      ⋯ 0       0    0       0     1    1       CMECF  0   2019-07-10\n",
       "201670 CR      ⋯ 0       0    0       0     1    1       CMECF  0   2019-07-10\n",
       "201671 CR      ⋯ 0       0    0       0     1    1       CMECF  0   2019-07-10\n",
       "201673 CR      ⋯ 0       0    0       0     1    1       CMECF  1   2019-05-23\n",
       "201677 CR      ⋯ 0       0    0       0     1    1       CMECF  0   2019-05-08\n",
       "201684 CR      ⋯ 0       0    0       0     1    1       CMECF  0   2019-06-11\n",
       "201685 CR      ⋯ 0       0    0       0     1    1       CMECF  1   2019-07-10\n",
       "201688 CR      ⋯ 0       0    0       0     1    1       CMECF  0   2019-07-10\n",
       "201689 CR      ⋯ 0       0    0       0     1    1       CMECF  0   2019-07-10\n",
       "201708 CR      ⋯ 0       0    0       0     1    1       CMECF  2   2013-11-02\n",
       "201709 CR      ⋯ 0       0    0       0     1    1       MASTER 0   2012-03-21\n",
       "201823 CR      ⋯ 0       0    0       0     1    1       CMECF  1   2019-03-04\n",
       "201832 CR      ⋯ 0       0    0       0     1    1       CMECF  0   2019-03-04\n",
       "201833 CR      ⋯ 0       0    0       0     1    1       CMECF  0   2019-03-04\n",
       "201836 CR      ⋯ 0       0    0       0     1    1       CMECF  0   2019-04-01\n",
       "202370 CR      ⋯ 0       0    0       0     1    1       MASTER 0   2012-03-21\n",
       "202450 CR      ⋯ 1       1    1       0     0    0       CMECF  1   2018-12-17\n",
       "202452 CR      ⋯ 0       0    0       0     1    1       CMECF  1   2019-06-07\n",
       "202453 CR      ⋯ 0       0    0       0     1    1       CMECF  1   2019-05-13\n",
       "202547 CR      ⋯ 1       1    1       0     0    0       CMECF  1   2019-05-13\n",
       "202693 CR      ⋯ 0       0    0       0     1    1       CMECF  0   2019-01-08\n",
       "202850 CR      ⋯ 0       0    0       0     1    1       MASTER 0   2012-03-21\n",
       "202944 CR      ⋯ 0       0    0       0     1    1       CMECF  0   2019-07-09\n",
       "202945 CR      ⋯ 0       0    0       0     1    1       CMECF  0   2019-07-09\n",
       "202958 CR      ⋯ 0       0    0       0     1    1       MASTER 0   2012-03-21\n",
       "       TAPEYEAR\n",
       "1      2099    \n",
       "446    2099    \n",
       "447    2099    \n",
       "652    2099    \n",
       "998    2099    \n",
       "999    2019    \n",
       "1000   2019    \n",
       "1672   2099    \n",
       "1673   2099    \n",
       "1824   2099    \n",
       "1985   2099    \n",
       "2062   2099    \n",
       "2085   2099    \n",
       "2090   2099    \n",
       "2390   2019    \n",
       "2443   2099    \n",
       "2444   2099    \n",
       "2445   2099    \n",
       "2447   2099    \n",
       "2452   2099    \n",
       "2456   2099    \n",
       "2458   2099    \n",
       "2459   2099    \n",
       "2460   2099    \n",
       "2627   2099    \n",
       "2799   2099    \n",
       "3641   2099    \n",
       "3642   2099    \n",
       "3656   2099    \n",
       "3937   2099    \n",
       "⋮      ⋮       \n",
       "201664 2099    \n",
       "201665 2099    \n",
       "201666 2099    \n",
       "201667 2099    \n",
       "201668 2099    \n",
       "201669 2099    \n",
       "201670 2099    \n",
       "201671 2099    \n",
       "201673 2099    \n",
       "201677 2099    \n",
       "201684 2099    \n",
       "201685 2099    \n",
       "201688 2099    \n",
       "201689 2099    \n",
       "201708 2099    \n",
       "201709 2099    \n",
       "201823 2099    \n",
       "201832 2099    \n",
       "201833 2099    \n",
       "201836 2099    \n",
       "202370 2099    \n",
       "202450 2019    \n",
       "202452 2099    \n",
       "202453 2099    \n",
       "202547 2019    \n",
       "202693 2099    \n",
       "202850 2099    \n",
       "202944 2099    \n",
       "202945 2099    \n",
       "202958 2099    "
      ]
     },
     "metadata": {},
     "output_type": "display_data"
    },
    {
     "data": {
      "text/html": [
       "14"
      ],
      "text/latex": [
       "14"
      ],
      "text/markdown": [
       "14"
      ],
      "text/plain": [
       "[1] 14"
      ]
     },
     "metadata": {},
     "output_type": "display_data"
    },
    {
     "data": {
      "text/html": [
       "96"
      ],
      "text/latex": [
       "96"
      ],
      "text/markdown": [
       "96"
      ],
      "text/plain": [
       "[1] 96"
      ]
     },
     "metadata": {},
     "output_type": "display_data"
    },
    {
     "data": {
      "text/html": [
       "12"
      ],
      "text/latex": [
       "12"
      ],
      "text/markdown": [
       "12"
      ],
      "text/plain": [
       "[1] 12"
      ]
     },
     "metadata": {},
     "output_type": "display_data"
    },
    {
     "data": {
      "text/html": [
       "4"
      ],
      "text/latex": [
       "4"
      ],
      "text/markdown": [
       "4"
      ],
      "text/plain": [
       "[1] 4"
      ]
     },
     "metadata": {},
     "output_type": "display_data"
    }
   ],
   "source": [
    "##First create a dataframe of just civil rights violations\n",
    "\n",
    "Mar_Sell <- subset(cr19_df, FOFFCD1 == '6501')\n",
    "Mar_Sell\n",
    "\n",
    "##then count by district\n",
    "\n",
    "sum(Mar_Sell$DISTRICT == '90')\n",
    "sum(Mar_Sell$DISTRICT == '16')\n",
    "sum(Mar_Sell$DISTRICT == '13')\n",
    "sum(Mar_Sell$DISTRICT == '15')"
   ]
  },
  {
   "cell_type": "code",
   "execution_count": 69,
   "metadata": {},
   "outputs": [
    {
     "data": {
      "text/html": [
       "0.00666984278227727"
      ],
      "text/latex": [
       "0.00666984278227727"
      ],
      "text/markdown": [
       "0.00666984278227727"
      ],
      "text/plain": [
       "[1] 0.006669843"
      ]
     },
     "metadata": {},
     "output_type": "display_data"
    },
    {
     "data": {
      "text/html": [
       "0.0186118650639783"
      ],
      "text/latex": [
       "0.0186118650639783"
      ],
      "text/markdown": [
       "0.0186118650639783"
      ],
      "text/plain": [
       "[1] 0.01861187"
      ]
     },
     "metadata": {},
     "output_type": "display_data"
    },
    {
     "data": {
      "text/html": [
       "0.005859375"
      ],
      "text/latex": [
       "0.005859375"
      ],
      "text/markdown": [
       "0.005859375"
      ],
      "text/plain": [
       "[1] 0.005859375"
      ]
     },
     "metadata": {},
     "output_type": "display_data"
    },
    {
     "data": {
      "text/html": [
       "0.00275671950379049"
      ],
      "text/latex": [
       "0.00275671950379049"
      ],
      "text/markdown": [
       "0.00275671950379049"
      ],
      "text/plain": [
       "[1] 0.00275672"
      ]
     },
     "metadata": {},
     "output_type": "display_data"
    }
   ],
   "source": [
    "##Proportion of Selling Mar Violations by District\n",
    "\n",
    "#90: DC\n",
    "\n",
    "14/2099\n",
    "\n",
    "#16: Maryland\n",
    "96/5158\n",
    "\n",
    "#13: Eastern(philli)\n",
    "\n",
    "12/2048\n",
    "\n",
    "#15: Western\n",
    "\n",
    "4/1451"
   ]
  },
  {
   "cell_type": "code",
   "execution_count": 70,
   "metadata": {},
   "outputs": [],
   "source": [
    "##Next Steps: do hypothesis tests to see whether or not there is a statistically significant difference between Maryland and DC, find background on their policies\n",
    "##compare on Mar possession, selling, dist, importation, manufacturing, and records"
   ]
  },
  {
   "cell_type": "code",
   "execution_count": null,
   "metadata": {},
   "outputs": [],
   "source": []
  }
 ],
 "metadata": {
  "kernelspec": {
   "display_name": "R",
   "language": "R",
   "name": "ir"
  },
  "language_info": {
   "codemirror_mode": "r",
   "file_extension": ".r",
   "mimetype": "text/x-r-source",
   "name": "R",
   "pygments_lexer": "r",
   "version": "3.6.1"
  }
 },
 "nbformat": 4,
 "nbformat_minor": 4
}
