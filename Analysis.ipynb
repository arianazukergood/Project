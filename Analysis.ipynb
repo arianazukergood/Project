{
 "cells": [
  {
   "cell_type": "code",
   "execution_count": 14,
   "metadata": {},
   "outputs": [],
   "source": [
    "# Convert part 1 into dataframe seperatly since it has header information\n",
    "cr19_part_1_df <- read.table(\"raw_data_csvs/cr19_part1.csv\", sep = \",\", header = TRUE, fill=TRUE)"
   ]
  },
  {
   "cell_type": "code",
   "execution_count": 15,
   "metadata": {},
   "outputs": [],
   "source": [
    "# Store header from 1st csv for later\n",
    "cr19_header <- colnames(cr19_part_1_df)"
   ]
  },
  {
   "cell_type": "code",
   "execution_count": 16,
   "metadata": {},
   "outputs": [],
   "source": [
    "# Create vector of file paths for csv parts 2 through 6 which have no header\n",
    "csv_files_without_headers <- c(\"raw_data_csvs/cr19_part5.csv\", \n",
    "                               \"raw_data_csvs/cr19_part3.csv\", \n",
    "                               \"raw_data_csvs/cr19_part4.csv\",\n",
    "                               \"raw_data_csvs/cr19_part5.csv\", \n",
    "                               \"raw_data_csvs/cr19_part6.csv\")"
   ]
  },
  {
   "cell_type": "code",
   "execution_count": 17,
   "metadata": {},
   "outputs": [],
   "source": [
    "# Combine csvs 2 through 6\n",
    "# Source: https://stackoverflow.com/a/40349019/6328256\n",
    "cr19_part_2_to_6_df <- do.call(rbind, \n",
    "                               lapply(csv_files_without_headers, \n",
    "                                      read.csv, header = FALSE, \n",
    "                                      stringsAsFactors = FALSE)\n",
    "                              )"
   ]
  },
  {
   "cell_type": "code",
   "execution_count": 18,
   "metadata": {},
   "outputs": [],
   "source": [
    "# Added header to cr19_part_2_to_6_df\n",
    "# Source: https://stackoverflow.com/a/14022113/6328256\n",
    "colnames(cr19_part_2_to_6_df) <- cr19_header"
   ]
  },
  {
   "cell_type": "code",
   "execution_count": 19,
   "metadata": {},
   "outputs": [
    {
     "data": {
      "text/html": [
       "<table>\n",
       "<caption>A data.frame: 6 × 144</caption>\n",
       "<thead>\n",
       "\t<tr><th scope=col>FISCALYR</th><th scope=col>CIRCUIT</th><th scope=col>DISTRICT</th><th scope=col>OFFICE</th><th scope=col>DOCKET</th><th scope=col>DEFNO</th><th scope=col>CTDEF</th><th scope=col>NAME</th><th scope=col>REOPSEQ</th><th scope=col>TYPEREG</th><th scope=col>⋯</th><th scope=col>CTTRTRN</th><th scope=col>CTTR</th><th scope=col>CTTRWOR</th><th scope=col>CTTRR</th><th scope=col>CTPN</th><th scope=col>CTPNWOF</th><th scope=col>SOURCE</th><th scope=col>VER</th><th scope=col>LOADDATE</th><th scope=col>TAPEYEAR</th></tr>\n",
       "\t<tr><th scope=col>&lt;int&gt;</th><th scope=col>&lt;int&gt;</th><th scope=col>&lt;chr&gt;</th><th scope=col>&lt;chr&gt;</th><th scope=col>&lt;int&gt;</th><th scope=col>&lt;int&gt;</th><th scope=col>&lt;int&gt;</th><th scope=col>&lt;lgl&gt;</th><th scope=col>&lt;int&gt;</th><th scope=col>&lt;fct&gt;</th><th scope=col>⋯</th><th scope=col>&lt;int&gt;</th><th scope=col>&lt;int&gt;</th><th scope=col>&lt;int&gt;</th><th scope=col>&lt;int&gt;</th><th scope=col>&lt;int&gt;</th><th scope=col>&lt;int&gt;</th><th scope=col>&lt;fct&gt;</th><th scope=col>&lt;int&gt;</th><th scope=col>&lt;fct&gt;</th><th scope=col>&lt;int&gt;</th></tr>\n",
       "</thead>\n",
       "<tbody>\n",
       "\t<tr><td>2019</td><td>0</td><td>90</td><td>1</td><td> 6</td><td>2</td><td>-8</td><td>NA</td><td>0</td><td>CR</td><td>⋯</td><td>0</td><td>0</td><td>0</td><td>0</td><td>1</td><td>0</td><td>MASTER</td><td>0</td><td>2012-03-21</td><td>2099</td></tr>\n",
       "\t<tr><td>2019</td><td>0</td><td>90</td><td>1</td><td>27</td><td>2</td><td>-8</td><td>NA</td><td>0</td><td>CR</td><td>⋯</td><td>0</td><td>0</td><td>0</td><td>0</td><td>1</td><td>1</td><td>MASTER</td><td>0</td><td>2012-03-21</td><td>2099</td></tr>\n",
       "\t<tr><td>2019</td><td>0</td><td>90</td><td>1</td><td>55</td><td>2</td><td>-8</td><td>NA</td><td>0</td><td>CR</td><td>⋯</td><td>0</td><td>0</td><td>0</td><td>0</td><td>1</td><td>0</td><td>MASTER</td><td>0</td><td>2012-03-21</td><td>2099</td></tr>\n",
       "\t<tr><td>2019</td><td>0</td><td>90</td><td>1</td><td>58</td><td>1</td><td> 1</td><td>NA</td><td>0</td><td>CR</td><td>⋯</td><td>0</td><td>0</td><td>0</td><td>0</td><td>1</td><td>1</td><td>MASTER</td><td>0</td><td>2012-03-21</td><td>2099</td></tr>\n",
       "\t<tr><td>2019</td><td>0</td><td>90</td><td>1</td><td>69</td><td>1</td><td>-8</td><td>NA</td><td>0</td><td>CR</td><td>⋯</td><td>0</td><td>0</td><td>0</td><td>0</td><td>1</td><td>0</td><td>MASTER</td><td>0</td><td>2012-03-21</td><td>2099</td></tr>\n",
       "\t<tr><td>2019</td><td>0</td><td>90</td><td>1</td><td>79</td><td>1</td><td>-8</td><td>NA</td><td>0</td><td>CR</td><td>⋯</td><td>0</td><td>0</td><td>0</td><td>0</td><td>1</td><td>1</td><td>MASTER</td><td>0</td><td>2012-03-21</td><td>2099</td></tr>\n",
       "</tbody>\n",
       "</table>\n"
      ],
      "text/latex": [
       "A data.frame: 6 × 144\n",
       "\\begin{tabular}{r|llllllllllllllllllllllllllllllllllllllllllllllllllllllllllllllllllllllllllllllllllllllllllllllllllllllllllllllllllllllllllllllllllllllllllllllll}\n",
       " FISCALYR & CIRCUIT & DISTRICT & OFFICE & DOCKET & DEFNO & CTDEF & NAME & REOPSEQ & TYPEREG & TYPETRN & TYPEMAG & DEFLGKY & CASLGKY & MAGDOCK & MAGDEF & STATUSCD & FUGSTAT & FGSTRTDATE & FGENDDATE & FILEDATE & PROCDATE & PROCCD & APPDATE & APPCD & FJUDGE & FCOUNSEL & FTITLE1 & FOFFLVL1 & FOFFCD1 & D2FOFFCD1 & FSEV1 & FTITLE2 & FOFFLVL2 & FOFFCD2 & D2FOFFCD2 & FSEV2 & FTITLE3 & FOFFLVL3 & FOFFCD3 & D2FOFFCD3 & FSEV3 & FTITLE4 & FOFFLVL4 & FOFFCD4 & D2FOFFCD4 & FSEV4 & FTITLE5 & FOFFLVL5 & FOFFCD5 & D2FOFFCD5 & FSEV5 & COUNTY & TRANDIST & TRANOFF & TRANDOCK & TRANDEF & UPDATE & DISPDATE & SENTDATE & TERMDATE & INT1 & INT2 & INT3 & TERMOFF & TJUDGE & TCOUNSEL & TTITLE1 & TOFFLVL1 & TOFFCD1 & D2TOFFCD1 & TSEV1 & DISP1 & PRISTIM1 & PRISCD1 & PROBMON1 & PROBCD1 & SUPVREL1 & FINEAMT1 & TTITLE2 & TOFFLVL2 & TOFFCD2 & D2TOFFCD2 & TSEV2 & DISP2 & PRISTIM2 & PRISCD2 & PROBMON2 & PROBCD2 & SUPVREL2 & FINEAMT2 & TTITLE3 & TOFFLVL3 & TOFFCD3 & D2TOFFCD3 & TSEV3 & DISP3 & PRISTIM3 & PRISCD3 & PROBMON3 & PROBCD3 & SUPVREL3 & FINEAMT3 & TTITLE4 & TOFFLVL4 & TOFFCD4 & D2TOFFCD4 & TSEV4 & DISP4 & PRISTIM4 & PRISCD4 & PROBMON4 & PROBCD4 & SUPVREL4 & FINEAMT4 & TTITLE5 & TOFFLVL5 & TOFFCD5 & D2TOFFCD5 & TSEV5 & DISP5 & PRISTIM5 & PRISCD5 & PROBMON5 & PROBCD5 & SUPVREL5 & FINEAMT5 & PRISTOT & PROBTOT & FINETOT & CTFILTRN & CTFIL & CTFILWOR & CTFILR & CTTRTRN & CTTR & CTTRWOR & CTTRR & CTPN & CTPNWOF & SOURCE & VER & LOADDATE & TAPEYEAR\\\\\n",
       " <int> & <int> & <chr> & <chr> & <int> & <int> & <int> & <lgl> & <int> & <fct> & <fct> & <fct> & <fct> & <fct> & <fct> & <int> & <fct> & <fct> & <fct> & <fct> & <fct> & <fct> & <int> & <fct> & <fct> & <lgl> & <int> & <fct> & <int> & <int> & <int> & <fct> & <fct> & <int> & <int> & <int> & <fct> & <fct> & <int> & <int> & <int> & <fct> & <fct> & <int> & <int> & <int> & <fct> & <fct> & <int> & <int> & <int> & <fct> & <int> & <chr> & <int> & <int> & <int> & <fct> & <fct> & <fct> & <fct> & <int> & <int> & <int> & <chr> & <lgl> & <int> & <fct> & <int> & <int> & <int> & <fct> & <int> & <int> & <fct> & <int> & <fct> & <int> & <int> & <fct> & <int> & <int> & <int> & <fct> & <int> & <int> & <fct> & <int> & <fct> & <int> & <int> & <fct> & <int> & <int> & <int> & <fct> & <int> & <int> & <fct> & <int> & <fct> & <int> & <int> & <fct> & <int> & <int> & <int> & <fct> & <int> & <int> & <fct> & <int> & <fct> & <int> & <int> & <fct> & <int> & <int> & <int> & <fct> & <int> & <int> & <fct> & <int> & <fct> & <int> & <int> & <int> & <int> & <int> & <int> & <int> & <int> & <int> & <int> & <int> & <int> & <int> & <int> & <int> & <fct> & <int> & <fct> & <int>\\\\\n",
       "\\hline\n",
       "\t 2019 & 0 & 90 & 1 &  6 & 2 & -8 & NA & 0 & CR & -8 & -8 & 009010000006CR0020 & 009010000006CR0 & -8      & -8 & E & Z & 1900-01-01 & 1900-01-01 & 2000-01-06 & 2000-01-06 & 1 & 1900-01-01 & -8 & NA & 0 & 21:846=MD.F  & 4 & 6501 & 6501 & 839 & 21:841B=ND.F &  4 & 6701 & 6701 & 839 & -8        & -8 &   -8 &   -8 & -8  & -8           & -8 &   -8 &   -8 & -8  & -8           & -8 &   -8 &   -8 & -8  & 11001 & -8 & -8 & -8 & -8 & 2003-10-06 & 1900-01-01 & 1900-01-01 & 1900-01-01 & 0 & 0 & 0 & -8 & NA & -8 & -8 & -8 & -8 & -8 & -8 & -8 & 0 & -8 & 0 & -8 & 0 & 0 & -8 & -8 & -8 & -8 & -8 & -8 & 0 & -8 & 0 & -8 & 0 & 0 & -8 & -8 & -8 & -8 & -8 & -8 & 0 & -8 & 0 & -8 & 0 & 0 & -8 & -8 & -8 & -8 & -8 & -8 & 0 & -8 & 0 & -8 & 0 & 0 & -8 & -8 & -8 & -8 & -8 & -8 & 0 & -8 & 0 & -8 & 0 & 0 & 0 & 0 & 0 & 0 & 0 & 0 & 0 & 0 & 0 & 0 & 0 & 1 & 0 & MASTER & 0 & 2012-03-21 & 2099\\\\\n",
       "\t 2019 & 0 & 90 & 1 & 27 & 2 & -8 & NA & 0 & CR & -8 & MJ & 009010000027CR0020 & 009010000027CR0 & 0000008 &  2 & E & N & 1900-01-01 & 1900-01-01 & 2000-01-27 & 2000-01-27 & 1 & 2000-01-03 & D  & NA & 1 & 18:922G.F    & 4 & 7830 & 7820 & 409 & 18:922G.F    &  4 & 7830 & 7820 & 409 & -8        & -8 &   -8 &   -8 & -8  & -8           & -8 &   -8 &   -8 & -8  & -8           & -8 &   -8 &   -8 & -8  & 11001 & -8 & -8 & -8 & -8 & 2004-10-12 & 1900-01-01 & 1900-01-01 & 1900-01-01 & 0 & 0 & 0 & -8 & NA & -8 & -8 & -8 & -8 & -8 & -8 & -8 & 0 & -8 & 0 & -8 & 0 & 0 & -8 & -8 & -8 & -8 & -8 & -8 & 0 & -8 & 0 & -8 & 0 & 0 & -8 & -8 & -8 & -8 & -8 & -8 & 0 & -8 & 0 & -8 & 0 & 0 & -8 & -8 & -8 & -8 & -8 & -8 & 0 & -8 & 0 & -8 & 0 & 0 & -8 & -8 & -8 & -8 & -8 & -8 & 0 & -8 & 0 & -8 & 0 & 0 & 0 & 0 & 0 & 0 & 0 & 0 & 0 & 0 & 0 & 0 & 0 & 1 & 1 & MASTER & 0 & 2012-03-21 & 2099\\\\\n",
       "\t 2019 & 0 & 90 & 1 & 55 & 2 & -8 & NA & 0 & CR & -8 & -8 & 009010000055CR0020 & 009010000055CR0 & -8      & -8 & E & Z & 2004-06-29 & 1900-01-01 & 2000-02-17 & 2000-02-17 & 1 & 2000-03-06 & 1  & NA & 0 & 21:846=ND.F  & 4 & 6701 & 6701 & 839 & -8           & -8 &   -8 &   -8 & -8  & -8        & -8 &   -8 &   -8 & -8  & -8           & -8 &   -8 &   -8 & -8  & -8           & -8 &   -8 &   -8 & -8  & 11001 & -8 & -8 & -8 & -8 & 2005-09-14 & 1900-01-01 & 1900-01-01 & 1900-01-01 & 0 & 0 & 0 & -8 & NA & -8 & -8 & -8 & -8 & -8 & -8 & -8 & 0 & -8 & 0 & -8 & 0 & 0 & -8 & -8 & -8 & -8 & -8 & -8 & 0 & -8 & 0 & -8 & 0 & 0 & -8 & -8 & -8 & -8 & -8 & -8 & 0 & -8 & 0 & -8 & 0 & 0 & -8 & -8 & -8 & -8 & -8 & -8 & 0 & -8 & 0 & -8 & 0 & 0 & -8 & -8 & -8 & -8 & -8 & -8 & 0 & -8 & 0 & -8 & 0 & 0 & 0 & 0 & 0 & 0 & 0 & 0 & 0 & 0 & 0 & 0 & 0 & 1 & 0 & MASTER & 0 & 2012-03-21 & 2099\\\\\n",
       "\t 2019 & 0 & 90 & 1 & 58 & 1 &  1 & NA & 0 & CR & -8 & MJ & 009010000058CR0010 & 009010000058CR0 & 0000044 &  1 & E & N & 1900-01-01 & 1900-01-01 & 2000-02-22 & 2000-02-22 & 1 & 2000-01-20 & D  & NA & 6 & 18:924C.F    & 4 & 7830 & 7831 & 820 & 21:841B=ND.F &  4 & 6701 & 6701 & 839 & 18:922G.F &  4 & 7830 & 7820 & 409 & 21:841B=NP.F &  4 & 6704 & 6701 & 839 & 21:841B=NP.F &  4 & 6704 & 6701 & 839 & 11001 & -8 & -8 & -8 & -8 & 2009-01-14 & 1900-01-01 & 1900-01-01 & 1900-01-01 & 0 & 0 & 0 & -8 & NA & -8 & -8 & -8 & -8 & -8 & -8 & -8 & 0 & -8 & 0 & -8 & 0 & 0 & -8 & -8 & -8 & -8 & -8 & -8 & 0 & -8 & 0 & -8 & 0 & 0 & -8 & -8 & -8 & -8 & -8 & -8 & 0 & -8 & 0 & -8 & 0 & 0 & -8 & -8 & -8 & -8 & -8 & -8 & 0 & -8 & 0 & -8 & 0 & 0 & -8 & -8 & -8 & -8 & -8 & -8 & 0 & -8 & 0 & -8 & 0 & 0 & 0 & 0 & 0 & 0 & 0 & 0 & 0 & 0 & 0 & 0 & 0 & 1 & 1 & MASTER & 0 & 2012-03-21 & 2099\\\\\n",
       "\t 2019 & 0 & 90 & 1 & 69 & 1 & -8 & NA & 0 & CR & -8 & -8 & 009010000069CR0010 & 009010000069CR0 & -8      & -8 & E & Z & 1900-01-01 & 1900-01-01 & 2000-02-25 & 2000-02-25 & 1 & 1900-01-01 & -8 & NA & 0 & 18:201A.F    & 4 & 7100 & 7100 & 416 & 18:201A.F    &  4 & 7100 & 7100 & 416 & -8        & -8 &   -8 &   -8 & -8  & -8           & -8 &   -8 &   -8 & -8  & -8           & -8 &   -8 &   -8 & -8  & 11001 & -8 & -8 & -8 & -8 & 2003-10-06 & 1900-01-01 & 1900-01-01 & 1900-01-01 & 0 & 0 & 0 & -8 & NA & -8 & -8 & -8 & -8 & -8 & -8 & -8 & 0 & -8 & 0 & -8 & 0 & 0 & -8 & -8 & -8 & -8 & -8 & -8 & 0 & -8 & 0 & -8 & 0 & 0 & -8 & -8 & -8 & -8 & -8 & -8 & 0 & -8 & 0 & -8 & 0 & 0 & -8 & -8 & -8 & -8 & -8 & -8 & 0 & -8 & 0 & -8 & 0 & 0 & -8 & -8 & -8 & -8 & -8 & -8 & 0 & -8 & 0 & -8 & 0 & 0 & 0 & 0 & 0 & 0 & 0 & 0 & 0 & 0 & 0 & 0 & 0 & 1 & 0 & MASTER & 0 & 2012-03-21 & 2099\\\\\n",
       "\t 2019 & 0 & 90 & 1 & 79 & 1 & -8 & NA & 0 & CR & -8 & -8 & 009010000079CR0010 & 009010000079CR0 & -8      & -8 & E & N & 1900-01-01 & 1900-01-01 & 2000-03-02 & 2000-03-02 & 1 & 1900-01-01 & -8 & NA & 0 & 21:841B=ND.F & 4 & 6701 & 6701 & 839 & 18:922N.F    &  4 & 7830 & 7800 & 205 & -8        & -8 &   -8 &   -8 & -8  & -8           & -8 &   -8 &   -8 & -8  & -8           & -8 &   -8 &   -8 & -8  & 11001 & -8 & -8 & -8 & -8 & 2000-04-10 & 1900-01-01 & 1900-01-01 & 1900-01-01 & 0 & 0 & 0 & -8 & NA & -8 & -8 & -8 & -8 & -8 & -8 & -8 & 0 & -8 & 0 & -8 & 0 & 0 & -8 & -8 & -8 & -8 & -8 & -8 & 0 & -8 & 0 & -8 & 0 & 0 & -8 & -8 & -8 & -8 & -8 & -8 & 0 & -8 & 0 & -8 & 0 & 0 & -8 & -8 & -8 & -8 & -8 & -8 & 0 & -8 & 0 & -8 & 0 & 0 & -8 & -8 & -8 & -8 & -8 & -8 & 0 & -8 & 0 & -8 & 0 & 0 & 0 & 0 & 0 & 0 & 0 & 0 & 0 & 0 & 0 & 0 & 0 & 1 & 1 & MASTER & 0 & 2012-03-21 & 2099\\\\\n",
       "\\end{tabular}\n"
      ],
      "text/markdown": [
       "\n",
       "A data.frame: 6 × 144\n",
       "\n",
       "| FISCALYR &lt;int&gt; | CIRCUIT &lt;int&gt; | DISTRICT &lt;chr&gt; | OFFICE &lt;chr&gt; | DOCKET &lt;int&gt; | DEFNO &lt;int&gt; | CTDEF &lt;int&gt; | NAME &lt;lgl&gt; | REOPSEQ &lt;int&gt; | TYPEREG &lt;fct&gt; | ⋯ ⋯ | CTTRTRN &lt;int&gt; | CTTR &lt;int&gt; | CTTRWOR &lt;int&gt; | CTTRR &lt;int&gt; | CTPN &lt;int&gt; | CTPNWOF &lt;int&gt; | SOURCE &lt;fct&gt; | VER &lt;int&gt; | LOADDATE &lt;fct&gt; | TAPEYEAR &lt;int&gt; |\n",
       "|---|---|---|---|---|---|---|---|---|---|---|---|---|---|---|---|---|---|---|---|---|\n",
       "| 2019 | 0 | 90 | 1 |  6 | 2 | -8 | NA | 0 | CR | ⋯ | 0 | 0 | 0 | 0 | 1 | 0 | MASTER | 0 | 2012-03-21 | 2099 |\n",
       "| 2019 | 0 | 90 | 1 | 27 | 2 | -8 | NA | 0 | CR | ⋯ | 0 | 0 | 0 | 0 | 1 | 1 | MASTER | 0 | 2012-03-21 | 2099 |\n",
       "| 2019 | 0 | 90 | 1 | 55 | 2 | -8 | NA | 0 | CR | ⋯ | 0 | 0 | 0 | 0 | 1 | 0 | MASTER | 0 | 2012-03-21 | 2099 |\n",
       "| 2019 | 0 | 90 | 1 | 58 | 1 |  1 | NA | 0 | CR | ⋯ | 0 | 0 | 0 | 0 | 1 | 1 | MASTER | 0 | 2012-03-21 | 2099 |\n",
       "| 2019 | 0 | 90 | 1 | 69 | 1 | -8 | NA | 0 | CR | ⋯ | 0 | 0 | 0 | 0 | 1 | 0 | MASTER | 0 | 2012-03-21 | 2099 |\n",
       "| 2019 | 0 | 90 | 1 | 79 | 1 | -8 | NA | 0 | CR | ⋯ | 0 | 0 | 0 | 0 | 1 | 1 | MASTER | 0 | 2012-03-21 | 2099 |\n",
       "\n"
      ],
      "text/plain": [
       "  FISCALYR CIRCUIT DISTRICT OFFICE DOCKET DEFNO CTDEF NAME REOPSEQ TYPEREG ⋯\n",
       "1 2019     0       90       1       6     2     -8    NA   0       CR      ⋯\n",
       "2 2019     0       90       1      27     2     -8    NA   0       CR      ⋯\n",
       "3 2019     0       90       1      55     2     -8    NA   0       CR      ⋯\n",
       "4 2019     0       90       1      58     1      1    NA   0       CR      ⋯\n",
       "5 2019     0       90       1      69     1     -8    NA   0       CR      ⋯\n",
       "6 2019     0       90       1      79     1     -8    NA   0       CR      ⋯\n",
       "  CTTRTRN CTTR CTTRWOR CTTRR CTPN CTPNWOF SOURCE VER LOADDATE   TAPEYEAR\n",
       "1 0       0    0       0     1    0       MASTER 0   2012-03-21 2099    \n",
       "2 0       0    0       0     1    1       MASTER 0   2012-03-21 2099    \n",
       "3 0       0    0       0     1    0       MASTER 0   2012-03-21 2099    \n",
       "4 0       0    0       0     1    1       MASTER 0   2012-03-21 2099    \n",
       "5 0       0    0       0     1    0       MASTER 0   2012-03-21 2099    \n",
       "6 0       0    0       0     1    1       MASTER 0   2012-03-21 2099    "
      ]
     },
     "metadata": {},
     "output_type": "display_data"
    }
   ],
   "source": [
    "# Create overall merged dataframe to be used for analysis\n",
    "cr19_df <- rbind(cr19_part_1_df, cr19_part_2_to_6_df)\n",
    "head(cr19_df)"
   ]
  },
  {
   "cell_type": "code",
   "execution_count": 20,
   "metadata": {},
   "outputs": [],
   "source": [
    "# Good luck Ariana, Helena, and Dan!"
   ]
  },
  {
   "cell_type": "code",
   "execution_count": 21,
   "metadata": {},
   "outputs": [
    {
     "data": {
      "text/html": [
       "<table>\n",
       "<caption>A data.frame: 6 × 144</caption>\n",
       "<thead>\n",
       "\t<tr><th scope=col>FISCALYR</th><th scope=col>CIRCUIT</th><th scope=col>DISTRICT</th><th scope=col>OFFICE</th><th scope=col>DOCKET</th><th scope=col>DEFNO</th><th scope=col>CTDEF</th><th scope=col>NAME</th><th scope=col>REOPSEQ</th><th scope=col>TYPEREG</th><th scope=col>⋯</th><th scope=col>CTTRTRN</th><th scope=col>CTTR</th><th scope=col>CTTRWOR</th><th scope=col>CTTRR</th><th scope=col>CTPN</th><th scope=col>CTPNWOF</th><th scope=col>SOURCE</th><th scope=col>VER</th><th scope=col>LOADDATE</th><th scope=col>TAPEYEAR</th></tr>\n",
       "\t<tr><th scope=col>&lt;int&gt;</th><th scope=col>&lt;int&gt;</th><th scope=col>&lt;chr&gt;</th><th scope=col>&lt;chr&gt;</th><th scope=col>&lt;int&gt;</th><th scope=col>&lt;int&gt;</th><th scope=col>&lt;int&gt;</th><th scope=col>&lt;lgl&gt;</th><th scope=col>&lt;int&gt;</th><th scope=col>&lt;fct&gt;</th><th scope=col>⋯</th><th scope=col>&lt;int&gt;</th><th scope=col>&lt;int&gt;</th><th scope=col>&lt;int&gt;</th><th scope=col>&lt;int&gt;</th><th scope=col>&lt;int&gt;</th><th scope=col>&lt;int&gt;</th><th scope=col>&lt;fct&gt;</th><th scope=col>&lt;int&gt;</th><th scope=col>&lt;fct&gt;</th><th scope=col>&lt;int&gt;</th></tr>\n",
       "</thead>\n",
       "<tbody>\n",
       "\t<tr><td>2019</td><td>0</td><td>90</td><td>1</td><td> 6</td><td>2</td><td>-8</td><td>NA</td><td>0</td><td>CR</td><td>⋯</td><td>0</td><td>0</td><td>0</td><td>0</td><td>1</td><td>0</td><td>MASTER</td><td>0</td><td>2012-03-21</td><td>2099</td></tr>\n",
       "\t<tr><td>2019</td><td>0</td><td>90</td><td>1</td><td>27</td><td>2</td><td>-8</td><td>NA</td><td>0</td><td>CR</td><td>⋯</td><td>0</td><td>0</td><td>0</td><td>0</td><td>1</td><td>1</td><td>MASTER</td><td>0</td><td>2012-03-21</td><td>2099</td></tr>\n",
       "\t<tr><td>2019</td><td>0</td><td>90</td><td>1</td><td>55</td><td>2</td><td>-8</td><td>NA</td><td>0</td><td>CR</td><td>⋯</td><td>0</td><td>0</td><td>0</td><td>0</td><td>1</td><td>0</td><td>MASTER</td><td>0</td><td>2012-03-21</td><td>2099</td></tr>\n",
       "\t<tr><td>2019</td><td>0</td><td>90</td><td>1</td><td>58</td><td>1</td><td> 1</td><td>NA</td><td>0</td><td>CR</td><td>⋯</td><td>0</td><td>0</td><td>0</td><td>0</td><td>1</td><td>1</td><td>MASTER</td><td>0</td><td>2012-03-21</td><td>2099</td></tr>\n",
       "\t<tr><td>2019</td><td>0</td><td>90</td><td>1</td><td>69</td><td>1</td><td>-8</td><td>NA</td><td>0</td><td>CR</td><td>⋯</td><td>0</td><td>0</td><td>0</td><td>0</td><td>1</td><td>0</td><td>MASTER</td><td>0</td><td>2012-03-21</td><td>2099</td></tr>\n",
       "\t<tr><td>2019</td><td>0</td><td>90</td><td>1</td><td>79</td><td>1</td><td>-8</td><td>NA</td><td>0</td><td>CR</td><td>⋯</td><td>0</td><td>0</td><td>0</td><td>0</td><td>1</td><td>1</td><td>MASTER</td><td>0</td><td>2012-03-21</td><td>2099</td></tr>\n",
       "</tbody>\n",
       "</table>\n"
      ],
      "text/latex": [
       "A data.frame: 6 × 144\n",
       "\\begin{tabular}{r|llllllllllllllllllllllllllllllllllllllllllllllllllllllllllllllllllllllllllllllllllllllllllllllllllllllllllllllllllllllllllllllllllllllllllllllll}\n",
       " FISCALYR & CIRCUIT & DISTRICT & OFFICE & DOCKET & DEFNO & CTDEF & NAME & REOPSEQ & TYPEREG & TYPETRN & TYPEMAG & DEFLGKY & CASLGKY & MAGDOCK & MAGDEF & STATUSCD & FUGSTAT & FGSTRTDATE & FGENDDATE & FILEDATE & PROCDATE & PROCCD & APPDATE & APPCD & FJUDGE & FCOUNSEL & FTITLE1 & FOFFLVL1 & FOFFCD1 & D2FOFFCD1 & FSEV1 & FTITLE2 & FOFFLVL2 & FOFFCD2 & D2FOFFCD2 & FSEV2 & FTITLE3 & FOFFLVL3 & FOFFCD3 & D2FOFFCD3 & FSEV3 & FTITLE4 & FOFFLVL4 & FOFFCD4 & D2FOFFCD4 & FSEV4 & FTITLE5 & FOFFLVL5 & FOFFCD5 & D2FOFFCD5 & FSEV5 & COUNTY & TRANDIST & TRANOFF & TRANDOCK & TRANDEF & UPDATE & DISPDATE & SENTDATE & TERMDATE & INT1 & INT2 & INT3 & TERMOFF & TJUDGE & TCOUNSEL & TTITLE1 & TOFFLVL1 & TOFFCD1 & D2TOFFCD1 & TSEV1 & DISP1 & PRISTIM1 & PRISCD1 & PROBMON1 & PROBCD1 & SUPVREL1 & FINEAMT1 & TTITLE2 & TOFFLVL2 & TOFFCD2 & D2TOFFCD2 & TSEV2 & DISP2 & PRISTIM2 & PRISCD2 & PROBMON2 & PROBCD2 & SUPVREL2 & FINEAMT2 & TTITLE3 & TOFFLVL3 & TOFFCD3 & D2TOFFCD3 & TSEV3 & DISP3 & PRISTIM3 & PRISCD3 & PROBMON3 & PROBCD3 & SUPVREL3 & FINEAMT3 & TTITLE4 & TOFFLVL4 & TOFFCD4 & D2TOFFCD4 & TSEV4 & DISP4 & PRISTIM4 & PRISCD4 & PROBMON4 & PROBCD4 & SUPVREL4 & FINEAMT4 & TTITLE5 & TOFFLVL5 & TOFFCD5 & D2TOFFCD5 & TSEV5 & DISP5 & PRISTIM5 & PRISCD5 & PROBMON5 & PROBCD5 & SUPVREL5 & FINEAMT5 & PRISTOT & PROBTOT & FINETOT & CTFILTRN & CTFIL & CTFILWOR & CTFILR & CTTRTRN & CTTR & CTTRWOR & CTTRR & CTPN & CTPNWOF & SOURCE & VER & LOADDATE & TAPEYEAR\\\\\n",
       " <int> & <int> & <chr> & <chr> & <int> & <int> & <int> & <lgl> & <int> & <fct> & <fct> & <fct> & <fct> & <fct> & <fct> & <int> & <fct> & <fct> & <fct> & <fct> & <fct> & <fct> & <int> & <fct> & <fct> & <lgl> & <int> & <fct> & <int> & <int> & <int> & <fct> & <fct> & <int> & <int> & <int> & <fct> & <fct> & <int> & <int> & <int> & <fct> & <fct> & <int> & <int> & <int> & <fct> & <fct> & <int> & <int> & <int> & <fct> & <int> & <chr> & <int> & <int> & <int> & <fct> & <fct> & <fct> & <fct> & <int> & <int> & <int> & <chr> & <lgl> & <int> & <fct> & <int> & <int> & <int> & <fct> & <int> & <int> & <fct> & <int> & <fct> & <int> & <int> & <fct> & <int> & <int> & <int> & <fct> & <int> & <int> & <fct> & <int> & <fct> & <int> & <int> & <fct> & <int> & <int> & <int> & <fct> & <int> & <int> & <fct> & <int> & <fct> & <int> & <int> & <fct> & <int> & <int> & <int> & <fct> & <int> & <int> & <fct> & <int> & <fct> & <int> & <int> & <fct> & <int> & <int> & <int> & <fct> & <int> & <int> & <fct> & <int> & <fct> & <int> & <int> & <int> & <int> & <int> & <int> & <int> & <int> & <int> & <int> & <int> & <int> & <int> & <int> & <int> & <fct> & <int> & <fct> & <int>\\\\\n",
       "\\hline\n",
       "\t 2019 & 0 & 90 & 1 &  6 & 2 & -8 & NA & 0 & CR & -8 & -8 & 009010000006CR0020 & 009010000006CR0 & -8      & -8 & E & Z & 1900-01-01 & 1900-01-01 & 2000-01-06 & 2000-01-06 & 1 & 1900-01-01 & -8 & NA & 0 & 21:846=MD.F  & 4 & 6501 & 6501 & 839 & 21:841B=ND.F &  4 & 6701 & 6701 & 839 & -8        & -8 &   -8 &   -8 & -8  & -8           & -8 &   -8 &   -8 & -8  & -8           & -8 &   -8 &   -8 & -8  & 11001 & -8 & -8 & -8 & -8 & 2003-10-06 & 1900-01-01 & 1900-01-01 & 1900-01-01 & 0 & 0 & 0 & -8 & NA & -8 & -8 & -8 & -8 & -8 & -8 & -8 & 0 & -8 & 0 & -8 & 0 & 0 & -8 & -8 & -8 & -8 & -8 & -8 & 0 & -8 & 0 & -8 & 0 & 0 & -8 & -8 & -8 & -8 & -8 & -8 & 0 & -8 & 0 & -8 & 0 & 0 & -8 & -8 & -8 & -8 & -8 & -8 & 0 & -8 & 0 & -8 & 0 & 0 & -8 & -8 & -8 & -8 & -8 & -8 & 0 & -8 & 0 & -8 & 0 & 0 & 0 & 0 & 0 & 0 & 0 & 0 & 0 & 0 & 0 & 0 & 0 & 1 & 0 & MASTER & 0 & 2012-03-21 & 2099\\\\\n",
       "\t 2019 & 0 & 90 & 1 & 27 & 2 & -8 & NA & 0 & CR & -8 & MJ & 009010000027CR0020 & 009010000027CR0 & 0000008 &  2 & E & N & 1900-01-01 & 1900-01-01 & 2000-01-27 & 2000-01-27 & 1 & 2000-01-03 & D  & NA & 1 & 18:922G.F    & 4 & 7830 & 7820 & 409 & 18:922G.F    &  4 & 7830 & 7820 & 409 & -8        & -8 &   -8 &   -8 & -8  & -8           & -8 &   -8 &   -8 & -8  & -8           & -8 &   -8 &   -8 & -8  & 11001 & -8 & -8 & -8 & -8 & 2004-10-12 & 1900-01-01 & 1900-01-01 & 1900-01-01 & 0 & 0 & 0 & -8 & NA & -8 & -8 & -8 & -8 & -8 & -8 & -8 & 0 & -8 & 0 & -8 & 0 & 0 & -8 & -8 & -8 & -8 & -8 & -8 & 0 & -8 & 0 & -8 & 0 & 0 & -8 & -8 & -8 & -8 & -8 & -8 & 0 & -8 & 0 & -8 & 0 & 0 & -8 & -8 & -8 & -8 & -8 & -8 & 0 & -8 & 0 & -8 & 0 & 0 & -8 & -8 & -8 & -8 & -8 & -8 & 0 & -8 & 0 & -8 & 0 & 0 & 0 & 0 & 0 & 0 & 0 & 0 & 0 & 0 & 0 & 0 & 0 & 1 & 1 & MASTER & 0 & 2012-03-21 & 2099\\\\\n",
       "\t 2019 & 0 & 90 & 1 & 55 & 2 & -8 & NA & 0 & CR & -8 & -8 & 009010000055CR0020 & 009010000055CR0 & -8      & -8 & E & Z & 2004-06-29 & 1900-01-01 & 2000-02-17 & 2000-02-17 & 1 & 2000-03-06 & 1  & NA & 0 & 21:846=ND.F  & 4 & 6701 & 6701 & 839 & -8           & -8 &   -8 &   -8 & -8  & -8        & -8 &   -8 &   -8 & -8  & -8           & -8 &   -8 &   -8 & -8  & -8           & -8 &   -8 &   -8 & -8  & 11001 & -8 & -8 & -8 & -8 & 2005-09-14 & 1900-01-01 & 1900-01-01 & 1900-01-01 & 0 & 0 & 0 & -8 & NA & -8 & -8 & -8 & -8 & -8 & -8 & -8 & 0 & -8 & 0 & -8 & 0 & 0 & -8 & -8 & -8 & -8 & -8 & -8 & 0 & -8 & 0 & -8 & 0 & 0 & -8 & -8 & -8 & -8 & -8 & -8 & 0 & -8 & 0 & -8 & 0 & 0 & -8 & -8 & -8 & -8 & -8 & -8 & 0 & -8 & 0 & -8 & 0 & 0 & -8 & -8 & -8 & -8 & -8 & -8 & 0 & -8 & 0 & -8 & 0 & 0 & 0 & 0 & 0 & 0 & 0 & 0 & 0 & 0 & 0 & 0 & 0 & 1 & 0 & MASTER & 0 & 2012-03-21 & 2099\\\\\n",
       "\t 2019 & 0 & 90 & 1 & 58 & 1 &  1 & NA & 0 & CR & -8 & MJ & 009010000058CR0010 & 009010000058CR0 & 0000044 &  1 & E & N & 1900-01-01 & 1900-01-01 & 2000-02-22 & 2000-02-22 & 1 & 2000-01-20 & D  & NA & 6 & 18:924C.F    & 4 & 7830 & 7831 & 820 & 21:841B=ND.F &  4 & 6701 & 6701 & 839 & 18:922G.F &  4 & 7830 & 7820 & 409 & 21:841B=NP.F &  4 & 6704 & 6701 & 839 & 21:841B=NP.F &  4 & 6704 & 6701 & 839 & 11001 & -8 & -8 & -8 & -8 & 2009-01-14 & 1900-01-01 & 1900-01-01 & 1900-01-01 & 0 & 0 & 0 & -8 & NA & -8 & -8 & -8 & -8 & -8 & -8 & -8 & 0 & -8 & 0 & -8 & 0 & 0 & -8 & -8 & -8 & -8 & -8 & -8 & 0 & -8 & 0 & -8 & 0 & 0 & -8 & -8 & -8 & -8 & -8 & -8 & 0 & -8 & 0 & -8 & 0 & 0 & -8 & -8 & -8 & -8 & -8 & -8 & 0 & -8 & 0 & -8 & 0 & 0 & -8 & -8 & -8 & -8 & -8 & -8 & 0 & -8 & 0 & -8 & 0 & 0 & 0 & 0 & 0 & 0 & 0 & 0 & 0 & 0 & 0 & 0 & 0 & 1 & 1 & MASTER & 0 & 2012-03-21 & 2099\\\\\n",
       "\t 2019 & 0 & 90 & 1 & 69 & 1 & -8 & NA & 0 & CR & -8 & -8 & 009010000069CR0010 & 009010000069CR0 & -8      & -8 & E & Z & 1900-01-01 & 1900-01-01 & 2000-02-25 & 2000-02-25 & 1 & 1900-01-01 & -8 & NA & 0 & 18:201A.F    & 4 & 7100 & 7100 & 416 & 18:201A.F    &  4 & 7100 & 7100 & 416 & -8        & -8 &   -8 &   -8 & -8  & -8           & -8 &   -8 &   -8 & -8  & -8           & -8 &   -8 &   -8 & -8  & 11001 & -8 & -8 & -8 & -8 & 2003-10-06 & 1900-01-01 & 1900-01-01 & 1900-01-01 & 0 & 0 & 0 & -8 & NA & -8 & -8 & -8 & -8 & -8 & -8 & -8 & 0 & -8 & 0 & -8 & 0 & 0 & -8 & -8 & -8 & -8 & -8 & -8 & 0 & -8 & 0 & -8 & 0 & 0 & -8 & -8 & -8 & -8 & -8 & -8 & 0 & -8 & 0 & -8 & 0 & 0 & -8 & -8 & -8 & -8 & -8 & -8 & 0 & -8 & 0 & -8 & 0 & 0 & -8 & -8 & -8 & -8 & -8 & -8 & 0 & -8 & 0 & -8 & 0 & 0 & 0 & 0 & 0 & 0 & 0 & 0 & 0 & 0 & 0 & 0 & 0 & 1 & 0 & MASTER & 0 & 2012-03-21 & 2099\\\\\n",
       "\t 2019 & 0 & 90 & 1 & 79 & 1 & -8 & NA & 0 & CR & -8 & -8 & 009010000079CR0010 & 009010000079CR0 & -8      & -8 & E & N & 1900-01-01 & 1900-01-01 & 2000-03-02 & 2000-03-02 & 1 & 1900-01-01 & -8 & NA & 0 & 21:841B=ND.F & 4 & 6701 & 6701 & 839 & 18:922N.F    &  4 & 7830 & 7800 & 205 & -8        & -8 &   -8 &   -8 & -8  & -8           & -8 &   -8 &   -8 & -8  & -8           & -8 &   -8 &   -8 & -8  & 11001 & -8 & -8 & -8 & -8 & 2000-04-10 & 1900-01-01 & 1900-01-01 & 1900-01-01 & 0 & 0 & 0 & -8 & NA & -8 & -8 & -8 & -8 & -8 & -8 & -8 & 0 & -8 & 0 & -8 & 0 & 0 & -8 & -8 & -8 & -8 & -8 & -8 & 0 & -8 & 0 & -8 & 0 & 0 & -8 & -8 & -8 & -8 & -8 & -8 & 0 & -8 & 0 & -8 & 0 & 0 & -8 & -8 & -8 & -8 & -8 & -8 & 0 & -8 & 0 & -8 & 0 & 0 & -8 & -8 & -8 & -8 & -8 & -8 & 0 & -8 & 0 & -8 & 0 & 0 & 0 & 0 & 0 & 0 & 0 & 0 & 0 & 0 & 0 & 0 & 0 & 1 & 1 & MASTER & 0 & 2012-03-21 & 2099\\\\\n",
       "\\end{tabular}\n"
      ],
      "text/markdown": [
       "\n",
       "A data.frame: 6 × 144\n",
       "\n",
       "| FISCALYR &lt;int&gt; | CIRCUIT &lt;int&gt; | DISTRICT &lt;chr&gt; | OFFICE &lt;chr&gt; | DOCKET &lt;int&gt; | DEFNO &lt;int&gt; | CTDEF &lt;int&gt; | NAME &lt;lgl&gt; | REOPSEQ &lt;int&gt; | TYPEREG &lt;fct&gt; | ⋯ ⋯ | CTTRTRN &lt;int&gt; | CTTR &lt;int&gt; | CTTRWOR &lt;int&gt; | CTTRR &lt;int&gt; | CTPN &lt;int&gt; | CTPNWOF &lt;int&gt; | SOURCE &lt;fct&gt; | VER &lt;int&gt; | LOADDATE &lt;fct&gt; | TAPEYEAR &lt;int&gt; |\n",
       "|---|---|---|---|---|---|---|---|---|---|---|---|---|---|---|---|---|---|---|---|---|\n",
       "| 2019 | 0 | 90 | 1 |  6 | 2 | -8 | NA | 0 | CR | ⋯ | 0 | 0 | 0 | 0 | 1 | 0 | MASTER | 0 | 2012-03-21 | 2099 |\n",
       "| 2019 | 0 | 90 | 1 | 27 | 2 | -8 | NA | 0 | CR | ⋯ | 0 | 0 | 0 | 0 | 1 | 1 | MASTER | 0 | 2012-03-21 | 2099 |\n",
       "| 2019 | 0 | 90 | 1 | 55 | 2 | -8 | NA | 0 | CR | ⋯ | 0 | 0 | 0 | 0 | 1 | 0 | MASTER | 0 | 2012-03-21 | 2099 |\n",
       "| 2019 | 0 | 90 | 1 | 58 | 1 |  1 | NA | 0 | CR | ⋯ | 0 | 0 | 0 | 0 | 1 | 1 | MASTER | 0 | 2012-03-21 | 2099 |\n",
       "| 2019 | 0 | 90 | 1 | 69 | 1 | -8 | NA | 0 | CR | ⋯ | 0 | 0 | 0 | 0 | 1 | 0 | MASTER | 0 | 2012-03-21 | 2099 |\n",
       "| 2019 | 0 | 90 | 1 | 79 | 1 | -8 | NA | 0 | CR | ⋯ | 0 | 0 | 0 | 0 | 1 | 1 | MASTER | 0 | 2012-03-21 | 2099 |\n",
       "\n"
      ],
      "text/plain": [
       "  FISCALYR CIRCUIT DISTRICT OFFICE DOCKET DEFNO CTDEF NAME REOPSEQ TYPEREG ⋯\n",
       "1 2019     0       90       1       6     2     -8    NA   0       CR      ⋯\n",
       "2 2019     0       90       1      27     2     -8    NA   0       CR      ⋯\n",
       "3 2019     0       90       1      55     2     -8    NA   0       CR      ⋯\n",
       "4 2019     0       90       1      58     1      1    NA   0       CR      ⋯\n",
       "5 2019     0       90       1      69     1     -8    NA   0       CR      ⋯\n",
       "6 2019     0       90       1      79     1     -8    NA   0       CR      ⋯\n",
       "  CTTRTRN CTTR CTTRWOR CTTRR CTPN CTPNWOF SOURCE VER LOADDATE   TAPEYEAR\n",
       "1 0       0    0       0     1    0       MASTER 0   2012-03-21 2099    \n",
       "2 0       0    0       0     1    1       MASTER 0   2012-03-21 2099    \n",
       "3 0       0    0       0     1    0       MASTER 0   2012-03-21 2099    \n",
       "4 0       0    0       0     1    1       MASTER 0   2012-03-21 2099    \n",
       "5 0       0    0       0     1    0       MASTER 0   2012-03-21 2099    \n",
       "6 0       0    0       0     1    1       MASTER 0   2012-03-21 2099    "
      ]
     },
     "metadata": {},
     "output_type": "display_data"
    }
   ],
   "source": [
    "head(cr19_df)"
   ]
  },
  {
   "cell_type": "code",
   "execution_count": 22,
   "metadata": {},
   "outputs": [
    {
     "data": {
      "text/html": [
       "<table>\n",
       "<caption>A data.frame: 6 × 1</caption>\n",
       "<thead>\n",
       "\t<tr><th scope=col>FOFFCD1</th></tr>\n",
       "\t<tr><th scope=col>&lt;int&gt;</th></tr>\n",
       "</thead>\n",
       "<tbody>\n",
       "\t<tr><td>6501</td></tr>\n",
       "\t<tr><td>7830</td></tr>\n",
       "\t<tr><td>6701</td></tr>\n",
       "\t<tr><td>7830</td></tr>\n",
       "\t<tr><td>7100</td></tr>\n",
       "\t<tr><td>6701</td></tr>\n",
       "</tbody>\n",
       "</table>\n"
      ],
      "text/latex": [
       "A data.frame: 6 × 1\n",
       "\\begin{tabular}{r|l}\n",
       " FOFFCD1\\\\\n",
       " <int>\\\\\n",
       "\\hline\n",
       "\t 6501\\\\\n",
       "\t 7830\\\\\n",
       "\t 6701\\\\\n",
       "\t 7830\\\\\n",
       "\t 7100\\\\\n",
       "\t 6701\\\\\n",
       "\\end{tabular}\n"
      ],
      "text/markdown": [
       "\n",
       "A data.frame: 6 × 1\n",
       "\n",
       "| FOFFCD1 &lt;int&gt; |\n",
       "|---|\n",
       "| 6501 |\n",
       "| 7830 |\n",
       "| 6701 |\n",
       "| 7830 |\n",
       "| 7100 |\n",
       "| 6701 |\n",
       "\n"
      ],
      "text/plain": [
       "  FOFFCD1\n",
       "1 6501   \n",
       "2 7830   \n",
       "3 6701   \n",
       "4 7830   \n",
       "5 7100   \n",
       "6 6701   "
      ]
     },
     "metadata": {},
     "output_type": "display_data"
    }
   ],
   "source": [
    "##Nature of Offense is coded in Column labeled \"FOFFCD1,\" the numbers are 6500 - 6505\n",
    "\n",
    "##below get a glimpse of the column\n",
    "df2 <- cr19_df[, \"FOFFCD1\", drop=FALSE]\n",
    "head(df2)"
   ]
  },
  {
   "cell_type": "code",
   "execution_count": 23,
   "metadata": {},
   "outputs": [
    {
     "data": {
      "text/html": [
       "2202"
      ],
      "text/latex": [
       "2202"
      ],
      "text/markdown": [
       "2202"
      ],
      "text/plain": [
       "[1] 2202"
      ]
     },
     "metadata": {},
     "output_type": "display_data"
    },
    {
     "data": {
      "text/html": [
       "2738"
      ],
      "text/latex": [
       "2738"
      ],
      "text/markdown": [
       "2738"
      ],
      "text/plain": [
       "[1] 2738"
      ]
     },
     "metadata": {},
     "output_type": "display_data"
    }
   ],
   "source": [
    "##Count total violations by District (90, 16)\n",
    "\n",
    "#90: DC\n",
    "#16: Maryland\n",
    "\n",
    "sum(cr19_df$DISTRICT == '90')\n",
    "sum(cr19_df$DISTRICT == '16')\n",
    "\n",
    "##there are more total violations in Maryland than DC, probably due to size"
   ]
  },
  {
   "cell_type": "code",
   "execution_count": 24,
   "metadata": {},
   "outputs": [
    {
     "data": {
      "text/html": [
       "2256"
      ],
      "text/latex": [
       "2256"
      ],
      "text/markdown": [
       "2256"
      ],
      "text/plain": [
       "[1] 2256"
      ]
     },
     "metadata": {},
     "output_type": "display_data"
    },
    {
     "data": {
      "text/html": [
       "<table>\n",
       "<caption>A data.frame: 6 × 144</caption>\n",
       "<thead>\n",
       "\t<tr><th></th><th scope=col>FISCALYR</th><th scope=col>CIRCUIT</th><th scope=col>DISTRICT</th><th scope=col>OFFICE</th><th scope=col>DOCKET</th><th scope=col>DEFNO</th><th scope=col>CTDEF</th><th scope=col>NAME</th><th scope=col>REOPSEQ</th><th scope=col>TYPEREG</th><th scope=col>⋯</th><th scope=col>CTTRTRN</th><th scope=col>CTTR</th><th scope=col>CTTRWOR</th><th scope=col>CTTRR</th><th scope=col>CTPN</th><th scope=col>CTPNWOF</th><th scope=col>SOURCE</th><th scope=col>VER</th><th scope=col>LOADDATE</th><th scope=col>TAPEYEAR</th></tr>\n",
       "\t<tr><th></th><th scope=col>&lt;int&gt;</th><th scope=col>&lt;int&gt;</th><th scope=col>&lt;chr&gt;</th><th scope=col>&lt;chr&gt;</th><th scope=col>&lt;int&gt;</th><th scope=col>&lt;int&gt;</th><th scope=col>&lt;int&gt;</th><th scope=col>&lt;lgl&gt;</th><th scope=col>&lt;int&gt;</th><th scope=col>&lt;fct&gt;</th><th scope=col>⋯</th><th scope=col>&lt;int&gt;</th><th scope=col>&lt;int&gt;</th><th scope=col>&lt;int&gt;</th><th scope=col>&lt;int&gt;</th><th scope=col>&lt;int&gt;</th><th scope=col>&lt;int&gt;</th><th scope=col>&lt;fct&gt;</th><th scope=col>&lt;int&gt;</th><th scope=col>&lt;fct&gt;</th><th scope=col>&lt;int&gt;</th></tr>\n",
       "</thead>\n",
       "<tbody>\n",
       "\t<tr><th scope=row>1832</th><td>2019</td><td>0</td><td>90</td><td>1</td><td>9100227</td><td>1</td><td>-8</td><td>NA</td><td>0</td><td>CR</td><td>⋯</td><td>0</td><td>0</td><td>0</td><td>0</td><td>1</td><td>0</td><td>MASTER</td><td>0</td><td>2012-03-21</td><td>2099</td></tr>\n",
       "\t<tr><th scope=row>2129</th><td>2019</td><td>0</td><td>90</td><td>1</td><td>9700293</td><td>2</td><td>-8</td><td>NA</td><td>0</td><td>CR</td><td>⋯</td><td>0</td><td>0</td><td>0</td><td>0</td><td>1</td><td>0</td><td>MASTER</td><td>0</td><td>2012-03-21</td><td>2099</td></tr>\n",
       "\t<tr><th scope=row>10676</th><td>2019</td><td>2</td><td>6 </td><td>1</td><td>1000583</td><td>1</td><td> 1</td><td>NA</td><td>0</td><td>CR</td><td>⋯</td><td>1</td><td>1</td><td>1</td><td>0</td><td>0</td><td>0</td><td>CMECF </td><td>1</td><td>2019-08-07</td><td>2019</td></tr>\n",
       "\t<tr><th scope=row>10752</th><td>2019</td><td>2</td><td>6 </td><td>1</td><td>    503</td><td>1</td><td>-8</td><td>NA</td><td>0</td><td>CR</td><td>⋯</td><td>0</td><td>0</td><td>0</td><td>0</td><td>1</td><td>1</td><td>MASTER</td><td>0</td><td>2012-03-21</td><td>2099</td></tr>\n",
       "\t<tr><th scope=row>11689</th><td>2019</td><td>2</td><td>6 </td><td>7</td><td>1800093</td><td>1</td><td> 1</td><td>NA</td><td>0</td><td>CR</td><td>⋯</td><td>1</td><td>1</td><td>1</td><td>0</td><td>0</td><td>0</td><td>CMECF </td><td>2</td><td>2018-12-06</td><td>2019</td></tr>\n",
       "\t<tr><th scope=row>11690</th><td>2019</td><td>2</td><td>6 </td><td>7</td><td>1800129</td><td>1</td><td> 1</td><td>NA</td><td>0</td><td>CR</td><td>⋯</td><td>1</td><td>1</td><td>1</td><td>0</td><td>0</td><td>0</td><td>CMECF </td><td>1</td><td>2018-12-06</td><td>2019</td></tr>\n",
       "</tbody>\n",
       "</table>\n"
      ],
      "text/latex": [
       "A data.frame: 6 × 144\n",
       "\\begin{tabular}{r|llllllllllllllllllllllllllllllllllllllllllllllllllllllllllllllllllllllllllllllllllllllllllllllllllllllllllllllllllllllllllllllllllllllllllllllll}\n",
       "  & FISCALYR & CIRCUIT & DISTRICT & OFFICE & DOCKET & DEFNO & CTDEF & NAME & REOPSEQ & TYPEREG & TYPETRN & TYPEMAG & DEFLGKY & CASLGKY & MAGDOCK & MAGDEF & STATUSCD & FUGSTAT & FGSTRTDATE & FGENDDATE & FILEDATE & PROCDATE & PROCCD & APPDATE & APPCD & FJUDGE & FCOUNSEL & FTITLE1 & FOFFLVL1 & FOFFCD1 & D2FOFFCD1 & FSEV1 & FTITLE2 & FOFFLVL2 & FOFFCD2 & D2FOFFCD2 & FSEV2 & FTITLE3 & FOFFLVL3 & FOFFCD3 & D2FOFFCD3 & FSEV3 & FTITLE4 & FOFFLVL4 & FOFFCD4 & D2FOFFCD4 & FSEV4 & FTITLE5 & FOFFLVL5 & FOFFCD5 & D2FOFFCD5 & FSEV5 & COUNTY & TRANDIST & TRANOFF & TRANDOCK & TRANDEF & UPDATE & DISPDATE & SENTDATE & TERMDATE & INT1 & INT2 & INT3 & TERMOFF & TJUDGE & TCOUNSEL & TTITLE1 & TOFFLVL1 & TOFFCD1 & D2TOFFCD1 & TSEV1 & DISP1 & PRISTIM1 & PRISCD1 & PROBMON1 & PROBCD1 & SUPVREL1 & FINEAMT1 & TTITLE2 & TOFFLVL2 & TOFFCD2 & D2TOFFCD2 & TSEV2 & DISP2 & PRISTIM2 & PRISCD2 & PROBMON2 & PROBCD2 & SUPVREL2 & FINEAMT2 & TTITLE3 & TOFFLVL3 & TOFFCD3 & D2TOFFCD3 & TSEV3 & DISP3 & PRISTIM3 & PRISCD3 & PROBMON3 & PROBCD3 & SUPVREL3 & FINEAMT3 & TTITLE4 & TOFFLVL4 & TOFFCD4 & D2TOFFCD4 & TSEV4 & DISP4 & PRISTIM4 & PRISCD4 & PROBMON4 & PROBCD4 & SUPVREL4 & FINEAMT4 & TTITLE5 & TOFFLVL5 & TOFFCD5 & D2TOFFCD5 & TSEV5 & DISP5 & PRISTIM5 & PRISCD5 & PROBMON5 & PROBCD5 & SUPVREL5 & FINEAMT5 & PRISTOT & PROBTOT & FINETOT & CTFILTRN & CTFIL & CTFILWOR & CTFILR & CTTRTRN & CTTR & CTTRWOR & CTTRR & CTPN & CTPNWOF & SOURCE & VER & LOADDATE & TAPEYEAR\\\\\n",
       "  & <int> & <int> & <chr> & <chr> & <int> & <int> & <int> & <lgl> & <int> & <fct> & <fct> & <fct> & <fct> & <fct> & <fct> & <int> & <fct> & <fct> & <fct> & <fct> & <fct> & <fct> & <int> & <fct> & <fct> & <lgl> & <int> & <fct> & <int> & <int> & <int> & <fct> & <fct> & <int> & <int> & <int> & <fct> & <fct> & <int> & <int> & <int> & <fct> & <fct> & <int> & <int> & <int> & <fct> & <fct> & <int> & <int> & <int> & <fct> & <int> & <chr> & <int> & <int> & <int> & <fct> & <fct> & <fct> & <fct> & <int> & <int> & <int> & <chr> & <lgl> & <int> & <fct> & <int> & <int> & <int> & <fct> & <int> & <int> & <fct> & <int> & <fct> & <int> & <int> & <fct> & <int> & <int> & <int> & <fct> & <int> & <int> & <fct> & <int> & <fct> & <int> & <int> & <fct> & <int> & <int> & <int> & <fct> & <int> & <int> & <fct> & <int> & <fct> & <int> & <int> & <fct> & <int> & <int> & <int> & <fct> & <int> & <int> & <fct> & <int> & <fct> & <int> & <int> & <fct> & <int> & <int> & <int> & <fct> & <int> & <int> & <fct> & <int> & <fct> & <int> & <int> & <int> & <int> & <int> & <int> & <int> & <int> & <int> & <int> & <int> & <int> & <int> & <int> & <int> & <fct> & <int> & <fct> & <int>\\\\\n",
       "\\hline\n",
       "\t1832 & 2019 & 0 & 90 & 1 & 9100227 & 1 & -8 & NA & 0 & CR & -8 & MJ & 009019100227CR0010 & 009019100227CR0 & 9100310 &  2 & E & Z & 1900-01-01 & 1900-01-01 & 1991-04-12 & 1991-04-12 &  2 & 1991-04-12 & 1  & NA & 0 & 21.844A-AMPA & 3 & 6504 & 6504 & C30 & -8 & -8 & -8 & -8 & -8 & -8 & -8 & -8 & -8 & -8 & -8 & -8 & -8 & -8 & -8 & -8 & -8 & -8 & -8 & -8 & 66666 & -8 & -8 & -8 & -8 & 1993-10-05 & 1900-01-01 & 1900-01-01 & 1900-01-01 & 0 &   0 &   0 & -8 & NA & -8 & -8           & -8 &   -8 &   -8 & -8  & -8 & 0 & -8 & 0 & -8 & 0 &   0 & -8 & -8 & -8 & -8 & -8 & -8 &  0 & -8 &  0 & -8 &  0 &  0 & -8 & -8 & -8 & -8 & -8 & -8 &  0 & -8 &  0 & -8 &  0 &  0 & -8 & -8 & -8 & -8 & -8 & -8 &  0 & -8 &  0 & -8 &  0 &  0 & -8 & -8 & -8 & -8 & -8 & -8 &  0 & -8 &  0 & -8 &  0 &  0 &  0 &  0 &   0 & 0 & 0 & 0 & 0 & 0 & 0 & 0 & 0 & 1 & 0 & MASTER & 0 & 2012-03-21 & 2099\\\\\n",
       "\t2129 & 2019 & 0 & 90 & 1 & 9700293 & 2 & -8 & NA & 0 & CR & -8 & -8 & 009019700293CR0020 & 009019700293CR0 & -8      & -8 & E & Z & 1900-01-01 & 1900-01-01 & 1997-07-17 & 1997-07-17 &  1 & 1900-01-01 & -8 & NA & 0 & 21:844A=MP.F & 4 & 6504 & 6504 & 137 & -8 & -8 & -8 & -8 & -8 & -8 & -8 & -8 & -8 & -8 & -8 & -8 & -8 & -8 & -8 & -8 & -8 & -8 & -8 & -8 & 11001 & -8 & -8 & -8 & -8 & 2006-11-11 & 1900-01-01 & 1900-01-01 & 1900-01-01 & 0 &   0 &   0 & -8 & NA & -8 & -8           & -8 &   -8 &   -8 & -8  & -8 & 0 & -8 & 0 & -8 & 0 &   0 & -8 & -8 & -8 & -8 & -8 & -8 &  0 & -8 &  0 & -8 &  0 &  0 & -8 & -8 & -8 & -8 & -8 & -8 &  0 & -8 &  0 & -8 &  0 &  0 & -8 & -8 & -8 & -8 & -8 & -8 &  0 & -8 &  0 & -8 &  0 &  0 & -8 & -8 & -8 & -8 & -8 & -8 &  0 & -8 &  0 & -8 &  0 &  0 &  0 &  0 &   0 & 0 & 0 & 0 & 0 & 0 & 0 & 0 & 0 & 1 & 0 & MASTER & 0 & 2012-03-21 & 2099\\\\\n",
       "\t10676 & 2019 & 2 & 6  & 1 & 1000583 & 1 &  1 & NA & 0 & CR & -8 & -8 & 020611000583CR0010 & 020611000583CR0 & -8      & -8 & J & N & 2010-12-08 & 2011-01-05 & 2010-12-08 & 2010-12-08 & 26 & 2011-01-05 & 1  & NA & 0 & 21:846=MP.F  & 4 & 6504 & 6501 & 035 & -8 & -8 & -8 & -8 & -8 & -8 & -8 & -8 & -8 & -8 & -8 & -8 & -8 & -8 & -8 & -8 & -8 & -8 & -8 & -8 & 36091 & -8 & -8 & -8 & -8 & 1900-01-01 & 2019-07-15 & 1900-01-01 & 2019-07-15 & 0 & 700 &   0 & 1  & NA &  0 & 21:846=MP.F  &  4 & 6504 & 6501 & 035 &  1 & 0 & -8 & 0 & -8 & 0 &   0 & -8 & -8 & -8 & -8 & -8 & -8 & -8 & -8 & -8 & -8 & -8 & -8 & -8 & -8 & -8 & -8 & -8 & -8 & -8 & -8 & -8 & -8 & -8 & -8 & -8 & -8 & -8 & -8 & -8 & -8 & -8 & -8 & -8 & -8 & -8 & -8 & -8 & -8 & -8 & -8 & -8 & -8 & -8 & -8 & -8 & -8 & -8 & -8 & -8 & -8 &   0 & 0 & 0 & 0 & 0 & 1 & 1 & 1 & 0 & 0 & 0 & CMECF  & 1 & 2019-08-07 & 2019\\\\\n",
       "\t10752 & 2019 & 2 & 6  & 1 &     503 & 1 & -8 & NA & 0 & CR & -8 & MJ & 020610000503CR0010 & 020610000503CR0 & 9700515 &  1 & E & N & 1900-01-01 & 1900-01-01 & 2000-10-16 & 2000-10-16 &  2 & 1997-11-13 & A  & NA & 0 & 21:844A=MP.M & 3 & 6504 & 6504 & C34 & -8 & -8 & -8 & -8 & -8 & -8 & -8 & -8 & -8 & -8 & -8 & -8 & -8 & -8 & -8 & -8 & -8 & -8 & -8 & -8 & 36083 & -8 & -8 & -8 & -8 & 2000-11-16 & 1900-01-01 & 1900-01-01 & 1900-01-01 & 0 &   0 &   0 & -8 & NA & -8 & -8           & -8 &   -8 &   -8 & -8  & -8 & 0 & -8 & 0 & -8 & 0 &   0 & -8 & -8 & -8 & -8 & -8 & -8 &  0 & -8 &  0 & -8 &  0 &  0 & -8 & -8 & -8 & -8 & -8 & -8 &  0 & -8 &  0 & -8 &  0 &  0 & -8 & -8 & -8 & -8 & -8 & -8 &  0 & -8 &  0 & -8 &  0 &  0 & -8 & -8 & -8 & -8 & -8 & -8 &  0 & -8 &  0 & -8 &  0 &  0 &  0 &  0 &   0 & 0 & 0 & 0 & 0 & 0 & 0 & 0 & 0 & 1 & 1 & MASTER & 0 & 2012-03-21 & 2099\\\\\n",
       "\t11689 & 2019 & 2 & 6  & 7 & 1800093 & 1 &  1 & NA & 0 & CR & -8 & -8 & 020671800093CR0010 & 020671800093CR0 & -8      & -8 & J & N & 1900-01-01 & 1900-01-01 & 2018-03-26 & 2018-03-26 &  2 & 2018-04-10 & 1  & NA & 3 & 21:844A=MP.M & 3 & 6504 & 6504 & C34 & -8 & -8 & -8 & -8 & -8 & -8 & -8 & -8 & -8 & -8 & -8 & -8 & -8 & -8 & -8 & -8 & -8 & -8 & -8 & -8 & 36045 & -8 & -8 & -8 & -8 & 1900-01-01 & 2018-11-13 & 2018-11-13 & 2018-11-13 & 0 & 700 & 100 & 7  & NA &  1 & 18:13-7950.P &  1 & 7950 & 7950 & B12 &  4 & 0 & -8 & 0 & -8 & 0 & 200 & -8 & -8 & -8 & -8 & -8 & -8 & -8 & -8 & -8 & -8 & -8 & -8 & -8 & -8 & -8 & -8 & -8 & -8 & -8 & -8 & -8 & -8 & -8 & -8 & -8 & -8 & -8 & -8 & -8 & -8 & -8 & -8 & -8 & -8 & -8 & -8 & -8 & -8 & -8 & -8 & -8 & -8 & -8 & -8 & -8 & -8 & -8 & -8 &  0 &  0 & 200 & 0 & 0 & 0 & 0 & 1 & 1 & 1 & 0 & 0 & 0 & CMECF  & 2 & 2018-12-06 & 2019\\\\\n",
       "\t11690 & 2019 & 2 & 6  & 7 & 1800129 & 1 &  1 & NA & 0 & CR & -8 & -8 & 020671800129CR0010 & 020671800129CR0 & -8      & -8 & J & N & 1900-01-01 & 1900-01-01 & 2018-04-23 & 2018-04-23 &  2 & 2018-11-13 & 1  & NA & 3 & 21:844A=MP.M & 3 & 6504 & 6504 & C34 & -8 & -8 & -8 & -8 & -8 & -8 & -8 & -8 & -8 & -8 & -8 & -8 & -8 & -8 & -8 & -8 & -8 & -8 & -8 & -8 & 36045 & -8 & -8 & -8 & -8 & 1900-01-01 & 2018-11-13 & 2018-11-13 & 2018-11-13 & 0 &   0 & 100 & 7  & NA &  6 & 18:13-7950.P &  1 & 7950 & 7950 & B12 &  4 & 0 & -8 & 0 & -8 & 0 & 250 & -8 & -8 & -8 & -8 & -8 & -8 & -8 & -8 & -8 & -8 & -8 & -8 & -8 & -8 & -8 & -8 & -8 & -8 & -8 & -8 & -8 & -8 & -8 & -8 & -8 & -8 & -8 & -8 & -8 & -8 & -8 & -8 & -8 & -8 & -8 & -8 & -8 & -8 & -8 & -8 & -8 & -8 & -8 & -8 & -8 & -8 & -8 & -8 &  0 &  0 & 250 & 0 & 0 & 0 & 0 & 1 & 1 & 1 & 0 & 0 & 0 & CMECF  & 1 & 2018-12-06 & 2019\\\\\n",
       "\\end{tabular}\n"
      ],
      "text/markdown": [
       "\n",
       "A data.frame: 6 × 144\n",
       "\n",
       "| <!--/--> | FISCALYR &lt;int&gt; | CIRCUIT &lt;int&gt; | DISTRICT &lt;chr&gt; | OFFICE &lt;chr&gt; | DOCKET &lt;int&gt; | DEFNO &lt;int&gt; | CTDEF &lt;int&gt; | NAME &lt;lgl&gt; | REOPSEQ &lt;int&gt; | TYPEREG &lt;fct&gt; | ⋯ ⋯ | CTTRTRN &lt;int&gt; | CTTR &lt;int&gt; | CTTRWOR &lt;int&gt; | CTTRR &lt;int&gt; | CTPN &lt;int&gt; | CTPNWOF &lt;int&gt; | SOURCE &lt;fct&gt; | VER &lt;int&gt; | LOADDATE &lt;fct&gt; | TAPEYEAR &lt;int&gt; |\n",
       "|---|---|---|---|---|---|---|---|---|---|---|---|---|---|---|---|---|---|---|---|---|---|\n",
       "| 1832 | 2019 | 0 | 90 | 1 | 9100227 | 1 | -8 | NA | 0 | CR | ⋯ | 0 | 0 | 0 | 0 | 1 | 0 | MASTER | 0 | 2012-03-21 | 2099 |\n",
       "| 2129 | 2019 | 0 | 90 | 1 | 9700293 | 2 | -8 | NA | 0 | CR | ⋯ | 0 | 0 | 0 | 0 | 1 | 0 | MASTER | 0 | 2012-03-21 | 2099 |\n",
       "| 10676 | 2019 | 2 | 6  | 1 | 1000583 | 1 |  1 | NA | 0 | CR | ⋯ | 1 | 1 | 1 | 0 | 0 | 0 | CMECF  | 1 | 2019-08-07 | 2019 |\n",
       "| 10752 | 2019 | 2 | 6  | 1 |     503 | 1 | -8 | NA | 0 | CR | ⋯ | 0 | 0 | 0 | 0 | 1 | 1 | MASTER | 0 | 2012-03-21 | 2099 |\n",
       "| 11689 | 2019 | 2 | 6  | 7 | 1800093 | 1 |  1 | NA | 0 | CR | ⋯ | 1 | 1 | 1 | 0 | 0 | 0 | CMECF  | 2 | 2018-12-06 | 2019 |\n",
       "| 11690 | 2019 | 2 | 6  | 7 | 1800129 | 1 |  1 | NA | 0 | CR | ⋯ | 1 | 1 | 1 | 0 | 0 | 0 | CMECF  | 1 | 2018-12-06 | 2019 |\n",
       "\n"
      ],
      "text/plain": [
       "      FISCALYR CIRCUIT DISTRICT OFFICE DOCKET  DEFNO CTDEF NAME REOPSEQ TYPEREG\n",
       "1832  2019     0       90       1      9100227 1     -8    NA   0       CR     \n",
       "2129  2019     0       90       1      9700293 2     -8    NA   0       CR     \n",
       "10676 2019     2       6        1      1000583 1      1    NA   0       CR     \n",
       "10752 2019     2       6        1          503 1     -8    NA   0       CR     \n",
       "11689 2019     2       6        7      1800093 1      1    NA   0       CR     \n",
       "11690 2019     2       6        7      1800129 1      1    NA   0       CR     \n",
       "      ⋯ CTTRTRN CTTR CTTRWOR CTTRR CTPN CTPNWOF SOURCE VER LOADDATE   TAPEYEAR\n",
       "1832  ⋯ 0       0    0       0     1    0       MASTER 0   2012-03-21 2099    \n",
       "2129  ⋯ 0       0    0       0     1    0       MASTER 0   2012-03-21 2099    \n",
       "10676 ⋯ 1       1    1       0     0    0       CMECF  1   2019-08-07 2019    \n",
       "10752 ⋯ 0       0    0       0     1    1       MASTER 0   2012-03-21 2099    \n",
       "11689 ⋯ 1       1    1       0     0    0       CMECF  2   2018-12-06 2019    \n",
       "11690 ⋯ 1       1    1       0     0    0       CMECF  1   2018-12-06 2019    "
      ]
     },
     "metadata": {},
     "output_type": "display_data"
    },
    {
     "data": {
      "text/html": [
       "2"
      ],
      "text/latex": [
       "2"
      ],
      "text/markdown": [
       "2"
      ],
      "text/plain": [
       "[1] 2"
      ]
     },
     "metadata": {},
     "output_type": "display_data"
    },
    {
     "data": {
      "text/html": [
       "10"
      ],
      "text/latex": [
       "10"
      ],
      "text/markdown": [
       "10"
      ],
      "text/plain": [
       "[1] 10"
      ]
     },
     "metadata": {},
     "output_type": "display_data"
    }
   ],
   "source": [
    "##Below we will conduct analysis on Marijuana Possession\n",
    "\n",
    "##Count total marijuana possession cases in all districts\n",
    "sum(cr19_df$FOFFCD1 == '6504')\n",
    "\n",
    "##First create a dataframe of just marijuana possession cases\n",
    "\n",
    "Marijuana_Pos <- subset(cr19_df, FOFFCD1 == '6504')\n",
    "head(Marijuana_Pos)\n",
    "\n",
    "##then count by district\n",
    "\n",
    "sum(Marijuana_Pos$DISTRICT == '90')\n",
    "sum(Marijuana_Pos$DISTRICT == '16')\n"
   ]
  },
  {
   "cell_type": "code",
   "execution_count": 25,
   "metadata": {},
   "outputs": [
    {
     "data": {
      "text/html": [
       "0.000454132606721163"
      ],
      "text/latex": [
       "0.000454132606721163"
      ],
      "text/markdown": [
       "0.000454132606721163"
      ],
      "text/plain": [
       "[1] 0.0004541326"
      ]
     },
     "metadata": {},
     "output_type": "display_data"
    },
    {
     "data": {
      "text/html": [
       "0.00365230094959825"
      ],
      "text/latex": [
       "0.00365230094959825"
      ],
      "text/markdown": [
       "0.00365230094959825"
      ],
      "text/plain": [
       "[1] 0.003652301"
      ]
     },
     "metadata": {},
     "output_type": "display_data"
    }
   ],
   "source": [
    "#Calculate Proportion of Marijuana Possession cases by district\n",
    "\n",
    "#90: DC\n",
    "\n",
    "1/2202\n",
    "\n",
    "#16: Maryland\n",
    "10/2738"
   ]
  },
  {
   "cell_type": "code",
   "execution_count": 26,
   "metadata": {},
   "outputs": [
    {
     "name": "stderr",
     "output_type": "stream",
     "text": [
      "Warning message in prop.test(x = c(1, 10), n = c(2202, 2738), p = NULL, alternative = \"two.sided\", :\n",
      "“Chi-squared approximation may be incorrect”"
     ]
    },
    {
     "data": {
      "text/plain": [
       "\n",
       "\t2-sample test for equality of proportions with continuity correction\n",
       "\n",
       "data:  c(1, 10) out of c(2202, 2738)\n",
       "X-squared = 4.2713, df = 1, p-value = 0.03876\n",
       "alternative hypothesis: two.sided\n",
       "95 percent confidence interval:\n",
       " -0.0060363084 -0.0003600283\n",
       "sample estimates:\n",
       "      prop 1       prop 2 \n",
       "0.0004541326 0.0036523009 \n"
      ]
     },
     "metadata": {},
     "output_type": "display_data"
    }
   ],
   "source": [
    "##Now we will run a hypothesis test to see if statistical significance of proportions- Marijuana Possession\n",
    "\n",
    "prop.test(x = c(1, 10), n = c(2202, 2738), p = NULL, alternative = \"two.sided\",\n",
    "          correct = TRUE)"
   ]
  },
  {
   "cell_type": "code",
   "execution_count": 27,
   "metadata": {},
   "outputs": [],
   "source": [
    "##Data Visualization of 2 - sample proportions test\n",
    "\n",
    "#TALK TO PAUL"
   ]
  },
  {
   "cell_type": "code",
   "execution_count": 28,
   "metadata": {},
   "outputs": [
    {
     "data": {
      "text/html": [
       "5106"
      ],
      "text/latex": [
       "5106"
      ],
      "text/markdown": [
       "5106"
      ],
      "text/plain": [
       "[1] 5106"
      ]
     },
     "metadata": {},
     "output_type": "display_data"
    }
   ],
   "source": [
    "##Now we will do analysis on Marijuana Selling, Distrbuting, Dispensing (MSDD)\n",
    "#Count total MSDD Cases all Districts\n",
    "\n",
    "sum(cr19_df$FOFFCD1 == '6501')"
   ]
  },
  {
   "cell_type": "code",
   "execution_count": 29,
   "metadata": {},
   "outputs": [
    {
     "data": {
      "text/html": [
       "<table>\n",
       "<caption>A data.frame: 6 × 144</caption>\n",
       "<thead>\n",
       "\t<tr><th></th><th scope=col>FISCALYR</th><th scope=col>CIRCUIT</th><th scope=col>DISTRICT</th><th scope=col>OFFICE</th><th scope=col>DOCKET</th><th scope=col>DEFNO</th><th scope=col>CTDEF</th><th scope=col>NAME</th><th scope=col>REOPSEQ</th><th scope=col>TYPEREG</th><th scope=col>⋯</th><th scope=col>CTTRTRN</th><th scope=col>CTTR</th><th scope=col>CTTRWOR</th><th scope=col>CTTRR</th><th scope=col>CTPN</th><th scope=col>CTPNWOF</th><th scope=col>SOURCE</th><th scope=col>VER</th><th scope=col>LOADDATE</th><th scope=col>TAPEYEAR</th></tr>\n",
       "\t<tr><th></th><th scope=col>&lt;int&gt;</th><th scope=col>&lt;int&gt;</th><th scope=col>&lt;chr&gt;</th><th scope=col>&lt;chr&gt;</th><th scope=col>&lt;int&gt;</th><th scope=col>&lt;int&gt;</th><th scope=col>&lt;int&gt;</th><th scope=col>&lt;lgl&gt;</th><th scope=col>&lt;int&gt;</th><th scope=col>&lt;fct&gt;</th><th scope=col>⋯</th><th scope=col>&lt;int&gt;</th><th scope=col>&lt;int&gt;</th><th scope=col>&lt;int&gt;</th><th scope=col>&lt;int&gt;</th><th scope=col>&lt;int&gt;</th><th scope=col>&lt;int&gt;</th><th scope=col>&lt;fct&gt;</th><th scope=col>&lt;int&gt;</th><th scope=col>&lt;fct&gt;</th><th scope=col>&lt;int&gt;</th></tr>\n",
       "</thead>\n",
       "<tbody>\n",
       "\t<tr><th scope=row>1</th><td>2019</td><td>0</td><td>90</td><td>1</td><td>      6</td><td>2</td><td>-8</td><td>NA</td><td>0</td><td>CR</td><td>⋯</td><td>0</td><td>0</td><td>0</td><td>0</td><td>1</td><td>0</td><td>MASTER</td><td>0</td><td>2012-03-21</td><td>2099</td></tr>\n",
       "\t<tr><th scope=row>447</th><td>2019</td><td>0</td><td>90</td><td>1</td><td>1100254</td><td>1</td><td> 1</td><td>NA</td><td>0</td><td>CR</td><td>⋯</td><td>0</td><td>0</td><td>0</td><td>0</td><td>1</td><td>1</td><td>CMECF </td><td>1</td><td>2014-12-10</td><td>2099</td></tr>\n",
       "\t<tr><th scope=row>448</th><td>2019</td><td>0</td><td>90</td><td>1</td><td>1100254</td><td>3</td><td> 3</td><td>NA</td><td>0</td><td>CR</td><td>⋯</td><td>0</td><td>0</td><td>0</td><td>0</td><td>1</td><td>1</td><td>CMECF </td><td>1</td><td>2014-12-10</td><td>2099</td></tr>\n",
       "\t<tr><th scope=row>655</th><td>2019</td><td>0</td><td>90</td><td>1</td><td>1400241</td><td>2</td><td> 2</td><td>NA</td><td>0</td><td>CR</td><td>⋯</td><td>0</td><td>0</td><td>0</td><td>0</td><td>1</td><td>1</td><td>CMECF </td><td>0</td><td>2015-01-11</td><td>2099</td></tr>\n",
       "\t<tr><th scope=row>1001</th><td>2019</td><td>0</td><td>90</td><td>1</td><td>1700216</td><td>1</td><td> 1</td><td>NA</td><td>0</td><td>CR</td><td>⋯</td><td>0</td><td>0</td><td>0</td><td>0</td><td>1</td><td>1</td><td>CMECF </td><td>1</td><td>2019-07-17</td><td>2099</td></tr>\n",
       "\t<tr><th scope=row>1002</th><td>2019</td><td>0</td><td>90</td><td>1</td><td>1700216</td><td>2</td><td> 2</td><td>NA</td><td>0</td><td>CR</td><td>⋯</td><td>1</td><td>1</td><td>1</td><td>0</td><td>0</td><td>0</td><td>CMECF </td><td>1</td><td>2019-05-12</td><td>2019</td></tr>\n",
       "</tbody>\n",
       "</table>\n"
      ],
      "text/latex": [
       "A data.frame: 6 × 144\n",
       "\\begin{tabular}{r|llllllllllllllllllllllllllllllllllllllllllllllllllllllllllllllllllllllllllllllllllllllllllllllllllllllllllllllllllllllllllllllllllllllllllllllll}\n",
       "  & FISCALYR & CIRCUIT & DISTRICT & OFFICE & DOCKET & DEFNO & CTDEF & NAME & REOPSEQ & TYPEREG & TYPETRN & TYPEMAG & DEFLGKY & CASLGKY & MAGDOCK & MAGDEF & STATUSCD & FUGSTAT & FGSTRTDATE & FGENDDATE & FILEDATE & PROCDATE & PROCCD & APPDATE & APPCD & FJUDGE & FCOUNSEL & FTITLE1 & FOFFLVL1 & FOFFCD1 & D2FOFFCD1 & FSEV1 & FTITLE2 & FOFFLVL2 & FOFFCD2 & D2FOFFCD2 & FSEV2 & FTITLE3 & FOFFLVL3 & FOFFCD3 & D2FOFFCD3 & FSEV3 & FTITLE4 & FOFFLVL4 & FOFFCD4 & D2FOFFCD4 & FSEV4 & FTITLE5 & FOFFLVL5 & FOFFCD5 & D2FOFFCD5 & FSEV5 & COUNTY & TRANDIST & TRANOFF & TRANDOCK & TRANDEF & UPDATE & DISPDATE & SENTDATE & TERMDATE & INT1 & INT2 & INT3 & TERMOFF & TJUDGE & TCOUNSEL & TTITLE1 & TOFFLVL1 & TOFFCD1 & D2TOFFCD1 & TSEV1 & DISP1 & PRISTIM1 & PRISCD1 & PROBMON1 & PROBCD1 & SUPVREL1 & FINEAMT1 & TTITLE2 & TOFFLVL2 & TOFFCD2 & D2TOFFCD2 & TSEV2 & DISP2 & PRISTIM2 & PRISCD2 & PROBMON2 & PROBCD2 & SUPVREL2 & FINEAMT2 & TTITLE3 & TOFFLVL3 & TOFFCD3 & D2TOFFCD3 & TSEV3 & DISP3 & PRISTIM3 & PRISCD3 & PROBMON3 & PROBCD3 & SUPVREL3 & FINEAMT3 & TTITLE4 & TOFFLVL4 & TOFFCD4 & D2TOFFCD4 & TSEV4 & DISP4 & PRISTIM4 & PRISCD4 & PROBMON4 & PROBCD4 & SUPVREL4 & FINEAMT4 & TTITLE5 & TOFFLVL5 & TOFFCD5 & D2TOFFCD5 & TSEV5 & DISP5 & PRISTIM5 & PRISCD5 & PROBMON5 & PROBCD5 & SUPVREL5 & FINEAMT5 & PRISTOT & PROBTOT & FINETOT & CTFILTRN & CTFIL & CTFILWOR & CTFILR & CTTRTRN & CTTR & CTTRWOR & CTTRR & CTPN & CTPNWOF & SOURCE & VER & LOADDATE & TAPEYEAR\\\\\n",
       "  & <int> & <int> & <chr> & <chr> & <int> & <int> & <int> & <lgl> & <int> & <fct> & <fct> & <fct> & <fct> & <fct> & <fct> & <int> & <fct> & <fct> & <fct> & <fct> & <fct> & <fct> & <int> & <fct> & <fct> & <lgl> & <int> & <fct> & <int> & <int> & <int> & <fct> & <fct> & <int> & <int> & <int> & <fct> & <fct> & <int> & <int> & <int> & <fct> & <fct> & <int> & <int> & <int> & <fct> & <fct> & <int> & <int> & <int> & <fct> & <int> & <chr> & <int> & <int> & <int> & <fct> & <fct> & <fct> & <fct> & <int> & <int> & <int> & <chr> & <lgl> & <int> & <fct> & <int> & <int> & <int> & <fct> & <int> & <int> & <fct> & <int> & <fct> & <int> & <int> & <fct> & <int> & <int> & <int> & <fct> & <int> & <int> & <fct> & <int> & <fct> & <int> & <int> & <fct> & <int> & <int> & <int> & <fct> & <int> & <int> & <fct> & <int> & <fct> & <int> & <int> & <fct> & <int> & <int> & <int> & <fct> & <int> & <int> & <fct> & <int> & <fct> & <int> & <int> & <fct> & <int> & <int> & <int> & <fct> & <int> & <int> & <fct> & <int> & <fct> & <int> & <int> & <int> & <int> & <int> & <int> & <int> & <int> & <int> & <int> & <int> & <int> & <int> & <int> & <int> & <fct> & <int> & <fct> & <int>\\\\\n",
       "\\hline\n",
       "\t1 & 2019 & 0 & 90 & 1 &       6 & 2 & -8 & NA & 0 & CR & -8 & -8 & 009010000006CR0020 & 009010000006CR0 & -8 & -8 & E & Z & 1900-01-01 & 1900-01-01 & 2000-01-06 & 2000-01-06 &  1 & 1900-01-01 & -8 & NA & 0 & 21:846=MD.F   & 4 & 6501 & 6501 & 839 & 21:841B=ND.F & 4 & 6701 & 6701 & 839 & -8           & -8 &   -8 &   -8 & -8  & -8           & -8 &   -8 &   -8 & -8  & -8           & -8 &   -8 &   -8 & -8  & 11001 & -8 & -8 & -8 & -8 & 2003-10-06 & 1900-01-01 & 1900-01-01 & 1900-01-01 &  0 &   0 &   0 & -8 & NA & -8 & -8           & -8 &   -8 &   -8 & -8  & -8 &  0 & -8 &  0 & -8   &  0 &  0 & -8           & -8 &   -8 &   -8 & -8  & -8 &  0 & -8 &  0 & -8 &  0 &  0 & -8           & -8 &   -8 &   -8 & -8  & -8 &  0 & -8 &  0 & -8 &  0 &  0 & -8           & -8 &   -8 &   -8 & -8  & -8 &  0 & -8 &  0 & -8 &  0 &  0 & -8 & -8 & -8 & -8 & -8 & -8 &  0 & -8 &  0 & -8 &  0 &  0 &  0 &  0 & 0 & 0 & 0 & 0 & 0 & 0 & 0 & 0 & 0 & 1 & 0 & MASTER & 0 & 2012-03-21 & 2099\\\\\n",
       "\t447 & 2019 & 0 & 90 & 1 & 1100254 & 1 &  1 & NA & 0 & CR & -8 & -8 & 009011100254CR0010 & 009011100254CR0 & -8 & -8 & E & N & 2011-08-11 & 2011-08-22 & 2011-08-11 & 2011-08-11 & 26 & 2011-09-01 & 1  & NA & 0 & 21:846=MD.F   & 4 & 6501 & 6501 & 839 & 21:846=MD.F  & 4 & 6501 & 6501 & 839 & 21:843B=MD.F &  4 & 6501 & 6501 & 237 & 21:843B=MD.F &  4 & 6501 & 6501 & 237 & 21:843B=MD.F &  4 & 6501 & 6501 & 237 & 11001 & -8 & -8 & -8 & -8 & 1900-01-01 & 1900-01-01 & 1900-01-01 & 1900-01-01 & -8 &  -8 &  -8 & -8 & NA & -8 & -8           & -8 &   -8 &   -8 & -8  & -8 & -8 & -8 & -8 & -8   & -8 & -8 & -8           & -8 &   -8 &   -8 & -8  & -8 & -8 & -8 & -8 & -8 & -8 & -8 & -8           & -8 &   -8 &   -8 & -8  & -8 & -8 & -8 & -8 & -8 & -8 & -8 & -8           & -8 &   -8 &   -8 & -8  & -8 & -8 & -8 & -8 & -8 & -8 & -8 & -8 & -8 & -8 & -8 & -8 & -8 & -8 & -8 & -8 & -8 & -8 & -8 & -8 & -8 & 0 & 0 & 0 & 0 & 0 & 0 & 0 & 0 & 0 & 1 & 1 & CMECF  & 1 & 2014-12-10 & 2099\\\\\n",
       "\t448 & 2019 & 0 & 90 & 1 & 1100254 & 3 &  3 & NA & 0 & CR & -8 & -8 & 009011100254CR0030 & 009011100254CR0 & -8 & -8 & E & N & 2011-08-11 & 2011-09-08 & 2011-08-11 & 2011-08-11 & 26 & 1900-01-01 & -8 & NA & 0 & 21:846=MD.F   & 4 & 6501 & 6501 & 839 & 21:846=MD.F  & 4 & 6501 & 6501 & 839 & 21:843B=MD.F &  4 & 6501 & 6501 & 237 & 21:843B=MD.F &  4 & 6501 & 6501 & 237 & 21:843B=MD.F &  4 & 6501 & 6501 & 237 & 11001 & -8 & -8 & -8 & -8 & 1900-01-01 & 1900-01-01 & 1900-01-01 & 1900-01-01 & -8 &  -8 &  -8 & -8 & NA & -8 & -8           & -8 &   -8 &   -8 & -8  & -8 & -8 & -8 & -8 & -8   & -8 & -8 & -8           & -8 &   -8 &   -8 & -8  & -8 & -8 & -8 & -8 & -8 & -8 & -8 & -8           & -8 &   -8 &   -8 & -8  & -8 & -8 & -8 & -8 & -8 & -8 & -8 & -8           & -8 &   -8 &   -8 & -8  & -8 & -8 & -8 & -8 & -8 & -8 & -8 & -8 & -8 & -8 & -8 & -8 & -8 & -8 & -8 & -8 & -8 & -8 & -8 & -8 & -8 & 0 & 0 & 0 & 0 & 0 & 0 & 0 & 0 & 0 & 1 & 1 & CMECF  & 1 & 2014-12-10 & 2099\\\\\n",
       "\t655 & 2019 & 0 & 90 & 1 & 1400241 & 2 &  2 & NA & 0 & CR & -8 & -8 & 009011400241CR0020 & 009011400241CR0 & -8 & -8 & E & N & 2014-12-16 & 2014-12-24 & 2014-12-16 & 2014-12-16 &  1 & 2014-12-24 & 1  & NA & 0 & 21:841A1=MP.F & 4 & 6501 & 6501 & 839 & 18:924C.F    & 4 & 7830 & 7831 & 820 & 21:841A=CD.F &  4 & 6801 & 6801 & 839 & 21:841A=ND.F &  4 & 6701 & 6701 & 839 & 18:922G.F    &  4 & 7830 & 7820 & 409 & 11001 & -8 & -8 & -8 & -8 & 1900-01-01 & 1900-01-01 & 1900-01-01 & 1900-01-01 & -8 &  -8 &  -8 & -8 & NA & -8 & -8           & -8 &   -8 &   -8 & -8  & -8 & -8 & -8 & -8 & -8   & -8 & -8 & -8           & -8 &   -8 &   -8 & -8  & -8 & -8 & -8 & -8 & -8 & -8 & -8 & -8           & -8 &   -8 &   -8 & -8  & -8 & -8 & -8 & -8 & -8 & -8 & -8 & -8           & -8 &   -8 &   -8 & -8  & -8 & -8 & -8 & -8 & -8 & -8 & -8 & -8 & -8 & -8 & -8 & -8 & -8 & -8 & -8 & -8 & -8 & -8 & -8 & -8 & -8 & 0 & 0 & 0 & 0 & 0 & 0 & 0 & 0 & 0 & 1 & 1 & CMECF  & 0 & 2015-01-11 & 2099\\\\\n",
       "\t1001 & 2019 & 0 & 90 & 1 & 1700216 & 1 &  1 & NA & 0 & CR & -8 & -8 & 009011700216CR0010 & 009011700216CR0 & -8 & -8 & E & N & 2017-11-09 & 2017-11-15 & 2017-11-09 & 2017-11-09 &  1 & 2017-11-15 & 1  & NA & 0 & 21:846=MD.F   & 4 & 6501 & 6501 & 839 & 21:846=MD.F  & 4 & 6501 & 6501 & 839 & 21:841A=MD.F &  4 & 6501 & 6501 & 239 & 21:841A=ND.F &  4 & 6701 & 6701 & 839 & 21:843B=MD.F &  4 & 6501 & 6501 & 237 & 11001 & -8 & -8 & -8 & -8 & 1900-01-01 & 1900-01-01 & 1900-01-01 & 1900-01-01 & -8 &  -8 &  -8 & -8 & NA & -8 & -8           & -8 &   -8 &   -8 & -8  & -8 & -8 & -8 & -8 & -8   & -8 & -8 & -8           & -8 &   -8 &   -8 & -8  & -8 & -8 & -8 & -8 & -8 & -8 & -8 & -8           & -8 &   -8 &   -8 & -8  & -8 & -8 & -8 & -8 & -8 & -8 & -8 & -8           & -8 &   -8 &   -8 & -8  & -8 & -8 & -8 & -8 & -8 & -8 & -8 & -8 & -8 & -8 & -8 & -8 & -8 & -8 & -8 & -8 & -8 & -8 & -8 & -8 & -8 & 0 & 0 & 0 & 0 & 0 & 0 & 0 & 0 & 0 & 1 & 1 & CMECF  & 1 & 2019-07-17 & 2099\\\\\n",
       "\t1002 & 2019 & 0 & 90 & 1 & 1700216 & 2 &  2 & NA & 0 & CR & -8 & -8 & 009011700216CR0020 & 009011700216CR0 & -8 & -8 & J & N & 2017-11-09 & 2017-11-15 & 2017-11-09 & 2017-11-09 &  1 & 2017-11-15 & 1  & NA & 0 & 21:846=MD.F   & 4 & 6501 & 6501 & 839 & 21:841A=MD.F & 4 & 6501 & 6501 & 239 & 21:841A=MD.F &  4 & 6501 & 6501 & 239 & 21:841A=ND.F &  4 & 6701 & 6701 & 839 & -8           & -8 &   -8 &   -8 & -8  & 11001 & -8 & -8 & -8 & -8 & 1900-01-01 & 2019-01-10 & 2019-04-26 & 2019-04-26 &  0 & 500 & 106 & 1  & NA &  1 & 21:841A=MD.F &  4 & 6501 & 6501 & 239 &  4 &  0 & -8 & 24 & M001 &  0 &  0 & 21:841A=MD.F &  4 & 6501 & 6501 & 239 &  1 &  0 & -8 &  0 & -8 &  0 &  0 & 21:841A=MD.F &  4 & 6501 & 6501 & 239 &  1 &  0 & -8 &  0 & -8 &  0 &  0 & 21:841A=ND.F &  4 & 6701 & 6701 & 839 &  1 &  0 & -8 &  0 & -8 &  0 &  0 & -8 & -8 & -8 & -8 & -8 & -8 & -8 & -8 & -8 & -8 & -8 & -8 & -8 & 24 & 0 & 0 & 0 & 0 & 0 & 1 & 1 & 1 & 0 & 0 & 0 & CMECF  & 1 & 2019-05-12 & 2019\\\\\n",
       "\\end{tabular}\n"
      ],
      "text/markdown": [
       "\n",
       "A data.frame: 6 × 144\n",
       "\n",
       "| <!--/--> | FISCALYR &lt;int&gt; | CIRCUIT &lt;int&gt; | DISTRICT &lt;chr&gt; | OFFICE &lt;chr&gt; | DOCKET &lt;int&gt; | DEFNO &lt;int&gt; | CTDEF &lt;int&gt; | NAME &lt;lgl&gt; | REOPSEQ &lt;int&gt; | TYPEREG &lt;fct&gt; | ⋯ ⋯ | CTTRTRN &lt;int&gt; | CTTR &lt;int&gt; | CTTRWOR &lt;int&gt; | CTTRR &lt;int&gt; | CTPN &lt;int&gt; | CTPNWOF &lt;int&gt; | SOURCE &lt;fct&gt; | VER &lt;int&gt; | LOADDATE &lt;fct&gt; | TAPEYEAR &lt;int&gt; |\n",
       "|---|---|---|---|---|---|---|---|---|---|---|---|---|---|---|---|---|---|---|---|---|---|\n",
       "| 1 | 2019 | 0 | 90 | 1 |       6 | 2 | -8 | NA | 0 | CR | ⋯ | 0 | 0 | 0 | 0 | 1 | 0 | MASTER | 0 | 2012-03-21 | 2099 |\n",
       "| 447 | 2019 | 0 | 90 | 1 | 1100254 | 1 |  1 | NA | 0 | CR | ⋯ | 0 | 0 | 0 | 0 | 1 | 1 | CMECF  | 1 | 2014-12-10 | 2099 |\n",
       "| 448 | 2019 | 0 | 90 | 1 | 1100254 | 3 |  3 | NA | 0 | CR | ⋯ | 0 | 0 | 0 | 0 | 1 | 1 | CMECF  | 1 | 2014-12-10 | 2099 |\n",
       "| 655 | 2019 | 0 | 90 | 1 | 1400241 | 2 |  2 | NA | 0 | CR | ⋯ | 0 | 0 | 0 | 0 | 1 | 1 | CMECF  | 0 | 2015-01-11 | 2099 |\n",
       "| 1001 | 2019 | 0 | 90 | 1 | 1700216 | 1 |  1 | NA | 0 | CR | ⋯ | 0 | 0 | 0 | 0 | 1 | 1 | CMECF  | 1 | 2019-07-17 | 2099 |\n",
       "| 1002 | 2019 | 0 | 90 | 1 | 1700216 | 2 |  2 | NA | 0 | CR | ⋯ | 1 | 1 | 1 | 0 | 0 | 0 | CMECF  | 1 | 2019-05-12 | 2019 |\n",
       "\n"
      ],
      "text/plain": [
       "     FISCALYR CIRCUIT DISTRICT OFFICE DOCKET  DEFNO CTDEF NAME REOPSEQ TYPEREG\n",
       "1    2019     0       90       1            6 2     -8    NA   0       CR     \n",
       "447  2019     0       90       1      1100254 1      1    NA   0       CR     \n",
       "448  2019     0       90       1      1100254 3      3    NA   0       CR     \n",
       "655  2019     0       90       1      1400241 2      2    NA   0       CR     \n",
       "1001 2019     0       90       1      1700216 1      1    NA   0       CR     \n",
       "1002 2019     0       90       1      1700216 2      2    NA   0       CR     \n",
       "     ⋯ CTTRTRN CTTR CTTRWOR CTTRR CTPN CTPNWOF SOURCE VER LOADDATE   TAPEYEAR\n",
       "1    ⋯ 0       0    0       0     1    0       MASTER 0   2012-03-21 2099    \n",
       "447  ⋯ 0       0    0       0     1    1       CMECF  1   2014-12-10 2099    \n",
       "448  ⋯ 0       0    0       0     1    1       CMECF  1   2014-12-10 2099    \n",
       "655  ⋯ 0       0    0       0     1    1       CMECF  0   2015-01-11 2099    \n",
       "1001 ⋯ 0       0    0       0     1    1       CMECF  1   2019-07-17 2099    \n",
       "1002 ⋯ 1       1    1       0     0    0       CMECF  1   2019-05-12 2019    "
      ]
     },
     "metadata": {},
     "output_type": "display_data"
    }
   ],
   "source": [
    "#Create a dataframe of Marijuana SDD Cases\n",
    "\n",
    "Marijuana_SDD <- subset(cr19_df, FOFFCD1 == '6501')\n",
    "head(Marijuana_SDD)"
   ]
  },
  {
   "cell_type": "code",
   "execution_count": 30,
   "metadata": {},
   "outputs": [
    {
     "data": {
      "text/html": [
       "14"
      ],
      "text/latex": [
       "14"
      ],
      "text/markdown": [
       "14"
      ],
      "text/plain": [
       "[1] 14"
      ]
     },
     "metadata": {},
     "output_type": "display_data"
    },
    {
     "data": {
      "text/html": [
       "47"
      ],
      "text/latex": [
       "47"
      ],
      "text/markdown": [
       "47"
      ],
      "text/plain": [
       "[1] 47"
      ]
     },
     "metadata": {},
     "output_type": "display_data"
    }
   ],
   "source": [
    "##Count Marijuana SDD Cases by District\n",
    "\n",
    "sum(Marijuana_SDD$DISTRICT == '90')\n",
    "sum(Marijuana_SDD$DISTRICT == '16')"
   ]
  },
  {
   "cell_type": "code",
   "execution_count": 31,
   "metadata": {},
   "outputs": [
    {
     "data": {
      "text/html": [
       "0.00635785649409628"
      ],
      "text/latex": [
       "0.00635785649409628"
      ],
      "text/markdown": [
       "0.00635785649409628"
      ],
      "text/plain": [
       "[1] 0.006357856"
      ]
     },
     "metadata": {},
     "output_type": "display_data"
    },
    {
     "data": {
      "text/html": [
       "0.0171658144631118"
      ],
      "text/latex": [
       "0.0171658144631118"
      ],
      "text/markdown": [
       "0.0171658144631118"
      ],
      "text/plain": [
       "[1] 0.01716581"
      ]
     },
     "metadata": {},
     "output_type": "display_data"
    }
   ],
   "source": [
    "#Calculate Proportion of Marijuana SDD cases by district\n",
    "\n",
    "#90: DC\n",
    "\n",
    "14/2202\n",
    "\n",
    "#16: Maryland\n",
    "47/2738"
   ]
  },
  {
   "cell_type": "code",
   "execution_count": 32,
   "metadata": {},
   "outputs": [
    {
     "data": {
      "text/plain": [
       "\n",
       "\t2-sample test for equality of proportions with continuity correction\n",
       "\n",
       "data:  c(14, 47) out of c(2202, 2738)\n",
       "X-squared = 10.82, df = 1, p-value = 0.001004\n",
       "alternative hypothesis: two.sided\n",
       "95 percent confidence interval:\n",
       " -0.017107585 -0.004508331\n",
       "sample estimates:\n",
       "     prop 1      prop 2 \n",
       "0.006357856 0.017165814 \n"
      ]
     },
     "metadata": {},
     "output_type": "display_data"
    }
   ],
   "source": [
    "##Now we will run a hypothesis test to see if statistical significance of difference - Marijuana SDD\n",
    "\n",
    "\n",
    "prop.test(x = c(14, 47), n = c(2202, 2738), p = NULL, alternative = \"two.sided\",\n",
    "          correct = TRUE)"
   ]
  },
  {
   "cell_type": "code",
   "execution_count": 52,
   "metadata": {},
   "outputs": [
    {
     "data": {
      "image/png": "[encoded data removed]",
      "text/plain": [
       "plot without title"
      ]
     },
     "metadata": {},
     "output_type": "display_data"
    }
   ],
   "source": [
    "##Data Visualization of 2 - sample proportions test\n",
    "N=20 #just chosen arbitrarily\n",
    "myTest=prop.test(x = c(14, 47), n = c(2202, 2738), p = NULL, alternative = \"two.sided\",\n",
    "          correct = TRUE)\n",
    "tcrit=qt(0.025, df=(N-1))\n",
    "\n",
    "dum=seq(-3.5, 3.5, length=10^4)#For the plot\n",
    "\n",
    "plot(dum, dt(dum, df=(N-1)), type='l', xlab='t', ylab='f(t)')\n",
    "abline(v=myTest$statistic, lty=2)\n",
    "abline(v=tcrit, col='red', lty=2)\n",
    "abline(v=-tcrit, col='red', lty=2)\n",
    "\n",
    "##CI\n",
    "\n"
   ]
  },
  {
   "cell_type": "code",
   "execution_count": 34,
   "metadata": {},
   "outputs": [
    {
     "data": {
      "text/html": [
       "133"
      ],
      "text/latex": [
       "133"
      ],
      "text/markdown": [
       "133"
      ],
      "text/plain": [
       "[1] 133"
      ]
     },
     "metadata": {},
     "output_type": "display_data"
    }
   ],
   "source": [
    "\n",
    "#Now we will do an analysis of Narc. Marijuana Tax Act (NMTA)\n",
    "#Count total NMTA Cases all Districts\n",
    "\n",
    "sum(cr19_df$FOFFCD1 == '6500')"
   ]
  },
  {
   "cell_type": "code",
   "execution_count": 35,
   "metadata": {},
   "outputs": [
    {
     "data": {
      "text/html": [
       "<table>\n",
       "<caption>A data.frame: 6 × 144</caption>\n",
       "<thead>\n",
       "\t<tr><th></th><th scope=col>FISCALYR</th><th scope=col>CIRCUIT</th><th scope=col>DISTRICT</th><th scope=col>OFFICE</th><th scope=col>DOCKET</th><th scope=col>DEFNO</th><th scope=col>CTDEF</th><th scope=col>NAME</th><th scope=col>REOPSEQ</th><th scope=col>TYPEREG</th><th scope=col>⋯</th><th scope=col>CTTRTRN</th><th scope=col>CTTR</th><th scope=col>CTTRWOR</th><th scope=col>CTTRR</th><th scope=col>CTPN</th><th scope=col>CTPNWOF</th><th scope=col>SOURCE</th><th scope=col>VER</th><th scope=col>LOADDATE</th><th scope=col>TAPEYEAR</th></tr>\n",
       "\t<tr><th></th><th scope=col>&lt;int&gt;</th><th scope=col>&lt;int&gt;</th><th scope=col>&lt;chr&gt;</th><th scope=col>&lt;chr&gt;</th><th scope=col>&lt;int&gt;</th><th scope=col>&lt;int&gt;</th><th scope=col>&lt;int&gt;</th><th scope=col>&lt;lgl&gt;</th><th scope=col>&lt;int&gt;</th><th scope=col>&lt;fct&gt;</th><th scope=col>⋯</th><th scope=col>&lt;int&gt;</th><th scope=col>&lt;int&gt;</th><th scope=col>&lt;int&gt;</th><th scope=col>&lt;int&gt;</th><th scope=col>&lt;int&gt;</th><th scope=col>&lt;int&gt;</th><th scope=col>&lt;fct&gt;</th><th scope=col>&lt;int&gt;</th><th scope=col>&lt;fct&gt;</th><th scope=col>&lt;int&gt;</th></tr>\n",
       "</thead>\n",
       "<tbody>\n",
       "\t<tr><th scope=row>16976</th><td>2019</td><td>2</td><td>7 </td><td>9</td><td>7100112</td><td>2</td><td>-8</td><td>NA</td><td>0</td><td>CR</td><td>⋯</td><td>0</td><td>0</td><td>0</td><td>0</td><td>1</td><td>0</td><td>MASTER</td><td>0</td><td>2012-03-21</td><td>2099</td></tr>\n",
       "\t<tr><th scope=row>21899</th><td>2019</td><td>2</td><td>8 </td><td>1</td><td>7000352</td><td>1</td><td>-8</td><td>NA</td><td>0</td><td>CR</td><td>⋯</td><td>0</td><td>0</td><td>0</td><td>0</td><td>1</td><td>0</td><td>MASTER</td><td>0</td><td>2012-03-21</td><td>2099</td></tr>\n",
       "\t<tr><th scope=row>41393</th><td>2019</td><td>9</td><td>73</td><td>2</td><td>  36664</td><td>4</td><td>-8</td><td>NA</td><td>0</td><td>CR</td><td>⋯</td><td>0</td><td>0</td><td>0</td><td>0</td><td>1</td><td>0</td><td>MASTER</td><td>0</td><td>2012-03-21</td><td>2099</td></tr>\n",
       "\t<tr><th scope=row>45607</th><td>2019</td><td>9</td><td>73</td><td>2</td><td>6701191</td><td>1</td><td>-8</td><td>NA</td><td>0</td><td>CR</td><td>⋯</td><td>0</td><td>0</td><td>0</td><td>0</td><td>1</td><td>0</td><td>MASTER</td><td>0</td><td>2012-03-21</td><td>2099</td></tr>\n",
       "\t<tr><th scope=row>45608</th><td>2019</td><td>9</td><td>73</td><td>2</td><td>6701222</td><td>1</td><td>-8</td><td>NA</td><td>0</td><td>CR</td><td>⋯</td><td>0</td><td>0</td><td>0</td><td>0</td><td>1</td><td>0</td><td>MASTER</td><td>0</td><td>2012-03-21</td><td>2099</td></tr>\n",
       "\t<tr><th scope=row>45613</th><td>2019</td><td>9</td><td>73</td><td>2</td><td>6802338</td><td>2</td><td>-8</td><td>NA</td><td>0</td><td>CR</td><td>⋯</td><td>0</td><td>0</td><td>0</td><td>0</td><td>1</td><td>0</td><td>MASTER</td><td>0</td><td>2012-03-21</td><td>2099</td></tr>\n",
       "</tbody>\n",
       "</table>\n"
      ],
      "text/latex": [
       "A data.frame: 6 × 144\n",
       "\\begin{tabular}{r|llllllllllllllllllllllllllllllllllllllllllllllllllllllllllllllllllllllllllllllllllllllllllllllllllllllllllllllllllllllllllllllllllllllllllllllll}\n",
       "  & FISCALYR & CIRCUIT & DISTRICT & OFFICE & DOCKET & DEFNO & CTDEF & NAME & REOPSEQ & TYPEREG & TYPETRN & TYPEMAG & DEFLGKY & CASLGKY & MAGDOCK & MAGDEF & STATUSCD & FUGSTAT & FGSTRTDATE & FGENDDATE & FILEDATE & PROCDATE & PROCCD & APPDATE & APPCD & FJUDGE & FCOUNSEL & FTITLE1 & FOFFLVL1 & FOFFCD1 & D2FOFFCD1 & FSEV1 & FTITLE2 & FOFFLVL2 & FOFFCD2 & D2FOFFCD2 & FSEV2 & FTITLE3 & FOFFLVL3 & FOFFCD3 & D2FOFFCD3 & FSEV3 & FTITLE4 & FOFFLVL4 & FOFFCD4 & D2FOFFCD4 & FSEV4 & FTITLE5 & FOFFLVL5 & FOFFCD5 & D2FOFFCD5 & FSEV5 & COUNTY & TRANDIST & TRANOFF & TRANDOCK & TRANDEF & UPDATE & DISPDATE & SENTDATE & TERMDATE & INT1 & INT2 & INT3 & TERMOFF & TJUDGE & TCOUNSEL & TTITLE1 & TOFFLVL1 & TOFFCD1 & D2TOFFCD1 & TSEV1 & DISP1 & PRISTIM1 & PRISCD1 & PROBMON1 & PROBCD1 & SUPVREL1 & FINEAMT1 & TTITLE2 & TOFFLVL2 & TOFFCD2 & D2TOFFCD2 & TSEV2 & DISP2 & PRISTIM2 & PRISCD2 & PROBMON2 & PROBCD2 & SUPVREL2 & FINEAMT2 & TTITLE3 & TOFFLVL3 & TOFFCD3 & D2TOFFCD3 & TSEV3 & DISP3 & PRISTIM3 & PRISCD3 & PROBMON3 & PROBCD3 & SUPVREL3 & FINEAMT3 & TTITLE4 & TOFFLVL4 & TOFFCD4 & D2TOFFCD4 & TSEV4 & DISP4 & PRISTIM4 & PRISCD4 & PROBMON4 & PROBCD4 & SUPVREL4 & FINEAMT4 & TTITLE5 & TOFFLVL5 & TOFFCD5 & D2TOFFCD5 & TSEV5 & DISP5 & PRISTIM5 & PRISCD5 & PROBMON5 & PROBCD5 & SUPVREL5 & FINEAMT5 & PRISTOT & PROBTOT & FINETOT & CTFILTRN & CTFIL & CTFILWOR & CTFILR & CTTRTRN & CTTR & CTTRWOR & CTTRR & CTPN & CTPNWOF & SOURCE & VER & LOADDATE & TAPEYEAR\\\\\n",
       "  & <int> & <int> & <chr> & <chr> & <int> & <int> & <int> & <lgl> & <int> & <fct> & <fct> & <fct> & <fct> & <fct> & <fct> & <int> & <fct> & <fct> & <fct> & <fct> & <fct> & <fct> & <int> & <fct> & <fct> & <lgl> & <int> & <fct> & <int> & <int> & <int> & <fct> & <fct> & <int> & <int> & <int> & <fct> & <fct> & <int> & <int> & <int> & <fct> & <fct> & <int> & <int> & <int> & <fct> & <fct> & <int> & <int> & <int> & <fct> & <int> & <chr> & <int> & <int> & <int> & <fct> & <fct> & <fct> & <fct> & <int> & <int> & <int> & <chr> & <lgl> & <int> & <fct> & <int> & <int> & <int> & <fct> & <int> & <int> & <fct> & <int> & <fct> & <int> & <int> & <fct> & <int> & <int> & <int> & <fct> & <int> & <int> & <fct> & <int> & <fct> & <int> & <int> & <fct> & <int> & <int> & <int> & <fct> & <int> & <int> & <fct> & <int> & <fct> & <int> & <int> & <fct> & <int> & <int> & <int> & <fct> & <int> & <int> & <fct> & <int> & <fct> & <int> & <int> & <fct> & <int> & <int> & <int> & <fct> & <int> & <int> & <fct> & <int> & <fct> & <int> & <int> & <int> & <int> & <int> & <int> & <int> & <int> & <int> & <int> & <int> & <int> & <int> & <int> & <int> & <fct> & <int> & <fct> & <int>\\\\\n",
       "\\hline\n",
       "\t16976 & 2019 & 2 & 7  & 9 & 7100112 & 2 & -8 & NA & 0 & CR & -8 & -8 & 020797100112CR0020 & 020797100112CR0 & -8 & -8 & E & Z & 1900-01-01 & 1900-01-01 & 1971-01-01 & 1971-01-01 & 1 & 1900-01-01 & -8 & NA & 0 & 26.4744A2-M & 4 & 6500 & 6500 & 228 & -8       & -8 &   -8 &   -8 & -8  & -8 & -8 & -8 & -8 & -8 & -8 & -8 & -8 & -8 & -8 & -8 & -8 & -8 & -8 & -8 & 88888 & -8 & -8 & -8 & -8 & 1996-08-19 & 1900-01-01 & 1900-01-01 & 1900-01-01 & 0 & 0 & 0 & -8 & NA & -8 & -8 & -8 & -8 & -8 & -8 & -8 & 0 & -8 & 0 & -8 & 0 & 0 & -8 & -8 & -8 & -8 & -8 & -8 & 0 & -8 & 0 & -8 & 0 & 0 & -8 & -8 & -8 & -8 & -8 & -8 & 0 & -8 & 0 & -8 & 0 & 0 & -8 & -8 & -8 & -8 & -8 & -8 & 0 & -8 & 0 & -8 & 0 & 0 & -8 & -8 & -8 & -8 & -8 & -8 & 0 & -8 & 0 & -8 & 0 & 0 & 0 & 0 & 0 & 0 & 0 & 0 & 0 & 0 & 0 & 0 & 0 & 1 & 0 & MASTER & 0 & 2012-03-21 & 2099\\\\\n",
       "\t21899 & 2019 & 2 & 8  & 1 & 7000352 & 1 & -8 & NA & 0 & CR & -8 & -8 & 020817000352CR0010 & 020817000352CR0 & -8 & -8 & E & Z & 1900-01-01 & 1900-01-01 & 1990-05-11 & 1990-05-11 & 1 & 1900-01-01 & -8 & NA & 0 & 21:176.F    & 4 & 6500 & 6502 & 529 & 21:176.F &  4 & 6500 & 6502 & 529 & -8 & -8 & -8 & -8 & -8 & -8 & -8 & -8 & -8 & -8 & -8 & -8 & -8 & -8 & -8 & 36061 & -8 & -8 & -8 & -8 & 2003-10-17 & 1900-01-01 & 1900-01-01 & 1900-01-01 & 0 & 0 & 0 & -8 & NA & -8 & -8 & -8 & -8 & -8 & -8 & -8 & 0 & -8 & 0 & -8 & 0 & 0 & -8 & -8 & -8 & -8 & -8 & -8 & 0 & -8 & 0 & -8 & 0 & 0 & -8 & -8 & -8 & -8 & -8 & -8 & 0 & -8 & 0 & -8 & 0 & 0 & -8 & -8 & -8 & -8 & -8 & -8 & 0 & -8 & 0 & -8 & 0 & 0 & -8 & -8 & -8 & -8 & -8 & -8 & 0 & -8 & 0 & -8 & 0 & 0 & 0 & 0 & 0 & 0 & 0 & 0 & 0 & 0 & 0 & 0 & 0 & 1 & 0 & MASTER & 0 & 2012-03-21 & 2099\\\\\n",
       "\t41393 & 2019 & 9 & 73 & 2 &   36664 & 4 & -8 & NA & 0 & CR & -8 & -8 & 097320036664CR0040 & 097320036664CR0 & -8 & -8 & E & Z & 1900-01-01 & 1900-01-01 & 1966-09-01 & 1966-09-01 & 1 & 1900-01-01 & -8 & NA & 0 & 26.4744A2-M & 4 & 6500 & 6500 & 228 & -8       & -8 &   -8 &   -8 & -8  & -8 & -8 & -8 & -8 & -8 & -8 & -8 & -8 & -8 & -8 & -8 & -8 & -8 & -8 & -8 & 88888 & -8 & -8 & -8 & -8 & 1993-10-05 & 1900-01-01 & 1900-01-01 & 1900-01-01 & 0 & 0 & 0 & -8 & NA & -8 & -8 & -8 & -8 & -8 & -8 & -8 & 0 & -8 & 0 & -8 & 0 & 0 & -8 & -8 & -8 & -8 & -8 & -8 & 0 & -8 & 0 & -8 & 0 & 0 & -8 & -8 & -8 & -8 & -8 & -8 & 0 & -8 & 0 & -8 & 0 & 0 & -8 & -8 & -8 & -8 & -8 & -8 & 0 & -8 & 0 & -8 & 0 & 0 & -8 & -8 & -8 & -8 & -8 & -8 & 0 & -8 & 0 & -8 & 0 & 0 & 0 & 0 & 0 & 0 & 0 & 0 & 0 & 0 & 0 & 0 & 0 & 1 & 0 & MASTER & 0 & 2012-03-21 & 2099\\\\\n",
       "\t45607 & 2019 & 9 & 73 & 2 & 6701191 & 1 & -8 & NA & 0 & CR & -8 & -8 & 097326701191CR0010 & 097326701191CR0 & -8 & -8 & E & Z & 1900-01-01 & 1900-01-01 & 1967-10-10 & 1967-10-10 & 1 & 1900-01-01 & -8 & NA & 0 & 26.4744A2-M & 4 & 6500 & 6500 & 228 & -8       & -8 &   -8 &   -8 & -8  & -8 & -8 & -8 & -8 & -8 & -8 & -8 & -8 & -8 & -8 & -8 & -8 & -8 & -8 & -8 & 88888 & -8 & -8 & -8 & -8 & 1995-02-03 & 1900-01-01 & 1900-01-01 & 1900-01-01 & 0 & 0 & 0 & -8 & NA & -8 & -8 & -8 & -8 & -8 & -8 & -8 & 0 & -8 & 0 & -8 & 0 & 0 & -8 & -8 & -8 & -8 & -8 & -8 & 0 & -8 & 0 & -8 & 0 & 0 & -8 & -8 & -8 & -8 & -8 & -8 & 0 & -8 & 0 & -8 & 0 & 0 & -8 & -8 & -8 & -8 & -8 & -8 & 0 & -8 & 0 & -8 & 0 & 0 & -8 & -8 & -8 & -8 & -8 & -8 & 0 & -8 & 0 & -8 & 0 & 0 & 0 & 0 & 0 & 0 & 0 & 0 & 0 & 0 & 0 & 0 & 0 & 1 & 0 & MASTER & 0 & 2012-03-21 & 2099\\\\\n",
       "\t45608 & 2019 & 9 & 73 & 2 & 6701222 & 1 & -8 & NA & 0 & CR & -8 & -8 & 097326701222CR0010 & 097326701222CR0 & -8 & -8 & E & Z & 1900-01-01 & 1900-01-01 & 1967-11-10 & 1967-11-10 & 1 & 1900-01-01 & -8 & NA & 0 & 26.4744A2-M & 4 & 6500 & 6500 & 228 & -8       & -8 &   -8 &   -8 & -8  & -8 & -8 & -8 & -8 & -8 & -8 & -8 & -8 & -8 & -8 & -8 & -8 & -8 & -8 & -8 & 88888 & -8 & -8 & -8 & -8 & 1995-02-03 & 1900-01-01 & 1900-01-01 & 1900-01-01 & 0 & 0 & 0 & -8 & NA & -8 & -8 & -8 & -8 & -8 & -8 & -8 & 0 & -8 & 0 & -8 & 0 & 0 & -8 & -8 & -8 & -8 & -8 & -8 & 0 & -8 & 0 & -8 & 0 & 0 & -8 & -8 & -8 & -8 & -8 & -8 & 0 & -8 & 0 & -8 & 0 & 0 & -8 & -8 & -8 & -8 & -8 & -8 & 0 & -8 & 0 & -8 & 0 & 0 & -8 & -8 & -8 & -8 & -8 & -8 & 0 & -8 & 0 & -8 & 0 & 0 & 0 & 0 & 0 & 0 & 0 & 0 & 0 & 0 & 0 & 0 & 0 & 1 & 0 & MASTER & 0 & 2012-03-21 & 2099\\\\\n",
       "\t45613 & 2019 & 9 & 73 & 2 & 6802338 & 2 & -8 & NA & 0 & CR & -8 & -8 & 097326802338CR0020 & 097326802338CR0 & -8 & -8 & E & Z & 1900-01-01 & 1900-01-01 & 1968-07-01 & 1968-07-01 & 1 & 1900-01-01 & -8 & NA & 0 & 26.4744A2-M & 4 & 6500 & 6500 & 228 & -8       & -8 &   -8 &   -8 & -8  & -8 & -8 & -8 & -8 & -8 & -8 & -8 & -8 & -8 & -8 & -8 & -8 & -8 & -8 & -8 & 88888 & -8 & -8 & -8 & -8 & 1995-02-03 & 1900-01-01 & 1900-01-01 & 1900-01-01 & 0 & 0 & 0 & -8 & NA & -8 & -8 & -8 & -8 & -8 & -8 & -8 & 0 & -8 & 0 & -8 & 0 & 0 & -8 & -8 & -8 & -8 & -8 & -8 & 0 & -8 & 0 & -8 & 0 & 0 & -8 & -8 & -8 & -8 & -8 & -8 & 0 & -8 & 0 & -8 & 0 & 0 & -8 & -8 & -8 & -8 & -8 & -8 & 0 & -8 & 0 & -8 & 0 & 0 & -8 & -8 & -8 & -8 & -8 & -8 & 0 & -8 & 0 & -8 & 0 & 0 & 0 & 0 & 0 & 0 & 0 & 0 & 0 & 0 & 0 & 0 & 0 & 1 & 0 & MASTER & 0 & 2012-03-21 & 2099\\\\\n",
       "\\end{tabular}\n"
      ],
      "text/markdown": [
       "\n",
       "A data.frame: 6 × 144\n",
       "\n",
       "| <!--/--> | FISCALYR &lt;int&gt; | CIRCUIT &lt;int&gt; | DISTRICT &lt;chr&gt; | OFFICE &lt;chr&gt; | DOCKET &lt;int&gt; | DEFNO &lt;int&gt; | CTDEF &lt;int&gt; | NAME &lt;lgl&gt; | REOPSEQ &lt;int&gt; | TYPEREG &lt;fct&gt; | ⋯ ⋯ | CTTRTRN &lt;int&gt; | CTTR &lt;int&gt; | CTTRWOR &lt;int&gt; | CTTRR &lt;int&gt; | CTPN &lt;int&gt; | CTPNWOF &lt;int&gt; | SOURCE &lt;fct&gt; | VER &lt;int&gt; | LOADDATE &lt;fct&gt; | TAPEYEAR &lt;int&gt; |\n",
       "|---|---|---|---|---|---|---|---|---|---|---|---|---|---|---|---|---|---|---|---|---|---|\n",
       "| 16976 | 2019 | 2 | 7  | 9 | 7100112 | 2 | -8 | NA | 0 | CR | ⋯ | 0 | 0 | 0 | 0 | 1 | 0 | MASTER | 0 | 2012-03-21 | 2099 |\n",
       "| 21899 | 2019 | 2 | 8  | 1 | 7000352 | 1 | -8 | NA | 0 | CR | ⋯ | 0 | 0 | 0 | 0 | 1 | 0 | MASTER | 0 | 2012-03-21 | 2099 |\n",
       "| 41393 | 2019 | 9 | 73 | 2 |   36664 | 4 | -8 | NA | 0 | CR | ⋯ | 0 | 0 | 0 | 0 | 1 | 0 | MASTER | 0 | 2012-03-21 | 2099 |\n",
       "| 45607 | 2019 | 9 | 73 | 2 | 6701191 | 1 | -8 | NA | 0 | CR | ⋯ | 0 | 0 | 0 | 0 | 1 | 0 | MASTER | 0 | 2012-03-21 | 2099 |\n",
       "| 45608 | 2019 | 9 | 73 | 2 | 6701222 | 1 | -8 | NA | 0 | CR | ⋯ | 0 | 0 | 0 | 0 | 1 | 0 | MASTER | 0 | 2012-03-21 | 2099 |\n",
       "| 45613 | 2019 | 9 | 73 | 2 | 6802338 | 2 | -8 | NA | 0 | CR | ⋯ | 0 | 0 | 0 | 0 | 1 | 0 | MASTER | 0 | 2012-03-21 | 2099 |\n",
       "\n"
      ],
      "text/plain": [
       "      FISCALYR CIRCUIT DISTRICT OFFICE DOCKET  DEFNO CTDEF NAME REOPSEQ TYPEREG\n",
       "16976 2019     2       7        9      7100112 2     -8    NA   0       CR     \n",
       "21899 2019     2       8        1      7000352 1     -8    NA   0       CR     \n",
       "41393 2019     9       73       2        36664 4     -8    NA   0       CR     \n",
       "45607 2019     9       73       2      6701191 1     -8    NA   0       CR     \n",
       "45608 2019     9       73       2      6701222 1     -8    NA   0       CR     \n",
       "45613 2019     9       73       2      6802338 2     -8    NA   0       CR     \n",
       "      ⋯ CTTRTRN CTTR CTTRWOR CTTRR CTPN CTPNWOF SOURCE VER LOADDATE   TAPEYEAR\n",
       "16976 ⋯ 0       0    0       0     1    0       MASTER 0   2012-03-21 2099    \n",
       "21899 ⋯ 0       0    0       0     1    0       MASTER 0   2012-03-21 2099    \n",
       "41393 ⋯ 0       0    0       0     1    0       MASTER 0   2012-03-21 2099    \n",
       "45607 ⋯ 0       0    0       0     1    0       MASTER 0   2012-03-21 2099    \n",
       "45608 ⋯ 0       0    0       0     1    0       MASTER 0   2012-03-21 2099    \n",
       "45613 ⋯ 0       0    0       0     1    0       MASTER 0   2012-03-21 2099    "
      ]
     },
     "metadata": {},
     "output_type": "display_data"
    }
   ],
   "source": [
    "#Create a dataframe of NMTA Cases\n",
    "\n",
    "Marijuana_NMTA <- subset(cr19_df, FOFFCD1 == '6500')\n",
    "head(Marijuana_NMTA)"
   ]
  },
  {
   "cell_type": "code",
   "execution_count": 36,
   "metadata": {},
   "outputs": [
    {
     "data": {
      "text/html": [
       "0"
      ],
      "text/latex": [
       "0"
      ],
      "text/markdown": [
       "0"
      ],
      "text/plain": [
       "[1] 0"
      ]
     },
     "metadata": {},
     "output_type": "display_data"
    },
    {
     "data": {
      "text/html": [
       "0"
      ],
      "text/latex": [
       "0"
      ],
      "text/markdown": [
       "0"
      ],
      "text/plain": [
       "[1] 0"
      ]
     },
     "metadata": {},
     "output_type": "display_data"
    }
   ],
   "source": [
    "##Count NMTA Cases by District\n",
    "\n",
    "sum(Marijuana_NMTA$DISTRICT == '90')\n",
    "sum(Marijuana_NMTA$DISTRICT == '16')"
   ]
  },
  {
   "cell_type": "code",
   "execution_count": 37,
   "metadata": {},
   "outputs": [],
   "source": [
    "#Proportions are 0 as well, no need for hypothesis test"
   ]
  },
  {
   "cell_type": "code",
   "execution_count": 38,
   "metadata": {},
   "outputs": [],
   "source": [
    "##Now we will analyse Marijuana Importation/Exportation (MIE)"
   ]
  },
  {
   "cell_type": "code",
   "execution_count": 39,
   "metadata": {},
   "outputs": [
    {
     "data": {
      "text/html": [
       "1333"
      ],
      "text/latex": [
       "1333"
      ],
      "text/markdown": [
       "1333"
      ],
      "text/plain": [
       "[1] 1333"
      ]
     },
     "metadata": {},
     "output_type": "display_data"
    }
   ],
   "source": [
    "#Count total MIE Cases all Districts\n",
    "\n",
    "sum(cr19_df$FOFFCD1 == '6502')"
   ]
  },
  {
   "cell_type": "code",
   "execution_count": 40,
   "metadata": {},
   "outputs": [
    {
     "data": {
      "text/html": [
       "<table>\n",
       "<caption>A data.frame: 6 × 144</caption>\n",
       "<thead>\n",
       "\t<tr><th></th><th scope=col>FISCALYR</th><th scope=col>CIRCUIT</th><th scope=col>DISTRICT</th><th scope=col>OFFICE</th><th scope=col>DOCKET</th><th scope=col>DEFNO</th><th scope=col>CTDEF</th><th scope=col>NAME</th><th scope=col>REOPSEQ</th><th scope=col>TYPEREG</th><th scope=col>⋯</th><th scope=col>CTTRTRN</th><th scope=col>CTTR</th><th scope=col>CTTRWOR</th><th scope=col>CTTRR</th><th scope=col>CTPN</th><th scope=col>CTPNWOF</th><th scope=col>SOURCE</th><th scope=col>VER</th><th scope=col>LOADDATE</th><th scope=col>TAPEYEAR</th></tr>\n",
       "\t<tr><th></th><th scope=col>&lt;int&gt;</th><th scope=col>&lt;int&gt;</th><th scope=col>&lt;chr&gt;</th><th scope=col>&lt;chr&gt;</th><th scope=col>&lt;int&gt;</th><th scope=col>&lt;int&gt;</th><th scope=col>&lt;int&gt;</th><th scope=col>&lt;lgl&gt;</th><th scope=col>&lt;int&gt;</th><th scope=col>&lt;fct&gt;</th><th scope=col>⋯</th><th scope=col>&lt;int&gt;</th><th scope=col>&lt;int&gt;</th><th scope=col>&lt;int&gt;</th><th scope=col>&lt;int&gt;</th><th scope=col>&lt;int&gt;</th><th scope=col>&lt;int&gt;</th><th scope=col>&lt;fct&gt;</th><th scope=col>&lt;int&gt;</th><th scope=col>&lt;fct&gt;</th><th scope=col>&lt;int&gt;</th></tr>\n",
       "</thead>\n",
       "<tbody>\n",
       "\t<tr><th scope=row>2518</th><td>2019</td><td>1</td><td>0</td><td>2</td><td>1300142</td><td>1</td><td> 1</td><td>NA</td><td>0</td><td>CR</td><td>⋯</td><td>0</td><td>0</td><td>0</td><td>0</td><td>1</td><td>0</td><td>CMECF </td><td>2</td><td>2017-04-06</td><td>2099</td></tr>\n",
       "\t<tr><th scope=row>2519</th><td>2019</td><td>1</td><td>0</td><td>2</td><td>1300142</td><td>2</td><td> 2</td><td>NA</td><td>0</td><td>CR</td><td>⋯</td><td>0</td><td>0</td><td>0</td><td>0</td><td>1</td><td>0</td><td>CMECF </td><td>1</td><td>2014-06-09</td><td>2099</td></tr>\n",
       "\t<tr><th scope=row>4082</th><td>2019</td><td>1</td><td>1</td><td>1</td><td>7200387</td><td>1</td><td>-8</td><td>NA</td><td>0</td><td>CR</td><td>⋯</td><td>0</td><td>0</td><td>0</td><td>0</td><td>1</td><td>0</td><td>MASTER</td><td>0</td><td>2012-03-21</td><td>2099</td></tr>\n",
       "\t<tr><th scope=row>4117</th><td>2019</td><td>1</td><td>1</td><td>1</td><td>8900246</td><td>5</td><td> 5</td><td>NA</td><td>0</td><td>CR</td><td>⋯</td><td>0</td><td>0</td><td>0</td><td>0</td><td>1</td><td>0</td><td>CMECF </td><td>1</td><td>2018-10-10</td><td>2099</td></tr>\n",
       "\t<tr><th scope=row>6833</th><td>2019</td><td>1</td><td>4</td><td>3</td><td>1700389</td><td>1</td><td> 1</td><td>NA</td><td>0</td><td>CR</td><td>⋯</td><td>1</td><td>1</td><td>1</td><td>0</td><td>0</td><td>0</td><td>CMECF </td><td>1</td><td>2019-08-08</td><td>2019</td></tr>\n",
       "\t<tr><th scope=row>6834</th><td>2019</td><td>1</td><td>4</td><td>3</td><td>1700389</td><td>2</td><td> 2</td><td>NA</td><td>0</td><td>CR</td><td>⋯</td><td>1</td><td>1</td><td>1</td><td>0</td><td>0</td><td>0</td><td>CMECF </td><td>2</td><td>2019-10-09</td><td>2019</td></tr>\n",
       "</tbody>\n",
       "</table>\n"
      ],
      "text/latex": [
       "A data.frame: 6 × 144\n",
       "\\begin{tabular}{r|llllllllllllllllllllllllllllllllllllllllllllllllllllllllllllllllllllllllllllllllllllllllllllllllllllllllllllllllllllllllllllllllllllllllllllllll}\n",
       "  & FISCALYR & CIRCUIT & DISTRICT & OFFICE & DOCKET & DEFNO & CTDEF & NAME & REOPSEQ & TYPEREG & TYPETRN & TYPEMAG & DEFLGKY & CASLGKY & MAGDOCK & MAGDEF & STATUSCD & FUGSTAT & FGSTRTDATE & FGENDDATE & FILEDATE & PROCDATE & PROCCD & APPDATE & APPCD & FJUDGE & FCOUNSEL & FTITLE1 & FOFFLVL1 & FOFFCD1 & D2FOFFCD1 & FSEV1 & FTITLE2 & FOFFLVL2 & FOFFCD2 & D2FOFFCD2 & FSEV2 & FTITLE3 & FOFFLVL3 & FOFFCD3 & D2FOFFCD3 & FSEV3 & FTITLE4 & FOFFLVL4 & FOFFCD4 & D2FOFFCD4 & FSEV4 & FTITLE5 & FOFFLVL5 & FOFFCD5 & D2FOFFCD5 & FSEV5 & COUNTY & TRANDIST & TRANOFF & TRANDOCK & TRANDEF & UPDATE & DISPDATE & SENTDATE & TERMDATE & INT1 & INT2 & INT3 & TERMOFF & TJUDGE & TCOUNSEL & TTITLE1 & TOFFLVL1 & TOFFCD1 & D2TOFFCD1 & TSEV1 & DISP1 & PRISTIM1 & PRISCD1 & PROBMON1 & PROBCD1 & SUPVREL1 & FINEAMT1 & TTITLE2 & TOFFLVL2 & TOFFCD2 & D2TOFFCD2 & TSEV2 & DISP2 & PRISTIM2 & PRISCD2 & PROBMON2 & PROBCD2 & SUPVREL2 & FINEAMT2 & TTITLE3 & TOFFLVL3 & TOFFCD3 & D2TOFFCD3 & TSEV3 & DISP3 & PRISTIM3 & PRISCD3 & PROBMON3 & PROBCD3 & SUPVREL3 & FINEAMT3 & TTITLE4 & TOFFLVL4 & TOFFCD4 & D2TOFFCD4 & TSEV4 & DISP4 & PRISTIM4 & PRISCD4 & PROBMON4 & PROBCD4 & SUPVREL4 & FINEAMT4 & TTITLE5 & TOFFLVL5 & TOFFCD5 & D2TOFFCD5 & TSEV5 & DISP5 & PRISTIM5 & PRISCD5 & PROBMON5 & PROBCD5 & SUPVREL5 & FINEAMT5 & PRISTOT & PROBTOT & FINETOT & CTFILTRN & CTFIL & CTFILWOR & CTFILR & CTTRTRN & CTTR & CTTRWOR & CTTRR & CTPN & CTPNWOF & SOURCE & VER & LOADDATE & TAPEYEAR\\\\\n",
       "  & <int> & <int> & <chr> & <chr> & <int> & <int> & <int> & <lgl> & <int> & <fct> & <fct> & <fct> & <fct> & <fct> & <fct> & <int> & <fct> & <fct> & <fct> & <fct> & <fct> & <fct> & <int> & <fct> & <fct> & <lgl> & <int> & <fct> & <int> & <int> & <int> & <fct> & <fct> & <int> & <int> & <int> & <fct> & <fct> & <int> & <int> & <int> & <fct> & <fct> & <int> & <int> & <int> & <fct> & <fct> & <int> & <int> & <int> & <fct> & <int> & <chr> & <int> & <int> & <int> & <fct> & <fct> & <fct> & <fct> & <int> & <int> & <int> & <chr> & <lgl> & <int> & <fct> & <int> & <int> & <int> & <fct> & <int> & <int> & <fct> & <int> & <fct> & <int> & <int> & <fct> & <int> & <int> & <int> & <fct> & <int> & <int> & <fct> & <int> & <fct> & <int> & <int> & <fct> & <int> & <int> & <int> & <fct> & <int> & <int> & <fct> & <int> & <fct> & <int> & <int> & <fct> & <int> & <int> & <int> & <fct> & <int> & <int> & <fct> & <int> & <fct> & <int> & <int> & <fct> & <int> & <int> & <int> & <fct> & <int> & <int> & <fct> & <int> & <fct> & <int> & <int> & <int> & <int> & <int> & <int> & <int> & <int> & <int> & <int> & <int> & <int> & <int> & <int> & <int> & <fct> & <int> & <fct> & <int>\\\\\n",
       "\\hline\n",
       "\t2518 & 2019 & 1 & 0 & 2 & 1300142 & 1 &  1 & NA & 0 & CR & -8 & -8 & 010021300142CR0010 & 010021300142CR0 & -8      & -8 & E & Z & 2013-08-15 & 1900-01-01 & 2013-08-14 & 2013-08-14 & 19 & 1900-01-01 & -8 & NA & 1 & 21:963=MI.F & 4 & 6502 & 6502 & 839 & 21:963=MI.F  &  4 & 6502 & 6502 & 839 & 21:841A=MD.F   &  4 & 6501 & 6501 & 239 & 18:1956-4999.F &  4 & 4999 & 7477 & 519 & -8           & -8 &   -8 &   -8 & -8  & 23005 & -8 & -8 & -8 & -8 & 1900-01-01 & 1900-01-01 & 1900-01-01 & 1900-01-01 &  -8 &  -8 &  -8 & -8 & NA & -8 & -8          & -8 &   -8 &   -8 & -8  & -8 & -8 & -8   & -8 & -8 & -8 & -8 & -8          & -8 &   -8 &   -8 & -8  & -8 & -8 & -8 & -8 & -8 & -8 & -8 & -8          & -8 &   -8 &   -8 & -8  & -8 & -8 & -8 & -8 & -8 & -8 & -8 & -8 & -8 & -8 & -8 & -8 & -8 & -8 & -8 & -8 & -8 & -8 & -8 & -8 & -8 & -8 & -8 & -8 & -8 & -8 & -8 & -8 & -8 & -8 & -8 & -8 & -8 & 0 & 0 & 0 & 0 & 0 & 0 & 0 & 0 & 0 & 1 & 0 & CMECF  & 2 & 2017-04-06 & 2099\\\\\n",
       "\t2519 & 2019 & 1 & 0 & 2 & 1300142 & 2 &  2 & NA & 0 & CR & -8 & -8 & 010021300142CR0020 & 010021300142CR0 & -8      & -8 & E & Z & 2013-08-15 & 1900-01-01 & 2013-08-14 & 2013-08-14 & 26 & 1900-01-01 & -8 & NA & 0 & 21:963=MI.F & 4 & 6502 & 6502 & 839 & 21:841A=MD.F &  4 & 6501 & 6501 & 239 & 18:1956-4999.F &  4 & 4999 & 7477 & 519 & -8             & -8 &   -8 &   -8 & -8  & -8           & -8 &   -8 &   -8 & -8  & 23005 & -8 & -8 & -8 & -8 & 1900-01-01 & 1900-01-01 & 1900-01-01 & 1900-01-01 &  -8 &  -8 &  -8 & -8 & NA & -8 & -8          & -8 &   -8 &   -8 & -8  & -8 & -8 & -8   & -8 & -8 & -8 & -8 & -8          & -8 &   -8 &   -8 & -8  & -8 & -8 & -8 & -8 & -8 & -8 & -8 & -8          & -8 &   -8 &   -8 & -8  & -8 & -8 & -8 & -8 & -8 & -8 & -8 & -8 & -8 & -8 & -8 & -8 & -8 & -8 & -8 & -8 & -8 & -8 & -8 & -8 & -8 & -8 & -8 & -8 & -8 & -8 & -8 & -8 & -8 & -8 & -8 & -8 & -8 & 0 & 0 & 0 & 0 & 0 & 0 & 0 & 0 & 0 & 1 & 0 & CMECF  & 1 & 2014-06-09 & 2099\\\\\n",
       "\t4082 & 2019 & 1 & 1 & 1 & 7200387 & 1 & -8 & NA & 0 & CR & -8 & -8 & 010117200387CR0010 & 010117200387CR0 & -8      & -8 & E & Z & 1900-01-01 & 1900-01-01 & 1972-11-01 & 1972-11-01 &  1 & 1900-01-01 & -8 & NA & 0 & 21.963-M2   & 4 & 6502 & 6502 & 427 & -8           & -8 &   -8 &   -8 & -8  & -8             & -8 &   -8 &   -8 & -8  & -8             & -8 &   -8 &   -8 & -8  & -8           & -8 &   -8 &   -8 & -8  & 88888 & -8 & -8 & -8 & -8 & 2002-09-09 & 1900-01-01 & 1900-01-01 & 1900-01-01 &   0 &   0 &   0 & -8 & NA & -8 & -8          & -8 &   -8 &   -8 & -8  & -8 &  0 & -8   &  0 & -8 &  0 &  0 & -8          & -8 &   -8 &   -8 & -8  & -8 &  0 & -8 &  0 & -8 &  0 &  0 & -8          & -8 &   -8 &   -8 & -8  & -8 &  0 & -8 &  0 & -8 &  0 &  0 & -8 & -8 & -8 & -8 & -8 & -8 &  0 & -8 &  0 & -8 &  0 &  0 & -8 & -8 & -8 & -8 & -8 & -8 &  0 & -8 &  0 & -8 &  0 &  0 &  0 &  0 & 0 & 0 & 0 & 0 & 0 & 0 & 0 & 0 & 0 & 1 & 0 & MASTER & 0 & 2012-03-21 & 2099\\\\\n",
       "\t4117 & 2019 & 1 & 1 & 1 & 8900246 & 5 &  5 & NA & 0 & CR & -8 & -8 & 010118900246CR0050 & 010118900246CR0 & -8      & -8 & E & Z & 1989-10-02 & 1900-01-01 & 1989-10-02 & 1989-10-02 &  1 & 1900-01-01 & -8 & NA & 0 & 21:963=MI.F & 4 & 6502 & 6502 & 839 & 21:963=MI.F  &  4 & 6502 & 6502 & 839 & 21:841A=MD.F   &  4 & 6501 & 6501 & 239 & 21:841A=MD.F   &  4 & 6501 & 6501 & 239 & 21:841A=CM.M &  3 & 6803 & 6803 & C24 & 25025 & -8 & -8 & -8 & -8 & 1900-01-01 & 1900-01-01 & 1900-01-01 & 1900-01-01 &  -8 &  -8 &  -8 & -8 & NA & -8 & -8          & -8 &   -8 &   -8 & -8  & -8 & -8 & -8   & -8 & -8 & -8 & -8 & -8          & -8 &   -8 &   -8 & -8  & -8 & -8 & -8 & -8 & -8 & -8 & -8 & -8          & -8 &   -8 &   -8 & -8  & -8 & -8 & -8 & -8 & -8 & -8 & -8 & -8 & -8 & -8 & -8 & -8 & -8 & -8 & -8 & -8 & -8 & -8 & -8 & -8 & -8 & -8 & -8 & -8 & -8 & -8 & -8 & -8 & -8 & -8 & -8 & -8 & -8 & 0 & 0 & 0 & 0 & 0 & 0 & 0 & 0 & 0 & 1 & 0 & CMECF  & 1 & 2018-10-10 & 2099\\\\\n",
       "\t6833 & 2019 & 1 & 4 & 3 & 1700389 & 1 &  1 & NA & 0 & CR & -8 & MJ & 010431700389CR0010 & 010431700389CR0 & 1701115 &  1 & J & N & 2017-06-09 & 2017-06-12 & 2017-06-22 & 2017-06-22 &  1 & 2017-06-12 & A  & NA & 6 & 21:952=MI.F & 4 & 6502 & 6502 & 939 & 21:952=NI.F  &  4 & 6702 & 6702 & 939 & 21:846=CD.F    &  4 & 6801 & 6801 & 839 & -8             & -8 &   -8 &   -8 & -8  & -8           & -8 &   -8 &   -8 & -8  & 72001 & -8 & -8 & -8 & -8 & 1900-01-01 & 2019-04-25 & 2019-07-09 & 2019-07-09 & 600 & 280 & 750 & 3  & NA &  2 & 21:952=MI.F &  4 & 6502 & 6502 & 939 &  4 & 57 & M001 &  0 & -8 & 60 &  0 & 21:952=NI.F &  4 & 6702 & 6702 & 939 &  1 &  0 & -8 &  0 & -8 &  0 &  0 & 21:846=CD.F &  4 & 6801 & 6801 & 839 &  1 &  0 & -8 &  0 & -8 &  0 &  0 & -8 & -8 & -8 & -8 & -8 & -8 & -8 & -8 & -8 & -8 & -8 & -8 & -8 & -8 & -8 & -8 & -8 & -8 & -8 & -8 & -8 & -8 & -8 & -8 & 57 & -8 & 0 & 0 & 0 & 0 & 0 & 1 & 1 & 1 & 0 & 0 & 0 & CMECF  & 1 & 2019-08-08 & 2019\\\\\n",
       "\t6834 & 2019 & 1 & 4 & 3 & 1700389 & 2 &  2 & NA & 0 & CR & -8 & MJ & 010431700389CR0020 & 010431700389CR0 & 1701115 &  2 & J & N & 2017-06-09 & 2017-06-12 & 2017-06-22 & 2017-06-22 &  1 & 2017-06-12 & A  & NA & 1 & 21:952=MI.F & 4 & 6502 & 6502 & 939 & 21:952=NI.F  &  4 & 6702 & 6702 & 939 & 21:846=CD.F    &  4 & 6801 & 6801 & 839 & -8             & -8 &   -8 &   -8 & -8  & -8           & -8 &   -8 &   -8 & -8  & 72001 & -8 & -8 & -8 & -8 & 1900-01-01 & 2019-06-17 & 2019-09-16 & 2019-09-16 & 800 & 270 & 910 & 3  & NA &  2 & 21:952=MI.F &  4 & 6502 & 6502 & 939 &  4 & 46 & M001 &  0 & -8 & 60 &  0 & 21:952=NI.F &  4 & 6702 & 6702 & 939 &  1 &  0 & -8 &  0 & -8 &  0 &  0 & 21:846=CD.F &  4 & 6801 & 6801 & 839 &  1 &  0 & -8 &  0 & -8 &  0 &  0 & -8 & -8 & -8 & -8 & -8 & -8 & -8 & -8 & -8 & -8 & -8 & -8 & -8 & -8 & -8 & -8 & -8 & -8 & -8 & -8 & -8 & -8 & -8 & -8 & 46 & -8 & 0 & 0 & 0 & 0 & 0 & 1 & 1 & 1 & 0 & 0 & 0 & CMECF  & 2 & 2019-10-09 & 2019\\\\\n",
       "\\end{tabular}\n"
      ],
      "text/markdown": [
       "\n",
       "A data.frame: 6 × 144\n",
       "\n",
       "| <!--/--> | FISCALYR &lt;int&gt; | CIRCUIT &lt;int&gt; | DISTRICT &lt;chr&gt; | OFFICE &lt;chr&gt; | DOCKET &lt;int&gt; | DEFNO &lt;int&gt; | CTDEF &lt;int&gt; | NAME &lt;lgl&gt; | REOPSEQ &lt;int&gt; | TYPEREG &lt;fct&gt; | ⋯ ⋯ | CTTRTRN &lt;int&gt; | CTTR &lt;int&gt; | CTTRWOR &lt;int&gt; | CTTRR &lt;int&gt; | CTPN &lt;int&gt; | CTPNWOF &lt;int&gt; | SOURCE &lt;fct&gt; | VER &lt;int&gt; | LOADDATE &lt;fct&gt; | TAPEYEAR &lt;int&gt; |\n",
       "|---|---|---|---|---|---|---|---|---|---|---|---|---|---|---|---|---|---|---|---|---|---|\n",
       "| 2518 | 2019 | 1 | 0 | 2 | 1300142 | 1 |  1 | NA | 0 | CR | ⋯ | 0 | 0 | 0 | 0 | 1 | 0 | CMECF  | 2 | 2017-04-06 | 2099 |\n",
       "| 2519 | 2019 | 1 | 0 | 2 | 1300142 | 2 |  2 | NA | 0 | CR | ⋯ | 0 | 0 | 0 | 0 | 1 | 0 | CMECF  | 1 | 2014-06-09 | 2099 |\n",
       "| 4082 | 2019 | 1 | 1 | 1 | 7200387 | 1 | -8 | NA | 0 | CR | ⋯ | 0 | 0 | 0 | 0 | 1 | 0 | MASTER | 0 | 2012-03-21 | 2099 |\n",
       "| 4117 | 2019 | 1 | 1 | 1 | 8900246 | 5 |  5 | NA | 0 | CR | ⋯ | 0 | 0 | 0 | 0 | 1 | 0 | CMECF  | 1 | 2018-10-10 | 2099 |\n",
       "| 6833 | 2019 | 1 | 4 | 3 | 1700389 | 1 |  1 | NA | 0 | CR | ⋯ | 1 | 1 | 1 | 0 | 0 | 0 | CMECF  | 1 | 2019-08-08 | 2019 |\n",
       "| 6834 | 2019 | 1 | 4 | 3 | 1700389 | 2 |  2 | NA | 0 | CR | ⋯ | 1 | 1 | 1 | 0 | 0 | 0 | CMECF  | 2 | 2019-10-09 | 2019 |\n",
       "\n"
      ],
      "text/plain": [
       "     FISCALYR CIRCUIT DISTRICT OFFICE DOCKET  DEFNO CTDEF NAME REOPSEQ TYPEREG\n",
       "2518 2019     1       0        2      1300142 1      1    NA   0       CR     \n",
       "2519 2019     1       0        2      1300142 2      2    NA   0       CR     \n",
       "4082 2019     1       1        1      7200387 1     -8    NA   0       CR     \n",
       "4117 2019     1       1        1      8900246 5      5    NA   0       CR     \n",
       "6833 2019     1       4        3      1700389 1      1    NA   0       CR     \n",
       "6834 2019     1       4        3      1700389 2      2    NA   0       CR     \n",
       "     ⋯ CTTRTRN CTTR CTTRWOR CTTRR CTPN CTPNWOF SOURCE VER LOADDATE   TAPEYEAR\n",
       "2518 ⋯ 0       0    0       0     1    0       CMECF  2   2017-04-06 2099    \n",
       "2519 ⋯ 0       0    0       0     1    0       CMECF  1   2014-06-09 2099    \n",
       "4082 ⋯ 0       0    0       0     1    0       MASTER 0   2012-03-21 2099    \n",
       "4117 ⋯ 0       0    0       0     1    0       CMECF  1   2018-10-10 2099    \n",
       "6833 ⋯ 1       1    1       0     0    0       CMECF  1   2019-08-08 2019    \n",
       "6834 ⋯ 1       1    1       0     0    0       CMECF  2   2019-10-09 2019    "
      ]
     },
     "metadata": {},
     "output_type": "display_data"
    }
   ],
   "source": [
    "#Create a dataframe of MIE Cases\n",
    "\n",
    "Marijuana_MIE <- subset(cr19_df, FOFFCD1 == '6502')\n",
    "head(Marijuana_MIE)"
   ]
  },
  {
   "cell_type": "code",
   "execution_count": 41,
   "metadata": {},
   "outputs": [
    {
     "data": {
      "text/html": [
       "0"
      ],
      "text/latex": [
       "0"
      ],
      "text/markdown": [
       "0"
      ],
      "text/plain": [
       "[1] 0"
      ]
     },
     "metadata": {},
     "output_type": "display_data"
    },
    {
     "data": {
      "text/html": [
       "0"
      ],
      "text/latex": [
       "0"
      ],
      "text/markdown": [
       "0"
      ],
      "text/plain": [
       "[1] 0"
      ]
     },
     "metadata": {},
     "output_type": "display_data"
    }
   ],
   "source": [
    "##Count MIE Cases by District\n",
    "\n",
    "sum(Marijuana_MIE$DISTRICT == '90')\n",
    "sum(Marijuana_MIE$DISTRICT == '16')"
   ]
  },
  {
   "cell_type": "code",
   "execution_count": 42,
   "metadata": {},
   "outputs": [],
   "source": [
    "#We dont need a hypothesis test here"
   ]
  },
  {
   "cell_type": "code",
   "execution_count": 43,
   "metadata": {},
   "outputs": [],
   "source": [
    "#Now we will do analysis of Marijuana Manufacturing (MM)"
   ]
  },
  {
   "cell_type": "code",
   "execution_count": 44,
   "metadata": {},
   "outputs": [
    {
     "data": {
      "text/html": [
       "391"
      ],
      "text/latex": [
       "391"
      ],
      "text/markdown": [
       "391"
      ],
      "text/plain": [
       "[1] 391"
      ]
     },
     "metadata": {},
     "output_type": "display_data"
    }
   ],
   "source": [
    "#Count total MM Cases all Districts\n",
    "\n",
    "#Count total MM Cases all Districts\n",
    "\n",
    "sum(cr19_df$FOFFCD1 == '6503')"
   ]
  },
  {
   "cell_type": "code",
   "execution_count": 45,
   "metadata": {},
   "outputs": [
    {
     "data": {
      "text/html": [
       "<table>\n",
       "<caption>A data.frame: 6 × 144</caption>\n",
       "<thead>\n",
       "\t<tr><th></th><th scope=col>FISCALYR</th><th scope=col>CIRCUIT</th><th scope=col>DISTRICT</th><th scope=col>OFFICE</th><th scope=col>DOCKET</th><th scope=col>DEFNO</th><th scope=col>CTDEF</th><th scope=col>NAME</th><th scope=col>REOPSEQ</th><th scope=col>TYPEREG</th><th scope=col>⋯</th><th scope=col>CTTRTRN</th><th scope=col>CTTR</th><th scope=col>CTTRWOR</th><th scope=col>CTTRR</th><th scope=col>CTPN</th><th scope=col>CTPNWOF</th><th scope=col>SOURCE</th><th scope=col>VER</th><th scope=col>LOADDATE</th><th scope=col>TAPEYEAR</th></tr>\n",
       "\t<tr><th></th><th scope=col>&lt;int&gt;</th><th scope=col>&lt;int&gt;</th><th scope=col>&lt;chr&gt;</th><th scope=col>&lt;chr&gt;</th><th scope=col>&lt;int&gt;</th><th scope=col>&lt;int&gt;</th><th scope=col>&lt;int&gt;</th><th scope=col>&lt;lgl&gt;</th><th scope=col>&lt;int&gt;</th><th scope=col>&lt;fct&gt;</th><th scope=col>⋯</th><th scope=col>&lt;int&gt;</th><th scope=col>&lt;int&gt;</th><th scope=col>&lt;int&gt;</th><th scope=col>&lt;int&gt;</th><th scope=col>&lt;int&gt;</th><th scope=col>&lt;int&gt;</th><th scope=col>&lt;fct&gt;</th><th scope=col>&lt;int&gt;</th><th scope=col>&lt;fct&gt;</th><th scope=col>&lt;int&gt;</th></tr>\n",
       "</thead>\n",
       "<tbody>\n",
       "\t<tr><th scope=row>2312</th><td>2019</td><td>1</td><td>0</td><td>1</td><td>1200163</td><td> 4</td><td> 4</td><td>NA</td><td>0</td><td>CR</td><td>⋯</td><td>0</td><td>0</td><td>0</td><td>0</td><td>1</td><td>1</td><td>CMECF</td><td>1</td><td>2013-05-06</td><td>2099</td></tr>\n",
       "\t<tr><th scope=row>2332</th><td>2019</td><td>1</td><td>0</td><td>1</td><td>1700125</td><td> 1</td><td> 1</td><td>NA</td><td>0</td><td>CR</td><td>⋯</td><td>1</td><td>1</td><td>1</td><td>0</td><td>0</td><td>0</td><td>CMECF</td><td>1</td><td>2019-03-05</td><td>2019</td></tr>\n",
       "\t<tr><th scope=row>2333</th><td>2019</td><td>1</td><td>0</td><td>1</td><td>1700125</td><td> 2</td><td> 2</td><td>NA</td><td>0</td><td>CR</td><td>⋯</td><td>1</td><td>1</td><td>1</td><td>0</td><td>0</td><td>0</td><td>CMECF</td><td>2</td><td>2019-06-05</td><td>2019</td></tr>\n",
       "\t<tr><th scope=row>2401</th><td>2019</td><td>1</td><td>0</td><td>2</td><td>1800063</td><td>13</td><td>13</td><td>NA</td><td>0</td><td>CR</td><td>⋯</td><td>0</td><td>0</td><td>0</td><td>0</td><td>1</td><td>1</td><td>CMECF</td><td>0</td><td>2018-11-07</td><td>2099</td></tr>\n",
       "\t<tr><th scope=row>2402</th><td>2019</td><td>1</td><td>0</td><td>2</td><td>1800063</td><td>14</td><td>14</td><td>NA</td><td>0</td><td>CR</td><td>⋯</td><td>0</td><td>0</td><td>0</td><td>0</td><td>1</td><td>1</td><td>CMECF</td><td>0</td><td>2018-11-07</td><td>2099</td></tr>\n",
       "\t<tr><th scope=row>2404</th><td>2019</td><td>1</td><td>0</td><td>2</td><td>1800063</td><td>16</td><td>16</td><td>NA</td><td>0</td><td>CR</td><td>⋯</td><td>0</td><td>0</td><td>0</td><td>0</td><td>1</td><td>1</td><td>CMECF</td><td>1</td><td>2019-01-03</td><td>2099</td></tr>\n",
       "</tbody>\n",
       "</table>\n"
      ],
      "text/latex": [
       "A data.frame: 6 × 144\n",
       "\\begin{tabular}{r|llllllllllllllllllllllllllllllllllllllllllllllllllllllllllllllllllllllllllllllllllllllllllllllllllllllllllllllllllllllllllllllllllllllllllllllll}\n",
       "  & FISCALYR & CIRCUIT & DISTRICT & OFFICE & DOCKET & DEFNO & CTDEF & NAME & REOPSEQ & TYPEREG & TYPETRN & TYPEMAG & DEFLGKY & CASLGKY & MAGDOCK & MAGDEF & STATUSCD & FUGSTAT & FGSTRTDATE & FGENDDATE & FILEDATE & PROCDATE & PROCCD & APPDATE & APPCD & FJUDGE & FCOUNSEL & FTITLE1 & FOFFLVL1 & FOFFCD1 & D2FOFFCD1 & FSEV1 & FTITLE2 & FOFFLVL2 & FOFFCD2 & D2FOFFCD2 & FSEV2 & FTITLE3 & FOFFLVL3 & FOFFCD3 & D2FOFFCD3 & FSEV3 & FTITLE4 & FOFFLVL4 & FOFFCD4 & D2FOFFCD4 & FSEV4 & FTITLE5 & FOFFLVL5 & FOFFCD5 & D2FOFFCD5 & FSEV5 & COUNTY & TRANDIST & TRANOFF & TRANDOCK & TRANDEF & UPDATE & DISPDATE & SENTDATE & TERMDATE & INT1 & INT2 & INT3 & TERMOFF & TJUDGE & TCOUNSEL & TTITLE1 & TOFFLVL1 & TOFFCD1 & D2TOFFCD1 & TSEV1 & DISP1 & PRISTIM1 & PRISCD1 & PROBMON1 & PROBCD1 & SUPVREL1 & FINEAMT1 & TTITLE2 & TOFFLVL2 & TOFFCD2 & D2TOFFCD2 & TSEV2 & DISP2 & PRISTIM2 & PRISCD2 & PROBMON2 & PROBCD2 & SUPVREL2 & FINEAMT2 & TTITLE3 & TOFFLVL3 & TOFFCD3 & D2TOFFCD3 & TSEV3 & DISP3 & PRISTIM3 & PRISCD3 & PROBMON3 & PROBCD3 & SUPVREL3 & FINEAMT3 & TTITLE4 & TOFFLVL4 & TOFFCD4 & D2TOFFCD4 & TSEV4 & DISP4 & PRISTIM4 & PRISCD4 & PROBMON4 & PROBCD4 & SUPVREL4 & FINEAMT4 & TTITLE5 & TOFFLVL5 & TOFFCD5 & D2TOFFCD5 & TSEV5 & DISP5 & PRISTIM5 & PRISCD5 & PROBMON5 & PROBCD5 & SUPVREL5 & FINEAMT5 & PRISTOT & PROBTOT & FINETOT & CTFILTRN & CTFIL & CTFILWOR & CTFILR & CTTRTRN & CTTR & CTTRWOR & CTTRR & CTPN & CTPNWOF & SOURCE & VER & LOADDATE & TAPEYEAR\\\\\n",
       "  & <int> & <int> & <chr> & <chr> & <int> & <int> & <int> & <lgl> & <int> & <fct> & <fct> & <fct> & <fct> & <fct> & <fct> & <int> & <fct> & <fct> & <fct> & <fct> & <fct> & <fct> & <int> & <fct> & <fct> & <lgl> & <int> & <fct> & <int> & <int> & <int> & <fct> & <fct> & <int> & <int> & <int> & <fct> & <fct> & <int> & <int> & <int> & <fct> & <fct> & <int> & <int> & <int> & <fct> & <fct> & <int> & <int> & <int> & <fct> & <int> & <chr> & <int> & <int> & <int> & <fct> & <fct> & <fct> & <fct> & <int> & <int> & <int> & <chr> & <lgl> & <int> & <fct> & <int> & <int> & <int> & <fct> & <int> & <int> & <fct> & <int> & <fct> & <int> & <int> & <fct> & <int> & <int> & <int> & <fct> & <int> & <int> & <fct> & <int> & <fct> & <int> & <int> & <fct> & <int> & <int> & <int> & <fct> & <int> & <int> & <fct> & <int> & <fct> & <int> & <int> & <fct> & <int> & <int> & <int> & <fct> & <int> & <int> & <fct> & <int> & <fct> & <int> & <int> & <fct> & <int> & <int> & <int> & <fct> & <int> & <int> & <fct> & <int> & <fct> & <int> & <int> & <int> & <int> & <int> & <int> & <int> & <int> & <int> & <int> & <int> & <int> & <int> & <int> & <int> & <fct> & <int> & <fct> & <int>\\\\\n",
       "\\hline\n",
       "\t2312 & 2019 & 1 & 0 & 1 & 1200163 &  4 &  4 & NA & 0 & CR & -8 & -8 & 010011200163CR0040 & 010011200163CR0 & -8 & -8 & E & N & 1900-01-01 & 1900-01-01 & 2012-09-14 & 2012-09-14 &  1 & 2012-09-26 & 1 & NA & 1 & 21:841A=MM.F & 4 & 6503 & 6503 & 239 & 21:856=MM.F &  4 & 6503 & 6503 & 529 & 21:856=MM.F &  4 & 6503 & 6503 & 529 & 18:922G.F &  4 & 7830 & 7820 & 409 & 18:922G.F &  4 & 7830 & 7820 & 409 & 23027 & -8 & -8 & -8 & -8 & 1900-01-01 & 1900-01-01 & 1900-01-01 & 1900-01-01 & -8 &  -8 &  -8 & -8 & NA & -8 & -8           & -8 &   -8 &   -8 & -8  & -8 & -8 & -8   & -8 & -8 & -8 & -8 & -8        & -8 &   -8 &   -8 & -8  & -8 & -8 & -8   & -8 & -8 & -8 & -8 & -8          & -8 &   -8 &   -8 & -8  & -8 & -8 & -8 & -8 & -8 & -8 & -8 & -8        & -8 &   -8 &   -8 & -8  & -8 & -8 & -8 & -8 & -8 & -8 & -8 & -8        & -8 &   -8 &   -8 & -8  & -8 & -8 & -8 & -8 & -8 & -8 & -8 & -8 & -8 & 0 & 0 & 0 & 0 & 0 & 0 & 0 & 0 & 0 & 1 & 1 & CMECF & 1 & 2013-05-06 & 2099\\\\\n",
       "\t2332 & 2019 & 1 & 0 & 1 & 1700125 &  1 &  1 & NA & 0 & CR & -8 & -8 & 010011700125CR0010 & 010011700125CR0 & -8 & -8 & J & N & 1900-01-01 & 1900-01-01 & 2017-09-14 & 2017-09-14 & 19 & 2017-09-26 & 1 & NA & 0 & 21:841A=MM.F & 4 & 6503 & 6503 & 239 & 21:856=MM.F &  4 & 6503 & 6503 & 529 & 31:5324.F   &  4 & 9907 & 9907 & 319 & 31:5324.F &  4 & 9907 & 9907 & 319 & -8        & -8 &   -8 &   -8 & -8  & 23019 & -8 & -8 & -8 & -8 & 1900-01-01 & 2018-06-18 & 2019-02-12 & 2019-02-12 &  0 & 240 & 239 & 1  & NA &  2 & 21:841A=MM.F &  4 & 6503 & 6503 & 239 &  4 & 20 & C001 &  0 & -8 & 36 &  0 & 31:5324.F &  4 & 9907 & 9907 & 319 &  4 & 20 & C001 &  0 & -8 & 36 &  0 & 21:856=MM.F &  4 & 6503 & 6503 & 529 &  1 &  0 & -8 &  0 & -8 &  0 &  0 & 31:5324.F &  4 & 9907 & 9907 & 319 &  1 &  0 & -8 &  0 & -8 &  0 &  0 & 31:5324.F &  4 & 9907 & 9907 & 319 &  1 &  0 & -8 &  0 & -8 &  0 &  0 & 20 & -8 & 0 & 0 & 0 & 0 & 0 & 1 & 1 & 1 & 0 & 0 & 0 & CMECF & 1 & 2019-03-05 & 2019\\\\\n",
       "\t2333 & 2019 & 1 & 0 & 1 & 1700125 &  2 &  2 & NA & 0 & CR & -8 & -8 & 010011700125CR0020 & 010011700125CR0 & -8 & -8 & J & N & 2017-09-14 & 2017-09-22 & 2017-09-14 & 2017-09-14 & 19 & 2017-09-22 & 1 & NA & 3 & 21:841A=MM.F & 4 & 6503 & 6503 & 239 & -8          & -8 &   -8 &   -8 & -8  & -8          & -8 &   -8 &   -8 & -8  & -8        & -8 &   -8 &   -8 & -8  & -8        & -8 &   -8 &   -8 & -8  & 23019 & -8 & -8 & -8 & -8 & 1900-01-01 & 2018-06-28 & 2019-02-12 & 2019-02-12 &  0 & 300 & 229 & 1  & NA &  1 & 21:841A=MM.F &  4 & 6503 & 6503 & 239 &  4 & 13 & M001 &  0 & -8 & 36 &  0 & -8        & -8 &   -8 &   -8 & -8  & -8 & -8 & -8   & -8 & -8 & -8 & -8 & -8          & -8 &   -8 &   -8 & -8  & -8 & -8 & -8 & -8 & -8 & -8 & -8 & -8        & -8 &   -8 &   -8 & -8  & -8 & -8 & -8 & -8 & -8 & -8 & -8 & -8        & -8 &   -8 &   -8 & -8  & -8 & -8 & -8 & -8 & -8 & -8 & -8 & 13 & -8 & 0 & 0 & 0 & 0 & 0 & 1 & 1 & 1 & 0 & 0 & 0 & CMECF & 2 & 2019-06-05 & 2019\\\\\n",
       "\t2401 & 2019 & 1 & 0 & 2 & 1800063 & 13 & 13 & NA & 0 & CR & -8 & -8 & 010021800063CR0130 & 010021800063CR0 & -8 & -8 & E & N & 1900-01-01 & 1900-01-01 & 2018-04-27 & 2018-10-05 &  1 & 2018-10-25 & 1 & NA & 0 & 21:841A=MM.F & 4 & 6503 & 6503 & 239 & 21:856=MD.F &  4 & 6501 & 6501 & 529 & -8          & -8 &   -8 &   -8 & -8  & -8        & -8 &   -8 &   -8 & -8  & -8        & -8 &   -8 &   -8 & -8  & 23001 & -8 & -8 & -8 & -8 & 1900-01-01 & 1900-01-01 & 1900-01-01 & 1900-01-01 & -8 &  -8 &  -8 & -8 & NA & -8 & -8           & -8 &   -8 &   -8 & -8  & -8 & -8 & -8   & -8 & -8 & -8 & -8 & -8        & -8 &   -8 &   -8 & -8  & -8 & -8 & -8   & -8 & -8 & -8 & -8 & -8          & -8 &   -8 &   -8 & -8  & -8 & -8 & -8 & -8 & -8 & -8 & -8 & -8        & -8 &   -8 &   -8 & -8  & -8 & -8 & -8 & -8 & -8 & -8 & -8 & -8        & -8 &   -8 &   -8 & -8  & -8 & -8 & -8 & -8 & -8 & -8 & -8 & -8 & -8 & 0 & 1 & 1 & 1 & 0 & 0 & 0 & 0 & 0 & 1 & 1 & CMECF & 0 & 2018-11-07 & 2099\\\\\n",
       "\t2402 & 2019 & 1 & 0 & 2 & 1800063 & 14 & 14 & NA & 0 & CR & -8 & -8 & 010021800063CR0140 & 010021800063CR0 & -8 & -8 & E & N & 1900-01-01 & 1900-01-01 & 2018-04-27 & 2018-10-05 &  1 & 2018-10-25 & 1 & NA & 0 & 21:841A=MM.F & 4 & 6503 & 6503 & 239 & 21:856=MD.F &  4 & 6501 & 6501 & 529 & -8          & -8 &   -8 &   -8 & -8  & -8        & -8 &   -8 &   -8 & -8  & -8        & -8 &   -8 &   -8 & -8  & 23001 & -8 & -8 & -8 & -8 & 1900-01-01 & 1900-01-01 & 1900-01-01 & 1900-01-01 & -8 &  -8 &  -8 & -8 & NA & -8 & -8           & -8 &   -8 &   -8 & -8  & -8 & -8 & -8   & -8 & -8 & -8 & -8 & -8        & -8 &   -8 &   -8 & -8  & -8 & -8 & -8   & -8 & -8 & -8 & -8 & -8          & -8 &   -8 &   -8 & -8  & -8 & -8 & -8 & -8 & -8 & -8 & -8 & -8        & -8 &   -8 &   -8 & -8  & -8 & -8 & -8 & -8 & -8 & -8 & -8 & -8        & -8 &   -8 &   -8 & -8  & -8 & -8 & -8 & -8 & -8 & -8 & -8 & -8 & -8 & 0 & 1 & 1 & 1 & 0 & 0 & 0 & 0 & 0 & 1 & 1 & CMECF & 0 & 2018-11-07 & 2099\\\\\n",
       "\t2404 & 2019 & 1 & 0 & 2 & 1800063 & 16 & 16 & NA & 0 & CR & -8 & -8 & 010021800063CR0160 & 010021800063CR0 & -8 & -8 & E & N & 1900-01-01 & 1900-01-01 & 2018-04-27 & 2018-10-05 &  1 & 2018-11-08 & 1 & NA & 0 & 21:841A=MM.F & 4 & 6503 & 6503 & 239 & 21:856=MD.F &  4 & 6501 & 6501 & 529 & -8          & -8 &   -8 &   -8 & -8  & -8        & -8 &   -8 &   -8 & -8  & -8        & -8 &   -8 &   -8 & -8  & 23001 & -8 & -8 & -8 & -8 & 1900-01-01 & 1900-01-01 & 1900-01-01 & 1900-01-01 & -8 &  -8 &  -8 & -8 & NA & -8 & -8           & -8 &   -8 &   -8 & -8  & -8 & -8 & -8   & -8 & -8 & -8 & -8 & -8        & -8 &   -8 &   -8 & -8  & -8 & -8 & -8   & -8 & -8 & -8 & -8 & -8          & -8 &   -8 &   -8 & -8  & -8 & -8 & -8 & -8 & -8 & -8 & -8 & -8        & -8 &   -8 &   -8 & -8  & -8 & -8 & -8 & -8 & -8 & -8 & -8 & -8        & -8 &   -8 &   -8 & -8  & -8 & -8 & -8 & -8 & -8 & -8 & -8 & -8 & -8 & 0 & 1 & 1 & 1 & 0 & 0 & 0 & 0 & 0 & 1 & 1 & CMECF & 1 & 2019-01-03 & 2099\\\\\n",
       "\\end{tabular}\n"
      ],
      "text/markdown": [
       "\n",
       "A data.frame: 6 × 144\n",
       "\n",
       "| <!--/--> | FISCALYR &lt;int&gt; | CIRCUIT &lt;int&gt; | DISTRICT &lt;chr&gt; | OFFICE &lt;chr&gt; | DOCKET &lt;int&gt; | DEFNO &lt;int&gt; | CTDEF &lt;int&gt; | NAME &lt;lgl&gt; | REOPSEQ &lt;int&gt; | TYPEREG &lt;fct&gt; | ⋯ ⋯ | CTTRTRN &lt;int&gt; | CTTR &lt;int&gt; | CTTRWOR &lt;int&gt; | CTTRR &lt;int&gt; | CTPN &lt;int&gt; | CTPNWOF &lt;int&gt; | SOURCE &lt;fct&gt; | VER &lt;int&gt; | LOADDATE &lt;fct&gt; | TAPEYEAR &lt;int&gt; |\n",
       "|---|---|---|---|---|---|---|---|---|---|---|---|---|---|---|---|---|---|---|---|---|---|\n",
       "| 2312 | 2019 | 1 | 0 | 1 | 1200163 |  4 |  4 | NA | 0 | CR | ⋯ | 0 | 0 | 0 | 0 | 1 | 1 | CMECF | 1 | 2013-05-06 | 2099 |\n",
       "| 2332 | 2019 | 1 | 0 | 1 | 1700125 |  1 |  1 | NA | 0 | CR | ⋯ | 1 | 1 | 1 | 0 | 0 | 0 | CMECF | 1 | 2019-03-05 | 2019 |\n",
       "| 2333 | 2019 | 1 | 0 | 1 | 1700125 |  2 |  2 | NA | 0 | CR | ⋯ | 1 | 1 | 1 | 0 | 0 | 0 | CMECF | 2 | 2019-06-05 | 2019 |\n",
       "| 2401 | 2019 | 1 | 0 | 2 | 1800063 | 13 | 13 | NA | 0 | CR | ⋯ | 0 | 0 | 0 | 0 | 1 | 1 | CMECF | 0 | 2018-11-07 | 2099 |\n",
       "| 2402 | 2019 | 1 | 0 | 2 | 1800063 | 14 | 14 | NA | 0 | CR | ⋯ | 0 | 0 | 0 | 0 | 1 | 1 | CMECF | 0 | 2018-11-07 | 2099 |\n",
       "| 2404 | 2019 | 1 | 0 | 2 | 1800063 | 16 | 16 | NA | 0 | CR | ⋯ | 0 | 0 | 0 | 0 | 1 | 1 | CMECF | 1 | 2019-01-03 | 2099 |\n",
       "\n"
      ],
      "text/plain": [
       "     FISCALYR CIRCUIT DISTRICT OFFICE DOCKET  DEFNO CTDEF NAME REOPSEQ TYPEREG\n",
       "2312 2019     1       0        1      1200163  4     4    NA   0       CR     \n",
       "2332 2019     1       0        1      1700125  1     1    NA   0       CR     \n",
       "2333 2019     1       0        1      1700125  2     2    NA   0       CR     \n",
       "2401 2019     1       0        2      1800063 13    13    NA   0       CR     \n",
       "2402 2019     1       0        2      1800063 14    14    NA   0       CR     \n",
       "2404 2019     1       0        2      1800063 16    16    NA   0       CR     \n",
       "     ⋯ CTTRTRN CTTR CTTRWOR CTTRR CTPN CTPNWOF SOURCE VER LOADDATE   TAPEYEAR\n",
       "2312 ⋯ 0       0    0       0     1    1       CMECF  1   2013-05-06 2099    \n",
       "2332 ⋯ 1       1    1       0     0    0       CMECF  1   2019-03-05 2019    \n",
       "2333 ⋯ 1       1    1       0     0    0       CMECF  2   2019-06-05 2019    \n",
       "2401 ⋯ 0       0    0       0     1    1       CMECF  0   2018-11-07 2099    \n",
       "2402 ⋯ 0       0    0       0     1    1       CMECF  0   2018-11-07 2099    \n",
       "2404 ⋯ 0       0    0       0     1    1       CMECF  1   2019-01-03 2099    "
      ]
     },
     "metadata": {},
     "output_type": "display_data"
    }
   ],
   "source": [
    "#Create a dataframe of MM Cases\n",
    "\n",
    "Marijuana_MM <- subset(cr19_df, FOFFCD1 == '6503')\n",
    "head(Marijuana_MM)"
   ]
  },
  {
   "cell_type": "code",
   "execution_count": 46,
   "metadata": {},
   "outputs": [
    {
     "data": {
      "text/html": [
       "0"
      ],
      "text/latex": [
       "0"
      ],
      "text/markdown": [
       "0"
      ],
      "text/plain": [
       "[1] 0"
      ]
     },
     "metadata": {},
     "output_type": "display_data"
    },
    {
     "data": {
      "text/html": [
       "0"
      ],
      "text/latex": [
       "0"
      ],
      "text/markdown": [
       "0"
      ],
      "text/plain": [
       "[1] 0"
      ]
     },
     "metadata": {},
     "output_type": "display_data"
    }
   ],
   "source": [
    "##Count MM Cases by District\n",
    "\n",
    "sum(Marijuana_MM$DISTRICT == '90')\n",
    "sum(Marijuana_MM$DISTRICT == '16')"
   ]
  },
  {
   "cell_type": "code",
   "execution_count": 47,
   "metadata": {},
   "outputs": [],
   "source": [
    "#Proportions are 0, no need for hypothesis test"
   ]
  },
  {
   "cell_type": "code",
   "execution_count": 48,
   "metadata": {},
   "outputs": [],
   "source": [
    "#Now we analyze Marijuana Records, Rxs, Fraudulent Rx (MRRF) cases"
   ]
  },
  {
   "cell_type": "code",
   "execution_count": 49,
   "metadata": {},
   "outputs": [
    {
     "data": {
      "text/html": [
       "0"
      ],
      "text/latex": [
       "0"
      ],
      "text/markdown": [
       "0"
      ],
      "text/plain": [
       "[1] 0"
      ]
     },
     "metadata": {},
     "output_type": "display_data"
    }
   ],
   "source": [
    "##Count total MRRF Cases all Districts\n",
    "\n",
    "sum(cr19_df$FOFFCD1 == '6505')"
   ]
  },
  {
   "cell_type": "code",
   "execution_count": 50,
   "metadata": {},
   "outputs": [],
   "source": [
    "#No need for further analysis of MRRF cases (because there are none)"
   ]
  },
  {
   "cell_type": "code",
   "execution_count": 41,
   "metadata": {},
   "outputs": [],
   "source": []
  },
  {
   "cell_type": "code",
   "execution_count": null,
   "metadata": {},
   "outputs": [],
   "source": []
  }
 ],
 "metadata": {
  "kernelspec": {
   "display_name": "R",
   "language": "R",
   "name": "ir"
  },
  "language_info": {
   "codemirror_mode": "r",
   "file_extension": ".r",
   "mimetype": "text/x-r-source",
   "name": "R",
   "pygments_lexer": "r",
   "version": "3.6.1"
  }
 },
 "nbformat": 4,
 "nbformat_minor": 4
}
